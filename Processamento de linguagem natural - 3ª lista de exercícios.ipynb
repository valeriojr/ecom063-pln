{
 "cells": [
  {
   "cell_type": "markdown",
   "metadata": {},
   "source": [
    "Universidade Federal de Alagoas\n",
    "\n",
    "IC - Instituto de Computação\n",
    "\n",
    " \n",
    "\n",
    "# Processamento de linguagem natural - 2020.1\n",
    "**Professor**: Thales Vieira\n",
    "\n",
    "**Alunos**: Hugo Tallys Martins Oliveira e Valério Nogueira Rodrigues Júnior\n",
    "\n",
    "\n",
    "## 3ª lista de exercícios\n",
    "\n",
    "---"
   ]
  },
  {
   "cell_type": "code",
   "execution_count": 8,
   "metadata": {},
   "outputs": [
    {
     "data": {
      "text/html": [
       "<style>\n",
       "    a:link, a:visited {\n",
       "        color: white;\n",
       "        font-weight: bold;\n",
       "        text-decoration: underline;\n",
       "    }\n",
       "    code {\n",
       "        padding: 2px;\n",
       "        color: blue;\n",
       "    }\n",
       "    .w-half {\n",
       "        width: 50%;\n",
       "    }\n",
       "    .left {\n",
       "        float: left;\n",
       "    }\n",
       "    .right {\n",
       "        float: right;\n",
       "    }\n",
       "    .col {\n",
       "        height: 100%;\n",
       "        padding-left: 16px;\n",
       "        padding-right: 16px;\n",
       "        padding-top: 8px;\n",
       "        padding-bottom: 8px;\n",
       "\n",
       "    }\n",
       "    .better {\n",
       "        color: white;\n",
       "        background-color: #5cb85c;\n",
       "    }\n",
       "    .worse {\n",
       "        color: black;\n",
       "        background-color: ;\n",
       "    }\n",
       "</style>\n"
      ],
      "text/plain": [
       "<IPython.core.display.HTML object>"
      ]
     },
     "metadata": {},
     "output_type": "display_data"
    }
   ],
   "source": [
    "%%html\n",
    "<style>\n",
    "    a:link, a:visited {\n",
    "        color: white;\n",
    "        font-weight: bold;\n",
    "        text-decoration: underline;\n",
    "    }\n",
    "    code {\n",
    "        padding: 2px;\n",
    "        color: blue;\n",
    "    }\n",
    "    .w-half {\n",
    "        width: 50%;\n",
    "    }\n",
    "    .left {\n",
    "        float: left;\n",
    "    }\n",
    "    .right {\n",
    "        float: right;\n",
    "    }\n",
    "    .col {\n",
    "        height: 100%;\n",
    "        padding-left: 16px;\n",
    "        padding-right: 16px;\n",
    "        padding-top: 8px;\n",
    "        padding-bottom: 8px;\n",
    "\n",
    "    }\n",
    "    .better {\n",
    "        color: white;\n",
    "        background-color: #5cb85c;\n",
    "    }\n",
    "    .worse {\n",
    "        color: black;\n",
    "        background-color: ;\n",
    "    }\n",
    "</style>"
   ]
  },
  {
   "cell_type": "markdown",
   "metadata": {},
   "source": [
    "<div style=\"color: #856404; background-color: #ffeeba; padding: 16px; border: 1px solid transparent; border-radius: .25rem\">\n",
    "    ⚠️ O <code>jupyter</code> deve ser iniciado no diretório que contém a pasta <code>data</code>\n",
    "</div>"
   ]
  },
  {
   "cell_type": "code",
   "execution_count": 1,
   "metadata": {},
   "outputs": [],
   "source": [
    "import random\n",
    "\n",
    "from IPython.core.display import display, HTML\n",
    "import numpy\n",
    "import pandas\n",
    "from sklearn.metrics.pairwise import cosine_similarity\n",
    "from sklearn.feature_extraction.text import CountVectorizer, TfidfVectorizer"
   ]
  },
  {
   "cell_type": "markdown",
   "metadata": {},
   "source": [
    "# Os Dados\n",
    "Notícias dos sites www.bbc.co.uk (350) e www.cnn.com.br (1275) sobre o novo coronavírus. Cada arquivo contém as seguintes colunas:\n",
    "- ```url```: Endereço da notícia\n",
    "- ```title```: Título da notícia\n",
    "- ```text```: Texto da notícia\n",
    "\n",
    "As colunas são separadas por `|`"
   ]
  },
  {
   "cell_type": "code",
   "execution_count": 9,
   "metadata": {},
   "outputs": [
    {
     "data": {
      "text/html": [
       "<div>\n",
       "<style scoped>\n",
       "    .dataframe tbody tr th:only-of-type {\n",
       "        vertical-align: middle;\n",
       "    }\n",
       "\n",
       "    .dataframe tbody tr th {\n",
       "        vertical-align: top;\n",
       "    }\n",
       "\n",
       "    .dataframe thead th {\n",
       "        text-align: right;\n",
       "    }\n",
       "</style>\n",
       "<table border=\"1\" class=\"dataframe\">\n",
       "  <thead>\n",
       "    <tr style=\"text-align: right;\">\n",
       "      <th></th>\n",
       "      <th>url</th>\n",
       "      <th>title</th>\n",
       "      <th>text</th>\n",
       "    </tr>\n",
       "  </thead>\n",
       "  <tbody>\n",
       "    <tr>\n",
       "      <th>0</th>\n",
       "      <td>https://www.bbc.co.uk/portuguese/brasil-53020785</td>\n",
       "      <td>Coronavírus: pandemia pode jogar até 14 milhõe...</td>\n",
       "      <td>A turbulência econômica causada pela pandemi...</td>\n",
       "    </tr>\n",
       "    <tr>\n",
       "      <th>1</th>\n",
       "      <td>https://www.bbc.co.uk/portuguese/brasil-53027318</td>\n",
       "      <td>Coronavírus: como funcionam as duas vacinas co...</td>\n",
       "      <td>Cerca de 11 mil voluntários brasileiros vão ...</td>\n",
       "    </tr>\n",
       "    <tr>\n",
       "      <th>2</th>\n",
       "      <td>https://www.bbc.co.uk/portuguese/brasil-51713943</td>\n",
       "      <td>Coronavírus: Brasil passa o Reino Unido e se t...</td>\n",
       "      <td>*atualizada às 18h20 de 12 de junho de 2020 ...</td>\n",
       "    </tr>\n",
       "    <tr>\n",
       "      <th>3</th>\n",
       "      <td>https://www.bbc.co.uk/portuguese/internacional...</td>\n",
       "      <td>Coronavírus na Índia: com lockdown 'insustentá...</td>\n",
       "      <td>Quando, em 24 de março, o governo indiano in...</td>\n",
       "    </tr>\n",
       "    <tr>\n",
       "      <th>4</th>\n",
       "      <td>https://www.bbc.co.uk/portuguese/internacional...</td>\n",
       "      <td>2ª onda do coronavírus? Irã vê aumento acelera...</td>\n",
       "      <td>O Irã registrou um rápido aumento no número ...</td>\n",
       "    </tr>\n",
       "  </tbody>\n",
       "</table>\n",
       "</div>"
      ],
      "text/plain": [
       "                                                 url  \\\n",
       "0   https://www.bbc.co.uk/portuguese/brasil-53020785   \n",
       "1   https://www.bbc.co.uk/portuguese/brasil-53027318   \n",
       "2   https://www.bbc.co.uk/portuguese/brasil-51713943   \n",
       "3  https://www.bbc.co.uk/portuguese/internacional...   \n",
       "4  https://www.bbc.co.uk/portuguese/internacional...   \n",
       "\n",
       "                                               title  \\\n",
       "0  Coronavírus: pandemia pode jogar até 14 milhõe...   \n",
       "1  Coronavírus: como funcionam as duas vacinas co...   \n",
       "2  Coronavírus: Brasil passa o Reino Unido e se t...   \n",
       "3  Coronavírus na Índia: com lockdown 'insustentá...   \n",
       "4  2ª onda do coronavírus? Irã vê aumento acelera...   \n",
       "\n",
       "                                                text  \n",
       "0    A turbulência econômica causada pela pandemi...  \n",
       "1    Cerca de 11 mil voluntários brasileiros vão ...  \n",
       "2    *atualizada às 18h20 de 12 de junho de 2020 ...  \n",
       "3    Quando, em 24 de março, o governo indiano in...  \n",
       "4    O Irã registrou um rápido aumento no número ...  "
      ]
     },
     "execution_count": 9,
     "metadata": {},
     "output_type": "execute_result"
    }
   ],
   "source": [
    "# Carregando dados\n",
    "bbc = pandas.read_csv('data/bbc.csv', sep='|')\n",
    "cnn = pandas.read_csv('data/cnn.csv', sep='|')\n",
    "dataset = pandas.concat([bbc, cnn])\n",
    "\n",
    "# Limpeza\n",
    "def remove_boilerplate(text):\n",
    "    boilerplate = ['Compartilhe este post com Email Facebook Messenger Messenger Twitter WhatsApp LinkedIn Copiar este link Estes são links externos e abrirão numa nova janela', 'Já assistiu aos nossos novos vídeos no YouTube? Inscreva-se no nosso canal!', 'Final de YouTube post  de BBC News Brasil Final de YouTube post 2 de BBC News Brasil Final de YouTube post 3 de BBC News Brasil']\n",
    "    \n",
    "    for b in boilerplate:\n",
    "      text = text.replace(b, '')\n",
    "\n",
    "    return text\n",
    "\n",
    "dataset.replace(numpy.nan, '', inplace=True)\n",
    "dataset.text = dataset.text.apply(lambda text: text.replace('\\n', ' '))\n",
    "dataset.text = dataset.text.apply(remove_boilerplate)\n",
    "\n",
    "dataset.head()"
   ]
  },
  {
   "cell_type": "code",
   "execution_count": 10,
   "metadata": {},
   "outputs": [],
   "source": [
    "tfidf_X = TfidfVectorizer().fit_transform(dataset.text)\n",
    "count_X = CountVectorizer().fit_transform(dataset.text)\n",
    "\n",
    "tfidf_similarity_matrix = cosine_similarity(tfidf_X)\n",
    "count_similarity_matrix = cosine_similarity(count_X)\n",
    "\n",
    "numpy.fill_diagonal(tfidf_similarity_matrix, 0.0)\n",
    "numpy.fill_diagonal(count_similarity_matrix, 0.0)\n",
    "\n",
    "result = [\n",
    "    {\n",
    "        'doc': dataset.iloc[i],\n",
    "        'tfidf_similar_doc': dataset.iloc[tfidf_similarity_matrix[i, :].argmax()],\n",
    "        'tfidf_similarity': tfidf_similarity_matrix[i, :].max(),\n",
    "        'count_similar_doc': dataset.iloc[count_similarity_matrix[i, :].argmax()],\n",
    "        'count_similarity': count_similarity_matrix[i, :].max(),\n",
    "    }\n",
    "    for i in [random.randint(0, len(dataset)) for _ in range(10)]]\n",
    "        \n",
    "    "
   ]
  },
  {
   "cell_type": "code",
   "execution_count": 11,
   "metadata": {},
   "outputs": [
    {
     "data": {
      "text/html": [
       "\n",
       "    <div style=\"margin: 8px; border: 1px solid lightgray\">\n",
       "        <div style=\"text-align: center;background-color: whitesmoke;padding: 8px\"><a href=\"https://www.cnnbrasil.com.br/business/2020/03/30/johnson-johnson-fara-testes-em-humanos-de-vacina-contra-covid-19-ate-setembro\">Johnson & Johnson testará vacina contra coronavírus em humanos até setembro</a></div>\n",
       "        <div>\n",
       "            <div class=\"left w-half\">\n",
       "                <div class=\"col worse\">\n",
       "                    <div><strong>TfidfVectorizer: </strong>0.4225</div>\n",
       "                    <div><a href=\"https://www.cnnbrasil.com.br/saude/2020/06/08/veja-tudo-que-se-sabe-sobre-as-vacinas-contra-o-novo-coronavirus\">Veja o que já se sabe sobre as vacinas contra o novo coronavírus</a> <span>Enquanto o novo coronavírus continua se espalhando e matando milhares de pessoas ao redor do mundo, todos esperam por uma vacina que seja eficiente contra a doença. Mas detalhes e cronogramas sobre uma possível prevenção mudam constantemente. Saiba onde estamos na corrida por uma...</span></div>\n",
       "                </div>\n",
       "            </div>\n",
       "            <div class=\"right w-half\">\n",
       "                <div class=\"col better\">\n",
       "                <div><strong>CountVectorizer: </strong>0.6970</div>\n",
       "                <div><a href=\"https://www.bbc.co.uk/portuguese/internacional-52238530\">Coronavírus: como o mundo desperdiçou a chance de produzir vacina para conter a pandemia - BBC News Brasil</a> <span>  Em 2002, na Província chinesa de Guangzhou, um vírus desconhecido causou o surto de uma doença potencialmente letal. Os cientistas chamaram de Sars (sigla em inglês para síndrome respiratória aguda grave). Mais tarde, descobriu-se que o patógeno causador da doença é um coronaví...</span></div>\n",
       "                </div>\n",
       "            </div>\n",
       "        </div>\n",
       "    </div>\n",
       "    "
      ],
      "text/plain": [
       "<IPython.core.display.HTML object>"
      ]
     },
     "metadata": {},
     "output_type": "display_data"
    },
    {
     "data": {
      "text/html": [
       "\n",
       "    <div style=\"margin: 8px; border: 1px solid lightgray\">\n",
       "        <div style=\"text-align: center;background-color: whitesmoke;padding: 8px\"><a href=\"https://www.bbc.co.uk/portuguese/brasil-52554336\">'Parece uma cidade após a guerra': brasileiros em Wuhan descrevem recomeço em primeiro epicentro do coronavírus - BBC News Brasil</a></div>\n",
       "        <div>\n",
       "            <div class=\"left w-half\">\n",
       "                <div class=\"col worse\">\n",
       "                    <div><strong>TfidfVectorizer: </strong>0.4556</div>\n",
       "                    <div><a href=\"https://www.cnnbrasil.com.br/saude/2020/04/06/o-que-e-o-novo-coronavirus-e-o-que-ele-esta-causando-no-brasil-e-no-mundo\">O que é o novo coronavírus e o que ele está causando no Brasil e no mundo</a> <span>O novo coronavírus tem espalhado pânico pelo mundo e causado transtornos nos setores turístico e econômico de diversos países. Até a segunda semana de abril, mais de 64,5 mil pessoas haviam morrido por causa da doença e mais de 1 milhão estavam infectadas. A Organização Mundial d...</span></div>\n",
       "                </div>\n",
       "            </div>\n",
       "            <div class=\"right w-half\">\n",
       "                <div class=\"col better\">\n",
       "                <div><strong>CountVectorizer: </strong>0.8586</div>\n",
       "                <div><a href=\"https://www.bbc.co.uk/portuguese/internacional-52141910\">As lições de três eventos catalisadores do novo coronavírus na Europa - BBC News Brasil</a> <span>  Apesar do tom mais moderado em pronunciamento sobre a pandemia de covid-19 na terça-feira (31/3), o presidente Jair Bolsonaro (sem partido) demonstrou nas últimas semanas sua preferência pelo fim do isolamento da maior parte da população.  Em meio a atritos com governadores que...</span></div>\n",
       "                </div>\n",
       "            </div>\n",
       "        </div>\n",
       "    </div>\n",
       "    "
      ],
      "text/plain": [
       "<IPython.core.display.HTML object>"
      ]
     },
     "metadata": {},
     "output_type": "display_data"
    },
    {
     "data": {
      "text/html": [
       "\n",
       "    <div style=\"margin: 8px; border: 1px solid lightgray\">\n",
       "        <div style=\"text-align: center;background-color: whitesmoke;padding: 8px\"><a href=\"https://www.cnnbrasil.com.br/politica/2020/03/16/comitiva-de-bolsonaro-em-viagem-aos-eua-tem-10-membros-com-coronavirus\">Comitiva de Bolsonaro em viagem aos EUA tem 10 membros com coronavírus</a></div>\n",
       "        <div>\n",
       "            <div class=\"left w-half\">\n",
       "                <div class=\"col worse\">\n",
       "                    <div><strong>TfidfVectorizer: </strong>0.5494</div>\n",
       "                    <div><a href=\"https://www.cnnbrasil.com.br/politica/2020/03/15/apos-viagem-aos-eua-adjunto-de-wajngarten-tambem-esta-com-coronavirus\">Após viagem aos EUA, adjunto de Wajngarten também está com coronavírus</a> <span>Liberman é adjunto do secretário de Comunicação da Presidência, Fábio Wajngarten, que foi diagnosticado com o coronavírus na semana passada. Ambos faziam parte comitiva brasileira que acompanhou o presidente Jair Bolsonaro (sem partido) em recente viagem oficial aos EUA. Liberman...</span></div>\n",
       "                </div>\n",
       "            </div>\n",
       "            <div class=\"right w-half\">\n",
       "                <div class=\"col better\">\n",
       "                <div><strong>CountVectorizer: </strong>0.7448</div>\n",
       "                <div><a href=\"https://www.cnnbrasil.com.br/nacional/2020/03/20/comitiva-que-viajou-com-bolsonaro-aos-eua-tem-22-infectados-com-coronavirus\">Comitiva que viajou com Bolsonaro aos EUA tem 22 infectados com coronavírus</a> <span>Chegou a 22 o número de integrantes da comitiva do presidente, Jair Bolsonaro, em viagem aos Estados Unidos, infectados com o novo coronavírus.  Foram confirmados, nessa quinta-feira (19), os resultados positivos do assessor internacional da Presidência, Filipe Martins; do chefe ...</span></div>\n",
       "                </div>\n",
       "            </div>\n",
       "        </div>\n",
       "    </div>\n",
       "    "
      ],
      "text/plain": [
       "<IPython.core.display.HTML object>"
      ]
     },
     "metadata": {},
     "output_type": "display_data"
    },
    {
     "data": {
      "text/html": [
       "\n",
       "    <div style=\"margin: 8px; border: 1px solid lightgray\">\n",
       "        <div style=\"text-align: center;background-color: whitesmoke;padding: 8px\"><a href=\"https://www.bbc.co.uk/portuguese/internacional-52224252\">Coronavírus: ‘Tive de usar saco plástico na cabeça’: médicos brasileiros relatam precariedade em hospitais na Espanha - BBC News Brasil</a></div>\n",
       "        <div>\n",
       "            <div class=\"left w-half\">\n",
       "                <div class=\"col worse\">\n",
       "                    <div><strong>TfidfVectorizer: </strong>0.4481</div>\n",
       "                    <div><a href=\"https://www.bbc.co.uk/portuguese/brasil-52802249\">Coronavírus: o que está por trás da 'explosão' de mortes em casa em meio à pandemia de covid-19 - BBC News Brasil</a> <span>  Em um único plantão, uma médica do Samu (Serviço do Atendimento Móvel de Urgência) em Manaus chegou a atestar cinco mortes por covid-19 de pessoas que morreram em suas próprias casas.  \"Era muita coisa. Antes disso, eu não costumava constatar nenhum óbito (doméstico) no meu pla...</span></div>\n",
       "                </div>\n",
       "            </div>\n",
       "            <div class=\"right w-half\">\n",
       "                <div class=\"col better\">\n",
       "                <div><strong>CountVectorizer: </strong>0.8897</div>\n",
       "                <div><a href=\"https://www.bbc.co.uk/portuguese/brasil-52802249\">Coronavírus: o que está por trás da 'explosão' de mortes em casa em meio à pandemia de covid-19 - BBC News Brasil</a> <span>  Em um único plantão, uma médica do Samu (Serviço do Atendimento Móvel de Urgência) em Manaus chegou a atestar cinco mortes por covid-19 de pessoas que morreram em suas próprias casas.  \"Era muita coisa. Antes disso, eu não costumava constatar nenhum óbito (doméstico) no meu pla...</span></div>\n",
       "                </div>\n",
       "            </div>\n",
       "        </div>\n",
       "    </div>\n",
       "    "
      ],
      "text/plain": [
       "<IPython.core.display.HTML object>"
      ]
     },
     "metadata": {},
     "output_type": "display_data"
    },
    {
     "data": {
      "text/html": [
       "\n",
       "    <div style=\"margin: 8px; border: 1px solid lightgray\">\n",
       "        <div style=\"text-align: center;background-color: whitesmoke;padding: 8px\"><a href=\"https://www.cnnbrasil.com.br/internacional/2020/03/28/estados-unidos-registram-primeira-morte-de-bebe-pelo-coronavirus\">Estados Unidos registram primeira morte de bebê pelo coronavírus</a></div>\n",
       "        <div>\n",
       "            <div class=\"left w-half\">\n",
       "                <div class=\"col worse\">\n",
       "                    <div><strong>TfidfVectorizer: </strong>0.2479</div>\n",
       "                    <div><a href=\"https://www.cnnbrasil.com.br/nacional/2020/04/09/bebe-de-10-meses-e-curada-do-coronavirus-e-recebe-alta-apos-16-dias-em-hospital\">Bebê de 10 meses é curada do coronavírus e recebe alta após 16 dias em hospital</a> <span>Diagnosticada com o novo coronavírus, uma bebê de dez meses se recuperou e teve alta, na noite de quarta-feira (8), após ficar internada no Hospital de Clínicas, em Porto Alegre (RS). Nascida prematura, a menina tem uma síndrome rara que causa complicações para respirar e passou ...</span></div>\n",
       "                </div>\n",
       "            </div>\n",
       "            <div class=\"right w-half\">\n",
       "                <div class=\"col better\">\n",
       "                <div><strong>CountVectorizer: </strong>0.6353</div>\n",
       "                <div><a href=\"https://www.bbc.co.uk/portuguese/internacional-52806218\">Citada como exemplo por Bolsonaro, estratégia da Suécia contra coronavírus não serve para o Brasil, diz responsável por plano - BBC News Brasil</a> <span>  Face pública da controversa estratégia local de combate à pandemia do novo coronavírus, o epidemiologista-chefe da Suécia, Anders Tegnell, diz que não adotaria a mesma abordagem no Brasil caso estivesse no comando da gestão da crise no país sul-americano. \"Não. É preciso sempre...</span></div>\n",
       "                </div>\n",
       "            </div>\n",
       "        </div>\n",
       "    </div>\n",
       "    "
      ],
      "text/plain": [
       "<IPython.core.display.HTML object>"
      ]
     },
     "metadata": {},
     "output_type": "display_data"
    },
    {
     "data": {
      "text/html": [
       "\n",
       "    <div style=\"margin: 8px; border: 1px solid lightgray\">\n",
       "        <div style=\"text-align: center;background-color: whitesmoke;padding: 8px\"><a href=\"https://www.bbc.co.uk/portuguese/geral-52955588\">Coronavírus: os cientistas que tentam prever qual pode ser a próxima pandemia - BBC News Brasil</a></div>\n",
       "        <div>\n",
       "            <div class=\"left w-half\">\n",
       "                <div class=\"col worse\">\n",
       "                    <div><strong>TfidfVectorizer: </strong>0.3610</div>\n",
       "                    <div><a href=\"https://www.bbc.co.uk/portuguese/geral-52967280\">Coronavírus: o que os cientistas já descobriram sobre a covid-19 nos seus 6 primeiros meses - BBC News Brasil</a> <span>  Apesar de um esforço internacional sem precedentes, o novo coronavírus, denominado Sars-CoV-2, continua avançando e infectando milhares de pessoas por dia. Seis meses depois de detectados os primeiros casos de covid-19, o que os cientistas já descobriram sobre como conter a doe...</span></div>\n",
       "                </div>\n",
       "            </div>\n",
       "            <div class=\"right w-half\">\n",
       "                <div class=\"col better\">\n",
       "                <div><strong>CountVectorizer: </strong>0.8371</div>\n",
       "                <div><a href=\"https://www.bbc.co.uk/portuguese/geral-52909844\">Efeitos colaterais do coronavírus: as mortes 'ocultas' causadas pela covid-19 - BBC News Brasil</a> <span>   Emile Ouamouno, de dois anos, gostava de brincar dentro de uma grande árvore oca, perto de sua casa em Meliandou — um vilarejo no coração da selva da Guiné, no oeste da África. Mas outros seres vivos também descobriram o ambiente aconchegante da árvore: os morcegos. As criança...</span></div>\n",
       "                </div>\n",
       "            </div>\n",
       "        </div>\n",
       "    </div>\n",
       "    "
      ],
      "text/plain": [
       "<IPython.core.display.HTML object>"
      ]
     },
     "metadata": {},
     "output_type": "display_data"
    },
    {
     "data": {
      "text/html": [
       "\n",
       "    <div style=\"margin: 8px; border: 1px solid lightgray\">\n",
       "        <div style=\"text-align: center;background-color: whitesmoke;padding: 8px\"><a href=\"https://www.cnnbrasil.com.br/politica/2020/03/15/idosos-bolsonaristas-dizem-nao-temer-coronavirus-em-manifestacao-em-sp\">Idosos bolsonaristas dizem não temer coronavírus em manifestação em SP</a></div>\n",
       "        <div>\n",
       "            <div class=\"left w-half\">\n",
       "                <div class=\"col worse\">\n",
       "                    <div><strong>TfidfVectorizer: </strong>0.5116</div>\n",
       "                    <div><a href=\"https://www.cnnbrasil.com.br/politica/2020/03/15/apesar-de-coronavirus-atos-pro-governo-ocorrem-no-pais\">Apesar de coronavírus, atos pró-governo ocorrem no país</a> <span>Na capital federal, o grupo de apoio ao governo começou a se reunir por volta das 10 horas da manhã no Museu Nacional. Ao longo da passeata, eles deram duas voltas pelo Eixo Monumental até o Congresso, fechando os dois lados da avenida. Por volta de meio-dia, o presidente Jair Bo...</span></div>\n",
       "                </div>\n",
       "            </div>\n",
       "            <div class=\"right w-half\">\n",
       "                <div class=\"col better\">\n",
       "                <div><strong>CountVectorizer: </strong>0.8071</div>\n",
       "                <div><a href=\"https://www.bbc.co.uk/portuguese/brasil-52988173\">Como Fortaleza se tornou a área com maior mortalidade por covid-19 do Brasil - BBC News Brasil</a> <span>  José Ivan Martins Guedes morreu com suspeita de covid-19 no último dia 11 de maio à espera de um leito de UTI — público ou privado.  Três dias antes, ele havia sido admitido com muita falta de ar em uma Unidade de Pronto Atendimento (UPA) em Fortaleza. Era 8 de maio, e a capita...</span></div>\n",
       "                </div>\n",
       "            </div>\n",
       "        </div>\n",
       "    </div>\n",
       "    "
      ],
      "text/plain": [
       "<IPython.core.display.HTML object>"
      ]
     },
     "metadata": {},
     "output_type": "display_data"
    },
    {
     "data": {
      "text/html": [
       "\n",
       "    <div style=\"margin: 8px; border: 1px solid lightgray\">\n",
       "        <div style=\"text-align: center;background-color: whitesmoke;padding: 8px\"><a href=\"https://www.bbc.co.uk/portuguese/internacional-52584143\">Como o Vietnã conseguiu vencer o coronavírus, apesar do sistema de saúde precário - BBC News Brasil</a></div>\n",
       "        <div>\n",
       "            <div class=\"left w-half\">\n",
       "                <div class=\"col worse\">\n",
       "                    <div><strong>TfidfVectorizer: </strong>0.5042</div>\n",
       "                    <div><a href=\"https://www.bbc.co.uk/portuguese/brasil-52595760\">Coronavírus: 10 gráficos para entender a situação atual do Brasil na pandemia - BBC News Brasil</a> <span>  Em 12 de maio, o Brasil registrou 9,3 mil novos casos de covid-19, totalizando 177 mil notificações e 12,4 mil mortes. Mas o que esses e outros dados significam e revelam sobre a realidade da doença no Brasil? E como eles se comparam a outros países?  A BBC News Brasil reuniu d...</span></div>\n",
       "                </div>\n",
       "            </div>\n",
       "            <div class=\"right w-half\">\n",
       "                <div class=\"col better\">\n",
       "                <div><strong>CountVectorizer: </strong>0.8867</div>\n",
       "                <div><a href=\"https://www.bbc.co.uk/portuguese/brasil-52595760\">Coronavírus: 10 gráficos para entender a situação atual do Brasil na pandemia - BBC News Brasil</a> <span>  Em 12 de maio, o Brasil registrou 9,3 mil novos casos de covid-19, totalizando 177 mil notificações e 12,4 mil mortes. Mas o que esses e outros dados significam e revelam sobre a realidade da doença no Brasil? E como eles se comparam a outros países?  A BBC News Brasil reuniu d...</span></div>\n",
       "                </div>\n",
       "            </div>\n",
       "        </div>\n",
       "    </div>\n",
       "    "
      ],
      "text/plain": [
       "<IPython.core.display.HTML object>"
      ]
     },
     "metadata": {},
     "output_type": "display_data"
    },
    {
     "data": {
      "text/html": [
       "\n",
       "    <div style=\"margin: 8px; border: 1px solid lightgray\">\n",
       "        <div style=\"text-align: center;background-color: whitesmoke;padding: 8px\"><a href=\"https://www.bbc.co.uk/portuguese/brasil-52655692\">Coronavírus: Sem ventilador, paciente morreu 'roxo por falta de ar em frente a equipe' - o caos descrito por médicos em Pernambuco - BBC News Brasil</a></div>\n",
       "        <div>\n",
       "            <div class=\"left w-half\">\n",
       "                <div class=\"col worse\">\n",
       "                    <div><strong>TfidfVectorizer: </strong>0.4974</div>\n",
       "                    <div><a href=\"https://www.bbc.co.uk/portuguese/brasil-52496785\">Coronavírus no Maranhão: casos de covid-19 se multiplicam e pobreza dificulta combate à doença - BBC News Brasil</a> <span>   O maranhense Edson Pinheiro dos Reis, 51 anos, trabalha todos os dias há mais de 30 anos na feira do bairro de Fátima, próximo ao centro de São Luís (MA), onde vende carnes no açougue que funciona em uma das 100 bancas no local. Por ali, em tempos mais normais, estima-se que c...</span></div>\n",
       "                </div>\n",
       "            </div>\n",
       "            <div class=\"right w-half\">\n",
       "                <div class=\"col better\">\n",
       "                <div><strong>CountVectorizer: </strong>0.8869</div>\n",
       "                <div><a href=\"https://www.bbc.co.uk/portuguese/brasil-52496785\">Coronavírus no Maranhão: casos de covid-19 se multiplicam e pobreza dificulta combate à doença - BBC News Brasil</a> <span>   O maranhense Edson Pinheiro dos Reis, 51 anos, trabalha todos os dias há mais de 30 anos na feira do bairro de Fátima, próximo ao centro de São Luís (MA), onde vende carnes no açougue que funciona em uma das 100 bancas no local. Por ali, em tempos mais normais, estima-se que c...</span></div>\n",
       "                </div>\n",
       "            </div>\n",
       "        </div>\n",
       "    </div>\n",
       "    "
      ],
      "text/plain": [
       "<IPython.core.display.HTML object>"
      ]
     },
     "metadata": {},
     "output_type": "display_data"
    },
    {
     "data": {
      "text/html": [
       "\n",
       "    <div style=\"margin: 8px; border: 1px solid lightgray\">\n",
       "        <div style=\"text-align: center;background-color: whitesmoke;padding: 8px\"><a href=\"https://www.cnnbrasil.com.br/saude/2020/04/13/brasil-ja-tem-12-capitais-em-emergencia-para-coronavirus-diz-ministerio\">Brasil já tem 12 capitais em 'emergência' para coronavírus, diz ministério</a></div>\n",
       "        <div>\n",
       "            <div class=\"left w-half\">\n",
       "                <div class=\"col worse\">\n",
       "                    <div><strong>TfidfVectorizer: </strong>0.4401</div>\n",
       "                    <div><a href=\"https://www.bbc.co.uk/portuguese/brasil-52595760\">Coronavírus: 10 gráficos para entender a situação atual do Brasil na pandemia - BBC News Brasil</a> <span>  Em 12 de maio, o Brasil registrou 9,3 mil novos casos de covid-19, totalizando 177 mil notificações e 12,4 mil mortes. Mas o que esses e outros dados significam e revelam sobre a realidade da doença no Brasil? E como eles se comparam a outros países?  A BBC News Brasil reuniu d...</span></div>\n",
       "                </div>\n",
       "            </div>\n",
       "            <div class=\"right w-half\">\n",
       "                <div class=\"col better\">\n",
       "                <div><strong>CountVectorizer: </strong>0.8155</div>\n",
       "                <div><a href=\"https://www.bbc.co.uk/portuguese/brasil-52643096\">Coronavírus: o avanço silencioso da covid-19 em frigoríficos do Brasil - BBC News Brasil</a> <span>  O Rio Grande do Sul registrou surtos de covid-19 em pelo menos 12 frigoríficos.  Já são quase 250 casos confirmados entre funcionários e cerca de 20 mil trabalhadores expostos, segundo o último boletim epidemiológico divulgado pela Secretaria de Saúde. O rápido aumento de infec...</span></div>\n",
       "                </div>\n",
       "            </div>\n",
       "        </div>\n",
       "    </div>\n",
       "    "
      ],
      "text/plain": [
       "<IPython.core.display.HTML object>"
      ]
     },
     "metadata": {},
     "output_type": "display_data"
    }
   ],
   "source": [
    "for r in result:\n",
    "    header = r['doc'].title if r['doc'].title != '' else r['doc'].text[:140] + '...'\n",
    "    news_content = '<a href=\"%(link)s\">%(title)s</a> <span>%(head)s</span>'\n",
    "    result_class = lambda vectorizer, r: 'better' if r[vectorizer + '_similarity'] > r[('tfidf' if vectorizer == 'count' else 'count') + '_similarity'] else 'worse' \n",
    "    head_length = 280\n",
    "    \n",
    "    tfidf_content = news_content % ({\n",
    "        'link': r['tfidf_similar_doc'].url, \n",
    "        'title':  r['tfidf_similar_doc'].url if r['tfidf_similar_doc'].title == '' else r['tfidf_similar_doc'].title,\n",
    "        'head': r['tfidf_similar_doc'].text[:head_length] + '...',\n",
    "    })\n",
    "    count_content = news_content % ({\n",
    "        'link': r['count_similar_doc'].url, \n",
    "        'title':  r['count_similar_doc'].url if r['count_similar_doc'].title == '' else r['count_similar_doc'].title,\n",
    "        'head': r['count_similar_doc'].text[:head_length] + '...',\n",
    "    })\n",
    "    \n",
    "    \n",
    "    display(HTML('''\n",
    "    <div style=\"margin: 8px; border: 1px solid lightgray\">\n",
    "        <div style=\"text-align: center;background-color: whitesmoke;padding: 8px\"><a href=\"''' + r['doc'].url + '''\">''' + header + '''</a></div>\n",
    "        <div>\n",
    "            <div class=\"left w-half\">\n",
    "                <div class=\"col ''' + result_class('tfidf', r) + '''\">\n",
    "                    <div><strong>TfidfVectorizer: </strong>''' + str(r['tfidf_similarity'])[:6] + '''</div>\n",
    "                    <div>''' + tfidf_content + '''</div>\n",
    "                </div>\n",
    "            </div>\n",
    "            <div class=\"right w-half\">\n",
    "                <div class=\"col ''' + result_class('count', r) + '''\">\n",
    "                <div><strong>CountVectorizer: </strong>''' + str(r['count_similarity'])[:6] + '''</div>\n",
    "                <div>''' + count_content + '''</div>\n",
    "                </div>\n",
    "            </div>\n",
    "        </div>\n",
    "    </div>\n",
    "    '''))"
   ]
  },
  {
   "cell_type": "code",
   "execution_count": null,
   "metadata": {},
   "outputs": [],
   "source": []
  }
 ],
 "metadata": {
  "kernelspec": {
   "display_name": "Python 3",
   "language": "python",
   "name": "python3"
  },
  "language_info": {
   "codemirror_mode": {
    "name": "ipython",
    "version": 3
   },
   "file_extension": ".py",
   "mimetype": "text/x-python",
   "name": "python",
   "nbconvert_exporter": "python",
   "pygments_lexer": "ipython3",
   "version": "3.6.9"
  }
 },
 "nbformat": 4,
 "nbformat_minor": 4
}
