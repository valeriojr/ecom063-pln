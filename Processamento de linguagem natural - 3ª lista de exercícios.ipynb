{
 "cells": [
  {
   "cell_type": "markdown",
   "metadata": {},
   "source": [
    "Universidade Federal de Alagoas\n",
    "\n",
    "IC - Instituto de Computação\n",
    "\n",
    "# Processamento de linguagem natural - 2020.1\n",
    "\n",
    "**Professor**: Thales Vieira\n",
    "\n",
    "**Alunos**: Hugo Tallys Martins Oliveira e Valério Nogueira Rodrigues Júnior\n",
    "\n",
    "## 3ª lista de exercícios\n",
    "\n",
    "---"
   ]
  },
  {
   "cell_type": "code",
   "execution_count": 1,
   "metadata": {
    "jupyter": {
     "source_hidden": true
    }
   },
   "outputs": [
    {
     "data": {
      "text/html": [
       "<style>\n",
       "    a:link, a:visited {\n",
       "        color: white;\n",
       "        font-weight: bold;\n",
       "        text-decoration: underline;\n",
       "    }\n",
       "    code {\n",
       "        padding: 2px;\n",
       "        color: blue;\n",
       "    }\n",
       "    .w-half {\n",
       "        width: 50%;\n",
       "    }\n",
       "    .left {\n",
       "        float: left;\n",
       "    }\n",
       "    .right {\n",
       "        float: right;\n",
       "    }\n",
       "    .col {\n",
       "        height: 100%;\n",
       "        padding-left: 16px;\n",
       "        padding-right: 16px;\n",
       "        padding-top: 8px;\n",
       "        padding-bottom: 8px;\n",
       "\n",
       "    }\n",
       "    .better {\n",
       "        color: white;\n",
       "        background-color: #5cb85c;\n",
       "    }\n",
       "    .worse {\n",
       "        color: black;\n",
       "        background-color: ;\n",
       "    }\n",
       "</style>\n"
      ],
      "text/plain": [
       "<IPython.core.display.HTML object>"
      ]
     },
     "metadata": {},
     "output_type": "display_data"
    }
   ],
   "source": [
    "%%html\n",
    "<style>\n",
    "    a:link, a:visited {\n",
    "        color: white;\n",
    "        font-weight: bold;\n",
    "        text-decoration: underline;\n",
    "    }\n",
    "    code {\n",
    "        padding: 2px;\n",
    "        color: blue;\n",
    "    }\n",
    "    .w-half {\n",
    "        width: 50%;\n",
    "    }\n",
    "    .left {\n",
    "        float: left;\n",
    "    }\n",
    "    .right {\n",
    "        float: right;\n",
    "    }\n",
    "    .col {\n",
    "        height: 100%;\n",
    "        padding-left: 16px;\n",
    "        padding-right: 16px;\n",
    "        padding-top: 8px;\n",
    "        padding-bottom: 8px;\n",
    "\n",
    "    }\n",
    "    .better {\n",
    "        color: white;\n",
    "        background-color: #5cb85c;\n",
    "    }\n",
    "    .worse {\n",
    "        color: black;\n",
    "        background-color: ;\n",
    "    }\n",
    "</style>"
   ]
  },
  {
   "cell_type": "markdown",
   "metadata": {},
   "source": [
    "<div style=\"color: #856404; background-color: #ffeeba; padding: 16px; border: 1px solid transparent; border-radius: .25rem\">\n",
    "    ⚠️ O <code>jupyter</code> deve ser iniciado no diretório que contém a pasta <code>data</code>\n",
    "</div>"
   ]
  },
  {
   "cell_type": "code",
   "execution_count": 2,
   "metadata": {},
   "outputs": [],
   "source": [
    "import re\n",
    "import random\n",
    "\n",
    "from IPython.core.display import display, HTML\n",
    "import numpy\n",
    "import pandas\n",
    "from sklearn.metrics.pairwise import cosine_similarity\n",
    "from sklearn.feature_extraction.text import CountVectorizer, TfidfVectorizer"
   ]
  },
  {
   "cell_type": "markdown",
   "metadata": {},
   "source": [
    "# Os Dados\n",
    "Notícias dos sites www.bbc.co.uk (350) e www.cnn.com.br (1275) sobre o novo coronavírus. Cada arquivo contém as seguintes colunas:\n",
    "- ```url```: Endereço da notícia\n",
    "- ```title```: Título da notícia\n",
    "- ```text```: Texto da notícia\n",
    "\n",
    "As colunas são separadas por `|`"
   ]
  },
  {
   "cell_type": "code",
   "execution_count": 3,
   "metadata": {},
   "outputs": [
    {
     "data": {
      "text/html": [
       "<div>\n",
       "<style scoped>\n",
       "    .dataframe tbody tr th:only-of-type {\n",
       "        vertical-align: middle;\n",
       "    }\n",
       "\n",
       "    .dataframe tbody tr th {\n",
       "        vertical-align: top;\n",
       "    }\n",
       "\n",
       "    .dataframe thead th {\n",
       "        text-align: right;\n",
       "    }\n",
       "</style>\n",
       "<table border=\"1\" class=\"dataframe\">\n",
       "  <thead>\n",
       "    <tr style=\"text-align: right;\">\n",
       "      <th></th>\n",
       "      <th>url</th>\n",
       "      <th>title</th>\n",
       "      <th>text</th>\n",
       "      <th>label</th>\n",
       "    </tr>\n",
       "  </thead>\n",
       "  <tbody>\n",
       "    <tr>\n",
       "      <th>0</th>\n",
       "      <td>https://www.bbc.co.uk/portuguese/brasil-53020785</td>\n",
       "      <td>Coronavírus: pandemia pode jogar até 14 milhõe...</td>\n",
       "      <td>a turbulência econômica causada pela pandemi...</td>\n",
       "      <td>BBC</td>\n",
       "    </tr>\n",
       "    <tr>\n",
       "      <th>1</th>\n",
       "      <td>https://www.bbc.co.uk/portuguese/brasil-53027318</td>\n",
       "      <td>Coronavírus: como funcionam as duas vacinas co...</td>\n",
       "      <td>cerca de 11 mil voluntários brasileiros vão ...</td>\n",
       "      <td>BBC</td>\n",
       "    </tr>\n",
       "    <tr>\n",
       "      <th>2</th>\n",
       "      <td>https://www.bbc.co.uk/portuguese/brasil-51713943</td>\n",
       "      <td>Coronavírus: Brasil passa o Reino Unido e se t...</td>\n",
       "      <td>*atualizada às 18h20 de 12 de junho de 2020 ...</td>\n",
       "      <td>BBC</td>\n",
       "    </tr>\n",
       "    <tr>\n",
       "      <th>3</th>\n",
       "      <td>https://www.bbc.co.uk/portuguese/internacional...</td>\n",
       "      <td>Coronavírus na Índia: com lockdown 'insustentá...</td>\n",
       "      <td>quando, em 24 de março, o governo indiano in...</td>\n",
       "      <td>BBC</td>\n",
       "    </tr>\n",
       "    <tr>\n",
       "      <th>4</th>\n",
       "      <td>https://www.bbc.co.uk/portuguese/internacional...</td>\n",
       "      <td>2ª onda do coronavírus? Irã vê aumento acelera...</td>\n",
       "      <td>o irã registrou um rápido aumento no número ...</td>\n",
       "      <td>BBC</td>\n",
       "    </tr>\n",
       "  </tbody>\n",
       "</table>\n",
       "</div>"
      ],
      "text/plain": [
       "                                                 url  \\\n",
       "0   https://www.bbc.co.uk/portuguese/brasil-53020785   \n",
       "1   https://www.bbc.co.uk/portuguese/brasil-53027318   \n",
       "2   https://www.bbc.co.uk/portuguese/brasil-51713943   \n",
       "3  https://www.bbc.co.uk/portuguese/internacional...   \n",
       "4  https://www.bbc.co.uk/portuguese/internacional...   \n",
       "\n",
       "                                               title  \\\n",
       "0  Coronavírus: pandemia pode jogar até 14 milhõe...   \n",
       "1  Coronavírus: como funcionam as duas vacinas co...   \n",
       "2  Coronavírus: Brasil passa o Reino Unido e se t...   \n",
       "3  Coronavírus na Índia: com lockdown 'insustentá...   \n",
       "4  2ª onda do coronavírus? Irã vê aumento acelera...   \n",
       "\n",
       "                                                text label  \n",
       "0    a turbulência econômica causada pela pandemi...   BBC  \n",
       "1    cerca de 11 mil voluntários brasileiros vão ...   BBC  \n",
       "2    *atualizada às 18h20 de 12 de junho de 2020 ...   BBC  \n",
       "3    quando, em 24 de março, o governo indiano in...   BBC  \n",
       "4    o irã registrou um rápido aumento no número ...   BBC  "
      ]
     },
     "execution_count": 3,
     "metadata": {},
     "output_type": "execute_result"
    }
   ],
   "source": [
    "# Carregando dados\n",
    "bbc = pandas.read_csv('data/bbc.csv', sep='|')\n",
    "bbc['label'] = 'BBC'\n",
    "cnn = pandas.read_csv('data/cnn.csv', sep='|')\n",
    "cnn['label'] = 'CNN'\n",
    "cnn = cnn.dropna(axis=0)\n",
    "dataset = pandas.concat([bbc, cnn], ignore_index=True)\n",
    "\n",
    "# Limpeza\n",
    "def remove_boilerplate(text):\n",
    "    boilerplate = ['Compartilhe este post com Email Facebook Messenger Messenger Twitter WhatsApp LinkedIn Copiar este link Estes são links externos e abrirão numa nova janela', 'Já assistiu aos nossos novos vídeos no YouTube? Inscreva-se no nosso canal!', 'Final de YouTube post  de BBC News Brasil Final de YouTube post 2 de BBC News Brasil Final de YouTube post 3 de BBC News Brasil']\n",
    "    \n",
    "    for b in boilerplate:\n",
    "      text = text.replace(b, '')\n",
    "\n",
    "    return text\n",
    "\n",
    "dataset.replace(numpy.nan, '', inplace=True)\n",
    "dataset.text = dataset.text.apply(lambda text: text.replace('\\n', ' '))\n",
    "dataset.text = dataset.text.apply(remove_boilerplate)\n",
    "dataset.text = dataset.text.apply(lambda text: text.lower().replace('bbc', '').replace('cnn', ''))\n",
    "\n",
    "dataset.head()"
   ]
  },
  {
   "cell_type": "code",
   "execution_count": 4,
   "metadata": {},
   "outputs": [],
   "source": [
    "tfidf_X = TfidfVectorizer().fit_transform(dataset.text)\n",
    "count_X = CountVectorizer().fit_transform(dataset.text)\n",
    "\n",
    "tfidf_similarity_matrix = cosine_similarity(tfidf_X)\n",
    "count_similarity_matrix = cosine_similarity(count_X)\n",
    "\n",
    "numpy.fill_diagonal(tfidf_similarity_matrix, 0.0)\n",
    "numpy.fill_diagonal(count_similarity_matrix, 0.0)\n",
    "\n",
    "result = [\n",
    "    {\n",
    "        'doc': dataset.iloc[i],\n",
    "        'tfidf_similar_doc': dataset.iloc[tfidf_similarity_matrix[i, :].argmax()],\n",
    "        'tfidf_similarity': tfidf_similarity_matrix[i, :].max(),\n",
    "        'count_similar_doc': dataset.iloc[count_similarity_matrix[i, :].argmax()],\n",
    "        'count_similarity': count_similarity_matrix[i, :].max(),\n",
    "    }\n",
    "    for i in [random.randint(0, len(dataset)) for _ in range(10)]\n",
    "]    "
   ]
  },
  {
   "cell_type": "code",
   "execution_count": 5,
   "metadata": {},
   "outputs": [
    {
     "data": {
      "text/html": [
       "\n",
       "    <div style=\"margin: 8px; border: 1px solid lightgray\">\n",
       "        <div style=\"text-align: center;background-color: whitesmoke;padding: 8px\"><a href=\"https://www.bbc.co.uk/portuguese/internacional-52450510\">Coronavírus: 'Era uma tortura assistir à sua luta’: médica relata angústia de ver filho de 4 anos com covid-19 - BBC News Brasil</a></div>\n",
       "        <div>\n",
       "            <div class=\"left w-half\">\n",
       "                <div class=\"col worse\">\n",
       "                    <div><strong>TfidfVectorizer: </strong>0.6060</div>\n",
       "                    <div><a href=\"https://www.bbc.co.uk/portuguese/internacional-52465275\">Coronavírus: mãe revela luta de menino de 4 anos internado com covid-19 - BBC News Brasil</a> <span>a pediatra americana anna zimmermann, de 44 anos, está acostumada a cuidar de crianças doentes.  ela atua em uma uti neonatal em denver, no colorado, e relata histórias de superação dos bebês e de suas famílias em um site e um podcast. mas, nos últimos dias, zimmermann decidiu fa...</span></div>\n",
       "                </div>\n",
       "            </div>\n",
       "            <div class=\"right w-half\">\n",
       "                <div class=\"col better\">\n",
       "                <div><strong>CountVectorizer: </strong>0.8516</div>\n",
       "                <div><a href=\"https://www.bbc.co.uk/portuguese/brasil-52301406\">Coronavírus no Brasil: enfermeiro de UTI e médico adoecem juntos: 'Fez exame comigo. Quando vi, tinha falecido' - BBC News Brasil</a> <span>   marcos estava internado na uti onde ele mesmo havia trabalhado dias antes. do seu leito, via colegas e amigos cuidando dele e de outros pacientes com covid-19, a doença causada pelo coronavírus. enfermeiro intensivista, como são chamados os profissionais das unidades de terapi...</span></div>\n",
       "                </div>\n",
       "            </div>\n",
       "        </div>\n",
       "    </div>\n",
       "    "
      ],
      "text/plain": [
       "<IPython.core.display.HTML object>"
      ]
     },
     "metadata": {},
     "output_type": "display_data"
    },
    {
     "data": {
      "text/html": [
       "\n",
       "    <div style=\"margin: 8px; border: 1px solid lightgray\">\n",
       "        <div style=\"text-align: center;background-color: whitesmoke;padding: 8px\"><a href=\"https://www.cnnbrasil.com.br/saude/2020/03/23/como-falar-com-as-criancas-sobre-os-riscos-do-coronavirus\">Como falar com as crianças sobre os riscos do coronavírus</a></div>\n",
       "        <div>\n",
       "            <div class=\"left w-half\">\n",
       "                <div class=\"col worse\">\n",
       "                    <div><strong>TfidfVectorizer: </strong>0.4956</div>\n",
       "                    <div><a href=\"https://www.cnnbrasil.com.br/saude/2020/03/17/medico-explica-sinais-de-alerta-e-prevencao-do-coronavirus-em-criancas\">Médico explica sinais de alerta e prevenção do coronavírus em crianças</a> <span>o médico jair leme jr, integrante da coordenação do fórum de portadores de patologias do estado de são paulo (foppesp), explicou à , nesta terça-feira (17), quais são os sinais de alerta e como prevenir a doença em crianças. na segunda-feira (16), a organização mundial de saúde (...</span></div>\n",
       "                </div>\n",
       "            </div>\n",
       "            <div class=\"right w-half\">\n",
       "                <div class=\"col better\">\n",
       "                <div><strong>CountVectorizer: </strong>0.7773</div>\n",
       "                <div><a href=\"https://www.cnnbrasil.com.br/saude/2020/03/17/medico-explica-sinais-de-alerta-e-prevencao-do-coronavirus-em-criancas\">Médico explica sinais de alerta e prevenção do coronavírus em crianças</a> <span>o médico jair leme jr, integrante da coordenação do fórum de portadores de patologias do estado de são paulo (foppesp), explicou à , nesta terça-feira (17), quais são os sinais de alerta e como prevenir a doença em crianças. na segunda-feira (16), a organização mundial de saúde (...</span></div>\n",
       "                </div>\n",
       "            </div>\n",
       "        </div>\n",
       "    </div>\n",
       "    "
      ],
      "text/plain": [
       "<IPython.core.display.HTML object>"
      ]
     },
     "metadata": {},
     "output_type": "display_data"
    },
    {
     "data": {
      "text/html": [
       "\n",
       "    <div style=\"margin: 8px; border: 1px solid lightgray\">\n",
       "        <div style=\"text-align: center;background-color: whitesmoke;padding: 8px\"><a href=\"https://www.bbc.co.uk/portuguese/geral-52502096\">Coronavírus: o médico de 98 anos que continua atendendo, apesar da pandemia - BBC News Brasil</a></div>\n",
       "        <div>\n",
       "            <div class=\"left w-half\">\n",
       "                <div class=\"col worse\">\n",
       "                    <div><strong>TfidfVectorizer: </strong>0.3504</div>\n",
       "                    <div><a href=\"https://www.bbc.co.uk/portuguese/geral-52469624\">Coronavírus: 'fantasmas' patrulham as ruas para manter pessoas em casa na Indonésia - BBC News Brasil</a> <span>na província de java, na indonésia, alguns vilarejos estão recebendo uma ajuda de \"outro mundo\" na luta contra o coronavírus. voluntários se fantasiam de fantasmas para assustar as pessoas - ou, pelo menos, lembrá-las da quarentena - e fazer com que elas fiquem em casa. mas não s...</span></div>\n",
       "                </div>\n",
       "            </div>\n",
       "            <div class=\"right w-half\">\n",
       "                <div class=\"col better\">\n",
       "                <div><strong>CountVectorizer: </strong>0.7252</div>\n",
       "                <div><a href=\"https://www.bbc.co.uk/portuguese/brasil-52496785\">Coronavírus no Maranhão: casos de covid-19 se multiplicam e pobreza dificulta combate à doença - BBC News Brasil</a> <span>   o maranhense edson pinheiro dos reis, 51 anos, trabalha todos os dias há mais de 30 anos na feira do bairro de fátima, próximo ao centro de são luís (ma), onde vende carnes no açougue que funciona em uma das 100 bancas no local. por ali, em tempos mais normais, estima-se que c...</span></div>\n",
       "                </div>\n",
       "            </div>\n",
       "        </div>\n",
       "    </div>\n",
       "    "
      ],
      "text/plain": [
       "<IPython.core.display.HTML object>"
      ]
     },
     "metadata": {},
     "output_type": "display_data"
    },
    {
     "data": {
      "text/html": [
       "\n",
       "    <div style=\"margin: 8px; border: 1px solid lightgray\">\n",
       "        <div style=\"text-align: center;background-color: whitesmoke;padding: 8px\"><a href=\"https://www.bbc.co.uk/portuguese/internacional-52136748\">Que países e territórios ainda não têm casos confirmados de coronavírus? - BBC News Brasil</a></div>\n",
       "        <div>\n",
       "            <div class=\"left w-half\">\n",
       "                <div class=\"col worse\">\n",
       "                    <div><strong>TfidfVectorizer: </strong>0.3756</div>\n",
       "                    <div><a href=\"https://www.cnnbrasil.com.br/internacional/2020/04/29/os-ultimos-lugares-do-mundo-sem-casos-do-novo-coronavirus\">Os últimos lugares do mundo sem casos do novo coronavírus</a> <span>apesar de o novo coronavírus já ter infectado mais de 3 milhões de pessoas em todo o mundo, ainda existem 34 países ou territórios que não relataram um único caso da doença. são exemplos: comores, lesoto, tajiquistão, turquemenistão e pequenas nações insulares distantes e de difí...</span></div>\n",
       "                </div>\n",
       "            </div>\n",
       "            <div class=\"right w-half\">\n",
       "                <div class=\"col better\">\n",
       "                <div><strong>CountVectorizer: </strong>0.8034</div>\n",
       "                <div><a href=\"https://www.bbc.co.uk/portuguese/brasil-52732620\">Brasil: o novo epicentro da pandemia de coronavírus? - BBC News Brasil</a> <span>  a imensa subnotificação de casos e, em menor grau, de mortos, devido principalmente à baixa testagem, juntamente com uma curva ascendente de novas mortes, já posicionariam o brasil como o mais novo epicentro da pandemia de coronavírus. a isso, somam-se uma taxa de contágio aind...</span></div>\n",
       "                </div>\n",
       "            </div>\n",
       "        </div>\n",
       "    </div>\n",
       "    "
      ],
      "text/plain": [
       "<IPython.core.display.HTML object>"
      ]
     },
     "metadata": {},
     "output_type": "display_data"
    },
    {
     "data": {
      "text/html": [
       "\n",
       "    <div style=\"margin: 8px; border: 1px solid lightgray\">\n",
       "        <div style=\"text-align: center;background-color: whitesmoke;padding: 8px\"><a href=\"https://www.cnnbrasil.com.br/nacional/2020/03/19/cristo-redentor-e-iluminado-com-bandeiras-de-paises-afetados-pelo-coronavirus\">Cristo Redentor é iluminado com bandeiras de países afetados pelo coronavírus</a></div>\n",
       "        <div>\n",
       "            <div class=\"left w-half\">\n",
       "                <div class=\"col worse\">\n",
       "                    <div><strong>TfidfVectorizer: </strong>0.1970</div>\n",
       "                    <div><a href=\"https://www.bbc.co.uk/portuguese/brasil-52372233\">Coronavírus e a Igreja: de máscara e álcool gel na mão, padres enfrentam desafio da covid-19 em ações assistenciais - BBC News Brasil</a> <span>  de um lado, mais pessoas necessitando de doações de comida, reflexo da crise econômica causada pela pandemia do novo coronavírus. de outro, a resposta solidária do povo que, mesmo em cenário adverso, está doando mais. entre essas duas pontas, na linha de frente do trabalho assi...</span></div>\n",
       "                </div>\n",
       "            </div>\n",
       "            <div class=\"right w-half\">\n",
       "                <div class=\"col better\">\n",
       "                <div><strong>CountVectorizer: </strong>0.6769</div>\n",
       "                <div><a href=\"https://www.bbc.co.uk/portuguese/brasil-52467167\">Coronavírus: inércia política aumenta número de mortes, indica estudo - BBC News Brasil</a> <span>  agir rapidamente é um fator crucial para impedir mortes na pandemia de covid-19.  a afirmação pode parecer óbvia, mas, a julgar pelos ritmos diferentes das diversas diretrizes adotadas por países impactados pelo novo coronavírus, não é.  a velocidade de ação das autoridades é f...</span></div>\n",
       "                </div>\n",
       "            </div>\n",
       "        </div>\n",
       "    </div>\n",
       "    "
      ],
      "text/plain": [
       "<IPython.core.display.HTML object>"
      ]
     },
     "metadata": {},
     "output_type": "display_data"
    },
    {
     "data": {
      "text/html": [
       "\n",
       "    <div style=\"margin: 8px; border: 1px solid lightgray\">\n",
       "        <div style=\"text-align: center;background-color: whitesmoke;padding: 8px\"><a href=\"https://www.bbc.co.uk/portuguese/geral-52238950\">Coronavírus: como a pandemia e o isolamento afetam nosso sono - BBC News Brasil</a></div>\n",
       "        <div>\n",
       "            <div class=\"left w-half\">\n",
       "                <div class=\"col worse\">\n",
       "                    <div><strong>TfidfVectorizer: </strong>0.4207</div>\n",
       "                    <div><a href=\"https://www.cnnbrasil.com.br/saude/2020/05/07/cinco-sinais-de-que-a-sua-ansiedade-em-relacao-ao-coronavirus-ficou-seria\">Cinco sinais de que a sua ansiedade em relação ao coronavírus ficou séria</a> <span>lockdowns obrigatórios. isolamento de amigos e entes queridos. perda de emprego, renda, estabilidade econômica. sofrimento e perda em tantos níveis -- da perda de marcos como aniversários e formaturas a doenças sérias e morte. tempos difíceis agravados pelo medo de um inimigo mor...</span></div>\n",
       "                </div>\n",
       "            </div>\n",
       "            <div class=\"right w-half\">\n",
       "                <div class=\"col better\">\n",
       "                <div><strong>CountVectorizer: </strong>0.8875</div>\n",
       "                <div><a href=\"https://www.bbc.co.uk/portuguese/geral-52345980\">Coronavírus: as difíceis decisões que a pandemia está nos obrigando a tomar - BBC News Brasil</a> <span>  pouca coisa é fácil na pandemia pela qual estamos passando, e temos nos confrontado com perguntas difíceis de responder. em determinadas situações, é até impossível encontrar uma resposta correta. o primeiro instinto da maioria da pessoas é dizer que a vida é a coisa mais impor...</span></div>\n",
       "                </div>\n",
       "            </div>\n",
       "        </div>\n",
       "    </div>\n",
       "    "
      ],
      "text/plain": [
       "<IPython.core.display.HTML object>"
      ]
     },
     "metadata": {},
     "output_type": "display_data"
    },
    {
     "data": {
      "text/html": [
       "\n",
       "    <div style=\"margin: 8px; border: 1px solid lightgray\">\n",
       "        <div style=\"text-align: center;background-color: whitesmoke;padding: 8px\"><a href=\"https://www.cnnbrasil.com.br/politica/2020/03/16/reuniao-toffoli-stf-coronavirus\">Em encontro de cúpula sobre coronavírus, Toffoli não convida Bolsonaro</a></div>\n",
       "        <div>\n",
       "            <div class=\"left w-half\">\n",
       "                <div class=\"col worse\">\n",
       "                    <div><strong>TfidfVectorizer: </strong>0.4975</div>\n",
       "                    <div><a href=\"https://www.cnnbrasil.com.br/politica/2020/03/17/bolsonaro-se-reunira-com-poderes-para-definir-enfrentamento-ao-coronavirus\">Bolsonaro diz que vai se reunir com poderes para discutir combate ao coronavírus</a> <span>o presidente jair bolsonaro (sem partido) afirmou nesta terça-feira (17) que agendou para quarta (18) uma reunião com as principais autoridades dos demais poderes e instituições para alinhar as estratégias de combate ao novo coronavírus. segundo o presidente, a reunião acontecerá...</span></div>\n",
       "                </div>\n",
       "            </div>\n",
       "            <div class=\"right w-half\">\n",
       "                <div class=\"col better\">\n",
       "                <div><strong>CountVectorizer: </strong>0.7503</div>\n",
       "                <div><a href=\"https://www.cnnbrasil.com.br/politica/2020/03/17/bolsonaro-se-reunira-com-poderes-para-definir-enfrentamento-ao-coronavirus\">Bolsonaro diz que vai se reunir com poderes para discutir combate ao coronavírus</a> <span>o presidente jair bolsonaro (sem partido) afirmou nesta terça-feira (17) que agendou para quarta (18) uma reunião com as principais autoridades dos demais poderes e instituições para alinhar as estratégias de combate ao novo coronavírus. segundo o presidente, a reunião acontecerá...</span></div>\n",
       "                </div>\n",
       "            </div>\n",
       "        </div>\n",
       "    </div>\n",
       "    "
      ],
      "text/plain": [
       "<IPython.core.display.HTML object>"
      ]
     },
     "metadata": {},
     "output_type": "display_data"
    },
    {
     "data": {
      "text/html": [
       "\n",
       "    <div style=\"margin: 8px; border: 1px solid lightgray\">\n",
       "        <div style=\"text-align: center;background-color: whitesmoke;padding: 8px\"><a href=\"https://www.cnnbrasil.com.br/internacional/2020/05/24/dois-saloes-de-beleza-expuseram-140-pessoas-ao-coronavirus-nos-estados-unidos\">Salão de beleza expôs 140 pessoas ao coronavírus nos Estados Unidos</a></div>\n",
       "        <div>\n",
       "            <div class=\"left w-half\">\n",
       "                <div class=\"col worse\">\n",
       "                    <div><strong>TfidfVectorizer: </strong>0.3314</div>\n",
       "                    <div><a href=\"https://www.bbc.co.uk/portuguese/internacional-52641907\">Coronavírus: as rígidas regras para reabertura de salões de beleza na Alemanha - BBC News Brasil</a> <span>  no início de maio, depois de quase três meses de uma rígida quarentena, a chanceler da alemanha, angela merkel, anunciou a flexibilização das medidas de isolamento para conter a covid-19 no país.  o país está em um estágio mais avançado que o brasil na epidemia do coronavírus, ...</span></div>\n",
       "                </div>\n",
       "            </div>\n",
       "            <div class=\"right w-half\">\n",
       "                <div class=\"col better\">\n",
       "                <div><strong>CountVectorizer: </strong>0.7874</div>\n",
       "                <div><a href=\"https://www.cnnbrasil.com.br/internacional/2020/03/31/como-os-estados-unidos-estao-fazendo-testes-de-coronavirus\">Como os Estados Unidos estão fazendo testes de coronavírus</a> <span>é preciso 40 minutos de carro da ilha de manhattan até o primeiro ponto de testes para o novo coronavírus operando no estado de nova york, na costa leste dos estados unidos. a pequena cidade de new rochelle, ao norte da capital do estado, foi classificada como “área de contaminaç...</span></div>\n",
       "                </div>\n",
       "            </div>\n",
       "        </div>\n",
       "    </div>\n",
       "    "
      ],
      "text/plain": [
       "<IPython.core.display.HTML object>"
      ]
     },
     "metadata": {},
     "output_type": "display_data"
    },
    {
     "data": {
      "text/html": [
       "\n",
       "    <div style=\"margin: 8px; border: 1px solid lightgray\">\n",
       "        <div style=\"text-align: center;background-color: whitesmoke;padding: 8px\"><a href=\"https://www.cnnbrasil.com.br/saude/2020/04/15/por-que-voce-nao-deve-usar-vitamina-d-contra-o-coronavirus\">Por que você não deve usar vitamina D contra o coronavírus</a></div>\n",
       "        <div>\n",
       "            <div class=\"left w-half\">\n",
       "                <div class=\"col worse\">\n",
       "                    <div><strong>TfidfVectorizer: </strong>0.6965</div>\n",
       "                    <div><a href=\"https://www.bbc.co.uk/portuguese/geral-51483271\">Vitamina D protege contra coronavírus? Especialistas explicam por que é cedo para afirmar - BBC News Brasil</a> <span>  *o título original da matéria, \"vitamina d protege contra coronavírus? especialistas explicam por que não\", foi alterado no dia 22 de abril de 2020 para tornar mais precisa a informação de que ainda não há evidências científicas suficientes para garantir ou afastar totalmente o...</span></div>\n",
       "                </div>\n",
       "            </div>\n",
       "            <div class=\"right w-half\">\n",
       "                <div class=\"col better\">\n",
       "                <div><strong>CountVectorizer: </strong>0.8514</div>\n",
       "                <div><a href=\"https://www.bbc.co.uk/portuguese/geral-51483271\">Vitamina D protege contra coronavírus? Especialistas explicam por que é cedo para afirmar - BBC News Brasil</a> <span>  *o título original da matéria, \"vitamina d protege contra coronavírus? especialistas explicam por que não\", foi alterado no dia 22 de abril de 2020 para tornar mais precisa a informação de que ainda não há evidências científicas suficientes para garantir ou afastar totalmente o...</span></div>\n",
       "                </div>\n",
       "            </div>\n",
       "        </div>\n",
       "    </div>\n",
       "    "
      ],
      "text/plain": [
       "<IPython.core.display.HTML object>"
      ]
     },
     "metadata": {},
     "output_type": "display_data"
    },
    {
     "data": {
      "text/html": [
       "\n",
       "    <div style=\"margin: 8px; border: 1px solid lightgray\">\n",
       "        <div style=\"text-align: center;background-color: whitesmoke;padding: 8px\"><a href=\"https://www.bbc.co.uk/portuguese/internacional-52951764\">Coronavírus: Como Bill Gates virou alvo de teorias da conspiração sobre a pandemia - BBC News Brasil</a></div>\n",
       "        <div>\n",
       "            <div class=\"left w-half\">\n",
       "                <div class=\"col worse\">\n",
       "                    <div><strong>TfidfVectorizer: </strong>0.4187</div>\n",
       "                    <div><a href=\"https://www.bbc.co.uk/portuguese/geral-52584548\">Coronavírus: os sete tipos de pessoas que inventam e disseminam fake news - BBC News Brasil</a> <span>  teorias conspiratórias, desinformação e especulações sobre o coronavírus inundaram as redes sociais. mas quem começa esses rumores? e quem os espalha? investigamos centenas de histórias enganosas durante a pandemia. isso nos deu uma ideia sobre quem está por trás da desinformaç...</span></div>\n",
       "                </div>\n",
       "            </div>\n",
       "            <div class=\"right w-half\">\n",
       "                <div class=\"col better\">\n",
       "                <div><strong>CountVectorizer: </strong>0.8379</div>\n",
       "                <div><a href=\"https://www.bbc.co.uk/portuguese/geral-52584548\">Coronavírus: os sete tipos de pessoas que inventam e disseminam fake news - BBC News Brasil</a> <span>  teorias conspiratórias, desinformação e especulações sobre o coronavírus inundaram as redes sociais. mas quem começa esses rumores? e quem os espalha? investigamos centenas de histórias enganosas durante a pandemia. isso nos deu uma ideia sobre quem está por trás da desinformaç...</span></div>\n",
       "                </div>\n",
       "            </div>\n",
       "        </div>\n",
       "    </div>\n",
       "    "
      ],
      "text/plain": [
       "<IPython.core.display.HTML object>"
      ]
     },
     "metadata": {},
     "output_type": "display_data"
    }
   ],
   "source": [
    "for r in result:\n",
    "    header = r['doc'].title if r['doc'].title != '' else r['doc'].text[:140] + '...'\n",
    "    news_content = '<a href=\"%(link)s\">%(title)s</a> <span>%(head)s</span>'\n",
    "    result_class = lambda vectorizer, r: 'better' if r[vectorizer + '_similarity'] > r[('tfidf' if vectorizer == 'count' else 'count') + '_similarity'] else 'worse' \n",
    "    head_length = 280\n",
    "    \n",
    "    tfidf_content = news_content % ({\n",
    "        'link': r['tfidf_similar_doc'].url, \n",
    "        'title':  r['tfidf_similar_doc'].url if r['tfidf_similar_doc'].title == '' else r['tfidf_similar_doc'].title,\n",
    "        'head': r['tfidf_similar_doc'].text[:head_length] + '...',\n",
    "    })\n",
    "    count_content = news_content % ({\n",
    "        'link': r['count_similar_doc'].url, \n",
    "        'title':  r['count_similar_doc'].url if r['count_similar_doc'].title == '' else r['count_similar_doc'].title,\n",
    "        'head': r['count_similar_doc'].text[:head_length] + '...',\n",
    "    })\n",
    "    \n",
    "    \n",
    "    display(HTML('''\n",
    "    <div style=\"margin: 8px; border: 1px solid lightgray\">\n",
    "        <div style=\"text-align: center;background-color: whitesmoke;padding: 8px\"><a href=\"''' + r['doc'].url + '''\">''' + header + '''</a></div>\n",
    "        <div>\n",
    "            <div class=\"left w-half\">\n",
    "                <div class=\"col ''' + result_class('tfidf', r) + '''\">\n",
    "                    <div><strong>TfidfVectorizer: </strong>''' + str(r['tfidf_similarity'])[:6] + '''</div>\n",
    "                    <div>''' + tfidf_content + '''</div>\n",
    "                </div>\n",
    "            </div>\n",
    "            <div class=\"right w-half\">\n",
    "                <div class=\"col ''' + result_class('count', r) + '''\">\n",
    "                <div><strong>CountVectorizer: </strong>''' + str(r['count_similarity'])[:6] + '''</div>\n",
    "                <div>''' + count_content + '''</div>\n",
    "                </div>\n",
    "            </div>\n",
    "        </div>\n",
    "    </div>\n",
    "    '''))"
   ]
  },
  {
   "cell_type": "markdown",
   "metadata": {},
   "source": [
    "# Classificadores"
   ]
  },
  {
   "cell_type": "markdown",
   "metadata": {},
   "source": [
    "Balanceando o dataset para conter 350 artigos _BBC_ e 350 artigos _CNN_ (700 artigos no total):"
   ]
  },
  {
   "cell_type": "code",
   "execution_count": 31,
   "metadata": {},
   "outputs": [],
   "source": [
    "X = tfidf_X[:2*bbc.shape[0]]\n",
    "# X = count_X[:2*bbc.shape[0]]"
   ]
  },
  {
   "cell_type": "code",
   "execution_count": 32,
   "metadata": {},
   "outputs": [],
   "source": [
    "label2index = {\n",
    "    'BBC': 0, 'CNN': 1\n",
    "}\n",
    "y = [label2index[l] for l in dataset.label.values[:700]]"
   ]
  },
  {
   "cell_type": "markdown",
   "metadata": {},
   "source": [
    "Separando o conjunto de treinamento e teste:"
   ]
  },
  {
   "cell_type": "code",
   "execution_count": 33,
   "metadata": {},
   "outputs": [],
   "source": [
    "from sklearn.model_selection import train_test_split"
   ]
  },
  {
   "cell_type": "code",
   "execution_count": 34,
   "metadata": {},
   "outputs": [],
   "source": [
    "X_train, X_test, y_train, y_test = train_test_split(X, y, test_size=.3)"
   ]
  },
  {
   "cell_type": "markdown",
   "metadata": {},
   "source": [
    "Treinando o classificador:"
   ]
  },
  {
   "cell_type": "code",
   "execution_count": 43,
   "metadata": {},
   "outputs": [],
   "source": [
    "from sklearn.naive_bayes import CategoricalNB\n",
    "from sklearn.linear_model import LogisticRegression"
   ]
  },
  {
   "cell_type": "code",
   "execution_count": 54,
   "metadata": {},
   "outputs": [],
   "source": [
    "classifier = LogisticRegression().fit(X_train.toarray(), y_train)\n",
    "# classifier = CategoricalNB().fit(X_train.toarray(), y_train)"
   ]
  },
  {
   "cell_type": "markdown",
   "metadata": {},
   "source": [
    "Resultado da predição:"
   ]
  },
  {
   "cell_type": "code",
   "execution_count": 64,
   "metadata": {},
   "outputs": [],
   "source": [
    "y_pred = classifier.predict(X_test.toarray())"
   ]
  },
  {
   "cell_type": "markdown",
   "metadata": {},
   "source": [
    "Plotando a matriz de confusão:"
   ]
  },
  {
   "cell_type": "code",
   "execution_count": 72,
   "metadata": {},
   "outputs": [],
   "source": [
    "from matplotlib import pyplot\n",
    "from sklearn.metrics import plot_confusion_matrix"
   ]
  },
  {
   "cell_type": "code",
   "execution_count": 76,
   "metadata": {},
   "outputs": [
    {
     "data": {
      "image/png": "[encoded data removed]",
      "text/plain": [
       "<Figure size 432x288 with 2 Axes>"
      ]
     },
     "metadata": {
      "needs_background": "light"
     },
     "output_type": "display_data"
    }
   ],
   "source": [
    "plot_confusion_matrix(classifier, X_test, y_test)\n",
    "pyplot.show()"
   ]
  },
  {
   "cell_type": "markdown",
   "metadata": {},
   "source": [
    "Métricas de validação:"
   ]
  },
  {
   "cell_type": "code",
   "execution_count": 55,
   "metadata": {},
   "outputs": [],
   "source": [
    "from sklearn.metrics import accuracy_score, precision_score, recall_score, f1_score"
   ]
  },
  {
   "cell_type": "markdown",
   "metadata": {},
   "source": [
    "### Acurácia"
   ]
  },
  {
   "cell_type": "code",
   "execution_count": 67,
   "metadata": {},
   "outputs": [
    {
     "data": {
      "text/plain": [
       "0.861904761904762"
      ]
     },
     "execution_count": 67,
     "metadata": {},
     "output_type": "execute_result"
    }
   ],
   "source": [
    "accuracy_score(y_test, y_pred)"
   ]
  },
  {
   "cell_type": "markdown",
   "metadata": {},
   "source": [
    "### Precisão"
   ]
  },
  {
   "cell_type": "code",
   "execution_count": 68,
   "metadata": {},
   "outputs": [
    {
     "data": {
      "text/plain": [
       "0.8504672897196262"
      ]
     },
     "execution_count": 68,
     "metadata": {},
     "output_type": "execute_result"
    }
   ],
   "source": [
    "precision_score(y_test, y_pred)"
   ]
  },
  {
   "cell_type": "markdown",
   "metadata": {},
   "source": [
    "### Recall"
   ]
  },
  {
   "cell_type": "code",
   "execution_count": 69,
   "metadata": {},
   "outputs": [
    {
     "data": {
      "text/plain": [
       "0.875"
      ]
     },
     "execution_count": 69,
     "metadata": {},
     "output_type": "execute_result"
    }
   ],
   "source": [
    "recall_score(y_test, y_pred)"
   ]
  },
  {
   "cell_type": "markdown",
   "metadata": {},
   "source": [
    "### F1 Score"
   ]
  },
  {
   "cell_type": "code",
   "execution_count": 70,
   "metadata": {},
   "outputs": [
    {
     "data": {
      "text/plain": [
       "0.8625592417061612"
      ]
     },
     "execution_count": 70,
     "metadata": {},
     "output_type": "execute_result"
    }
   ],
   "source": [
    "f1_score(y_test, y_pred)"
   ]
  }
 ],
 "metadata": {
  "kernelspec": {
   "display_name": "Python 3",
   "language": "python",
   "name": "python3"
  },
  "language_info": {
   "codemirror_mode": {
    "name": "ipython",
    "version": 3
   },
   "file_extension": ".py",
   "mimetype": "text/x-python",
   "name": "python",
   "nbconvert_exporter": "python",
   "pygments_lexer": "ipython3",
   "version": "3.7.6"
  }
 },
 "nbformat": 4,
 "nbformat_minor": 4
}
