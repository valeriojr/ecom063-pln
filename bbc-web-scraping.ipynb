{
 "cells": [
  {
   "cell_type": "code",
   "execution_count": 18,
   "metadata": {},
   "outputs": [],
   "source": [
    "import os\n",
    "import json\n",
    "import tqdm\n",
    "import requests\n",
    "\n",
    "from bs4 import BeautifulSoup"
   ]
  },
  {
   "cell_type": "code",
   "execution_count": 2,
   "metadata": {},
   "outputs": [],
   "source": [
    "URL = 'https://www.bbc.com/portuguese/search?q=coronav%C3%ADrus'"
   ]
  },
  {
   "cell_type": "code",
   "execution_count": 3,
   "metadata": {},
   "outputs": [],
   "source": [
    "def retrieve_urls(url):\n",
    "    page = requests.get(url)\n",
    "    soup = BeautifulSoup(page.content, 'html.parser')\n",
    "    \n",
    "    next_page = soup.find('a', class_='ws-search-pagination__link next')\n",
    "    urls = []\n",
    "    \n",
    "    while next_page is not None:\n",
    "        urls.append([a['href'] for a in soup.find_all('a', class_='hard-news-unit__headline-link')])\n",
    "        next_url = url + '&' + next_page['href'].split('&')[1]\n",
    "        page = requests.get(next_url)\n",
    "        soup = BeautifulSoup(page.content, 'html.parser')\n",
    "        next_page = soup.find('a', class_='ws-search-pagination__link next')\n",
    "    \n",
    "    return [url for url_list in urls for url in url_list]"
   ]
  },
  {
   "cell_type": "code",
   "execution_count": 4,
   "metadata": {},
   "outputs": [],
   "source": [
    "urls = retrieve_urls(URL)"
   ]
  },
  {
   "cell_type": "code",
   "execution_count": 19,
   "metadata": {},
   "outputs": [],
   "source": [
    "files_urls = []\n",
    "for i, url in enumerate(urls):\n",
    "    files_urls.append({'filename': 'url{}.txt'.format(i), 'url': url})"
   ]
  },
  {
   "cell_type": "code",
   "execution_count": 20,
   "metadata": {},
   "outputs": [],
   "source": [
    "with open('data/urls.json', 'w') as json_file:\n",
    "    json_file.write(json.dumps(files_urls, indent=2))"
   ]
  },
  {
   "cell_type": "code",
   "execution_count": 21,
   "metadata": {},
   "outputs": [
    {
     "name": "stderr",
     "output_type": "stream",
     "text": [
      "100%|██████████| 350/350 [10:53<00:00,  1.87s/it]\n"
     ]
    }
   ],
   "source": [
    "for file_url in tqdm.tqdm(files_urls):\n",
    "    with open(os.path.join('data', file_url['filename']), 'w') as txt_file:\n",
    "        txt_file.write(requests.get(file_url['url']).text)"
   ]
  }
 ],
 "metadata": {
  "kernelspec": {
   "display_name": "Python 3",
   "language": "python",
   "name": "python3"
  },
  "language_info": {
   "codemirror_mode": {
    "name": "ipython",
    "version": 3
   },
   "file_extension": ".py",
   "mimetype": "text/x-python",
   "name": "python",
   "nbconvert_exporter": "python",
   "pygments_lexer": "ipython3",
   "version": "3.8.2"
  }
 },
 "nbformat": 4,
 "nbformat_minor": 4
}
