{
  "nbformat": 4,
  "nbformat_minor": 0,
  "metadata": {
    "colab": {
      "name": "Processamento de linguagem natural - 2ª lista de exercícios.ipynb",
      "provenance": [],
      "collapsed_sections": []
    },
    "kernelspec": {
      "name": "python3",
      "display_name": "Python 3"
    }
  },
  "cells": [
    {
      "cell_type": "markdown",
      "metadata": {
        "id": "CaewsrVFwclv",
        "colab_type": "text"
      },
      "source": [
        "Universidade Federal de Alagoas\n",
        "\n",
        "IC - Instituto de Computação\n",
        "\n",
        " \n",
        "\n",
        "# Processamento de linguagem natural - 2020.1\n",
        "**Professor**: Thales Vieira\n",
        "\n",
        "**Alunos**: Hugo Tallys Martins Oliveira e Valério Nogueira Rodrigues Júnior\n",
        "\n",
        "\n",
        "## 2ª lista de exercícios\n",
        "\n",
        "---"
      ]
    },
    {
      "cell_type": "markdown",
      "metadata": {
        "id": "tAVZHNdzjrxX",
        "colab_type": "text"
      },
      "source": [
        "# Descrição dos dados"
      ]
    },
    {
      "cell_type": "markdown",
      "metadata": {
        "id": "V5cOUSuAkqtE",
        "colab_type": "text"
      },
      "source": [
        "Os textos que constituem o conjunto de dados (1616 artigos de notícia) foram extraídos do site da BBC Brasil e CNN Brasil. Os links para os artigos foram obtidos na página de busca do site com o termo de pesquisa \"coronavírus\" (dados coletados em 13/06/2020 para o site da BBC e em 14/06/2020 para o site da CNN):\n",
        "\n",
        "> https://www.bbc.com/portuguese/search?q=coronav%C3%ADrus\n",
        "\n",
        "> https://www.cnnbrasil.com.br/search?q=coronav%C3%ADrus\n",
        "\n",
        "Para construir o _dataframe_ extraímos as seguintes informações do arquivo `html` de cada página:\n",
        "\n",
        "* title - Título da notícia (tag \\<title\\>\\</title\\>)\n",
        "* text - Texto de cada parágrafo da notícia (tags \\<p\\>\\</p\\>) concatenados"
      ]
    },
    {
      "cell_type": "code",
      "metadata": {
        "id": "oLvL7q0bv3l_",
        "colab_type": "code",
        "colab": {}
      },
      "source": [
        "import re\n",
        "import nltk\n",
        "import numpy\n",
        "import pandas\n",
        "import pickle\n",
        "import seaborn\n",
        "\n",
        "from random import shuffle\n",
        "from matplotlib import pyplot\n",
        "from string import punctuation\n",
        "\n",
        "%matplotlib inline"
      ],
      "execution_count": null,
      "outputs": []
    },
    {
      "cell_type": "code",
      "metadata": {
        "id": "mAuq-GQuKapq",
        "colab_type": "code",
        "colab": {
          "base_uri": "https://localhost:8080/",
          "height": 225
        },
        "outputId": "d1c632cc-5797-48e8-a1c5-16a9f31c753a"
      },
      "source": [
        "\n",
        "nltk.download('stopwords');\n",
        "nltk.download('rslp');\n",
        "nltk.download('punkt');\n",
        "nltk.download('averaged_perceptron_tagger');\n",
        "nltk.download('mac_morpho');"
      ],
      "execution_count": null,
      "outputs": [
        {
          "output_type": "stream",
          "text": [
            "[nltk_data] Downloading package stopwords to /root/nltk_data...\n",
            "[nltk_data]   Package stopwords is already up-to-date!\n",
            "[nltk_data] Downloading package rslp to /root/nltk_data...\n",
            "[nltk_data]   Package rslp is already up-to-date!\n",
            "[nltk_data] Downloading package punkt to /root/nltk_data...\n",
            "[nltk_data]   Package punkt is already up-to-date!\n",
            "[nltk_data] Downloading package averaged_perceptron_tagger to\n",
            "[nltk_data]     /root/nltk_data...\n",
            "[nltk_data]   Package averaged_perceptron_tagger is already up-to-\n",
            "[nltk_data]       date!\n",
            "[nltk_data] Downloading package mac_morpho to /root/nltk_data...\n",
            "[nltk_data]   Package mac_morpho is already up-to-date!\n"
          ],
          "name": "stdout"
        }
      ]
    },
    {
      "cell_type": "code",
      "metadata": {
        "id": "4lWOtCLHEb0l",
        "colab_type": "code",
        "colab": {
          "base_uri": "https://localhost:8080/",
          "height": 893
        },
        "outputId": "b96660b4-26f1-4823-8f32-091ea29db558"
      },
      "source": [
        "bbc_dataset_url = 'https://raw.githubusercontent.com/valeriojr/ecom063-pln/master/data/bbc.csv'\n",
        "cnn_dataset_url = 'https://raw.githubusercontent.com/valeriojr/ecom063-pln/master/data/cnn.csv'\n",
        "\n",
        "dataset = pandas.concat([pandas.read_csv(dataset_url, sep='|') for dataset_url in [bbc_dataset_url, cnn_dataset_url]], ignore_index=True)\n",
        "dataset = dataset.dropna(axis=0).reset_index(drop=True)\n",
        "dataset"
      ],
      "execution_count": null,
      "outputs": [
        {
          "output_type": "execute_result",
          "data": {
            "text/html": [
              "<div>\n",
              "<style scoped>\n",
              "    .dataframe tbody tr th:only-of-type {\n",
              "        vertical-align: middle;\n",
              "    }\n",
              "\n",
              "    .dataframe tbody tr th {\n",
              "        vertical-align: top;\n",
              "    }\n",
              "\n",
              "    .dataframe thead th {\n",
              "        text-align: right;\n",
              "    }\n",
              "</style>\n",
              "<table border=\"1\" class=\"dataframe\">\n",
              "  <thead>\n",
              "    <tr style=\"text-align: right;\">\n",
              "      <th></th>\n",
              "      <th>url</th>\n",
              "      <th>title</th>\n",
              "      <th>text</th>\n",
              "    </tr>\n",
              "  </thead>\n",
              "  <tbody>\n",
              "    <tr>\n",
              "      <th>0</th>\n",
              "      <td>https://www.bbc.co.uk/portuguese/brasil-53020785</td>\n",
              "      <td>Coronavírus: pandemia pode jogar até 14 milhões de brasileiros na pobreza, diz estudo - BBC News Brasil</td>\n",
              "      <td>\\nCompartilhe este post com\\nEmail\\nFacebook\\nMessenger\\nMessenger\\nTwitter\\nWhatsApp\\nLinkedIn\\nCopiar este link\\nEstes são links externos e abri...</td>\n",
              "    </tr>\n",
              "    <tr>\n",
              "      <th>1</th>\n",
              "      <td>https://www.bbc.co.uk/portuguese/brasil-53027318</td>\n",
              "      <td>Coronavírus: como funcionam as duas vacinas contra covid-19 que serão testadas em brasileiros - BBC News Brasil</td>\n",
              "      <td>\\nCompartilhe este post com\\nEmail\\nFacebook\\nMessenger\\nMessenger\\nTwitter\\nWhatsApp\\nLinkedIn\\nCopiar este link\\nEstes são links externos e abri...</td>\n",
              "    </tr>\n",
              "    <tr>\n",
              "      <th>2</th>\n",
              "      <td>https://www.bbc.co.uk/portuguese/brasil-51713943</td>\n",
              "      <td>Coronavírus: Brasil passa o Reino Unido e se torna segundo país com mais mortes por covid-19 - BBC News Brasil</td>\n",
              "      <td>\\nCompartilhe este post com\\nEmail\\nFacebook\\nMessenger\\nMessenger\\nTwitter\\nWhatsApp\\nLinkedIn\\nCopiar este link\\nEstes são links externos e abri...</td>\n",
              "    </tr>\n",
              "    <tr>\n",
              "      <th>3</th>\n",
              "      <td>https://www.bbc.co.uk/portuguese/internacional-53008262</td>\n",
              "      <td>Coronavírus na Índia: com lockdown 'insustentável', Índia reabre em meio a disparada de casos e temores de 'bomba-relógio' - BBC News Brasil</td>\n",
              "      <td>\\nCompartilhe este post com\\nEmail\\nFacebook\\nMessenger\\nMessenger\\nTwitter\\nWhatsApp\\nLinkedIn\\nCopiar este link\\nEstes são links externos e abri...</td>\n",
              "    </tr>\n",
              "    <tr>\n",
              "      <th>4</th>\n",
              "      <td>https://www.bbc.co.uk/portuguese/internacional-53008266</td>\n",
              "      <td>2ª onda do coronavírus? Irã vê aumento acelerado após reabertura, mas cita testes como causa - BBC News Brasil</td>\n",
              "      <td>\\nCompartilhe este post com\\nEmail\\nFacebook\\nMessenger\\nMessenger\\nTwitter\\nWhatsApp\\nLinkedIn\\nCopiar este link\\nEstes são links externos e abri...</td>\n",
              "    </tr>\n",
              "    <tr>\n",
              "      <th>...</th>\n",
              "      <td>...</td>\n",
              "      <td>...</td>\n",
              "      <td>...</td>\n",
              "    </tr>\n",
              "    <tr>\n",
              "      <th>1611</th>\n",
              "      <td>https://www.cnnbrasil.com.br/saude/2020/02/27/farmacias-tem-falta-de-mascaras-apos-confirmacao-de-coronavirus-no-brasil</td>\n",
              "      <td>Farmácias têm falta de máscaras após confirmação de coronavírus no Brasil</td>\n",
              "      <td>Com a confirmação do primeiro caso de contaminação pelo novo coronavírus (Covid-19) no Brasil na quarta-feira (26), as farmácias no país registrar...</td>\n",
              "    </tr>\n",
              "    <tr>\n",
              "      <th>1612</th>\n",
              "      <td>https://www.cnnbrasil.com.br/business/2020/02/27/ibovespa-tem-nova-queda-com-mercado-ainda-preocupado-sobre-coronavirus</td>\n",
              "      <td>Ibovespa tem nova queda com mercado ainda preocupado com coronavírus</td>\n",
              "      <td>Preocupações com a propagação do novo coronavírus e seus potenciais efeitos na economia global mantiveram a bolsa de valores de São Paulo pression...</td>\n",
              "    </tr>\n",
              "    <tr>\n",
              "      <th>1613</th>\n",
              "      <td>https://www.cnnbrasil.com.br/internacional/2020/02/27/japonesa-testa-positivo-pela-2-vez-para-coronavirus</td>\n",
              "      <td>Japonesa testa positivo pela segunda vez para coronavírus</td>\n",
              "      <td>TÓQUIO - Uma guia de ônibus turístico no Japão apresentou resultado positivo, pela segunda vez, para o novo coronavírus, se tornando a primeira pe...</td>\n",
              "    </tr>\n",
              "    <tr>\n",
              "      <th>1614</th>\n",
              "      <td>https://www.cnnbrasil.com.br/saude/2020/02/26/paciente-com-coronavirus-tem-sintomas-brandos-mas-continua-isolado</td>\n",
              "      <td>Primeiro brasileiro com coronavírus tem sintomas brandos, mas continua isolado</td>\n",
              "      <td>O primeiro brasileiro com diagnóstico confirmado de coronavírus apresenta sintomas brandos, mas continua isolado em casa, informou nesta quarta-...</td>\n",
              "    </tr>\n",
              "    <tr>\n",
              "      <th>1615</th>\n",
              "      <td>https://www.cnnbrasil.com.br/saude/2020/02/26/nao-e-momento-para-panico-o-brasil-esta-preparado-diz-medico-sanitarista</td>\n",
              "      <td>Coronavírus: 'Não é momento para pânico' no Brasil, diz médico sanitarista</td>\n",
              "      <td>O Brasil está preparado para lidar com o coronavírus, afirmou o médico sanitarista Sérgio Zanetta, professor da Faculdade de Medicina do Centro ...</td>\n",
              "    </tr>\n",
              "  </tbody>\n",
              "</table>\n",
              "<p>1616 rows × 3 columns</p>\n",
              "</div>"
            ],
            "text/plain": [
              "                                                                                                                          url  ...                                                                                                                                                   text\n",
              "0                                                                            https://www.bbc.co.uk/portuguese/brasil-53020785  ...  \\nCompartilhe este post com\\nEmail\\nFacebook\\nMessenger\\nMessenger\\nTwitter\\nWhatsApp\\nLinkedIn\\nCopiar este link\\nEstes são links externos e abri...\n",
              "1                                                                            https://www.bbc.co.uk/portuguese/brasil-53027318  ...  \\nCompartilhe este post com\\nEmail\\nFacebook\\nMessenger\\nMessenger\\nTwitter\\nWhatsApp\\nLinkedIn\\nCopiar este link\\nEstes são links externos e abri...\n",
              "2                                                                            https://www.bbc.co.uk/portuguese/brasil-51713943  ...  \\nCompartilhe este post com\\nEmail\\nFacebook\\nMessenger\\nMessenger\\nTwitter\\nWhatsApp\\nLinkedIn\\nCopiar este link\\nEstes são links externos e abri...\n",
              "3                                                                     https://www.bbc.co.uk/portuguese/internacional-53008262  ...  \\nCompartilhe este post com\\nEmail\\nFacebook\\nMessenger\\nMessenger\\nTwitter\\nWhatsApp\\nLinkedIn\\nCopiar este link\\nEstes são links externos e abri...\n",
              "4                                                                     https://www.bbc.co.uk/portuguese/internacional-53008266  ...  \\nCompartilhe este post com\\nEmail\\nFacebook\\nMessenger\\nMessenger\\nTwitter\\nWhatsApp\\nLinkedIn\\nCopiar este link\\nEstes são links externos e abri...\n",
              "...                                                                                                                       ...  ...                                                                                                                                                    ...\n",
              "1611  https://www.cnnbrasil.com.br/saude/2020/02/27/farmacias-tem-falta-de-mascaras-apos-confirmacao-de-coronavirus-no-brasil  ...  Com a confirmação do primeiro caso de contaminação pelo novo coronavírus (Covid-19) no Brasil na quarta-feira (26), as farmácias no país registrar...\n",
              "1612  https://www.cnnbrasil.com.br/business/2020/02/27/ibovespa-tem-nova-queda-com-mercado-ainda-preocupado-sobre-coronavirus  ...  Preocupações com a propagação do novo coronavírus e seus potenciais efeitos na economia global mantiveram a bolsa de valores de São Paulo pression...\n",
              "1613                https://www.cnnbrasil.com.br/internacional/2020/02/27/japonesa-testa-positivo-pela-2-vez-para-coronavirus  ...  TÓQUIO - Uma guia de ônibus turístico no Japão apresentou resultado positivo, pela segunda vez, para o novo coronavírus, se tornando a primeira pe...\n",
              "1614         https://www.cnnbrasil.com.br/saude/2020/02/26/paciente-com-coronavirus-tem-sintomas-brandos-mas-continua-isolado  ...    O primeiro brasileiro com diagnóstico confirmado de coronavírus apresenta sintomas brandos, mas continua isolado em casa, informou nesta quarta-...\n",
              "1615   https://www.cnnbrasil.com.br/saude/2020/02/26/nao-e-momento-para-panico-o-brasil-esta-preparado-diz-medico-sanitarista  ...    O Brasil está preparado para lidar com o coronavírus, afirmou o médico sanitarista Sérgio Zanetta, professor da Faculdade de Medicina do Centro ...\n",
              "\n",
              "[1616 rows x 3 columns]"
            ]
          },
          "metadata": {
            "tags": []
          },
          "execution_count": 24
        }
      ]
    },
    {
      "cell_type": "markdown",
      "metadata": {
        "id": "8aplnxCNmTNj",
        "colab_type": "text"
      },
      "source": [
        "Observando um exemplo do conjunto de dados com mais detalhe:"
      ]
    },
    {
      "cell_type": "code",
      "metadata": {
        "id": "-e2xME7rU7Rz",
        "colab_type": "code",
        "colab": {
          "base_uri": "https://localhost:8080/",
          "height": 89
        },
        "outputId": "1959def9-3187-41bf-e9d2-c9bfb45e88b3"
      },
      "source": [
        "row = dataset.iloc[478]\n",
        "print('Url: ', row.url)\n",
        "print('Título: ', row.title)\n",
        "print('Texto: ', row.text)"
      ],
      "execution_count": null,
      "outputs": [
        {
          "output_type": "stream",
          "text": [
            "Url:  https://www.cnnbrasil.com.br/internacional/2020/05/03/nova-onda-do-coronavirus-pode-atingir-eua-no-outono-mas-ha-como-para-la\n",
            "Título:  Nova 'onda' do coronavírus pode atingir EUA no outono, mas há como pará-la\n",
            "Texto:  A pandemia do novo coronavírus pode estar se tornando mais lenta em várias partes dos Estados Unidos por causa dos esforços de distanciamento social mas ainda não planeje suas festas, férias ou idas ao escritório ainda. Especialistas dizem que o vírus não será coisa do passado tão cedo.  Uma segunda onda de casos da COVID-19 no outono é “inevitável”, disse Anthony Fauci, principal infectologista americano, à medida em que as pessoas tentam de forma crescente retomar a vida normal, e muitos estados flexibilizam ou revogam suas ordens de ficar em casa.  “Eu estou quase certo de que vai voltar, porque o vírus é tão transmissível e tão disperso no mundo todo”, disse Fauci durante uma conferência online com o Clube Econômico de Washington nesta semana.  Os americanos podem passar “por um outono ruim e um inverno ruim” se o país estiver despreparado, disse o médico, que é diretor do Instituto Nacional de Alergia e Doenças Infecciosas.  Veja o que já se sabe sobre a possibilidade de uma segunda onda do vírus e as razões por trás disso.  Por que no outono?  Há vários aspectos do coronavírus que se mantém desconhecidos dos cientistas mas vírus mais antigos oferecem algumas pistas.  Pessoas costumam ser infectadas por quatro tipos comuns de coronavírus que foram identificados pela primeira vez no meio dos anos 1960, de acordo com o Centro de Controle e Prevenção de Doenças (CDC, na sigla em inglês). E essas tendem a alcançar seu pico nos meses mais frios.  Greg Poland, professor de medicina e doenças infecciosas da Mayo Clinic, organização sem fins lucrativos de pesquisas médicas, disse que o SARS-CoV-2, o nome técnico do novo coronavírus que causa a COVID-19, tende a seguir a mesma tendência.  Se isso acontecer, uma segunda onda do vírus retornaria justamente no momento em que se inicia a temporada de gripe. A gripe tem sido uma constante ameaça para americanos e foi devastadora em anos recentes. O CDC estima que houveram ao menos 39 milhões de casos de gripe nos Estados Unidos e ao menos 24.000 mortes na temporada 2019-2020.  Poland, que dirige o grupo de pesquisa de vacinas da Mayo Clinic, avalia que a combinação de uma segunda onda da COVID-19 com a temporada de gripe pode criar “muita confusão” porque ambas as doenças sobrepõem se em termpos de sintomas e colocam tensão no sistema de saúde.  Esta não seria a primeira pandemia a retornar à força. Em 2009, os Estados Unidos passaram por uma onda de casos da gripe do vírus H1N1, conhecida como gripe suína, na primavera. Meses depois, uma segunda onda foi registrada no outono e no inverno, disse o CDC.  “Às vezes, não sempre... às vezes a segunda onda da pandemia é pior”, disse Poland, acrescentando que a pandemia do coronavírus se espalhou nos Estados Unidos pode também ir direto até a temporada de gripe.  Outro exemplo é a pandemia da gripe espanhola, de 1918, que matou 50 milhões de pessoas no mundo todo, sendo cerca de 675 mil americanos. Naquele momento, houve uma leve primeira onda na primavera nos EUA, mas uma letal segunda onda atingiu o país em setembro.  O panorama é que o novo coronavírus pode se espalhar provavelmente por ao menos outros 18 meses. Há diversos possíveis cenários para o curso da pandemia, mas o pior deles é uma segunda onda de infecções igual à da gripe espanhola de 1918, de acordo com um relatório do Centro de Pesquisa e Política de Doenças Infecciosas da Universidade de Minnesota (CIDRAP, na sigla em inglês).  “Essa coisa não vai parar até infectar de 60 a 70% das pessoas”, diz Mike Osterholm, diretor do CIDRAP, em uma entrevista à CNN. Osterholm é coautor de um relatório do CIDRAP divulgado na quinta-feira (30), que recomenda que os Estados Unidos se preparem para o pior cenário, que inclua uma segunda onda de infecções pelo coronavírus no outono e no inverno.  O que pode ser feito sobre isso?  Especialistas em saúde dizem que nos próximos meses será um bom momento para se preparar para um potencial segundo surto do vírus.  Hospitais e clínicas devem repor seus estoques de equipamentos de proteção pessoal e capacidade de testagem. Pessoas deveria tentar ficar mais saudáveis se possível, continuar usando máscaras por um tempo e evitando aglomerações de não mais do que 10 pessoas, dizem vários especialistas à CNN.  A medida que as cidades reabram, oficiais locais devem fazer planos de rapidamente reinstituir as orientações de ficar em casa ou outras medidas de distanciamento social no futuro se for necessário, diz Poland, da Mayo Clinic.  Oficiais de saúde pelo país devem continuar focando em expandir a capacidade de testagem do novo coronavírus, mapeamento de contato e tratamento, afirmou Helen Boucher, chefe do departamento de geografica médica e divisão de doenças infecciosas na Tufts University Medical Center.  “Nós esperamos que tenhamos mais ferramentas na nossa caixa, talvez nós tenhamos alguns tratamentos para a COVID-19 até lá, talvez nós tenhamos melhores diagnósticos”, diz Boucher.  O governo Trump estimou que uma vacina está a entre 12 e 18 meses de distância, enquanto alguns líderes dizem que a linha do tempo pode ser mais rápida.  Melhorando a forma como os trabalhadores de saúde lidam com a pandemia do coronavírus será a chave, diz Boucher, para que o país esteja “tão preparado quanto pudermos estar” quando for o tempo de encarar um surto simultâneo da COVID-19 e da gripe tradicional.  Enquanto a maior parte dos especialistas acreditam que pessoas que se recuperaram da gripe terão alguma forma de imunidade, Poland diz que não está claro quão forte a imunidade poderá ser e quanto tempo poderá durar, enquanto os testes de anticorpos continuarem inconsistentes.  “Nós estamos colocando uma espécie de esperança, mas nós não temos as respostas ainda”, diz o médico. “Isso (o vírus) tem apenas 16 semanas de vida, então há muito o que não sabemos ainda”.  A droga antiviral experimental remdesivir foi aprovada na sexta-feira (1º) pelo FDA (Administração de Comida e Remédios, na sigla em inglês) para tratar pacientes hospitalizados com condições graves da COVID-19.  A droga, que foi o primeiro tratamento autorizado para a COVID-19, está longe de ser a cura, de acordo com um estudo financiado de forma independente do governo, mas pacientes que tomaram o remédio se recuperaram mais rápido do que os que não tomaram.  “Nós temos trabalho a fazer. Nós estamos procurando por outras terapias. Esse teste vai continuar”, o médico André Kalil, principal investigador por trás dos testes clínicos, disse a Elizabeth Cohen, da CNN, nesta semana.  O vírus já voltou em algum lugar?  Já.  Nas últimas semanas, Cingapura está vendo um crescimento dramático das infecções pelo coronavírus, com milhares de novos casos em agrupamentos de trabalhadores estrangeiros.  Cingapura inicialmente começou a sua resposta com uma aparente habilidade para conter as infecções nos primeiros três meses da pandemia do coronavírus. E então o número de casos explodiu em abril.  Desde 17 de março, o número total de casos em Cingapura subiu de 266 para mais de 17.000, segundo os números da Universidade Johns Hopkins.  Para controlar a disseminação, o governo isolou dormitórios, testou trabalhadores e moveu pacientes com sintomas para lugares próprios para quarentena. Essa é uma tarefa assustadora porque trabalhadores vivem em condições apertadas que tornam o distanciamento social quase impossível.  O governo também instituiu o que está sendo chamado de “circuit breaker”, um pacote de restrições e novas regras, combinado com fortes punições.  A cidade chinesa semiautonôma de Hong Kong tinha um número de casos relativamente pequeno quando viu um surto quando relaxou as restrições, em março.   Muitos casos foram importados do além-mar enquanto moradores de Hong Kong que haviam deixado a cidade, seja para trabalhar ou estudar fora, seja para buscar segurança quando a cidade parecia destinada a um grande surto, retornaram, trazendo o vírus de volta com eles. \n"
          ],
          "name": "stdout"
        }
      ]
    },
    {
      "cell_type": "markdown",
      "metadata": {
        "id": "W6sknLtmU32X",
        "colab_type": "text"
      },
      "source": [
        "# Higienização dos dados\n"
      ]
    },
    {
      "cell_type": "markdown",
      "metadata": {
        "id": "3xWOxzFyVzsT",
        "colab_type": "text"
      },
      "source": [
        "1. Remoção de quebras de linha"
      ]
    },
    {
      "cell_type": "code",
      "metadata": {
        "id": "Z1jB2zPAV5Gi",
        "colab_type": "code",
        "colab": {}
      },
      "source": [
        "dataset.text = dataset.text.apply(lambda text: text.replace('\\n', ' '))"
      ],
      "execution_count": null,
      "outputs": []
    },
    {
      "cell_type": "markdown",
      "metadata": {
        "id": "x7ivsy5nWc_I",
        "colab_type": "text"
      },
      "source": [
        "2. Remoção de partes da página que não interessam"
      ]
    },
    {
      "cell_type": "code",
      "metadata": {
        "id": "bccvL0s8W27W",
        "colab_type": "code",
        "colab": {}
      },
      "source": [
        "def remove_boilerplate(text):\n",
        "    boilerplate = ['Compartilhe este post com Email Facebook Messenger Messenger Twitter WhatsApp LinkedIn Copiar este link Estes são links externos e abrirão numa nova janela', 'Já assistiu aos nossos novos vídeos no YouTube? Inscreva-se no nosso canal!', 'Final de YouTube post  de BBC News Brasil Final de YouTube post 2 de BBC News Brasil Final de YouTube post 3 de BBC News Brasil']\n",
        "    \n",
        "    for b in boilerplate:\n",
        "      text = text.replace(b, '')\n",
        "\n",
        "    return text\n",
        "\n",
        "dataset.text = dataset.text.apply(remove_boilerplate)"
      ],
      "execution_count": null,
      "outputs": []
    },
    {
      "cell_type": "code",
      "metadata": {
        "id": "Hi7k8cOiXoE_",
        "colab_type": "code",
        "colab": {
          "base_uri": "https://localhost:8080/",
          "height": 380
        },
        "outputId": "f8a16565-3243-48a6-9924-f6f5644da8d4"
      },
      "source": [
        "dataset.head()"
      ],
      "execution_count": null,
      "outputs": [
        {
          "output_type": "execute_result",
          "data": {
            "text/html": [
              "<div>\n",
              "<style scoped>\n",
              "    .dataframe tbody tr th:only-of-type {\n",
              "        vertical-align: middle;\n",
              "    }\n",
              "\n",
              "    .dataframe tbody tr th {\n",
              "        vertical-align: top;\n",
              "    }\n",
              "\n",
              "    .dataframe thead th {\n",
              "        text-align: right;\n",
              "    }\n",
              "</style>\n",
              "<table border=\"1\" class=\"dataframe\">\n",
              "  <thead>\n",
              "    <tr style=\"text-align: right;\">\n",
              "      <th></th>\n",
              "      <th>url</th>\n",
              "      <th>title</th>\n",
              "      <th>text</th>\n",
              "    </tr>\n",
              "  </thead>\n",
              "  <tbody>\n",
              "    <tr>\n",
              "      <th>0</th>\n",
              "      <td>https://www.bbc.co.uk/portuguese/brasil-53020785</td>\n",
              "      <td>Coronavírus: pandemia pode jogar até 14 milhões de brasileiros na pobreza, diz estudo - BBC News Brasil</td>\n",
              "      <td>A turbulência econômica causada pela pandemia do novo coronavírus pode jogar até 14,4 milhões de brasileiros na pobreza, segundo um novo estudo ...</td>\n",
              "    </tr>\n",
              "    <tr>\n",
              "      <th>1</th>\n",
              "      <td>https://www.bbc.co.uk/portuguese/brasil-53027318</td>\n",
              "      <td>Coronavírus: como funcionam as duas vacinas contra covid-19 que serão testadas em brasileiros - BBC News Brasil</td>\n",
              "      <td>Cerca de 11 mil voluntários brasileiros vão receber nas próximas semanas duas vacinas diferentes contra o coronavírus que estão em fase avançada...</td>\n",
              "    </tr>\n",
              "    <tr>\n",
              "      <th>2</th>\n",
              "      <td>https://www.bbc.co.uk/portuguese/brasil-51713943</td>\n",
              "      <td>Coronavírus: Brasil passa o Reino Unido e se torna segundo país com mais mortes por covid-19 - BBC News Brasil</td>\n",
              "      <td>*atualizada às 18h20 de 12 de junho de 2020 O Brasil totalizou, nesta sexta-feira (12), 41.828 mortes por covid-19 desde a chegada do novo coron...</td>\n",
              "    </tr>\n",
              "    <tr>\n",
              "      <th>3</th>\n",
              "      <td>https://www.bbc.co.uk/portuguese/internacional-53008262</td>\n",
              "      <td>Coronavírus na Índia: com lockdown 'insustentável', Índia reabre em meio a disparada de casos e temores de 'bomba-relógio' - BBC News Brasil</td>\n",
              "      <td>Quando, em 24 de março, o governo indiano iniciou um estrito isolamento da população e ordenou o fechamento de comércio e serviços não essenciai...</td>\n",
              "    </tr>\n",
              "    <tr>\n",
              "      <th>4</th>\n",
              "      <td>https://www.bbc.co.uk/portuguese/internacional-53008266</td>\n",
              "      <td>2ª onda do coronavírus? Irã vê aumento acelerado após reabertura, mas cita testes como causa - BBC News Brasil</td>\n",
              "      <td>O Irã registrou um rápido aumento no número de casos de covid-19 nas últimas semanas, provocando temores de que o país pode estar passando por u...</td>\n",
              "    </tr>\n",
              "  </tbody>\n",
              "</table>\n",
              "</div>"
            ],
            "text/plain": [
              "                                                       url  ...                                                                                                                                                   text\n",
              "0         https://www.bbc.co.uk/portuguese/brasil-53020785  ...    A turbulência econômica causada pela pandemia do novo coronavírus pode jogar até 14,4 milhões de brasileiros na pobreza, segundo um novo estudo ...\n",
              "1         https://www.bbc.co.uk/portuguese/brasil-53027318  ...    Cerca de 11 mil voluntários brasileiros vão receber nas próximas semanas duas vacinas diferentes contra o coronavírus que estão em fase avançada...\n",
              "2         https://www.bbc.co.uk/portuguese/brasil-51713943  ...    *atualizada às 18h20 de 12 de junho de 2020 O Brasil totalizou, nesta sexta-feira (12), 41.828 mortes por covid-19 desde a chegada do novo coron...\n",
              "3  https://www.bbc.co.uk/portuguese/internacional-53008262  ...    Quando, em 24 de março, o governo indiano iniciou um estrito isolamento da população e ordenou o fechamento de comércio e serviços não essenciai...\n",
              "4  https://www.bbc.co.uk/portuguese/internacional-53008266  ...    O Irã registrou um rápido aumento no número de casos de covid-19 nas últimas semanas, provocando temores de que o país pode estar passando por u...\n",
              "\n",
              "[5 rows x 3 columns]"
            ]
          },
          "metadata": {
            "tags": []
          },
          "execution_count": 28
        }
      ]
    },
    {
      "cell_type": "markdown",
      "metadata": {
        "id": "Snj7mU6Tcc_c",
        "colab_type": "text"
      },
      "source": [
        "# Processamento do Corpus"
      ]
    },
    {
      "cell_type": "markdown",
      "metadata": {
        "id": "QD0cBoV15Hdk",
        "colab_type": "text"
      },
      "source": [
        "1. Determine a distribuição de comprimentos dos textos (em quantidade de caracteres), listando estas quantidades e plotando um histograma."
      ]
    },
    {
      "cell_type": "code",
      "metadata": {
        "id": "97SS3sSCy-pU",
        "colab_type": "code",
        "colab": {
          "base_uri": "https://localhost:8080/",
          "height": 225
        },
        "outputId": "d54dd077-6058-4bfe-f998-6f657bc2aa4d"
      },
      "source": [
        "texts_length = dataset.text.apply(len)\n",
        "texts_length"
      ],
      "execution_count": null,
      "outputs": [
        {
          "output_type": "execute_result",
          "data": {
            "text/plain": [
              "0       8794\n",
              "1       6282\n",
              "2       8054\n",
              "3       8770\n",
              "4       4340\n",
              "        ... \n",
              "1611    4131\n",
              "1612    5179\n",
              "1613    3041\n",
              "1614    1310\n",
              "1615    1945\n",
              "Name: text, Length: 1616, dtype: int64"
            ]
          },
          "metadata": {
            "tags": []
          },
          "execution_count": 29
        }
      ]
    },
    {
      "cell_type": "code",
      "metadata": {
        "id": "c6_3jnHyDZxg",
        "colab_type": "code",
        "colab": {
          "base_uri": "https://localhost:8080/",
          "height": 394
        },
        "outputId": "16bd3684-9f8c-45be-cf0e-b2e36ff8d8a8"
      },
      "source": [
        "seaborn.set(rc={'figure.figsize':(12, 6)})\n",
        "seaborn.set_style(\"whitegrid\", {'axes.grid' : False})\n",
        "hist = seaborn.distplot(texts_length, kde=False, bins=10)"
      ],
      "execution_count": null,
      "outputs": [
        {
          "output_type": "display_data",
          "data": {
            "image/png": "[encoded data removed]",
            "text/plain": [
              "<Figure size 864x432 with 1 Axes>"
            ]
          },
          "metadata": {
            "tags": []
          }
        }
      ]
    },
    {
      "cell_type": "markdown",
      "metadata": {
        "id": "iukc5L6yzt6y",
        "colab_type": "text"
      },
      "source": [
        "2. Aplique os seguintes passos de pré-processamento aos textos:\n",
        "\n",
        "* Remova todas as palavras que contêm números;\n",
        "* Converta as palavras para minúsculas;\n",
        "* Remova pontuação;\n",
        "* Tokenize os textos em palavras, gerando um dicionário único com $n$\n",
        "tokens e convertendo cada texto em um vetor de dimensão $n$ com a respectiva contagem de palavras.\n",
        "\n",
        "Em seguida, encontre as palavras mais frequentes."
      ]
    },
    {
      "cell_type": "code",
      "metadata": {
        "id": "Ll9hthszZDjH",
        "colab_type": "code",
        "colab": {}
      },
      "source": [
        "def preprocess(text):\n",
        "  text = re.sub(r'\\w*\\d\\w*', '', text) # remove todas as palavras que contém números\n",
        "  text = re.sub(r'[^a-zA-ZáéíóúÁÉÍÓÚâêîôÂÊÎÔãõÃÕçÇ ]', '', text.lower()) # remove pontuação e converte para minúscula\n",
        "  return re.sub(r'\\s+', ' ', text) # remove espaços repetidos"
      ],
      "execution_count": null,
      "outputs": []
    },
    {
      "cell_type": "code",
      "metadata": {
        "id": "kiGCWrWR1Fjk",
        "colab_type": "code",
        "colab": {}
      },
      "source": [
        "dataset.text = dataset.text.apply(preprocess)"
      ],
      "execution_count": null,
      "outputs": []
    },
    {
      "cell_type": "code",
      "metadata": {
        "id": "E8pR0joj40y3",
        "colab_type": "code",
        "colab": {}
      },
      "source": [
        "dataset['tokens'] = dataset.text.apply(lambda t: nltk.word_tokenize(t, language='portuguese'))\n",
        "token_set = sorted(set([token for token_list in dataset.tokens.values for token in token_list]))\n",
        "token_to_index = {token: i for i, token in enumerate(token_set)}\n",
        "corpus_matrix = numpy.zeros(shape=(dataset.shape[0], len(token_to_index)))\n",
        "\n",
        "for i, row in dataset.iterrows():\n",
        "  for token in row.tokens:\n",
        "    corpus_matrix[i][token_to_index[token]] += 1\n",
        "\n",
        "most_freq = numpy.argmax(corpus_matrix, axis=1)"
      ],
      "execution_count": null,
      "outputs": []
    },
    {
      "cell_type": "markdown",
      "metadata": {
        "id": "9_Wl9t7a71WY",
        "colab_type": "text"
      },
      "source": [
        "Palavra mais frequente em cada texto:\n"
      ]
    },
    {
      "cell_type": "code",
      "metadata": {
        "id": "fEGh9Ht67YAa",
        "colab_type": "code",
        "colab": {
          "base_uri": "https://localhost:8080/",
          "height": 424
        },
        "outputId": "9b225f64-758f-454d-9e64-4b11601bd1c9"
      },
      "source": [
        "dataset['mf_word'] = [token_set[i] for i in most_freq]\n",
        "pandas.set_option('display.max_colwidth', 150)\n",
        "dataset[['title', 'mf_word']]"
      ],
      "execution_count": null,
      "outputs": [
        {
          "output_type": "execute_result",
          "data": {
            "text/html": [
              "<div>\n",
              "<style scoped>\n",
              "    .dataframe tbody tr th:only-of-type {\n",
              "        vertical-align: middle;\n",
              "    }\n",
              "\n",
              "    .dataframe tbody tr th {\n",
              "        vertical-align: top;\n",
              "    }\n",
              "\n",
              "    .dataframe thead th {\n",
              "        text-align: right;\n",
              "    }\n",
              "</style>\n",
              "<table border=\"1\" class=\"dataframe\">\n",
              "  <thead>\n",
              "    <tr style=\"text-align: right;\">\n",
              "      <th></th>\n",
              "      <th>title</th>\n",
              "      <th>mf_word</th>\n",
              "    </tr>\n",
              "  </thead>\n",
              "  <tbody>\n",
              "    <tr>\n",
              "      <th>0</th>\n",
              "      <td>Coronavírus: pandemia pode jogar até 14 milhões de brasileiros na pobreza, diz estudo - BBC News Brasil</td>\n",
              "      <td>de</td>\n",
              "    </tr>\n",
              "    <tr>\n",
              "      <th>1</th>\n",
              "      <td>Coronavírus: como funcionam as duas vacinas contra covid-19 que serão testadas em brasileiros - BBC News Brasil</td>\n",
              "      <td>de</td>\n",
              "    </tr>\n",
              "    <tr>\n",
              "      <th>2</th>\n",
              "      <td>Coronavírus: Brasil passa o Reino Unido e se torna segundo país com mais mortes por covid-19 - BBC News Brasil</td>\n",
              "      <td>de</td>\n",
              "    </tr>\n",
              "    <tr>\n",
              "      <th>3</th>\n",
              "      <td>Coronavírus na Índia: com lockdown 'insustentável', Índia reabre em meio a disparada de casos e temores de 'bomba-relógio' - BBC News Brasil</td>\n",
              "      <td>de</td>\n",
              "    </tr>\n",
              "    <tr>\n",
              "      <th>4</th>\n",
              "      <td>2ª onda do coronavírus? Irã vê aumento acelerado após reabertura, mas cita testes como causa - BBC News Brasil</td>\n",
              "      <td>de</td>\n",
              "    </tr>\n",
              "    <tr>\n",
              "      <th>...</th>\n",
              "      <td>...</td>\n",
              "      <td>...</td>\n",
              "    </tr>\n",
              "    <tr>\n",
              "      <th>1611</th>\n",
              "      <td>Farmácias têm falta de máscaras após confirmação de coronavírus no Brasil</td>\n",
              "      <td>de</td>\n",
              "    </tr>\n",
              "    <tr>\n",
              "      <th>1612</th>\n",
              "      <td>Ibovespa tem nova queda com mercado ainda preocupado com coronavírus</td>\n",
              "      <td>o</td>\n",
              "    </tr>\n",
              "    <tr>\n",
              "      <th>1613</th>\n",
              "      <td>Japonesa testa positivo pela segunda vez para coronavírus</td>\n",
              "      <td>de</td>\n",
              "    </tr>\n",
              "    <tr>\n",
              "      <th>1614</th>\n",
              "      <td>Primeiro brasileiro com coronavírus tem sintomas brandos, mas continua isolado</td>\n",
              "      <td>de</td>\n",
              "    </tr>\n",
              "    <tr>\n",
              "      <th>1615</th>\n",
              "      <td>Coronavírus: 'Não é momento para pânico' no Brasil, diz médico sanitarista</td>\n",
              "      <td>de</td>\n",
              "    </tr>\n",
              "  </tbody>\n",
              "</table>\n",
              "<p>1616 rows × 2 columns</p>\n",
              "</div>"
            ],
            "text/plain": [
              "                                                                                                                                             title mf_word\n",
              "0                                          Coronavírus: pandemia pode jogar até 14 milhões de brasileiros na pobreza, diz estudo - BBC News Brasil      de\n",
              "1                                  Coronavírus: como funcionam as duas vacinas contra covid-19 que serão testadas em brasileiros - BBC News Brasil      de\n",
              "2                                   Coronavírus: Brasil passa o Reino Unido e se torna segundo país com mais mortes por covid-19 - BBC News Brasil      de\n",
              "3     Coronavírus na Índia: com lockdown 'insustentável', Índia reabre em meio a disparada de casos e temores de 'bomba-relógio' - BBC News Brasil      de\n",
              "4                                   2ª onda do coronavírus? Irã vê aumento acelerado após reabertura, mas cita testes como causa - BBC News Brasil      de\n",
              "...                                                                                                                                            ...     ...\n",
              "1611                                                                     Farmácias têm falta de máscaras após confirmação de coronavírus no Brasil      de\n",
              "1612                                                                          Ibovespa tem nova queda com mercado ainda preocupado com coronavírus       o\n",
              "1613                                                                                     Japonesa testa positivo pela segunda vez para coronavírus      de\n",
              "1614                                                                Primeiro brasileiro com coronavírus tem sintomas brandos, mas continua isolado      de\n",
              "1615                                                                    Coronavírus: 'Não é momento para pânico' no Brasil, diz médico sanitarista      de\n",
              "\n",
              "[1616 rows x 2 columns]"
            ]
          },
          "metadata": {
            "tags": []
          },
          "execution_count": 34
        }
      ]
    },
    {
      "cell_type": "markdown",
      "metadata": {
        "id": "ufuXMw8b8as_",
        "colab_type": "text"
      },
      "source": [
        "3. Aplique os seguintes passos de pré-processamento aos textos processados na questão anterior:\n",
        "\n",
        "* Remova stopwords;\n",
        "* Realize rotulação de POS;\n",
        "* Realize stemização;\n",
        "\n",
        "Exiba os resultados em alguns textos. Verifique quais são as palavras mais frequentes e compare com as palavras mais frequentes da questão anterior."
      ]
    },
    {
      "cell_type": "code",
      "metadata": {
        "id": "Sx0Yux7e9Yr6",
        "colab_type": "code",
        "colab": {}
      },
      "source": [
        "stopwords = nltk.corpus.stopwords.words('portuguese')\n",
        "stemmer = nltk.stem.RSLPStemmer()"
      ],
      "execution_count": null,
      "outputs": []
    },
    {
      "cell_type": "code",
      "metadata": {
        "id": "__0NskGj8lQc",
        "colab_type": "code",
        "colab": {}
      },
      "source": [
        "dataset.tokens = dataset.tokens.apply(lambda y: [stemmer.stem(d) for d in filter(lambda x: x not in stopwords, y)])\n",
        "token_set = sorted(set([token for token_list in dataset.tokens.values for token in token_list]))\n",
        "token_to_index = {token: i for i, token in enumerate(token_set)}\n",
        "corpus_matrix = numpy.zeros(shape=(dataset.shape[0], len(token_to_index)))\n",
        "\n",
        "for i, row in dataset.iterrows():\n",
        "  for token in row.tokens:\n",
        "    corpus_matrix[i][token_to_index[token]] += 1\n",
        "\n",
        "most_freq = numpy.argmax(corpus_matrix, axis=1)"
      ],
      "execution_count": null,
      "outputs": []
    },
    {
      "cell_type": "markdown",
      "metadata": {
        "id": "f3NtM_8Kz7kF",
        "colab_type": "text"
      },
      "source": [
        "Treinando o modelo de _POS tagging_ para palavras em português. Código original em:\n",
        "\n",
        "> https://github.com/fmaruki/Nltk-Tagger-Portuguese"
      ]
    },
    {
      "cell_type": "code",
      "metadata": {
        "id": "2s4XR3zOcp20",
        "colab_type": "code",
        "colab": {
          "base_uri": "https://localhost:8080/",
          "height": 69
        },
        "outputId": "d9c1840e-d9f9-4885-ebc7-23f6403d5316"
      },
      "source": [
        "nltk.download('floresta')"
      ],
      "execution_count": null,
      "outputs": [
        {
          "output_type": "stream",
          "text": [
            "[nltk_data] Downloading package floresta to /root/nltk_data...\n",
            "[nltk_data]   Package floresta is already up-to-date!\n"
          ],
          "name": "stdout"
        },
        {
          "output_type": "execute_result",
          "data": {
            "text/plain": [
              "True"
            ]
          },
          "metadata": {
            "tags": []
          },
          "execution_count": 37
        }
      ]
    },
    {
      "cell_type": "code",
      "metadata": {
        "id": "ZXyTLB02cw2A",
        "colab_type": "code",
        "colab": {
          "base_uri": "https://localhost:8080/",
          "height": 69
        },
        "outputId": "b8bac0e2-bcc2-4be6-cdd5-5a5a363386ec"
      },
      "source": [
        "nltk.download('mac_morpho')"
      ],
      "execution_count": null,
      "outputs": [
        {
          "output_type": "stream",
          "text": [
            "[nltk_data] Downloading package mac_morpho to /root/nltk_data...\n",
            "[nltk_data]   Package mac_morpho is already up-to-date!\n"
          ],
          "name": "stdout"
        },
        {
          "output_type": "execute_result",
          "data": {
            "text/plain": [
              "True"
            ]
          },
          "metadata": {
            "tags": []
          },
          "execution_count": 38
        }
      ]
    },
    {
      "cell_type": "code",
      "metadata": {
        "id": "ju42ugm9xTLK",
        "colab_type": "code",
        "colab": {}
      },
      "source": [
        "def convert_to_universal_tag(t, reverse=False):\n",
        "    tagdict = {\n",
        "        'n': \"NOUN\",\n",
        "        'num': \"NUM\",\n",
        "        'v-fin': \"VERB\",\n",
        "        'v-inf': \"VERB\",\n",
        "        'v-ger': \"VERB\",\n",
        "        'v-pcp': \"VERB\",\n",
        "        'pron-det': \"PRON\",\n",
        "        'pron-indp': \"PRON\",\n",
        "        'pron-pers': \"PRON\",\n",
        "        'art': \"DET\",\n",
        "        'adv': \"ADV\",\n",
        "        'conj-s': \"CONJ\",\n",
        "        'conj-c': \"CONJ\",\n",
        "        'conj-p': \"CONJ\",\n",
        "        'adj': \"ADJ\",\n",
        "        'ec': \"PRT\",\n",
        "        'pp': \"ADP\",\n",
        "        'prp': \"ADP\",\n",
        "        'prop': \"NOUN\",\n",
        "        'pro-ks-rel': \"PRON\",\n",
        "        'proadj': \"PRON\",\n",
        "        'prep': \"ADP\",\n",
        "        'nprop': \"NOUN\",\n",
        "        'vaux': \"VERB\",\n",
        "        'propess': \"PRON\",\n",
        "        'v': \"VERB\",\n",
        "        'vp': \"VERB\",\n",
        "        'in': \"X\",\n",
        "        'prp-': \"ADP\",\n",
        "        'adv-ks': \"ADV\",\n",
        "        'dad': \"NUM\",\n",
        "        'prosub': \"PRON\",\n",
        "        'tel': \"NUM\",\n",
        "        'ap': \"NUM\",\n",
        "        'est': \"NOUN\",\n",
        "        'cur': \"X\",\n",
        "        'pcp': \"VERB\",\n",
        "        'pro-ks': \"PRON\",\n",
        "        'hor': \"NUM\",\n",
        "        'pden': \"ADV\",\n",
        "        'dat': \"NUM\",\n",
        "        'kc': \"ADP\",\n",
        "        'ks': \"ADP\",\n",
        "        'adv-ks-rel': \"ADV\",\n",
        "        'npro': \"NOUN\",\n",
        "    }\n",
        "    if t in [\"N|AP\",\"N|DAD\",\"N|DAT\",\"N|HOR\",\"N|TEL\"]:\n",
        "        t = \"NUM\"\n",
        "    if reverse:\n",
        "        if \"|\" in t: t = t.split(\"|\")[0]\n",
        "    else:\n",
        "        if \"+\" in t: t = t.split(\"+\")[1]\n",
        "        if \"|\" in t: t = t.split(\"|\")[1]\n",
        "        if \"#\" in t: t = t.split(\"#\")[0]\n",
        "    t = t.lower()\n",
        "    return tagdict.get(t, \".\" if all(tt in punctuation for tt in t) else t)\n",
        "\n",
        "dataset1 = list(nltk.corpus.floresta.tagged_sents())\n",
        "dataset2 = [[w[0] for w in sent] for sent in nltk.corpus.mac_morpho.tagged_paras()]\n",
        "\n",
        "traindata = [[(w, convert_to_universal_tag(t)) for (w, t) in sent] for sent in dataset1]\n",
        "traindata2 = traindata + [[(w, convert_to_universal_tag(t, reverse=True)) for (w, t) in sent] for sent in dataset2]\n",
        "\n",
        "shuffle(traindata)\n",
        "shuffle(traindata2)\n",
        "\n",
        "regex_patterns = [\n",
        "    (r\"^[nN][ao]s?$\", \"ADP\"),\n",
        "    (r\"^[dD][ao]s?$\", \"ADP\"),\n",
        "    (r\"^[pP]el[ao]s?$\", \"ADP\"),\n",
        "    (r\"^[nN]est[ae]s?$\", \"ADP\"),\n",
        "    (r\"^[nN]um$\", \"ADP\"),\n",
        "    (r\"^[nN]ess[ae]s?$\", \"ADP\"),\n",
        "    (r\"^[nN]aquel[ae]s?$\", \"ADP\"),\n",
        "    (r\"^\\xe0$\", \"ADP\"),\n",
        "]\n",
        "\n",
        "tagger = nltk.BigramTagger(\n",
        "            traindata, backoff=nltk.RegexpTagger(\n",
        "                regex_patterns, backoff=nltk.UnigramTagger(\n",
        "                    traindata2, backoff=nltk.AffixTagger(\n",
        "                        traindata2, backoff=nltk.DefaultTagger('NOUN')\n",
        "                    )\n",
        "                )\n",
        "            )\n",
        "        )\n",
        "templates = nltk.brill.fntbl37()\n",
        "tagger = nltk.BrillTaggerTrainer(tagger, templates)\n",
        "tagger = tagger.train(traindata, max_rules=100)"
      ],
      "execution_count": null,
      "outputs": []
    },
    {
      "cell_type": "code",
      "metadata": {
        "id": "jUMWDoCkKI94",
        "colab_type": "code",
        "colab": {}
      },
      "source": [
        "dataset['pos'] = dataset.text.apply(lambda text: tagger.tag(nltk.word_tokenize(text)))"
      ],
      "execution_count": null,
      "outputs": []
    },
    {
      "cell_type": "code",
      "metadata": {
        "id": "XCT-mg24LHrw",
        "colab_type": "code",
        "colab": {
          "base_uri": "https://localhost:8080/",
          "height": 245
        },
        "outputId": "ab33f602-d07e-4e7b-d5ab-13adf5af66ec"
      },
      "source": [
        "dataset.pos"
      ],
      "execution_count": null,
      "outputs": [
        {
          "output_type": "execute_result",
          "data": {
            "text/plain": [
              "0       [(a, DET), (turbulência, NOUN), (econômica, ADJ), (causada, VERB), (pela, ADP), (pandemia, NOUN), (do, ADP), (novo, ADJ), (coronavírus, NOUN), (po...\n",
              "1       [(cerca, ADP), (de, ADP), (mil, NUM), (voluntários, NOUN), (brasileiros, ADJ), (vão, VERB), (receber, VERB), (nas, PRON), (próximas, ADJ), (semana...\n",
              "2       [(atualizada, VERB), (s, PRON), (de, ADP), (de, ADP), (junho, NOUN), (de, ADP), (o, DET), (brasil, NOUN), (totalizou, VERB), (nesta, ADP), (sextaf...\n",
              "3       [(quando, ADV), (em, ADP), (de, ADP), (março, NOUN), (o, DET), (governo, NOUN), (indiano, ADJ), (iniciou, VERB), (um, DET), (estrito, NOUN), (isol...\n",
              "4       [(o, DET), (irã, NOUN), (registrou, VERB), (um, DET), (rápido, ADJ), (aumento, NOUN), (no, ADP), (número, NOUN), (de, ADP), (casos, NOUN), (de, AD...\n",
              "                                                                                ...                                                                          \n",
              "1611    [(com, ADP), (a, DET), (confirmação, NOUN), (do, ADP), (primeiro, ADJ), (caso, NOUN), (de, ADP), (contaminação, NOUN), (pelo, ADP), (novo, ADJ), (...\n",
              "1612    [(preocupações, NOUN), (com, ADP), (a, DET), (propagação, NOUN), (do, ADP), (novo, ADJ), (coronavírus, NOUN), (e, CONJ), (seus, PRON), (potenciais...\n",
              "1613    [(tóquio, NOUN), (uma, DET), (guia, NOUN), (de, ADP), (ônibus, NOUN), (turístico, ADJ), (no, ADP), (japão, NOUN), (apresentou, VERB), (resultado, ...\n",
              "1614    [(o, DET), (primeiro, ADJ), (brasileiro, ADJ), (com, ADP), (diagnóstico, NOUN), (confirmado, VERB), (de, ADP), (coronavírus, NOUN), (apresenta, VE...\n",
              "1615    [(o, DET), (brasil, NOUN), (está, VERB), (preparado, VERB), (para, ADP), (lidar, VERB), (com, ADP), (o, DET), (coronavírus, NOUN), (afirmou, VERB)...\n",
              "Name: pos, Length: 1616, dtype: object"
            ]
          },
          "metadata": {
            "tags": []
          },
          "execution_count": 41
        }
      ]
    },
    {
      "cell_type": "markdown",
      "metadata": {
        "colab_type": "text",
        "id": "v8wtxqxI-nlb"
      },
      "source": [
        "Palavra mais frequente em cada texto:\n"
      ]
    },
    {
      "cell_type": "code",
      "metadata": {
        "colab_type": "code",
        "id": "qVeIri21-nlc",
        "colab": {
          "base_uri": "https://localhost:8080/",
          "height": 424
        },
        "outputId": "9dd72625-52e6-4fd5-e495-b668c78bf27a"
      },
      "source": [
        "dataset['mf_word'] = [token_set[i] for i in most_freq]\n",
        "dataset[['title', 'mf_word']]"
      ],
      "execution_count": null,
      "outputs": [
        {
          "output_type": "execute_result",
          "data": {
            "text/html": [
              "<div>\n",
              "<style scoped>\n",
              "    .dataframe tbody tr th:only-of-type {\n",
              "        vertical-align: middle;\n",
              "    }\n",
              "\n",
              "    .dataframe tbody tr th {\n",
              "        vertical-align: top;\n",
              "    }\n",
              "\n",
              "    .dataframe thead th {\n",
              "        text-align: right;\n",
              "    }\n",
              "</style>\n",
              "<table border=\"1\" class=\"dataframe\">\n",
              "  <thead>\n",
              "    <tr style=\"text-align: right;\">\n",
              "      <th></th>\n",
              "      <th>title</th>\n",
              "      <th>mf_word</th>\n",
              "    </tr>\n",
              "  </thead>\n",
              "  <tbody>\n",
              "    <tr>\n",
              "      <th>0</th>\n",
              "      <td>Coronavírus: pandemia pode jogar até 14 milhões de brasileiros na pobreza, diz estudo - BBC News Brasil</td>\n",
              "      <td>pobr</td>\n",
              "    </tr>\n",
              "    <tr>\n",
              "      <th>1</th>\n",
              "      <td>Coronavírus: como funcionam as duas vacinas contra covid-19 que serão testadas em brasileiros - BBC News Brasil</td>\n",
              "      <td>vacin</td>\n",
              "    </tr>\n",
              "    <tr>\n",
              "      <th>2</th>\n",
              "      <td>Coronavírus: Brasil passa o Reino Unido e se torna segundo país com mais mortes por covid-19 - BBC News Brasil</td>\n",
              "      <td>dad</td>\n",
              "    </tr>\n",
              "    <tr>\n",
              "      <th>3</th>\n",
              "      <td>Coronavírus na Índia: com lockdown 'insustentável', Índia reabre em meio a disparada de casos e temores de 'bomba-relógio' - BBC News Brasil</td>\n",
              "      <td>cas</td>\n",
              "    </tr>\n",
              "    <tr>\n",
              "      <th>4</th>\n",
              "      <td>2ª onda do coronavírus? Irã vê aumento acelerado após reabertura, mas cita testes como causa - BBC News Brasil</td>\n",
              "      <td>irã</td>\n",
              "    </tr>\n",
              "    <tr>\n",
              "      <th>...</th>\n",
              "      <td>...</td>\n",
              "      <td>...</td>\n",
              "    </tr>\n",
              "    <tr>\n",
              "      <th>1611</th>\n",
              "      <td>Farmácias têm falta de máscaras após confirmação de coronavírus no Brasil</td>\n",
              "      <td>másc</td>\n",
              "    </tr>\n",
              "    <tr>\n",
              "      <th>1612</th>\n",
              "      <td>Ibovespa tem nova queda com mercado ainda preocupado com coronavírus</td>\n",
              "      <td>econom</td>\n",
              "    </tr>\n",
              "    <tr>\n",
              "      <th>1613</th>\n",
              "      <td>Japonesa testa positivo pela segunda vez para coronavírus</td>\n",
              "      <td>pesso</td>\n",
              "    </tr>\n",
              "    <tr>\n",
              "      <th>1614</th>\n",
              "      <td>Primeiro brasileiro com coronavírus tem sintomas brandos, mas continua isolado</td>\n",
              "      <td>brasil</td>\n",
              "    </tr>\n",
              "    <tr>\n",
              "      <th>1615</th>\n",
              "      <td>Coronavírus: 'Não é momento para pânico' no Brasil, diz médico sanitarista</td>\n",
              "      <td>doenç</td>\n",
              "    </tr>\n",
              "  </tbody>\n",
              "</table>\n",
              "<p>1616 rows × 2 columns</p>\n",
              "</div>"
            ],
            "text/plain": [
              "                                                                                                                                             title mf_word\n",
              "0                                          Coronavírus: pandemia pode jogar até 14 milhões de brasileiros na pobreza, diz estudo - BBC News Brasil    pobr\n",
              "1                                  Coronavírus: como funcionam as duas vacinas contra covid-19 que serão testadas em brasileiros - BBC News Brasil   vacin\n",
              "2                                   Coronavírus: Brasil passa o Reino Unido e se torna segundo país com mais mortes por covid-19 - BBC News Brasil     dad\n",
              "3     Coronavírus na Índia: com lockdown 'insustentável', Índia reabre em meio a disparada de casos e temores de 'bomba-relógio' - BBC News Brasil     cas\n",
              "4                                   2ª onda do coronavírus? Irã vê aumento acelerado após reabertura, mas cita testes como causa - BBC News Brasil     irã\n",
              "...                                                                                                                                            ...     ...\n",
              "1611                                                                     Farmácias têm falta de máscaras após confirmação de coronavírus no Brasil    másc\n",
              "1612                                                                          Ibovespa tem nova queda com mercado ainda preocupado com coronavírus  econom\n",
              "1613                                                                                     Japonesa testa positivo pela segunda vez para coronavírus   pesso\n",
              "1614                                                                Primeiro brasileiro com coronavírus tem sintomas brandos, mas continua isolado  brasil\n",
              "1615                                                                    Coronavírus: 'Não é momento para pânico' no Brasil, diz médico sanitarista   doenç\n",
              "\n",
              "[1616 rows x 2 columns]"
            ]
          },
          "metadata": {
            "tags": []
          },
          "execution_count": 42
        }
      ]
    }
  ]
}