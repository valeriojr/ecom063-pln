{
 "cells": [
  {
   "cell_type": "code",
   "execution_count": 1,
   "metadata": {},
   "outputs": [],
   "source": [
    "import os\n",
    "import json\n",
    "import tqdm\n",
    "import requests\n",
    "\n",
    "from bs4 import BeautifulSoup"
   ]
  },
  {
   "cell_type": "code",
   "execution_count": 2,
   "metadata": {},
   "outputs": [],
   "source": [
    "def get_url(limit, offset):\n",
    "    return 'https://cnn-prod.content.agilesvcs.com/110/default/pt-BR/search?contentTypes=LNK&includeImages=Background&CA_ComponentType=Article&orderBy=changedAt%3AD&limit={}&offset={}&term=coronavirus'.format(limit, offset)"
   ]
  },
  {
   "cell_type": "code",
   "execution_count": 3,
   "metadata": {},
   "outputs": [],
   "source": [
    "page = requests.get(get_url(limit=100, offset=0))"
   ]
  },
  {
   "cell_type": "code",
   "execution_count": 4,
   "metadata": {},
   "outputs": [],
   "source": [
    "data = json.loads(page.content)"
   ]
  },
  {
   "cell_type": "code",
   "execution_count": 5,
   "metadata": {},
   "outputs": [],
   "source": [
    "d = data['Content']['List'][0]"
   ]
  },
  {
   "cell_type": "code",
   "execution_count": 6,
   "metadata": {},
   "outputs": [
    {
     "data": {
      "text/plain": [
       "'Bruno Covas testa positivo para o novo coronavírus'"
      ]
     },
     "execution_count": 6,
     "metadata": {},
     "output_type": "execute_result"
    }
   ],
   "source": [
    "d['Title']"
   ]
  },
  {
   "cell_type": "code",
   "execution_count": 8,
   "metadata": {},
   "outputs": [
    {
     "data": {
      "text/plain": [
       "'https://www.cnnbrasil.com.br/nacional/2020/06/13/bruno-covas-testa-positivo-para-novo-coronavirus'"
      ]
     },
     "execution_count": 8,
     "metadata": {},
     "output_type": "execute_result"
    }
   ],
   "source": [
    "'https://www.cnnbrasil.com.br/' + d['Url']"
   ]
  },
  {
   "cell_type": "code",
   "execution_count": 9,
   "metadata": {},
   "outputs": [
    {
     "data": {
      "text/plain": [
       "'O prefeito de São Paulo Bruno Covas (PSDB) foi diagnosticado com o novo coronavírus. De acordo com a assessoria de imprensa do município, a doença foi detectada num exame de rotina. Em vídeo nas redes sociais, o prefeito disse que não apresenta sintomas e que não irá se licenciar do cargo. Em tratamento contra um câncer, o tucano é considerado parte do grupo de risco ao novo coronavírus. \"A Prefeitura de São Paulo informa que neste sábado (13/06), após teste preventivo de rotina, o prefeito Bruno Covas obteve diagnóstico positivo para coronavírus\", diz a nota. \"Ele passa bem, não apresenta sintomas e recebeu recomendação de seu médico, Dr. Davi Uip, para permanecer trabalhando em casa e em observação pelos próximos dias\", conclui. O prefeito divulgou um vídeo em suas redes sociais em que comenta o diagnóstico: “Depois de quatro resultados negativos, hoje, infelizmente, eu testei positivo para a covid-19. O orientação do meu médico já que não tenho nenhum sintoma é ficar dentro de casa. Não há necessidade de me licenciar do cargo de prefeito. Vou poder continuar a me reunir de forma online através da internet, continuar a trabalhar, mas dentro de casa\", afirmou Covas. \"A expectativa é que eu fique aqui pelos próximos dez dias. Qualquer novidade eu aviso vocês. Muito obrigado. Um grande abraço a todos\", completou. Em março, o prefeito havia se isolado em seu gabinete e se submetido a exame para Covid-19 após Uip, seu médico e então chefe do Centro de Contingência para o coronavírus em São Paulo, testar positivo para a doença. Além disso, em maio, Covas passou dois dias no hospital Sírio-Libanês após sentir um desconforto abdominal. Na época, exames detectaram um quadro de colite autolimitada (inflamação do intestino com melhora espontânea), segundo nota divulgada pelo hospital.'"
      ]
     },
     "execution_count": 9,
     "metadata": {},
     "output_type": "execute_result"
    }
   ],
   "source": [
    "' '.join([p.text for p in BeautifulSoup(d['Html'], 'html.parser').find_all('p')])"
   ]
  },
  {
   "cell_type": "code",
   "execution_count": 10,
   "metadata": {},
   "outputs": [
    {
     "name": "stderr",
     "output_type": "stream",
     "text": [
      "100%|██████████| 13/13 [00:16<00:00,  1.24s/it]\n"
     ]
    }
   ],
   "source": [
    "articles = []\n",
    "for offset in tqdm.tqdm(range(0, 1275, 100)):\n",
    "    page = requests.get(get_url(limit=100, offset=offset))\n",
    "    data = json.loads(page.content)\n",
    "    for d in data['Content']['List']:\n",
    "        articles.append(\n",
    "            {\n",
    "                'url': 'https://www.cnnbrasil.com.br/' + d['Url'],\n",
    "                'title': d['Title'],\n",
    "                'text': ' '.join([p.text for p in BeautifulSoup(d['Html'], 'html.parser').find_all('p')])\n",
    "            }\n",
    "        )"
   ]
  },
  {
   "cell_type": "code",
   "execution_count": 11,
   "metadata": {},
   "outputs": [],
   "source": [
    "import pandas"
   ]
  },
  {
   "cell_type": "code",
   "execution_count": 13,
   "metadata": {},
   "outputs": [
    {
     "data": {
      "text/html": [
       "<div>\n",
       "<style scoped>\n",
       "    .dataframe tbody tr th:only-of-type {\n",
       "        vertical-align: middle;\n",
       "    }\n",
       "\n",
       "    .dataframe tbody tr th {\n",
       "        vertical-align: top;\n",
       "    }\n",
       "\n",
       "    .dataframe thead th {\n",
       "        text-align: right;\n",
       "    }\n",
       "</style>\n",
       "<table border=\"1\" class=\"dataframe\">\n",
       "  <thead>\n",
       "    <tr style=\"text-align: right;\">\n",
       "      <th></th>\n",
       "      <th>url</th>\n",
       "      <th>title</th>\n",
       "      <th>text</th>\n",
       "    </tr>\n",
       "  </thead>\n",
       "  <tbody>\n",
       "    <tr>\n",
       "      <th>0</th>\n",
       "      <td>https://www.cnnbrasil.com.br/nacional/2020/06/...</td>\n",
       "      <td>Bruno Covas testa positivo para o novo coronav...</td>\n",
       "      <td>O prefeito de São Paulo Bruno Covas (PSDB) foi...</td>\n",
       "    </tr>\n",
       "    <tr>\n",
       "      <th>1</th>\n",
       "      <td>https://www.cnnbrasil.com.br/nacional/2020/06/...</td>\n",
       "      <td>Curitiba vai retomar medidas de restrição devi...</td>\n",
       "      <td>Jardim Botânico de Curitiba; praças e parques ...</td>\n",
       "    </tr>\n",
       "    <tr>\n",
       "      <th>2</th>\n",
       "      <td>https://www.cnnbrasil.com.br/tecnologia/2020/0...</td>\n",
       "      <td>Japão quer lançar aplicativo de vigilância con...</td>\n",
       "      <td>O Japão pretende lançar um aplicativo para sma...</td>\n",
       "    </tr>\n",
       "    <tr>\n",
       "      <th>3</th>\n",
       "      <td>https://www.cnnbrasil.com.br/internacional/202...</td>\n",
       "      <td>Viúva do médico que alertou sobre coronavírus ...</td>\n",
       "      <td>\"Você consegue ver do céu? O último presente q...</td>\n",
       "    </tr>\n",
       "    <tr>\n",
       "      <th>4</th>\n",
       "      <td>https://www.cnnbrasil.com.br/esporte/2020/06/1...</td>\n",
       "      <td>NBA agenda testes de coronavírus para jogadore...</td>\n",
       "      <td>A National Basketball Association (NBA) estabe...</td>\n",
       "    </tr>\n",
       "    <tr>\n",
       "      <th>...</th>\n",
       "      <td>...</td>\n",
       "      <td>...</td>\n",
       "      <td>...</td>\n",
       "    </tr>\n",
       "    <tr>\n",
       "      <th>1270</th>\n",
       "      <td>https://www.cnnbrasil.com.br/saude/2020/02/27/...</td>\n",
       "      <td>Farmácias têm falta de máscaras após confirmaç...</td>\n",
       "      <td>Com a confirmação do primeiro caso de contamin...</td>\n",
       "    </tr>\n",
       "    <tr>\n",
       "      <th>1271</th>\n",
       "      <td>https://www.cnnbrasil.com.br/business/2020/02/...</td>\n",
       "      <td>Ibovespa tem nova queda com mercado ainda preo...</td>\n",
       "      <td>Preocupações com a propagação do novo coronaví...</td>\n",
       "    </tr>\n",
       "    <tr>\n",
       "      <th>1272</th>\n",
       "      <td>https://www.cnnbrasil.com.br/internacional/202...</td>\n",
       "      <td>Japonesa testa positivo pela segunda vez para ...</td>\n",
       "      <td>TÓQUIO - Uma guia de ônibus turístico no Japão...</td>\n",
       "    </tr>\n",
       "    <tr>\n",
       "      <th>1273</th>\n",
       "      <td>https://www.cnnbrasil.com.br/saude/2020/02/26/...</td>\n",
       "      <td>Primeiro brasileiro com coronavírus tem sintom...</td>\n",
       "      <td>O primeiro brasileiro com diagnóstico confir...</td>\n",
       "    </tr>\n",
       "    <tr>\n",
       "      <th>1274</th>\n",
       "      <td>https://www.cnnbrasil.com.br/saude/2020/02/26/...</td>\n",
       "      <td>Coronavírus: 'Não é momento para pânico' no Br...</td>\n",
       "      <td>O Brasil está preparado para lidar com o cor...</td>\n",
       "    </tr>\n",
       "  </tbody>\n",
       "</table>\n",
       "<p>1275 rows × 3 columns</p>\n",
       "</div>"
      ],
      "text/plain": [
       "                                                    url  \\\n",
       "0     https://www.cnnbrasil.com.br/nacional/2020/06/...   \n",
       "1     https://www.cnnbrasil.com.br/nacional/2020/06/...   \n",
       "2     https://www.cnnbrasil.com.br/tecnologia/2020/0...   \n",
       "3     https://www.cnnbrasil.com.br/internacional/202...   \n",
       "4     https://www.cnnbrasil.com.br/esporte/2020/06/1...   \n",
       "...                                                 ...   \n",
       "1270  https://www.cnnbrasil.com.br/saude/2020/02/27/...   \n",
       "1271  https://www.cnnbrasil.com.br/business/2020/02/...   \n",
       "1272  https://www.cnnbrasil.com.br/internacional/202...   \n",
       "1273  https://www.cnnbrasil.com.br/saude/2020/02/26/...   \n",
       "1274  https://www.cnnbrasil.com.br/saude/2020/02/26/...   \n",
       "\n",
       "                                                  title  \\\n",
       "0     Bruno Covas testa positivo para o novo coronav...   \n",
       "1     Curitiba vai retomar medidas de restrição devi...   \n",
       "2     Japão quer lançar aplicativo de vigilância con...   \n",
       "3     Viúva do médico que alertou sobre coronavírus ...   \n",
       "4     NBA agenda testes de coronavírus para jogadore...   \n",
       "...                                                 ...   \n",
       "1270  Farmácias têm falta de máscaras após confirmaç...   \n",
       "1271  Ibovespa tem nova queda com mercado ainda preo...   \n",
       "1272  Japonesa testa positivo pela segunda vez para ...   \n",
       "1273  Primeiro brasileiro com coronavírus tem sintom...   \n",
       "1274  Coronavírus: 'Não é momento para pânico' no Br...   \n",
       "\n",
       "                                                   text  \n",
       "0     O prefeito de São Paulo Bruno Covas (PSDB) foi...  \n",
       "1     Jardim Botânico de Curitiba; praças e parques ...  \n",
       "2     O Japão pretende lançar um aplicativo para sma...  \n",
       "3     \"Você consegue ver do céu? O último presente q...  \n",
       "4     A National Basketball Association (NBA) estabe...  \n",
       "...                                                 ...  \n",
       "1270  Com a confirmação do primeiro caso de contamin...  \n",
       "1271  Preocupações com a propagação do novo coronaví...  \n",
       "1272  TÓQUIO - Uma guia de ônibus turístico no Japão...  \n",
       "1273    O primeiro brasileiro com diagnóstico confir...  \n",
       "1274    O Brasil está preparado para lidar com o cor...  \n",
       "\n",
       "[1275 rows x 3 columns]"
      ]
     },
     "execution_count": 13,
     "metadata": {},
     "output_type": "execute_result"
    }
   ],
   "source": [
    "df = pandas.DataFrame(articles)\n",
    "df"
   ]
  },
  {
   "cell_type": "code",
   "execution_count": 19,
   "metadata": {},
   "outputs": [],
   "source": [
    "df.to_csv('data/cnn.csv', index=False, sep='|')"
   ]
  },
  {
   "cell_type": "code",
   "execution_count": null,
   "metadata": {},
   "outputs": [],
   "source": []
  }
 ],
 "metadata": {
  "kernelspec": {
   "display_name": "Python 3",
   "language": "python",
   "name": "python3"
  },
  "language_info": {
   "codemirror_mode": {
    "name": "ipython",
    "version": 3
   },
   "file_extension": ".py",
   "mimetype": "text/x-python",
   "name": "python",
   "nbconvert_exporter": "python",
   "pygments_lexer": "ipython3",
   "version": "3.8.2"
  }
 },
 "nbformat": 4,
 "nbformat_minor": 4
}
