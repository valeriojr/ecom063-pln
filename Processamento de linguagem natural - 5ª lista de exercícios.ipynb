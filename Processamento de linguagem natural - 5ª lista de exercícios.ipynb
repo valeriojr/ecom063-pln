{
 "cells": [
  {
   "cell_type": "markdown",
   "metadata": {
    "colab_type": "text",
    "id": "CaewsrVFwclv"
   },
   "source": [
    "Universidade Federal de Alagoas\n",
    "\n",
    "IC - Instituto de Computação\n",
    "\n",
    " \n",
    "\n",
    "# Processamento de linguagem natural - 2020.1\n",
    "**Professor**: Thales Vieira\n",
    "\n",
    "**Alunos**: Hugo Tallys Martins Oliveira e Valério Nogueira Rodrigues Júnior\n",
    "\n",
    "\n",
    "## 5ª lista de exercícios\n",
    "\n",
    "---"
   ]
  },
  {
   "cell_type": "markdown",
   "metadata": {
    "colab_type": "text",
    "id": "BBpYvy6ZzKlJ"
   },
   "source": [
    "# Pré-processamento dos dados"
   ]
  },
  {
   "cell_type": "code",
   "execution_count": 2,
   "metadata": {
    "colab": {},
    "colab_type": "code",
    "id": "syF-QDUEzyJK"
   },
   "outputs": [
    {
     "name": "stderr",
     "output_type": "stream",
     "text": [
      "c:\\users\\hugog\\ecom063-pln\\env\\lib\\site-packages\\sklearn\\utils\\deprecation.py:143: FutureWarning: The sklearn.metrics.classification module is  deprecated in version 0.22 and will be removed in version 0.24. The corresponding classes / functions should instead be imported from sklearn.metrics. Anything that cannot be imported from sklearn.metrics is now part of the private API.\n",
      "  warnings.warn(message, FutureWarning)\n"
     ]
    }
   ],
   "source": [
    "import re\n",
    "import time\n",
    "import umap\n",
    "import nltk\n",
    "import numpy\n",
    "import pandas\n",
    "import random\n",
    "\n",
    "from bokeh.plotting import figure\n",
    "from sklearn.manifold import TSNE\n",
    "from sklearn.cluster import KMeans\n",
    "from bokeh.palettes import Category20\n",
    "from gensim.models import KeyedVectors\n",
    "from sklearn.decomposition import PCA\n",
    "from IPython.display import HTML, display\n",
    "from bokeh.io import output_notebook, show\n",
    "from yellowbrick.cluster import KElbowVisualizer\n",
    "from sklearn.decomposition import LatentDirichletAllocation, TruncatedSVD, NMF\n",
    "from sklearn.feature_extraction.text import TfidfVectorizer, CountVectorizer"
   ]
  },
  {
   "cell_type": "code",
   "execution_count": 3,
   "metadata": {
    "colab": {},
    "colab_type": "code",
    "executionInfo": {
     "elapsed": 6854,
     "status": "ok",
     "timestamp": 1595629136050,
     "user": {
      "displayName": "Hugo Tallys Martins Oliveira",
      "photoUrl": "",
      "userId": "01749757928754934577"
     },
     "user_tz": 180
    },
    "id": "zf6oJXPe_OMa"
   },
   "outputs": [
    {
     "data": {
      "text/html": [
       "\n",
       "    <div class=\"bk-root\">\n",
       "        <a href=\"https://bokeh.org\" target=\"_blank\" class=\"bk-logo bk-logo-small bk-logo-notebook\"></a>\n",
       "        <span id=\"1001\">Loading BokehJS ...</span>\n",
       "    </div>"
      ]
     },
     "metadata": {},
     "output_type": "display_data"
    },
    {
     "data": {
      "application/javascript": [
       "\n",
       "(function(root) {\n",
       "  function now() {\n",
       "    return new Date();\n",
       "  }\n",
       "\n",
       "  var force = true;\n",
       "\n",
       "  if (typeof root._bokeh_onload_callbacks === \"undefined\" || force === true) {\n",
       "    root._bokeh_onload_callbacks = [];\n",
       "    root._bokeh_is_loading = undefined;\n",
       "  }\n",
       "\n",
       "  var JS_MIME_TYPE = 'application/javascript';\n",
       "  var HTML_MIME_TYPE = 'text/html';\n",
       "  var EXEC_MIME_TYPE = 'application/vnd.bokehjs_exec.v0+json';\n",
       "  var CLASS_NAME = 'output_bokeh rendered_html';\n",
       "\n",
       "  /**\n",
       "   * Render data to the DOM node\n",
       "   */\n",
       "  function render(props, node) {\n",
       "    var script = document.createElement(\"script\");\n",
       "    node.appendChild(script);\n",
       "  }\n",
       "\n",
       "  /**\n",
       "   * Handle when an output is cleared or removed\n",
       "   */\n",
       "  function handleClearOutput(event, handle) {\n",
       "    var cell = handle.cell;\n",
       "\n",
       "    var id = cell.output_area._bokeh_element_id;\n",
       "    var server_id = cell.output_area._bokeh_server_id;\n",
       "    // Clean up Bokeh references\n",
       "    if (id != null && id in Bokeh.index) {\n",
       "      Bokeh.index[id].model.document.clear();\n",
       "      delete Bokeh.index[id];\n",
       "    }\n",
       "\n",
       "    if (server_id !== undefined) {\n",
       "      // Clean up Bokeh references\n",
       "      var cmd = \"from bokeh.io.state import curstate; print(curstate().uuid_to_server['\" + server_id + \"'].get_sessions()[0].document.roots[0]._id)\";\n",
       "      cell.notebook.kernel.execute(cmd, {\n",
       "        iopub: {\n",
       "          output: function(msg) {\n",
       "            var id = msg.content.text.trim();\n",
       "            if (id in Bokeh.index) {\n",
       "              Bokeh.index[id].model.document.clear();\n",
       "              delete Bokeh.index[id];\n",
       "            }\n",
       "          }\n",
       "        }\n",
       "      });\n",
       "      // Destroy server and session\n",
       "      var cmd = \"import bokeh.io.notebook as ion; ion.destroy_server('\" + server_id + \"')\";\n",
       "      cell.notebook.kernel.execute(cmd);\n",
       "    }\n",
       "  }\n",
       "\n",
       "  /**\n",
       "   * Handle when a new output is added\n",
       "   */\n",
       "  function handleAddOutput(event, handle) {\n",
       "    var output_area = handle.output_area;\n",
       "    var output = handle.output;\n",
       "\n",
       "    // limit handleAddOutput to display_data with EXEC_MIME_TYPE content only\n",
       "    if ((output.output_type != \"display_data\") || (!output.data.hasOwnProperty(EXEC_MIME_TYPE))) {\n",
       "      return\n",
       "    }\n",
       "\n",
       "    var toinsert = output_area.element.find(\".\" + CLASS_NAME.split(' ')[0]);\n",
       "\n",
       "    if (output.metadata[EXEC_MIME_TYPE][\"id\"] !== undefined) {\n",
       "      toinsert[toinsert.length - 1].firstChild.textContent = output.data[JS_MIME_TYPE];\n",
       "      // store reference to embed id on output_area\n",
       "      output_area._bokeh_element_id = output.metadata[EXEC_MIME_TYPE][\"id\"];\n",
       "    }\n",
       "    if (output.metadata[EXEC_MIME_TYPE][\"server_id\"] !== undefined) {\n",
       "      var bk_div = document.createElement(\"div\");\n",
       "      bk_div.innerHTML = output.data[HTML_MIME_TYPE];\n",
       "      var script_attrs = bk_div.children[0].attributes;\n",
       "      for (var i = 0; i < script_attrs.length; i++) {\n",
       "        toinsert[toinsert.length - 1].firstChild.setAttribute(script_attrs[i].name, script_attrs[i].value);\n",
       "        toinsert[toinsert.length - 1].firstChild.textContent = bk_div.children[0].textContent\n",
       "      }\n",
       "      // store reference to server id on output_area\n",
       "      output_area._bokeh_server_id = output.metadata[EXEC_MIME_TYPE][\"server_id\"];\n",
       "    }\n",
       "  }\n",
       "\n",
       "  function register_renderer(events, OutputArea) {\n",
       "\n",
       "    function append_mime(data, metadata, element) {\n",
       "      // create a DOM node to render to\n",
       "      var toinsert = this.create_output_subarea(\n",
       "        metadata,\n",
       "        CLASS_NAME,\n",
       "        EXEC_MIME_TYPE\n",
       "      );\n",
       "      this.keyboard_manager.register_events(toinsert);\n",
       "      // Render to node\n",
       "      var props = {data: data, metadata: metadata[EXEC_MIME_TYPE]};\n",
       "      render(props, toinsert[toinsert.length - 1]);\n",
       "      element.append(toinsert);\n",
       "      return toinsert\n",
       "    }\n",
       "\n",
       "    /* Handle when an output is cleared or removed */\n",
       "    events.on('clear_output.CodeCell', handleClearOutput);\n",
       "    events.on('delete.Cell', handleClearOutput);\n",
       "\n",
       "    /* Handle when a new output is added */\n",
       "    events.on('output_added.OutputArea', handleAddOutput);\n",
       "\n",
       "    /**\n",
       "     * Register the mime type and append_mime function with output_area\n",
       "     */\n",
       "    OutputArea.prototype.register_mime_type(EXEC_MIME_TYPE, append_mime, {\n",
       "      /* Is output safe? */\n",
       "      safe: true,\n",
       "      /* Index of renderer in `output_area.display_order` */\n",
       "      index: 0\n",
       "    });\n",
       "  }\n",
       "\n",
       "  // register the mime type if in Jupyter Notebook environment and previously unregistered\n",
       "  if (root.Jupyter !== undefined) {\n",
       "    var events = require('base/js/events');\n",
       "    var OutputArea = require('notebook/js/outputarea').OutputArea;\n",
       "\n",
       "    if (OutputArea.prototype.mime_types().indexOf(EXEC_MIME_TYPE) == -1) {\n",
       "      register_renderer(events, OutputArea);\n",
       "    }\n",
       "  }\n",
       "\n",
       "  \n",
       "  if (typeof (root._bokeh_timeout) === \"undefined\" || force === true) {\n",
       "    root._bokeh_timeout = Date.now() + 5000;\n",
       "    root._bokeh_failed_load = false;\n",
       "  }\n",
       "\n",
       "  var NB_LOAD_WARNING = {'data': {'text/html':\n",
       "     \"<div style='background-color: #fdd'>\\n\"+\n",
       "     \"<p>\\n\"+\n",
       "     \"BokehJS does not appear to have successfully loaded. If loading BokehJS from CDN, this \\n\"+\n",
       "     \"may be due to a slow or bad network connection. Possible fixes:\\n\"+\n",
       "     \"</p>\\n\"+\n",
       "     \"<ul>\\n\"+\n",
       "     \"<li>re-rerun `output_notebook()` to attempt to load from CDN again, or</li>\\n\"+\n",
       "     \"<li>use INLINE resources instead, as so:</li>\\n\"+\n",
       "     \"</ul>\\n\"+\n",
       "     \"<code>\\n\"+\n",
       "     \"from bokeh.resources import INLINE\\n\"+\n",
       "     \"output_notebook(resources=INLINE)\\n\"+\n",
       "     \"</code>\\n\"+\n",
       "     \"</div>\"}};\n",
       "\n",
       "  function display_loaded() {\n",
       "    var el = document.getElementById(\"1001\");\n",
       "    if (el != null) {\n",
       "      el.textContent = \"BokehJS is loading...\";\n",
       "    }\n",
       "    if (root.Bokeh !== undefined) {\n",
       "      if (el != null) {\n",
       "        el.textContent = \"BokehJS \" + root.Bokeh.version + \" successfully loaded.\";\n",
       "      }\n",
       "    } else if (Date.now() < root._bokeh_timeout) {\n",
       "      setTimeout(display_loaded, 100)\n",
       "    }\n",
       "  }\n",
       "\n",
       "\n",
       "  function run_callbacks() {\n",
       "    try {\n",
       "      root._bokeh_onload_callbacks.forEach(function(callback) {\n",
       "        if (callback != null)\n",
       "          callback();\n",
       "      });\n",
       "    } finally {\n",
       "      delete root._bokeh_onload_callbacks\n",
       "    }\n",
       "    console.debug(\"Bokeh: all callbacks have finished\");\n",
       "  }\n",
       "\n",
       "  function load_libs(css_urls, js_urls, callback) {\n",
       "    if (css_urls == null) css_urls = [];\n",
       "    if (js_urls == null) js_urls = [];\n",
       "\n",
       "    root._bokeh_onload_callbacks.push(callback);\n",
       "    if (root._bokeh_is_loading > 0) {\n",
       "      console.debug(\"Bokeh: BokehJS is being loaded, scheduling callback at\", now());\n",
       "      return null;\n",
       "    }\n",
       "    if (js_urls == null || js_urls.length === 0) {\n",
       "      run_callbacks();\n",
       "      return null;\n",
       "    }\n",
       "    console.debug(\"Bokeh: BokehJS not loaded, scheduling load and callback at\", now());\n",
       "    root._bokeh_is_loading = css_urls.length + js_urls.length;\n",
       "\n",
       "    function on_load() {\n",
       "      root._bokeh_is_loading--;\n",
       "      if (root._bokeh_is_loading === 0) {\n",
       "        console.debug(\"Bokeh: all BokehJS libraries/stylesheets loaded\");\n",
       "        run_callbacks()\n",
       "      }\n",
       "    }\n",
       "\n",
       "    function on_error() {\n",
       "      console.error(\"failed to load \" + url);\n",
       "    }\n",
       "\n",
       "    for (var i = 0; i < css_urls.length; i++) {\n",
       "      var url = css_urls[i];\n",
       "      const element = document.createElement(\"link\");\n",
       "      element.onload = on_load;\n",
       "      element.onerror = on_error;\n",
       "      element.rel = \"stylesheet\";\n",
       "      element.type = \"text/css\";\n",
       "      element.href = url;\n",
       "      console.debug(\"Bokeh: injecting link tag for BokehJS stylesheet: \", url);\n",
       "      document.body.appendChild(element);\n",
       "    }\n",
       "\n",
       "    const hashes = {\"https://cdn.bokeh.org/bokeh/release/bokeh-2.1.1.min.js\": \"kLr4fYcqcSpbuI95brIH3vnnYCquzzSxHPU6XGQCIkQRGJwhg0StNbj1eegrHs12\", \"https://cdn.bokeh.org/bokeh/release/bokeh-widgets-2.1.1.min.js\": \"xIGPmVtaOm+z0BqfSOMn4lOR6ciex448GIKG4eE61LsAvmGj48XcMQZtKcE/UXZe\", \"https://cdn.bokeh.org/bokeh/release/bokeh-tables-2.1.1.min.js\": \"Dc9u1wF/0zApGIWoBbH77iWEHtdmkuYWG839Uzmv8y8yBLXebjO9ZnERsde5Ln/P\", \"https://cdn.bokeh.org/bokeh/release/bokeh-gl-2.1.1.min.js\": \"cT9JaBz7GiRXdENrJLZNSC6eMNF3nh3fa5fTF51Svp+ukxPdwcU5kGXGPBgDCa2j\"};\n",
       "\n",
       "    for (var i = 0; i < js_urls.length; i++) {\n",
       "      var url = js_urls[i];\n",
       "      var element = document.createElement('script');\n",
       "      element.onload = on_load;\n",
       "      element.onerror = on_error;\n",
       "      element.async = false;\n",
       "      element.src = url;\n",
       "      if (url in hashes) {\n",
       "        element.crossOrigin = \"anonymous\";\n",
       "        element.integrity = \"sha384-\" + hashes[url];\n",
       "      }\n",
       "      console.debug(\"Bokeh: injecting script tag for BokehJS library: \", url);\n",
       "      document.head.appendChild(element);\n",
       "    }\n",
       "  };\n",
       "\n",
       "  function inject_raw_css(css) {\n",
       "    const element = document.createElement(\"style\");\n",
       "    element.appendChild(document.createTextNode(css));\n",
       "    document.body.appendChild(element);\n",
       "  }\n",
       "\n",
       "  \n",
       "  var js_urls = [\"https://cdn.bokeh.org/bokeh/release/bokeh-2.1.1.min.js\", \"https://cdn.bokeh.org/bokeh/release/bokeh-widgets-2.1.1.min.js\", \"https://cdn.bokeh.org/bokeh/release/bokeh-tables-2.1.1.min.js\", \"https://cdn.bokeh.org/bokeh/release/bokeh-gl-2.1.1.min.js\"];\n",
       "  var css_urls = [];\n",
       "  \n",
       "\n",
       "  var inline_js = [\n",
       "    function(Bokeh) {\n",
       "      Bokeh.set_log_level(\"info\");\n",
       "    },\n",
       "    function(Bokeh) {\n",
       "    \n",
       "    \n",
       "    }\n",
       "  ];\n",
       "\n",
       "  function run_inline_js() {\n",
       "    \n",
       "    if (root.Bokeh !== undefined || force === true) {\n",
       "      \n",
       "    for (var i = 0; i < inline_js.length; i++) {\n",
       "      inline_js[i].call(root, root.Bokeh);\n",
       "    }\n",
       "    if (force === true) {\n",
       "        display_loaded();\n",
       "      }} else if (Date.now() < root._bokeh_timeout) {\n",
       "      setTimeout(run_inline_js, 100);\n",
       "    } else if (!root._bokeh_failed_load) {\n",
       "      console.log(\"Bokeh: BokehJS failed to load within specified timeout.\");\n",
       "      root._bokeh_failed_load = true;\n",
       "    } else if (force !== true) {\n",
       "      var cell = $(document.getElementById(\"1001\")).parents('.cell').data().cell;\n",
       "      cell.output_area.append_execute_result(NB_LOAD_WARNING)\n",
       "    }\n",
       "\n",
       "  }\n",
       "\n",
       "  if (root._bokeh_is_loading === 0) {\n",
       "    console.debug(\"Bokeh: BokehJS loaded, going straight to plotting\");\n",
       "    run_inline_js();\n",
       "  } else {\n",
       "    load_libs(css_urls, js_urls, function() {\n",
       "      console.debug(\"Bokeh: BokehJS plotting callback run at\", now());\n",
       "      run_inline_js();\n",
       "    });\n",
       "  }\n",
       "}(window));"
      ],
      "application/vnd.bokehjs_load.v0+json": "\n(function(root) {\n  function now() {\n    return new Date();\n  }\n\n  var force = true;\n\n  if (typeof root._bokeh_onload_callbacks === \"undefined\" || force === true) {\n    root._bokeh_onload_callbacks = [];\n    root._bokeh_is_loading = undefined;\n  }\n\n  \n\n  \n  if (typeof (root._bokeh_timeout) === \"undefined\" || force === true) {\n    root._bokeh_timeout = Date.now() + 5000;\n    root._bokeh_failed_load = false;\n  }\n\n  var NB_LOAD_WARNING = {'data': {'text/html':\n     \"<div style='background-color: #fdd'>\\n\"+\n     \"<p>\\n\"+\n     \"BokehJS does not appear to have successfully loaded. If loading BokehJS from CDN, this \\n\"+\n     \"may be due to a slow or bad network connection. Possible fixes:\\n\"+\n     \"</p>\\n\"+\n     \"<ul>\\n\"+\n     \"<li>re-rerun `output_notebook()` to attempt to load from CDN again, or</li>\\n\"+\n     \"<li>use INLINE resources instead, as so:</li>\\n\"+\n     \"</ul>\\n\"+\n     \"<code>\\n\"+\n     \"from bokeh.resources import INLINE\\n\"+\n     \"output_notebook(resources=INLINE)\\n\"+\n     \"</code>\\n\"+\n     \"</div>\"}};\n\n  function display_loaded() {\n    var el = document.getElementById(\"1001\");\n    if (el != null) {\n      el.textContent = \"BokehJS is loading...\";\n    }\n    if (root.Bokeh !== undefined) {\n      if (el != null) {\n        el.textContent = \"BokehJS \" + root.Bokeh.version + \" successfully loaded.\";\n      }\n    } else if (Date.now() < root._bokeh_timeout) {\n      setTimeout(display_loaded, 100)\n    }\n  }\n\n\n  function run_callbacks() {\n    try {\n      root._bokeh_onload_callbacks.forEach(function(callback) {\n        if (callback != null)\n          callback();\n      });\n    } finally {\n      delete root._bokeh_onload_callbacks\n    }\n    console.debug(\"Bokeh: all callbacks have finished\");\n  }\n\n  function load_libs(css_urls, js_urls, callback) {\n    if (css_urls == null) css_urls = [];\n    if (js_urls == null) js_urls = [];\n\n    root._bokeh_onload_callbacks.push(callback);\n    if (root._bokeh_is_loading > 0) {\n      console.debug(\"Bokeh: BokehJS is being loaded, scheduling callback at\", now());\n      return null;\n    }\n    if (js_urls == null || js_urls.length === 0) {\n      run_callbacks();\n      return null;\n    }\n    console.debug(\"Bokeh: BokehJS not loaded, scheduling load and callback at\", now());\n    root._bokeh_is_loading = css_urls.length + js_urls.length;\n\n    function on_load() {\n      root._bokeh_is_loading--;\n      if (root._bokeh_is_loading === 0) {\n        console.debug(\"Bokeh: all BokehJS libraries/stylesheets loaded\");\n        run_callbacks()\n      }\n    }\n\n    function on_error() {\n      console.error(\"failed to load \" + url);\n    }\n\n    for (var i = 0; i < css_urls.length; i++) {\n      var url = css_urls[i];\n      const element = document.createElement(\"link\");\n      element.onload = on_load;\n      element.onerror = on_error;\n      element.rel = \"stylesheet\";\n      element.type = \"text/css\";\n      element.href = url;\n      console.debug(\"Bokeh: injecting link tag for BokehJS stylesheet: \", url);\n      document.body.appendChild(element);\n    }\n\n    const hashes = {\"https://cdn.bokeh.org/bokeh/release/bokeh-2.1.1.min.js\": \"kLr4fYcqcSpbuI95brIH3vnnYCquzzSxHPU6XGQCIkQRGJwhg0StNbj1eegrHs12\", \"https://cdn.bokeh.org/bokeh/release/bokeh-widgets-2.1.1.min.js\": \"xIGPmVtaOm+z0BqfSOMn4lOR6ciex448GIKG4eE61LsAvmGj48XcMQZtKcE/UXZe\", \"https://cdn.bokeh.org/bokeh/release/bokeh-tables-2.1.1.min.js\": \"Dc9u1wF/0zApGIWoBbH77iWEHtdmkuYWG839Uzmv8y8yBLXebjO9ZnERsde5Ln/P\", \"https://cdn.bokeh.org/bokeh/release/bokeh-gl-2.1.1.min.js\": \"cT9JaBz7GiRXdENrJLZNSC6eMNF3nh3fa5fTF51Svp+ukxPdwcU5kGXGPBgDCa2j\"};\n\n    for (var i = 0; i < js_urls.length; i++) {\n      var url = js_urls[i];\n      var element = document.createElement('script');\n      element.onload = on_load;\n      element.onerror = on_error;\n      element.async = false;\n      element.src = url;\n      if (url in hashes) {\n        element.crossOrigin = \"anonymous\";\n        element.integrity = \"sha384-\" + hashes[url];\n      }\n      console.debug(\"Bokeh: injecting script tag for BokehJS library: \", url);\n      document.head.appendChild(element);\n    }\n  };\n\n  function inject_raw_css(css) {\n    const element = document.createElement(\"style\");\n    element.appendChild(document.createTextNode(css));\n    document.body.appendChild(element);\n  }\n\n  \n  var js_urls = [\"https://cdn.bokeh.org/bokeh/release/bokeh-2.1.1.min.js\", \"https://cdn.bokeh.org/bokeh/release/bokeh-widgets-2.1.1.min.js\", \"https://cdn.bokeh.org/bokeh/release/bokeh-tables-2.1.1.min.js\", \"https://cdn.bokeh.org/bokeh/release/bokeh-gl-2.1.1.min.js\"];\n  var css_urls = [];\n  \n\n  var inline_js = [\n    function(Bokeh) {\n      Bokeh.set_log_level(\"info\");\n    },\n    function(Bokeh) {\n    \n    \n    }\n  ];\n\n  function run_inline_js() {\n    \n    if (root.Bokeh !== undefined || force === true) {\n      \n    for (var i = 0; i < inline_js.length; i++) {\n      inline_js[i].call(root, root.Bokeh);\n    }\n    if (force === true) {\n        display_loaded();\n      }} else if (Date.now() < root._bokeh_timeout) {\n      setTimeout(run_inline_js, 100);\n    } else if (!root._bokeh_failed_load) {\n      console.log(\"Bokeh: BokehJS failed to load within specified timeout.\");\n      root._bokeh_failed_load = true;\n    } else if (force !== true) {\n      var cell = $(document.getElementById(\"1001\")).parents('.cell').data().cell;\n      cell.output_area.append_execute_result(NB_LOAD_WARNING)\n    }\n\n  }\n\n  if (root._bokeh_is_loading === 0) {\n    console.debug(\"Bokeh: BokehJS loaded, going straight to plotting\");\n    run_inline_js();\n  } else {\n    load_libs(css_urls, js_urls, function() {\n      console.debug(\"Bokeh: BokehJS plotting callback run at\", now());\n      run_inline_js();\n    });\n  }\n}(window));"
     },
     "metadata": {},
     "output_type": "display_data"
    }
   ],
   "source": [
    "output_notebook() # Necessário para visualizar os gráficos com bokeh"
   ]
  },
  {
   "cell_type": "code",
   "execution_count": 4,
   "metadata": {
    "colab": {},
    "colab_type": "code",
    "id": "pDji6DkUz5hX"
   },
   "outputs": [
    {
     "name": "stderr",
     "output_type": "stream",
     "text": [
      "[nltk_data] Downloading package stopwords to\n",
      "[nltk_data]     C:\\Users\\hugog\\AppData\\Roaming\\nltk_data...\n",
      "[nltk_data]   Package stopwords is already up-to-date!\n",
      "[nltk_data] Downloading package rslp to\n",
      "[nltk_data]     C:\\Users\\hugog\\AppData\\Roaming\\nltk_data...\n",
      "[nltk_data]   Package rslp is already up-to-date!\n",
      "[nltk_data] Downloading package punkt to\n",
      "[nltk_data]     C:\\Users\\hugog\\AppData\\Roaming\\nltk_data...\n",
      "[nltk_data]   Package punkt is already up-to-date!\n"
     ]
    }
   ],
   "source": [
    "nltk.download('stopwords'); nltk.download('rslp'); nltk.download('punkt');"
   ]
  },
  {
   "cell_type": "code",
   "execution_count": 53,
   "metadata": {
    "colab": {},
    "colab_type": "code",
    "executionInfo": {
     "elapsed": 7132,
     "status": "ok",
     "timestamp": 1595629136344,
     "user": {
      "displayName": "Hugo Tallys Martins Oliveira",
      "photoUrl": "",
      "userId": "01749757928754934577"
     },
     "user_tz": 180
    },
    "id": "A3I9vFC2xtqK"
   },
   "outputs": [],
   "source": [
    "bbc_dataset_url = 'data/bbc.csv'\n",
    "cnn_dataset_url = 'data/cnn.csv'\n",
    "\n",
    "bbc = pandas.read_csv(bbc_dataset_url, sep='|')\n",
    "bbc['label'] = 'BBC'\n",
    "cnn = pandas.read_csv(cnn_dataset_url, sep='|')\n",
    "cnn['label'] = 'CNN'\n",
    "\n",
    "dataset = pandas.concat([bbc, cnn], ignore_index=True)\n",
    "dataset = dataset.dropna(axis=0).reset_index(drop=True)"
   ]
  },
  {
   "cell_type": "code",
   "execution_count": 54,
   "metadata": {
    "colab": {},
    "colab_type": "code",
    "executionInfo": {
     "elapsed": 7126,
     "status": "ok",
     "timestamp": 1595629136345,
     "user": {
      "displayName": "Hugo Tallys Martins Oliveira",
      "photoUrl": "",
      "userId": "01749757928754934577"
     },
     "user_tz": 180
    },
    "id": "Z1jB2zPAV5Gi"
   },
   "outputs": [],
   "source": [
    "dataset.text = dataset.text.apply(lambda text: text.replace('\\n', ' ')) # Remoção das quebras de linha\n",
    "dataset.title = dataset.title.apply(lambda text: text.replace('\\n', ' '))"
   ]
  },
  {
   "cell_type": "code",
   "execution_count": 55,
   "metadata": {
    "colab": {},
    "colab_type": "code",
    "executionInfo": {
     "elapsed": 7469,
     "status": "ok",
     "timestamp": 1595629136693,
     "user": {
      "displayName": "Hugo Tallys Martins Oliveira",
      "photoUrl": "",
      "userId": "01749757928754934577"
     },
     "user_tz": 180
    },
    "id": "bccvL0s8W27W"
   },
   "outputs": [],
   "source": [
    "def remove_boilerplate(text):\n",
    "    boilerplate = ['Compartilhe este post com Email Facebook Messenger Messenger Twitter WhatsApp LinkedIn Copiar este link Estes são links externos e abrirão numa nova janela', 'Já assistiu aos nossos novos vídeos no YouTube? Inscreva-se no nosso canal!', 'Final de YouTube post  de BBC News Brasil Final de YouTube post 2 de BBC News Brasil Final de YouTube post 3 de BBC News Brasil']\n",
    "    \n",
    "    for b in boilerplate:\n",
    "        text = text.replace(b, '')\n",
    "    return text\n",
    "\n",
    "dataset.text = dataset.text.apply(remove_boilerplate) # Remoção de fragmentos irrelevantes do texto que se repetem"
   ]
  },
  {
   "cell_type": "code",
   "execution_count": 56,
   "metadata": {
    "colab": {},
    "colab_type": "code",
    "executionInfo": {
     "elapsed": 8494,
     "status": "ok",
     "timestamp": 1595629137725,
     "user": {
      "displayName": "Hugo Tallys Martins Oliveira",
      "photoUrl": "",
      "userId": "01749757928754934577"
     },
     "user_tz": 180
    },
    "id": "Ll9hthszZDjH"
   },
   "outputs": [],
   "source": [
    "def preprocess(text):\n",
    "    text = re.sub(r'\\w*\\d\\w*', '', text) # Remove todas as palavras que contém números\n",
    "    text = re.sub(r'[^a-zA-ZáéíóúÁÉÍÓÚâêîôÂÊÎÔãõÃÕçÇ ]', '', text.lower()) # Remove pontuação e converte para minúscula\n",
    "    return re.sub(r'\\s+', ' ', text) # Remove espaços repetidos\n",
    "\n",
    "dataset['processed_text'] = dataset.text.apply(preprocess)\n",
    "dataset['processed_title'] = dataset.title.apply(preprocess)"
   ]
  },
  {
   "cell_type": "code",
   "execution_count": 57,
   "metadata": {
    "colab": {},
    "colab_type": "code",
    "executionInfo": {
     "elapsed": 13489,
     "status": "ok",
     "timestamp": 1595629142732,
     "user": {
      "displayName": "Hugo Tallys Martins Oliveira",
      "photoUrl": "",
      "userId": "01749757928754934577"
     },
     "user_tz": 180
    },
    "id": "E8pR0joj40y3"
   },
   "outputs": [],
   "source": [
    "stopwords = nltk.corpus.stopwords.words('portuguese')\n",
    "\n",
    "def tokenize_remove_stopwords(text):\n",
    "    tokenized_text = nltk.word_tokenize(text, language='portuguese')\n",
    "    return \" \".join([token for token in tokenized_text if token not in stopwords])\n",
    "\n",
    "dataset.processed_text = dataset.processed_text.apply(tokenize_remove_stopwords) # Tokeniza o texto e remove stopwords\n",
    "dataset.processed_title = dataset.processed_title.apply(tokenize_remove_stopwords) # Tokeniza o titulo e remove stopwords"
   ]
  },
  {
   "cell_type": "code",
   "execution_count": 58,
   "metadata": {
    "colab": {
     "base_uri": "https://localhost:8080/",
     "height": 597
    },
    "colab_type": "code",
    "executionInfo": {
     "elapsed": 13486,
     "status": "ok",
     "timestamp": 1595629142737,
     "user": {
      "displayName": "Hugo Tallys Martins Oliveira",
      "photoUrl": "",
      "userId": "01749757928754934577"
     },
     "user_tz": 180
    },
    "id": "nDRGvwOt2zL1",
    "outputId": "12b1dca6-8dda-4285-fc77-80eecafdd38a"
   },
   "outputs": [
    {
     "data": {
      "text/html": [
       "<div>\n",
       "<style scoped>\n",
       "    .dataframe tbody tr th:only-of-type {\n",
       "        vertical-align: middle;\n",
       "    }\n",
       "\n",
       "    .dataframe tbody tr th {\n",
       "        vertical-align: top;\n",
       "    }\n",
       "\n",
       "    .dataframe thead th {\n",
       "        text-align: right;\n",
       "    }\n",
       "</style>\n",
       "<table border=\"1\" class=\"dataframe\">\n",
       "  <thead>\n",
       "    <tr style=\"text-align: right;\">\n",
       "      <th></th>\n",
       "      <th>url</th>\n",
       "      <th>title</th>\n",
       "      <th>text</th>\n",
       "      <th>label</th>\n",
       "      <th>processed_text</th>\n",
       "      <th>processed_title</th>\n",
       "    </tr>\n",
       "  </thead>\n",
       "  <tbody>\n",
       "    <tr>\n",
       "      <th>0</th>\n",
       "      <td>https://www.bbc.co.uk/portuguese/brasil-53020785</td>\n",
       "      <td>Coronavírus: pandemia pode jogar até 14 milhõe...</td>\n",
       "      <td>A turbulência econômica causada pela pandemi...</td>\n",
       "      <td>BBC</td>\n",
       "      <td>turbulência econômica causada pandemia novo co...</td>\n",
       "      <td>coronavírus pandemia pode jogar milhões brasil...</td>\n",
       "    </tr>\n",
       "    <tr>\n",
       "      <th>1</th>\n",
       "      <td>https://www.bbc.co.uk/portuguese/brasil-53027318</td>\n",
       "      <td>Coronavírus: como funcionam as duas vacinas co...</td>\n",
       "      <td>Cerca de 11 mil voluntários brasileiros vão ...</td>\n",
       "      <td>BBC</td>\n",
       "      <td>cerca mil voluntários brasileiros vão receber ...</td>\n",
       "      <td>coronavírus funcionam duas vacinas contra covi...</td>\n",
       "    </tr>\n",
       "    <tr>\n",
       "      <th>2</th>\n",
       "      <td>https://www.bbc.co.uk/portuguese/brasil-51713943</td>\n",
       "      <td>Coronavírus: Brasil passa o Reino Unido e se t...</td>\n",
       "      <td>*atualizada às 18h20 de 12 de junho de 2020 ...</td>\n",
       "      <td>BBC</td>\n",
       "      <td>atualizada s junho brasil totalizou nesta sext...</td>\n",
       "      <td>coronavírus brasil passa reino unido torna seg...</td>\n",
       "    </tr>\n",
       "    <tr>\n",
       "      <th>3</th>\n",
       "      <td>https://www.bbc.co.uk/portuguese/internacional...</td>\n",
       "      <td>Coronavírus na Índia: com lockdown 'insustentá...</td>\n",
       "      <td>Quando, em 24 de março, o governo indiano in...</td>\n",
       "      <td>BBC</td>\n",
       "      <td>março governo indiano iniciou estrito isolamen...</td>\n",
       "      <td>coronavírus índia lockdown insustentável índia...</td>\n",
       "    </tr>\n",
       "    <tr>\n",
       "      <th>4</th>\n",
       "      <td>https://www.bbc.co.uk/portuguese/internacional...</td>\n",
       "      <td>2ª onda do coronavírus? Irã vê aumento acelera...</td>\n",
       "      <td>O Irã registrou um rápido aumento no número ...</td>\n",
       "      <td>BBC</td>\n",
       "      <td>irã registrou rápido aumento número casos covi...</td>\n",
       "      <td>onda coronavírus irã vê aumento acelerado após...</td>\n",
       "    </tr>\n",
       "    <tr>\n",
       "      <th>...</th>\n",
       "      <td>...</td>\n",
       "      <td>...</td>\n",
       "      <td>...</td>\n",
       "      <td>...</td>\n",
       "      <td>...</td>\n",
       "      <td>...</td>\n",
       "    </tr>\n",
       "    <tr>\n",
       "      <th>1611</th>\n",
       "      <td>https://www.cnnbrasil.com.br/saude/2020/02/27/...</td>\n",
       "      <td>Farmácias têm falta de máscaras após confirmaç...</td>\n",
       "      <td>Com a confirmação do primeiro caso de contamin...</td>\n",
       "      <td>CNN</td>\n",
       "      <td>confirmação primeiro caso contaminação novo co...</td>\n",
       "      <td>farmácias têm falta máscaras após confirmação ...</td>\n",
       "    </tr>\n",
       "    <tr>\n",
       "      <th>1612</th>\n",
       "      <td>https://www.cnnbrasil.com.br/business/2020/02/...</td>\n",
       "      <td>Ibovespa tem nova queda com mercado ainda preo...</td>\n",
       "      <td>Preocupações com a propagação do novo coronaví...</td>\n",
       "      <td>CNN</td>\n",
       "      <td>preocupações propagação novo coronavírus poten...</td>\n",
       "      <td>ibovespa nova queda mercado ainda preocupado c...</td>\n",
       "    </tr>\n",
       "    <tr>\n",
       "      <th>1613</th>\n",
       "      <td>https://www.cnnbrasil.com.br/internacional/202...</td>\n",
       "      <td>Japonesa testa positivo pela segunda vez para ...</td>\n",
       "      <td>TÓQUIO - Uma guia de ônibus turístico no Japão...</td>\n",
       "      <td>CNN</td>\n",
       "      <td>tóquio guia ônibus turístico japão apresentou ...</td>\n",
       "      <td>japonesa testa positivo segunda vez coronavírus</td>\n",
       "    </tr>\n",
       "    <tr>\n",
       "      <th>1614</th>\n",
       "      <td>https://www.cnnbrasil.com.br/saude/2020/02/26/...</td>\n",
       "      <td>Primeiro brasileiro com coronavírus tem sintom...</td>\n",
       "      <td>O primeiro brasileiro com diagnóstico confir...</td>\n",
       "      <td>CNN</td>\n",
       "      <td>primeiro brasileiro diagnóstico confirmado cor...</td>\n",
       "      <td>primeiro brasileiro coronavírus sintomas brand...</td>\n",
       "    </tr>\n",
       "    <tr>\n",
       "      <th>1615</th>\n",
       "      <td>https://www.cnnbrasil.com.br/saude/2020/02/26/...</td>\n",
       "      <td>Coronavírus: 'Não é momento para pânico' no Br...</td>\n",
       "      <td>O Brasil está preparado para lidar com o cor...</td>\n",
       "      <td>CNN</td>\n",
       "      <td>brasil preparado lidar coronavírus afirmou méd...</td>\n",
       "      <td>coronavírus momento pânico brasil diz médico s...</td>\n",
       "    </tr>\n",
       "  </tbody>\n",
       "</table>\n",
       "<p>1616 rows × 6 columns</p>\n",
       "</div>"
      ],
      "text/plain": [
       "                                                    url  \\\n",
       "0      https://www.bbc.co.uk/portuguese/brasil-53020785   \n",
       "1      https://www.bbc.co.uk/portuguese/brasil-53027318   \n",
       "2      https://www.bbc.co.uk/portuguese/brasil-51713943   \n",
       "3     https://www.bbc.co.uk/portuguese/internacional...   \n",
       "4     https://www.bbc.co.uk/portuguese/internacional...   \n",
       "...                                                 ...   \n",
       "1611  https://www.cnnbrasil.com.br/saude/2020/02/27/...   \n",
       "1612  https://www.cnnbrasil.com.br/business/2020/02/...   \n",
       "1613  https://www.cnnbrasil.com.br/internacional/202...   \n",
       "1614  https://www.cnnbrasil.com.br/saude/2020/02/26/...   \n",
       "1615  https://www.cnnbrasil.com.br/saude/2020/02/26/...   \n",
       "\n",
       "                                                  title  \\\n",
       "0     Coronavírus: pandemia pode jogar até 14 milhõe...   \n",
       "1     Coronavírus: como funcionam as duas vacinas co...   \n",
       "2     Coronavírus: Brasil passa o Reino Unido e se t...   \n",
       "3     Coronavírus na Índia: com lockdown 'insustentá...   \n",
       "4     2ª onda do coronavírus? Irã vê aumento acelera...   \n",
       "...                                                 ...   \n",
       "1611  Farmácias têm falta de máscaras após confirmaç...   \n",
       "1612  Ibovespa tem nova queda com mercado ainda preo...   \n",
       "1613  Japonesa testa positivo pela segunda vez para ...   \n",
       "1614  Primeiro brasileiro com coronavírus tem sintom...   \n",
       "1615  Coronavírus: 'Não é momento para pânico' no Br...   \n",
       "\n",
       "                                                   text label  \\\n",
       "0       A turbulência econômica causada pela pandemi...   BBC   \n",
       "1       Cerca de 11 mil voluntários brasileiros vão ...   BBC   \n",
       "2       *atualizada às 18h20 de 12 de junho de 2020 ...   BBC   \n",
       "3       Quando, em 24 de março, o governo indiano in...   BBC   \n",
       "4       O Irã registrou um rápido aumento no número ...   BBC   \n",
       "...                                                 ...   ...   \n",
       "1611  Com a confirmação do primeiro caso de contamin...   CNN   \n",
       "1612  Preocupações com a propagação do novo coronaví...   CNN   \n",
       "1613  TÓQUIO - Uma guia de ônibus turístico no Japão...   CNN   \n",
       "1614    O primeiro brasileiro com diagnóstico confir...   CNN   \n",
       "1615    O Brasil está preparado para lidar com o cor...   CNN   \n",
       "\n",
       "                                         processed_text  \\\n",
       "0     turbulência econômica causada pandemia novo co...   \n",
       "1     cerca mil voluntários brasileiros vão receber ...   \n",
       "2     atualizada s junho brasil totalizou nesta sext...   \n",
       "3     março governo indiano iniciou estrito isolamen...   \n",
       "4     irã registrou rápido aumento número casos covi...   \n",
       "...                                                 ...   \n",
       "1611  confirmação primeiro caso contaminação novo co...   \n",
       "1612  preocupações propagação novo coronavírus poten...   \n",
       "1613  tóquio guia ônibus turístico japão apresentou ...   \n",
       "1614  primeiro brasileiro diagnóstico confirmado cor...   \n",
       "1615  brasil preparado lidar coronavírus afirmou méd...   \n",
       "\n",
       "                                        processed_title  \n",
       "0     coronavírus pandemia pode jogar milhões brasil...  \n",
       "1     coronavírus funcionam duas vacinas contra covi...  \n",
       "2     coronavírus brasil passa reino unido torna seg...  \n",
       "3     coronavírus índia lockdown insustentável índia...  \n",
       "4     onda coronavírus irã vê aumento acelerado após...  \n",
       "...                                                 ...  \n",
       "1611  farmácias têm falta máscaras após confirmação ...  \n",
       "1612  ibovespa nova queda mercado ainda preocupado c...  \n",
       "1613    japonesa testa positivo segunda vez coronavírus  \n",
       "1614  primeiro brasileiro coronavírus sintomas brand...  \n",
       "1615  coronavírus momento pânico brasil diz médico s...  \n",
       "\n",
       "[1616 rows x 6 columns]"
      ]
     },
     "execution_count": 58,
     "metadata": {},
     "output_type": "execute_result"
    }
   ],
   "source": [
    "dataset"
   ]
  },
  {
   "cell_type": "markdown",
   "metadata": {},
   "source": [
    "# Buscador de documentos - Word2vec\n",
    "\n",
    "Desenvolver um buscador de documentos:\n",
    "\n",
    "1. Escolha e aplique um modelo do tipo _word2vec_ a seus textos, compatível com o idioma escolhido (inglês ou português).\n",
    "2. Escolha 5 palavras de consulta que não estão em nenhum dos textos. Para cada palavra de consulta, encontre as 3 palavras __de seu conjunto de textos__ mais parecidas com cada uma das palavras de consulta e exiba os documentos onde estas palavras aparecem.\n",
    "3. Usando as mesmas palavras do item acima, recupere os 3 documentos cujo _word vector_ médio é mais próximo de cada palavra de consulta.\n",
    "4. Realize o procedimento acima usando três modelos com dimensão distinta."
   ]
  },
  {
   "cell_type": "markdown",
   "metadata": {},
   "source": [
    "Primeiro vamos determinar o vocabulário do nosso dataset (__corpo do documento__ e __título do documento__):"
   ]
  },
  {
   "cell_type": "code",
   "execution_count": 11,
   "metadata": {},
   "outputs": [],
   "source": [
    "def get_vocab(texts):\n",
    "    vocab = ' '.join([text for text in texts])\n",
    "    return sorted(set(vocab.split(' ')))\n",
    "\n",
    "processed_texts_vocab = get_vocab(dataset.processed_text.values)\n",
    "processed_titles_vocab = get_vocab(dataset.processed_title.values)"
   ]
  },
  {
   "cell_type": "markdown",
   "metadata": {},
   "source": [
    "Sorteando 5 palavras aleatoriamente do vocabulário de títulos:"
   ]
  },
  {
   "cell_type": "code",
   "execution_count": 11,
   "metadata": {},
   "outputs": [
    {
     "data": {
      "text/plain": [
       "['partir', 'trad', 'trump', 'japonês', 'morto']"
      ]
     },
     "execution_count": 11,
     "metadata": {},
     "output_type": "execute_result"
    }
   ],
   "source": [
    "search_words = random.sample(processed_titles_vocab, 5)\n",
    "search_words"
   ]
  },
  {
   "cell_type": "markdown",
   "metadata": {},
   "source": [
    "Para determinar as palavras mais parecidas a cada palavra de busca selecionada vamos utilizar os seguintes modelos pré-treinados em português:\n",
    "\n",
    "* CBOW 100\n",
    "* SKIPGRAM 100\n",
    "* SKIPGRAM 300\n",
    "\n",
    "A descrição completa do modelo pré-treinado _word2vec_ pode ser encontrada no link:\n",
    "\n",
    "> http://nilc.icmc.usp.br/nilc/index.php/repositorio-de-word-embeddings-do-nilc"
   ]
  },
  {
   "cell_type": "code",
   "execution_count": 12,
   "metadata": {},
   "outputs": [],
   "source": [
    "CBOW_100 = 'C:/Users/hugog/Documents/word2vec/cbow_s100.txt'\n",
    "SKIP_GRAM_100 = 'C:/Users/hugog/Documents/word2vec/skip_s100.txt'\n",
    "SKIP_GRAM_300 = 'C:/Users/hugog/Documents/word2vec/skip_s100.txt'\n",
    "\n",
    "MODEL_LIST = [('CBOW_100', CBOW_100), ('SKIP_GRAM_100', SKIP_GRAM_100), ('SKIP_GRAM_300', SKIP_GRAM_300)]"
   ]
  },
  {
   "cell_type": "markdown",
   "metadata": {},
   "source": [
    "Encontrando lista de palavras mais similares para cada modelo:"
   ]
  },
  {
   "cell_type": "code",
   "execution_count": 13,
   "metadata": {},
   "outputs": [
    {
     "name": "stdout",
     "output_type": "stream",
     "text": [
      "\n",
      "Carregando o modelo CBOW_100\n",
      "Calculando palavras mais similares\n",
      "\tpartir -> ['despeito', 'realização', 'bordo']\n",
      "\ttrad -> ['cf', 'r', 'doe']\n",
      "\ttrump -> ['trumpo', 'madero', 'pato']\n",
      "\tjaponês -> ['francês', 'alemão', 'romeno']\n",
      "\tmorto -> ['assassinado', 'preso', 'detido']\n",
      "\n",
      "Carregando o modelo SKIP_GRAM_100\n",
      "Calculando palavras mais similares\n",
      "\tpartir -> ['despeito', 'incorporação', 'reabertura']\n",
      "\ttrad -> ['mandetta', 'beozzo', 'ba']\n",
      "\ttrump -> ['hillary', 'sanders', 'clinton']\n",
      "\tjaponês -> ['chinês', 'coreano', 'tailandês']\n",
      "\tmorto -> ['assassinado', 'estrangulado', 'resgatado']\n",
      "\n",
      "Carregando o modelo SKIP_GRAM_300\n",
      "Calculando palavras mais similares\n",
      "\tpartir -> ['despeito', 'incorporação', 'reabertura']\n",
      "\ttrad -> ['mandetta', 'beozzo', 'ba']\n",
      "\ttrump -> ['hillary', 'sanders', 'clinton']\n",
      "\tjaponês -> ['chinês', 'coreano', 'tailandês']\n",
      "\tmorto -> ['assassinado', 'estrangulado', 'resgatado']\n"
     ]
    }
   ],
   "source": [
    "def get_most_similar_words(search_word, n):\n",
    "    most_similar = []\n",
    "    for word in processed_texts_vocab:\n",
    "        try:\n",
    "            similarity = embedding.similarity(word, search_word)\n",
    "        except:\n",
    "            similarity = -1\n",
    "        most_similar.append(similarity)\n",
    "    most_similar = numpy.argsort(most_similar)[-(n+1):-1]\n",
    "    most_similar = most_similar[::-1]\n",
    "    return [processed_texts_vocab[i] for i in most_similar]\n",
    "\n",
    "most_similar_words = {}\n",
    "for model_name, model_path in MODEL_LIST:\n",
    "    print('\\nCarregando o modelo %s' % model_name)\n",
    "    embedding = KeyedVectors.load_word2vec_format(model_path)\n",
    "    print('Calculando palavras mais similares')\n",
    "    most_similar_words[model_name] = []\n",
    "    for search_word in search_words:\n",
    "        sim_search_word = get_most_similar_words(search_word, 3)\n",
    "        print(f'\\t{search_word} -> {str(sim_search_word)}')\n",
    "        most_similar_words[model_name].append({'search_word': search_word, 'similar_words': sim_search_word})"
   ]
  },
  {
   "cell_type": "markdown",
   "metadata": {},
   "source": [
    "Dado o __modelo__ e a __palavra de busca__ recuperamos alguns documentos que cotenham as palavras mais semelhantes encontradas no item anterior:"
   ]
  },
  {
   "cell_type": "code",
   "execution_count": 16,
   "metadata": {},
   "outputs": [
    {
     "data": {
      "text/html": [
       "<h3>Modelo [CBOW_100]<br><br>Palavra Busca [partir]<br><br>Palavras Similares ['despeito', 'realização', 'bordo']</h3>"
      ],
      "text/plain": [
       "<IPython.core.display.HTML object>"
      ]
     },
     "metadata": {},
     "output_type": "display_data"
    },
    {
     "data": {
      "text/html": [
       "<table border=\"1\" class=\"dataframe\">\n",
       "  <thead>\n",
       "    <tr style=\"text-align: right;\">\n",
       "      <th></th>\n",
       "      <th>url</th>\n",
       "      <th>title</th>\n",
       "    </tr>\n",
       "  </thead>\n",
       "  <tbody>\n",
       "    <tr>\n",
       "      <th>0</th>\n",
       "      <td>https://www.bbc.co.uk/portuguese/internacional-53008262</td>\n",
       "      <td>Coronavírus na Índia: com lockdown 'insustentável', Índia reabre em meio a disparada de casos e temores de 'bomba-relógio' - BBC News Brasil</td>\n",
       "    </tr>\n",
       "    <tr>\n",
       "      <th>1</th>\n",
       "      <td>https://www.bbc.co.uk/portuguese/geral-52806209</td>\n",
       "      <td>Cloroquina contra coronavírus: por que OMS decidiu interromper testes com remédio em pacientes com covid-19 - BBC News Brasil</td>\n",
       "    </tr>\n",
       "    <tr>\n",
       "      <th>2</th>\n",
       "      <td>https://www.bbc.co.uk/portuguese/brasil-52610097</td>\n",
       "      <td>'Presidente dá cambalhota e ele mesmo escorrega', diz FHC sobre atuação de Bolsonaro na pandemia do novo coronavírus - BBC News Brasil</td>\n",
       "    </tr>\n",
       "    <tr>\n",
       "      <th>3</th>\n",
       "      <td>https://www.bbc.co.uk/portuguese/brasil-52357879</td>\n",
       "      <td>Coronavírus: uso de dados de geolocalização contra a pandemia põe em risco sua privacidade? - BBC News Brasil</td>\n",
       "    </tr>\n",
       "    <tr>\n",
       "      <th>4</th>\n",
       "      <td>https://www.cnnbrasil.com.br/politica/2020/03/30/em-dois-dias-stf-recebe-mais-67-acoes-sobre-o-coronavirus</td>\n",
       "      <td>Em dois dias, STF recebe mais 81 ações sobre o coronavírus</td>\n",
       "    </tr>\n",
       "  </tbody>\n",
       "</table>"
      ],
      "text/plain": [
       "<IPython.core.display.HTML object>"
      ]
     },
     "metadata": {},
     "output_type": "display_data"
    },
    {
     "data": {
      "text/html": [
       "<h3>Modelo [CBOW_100]<br><br>Palavra Busca [trad]<br><br>Palavras Similares ['cf', 'r', 'doe']</h3>"
      ],
      "text/plain": [
       "<IPython.core.display.HTML object>"
      ]
     },
     "metadata": {},
     "output_type": "display_data"
    },
    {
     "data": {
      "text/html": [
       "<table border=\"1\" class=\"dataframe\">\n",
       "  <thead>\n",
       "    <tr style=\"text-align: right;\">\n",
       "      <th></th>\n",
       "      <th>url</th>\n",
       "      <th>title</th>\n",
       "    </tr>\n",
       "  </thead>\n",
       "  <tbody>\n",
       "    <tr>\n",
       "      <th>0</th>\n",
       "      <td>https://www.cnnbrasil.com.br/politica/2020/03/19/eduardo-bolsonaro-nega-ter-ofendido-china-ao-culpar-pais-pelo-novo-coronavirus</td>\n",
       "      <td>Eduardo Bolsonaro nega ter ofendido China ao culpar país pelo novo coronavírus</td>\n",
       "    </tr>\n",
       "    <tr>\n",
       "      <th>1</th>\n",
       "      <td>https://www.bbc.co.uk/portuguese/brasil-53020785</td>\n",
       "      <td>Coronavírus: pandemia pode jogar até 14 milhões de brasileiros na pobreza, diz estudo - BBC News Brasil</td>\n",
       "    </tr>\n",
       "    <tr>\n",
       "      <th>2</th>\n",
       "      <td>https://www.bbc.co.uk/portuguese/internacional-53008262</td>\n",
       "      <td>Coronavírus na Índia: com lockdown 'insustentável', Índia reabre em meio a disparada de casos e temores de 'bomba-relógio' - BBC News Brasil</td>\n",
       "    </tr>\n",
       "    <tr>\n",
       "      <th>3</th>\n",
       "      <td>https://www.bbc.co.uk/portuguese/brasil-52856552</td>\n",
       "      <td>Coronavírus: motoristas de aplicativo trocam passageiros por pets, entregas de mercados e refeições - BBC News Brasil</td>\n",
       "    </tr>\n",
       "    <tr>\n",
       "      <th>4</th>\n",
       "      <td>https://www.bbc.co.uk/portuguese/internacional-52921925</td>\n",
       "      <td>Lockdown na Índia: como a quarentena matou mais de 300 pessoas que não tinham o coronavírus - BBC News Brasil</td>\n",
       "    </tr>\n",
       "  </tbody>\n",
       "</table>"
      ],
      "text/plain": [
       "<IPython.core.display.HTML object>"
      ]
     },
     "metadata": {},
     "output_type": "display_data"
    },
    {
     "data": {
      "text/html": [
       "<h3>Modelo [CBOW_100]<br><br>Palavra Busca [trump]<br><br>Palavras Similares ['trumpo', 'madero', 'pato']</h3>"
      ],
      "text/plain": [
       "<IPython.core.display.HTML object>"
      ]
     },
     "metadata": {},
     "output_type": "display_data"
    },
    {
     "data": {
      "text/html": [
       "<table border=\"1\" class=\"dataframe\">\n",
       "  <thead>\n",
       "    <tr style=\"text-align: right;\">\n",
       "      <th></th>\n",
       "      <th>url</th>\n",
       "      <th>title</th>\n",
       "    </tr>\n",
       "  </thead>\n",
       "  <tbody>\n",
       "    <tr>\n",
       "      <th>0</th>\n",
       "      <td>https://www.cnnbrasil.com.br/internacional/2020/04/22/eua-missouri-processa-china-por-perdas-economicas-causadas-pelo-coronavirus</td>\n",
       "      <td>EUA: Missouri processa China por 'perdas econômicas' causadas pelo coronavírus</td>\n",
       "    </tr>\n",
       "    <tr>\n",
       "      <th>1</th>\n",
       "      <td>https://www.cnnbrasil.com.br/nacional/2020/03/24/dono-do-madero-e-presidente-de-sindicado-debatem-sobre-acoes-contra-coronavirus</td>\n",
       "      <td>Dono do Madero e presidente de sindicato debatem sobre ações contra coronavírus</td>\n",
       "    </tr>\n",
       "    <tr>\n",
       "      <th>2</th>\n",
       "      <td>https://www.cnnbrasil.com.br/saude/2020/04/10/o-significado-por-tras-dos-sonhos-estranhos-durante-a-pandemia-do-coronavirus</td>\n",
       "      <td>O significado por trás dos sonhos estranhos durante a pandemia do coronavírus</td>\n",
       "    </tr>\n",
       "  </tbody>\n",
       "</table>"
      ],
      "text/plain": [
       "<IPython.core.display.HTML object>"
      ]
     },
     "metadata": {},
     "output_type": "display_data"
    },
    {
     "data": {
      "text/html": [
       "<h3>Modelo [CBOW_100]<br><br>Palavra Busca [japonês]<br><br>Palavras Similares ['francês', 'alemão', 'romeno']</h3>"
      ],
      "text/plain": [
       "<IPython.core.display.HTML object>"
      ]
     },
     "metadata": {},
     "output_type": "display_data"
    },
    {
     "data": {
      "text/html": [
       "<table border=\"1\" class=\"dataframe\">\n",
       "  <thead>\n",
       "    <tr style=\"text-align: right;\">\n",
       "      <th></th>\n",
       "      <th>url</th>\n",
       "      <th>title</th>\n",
       "    </tr>\n",
       "  </thead>\n",
       "  <tbody>\n",
       "    <tr>\n",
       "      <th>0</th>\n",
       "      <td>https://www.bbc.co.uk/portuguese/geral-52806075</td>\n",
       "      <td>Proteção contra o coronavírus: por que grupos defendem máscaras transparentes como padrão - BBC News Brasil</td>\n",
       "    </tr>\n",
       "    <tr>\n",
       "      <th>1</th>\n",
       "      <td>https://www.bbc.co.uk/portuguese/brasil-52741665</td>\n",
       "      <td>Coronavírus: o que diz o protocolo que libera cloroquina para casos leves no SUS - BBC News Brasil</td>\n",
       "    </tr>\n",
       "    <tr>\n",
       "      <th>2</th>\n",
       "      <td>https://www.bbc.co.uk/portuguese/brasil-52595224</td>\n",
       "      <td>Coronavírus: Arthur Virgílio Neto chora ao citar agressões a coveiros e mortes - BBC News Brasil</td>\n",
       "    </tr>\n",
       "    <tr>\n",
       "      <th>3</th>\n",
       "      <td>https://www.bbc.co.uk/portuguese/brasil-52478247</td>\n",
       "      <td>Coronavírus: remédio para artrite tem resultados promissores contra covid-19 em pesquisa francesa - BBC News Brasil</td>\n",
       "    </tr>\n",
       "    <tr>\n",
       "      <th>4</th>\n",
       "      <td>https://www.bbc.co.uk/portuguese/brasil-52361730</td>\n",
       "      <td>Bolsonaro e Trump radicalizam: as semelhanças entre os líderes na pandemia de coronavírus - BBC News Brasil</td>\n",
       "    </tr>\n",
       "  </tbody>\n",
       "</table>"
      ],
      "text/plain": [
       "<IPython.core.display.HTML object>"
      ]
     },
     "metadata": {},
     "output_type": "display_data"
    },
    {
     "data": {
      "text/html": [
       "<h3>Modelo [CBOW_100]<br><br>Palavra Busca [morto]<br><br>Palavras Similares ['assassinado', 'preso', 'detido']</h3>"
      ],
      "text/plain": [
       "<IPython.core.display.HTML object>"
      ]
     },
     "metadata": {},
     "output_type": "display_data"
    },
    {
     "data": {
      "text/html": [
       "<table border=\"1\" class=\"dataframe\">\n",
       "  <thead>\n",
       "    <tr style=\"text-align: right;\">\n",
       "      <th></th>\n",
       "      <th>url</th>\n",
       "      <th>title</th>\n",
       "    </tr>\n",
       "  </thead>\n",
       "  <tbody>\n",
       "    <tr>\n",
       "      <th>0</th>\n",
       "      <td>https://www.bbc.co.uk/portuguese/internacional-52480775</td>\n",
       "      <td>Coronavírus: 'O assassino do meu filho não merece morrer de covid-19 na cadeia' - BBC News Brasil</td>\n",
       "    </tr>\n",
       "    <tr>\n",
       "      <th>1</th>\n",
       "      <td>https://www.bbc.co.uk/portuguese/brasil-52943574</td>\n",
       "      <td>Coronavírus: Falta de empatia de Bolsonaro com mortes por covid-19 parece psicopatia, diz psicanalista Maria Rita Kehl - BBC News Brasil</td>\n",
       "    </tr>\n",
       "    <tr>\n",
       "      <th>2</th>\n",
       "      <td>https://www.bbc.co.uk/portuguese/internacional-52768908</td>\n",
       "      <td>Coronavírus: o crescente desespero de milhares de funcionários confinados em cruzeiros há meses - BBC News Brasil</td>\n",
       "    </tr>\n",
       "    <tr>\n",
       "      <th>3</th>\n",
       "      <td>https://www.bbc.co.uk/portuguese/internacional-53036253</td>\n",
       "      <td>Manifestantes vão às ruas proteger estátuas visadas por antirracistas e se chocam com policiais em Londres - BBC News Brasil</td>\n",
       "    </tr>\n",
       "    <tr>\n",
       "      <th>4</th>\n",
       "      <td>https://www.bbc.co.uk/portuguese/brasil-52610097</td>\n",
       "      <td>'Presidente dá cambalhota e ele mesmo escorrega', diz FHC sobre atuação de Bolsonaro na pandemia do novo coronavírus - BBC News Brasil</td>\n",
       "    </tr>\n",
       "  </tbody>\n",
       "</table>"
      ],
      "text/plain": [
       "<IPython.core.display.HTML object>"
      ]
     },
     "metadata": {},
     "output_type": "display_data"
    },
    {
     "data": {
      "text/html": [
       "<h3>Modelo [SKIP_GRAM_100]<br><br>Palavra Busca [partir]<br><br>Palavras Similares ['despeito', 'incorporação', 'reabertura']</h3>"
      ],
      "text/plain": [
       "<IPython.core.display.HTML object>"
      ]
     },
     "metadata": {},
     "output_type": "display_data"
    },
    {
     "data": {
      "text/html": [
       "<table border=\"1\" class=\"dataframe\">\n",
       "  <thead>\n",
       "    <tr style=\"text-align: right;\">\n",
       "      <th></th>\n",
       "      <th>url</th>\n",
       "      <th>title</th>\n",
       "    </tr>\n",
       "  </thead>\n",
       "  <tbody>\n",
       "    <tr>\n",
       "      <th>0</th>\n",
       "      <td>https://www.bbc.co.uk/portuguese/internacional-53008262</td>\n",
       "      <td>Coronavírus na Índia: com lockdown 'insustentável', Índia reabre em meio a disparada de casos e temores de 'bomba-relógio' - BBC News Brasil</td>\n",
       "    </tr>\n",
       "    <tr>\n",
       "      <th>1</th>\n",
       "      <td>https://www.bbc.co.uk/portuguese/geral-52806209</td>\n",
       "      <td>Cloroquina contra coronavírus: por que OMS decidiu interromper testes com remédio em pacientes com covid-19 - BBC News Brasil</td>\n",
       "    </tr>\n",
       "    <tr>\n",
       "      <th>2</th>\n",
       "      <td>https://www.bbc.co.uk/portuguese/brasil-52610097</td>\n",
       "      <td>'Presidente dá cambalhota e ele mesmo escorrega', diz FHC sobre atuação de Bolsonaro na pandemia do novo coronavírus - BBC News Brasil</td>\n",
       "    </tr>\n",
       "    <tr>\n",
       "      <th>3</th>\n",
       "      <td>https://www.bbc.co.uk/portuguese/brasil-52357879</td>\n",
       "      <td>Coronavírus: uso de dados de geolocalização contra a pandemia põe em risco sua privacidade? - BBC News Brasil</td>\n",
       "    </tr>\n",
       "    <tr>\n",
       "      <th>4</th>\n",
       "      <td>https://www.cnnbrasil.com.br/politica/2020/03/30/em-dois-dias-stf-recebe-mais-67-acoes-sobre-o-coronavirus</td>\n",
       "      <td>Em dois dias, STF recebe mais 81 ações sobre o coronavírus</td>\n",
       "    </tr>\n",
       "  </tbody>\n",
       "</table>"
      ],
      "text/plain": [
       "<IPython.core.display.HTML object>"
      ]
     },
     "metadata": {},
     "output_type": "display_data"
    },
    {
     "data": {
      "text/html": [
       "<h3>Modelo [SKIP_GRAM_100]<br><br>Palavra Busca [trad]<br><br>Palavras Similares ['mandetta', 'beozzo', 'ba']</h3>"
      ],
      "text/plain": [
       "<IPython.core.display.HTML object>"
      ]
     },
     "metadata": {},
     "output_type": "display_data"
    },
    {
     "data": {
      "text/html": [
       "<table border=\"1\" class=\"dataframe\">\n",
       "  <thead>\n",
       "    <tr style=\"text-align: right;\">\n",
       "      <th></th>\n",
       "      <th>url</th>\n",
       "      <th>title</th>\n",
       "    </tr>\n",
       "  </thead>\n",
       "  <tbody>\n",
       "    <tr>\n",
       "      <th>0</th>\n",
       "      <td>https://www.bbc.co.uk/portuguese/brasil-53002123</td>\n",
       "      <td>Coronavírus: Brasil pode se tornar país com mais mortos em 29/7 se nada mudar, diz projeção usada pela Casa Branca - BBC News Brasil</td>\n",
       "    </tr>\n",
       "    <tr>\n",
       "      <th>1</th>\n",
       "      <td>https://www.bbc.co.uk/portuguese/brasil-52855085</td>\n",
       "      <td>Coronavírus: o site que mostra se você mora em área de risco de covid-19 - BBC News Brasil</td>\n",
       "    </tr>\n",
       "    <tr>\n",
       "      <th>2</th>\n",
       "      <td>https://www.bbc.co.uk/portuguese/internacional-52779245</td>\n",
       "      <td>Como a América do Sul se tornou o novo epicentro da pandemia de coronavírus - BBC News Brasil</td>\n",
       "    </tr>\n",
       "    <tr>\n",
       "      <th>3</th>\n",
       "      <td>https://www.bbc.co.uk/portuguese/brasil-52782897</td>\n",
       "      <td>Nas quase 2h de reunião sobre pandemia, Bolsonaro e ministros falam de coronavírus por 19 minutos - BBC News Brasil</td>\n",
       "    </tr>\n",
       "    <tr>\n",
       "      <th>4</th>\n",
       "      <td>https://www.bbc.co.uk/portuguese/brasil-52732621</td>\n",
       "      <td>Coronavírus: Brasil vai se tornar 'Coreia do Norte em questões sanitárias', diz pesquisador - BBC News Brasil</td>\n",
       "    </tr>\n",
       "  </tbody>\n",
       "</table>"
      ],
      "text/plain": [
       "<IPython.core.display.HTML object>"
      ]
     },
     "metadata": {},
     "output_type": "display_data"
    },
    {
     "data": {
      "text/html": [
       "<h3>Modelo [SKIP_GRAM_100]<br><br>Palavra Busca [trump]<br><br>Palavras Similares ['hillary', 'sanders', 'clinton']</h3>"
      ],
      "text/plain": [
       "<IPython.core.display.HTML object>"
      ]
     },
     "metadata": {},
     "output_type": "display_data"
    },
    {
     "data": {
      "text/html": [
       "<table border=\"1\" class=\"dataframe\">\n",
       "  <thead>\n",
       "    <tr style=\"text-align: right;\">\n",
       "      <th></th>\n",
       "      <th>url</th>\n",
       "      <th>title</th>\n",
       "    </tr>\n",
       "  </thead>\n",
       "  <tbody>\n",
       "    <tr>\n",
       "      <th>0</th>\n",
       "      <td>https://www.cnnbrasil.com.br/internacional/2020/03/17/mesmo-com-pandemia-de-coronavirus-democratas-mantem-primarias-em-3-estados</td>\n",
       "      <td>Mesmo com pandemia de coronavírus, democratas mantêm primárias em 3 estados</td>\n",
       "    </tr>\n",
       "    <tr>\n",
       "      <th>1</th>\n",
       "      <td>https://www.cnnbrasil.com.br/internacional/2020/03/19/por-coronavirus-estado-de-connecticut-adia-primarias-democratas-para-junho</td>\n",
       "      <td>Por coronavírus, estado de Connecticut adia primárias democratas para junho</td>\n",
       "    </tr>\n",
       "    <tr>\n",
       "      <th>2</th>\n",
       "      <td>https://www.cnnbrasil.com.br/internacional/2020/03/16/governador-de-ohio-quer-adiar-primarias-democratas-por-coronavirus</td>\n",
       "      <td>Governador de Ohio quer adiar primárias democratas em razão do coronavírus</td>\n",
       "    </tr>\n",
       "    <tr>\n",
       "      <th>3</th>\n",
       "      <td>https://www.cnnbrasil.com.br/nacional/2020/03/16/impactos-do-coronavirus-caso-grave-no-rj-e-mais-da-tarde-de-16-de-marco</td>\n",
       "      <td>Impactos do coronavírus, caso grave no RJ e mais da tarde de 16 de março</td>\n",
       "    </tr>\n",
       "    <tr>\n",
       "      <th>4</th>\n",
       "      <td>https://www.cnnbrasil.com.br/nacional/2020/03/16/bolsonaro-coronavirus-e-mais-noticias-da-manha-de-16-de-marco</td>\n",
       "      <td>Divergências entre poderes, coronavírus e mais notícias da manhã de 16 de março</td>\n",
       "    </tr>\n",
       "  </tbody>\n",
       "</table>"
      ],
      "text/plain": [
       "<IPython.core.display.HTML object>"
      ]
     },
     "metadata": {},
     "output_type": "display_data"
    },
    {
     "data": {
      "text/html": [
       "<h3>Modelo [SKIP_GRAM_100]<br><br>Palavra Busca [japonês]<br><br>Palavras Similares ['chinês', 'coreano', 'tailandês']</h3>"
      ],
      "text/plain": [
       "<IPython.core.display.HTML object>"
      ]
     },
     "metadata": {},
     "output_type": "display_data"
    },
    {
     "data": {
      "text/html": [
       "<table border=\"1\" class=\"dataframe\">\n",
       "  <thead>\n",
       "    <tr style=\"text-align: right;\">\n",
       "      <th></th>\n",
       "      <th>url</th>\n",
       "      <th>title</th>\n",
       "    </tr>\n",
       "  </thead>\n",
       "  <tbody>\n",
       "    <tr>\n",
       "      <th>0</th>\n",
       "      <td>https://www.bbc.co.uk/portuguese/internacional-52983258</td>\n",
       "      <td>Coronavírus na China: Imagens de satélite indicam que covid-19 pode ter começado a se espalhar mais cedo em Wuhan - BBC News Brasil</td>\n",
       "    </tr>\n",
       "    <tr>\n",
       "      <th>1</th>\n",
       "      <td>https://www.bbc.co.uk/portuguese/geral-52967280</td>\n",
       "      <td>Coronavírus: o que os cientistas já descobriram sobre a covid-19 nos seus 6 primeiros meses - BBC News Brasil</td>\n",
       "    </tr>\n",
       "    <tr>\n",
       "      <th>2</th>\n",
       "      <td>https://www.bbc.co.uk/portuguese/brasil-52975877</td>\n",
       "      <td>Coronavírus: em 3 pontos, o que o Brasil pode perder no cenário internacional ao omitir dados de covid-19 - BBC News Brasil</td>\n",
       "    </tr>\n",
       "    <tr>\n",
       "      <th>3</th>\n",
       "      <td>https://www.bbc.co.uk/portuguese/internacional-52889944</td>\n",
       "      <td>Coronavírus: o mistério de ‘disseminadores silenciosos’ que espalham a covid-19 - BBC News Brasil</td>\n",
       "    </tr>\n",
       "    <tr>\n",
       "      <th>4</th>\n",
       "      <td>https://www.bbc.co.uk/portuguese/internacional-52830618</td>\n",
       "      <td>Quarentenas funcionam para combater o coronavírus? Veja o que dizem os estudos - BBC News Brasil</td>\n",
       "    </tr>\n",
       "  </tbody>\n",
       "</table>"
      ],
      "text/plain": [
       "<IPython.core.display.HTML object>"
      ]
     },
     "metadata": {},
     "output_type": "display_data"
    },
    {
     "data": {
      "text/html": [
       "<h3>Modelo [SKIP_GRAM_100]<br><br>Palavra Busca [morto]<br><br>Palavras Similares ['assassinado', 'estrangulado', 'resgatado']</h3>"
      ],
      "text/plain": [
       "<IPython.core.display.HTML object>"
      ]
     },
     "metadata": {},
     "output_type": "display_data"
    },
    {
     "data": {
      "text/html": [
       "<table border=\"1\" class=\"dataframe\">\n",
       "  <thead>\n",
       "    <tr style=\"text-align: right;\">\n",
       "      <th></th>\n",
       "      <th>url</th>\n",
       "      <th>title</th>\n",
       "    </tr>\n",
       "  </thead>\n",
       "  <tbody>\n",
       "    <tr>\n",
       "      <th>0</th>\n",
       "      <td>https://www.bbc.co.uk/portuguese/internacional-52480775</td>\n",
       "      <td>Coronavírus: 'O assassino do meu filho não merece morrer de covid-19 na cadeia' - BBC News Brasil</td>\n",
       "    </tr>\n",
       "    <tr>\n",
       "      <th>1</th>\n",
       "      <td>https://www.cnnbrasil.com.br/business/2020/05/29/pib-coronavirus-coloca-brasil-em-recessao-e-retomada-deve-ser-lenta</td>\n",
       "      <td>PIB: Coronavírus coloca Brasil em recessão e retomada deve ser lenta</td>\n",
       "    </tr>\n",
       "    <tr>\n",
       "      <th>2</th>\n",
       "      <td>https://www.bbc.co.uk/portuguese/internacional-52366530</td>\n",
       "      <td>Coronavírus: países latino-americanos usam dinheiro apreendido do narcotráfico e da corrupção para combater covid-19 - BBC News Brasil</td>\n",
       "    </tr>\n",
       "    <tr>\n",
       "      <th>3</th>\n",
       "      <td>https://www.cnnbrasil.com.br/saude/2020/03/20/cloroquina-entenda-por-que-voce-nao-deve-usar-o-remedio-contra-coronavirus</td>\n",
       "      <td>Cloroquina: entenda por que você não deve usar o remédio contra coronavírus</td>\n",
       "    </tr>\n",
       "  </tbody>\n",
       "</table>"
      ],
      "text/plain": [
       "<IPython.core.display.HTML object>"
      ]
     },
     "metadata": {},
     "output_type": "display_data"
    },
    {
     "data": {
      "text/html": [
       "<h3>Modelo [SKIP_GRAM_300]<br><br>Palavra Busca [partir]<br><br>Palavras Similares ['despeito', 'incorporação', 'reabertura']</h3>"
      ],
      "text/plain": [
       "<IPython.core.display.HTML object>"
      ]
     },
     "metadata": {},
     "output_type": "display_data"
    },
    {
     "data": {
      "text/html": [
       "<table border=\"1\" class=\"dataframe\">\n",
       "  <thead>\n",
       "    <tr style=\"text-align: right;\">\n",
       "      <th></th>\n",
       "      <th>url</th>\n",
       "      <th>title</th>\n",
       "    </tr>\n",
       "  </thead>\n",
       "  <tbody>\n",
       "    <tr>\n",
       "      <th>0</th>\n",
       "      <td>https://www.bbc.co.uk/portuguese/internacional-53008262</td>\n",
       "      <td>Coronavírus na Índia: com lockdown 'insustentável', Índia reabre em meio a disparada de casos e temores de 'bomba-relógio' - BBC News Brasil</td>\n",
       "    </tr>\n",
       "    <tr>\n",
       "      <th>1</th>\n",
       "      <td>https://www.bbc.co.uk/portuguese/geral-52806209</td>\n",
       "      <td>Cloroquina contra coronavírus: por que OMS decidiu interromper testes com remédio em pacientes com covid-19 - BBC News Brasil</td>\n",
       "    </tr>\n",
       "    <tr>\n",
       "      <th>2</th>\n",
       "      <td>https://www.bbc.co.uk/portuguese/brasil-52610097</td>\n",
       "      <td>'Presidente dá cambalhota e ele mesmo escorrega', diz FHC sobre atuação de Bolsonaro na pandemia do novo coronavírus - BBC News Brasil</td>\n",
       "    </tr>\n",
       "    <tr>\n",
       "      <th>3</th>\n",
       "      <td>https://www.bbc.co.uk/portuguese/brasil-52357879</td>\n",
       "      <td>Coronavírus: uso de dados de geolocalização contra a pandemia põe em risco sua privacidade? - BBC News Brasil</td>\n",
       "    </tr>\n",
       "    <tr>\n",
       "      <th>4</th>\n",
       "      <td>https://www.cnnbrasil.com.br/politica/2020/03/30/em-dois-dias-stf-recebe-mais-67-acoes-sobre-o-coronavirus</td>\n",
       "      <td>Em dois dias, STF recebe mais 81 ações sobre o coronavírus</td>\n",
       "    </tr>\n",
       "  </tbody>\n",
       "</table>"
      ],
      "text/plain": [
       "<IPython.core.display.HTML object>"
      ]
     },
     "metadata": {},
     "output_type": "display_data"
    },
    {
     "data": {
      "text/html": [
       "<h3>Modelo [SKIP_GRAM_300]<br><br>Palavra Busca [trad]<br><br>Palavras Similares ['mandetta', 'beozzo', 'ba']</h3>"
      ],
      "text/plain": [
       "<IPython.core.display.HTML object>"
      ]
     },
     "metadata": {},
     "output_type": "display_data"
    },
    {
     "data": {
      "text/html": [
       "<table border=\"1\" class=\"dataframe\">\n",
       "  <thead>\n",
       "    <tr style=\"text-align: right;\">\n",
       "      <th></th>\n",
       "      <th>url</th>\n",
       "      <th>title</th>\n",
       "    </tr>\n",
       "  </thead>\n",
       "  <tbody>\n",
       "    <tr>\n",
       "      <th>0</th>\n",
       "      <td>https://www.bbc.co.uk/portuguese/brasil-53002123</td>\n",
       "      <td>Coronavírus: Brasil pode se tornar país com mais mortos em 29/7 se nada mudar, diz projeção usada pela Casa Branca - BBC News Brasil</td>\n",
       "    </tr>\n",
       "    <tr>\n",
       "      <th>1</th>\n",
       "      <td>https://www.bbc.co.uk/portuguese/brasil-52855085</td>\n",
       "      <td>Coronavírus: o site que mostra se você mora em área de risco de covid-19 - BBC News Brasil</td>\n",
       "    </tr>\n",
       "    <tr>\n",
       "      <th>2</th>\n",
       "      <td>https://www.bbc.co.uk/portuguese/internacional-52779245</td>\n",
       "      <td>Como a América do Sul se tornou o novo epicentro da pandemia de coronavírus - BBC News Brasil</td>\n",
       "    </tr>\n",
       "    <tr>\n",
       "      <th>3</th>\n",
       "      <td>https://www.bbc.co.uk/portuguese/brasil-52782897</td>\n",
       "      <td>Nas quase 2h de reunião sobre pandemia, Bolsonaro e ministros falam de coronavírus por 19 minutos - BBC News Brasil</td>\n",
       "    </tr>\n",
       "    <tr>\n",
       "      <th>4</th>\n",
       "      <td>https://www.bbc.co.uk/portuguese/brasil-52732621</td>\n",
       "      <td>Coronavírus: Brasil vai se tornar 'Coreia do Norte em questões sanitárias', diz pesquisador - BBC News Brasil</td>\n",
       "    </tr>\n",
       "  </tbody>\n",
       "</table>"
      ],
      "text/plain": [
       "<IPython.core.display.HTML object>"
      ]
     },
     "metadata": {},
     "output_type": "display_data"
    },
    {
     "data": {
      "text/html": [
       "<h3>Modelo [SKIP_GRAM_300]<br><br>Palavra Busca [trump]<br><br>Palavras Similares ['hillary', 'sanders', 'clinton']</h3>"
      ],
      "text/plain": [
       "<IPython.core.display.HTML object>"
      ]
     },
     "metadata": {},
     "output_type": "display_data"
    },
    {
     "data": {
      "text/html": [
       "<table border=\"1\" class=\"dataframe\">\n",
       "  <thead>\n",
       "    <tr style=\"text-align: right;\">\n",
       "      <th></th>\n",
       "      <th>url</th>\n",
       "      <th>title</th>\n",
       "    </tr>\n",
       "  </thead>\n",
       "  <tbody>\n",
       "    <tr>\n",
       "      <th>0</th>\n",
       "      <td>https://www.cnnbrasil.com.br/internacional/2020/03/17/mesmo-com-pandemia-de-coronavirus-democratas-mantem-primarias-em-3-estados</td>\n",
       "      <td>Mesmo com pandemia de coronavírus, democratas mantêm primárias em 3 estados</td>\n",
       "    </tr>\n",
       "    <tr>\n",
       "      <th>1</th>\n",
       "      <td>https://www.cnnbrasil.com.br/internacional/2020/03/19/por-coronavirus-estado-de-connecticut-adia-primarias-democratas-para-junho</td>\n",
       "      <td>Por coronavírus, estado de Connecticut adia primárias democratas para junho</td>\n",
       "    </tr>\n",
       "    <tr>\n",
       "      <th>2</th>\n",
       "      <td>https://www.cnnbrasil.com.br/internacional/2020/03/16/governador-de-ohio-quer-adiar-primarias-democratas-por-coronavirus</td>\n",
       "      <td>Governador de Ohio quer adiar primárias democratas em razão do coronavírus</td>\n",
       "    </tr>\n",
       "    <tr>\n",
       "      <th>3</th>\n",
       "      <td>https://www.cnnbrasil.com.br/nacional/2020/03/16/impactos-do-coronavirus-caso-grave-no-rj-e-mais-da-tarde-de-16-de-marco</td>\n",
       "      <td>Impactos do coronavírus, caso grave no RJ e mais da tarde de 16 de março</td>\n",
       "    </tr>\n",
       "    <tr>\n",
       "      <th>4</th>\n",
       "      <td>https://www.cnnbrasil.com.br/nacional/2020/03/16/bolsonaro-coronavirus-e-mais-noticias-da-manha-de-16-de-marco</td>\n",
       "      <td>Divergências entre poderes, coronavírus e mais notícias da manhã de 16 de março</td>\n",
       "    </tr>\n",
       "  </tbody>\n",
       "</table>"
      ],
      "text/plain": [
       "<IPython.core.display.HTML object>"
      ]
     },
     "metadata": {},
     "output_type": "display_data"
    },
    {
     "data": {
      "text/html": [
       "<h3>Modelo [SKIP_GRAM_300]<br><br>Palavra Busca [japonês]<br><br>Palavras Similares ['chinês', 'coreano', 'tailandês']</h3>"
      ],
      "text/plain": [
       "<IPython.core.display.HTML object>"
      ]
     },
     "metadata": {},
     "output_type": "display_data"
    },
    {
     "data": {
      "text/html": [
       "<table border=\"1\" class=\"dataframe\">\n",
       "  <thead>\n",
       "    <tr style=\"text-align: right;\">\n",
       "      <th></th>\n",
       "      <th>url</th>\n",
       "      <th>title</th>\n",
       "    </tr>\n",
       "  </thead>\n",
       "  <tbody>\n",
       "    <tr>\n",
       "      <th>0</th>\n",
       "      <td>https://www.bbc.co.uk/portuguese/internacional-52983258</td>\n",
       "      <td>Coronavírus na China: Imagens de satélite indicam que covid-19 pode ter começado a se espalhar mais cedo em Wuhan - BBC News Brasil</td>\n",
       "    </tr>\n",
       "    <tr>\n",
       "      <th>1</th>\n",
       "      <td>https://www.bbc.co.uk/portuguese/geral-52967280</td>\n",
       "      <td>Coronavírus: o que os cientistas já descobriram sobre a covid-19 nos seus 6 primeiros meses - BBC News Brasil</td>\n",
       "    </tr>\n",
       "    <tr>\n",
       "      <th>2</th>\n",
       "      <td>https://www.bbc.co.uk/portuguese/brasil-52975877</td>\n",
       "      <td>Coronavírus: em 3 pontos, o que o Brasil pode perder no cenário internacional ao omitir dados de covid-19 - BBC News Brasil</td>\n",
       "    </tr>\n",
       "    <tr>\n",
       "      <th>3</th>\n",
       "      <td>https://www.bbc.co.uk/portuguese/internacional-52889944</td>\n",
       "      <td>Coronavírus: o mistério de ‘disseminadores silenciosos’ que espalham a covid-19 - BBC News Brasil</td>\n",
       "    </tr>\n",
       "    <tr>\n",
       "      <th>4</th>\n",
       "      <td>https://www.bbc.co.uk/portuguese/internacional-52830618</td>\n",
       "      <td>Quarentenas funcionam para combater o coronavírus? Veja o que dizem os estudos - BBC News Brasil</td>\n",
       "    </tr>\n",
       "  </tbody>\n",
       "</table>"
      ],
      "text/plain": [
       "<IPython.core.display.HTML object>"
      ]
     },
     "metadata": {},
     "output_type": "display_data"
    },
    {
     "data": {
      "text/html": [
       "<h3>Modelo [SKIP_GRAM_300]<br><br>Palavra Busca [morto]<br><br>Palavras Similares ['assassinado', 'estrangulado', 'resgatado']</h3>"
      ],
      "text/plain": [
       "<IPython.core.display.HTML object>"
      ]
     },
     "metadata": {},
     "output_type": "display_data"
    },
    {
     "data": {
      "text/html": [
       "<table border=\"1\" class=\"dataframe\">\n",
       "  <thead>\n",
       "    <tr style=\"text-align: right;\">\n",
       "      <th></th>\n",
       "      <th>url</th>\n",
       "      <th>title</th>\n",
       "    </tr>\n",
       "  </thead>\n",
       "  <tbody>\n",
       "    <tr>\n",
       "      <th>0</th>\n",
       "      <td>https://www.bbc.co.uk/portuguese/internacional-52480775</td>\n",
       "      <td>Coronavírus: 'O assassino do meu filho não merece morrer de covid-19 na cadeia' - BBC News Brasil</td>\n",
       "    </tr>\n",
       "    <tr>\n",
       "      <th>1</th>\n",
       "      <td>https://www.cnnbrasil.com.br/business/2020/05/29/pib-coronavirus-coloca-brasil-em-recessao-e-retomada-deve-ser-lenta</td>\n",
       "      <td>PIB: Coronavírus coloca Brasil em recessão e retomada deve ser lenta</td>\n",
       "    </tr>\n",
       "    <tr>\n",
       "      <th>2</th>\n",
       "      <td>https://www.bbc.co.uk/portuguese/internacional-52366530</td>\n",
       "      <td>Coronavírus: países latino-americanos usam dinheiro apreendido do narcotráfico e da corrupção para combater covid-19 - BBC News Brasil</td>\n",
       "    </tr>\n",
       "    <tr>\n",
       "      <th>3</th>\n",
       "      <td>https://www.cnnbrasil.com.br/saude/2020/03/20/cloroquina-entenda-por-que-voce-nao-deve-usar-o-remedio-contra-coronavirus</td>\n",
       "      <td>Cloroquina: entenda por que você não deve usar o remédio contra coronavírus</td>\n",
       "    </tr>\n",
       "  </tbody>\n",
       "</table>"
      ],
      "text/plain": [
       "<IPython.core.display.HTML object>"
      ]
     },
     "metadata": {},
     "output_type": "display_data"
    }
   ],
   "source": [
    "def get_word_list(model_name, search_word):\n",
    "    for word_list in most_similar_words[model_name]:\n",
    "        if search_word == word_list['search_word']:\n",
    "            return word_list['similar_words']\n",
    "\n",
    "def fetch_documents(word_list):\n",
    "    dataframes = []\n",
    "    for word in word_list:\n",
    "        df = dataset[dataset.processed_text.apply(lambda text: word in text.split(' '))]\n",
    "        dataframes.append(df[['url', 'title']])\n",
    "    return pandas.concat(dataframes).drop_duplicates().reset_index(drop=True)        \n",
    "\n",
    "for model_name, model_path in MODEL_LIST:\n",
    "    for search_word in search_words:\n",
    "        word_list = get_word_list(model_name=model_name, search_word=search_word)\n",
    "        search_documents = fetch_documents(word_list)\n",
    "        display(HTML(f'<h3>Modelo [{model_name}]<br><br>Palavra Busca [{search_word}]<br><br>Palavras Similares {word_list}</h3>'))\n",
    "        display(HTML(search_documents.head().to_html()))"
   ]
  },
  {
   "cell_type": "markdown",
   "metadata": {},
   "source": [
    "A rotina abaixo calcula os três documentos onde seu __vetor médio__ é mais semelhante ao vetor de cada palavra de busca fornecida:"
   ]
  },
  {
   "cell_type": "code",
   "execution_count": 19,
   "metadata": {},
   "outputs": [
    {
     "name": "stderr",
     "output_type": "stream",
     "text": [
      "<ipython-input-19-11e0cc294235>:21: DeprecationWarning: Call to deprecated `wv` (Attribute will be removed in 4.0.0, use self instead).\n",
      "  word_vectors = embedding.wv\n"
     ]
    },
    {
     "data": {
      "text/html": [
       "<h2>Modelo - CBOW_100</h2>"
      ],
      "text/plain": [
       "<IPython.core.display.HTML object>"
      ]
     },
     "metadata": {},
     "output_type": "display_data"
    },
    {
     "data": {
      "text/html": [
       "<h3>partir</h3>"
      ],
      "text/plain": [
       "<IPython.core.display.HTML object>"
      ]
     },
     "metadata": {},
     "output_type": "display_data"
    },
    {
     "data": {
      "text/html": [
       "<table border=\"1\" class=\"dataframe\">\n",
       "  <thead>\n",
       "    <tr style=\"text-align: right;\">\n",
       "      <th></th>\n",
       "      <th>url</th>\n",
       "      <th>title</th>\n",
       "    </tr>\n",
       "  </thead>\n",
       "  <tbody>\n",
       "    <tr>\n",
       "      <th>1192</th>\n",
       "      <td>https://www.cnnbrasil.com.br/business/2020/03/19/gol-reduz-de-jornada-e-salario-por-causa-do-coronavirus</td>\n",
       "      <td>Gol reduz de jornada e salário por causa do coronavírus</td>\n",
       "    </tr>\n",
       "    <tr>\n",
       "      <th>1252</th>\n",
       "      <td>https://www.cnnbrasil.com.br/business/2020/03/18/mercedez-e-gm-dao-ferias-coletivas-por-causa-do-coronavirus</td>\n",
       "      <td>Mercedes e GM dão férias coletivas por causa do coronavírus</td>\n",
       "    </tr>\n",
       "    <tr>\n",
       "      <th>1455</th>\n",
       "      <td>https://www.cnnbrasil.com.br/saude/2020/03/14/vacina-contra-coronavirus-esta-pronta-para-testes-diz-empresa</td>\n",
       "      <td>Vacina contra coronavírus está pronta para testes, diz empresa</td>\n",
       "    </tr>\n",
       "  </tbody>\n",
       "</table>"
      ],
      "text/plain": [
       "<IPython.core.display.HTML object>"
      ]
     },
     "metadata": {},
     "output_type": "display_data"
    },
    {
     "data": {
      "text/html": [
       "<h3>trad</h3>"
      ],
      "text/plain": [
       "<IPython.core.display.HTML object>"
      ]
     },
     "metadata": {},
     "output_type": "display_data"
    },
    {
     "data": {
      "text/html": [
       "<table border=\"1\" class=\"dataframe\">\n",
       "  <thead>\n",
       "    <tr style=\"text-align: right;\">\n",
       "      <th></th>\n",
       "      <th>url</th>\n",
       "      <th>title</th>\n",
       "    </tr>\n",
       "  </thead>\n",
       "  <tbody>\n",
       "    <tr>\n",
       "      <th>74</th>\n",
       "      <td>https://www.bbc.co.uk/portuguese/aprenda-ingles-53006721</td>\n",
       "      <td>De volta à escola após quarentena: alunos na Holanda ganham cabines individuais - BBC News Brasil</td>\n",
       "    </tr>\n",
       "    <tr>\n",
       "      <th>492</th>\n",
       "      <td>https://www.cnnbrasil.com.br/internacional/2020/04/29/relatores-da-onu-condenam-politicas-do-brasil-contra-o-coronavirus</td>\n",
       "      <td>Relatores da ONU condenam políticas do Brasil contra o coronavírus</td>\n",
       "    </tr>\n",
       "    <tr>\n",
       "      <th>533</th>\n",
       "      <td>https://www.cnnbrasil.com.br/entretenimento/2020/04/21/tom-hanks-relata-periodos-de-forte-exaustao-e-nausea-ao-contrair-coronavirus</td>\n",
       "      <td>Tom Hanks relata períodos de forte exaustão e náusea após contrair coronavírus</td>\n",
       "    </tr>\n",
       "  </tbody>\n",
       "</table>"
      ],
      "text/plain": [
       "<IPython.core.display.HTML object>"
      ]
     },
     "metadata": {},
     "output_type": "display_data"
    },
    {
     "data": {
      "text/html": [
       "<h3>trump</h3>"
      ],
      "text/plain": [
       "<IPython.core.display.HTML object>"
      ]
     },
     "metadata": {},
     "output_type": "display_data"
    },
    {
     "data": {
      "text/html": [
       "<table border=\"1\" class=\"dataframe\">\n",
       "  <thead>\n",
       "    <tr style=\"text-align: right;\">\n",
       "      <th></th>\n",
       "      <th>url</th>\n",
       "      <th>title</th>\n",
       "    </tr>\n",
       "  </thead>\n",
       "  <tbody>\n",
       "    <tr>\n",
       "      <th>811</th>\n",
       "      <td>https://www.cnnbrasil.com.br/business/2020/04/01/perdas-dos-shopping-centers-com-coronavirus-ja-somam-r-1-bilhao-diz-abrasce</td>\n",
       "      <td>Perdas dos shopping centers com coronavírus já somam R$ 1 bilhão, diz Abrasce</td>\n",
       "    </tr>\n",
       "    <tr>\n",
       "      <th>1194</th>\n",
       "      <td>https://www.cnnbrasil.com.br/internacional/2020/03/19/por-coronavirus-estado-de-connecticut-adia-primarias-democratas-para-junho</td>\n",
       "      <td>Por coronavírus, estado de Connecticut adia primárias democratas para junho</td>\n",
       "    </tr>\n",
       "    <tr>\n",
       "      <th>49</th>\n",
       "      <td>https://www.bbc.co.uk/portuguese/brasil-53031777</td>\n",
       "      <td>'Estou mais preocupado com impacto da pandemia do que com risco democrático', diz Barroso - BBC News Brasil</td>\n",
       "    </tr>\n",
       "  </tbody>\n",
       "</table>"
      ],
      "text/plain": [
       "<IPython.core.display.HTML object>"
      ]
     },
     "metadata": {},
     "output_type": "display_data"
    },
    {
     "data": {
      "text/html": [
       "<h3>japonês</h3>"
      ],
      "text/plain": [
       "<IPython.core.display.HTML object>"
      ]
     },
     "metadata": {},
     "output_type": "display_data"
    },
    {
     "data": {
      "text/html": [
       "<table border=\"1\" class=\"dataframe\">\n",
       "  <thead>\n",
       "    <tr style=\"text-align: right;\">\n",
       "      <th></th>\n",
       "      <th>url</th>\n",
       "      <th>title</th>\n",
       "    </tr>\n",
       "  </thead>\n",
       "  <tbody>\n",
       "    <tr>\n",
       "      <th>485</th>\n",
       "      <td>https://www.cnnbrasil.com.br/entretenimento/2020/04/30/curta-nigeriano-explica-para-criancas-como-combater-o-monstro-do-coronavirus</td>\n",
       "      <td>Curta nigeriano explica para crianças como combater o ‘monstro’ do coronavírus</td>\n",
       "    </tr>\n",
       "    <tr>\n",
       "      <th>74</th>\n",
       "      <td>https://www.bbc.co.uk/portuguese/aprenda-ingles-53006721</td>\n",
       "      <td>De volta à escola após quarentena: alunos na Holanda ganham cabines individuais - BBC News Brasil</td>\n",
       "    </tr>\n",
       "    <tr>\n",
       "      <th>1336</th>\n",
       "      <td>https://www.cnnbrasil.com.br/esporte/2020/03/17/premie-japones-olimpiada-completa-provara-que-mundo-pode-vencer-coronavirus</td>\n",
       "      <td>Premiê japonês: \"Olimpíada completa provará que mundo pode vencer coronavírus\"</td>\n",
       "    </tr>\n",
       "  </tbody>\n",
       "</table>"
      ],
      "text/plain": [
       "<IPython.core.display.HTML object>"
      ]
     },
     "metadata": {},
     "output_type": "display_data"
    },
    {
     "data": {
      "text/html": [
       "<h3>morto</h3>"
      ],
      "text/plain": [
       "<IPython.core.display.HTML object>"
      ]
     },
     "metadata": {},
     "output_type": "display_data"
    },
    {
     "data": {
      "text/html": [
       "<table border=\"1\" class=\"dataframe\">\n",
       "  <thead>\n",
       "    <tr style=\"text-align: right;\">\n",
       "      <th></th>\n",
       "      <th>url</th>\n",
       "      <th>title</th>\n",
       "    </tr>\n",
       "  </thead>\n",
       "  <tbody>\n",
       "    <tr>\n",
       "      <th>917</th>\n",
       "      <td>https://www.cnnbrasil.com.br/nacional/2020/03/27/desenhista-daniel-azulay-morre-apos-contrair-coronavirus-no-rio</td>\n",
       "      <td>Desenhista Daniel Azulay morre após contrair coronavírus no Rio</td>\n",
       "    </tr>\n",
       "    <tr>\n",
       "      <th>1555</th>\n",
       "      <td>https://www.cnnbrasil.com.br/internacional/2020/03/06/vaticano-confirma-primeiro-caso-do-novo-coronavirus</td>\n",
       "      <td>Vaticano confirma primeiro caso do novo coronavírus</td>\n",
       "    </tr>\n",
       "    <tr>\n",
       "      <th>1116</th>\n",
       "      <td>https://www.cnnbrasil.com.br/esporte/2020/03/21/ex-presidente-do-real-madrid-e-mais-uma-vitima-do-coronavirus</td>\n",
       "      <td>Ex-presidente do Real Madrid é mais uma vítima do coronavírus</td>\n",
       "    </tr>\n",
       "  </tbody>\n",
       "</table>"
      ],
      "text/plain": [
       "<IPython.core.display.HTML object>"
      ]
     },
     "metadata": {},
     "output_type": "display_data"
    },
    {
     "name": "stderr",
     "output_type": "stream",
     "text": [
      "<ipython-input-19-11e0cc294235>:21: DeprecationWarning: Call to deprecated `wv` (Attribute will be removed in 4.0.0, use self instead).\n",
      "  word_vectors = embedding.wv\n"
     ]
    },
    {
     "data": {
      "text/html": [
       "<h2>Modelo - SKIP_GRAM_100</h2>"
      ],
      "text/plain": [
       "<IPython.core.display.HTML object>"
      ]
     },
     "metadata": {},
     "output_type": "display_data"
    },
    {
     "data": {
      "text/html": [
       "<h3>partir</h3>"
      ],
      "text/plain": [
       "<IPython.core.display.HTML object>"
      ]
     },
     "metadata": {},
     "output_type": "display_data"
    },
    {
     "data": {
      "text/html": [
       "<table border=\"1\" class=\"dataframe\">\n",
       "  <thead>\n",
       "    <tr style=\"text-align: right;\">\n",
       "      <th></th>\n",
       "      <th>url</th>\n",
       "      <th>title</th>\n",
       "    </tr>\n",
       "  </thead>\n",
       "  <tbody>\n",
       "    <tr>\n",
       "      <th>656</th>\n",
       "      <td>https://www.cnnbrasil.com.br/business/2020/04/09/indices-da-china-fecham-em-alta-por-expectativas-de-pico-do-coronavirus</td>\n",
       "      <td>Índices da China fecham em alta por expectativas de pico do coronavírus</td>\n",
       "    </tr>\n",
       "    <tr>\n",
       "      <th>1113</th>\n",
       "      <td>https://www.cnnbrasil.com.br/internacional/2020/03/21/casos-globais-de-coronavirus-superam-300-mil-mortes-se-aproximam-de-13-mil</td>\n",
       "      <td>Casos globais de coronavírus superam 300 mil; mortes se aproximam de 13 mil</td>\n",
       "    </tr>\n",
       "    <tr>\n",
       "      <th>519</th>\n",
       "      <td>https://www.cnnbrasil.com.br/internacional/2020/04/24/pandemia-do-novo-coronavirus-mata-mais-de-50-mil-nos-eua</td>\n",
       "      <td>Pandemia do novo coronavírus mata mais de 50 mil pessoas nos EUA</td>\n",
       "    </tr>\n",
       "  </tbody>\n",
       "</table>"
      ],
      "text/plain": [
       "<IPython.core.display.HTML object>"
      ]
     },
     "metadata": {},
     "output_type": "display_data"
    },
    {
     "data": {
      "text/html": [
       "<h3>trad</h3>"
      ],
      "text/plain": [
       "<IPython.core.display.HTML object>"
      ]
     },
     "metadata": {},
     "output_type": "display_data"
    },
    {
     "data": {
      "text/html": [
       "<table border=\"1\" class=\"dataframe\">\n",
       "  <thead>\n",
       "    <tr style=\"text-align: right;\">\n",
       "      <th></th>\n",
       "      <th>url</th>\n",
       "      <th>title</th>\n",
       "    </tr>\n",
       "  </thead>\n",
       "  <tbody>\n",
       "    <tr>\n",
       "      <th>1003</th>\n",
       "      <td>https://www.cnnbrasil.com.br/saude/2020/03/25/governo-de-brasilia-registra-primeiro-paciente-de-coronavirus-recuperado</td>\n",
       "      <td>Governo de Brasília registra primeiro paciente de coronavírus recuperado</td>\n",
       "    </tr>\n",
       "    <tr>\n",
       "      <th>1508</th>\n",
       "      <td>https://www.cnnbrasil.com.br/esporte/2020/03/11/golden-state-warriors-jogara-sem-publico-por-causa-do-coronavirus</td>\n",
       "      <td>Golden State Warriors jogará sem público por causa do coronavírus</td>\n",
       "    </tr>\n",
       "    <tr>\n",
       "      <th>930</th>\n",
       "      <td>https://www.cnnbrasil.com.br/nacional/2020/03/27/sp-podera-sacar-r-53-milhoes-de-disputa-com-uber-para-combater-coronavirus</td>\n",
       "      <td>SP poderá sacar R$ 53 milhões de disputa com Uber para combater coronavírus</td>\n",
       "    </tr>\n",
       "  </tbody>\n",
       "</table>"
      ],
      "text/plain": [
       "<IPython.core.display.HTML object>"
      ]
     },
     "metadata": {},
     "output_type": "display_data"
    },
    {
     "data": {
      "text/html": [
       "<h3>trump</h3>"
      ],
      "text/plain": [
       "<IPython.core.display.HTML object>"
      ]
     },
     "metadata": {},
     "output_type": "display_data"
    },
    {
     "data": {
      "text/html": [
       "<table border=\"1\" class=\"dataframe\">\n",
       "  <thead>\n",
       "    <tr style=\"text-align: right;\">\n",
       "      <th></th>\n",
       "      <th>url</th>\n",
       "      <th>title</th>\n",
       "    </tr>\n",
       "  </thead>\n",
       "  <tbody>\n",
       "    <tr>\n",
       "      <th>1349</th>\n",
       "      <td>https://www.cnnbrasil.com.br/politica/2020/03/16/reuniao-toffoli-stf-coronavirus</td>\n",
       "      <td>Em encontro de cúpula sobre coronavírus, Toffoli não convida Bolsonaro</td>\n",
       "    </tr>\n",
       "    <tr>\n",
       "      <th>696</th>\n",
       "      <td>https://www.cnnbrasil.com.br/internacional/2020/04/07/apos-ataques-mutuos-biden-e-trump-tem-conversa-amigavel-sobre-coronavirus</td>\n",
       "      <td>Após ataques mútuos, Biden e Trump têm 'conversa amigável' sobre coronavírus</td>\n",
       "    </tr>\n",
       "    <tr>\n",
       "      <th>1309</th>\n",
       "      <td>https://www.cnnbrasil.com.br/politica/2020/03/17/rosa-weber-anuncia-cancelamento-de-eleicao-suplementar-de-senador-em-mato-grosso</td>\n",
       "      <td>Rosa Weber cancela eleição suplementar de senador em MT por coronavírus</td>\n",
       "    </tr>\n",
       "  </tbody>\n",
       "</table>"
      ],
      "text/plain": [
       "<IPython.core.display.HTML object>"
      ]
     },
     "metadata": {},
     "output_type": "display_data"
    },
    {
     "data": {
      "text/html": [
       "<h3>japonês</h3>"
      ],
      "text/plain": [
       "<IPython.core.display.HTML object>"
      ]
     },
     "metadata": {},
     "output_type": "display_data"
    },
    {
     "data": {
      "text/html": [
       "<table border=\"1\" class=\"dataframe\">\n",
       "  <thead>\n",
       "    <tr style=\"text-align: right;\">\n",
       "      <th></th>\n",
       "      <th>url</th>\n",
       "      <th>title</th>\n",
       "    </tr>\n",
       "  </thead>\n",
       "  <tbody>\n",
       "    <tr>\n",
       "      <th>1064</th>\n",
       "      <td>https://www.cnnbrasil.com.br/business/2020/03/23/empresarios-da-construcao-civil-debatem-impactos-do-coronavirus-no-setor</td>\n",
       "      <td>Empresários da construção civil debatem impactos do coronavírus no setor</td>\n",
       "    </tr>\n",
       "    <tr>\n",
       "      <th>1162</th>\n",
       "      <td>https://www.cnnbrasil.com.br/politica/2020/03/20/coronavirus-adia-julgamento-de-lula-no-trf-4</td>\n",
       "      <td>Coronavírus adia julgamento de Lula no TRF-4</td>\n",
       "    </tr>\n",
       "    <tr>\n",
       "      <th>1145</th>\n",
       "      <td>https://www.cnnbrasil.com.br/nacional/2020/03/20/governo-autoriza-motorista-a-dirigir-com-cnh-vencida-devido-ao-coronavirus</td>\n",
       "      <td>Governo autoriza motorista a dirigir com CNH vencida devido ao coronavírus</td>\n",
       "    </tr>\n",
       "  </tbody>\n",
       "</table>"
      ],
      "text/plain": [
       "<IPython.core.display.HTML object>"
      ]
     },
     "metadata": {},
     "output_type": "display_data"
    },
    {
     "data": {
      "text/html": [
       "<h3>morto</h3>"
      ],
      "text/plain": [
       "<IPython.core.display.HTML object>"
      ]
     },
     "metadata": {},
     "output_type": "display_data"
    },
    {
     "data": {
      "text/html": [
       "<table border=\"1\" class=\"dataframe\">\n",
       "  <thead>\n",
       "    <tr style=\"text-align: right;\">\n",
       "      <th></th>\n",
       "      <th>url</th>\n",
       "      <th>title</th>\n",
       "    </tr>\n",
       "  </thead>\n",
       "  <tbody>\n",
       "    <tr>\n",
       "      <th>1301</th>\n",
       "      <td>https://www.cnnbrasil.com.br/politica/2020/03/17/analise-internacao-compulsoria-e-medida-extrema-para-conter-alta-de-coronavirus</td>\n",
       "      <td>Análise: internação compulsória é medida extrema para conter alta de coronavírus</td>\n",
       "    </tr>\n",
       "    <tr>\n",
       "      <th>1037</th>\n",
       "      <td>https://www.cnnbrasil.com.br/politica/2020/03/24/analise-coronavirus-se-tornou-problema-economico-gravissimo</td>\n",
       "      <td>Análise: Coronavírus se tornou problema econômico gravíssimo</td>\n",
       "    </tr>\n",
       "    <tr>\n",
       "      <th>1379</th>\n",
       "      <td>https://www.cnnbrasil.com.br/nacional/2020/03/16/analise-autoridades-ainda-nao-perceberam-que-tem-o-coronavirus-como-inimigo</td>\n",
       "      <td>Análise: Autoridades ainda não perceberam que têm o coronavírus como inimigo</td>\n",
       "    </tr>\n",
       "  </tbody>\n",
       "</table>"
      ],
      "text/plain": [
       "<IPython.core.display.HTML object>"
      ]
     },
     "metadata": {},
     "output_type": "display_data"
    },
    {
     "name": "stderr",
     "output_type": "stream",
     "text": [
      "<ipython-input-19-11e0cc294235>:21: DeprecationWarning: Call to deprecated `wv` (Attribute will be removed in 4.0.0, use self instead).\n",
      "  word_vectors = embedding.wv\n"
     ]
    },
    {
     "data": {
      "text/html": [
       "<h2>Modelo - SKIP_GRAM_300</h2>"
      ],
      "text/plain": [
       "<IPython.core.display.HTML object>"
      ]
     },
     "metadata": {},
     "output_type": "display_data"
    },
    {
     "data": {
      "text/html": [
       "<h3>partir</h3>"
      ],
      "text/plain": [
       "<IPython.core.display.HTML object>"
      ]
     },
     "metadata": {},
     "output_type": "display_data"
    },
    {
     "data": {
      "text/html": [
       "<table border=\"1\" class=\"dataframe\">\n",
       "  <thead>\n",
       "    <tr style=\"text-align: right;\">\n",
       "      <th></th>\n",
       "      <th>url</th>\n",
       "      <th>title</th>\n",
       "    </tr>\n",
       "  </thead>\n",
       "  <tbody>\n",
       "    <tr>\n",
       "      <th>656</th>\n",
       "      <td>https://www.cnnbrasil.com.br/business/2020/04/09/indices-da-china-fecham-em-alta-por-expectativas-de-pico-do-coronavirus</td>\n",
       "      <td>Índices da China fecham em alta por expectativas de pico do coronavírus</td>\n",
       "    </tr>\n",
       "    <tr>\n",
       "      <th>1113</th>\n",
       "      <td>https://www.cnnbrasil.com.br/internacional/2020/03/21/casos-globais-de-coronavirus-superam-300-mil-mortes-se-aproximam-de-13-mil</td>\n",
       "      <td>Casos globais de coronavírus superam 300 mil; mortes se aproximam de 13 mil</td>\n",
       "    </tr>\n",
       "    <tr>\n",
       "      <th>519</th>\n",
       "      <td>https://www.cnnbrasil.com.br/internacional/2020/04/24/pandemia-do-novo-coronavirus-mata-mais-de-50-mil-nos-eua</td>\n",
       "      <td>Pandemia do novo coronavírus mata mais de 50 mil pessoas nos EUA</td>\n",
       "    </tr>\n",
       "  </tbody>\n",
       "</table>"
      ],
      "text/plain": [
       "<IPython.core.display.HTML object>"
      ]
     },
     "metadata": {},
     "output_type": "display_data"
    },
    {
     "data": {
      "text/html": [
       "<h3>trad</h3>"
      ],
      "text/plain": [
       "<IPython.core.display.HTML object>"
      ]
     },
     "metadata": {},
     "output_type": "display_data"
    },
    {
     "data": {
      "text/html": [
       "<table border=\"1\" class=\"dataframe\">\n",
       "  <thead>\n",
       "    <tr style=\"text-align: right;\">\n",
       "      <th></th>\n",
       "      <th>url</th>\n",
       "      <th>title</th>\n",
       "    </tr>\n",
       "  </thead>\n",
       "  <tbody>\n",
       "    <tr>\n",
       "      <th>1003</th>\n",
       "      <td>https://www.cnnbrasil.com.br/saude/2020/03/25/governo-de-brasilia-registra-primeiro-paciente-de-coronavirus-recuperado</td>\n",
       "      <td>Governo de Brasília registra primeiro paciente de coronavírus recuperado</td>\n",
       "    </tr>\n",
       "    <tr>\n",
       "      <th>1508</th>\n",
       "      <td>https://www.cnnbrasil.com.br/esporte/2020/03/11/golden-state-warriors-jogara-sem-publico-por-causa-do-coronavirus</td>\n",
       "      <td>Golden State Warriors jogará sem público por causa do coronavírus</td>\n",
       "    </tr>\n",
       "    <tr>\n",
       "      <th>930</th>\n",
       "      <td>https://www.cnnbrasil.com.br/nacional/2020/03/27/sp-podera-sacar-r-53-milhoes-de-disputa-com-uber-para-combater-coronavirus</td>\n",
       "      <td>SP poderá sacar R$ 53 milhões de disputa com Uber para combater coronavírus</td>\n",
       "    </tr>\n",
       "  </tbody>\n",
       "</table>"
      ],
      "text/plain": [
       "<IPython.core.display.HTML object>"
      ]
     },
     "metadata": {},
     "output_type": "display_data"
    },
    {
     "data": {
      "text/html": [
       "<h3>trump</h3>"
      ],
      "text/plain": [
       "<IPython.core.display.HTML object>"
      ]
     },
     "metadata": {},
     "output_type": "display_data"
    },
    {
     "data": {
      "text/html": [
       "<table border=\"1\" class=\"dataframe\">\n",
       "  <thead>\n",
       "    <tr style=\"text-align: right;\">\n",
       "      <th></th>\n",
       "      <th>url</th>\n",
       "      <th>title</th>\n",
       "    </tr>\n",
       "  </thead>\n",
       "  <tbody>\n",
       "    <tr>\n",
       "      <th>1349</th>\n",
       "      <td>https://www.cnnbrasil.com.br/politica/2020/03/16/reuniao-toffoli-stf-coronavirus</td>\n",
       "      <td>Em encontro de cúpula sobre coronavírus, Toffoli não convida Bolsonaro</td>\n",
       "    </tr>\n",
       "    <tr>\n",
       "      <th>696</th>\n",
       "      <td>https://www.cnnbrasil.com.br/internacional/2020/04/07/apos-ataques-mutuos-biden-e-trump-tem-conversa-amigavel-sobre-coronavirus</td>\n",
       "      <td>Após ataques mútuos, Biden e Trump têm 'conversa amigável' sobre coronavírus</td>\n",
       "    </tr>\n",
       "    <tr>\n",
       "      <th>1309</th>\n",
       "      <td>https://www.cnnbrasil.com.br/politica/2020/03/17/rosa-weber-anuncia-cancelamento-de-eleicao-suplementar-de-senador-em-mato-grosso</td>\n",
       "      <td>Rosa Weber cancela eleição suplementar de senador em MT por coronavírus</td>\n",
       "    </tr>\n",
       "  </tbody>\n",
       "</table>"
      ],
      "text/plain": [
       "<IPython.core.display.HTML object>"
      ]
     },
     "metadata": {},
     "output_type": "display_data"
    },
    {
     "data": {
      "text/html": [
       "<h3>japonês</h3>"
      ],
      "text/plain": [
       "<IPython.core.display.HTML object>"
      ]
     },
     "metadata": {},
     "output_type": "display_data"
    },
    {
     "data": {
      "text/html": [
       "<table border=\"1\" class=\"dataframe\">\n",
       "  <thead>\n",
       "    <tr style=\"text-align: right;\">\n",
       "      <th></th>\n",
       "      <th>url</th>\n",
       "      <th>title</th>\n",
       "    </tr>\n",
       "  </thead>\n",
       "  <tbody>\n",
       "    <tr>\n",
       "      <th>1064</th>\n",
       "      <td>https://www.cnnbrasil.com.br/business/2020/03/23/empresarios-da-construcao-civil-debatem-impactos-do-coronavirus-no-setor</td>\n",
       "      <td>Empresários da construção civil debatem impactos do coronavírus no setor</td>\n",
       "    </tr>\n",
       "    <tr>\n",
       "      <th>1162</th>\n",
       "      <td>https://www.cnnbrasil.com.br/politica/2020/03/20/coronavirus-adia-julgamento-de-lula-no-trf-4</td>\n",
       "      <td>Coronavírus adia julgamento de Lula no TRF-4</td>\n",
       "    </tr>\n",
       "    <tr>\n",
       "      <th>1145</th>\n",
       "      <td>https://www.cnnbrasil.com.br/nacional/2020/03/20/governo-autoriza-motorista-a-dirigir-com-cnh-vencida-devido-ao-coronavirus</td>\n",
       "      <td>Governo autoriza motorista a dirigir com CNH vencida devido ao coronavírus</td>\n",
       "    </tr>\n",
       "  </tbody>\n",
       "</table>"
      ],
      "text/plain": [
       "<IPython.core.display.HTML object>"
      ]
     },
     "metadata": {},
     "output_type": "display_data"
    },
    {
     "data": {
      "text/html": [
       "<h3>morto</h3>"
      ],
      "text/plain": [
       "<IPython.core.display.HTML object>"
      ]
     },
     "metadata": {},
     "output_type": "display_data"
    },
    {
     "data": {
      "text/html": [
       "<table border=\"1\" class=\"dataframe\">\n",
       "  <thead>\n",
       "    <tr style=\"text-align: right;\">\n",
       "      <th></th>\n",
       "      <th>url</th>\n",
       "      <th>title</th>\n",
       "    </tr>\n",
       "  </thead>\n",
       "  <tbody>\n",
       "    <tr>\n",
       "      <th>1301</th>\n",
       "      <td>https://www.cnnbrasil.com.br/politica/2020/03/17/analise-internacao-compulsoria-e-medida-extrema-para-conter-alta-de-coronavirus</td>\n",
       "      <td>Análise: internação compulsória é medida extrema para conter alta de coronavírus</td>\n",
       "    </tr>\n",
       "    <tr>\n",
       "      <th>1037</th>\n",
       "      <td>https://www.cnnbrasil.com.br/politica/2020/03/24/analise-coronavirus-se-tornou-problema-economico-gravissimo</td>\n",
       "      <td>Análise: Coronavírus se tornou problema econômico gravíssimo</td>\n",
       "    </tr>\n",
       "    <tr>\n",
       "      <th>1379</th>\n",
       "      <td>https://www.cnnbrasil.com.br/nacional/2020/03/16/analise-autoridades-ainda-nao-perceberam-que-tem-o-coronavirus-como-inimigo</td>\n",
       "      <td>Análise: Autoridades ainda não perceberam que têm o coronavírus como inimigo</td>\n",
       "    </tr>\n",
       "  </tbody>\n",
       "</table>"
      ],
      "text/plain": [
       "<IPython.core.display.HTML object>"
      ]
     },
     "metadata": {},
     "output_type": "display_data"
    }
   ],
   "source": [
    "def calculate_mean_word2vec(text):\n",
    "    vectors = []\n",
    "    for word in text.split():\n",
    "        try:\n",
    "            vectors.append(word_vectors[word.strip()])\n",
    "        except:\n",
    "            pass\n",
    "    return numpy.mean(vectors, axis=0)\n",
    "    \n",
    "def most_similar_rows(df, col_name, vector, top_n=3):\n",
    "    df['cosine'] = df[col_name].apply(lambda a: numpy.dot(a, vector) / (numpy.linalg.norm(a) * numpy.linalg.norm(vector)))\n",
    "    df = df.sort_values(by=['cosine'], ascending=False)\n",
    "    return df[['url', 'title']][:top_n]\n",
    "\n",
    "\n",
    "# Calcula o vetor médio de cada texto\n",
    "dataset['mean_word_vector'] = dataset.text.apply(calculate_mean_word2vec)\n",
    "\n",
    "for model_name, model_path in MODEL_LIST:\n",
    "    embedding = KeyedVectors.load_word2vec_format(model_path)\n",
    "    word_vectors = embedding.wv\n",
    "    display(HTML('<h2>Modelo - %s</h2>' % model_name))\n",
    "    for search_word in search_words:\n",
    "        display(HTML(f'<h3>{search_word}</h3>'))\n",
    "        display(HTML(most_similar_rows(dataset, 'mean_word_vector', word_vectors[search_word]).to_html()))"
   ]
  },
  {
   "cell_type": "markdown",
   "metadata": {},
   "source": [
    "# Representação Doc2Vec"
   ]
  },
  {
   "cell_type": "markdown",
   "metadata": {},
   "source": [
    "Vamos treinar um modelo de representação _doc2vec_ para os nossos documentos. Dado o conjunto de textos (lista `paragraphs`) vamos gerar a representação vetorial `doc_embedding`:"
   ]
  },
  {
   "cell_type": "code",
   "execution_count": 1,
   "metadata": {},
   "outputs": [],
   "source": [
    "from gensim.models.doc2vec import Doc2Vec, TaggedDocument"
   ]
  },
  {
   "cell_type": "code",
   "execution_count": 12,
   "metadata": {},
   "outputs": [],
   "source": [
    "paragraphs = dataset.processed_text.values\n",
    "paragraphs = [paragraph.split(' ') for paragraph in paragraphs]"
   ]
  },
  {
   "cell_type": "code",
   "execution_count": 14,
   "metadata": {},
   "outputs": [],
   "source": [
    "documents = [TaggedDocument(doc, [i]) for i, doc in enumerate(paragraphs)]"
   ]
  },
  {
   "cell_type": "code",
   "execution_count": 32,
   "metadata": {},
   "outputs": [],
   "source": [
    "doc_embedding = Doc2Vec(documents, vector_size=300, window=10, min_count=2, workers=4)"
   ]
  },
  {
   "cell_type": "code",
   "execution_count": 44,
   "metadata": {
    "colab": {},
    "colab_type": "code",
    "executionInfo": {
     "elapsed": 37492,
     "status": "ok",
     "timestamp": 1595629166782,
     "user": {
      "displayName": "Hugo Tallys Martins Oliveira",
      "photoUrl": "",
      "userId": "01749757928754934577"
     },
     "user_tz": 180
    },
    "id": "4BVl7RAxxLtv"
   },
   "outputs": [],
   "source": [
    "X = numpy.array([doc_embedding[i] for i, text in enumerate(dataset.processed_text.values)])"
   ]
  },
  {
   "cell_type": "markdown",
   "metadata": {
    "colab_type": "text",
    "id": "b5rX1d9iaejs"
   },
   "source": [
    "# Classificadores"
   ]
  },
  {
   "cell_type": "markdown",
   "metadata": {
    "colab_type": "text",
    "id": "oj8p_wBeaejt"
   },
   "source": [
    "Balanceando o dataset para conter 350 artigos _BBC_ e 350 artigos _CNN_ (700 artigos no total):"
   ]
  },
  {
   "cell_type": "code",
   "execution_count": 52,
   "metadata": {
    "colab": {},
    "colab_type": "code",
    "executionInfo": {
     "elapsed": 9414,
     "status": "ok",
     "timestamp": 1593830069181,
     "user": {
      "displayName": "Hugo Tallys Martins Oliveira",
      "photoUrl": "",
      "userId": "01749757928754934577"
     },
     "user_tz": 180
    },
    "id": "Yx3tXla2aejw"
   },
   "outputs": [],
   "source": [
    "X = X[:2*bbc.shape[0]]"
   ]
  },
  {
   "cell_type": "code",
   "execution_count": 59,
   "metadata": {
    "colab": {},
    "colab_type": "code",
    "executionInfo": {
     "elapsed": 9410,
     "status": "ok",
     "timestamp": 1593830069183,
     "user": {
      "displayName": "Hugo Tallys Martins Oliveira",
      "photoUrl": "",
      "userId": "01749757928754934577"
     },
     "user_tz": 180
    },
    "id": "SPmilxpLaej3"
   },
   "outputs": [],
   "source": [
    "label2index = {\n",
    "    'BBC': 0, 'CNN': 1\n",
    "}\n",
    "y = [label2index[l] for l in dataset.label.values[:700]]"
   ]
  },
  {
   "cell_type": "markdown",
   "metadata": {
    "colab_type": "text",
    "id": "q42CSahAaej8"
   },
   "source": [
    "Separando o conjunto de treinamento e teste:"
   ]
  },
  {
   "cell_type": "code",
   "execution_count": 60,
   "metadata": {
    "colab": {},
    "colab_type": "code",
    "executionInfo": {
     "elapsed": 9405,
     "status": "ok",
     "timestamp": 1593830069184,
     "user": {
      "displayName": "Hugo Tallys Martins Oliveira",
      "photoUrl": "",
      "userId": "01749757928754934577"
     },
     "user_tz": 180
    },
    "id": "QUe1P4lQaej9"
   },
   "outputs": [],
   "source": [
    "from sklearn.model_selection import train_test_split"
   ]
  },
  {
   "cell_type": "code",
   "execution_count": 86,
   "metadata": {
    "colab": {},
    "colab_type": "code",
    "executionInfo": {
     "elapsed": 9401,
     "status": "ok",
     "timestamp": 1593830069185,
     "user": {
      "displayName": "Hugo Tallys Martins Oliveira",
      "photoUrl": "",
      "userId": "01749757928754934577"
     },
     "user_tz": 180
    },
    "id": "Z_TA-R3MaekF"
   },
   "outputs": [],
   "source": [
    "X_train, X_test, y_train, y_test = train_test_split(X, y, test_size=.3)"
   ]
  },
  {
   "cell_type": "markdown",
   "metadata": {
    "colab_type": "text",
    "id": "014-SRBkaekL"
   },
   "source": [
    "Treinando os classificadores:"
   ]
  },
  {
   "cell_type": "markdown",
   "metadata": {
    "colab_type": "text",
    "id": "kCAGO_JigbZx"
   },
   "source": [
    "### Regressão Logística"
   ]
  },
  {
   "cell_type": "code",
   "execution_count": 62,
   "metadata": {
    "colab": {},
    "colab_type": "code",
    "executionInfo": {
     "elapsed": 9396,
     "status": "ok",
     "timestamp": 1593830069186,
     "user": {
      "displayName": "Hugo Tallys Martins Oliveira",
      "photoUrl": "",
      "userId": "01749757928754934577"
     },
     "user_tz": 180
    },
    "id": "YXYmyS_WaekN"
   },
   "outputs": [],
   "source": [
    "from sklearn.linear_model import LogisticRegression"
   ]
  },
  {
   "cell_type": "markdown",
   "metadata": {
    "colab_type": "text",
    "id": "yx2HN4OmieT2"
   },
   "source": [
    "Treinamento (TF-IFD):"
   ]
  },
  {
   "cell_type": "code",
   "execution_count": 87,
   "metadata": {
    "colab": {},
    "colab_type": "code",
    "executionInfo": {
     "elapsed": 10336,
     "status": "ok",
     "timestamp": 1593830070133,
     "user": {
      "displayName": "Hugo Tallys Martins Oliveira",
      "photoUrl": "",
      "userId": "01749757928754934577"
     },
     "user_tz": 180
    },
    "id": "nWWymYA1aekV"
   },
   "outputs": [],
   "source": [
    "classifier = LogisticRegression().fit(X_train, y_train)"
   ]
  },
  {
   "cell_type": "markdown",
   "metadata": {
    "colab_type": "text",
    "id": "1F0kcrq8aekc"
   },
   "source": [
    "Resultado da predição (TF-IDF):"
   ]
  },
  {
   "cell_type": "code",
   "execution_count": 88,
   "metadata": {
    "colab": {},
    "colab_type": "code",
    "executionInfo": {
     "elapsed": 10330,
     "status": "ok",
     "timestamp": 1593830070134,
     "user": {
      "displayName": "Hugo Tallys Martins Oliveira",
      "photoUrl": "",
      "userId": "01749757928754934577"
     },
     "user_tz": 180
    },
    "id": "3h0xZno_aekd"
   },
   "outputs": [],
   "source": [
    "y_pred = classifier.predict(X_test)"
   ]
  },
  {
   "cell_type": "markdown",
   "metadata": {
    "colab_type": "text",
    "id": "ixzxxX7faekk"
   },
   "source": [
    "Matriz de confusão (TF-IDF):"
   ]
  },
  {
   "cell_type": "code",
   "execution_count": 67,
   "metadata": {
    "colab": {},
    "colab_type": "code",
    "executionInfo": {
     "elapsed": 10328,
     "status": "ok",
     "timestamp": 1593830070136,
     "user": {
      "displayName": "Hugo Tallys Martins Oliveira",
      "photoUrl": "",
      "userId": "01749757928754934577"
     },
     "user_tz": 180
    },
    "id": "B3_n892zaekl"
   },
   "outputs": [],
   "source": [
    "from matplotlib import pyplot\n",
    "from sklearn.metrics import plot_confusion_matrix"
   ]
  },
  {
   "cell_type": "code",
   "execution_count": 89,
   "metadata": {
    "colab": {
     "base_uri": "https://localhost:8080/",
     "height": 279
    },
    "colab_type": "code",
    "executionInfo": {
     "elapsed": 10321,
     "status": "ok",
     "timestamp": 1593830070137,
     "user": {
      "displayName": "Hugo Tallys Martins Oliveira",
      "photoUrl": "",
      "userId": "01749757928754934577"
     },
     "user_tz": 180
    },
    "id": "vST8Sl08aek2",
    "outputId": "e5b9e93d-d5f9-486b-db3c-3188be99cdcf"
   },
   "outputs": [
    {
     "data": {
      "image/png": "[encoded data removed]",
      "text/plain": [
       "<Figure size 576x396 with 2 Axes>"
      ]
     },
     "metadata": {},
     "output_type": "display_data"
    }
   ],
   "source": [
    "plot_confusion_matrix(classifier, X_test, y_test)\n",
    "pyplot.show()"
   ]
  },
  {
   "cell_type": "markdown",
   "metadata": {
    "colab_type": "text",
    "id": "BGj1da6waek9"
   },
   "source": [
    "Métricas de validação (TF-IDF):"
   ]
  },
  {
   "cell_type": "code",
   "execution_count": 69,
   "metadata": {
    "colab": {},
    "colab_type": "code",
    "executionInfo": {
     "elapsed": 10315,
     "status": "ok",
     "timestamp": 1593830070138,
     "user": {
      "displayName": "Hugo Tallys Martins Oliveira",
      "photoUrl": "",
      "userId": "01749757928754934577"
     },
     "user_tz": 180
    },
    "id": "M4nAt1OHaek9"
   },
   "outputs": [],
   "source": [
    "from sklearn.metrics import accuracy_score, precision_score, recall_score, f1_score"
   ]
  },
  {
   "cell_type": "code",
   "execution_count": 90,
   "metadata": {
    "colab": {
     "base_uri": "https://localhost:8080/",
     "height": 104
    },
    "colab_type": "code",
    "executionInfo": {
     "elapsed": 10309,
     "status": "ok",
     "timestamp": 1593830070140,
     "user": {
      "displayName": "Hugo Tallys Martins Oliveira",
      "photoUrl": "",
      "userId": "01749757928754934577"
     },
     "user_tz": 180
    },
    "id": "GC6ITb28aelC",
    "outputId": "6ff3a5fb-fe22-495e-ae06-bfaffdca00fd"
   },
   "outputs": [
    {
     "data": {
      "text/plain": [
       "{'Modelo': 'Regressão Logísitca + TF-IDF',\n",
       " 'Acurácia': 0.7380952380952381,\n",
       " 'Precisão': 0.6691729323308271,\n",
       " 'Recall': 0.89,\n",
       " 'F1 Score': 0.7639484978540773}"
      ]
     },
     "execution_count": 90,
     "metadata": {},
     "output_type": "execute_result"
    }
   ],
   "source": [
    "log_metrics = {\n",
    "    'Modelo': 'Regressão Logísitca + TF-IDF',\n",
    "    'Acurácia': accuracy_score(y_test, y_pred),\n",
    "    'Precisão': precision_score(y_test, y_pred),\n",
    "    'Recall': recall_score(y_test, y_pred),\n",
    "    'F1 Score': f1_score(y_test, y_pred)\n",
    "}\n",
    "log_metrics"
   ]
  },
  {
   "cell_type": "markdown",
   "metadata": {
    "colab_type": "text",
    "id": "9VbZsUJYkvpA"
   },
   "source": [
    "### Naive Bayes"
   ]
  },
  {
   "cell_type": "markdown",
   "metadata": {
    "colab_type": "text",
    "id": "xA7BC0anqIFa"
   },
   "source": [
    "### Support Vector Machines (SVM)"
   ]
  },
  {
   "cell_type": "markdown",
   "metadata": {
    "colab_type": "text",
    "id": "YxuIU7W5qQAJ"
   },
   "source": [
    "Treinamento (TF-IFD):"
   ]
  },
  {
   "cell_type": "code",
   "execution_count": 76,
   "metadata": {},
   "outputs": [],
   "source": [
    "from sklearn.svm import SVC"
   ]
  },
  {
   "cell_type": "code",
   "execution_count": 91,
   "metadata": {
    "colab": {},
    "colab_type": "code",
    "executionInfo": {
     "elapsed": 2221,
     "status": "ok",
     "timestamp": 1593830216900,
     "user": {
      "displayName": "Hugo Tallys Martins Oliveira",
      "photoUrl": "",
      "userId": "01749757928754934577"
     },
     "user_tz": 180
    },
    "id": "NzUajmDyqQAX"
   },
   "outputs": [],
   "source": [
    "classifier = SVC().fit(X_train, y_train)"
   ]
  },
  {
   "cell_type": "markdown",
   "metadata": {
    "colab_type": "text",
    "id": "yDsmsKv1qQAq"
   },
   "source": [
    "Resultado da predição (TF-IDF):"
   ]
  },
  {
   "cell_type": "code",
   "execution_count": 92,
   "metadata": {
    "colab": {},
    "colab_type": "code",
    "executionInfo": {
     "elapsed": 8769,
     "status": "ok",
     "timestamp": 1593830226136,
     "user": {
      "displayName": "Hugo Tallys Martins Oliveira",
      "photoUrl": "",
      "userId": "01749757928754934577"
     },
     "user_tz": 180
    },
    "id": "FhsM1sjuqQAt"
   },
   "outputs": [],
   "source": [
    "y_pred = classifier.predict(X_test)"
   ]
  },
  {
   "cell_type": "markdown",
   "metadata": {
    "colab_type": "text",
    "id": "Gdp0sXTbqQA5"
   },
   "source": [
    "Matriz de confusão (TF-IDF):"
   ]
  },
  {
   "cell_type": "code",
   "execution_count": 93,
   "metadata": {
    "colab": {
     "base_uri": "https://localhost:8080/",
     "height": 279
    },
    "colab_type": "code",
    "executionInfo": {
     "elapsed": 8912,
     "status": "ok",
     "timestamp": 1593830235071,
     "user": {
      "displayName": "Hugo Tallys Martins Oliveira",
      "photoUrl": "",
      "userId": "01749757928754934577"
     },
     "user_tz": 180
    },
    "id": "lGLunsTHqQBB",
    "outputId": "2254e500-7364-4e77-af48-15c60c8ff057"
   },
   "outputs": [
    {
     "data": {
      "image/png": "[encoded data removed]",
      "text/plain": [
       "<Figure size 576x396 with 2 Axes>"
      ]
     },
     "metadata": {},
     "output_type": "display_data"
    }
   ],
   "source": [
    "plot_confusion_matrix(classifier, X_test, y_test)\n",
    "pyplot.show()"
   ]
  },
  {
   "cell_type": "markdown",
   "metadata": {
    "colab_type": "text",
    "id": "HAWsE3qiqQBI"
   },
   "source": [
    "Métricas de validação (TF-IDF):"
   ]
  },
  {
   "cell_type": "code",
   "execution_count": 94,
   "metadata": {
    "colab": {
     "base_uri": "https://localhost:8080/",
     "height": 104
    },
    "colab_type": "code",
    "executionInfo": {
     "elapsed": 846,
     "status": "ok",
     "timestamp": 1593830244839,
     "user": {
      "displayName": "Hugo Tallys Martins Oliveira",
      "photoUrl": "",
      "userId": "01749757928754934577"
     },
     "user_tz": 180
    },
    "id": "8cteaBrEqQBQ",
    "outputId": "04f80ffb-dca2-4c6f-f80c-94a37c39311e"
   },
   "outputs": [
    {
     "data": {
      "text/plain": [
       "{'Modelo': 'SVM + TF-IDF',\n",
       " 'Acurácia': 0.7904761904761904,\n",
       " 'Precisão': 0.7258064516129032,\n",
       " 'Recall': 0.9,\n",
       " 'F1 Score': 0.8035714285714286}"
      ]
     },
     "execution_count": 94,
     "metadata": {},
     "output_type": "execute_result"
    }
   ],
   "source": [
    "svm_metrics = {\n",
    "    'Modelo': 'SVM + TF-IDF',\n",
    "    'Acurácia': accuracy_score(y_test, y_pred),\n",
    "    'Precisão': precision_score(y_test, y_pred),\n",
    "    'Recall': recall_score(y_test, y_pred),\n",
    "    'F1 Score': f1_score(y_test, y_pred)\n",
    "}\n",
    "svm_metrics"
   ]
  },
  {
   "cell_type": "markdown",
   "metadata": {
    "colab_type": "text",
    "id": "3Kq2uG9zgHQF"
   },
   "source": [
    "Comparando os classificadores:"
   ]
  },
  {
   "cell_type": "code",
   "execution_count": 95,
   "metadata": {
    "colab": {
     "base_uri": "https://localhost:8080/",
     "height": 206
    },
    "colab_type": "code",
    "executionInfo": {
     "elapsed": 1026,
     "status": "ok",
     "timestamp": 1593830288275,
     "user": {
      "displayName": "Hugo Tallys Martins Oliveira",
      "photoUrl": "",
      "userId": "01749757928754934577"
     },
     "user_tz": 180
    },
    "id": "BHVRLgWmmvdS",
    "outputId": "33ca3a6c-59b0-47db-d7ee-9453b3cead2a"
   },
   "outputs": [
    {
     "data": {
      "text/html": [
       "<div>\n",
       "<style scoped>\n",
       "    .dataframe tbody tr th:only-of-type {\n",
       "        vertical-align: middle;\n",
       "    }\n",
       "\n",
       "    .dataframe tbody tr th {\n",
       "        vertical-align: top;\n",
       "    }\n",
       "\n",
       "    .dataframe thead th {\n",
       "        text-align: right;\n",
       "    }\n",
       "</style>\n",
       "<table border=\"1\" class=\"dataframe\">\n",
       "  <thead>\n",
       "    <tr style=\"text-align: right;\">\n",
       "      <th></th>\n",
       "      <th>Modelo</th>\n",
       "      <th>Acurácia</th>\n",
       "      <th>Precisão</th>\n",
       "      <th>Recall</th>\n",
       "      <th>F1 Score</th>\n",
       "    </tr>\n",
       "  </thead>\n",
       "  <tbody>\n",
       "    <tr>\n",
       "      <th>0</th>\n",
       "      <td>Regressão Logísitca + TF-IDF</td>\n",
       "      <td>0.738095</td>\n",
       "      <td>0.669173</td>\n",
       "      <td>0.89</td>\n",
       "      <td>0.763948</td>\n",
       "    </tr>\n",
       "    <tr>\n",
       "      <th>1</th>\n",
       "      <td>SVM + TF-IDF</td>\n",
       "      <td>0.790476</td>\n",
       "      <td>0.725806</td>\n",
       "      <td>0.90</td>\n",
       "      <td>0.803571</td>\n",
       "    </tr>\n",
       "  </tbody>\n",
       "</table>\n",
       "</div>"
      ],
      "text/plain": [
       "                         Modelo  Acurácia  Precisão  Recall  F1 Score\n",
       "0  Regressão Logísitca + TF-IDF  0.738095  0.669173    0.89  0.763948\n",
       "1                  SVM + TF-IDF  0.790476  0.725806    0.90  0.803571"
      ]
     },
     "execution_count": 95,
     "metadata": {},
     "output_type": "execute_result"
    }
   ],
   "source": [
    "pandas.DataFrame([log_metrics, svm_metrics])"
   ]
  },
  {
   "cell_type": "markdown",
   "metadata": {
    "colab_type": "text",
    "id": "ioMMzskRq_g-"
   },
   "source": [
    "# Agrupamento\n",
    "\n",
    "Realizar um agrupamento dos dados através das seguintes etapas:\n",
    "\n",
    "* Aplicar o algotimo __PCA__ preservando _95%_ da variância nos dados\n",
    "* Aplicar o algoritmo ___k_-means__ nos dados projetados, utilizando o método _elbow_ para encontrar o valor de _k_ ótimo"
   ]
  },
  {
   "cell_type": "markdown",
   "metadata": {
    "colab_type": "text",
    "id": "nyoPktp85HIH"
   },
   "source": [
    "Vamos realizar _stemming_ no texto pré-processado e vetorizar o resultado:"
   ]
  },
  {
   "cell_type": "code",
   "execution_count": 34,
   "metadata": {
    "colab": {},
    "colab_type": "code",
    "executionInfo": {
     "elapsed": 56794,
     "status": "ok",
     "timestamp": 1595629186090,
     "user": {
      "displayName": "Hugo Tallys Martins Oliveira",
      "photoUrl": "",
      "userId": "01749757928754934577"
     },
     "user_tz": 180
    },
    "id": "rt24OAGJscMv"
   },
   "outputs": [],
   "source": [
    "X_proj = PCA(n_components=.95).fit_transform(X)"
   ]
  },
  {
   "cell_type": "markdown",
   "metadata": {
    "colab_type": "text",
    "id": "ufVOsNSI6BGo"
   },
   "source": [
    "Dimensão dos pontos projetados: "
   ]
  },
  {
   "cell_type": "code",
   "execution_count": 35,
   "metadata": {
    "colab": {
     "base_uri": "https://localhost:8080/",
     "height": 34
    },
    "colab_type": "code",
    "executionInfo": {
     "elapsed": 56790,
     "status": "ok",
     "timestamp": 1595629186096,
     "user": {
      "displayName": "Hugo Tallys Martins Oliveira",
      "photoUrl": "",
      "userId": "01749757928754934577"
     },
     "user_tz": 180
    },
    "id": "eqnRruRvsyB3",
    "outputId": "d5f976ac-d710-42bd-b634-d2fbcfb41530"
   },
   "outputs": [
    {
     "data": {
      "text/plain": [
       "4"
      ]
     },
     "execution_count": 35,
     "metadata": {},
     "output_type": "execute_result"
    }
   ],
   "source": [
    "X_proj.shape[1]"
   ]
  },
  {
   "cell_type": "markdown",
   "metadata": {
    "colab_type": "text",
    "id": "E20H59CG9aiZ"
   },
   "source": [
    "Plotando o gráfico da distorção:"
   ]
  },
  {
   "cell_type": "code",
   "execution_count": 23,
   "metadata": {
    "colab": {
     "base_uri": "https://localhost:8080/",
     "height": 393
    },
    "colab_type": "code",
    "executionInfo": {
     "elapsed": 140194,
     "status": "ok",
     "timestamp": 1595629269511,
     "user": {
      "displayName": "Hugo Tallys Martins Oliveira",
      "photoUrl": "",
      "userId": "01749757928754934577"
     },
     "user_tz": 180
    },
    "id": "xqRH3-onE58e",
    "outputId": "3eeac0e5-80a6-4861-a3dd-ee482b3a3ca3"
   },
   "outputs": [
    {
     "data": {
      "image/png": "[encoded data removed]",
      "text/plain": [
       "<Figure size 576x396 with 2 Axes>"
      ]
     },
     "metadata": {},
     "output_type": "display_data"
    },
    {
     "data": {
      "text/plain": [
       "<matplotlib.axes._subplots.AxesSubplot at 0x1b74f3a9a30>"
      ]
     },
     "execution_count": 23,
     "metadata": {},
     "output_type": "execute_result"
    }
   ],
   "source": [
    "visualizer = KElbowVisualizer(KMeans(), k=(15, 30), metric='distortion')\n",
    "visualizer.fit(X_proj)\n",
    "visualizer.show() "
   ]
  },
  {
   "cell_type": "markdown",
   "metadata": {
    "colab_type": "text",
    "id": "ArA7G7cR_mSx"
   },
   "source": [
    "Observando o gráfico acima escolhemos $k=20$"
   ]
  },
  {
   "cell_type": "code",
   "execution_count": 36,
   "metadata": {
    "colab": {},
    "colab_type": "code",
    "executionInfo": {
     "elapsed": 145274,
     "status": "ok",
     "timestamp": 1595629274602,
     "user": {
      "displayName": "Hugo Tallys Martins Oliveira",
      "photoUrl": "",
      "userId": "01749757928754934577"
     },
     "user_tz": 180
    },
    "id": "aoabBDzMvKAl"
   },
   "outputs": [],
   "source": [
    "k = 20\n",
    "kmeans = KMeans(n_clusters=k).fit(X_proj)"
   ]
  },
  {
   "cell_type": "markdown",
   "metadata": {
    "colab_type": "text",
    "id": "aX4399dm_xxr"
   },
   "source": [
    "Projetando os pontos no espaço de visualização via __TSNE__:"
   ]
  },
  {
   "cell_type": "code",
   "execution_count": 37,
   "metadata": {
    "colab": {},
    "colab_type": "code",
    "executionInfo": {
     "elapsed": 166282,
     "status": "ok",
     "timestamp": 1595629295616,
     "user": {
      "displayName": "Hugo Tallys Martins Oliveira",
      "photoUrl": "",
      "userId": "01749757928754934577"
     },
     "user_tz": 180
    },
    "id": "DSZ34FVH0xCI"
   },
   "outputs": [],
   "source": [
    "start_time = time.time()\n",
    "X_tsne = TSNE(n_components=2).fit_transform(X_proj)\n",
    "interval_time = time.time() - start_time"
   ]
  },
  {
   "cell_type": "markdown",
   "metadata": {
    "colab_type": "text",
    "id": "vLORlSi5BXBa"
   },
   "source": [
    "Tempo de execução:"
   ]
  },
  {
   "cell_type": "code",
   "execution_count": 38,
   "metadata": {
    "colab": {
     "base_uri": "https://localhost:8080/",
     "height": 34
    },
    "colab_type": "code",
    "executionInfo": {
     "elapsed": 166278,
     "status": "ok",
     "timestamp": 1595629295619,
     "user": {
      "displayName": "Hugo Tallys Martins Oliveira",
      "photoUrl": "",
      "userId": "01749757928754934577"
     },
     "user_tz": 180
    },
    "id": "sDViswxpBY9S",
    "outputId": "15852877-185e-4394-b144-74487b20fa60"
   },
   "outputs": [
    {
     "name": "stdout",
     "output_type": "stream",
     "text": [
      "9.928583145141602 segundos\n"
     ]
    }
   ],
   "source": [
    "print('%s segundos' % interval_time)"
   ]
  },
  {
   "cell_type": "markdown",
   "metadata": {
    "colab_type": "text",
    "id": "1-d-ycNSBom-"
   },
   "source": [
    "Gráfico de dispersão dos pontos:"
   ]
  },
  {
   "cell_type": "code",
   "execution_count": 39,
   "metadata": {
    "colab": {},
    "colab_type": "code",
    "executionInfo": {
     "elapsed": 166271,
     "status": "ok",
     "timestamp": 1595629295622,
     "user": {
      "displayName": "Hugo Tallys Martins Oliveira",
      "photoUrl": "",
      "userId": "01749757928754934577"
     },
     "user_tz": 180
    },
    "id": "8Jjd_wKHK5ic"
   },
   "outputs": [],
   "source": [
    "color_palette = Category20[k]"
   ]
  },
  {
   "cell_type": "code",
   "execution_count": 40,
   "metadata": {
    "colab": {
     "base_uri": "https://localhost:8080/",
     "height": 517
    },
    "colab_type": "code",
    "executionInfo": {
     "elapsed": 166266,
     "status": "ok",
     "timestamp": 1595629295625,
     "user": {
      "displayName": "Hugo Tallys Martins Oliveira",
      "photoUrl": "",
      "userId": "01749757928754934577"
     },
     "user_tz": 180
    },
    "id": "CCKkKx1GDHSv",
    "outputId": "1bb5a893-b6bc-41f1-e09c-393c0f684ec0"
   },
   "outputs": [
    {
     "data": {
      "text/html": [
       "\n",
       "\n",
       "\n",
       "\n",
       "\n",
       "\n",
       "  <div class=\"bk-root\" id=\"af87c855-fad1-481b-925e-f9049f11ed8e\" data-root-id=\"1209\"></div>\n"
      ]
     },
     "metadata": {},
     "output_type": "display_data"
    },
    {
     "data": {
      "application/javascript": [
       "(function(root) {\n",
       "  function embed_document(root) {\n",
       "    \n",
       "  var docs_json = {\"bbbc5ec9-6a30-49b9-a4e8-e2c92d3444fe\":{\"roots\":{\"references\":[{\"attributes\":{\"below\":[{\"id\":\"1218\"}],\"center\":[{\"id\":\"1221\"},{\"id\":\"1225\"}],\"left\":[{\"id\":\"1222\"}],\"plot_height\":500,\"plot_width\":1000,\"renderers\":[{\"id\":\"1243\"}],\"title\":{\"id\":\"1263\"},\"toolbar\":{\"id\":\"1233\"},\"x_range\":{\"id\":\"1210\"},\"x_scale\":{\"id\":\"1214\"},\"y_range\":{\"id\":\"1212\"},\"y_scale\":{\"id\":\"1216\"}},\"id\":\"1209\",\"subtype\":\"Figure\",\"type\":\"Plot\"},{\"attributes\":{\"formatter\":{\"id\":\"1265\"},\"ticker\":{\"id\":\"1219\"}},\"id\":\"1218\",\"type\":\"LinearAxis\"},{\"attributes\":{},\"id\":\"1229\",\"type\":\"SaveTool\"},{\"attributes\":{},\"id\":\"1230\",\"type\":\"ResetTool\"},{\"attributes\":{\"overlay\":{\"id\":\"1232\"}},\"id\":\"1228\",\"type\":\"BoxZoomTool\"},{\"attributes\":{},\"id\":\"1269\",\"type\":\"Selection\"},{\"attributes\":{},\"id\":\"1231\",\"type\":\"HelpTool\"},{\"attributes\":{},\"id\":\"1214\",\"type\":\"LinearScale\"},{\"attributes\":{},\"id\":\"1270\",\"type\":\"UnionRenderers\"},{\"attributes\":{\"active_drag\":\"auto\",\"active_inspect\":\"auto\",\"active_multi\":null,\"active_scroll\":\"auto\",\"active_tap\":\"auto\",\"tools\":[{\"id\":\"1226\"},{\"id\":\"1227\"},{\"id\":\"1228\"},{\"id\":\"1229\"},{\"id\":\"1230\"},{\"id\":\"1231\"}]},\"id\":\"1233\",\"type\":\"Toolbar\"},{\"attributes\":{},\"id\":\"1223\",\"type\":\"BasicTicker\"},{\"attributes\":{\"data\":{\"fill_color\":[\"#1f77b4\",\"#9edae5\",\"#1f77b4\",\"#f7b6d2\",\"#1f77b4\",\"#7f7f7f\",\"#bcbd22\",\"#1f77b4\",\"#bcbd22\",\"#2ca02c\",\"#1f77b4\",\"#9edae5\",\"#8c564b\",\"#d62728\",\"#c49c94\",\"#9edae5\",\"#bcbd22\",\"#2ca02c\",\"#c7c7c7\",\"#c7c7c7\",\"#2ca02c\",\"#9edae5\",\"#1f77b4\",\"#7f7f7f\",\"#bcbd22\",\"#1f77b4\",\"#c5b0d5\",\"#bcbd22\",\"#9467bd\",\"#9edae5\",\"#bcbd22\",\"#bcbd22\",\"#9edae5\",\"#9edae5\",\"#7f7f7f\",\"#ff7f0e\",\"#7f7f7f\",\"#2ca02c\",\"#9467bd\",\"#c7c7c7\",\"#bcbd22\",\"#7f7f7f\",\"#ff7f0e\",\"#9467bd\",\"#bcbd22\",\"#bcbd22\",\"#9edae5\",\"#7f7f7f\",\"#1f77b4\",\"#ff7f0e\",\"#bcbd22\",\"#2ca02c\",\"#c7c7c7\",\"#8c564b\",\"#2ca02c\",\"#bcbd22\",\"#ff9896\",\"#ff7f0e\",\"#2ca02c\",\"#f7b6d2\",\"#bcbd22\",\"#8c564b\",\"#2ca02c\",\"#d62728\",\"#c7c7c7\",\"#8c564b\",\"#ff9896\",\"#8c564b\",\"#bcbd22\",\"#8c564b\",\"#8c564b\",\"#f7b6d2\",\"#9edae5\",\"#9467bd\",\"#e377c2\",\"#2ca02c\",\"#2ca02c\",\"#c49c94\",\"#bcbd22\",\"#d62728\",\"#ff9896\",\"#ff7f0e\",\"#bcbd22\",\"#d62728\",\"#9467bd\",\"#9edae5\",\"#ff7f0e\",\"#bcbd22\",\"#2ca02c\",\"#2ca02c\",\"#7f7f7f\",\"#2ca02c\",\"#ff7f0e\",\"#c49c94\",\"#bcbd22\",\"#c7c7c7\",\"#d62728\",\"#ff9896\",\"#bcbd22\",\"#c7c7c7\",\"#bcbd22\",\"#7f7f7f\",\"#d62728\",\"#bcbd22\",\"#bcbd22\",\"#9edae5\",\"#bcbd22\",\"#2ca02c\",\"#2ca02c\",\"#9edae5\",\"#2ca02c\",\"#7f7f7f\",\"#8c564b\",\"#c7c7c7\",\"#9edae5\",\"#bcbd22\",\"#d62728\",\"#d62728\",\"#c7c7c7\",\"#d62728\",\"#f7b6d2\",\"#2ca02c\",\"#9467bd\",\"#f7b6d2\",\"#9467bd\",\"#aec7e8\",\"#9467bd\",\"#aec7e8\",\"#c49c94\",\"#9467bd\",\"#9467bd\",\"#d62728\",\"#9edae5\",\"#9467bd\",\"#2ca02c\",\"#7f7f7f\",\"#f7b6d2\",\"#8c564b\",\"#9467bd\",\"#8c564b\",\"#2ca02c\",\"#c5b0d5\",\"#c5b0d5\",\"#c7c7c7\",\"#c7c7c7\",\"#7f7f7f\",\"#c5b0d5\",\"#e377c2\",\"#c49c94\",\"#7f7f7f\",\"#c5b0d5\",\"#bcbd22\",\"#ff9896\",\"#2ca02c\",\"#ff9896\",\"#98df8a\",\"#2ca02c\",\"#d62728\",\"#9467bd\",\"#d62728\",\"#8c564b\",\"#17becf\",\"#d62728\",\"#ff7f0e\",\"#c49c94\",\"#c7c7c7\",\"#dbdb8d\",\"#9467bd\",\"#aec7e8\",\"#9467bd\",\"#aec7e8\",\"#f7b6d2\",\"#9edae5\",\"#ffbb78\",\"#98df8a\",\"#9467bd\",\"#c49c94\",\"#aec7e8\",\"#e377c2\",\"#98df8a\",\"#dbdb8d\",\"#aec7e8\",\"#aec7e8\",\"#d62728\",\"#8c564b\",\"#e377c2\",\"#e377c2\",\"#2ca02c\",\"#f7b6d2\",\"#e377c2\",\"#ff7f0e\",\"#e377c2\",\"#e377c2\",\"#e377c2\",\"#c49c94\",\"#ff9896\",\"#e377c2\",\"#98df8a\",\"#9467bd\",\"#c49c94\",\"#f7b6d2\",\"#aec7e8\",\"#8c564b\",\"#dbdb8d\",\"#f7b6d2\",\"#e377c2\",\"#c49c94\",\"#c49c94\",\"#e377c2\",\"#c49c94\",\"#e377c2\",\"#8c564b\",\"#98df8a\",\"#aec7e8\",\"#c5b0d5\",\"#ff7f0e\",\"#9edae5\",\"#c49c94\",\"#8c564b\",\"#aec7e8\",\"#98df8a\",\"#c49c94\",\"#aec7e8\",\"#f7b6d2\",\"#9467bd\",\"#c49c94\",\"#8c564b\",\"#f7b6d2\",\"#ff9896\",\"#c49c94\",\"#98df8a\",\"#98df8a\",\"#e377c2\",\"#e377c2\",\"#c49c94\",\"#ff7f0e\",\"#ff7f0e\",\"#aec7e8\",\"#aec7e8\",\"#dbdb8d\",\"#dbdb8d\",\"#98df8a\",\"#ffbb78\",\"#d62728\",\"#c49c94\",\"#e377c2\",\"#9edae5\",\"#e377c2\",\"#aec7e8\",\"#c49c94\",\"#dbdb8d\",\"#c49c94\",\"#8c564b\",\"#ffbb78\",\"#aec7e8\",\"#e377c2\",\"#c49c94\",\"#e377c2\",\"#d62728\",\"#c49c94\",\"#ff7f0e\",\"#e377c2\",\"#f7b6d2\",\"#c49c94\",\"#e377c2\",\"#ffbb78\",\"#aec7e8\",\"#9edae5\",\"#e377c2\",\"#e377c2\",\"#c5b0d5\",\"#aec7e8\",\"#c49c94\",\"#ff9896\",\"#e377c2\",\"#7f7f7f\",\"#8c564b\",\"#c49c94\",\"#9467bd\",\"#98df8a\",\"#aec7e8\",\"#9467bd\",\"#ffbb78\",\"#e377c2\",\"#aec7e8\",\"#9467bd\",\"#8c564b\",\"#f7b6d2\",\"#aec7e8\",\"#9edae5\",\"#e377c2\",\"#9467bd\",\"#8c564b\",\"#c7c7c7\",\"#f7b6d2\",\"#aec7e8\",\"#e377c2\",\"#f7b6d2\",\"#8c564b\",\"#f7b6d2\",\"#7f7f7f\",\"#e377c2\",\"#8c564b\",\"#ffbb78\",\"#7f7f7f\",\"#8c564b\",\"#8c564b\",\"#ff7f0e\",\"#ff9896\",\"#f7b6d2\",\"#c49c94\",\"#e377c2\",\"#8c564b\",\"#ffbb78\",\"#9467bd\",\"#e377c2\",\"#aec7e8\",\"#aec7e8\",\"#ff7f0e\",\"#ff7f0e\",\"#c49c94\",\"#c49c94\",\"#d62728\",\"#9467bd\",\"#17becf\",\"#aec7e8\",\"#9467bd\",\"#aec7e8\",\"#98df8a\",\"#98df8a\",\"#e377c2\",\"#e377c2\",\"#ff7f0e\",\"#8c564b\",\"#9467bd\",\"#aec7e8\",\"#e377c2\",\"#c49c94\",\"#8c564b\",\"#9467bd\",\"#c7c7c7\",\"#98df8a\",\"#8c564b\",\"#9467bd\",\"#ffbb78\",\"#7f7f7f\",\"#9467bd\",\"#c49c94\",\"#98df8a\",\"#8c564b\",\"#7f7f7f\",\"#f7b6d2\",\"#f7b6d2\",\"#f7b6d2\",\"#9edae5\",\"#ffbb78\",\"#d62728\",\"#ff7f0e\",\"#f7b6d2\",\"#ff7f0e\",\"#f7b6d2\",\"#ff7f0e\",\"#c49c94\",\"#7f7f7f\",\"#f7b6d2\",\"#9edae5\",\"#f7b6d2\",\"#7f7f7f\",\"#9467bd\",\"#9467bd\",\"#8c564b\",\"#9edae5\",\"#c49c94\",\"#9edae5\",\"#ff7f0e\",\"#9467bd\",\"#7f7f7f\",\"#ff7f0e\",\"#d62728\",\"#c5b0d5\",\"#f7b6d2\",\"#98df8a\",\"#f7b6d2\",\"#9467bd\",\"#9edae5\",\"#9edae5\",\"#1f77b4\",\"#f7b6d2\",\"#ff7f0e\",\"#2ca02c\",\"#f7b6d2\",\"#9edae5\",\"#f7b6d2\",\"#1f77b4\",\"#7f7f7f\",\"#7f7f7f\",\"#9edae5\",\"#f7b6d2\",\"#aec7e8\",\"#1f77b4\",\"#e377c2\",\"#f7b6d2\",\"#f7b6d2\",\"#1f77b4\",\"#f7b6d2\",\"#f7b6d2\",\"#2ca02c\",\"#f7b6d2\",\"#9edae5\",\"#ff7f0e\",\"#8c564b\",\"#1f77b4\",\"#9edae5\",\"#ff7f0e\",\"#f7b6d2\",\"#1f77b4\",\"#9edae5\",\"#ff7f0e\",\"#9edae5\",\"#7f7f7f\",\"#f7b6d2\",\"#bcbd22\",\"#f7b6d2\",\"#2ca02c\",\"#9467bd\",\"#f7b6d2\",\"#7f7f7f\",\"#1f77b4\",\"#f7b6d2\",\"#f7b6d2\",\"#7f7f7f\",\"#f7b6d2\",\"#7f7f7f\",\"#9edae5\",\"#f7b6d2\",\"#9edae5\",\"#9edae5\",\"#9edae5\",\"#f7b6d2\",\"#f7b6d2\",\"#ff7f0e\",\"#9edae5\",\"#7f7f7f\",\"#7f7f7f\",\"#e377c2\",\"#1f77b4\",\"#1f77b4\",\"#1f77b4\",\"#2ca02c\",\"#f7b6d2\",\"#1f77b4\",\"#d62728\",\"#2ca02c\",\"#9467bd\",\"#aec7e8\",\"#9edae5\",\"#bcbd22\",\"#9467bd\",\"#ffbb78\",\"#1f77b4\",\"#1f77b4\",\"#1f77b4\",\"#1f77b4\",\"#1f77b4\",\"#1f77b4\",\"#f7b6d2\",\"#9467bd\",\"#ff7f0e\",\"#7f7f7f\",\"#9edae5\",\"#9edae5\",\"#ff7f0e\",\"#ff9896\",\"#bcbd22\",\"#1f77b4\",\"#1f77b4\",\"#c5b0d5\",\"#9edae5\",\"#9467bd\",\"#7f7f7f\",\"#ff7f0e\",\"#2ca02c\",\"#9edae5\",\"#7f7f7f\",\"#ff7f0e\",\"#c7c7c7\",\"#f7b6d2\",\"#7f7f7f\",\"#7f7f7f\",\"#f7b6d2\",\"#9edae5\",\"#d62728\",\"#ff7f0e\",\"#98df8a\",\"#1f77b4\",\"#f7b6d2\",\"#1f77b4\",\"#8c564b\",\"#9edae5\",\"#9edae5\",\"#2ca02c\",\"#1f77b4\",\"#7f7f7f\",\"#7f7f7f\",\"#9edae5\",\"#1f77b4\",\"#1f77b4\",\"#9edae5\",\"#9467bd\",\"#1f77b4\",\"#ff7f0e\",\"#1f77b4\",\"#bcbd22\",\"#9edae5\",\"#7f7f7f\",\"#f7b6d2\",\"#f7b6d2\",\"#f7b6d2\",\"#9edae5\",\"#9edae5\",\"#1f77b4\",\"#9edae5\",\"#1f77b4\",\"#2ca02c\",\"#ff7f0e\",\"#c5b0d5\",\"#9edae5\",\"#7f7f7f\",\"#ff7f0e\",\"#7f7f7f\",\"#f7b6d2\",\"#9edae5\",\"#ff7f0e\",\"#f7b6d2\",\"#f7b6d2\",\"#e377c2\",\"#1f77b4\",\"#9edae5\",\"#1f77b4\",\"#9edae5\",\"#7f7f7f\",\"#ff7f0e\",\"#bcbd22\",\"#1f77b4\",\"#1f77b4\",\"#f7b6d2\",\"#7f7f7f\",\"#7f7f7f\",\"#9467bd\",\"#f7b6d2\",\"#9edae5\",\"#9edae5\",\"#f7b6d2\",\"#f7b6d2\",\"#ff7f0e\",\"#7f7f7f\",\"#9edae5\",\"#bcbd22\",\"#c5b0d5\",\"#f7b6d2\",\"#7f7f7f\",\"#1f77b4\",\"#7f7f7f\",\"#2ca02c\",\"#7f7f7f\",\"#7f7f7f\",\"#7f7f7f\",\"#2ca02c\",\"#bcbd22\",\"#ff7f0e\",\"#7f7f7f\",\"#ff7f0e\",\"#f7b6d2\",\"#9edae5\",\"#1f77b4\",\"#9edae5\",\"#1f77b4\",\"#7f7f7f\",\"#f7b6d2\",\"#d62728\",\"#1f77b4\",\"#f7b6d2\",\"#7f7f7f\",\"#7f7f7f\",\"#7f7f7f\",\"#f7b6d2\",\"#1f77b4\",\"#1f77b4\",\"#7f7f7f\",\"#7f7f7f\",\"#f7b6d2\",\"#9edae5\",\"#8c564b\",\"#ff7f0e\",\"#ff7f0e\",\"#1f77b4\",\"#c7c7c7\",\"#9edae5\",\"#9edae5\",\"#d62728\",\"#9edae5\",\"#7f7f7f\",\"#9edae5\",\"#1f77b4\",\"#1f77b4\",\"#f7b6d2\",\"#f7b6d2\",\"#ff7f0e\",\"#8c564b\",\"#7f7f7f\",\"#7f7f7f\",\"#7f7f7f\",\"#7f7f7f\",\"#1f77b4\",\"#9467bd\",\"#1f77b4\",\"#1f77b4\",\"#f7b6d2\",\"#2ca02c\",\"#1f77b4\",\"#f7b6d2\",\"#1f77b4\",\"#bcbd22\",\"#9edae5\",\"#2ca02c\",\"#1f77b4\",\"#1f77b4\",\"#c7c7c7\",\"#e377c2\",\"#9edae5\",\"#9edae5\",\"#d62728\",\"#7f7f7f\",\"#1f77b4\",\"#9edae5\",\"#c7c7c7\",\"#1f77b4\",\"#7f7f7f\",\"#8c564b\",\"#7f7f7f\",\"#1f77b4\",\"#7f7f7f\",\"#9467bd\",\"#9edae5\",\"#2ca02c\",\"#7f7f7f\",\"#7f7f7f\",\"#7f7f7f\",\"#7f7f7f\",\"#7f7f7f\",\"#2ca02c\",\"#bcbd22\",\"#ff7f0e\",\"#2ca02c\",\"#8c564b\",\"#7f7f7f\",\"#f7b6d2\",\"#9edae5\",\"#7f7f7f\",\"#9edae5\",\"#9edae5\",\"#1f77b4\",\"#7f7f7f\",\"#c5b0d5\",\"#1f77b4\",\"#1f77b4\",\"#f7b6d2\",\"#f7b6d2\",\"#f7b6d2\",\"#7f7f7f\",\"#7f7f7f\",\"#9edae5\",\"#9edae5\",\"#7f7f7f\",\"#1f77b4\",\"#9edae5\",\"#1f77b4\",\"#9edae5\",\"#2ca02c\",\"#f7b6d2\",\"#9467bd\",\"#7f7f7f\",\"#ff7f0e\",\"#1f77b4\",\"#2ca02c\",\"#f7b6d2\",\"#ff7f0e\",\"#7f7f7f\",\"#7f7f7f\",\"#9edae5\",\"#9edae5\",\"#9edae5\",\"#1f77b4\",\"#ff7f0e\",\"#7f7f7f\",\"#1f77b4\",\"#ff7f0e\",\"#9edae5\",\"#f7b6d2\",\"#1f77b4\",\"#1f77b4\",\"#7f7f7f\",\"#1f77b4\",\"#f7b6d2\",\"#1f77b4\",\"#2ca02c\",\"#9edae5\",\"#9edae5\",\"#7f7f7f\",\"#f7b6d2\",\"#f7b6d2\",\"#bcbd22\",\"#9edae5\",\"#f7b6d2\",\"#9edae5\",\"#7f7f7f\",\"#8c564b\",\"#bcbd22\",\"#bcbd22\",\"#9467bd\",\"#1f77b4\",\"#f7b6d2\",\"#1f77b4\",\"#1f77b4\",\"#9edae5\",\"#bcbd22\",\"#f7b6d2\",\"#9edae5\",\"#9edae5\",\"#1f77b4\",\"#7f7f7f\",\"#1f77b4\",\"#8c564b\",\"#c5b0d5\",\"#7f7f7f\",\"#ff9896\",\"#9edae5\",\"#7f7f7f\",\"#1f77b4\",\"#9edae5\",\"#7f7f7f\",\"#9467bd\",\"#1f77b4\",\"#2ca02c\",\"#7f7f7f\",\"#7f7f7f\",\"#8c564b\",\"#ff7f0e\",\"#9edae5\",\"#bcbd22\",\"#1f77b4\",\"#9edae5\",\"#d62728\",\"#1f77b4\",\"#1f77b4\",\"#ff7f0e\",\"#9edae5\",\"#9edae5\",\"#7f7f7f\",\"#2ca02c\",\"#2ca02c\",\"#9edae5\",\"#9edae5\",\"#f7b6d2\",\"#f7b6d2\",\"#8c564b\",\"#f7b6d2\",\"#9edae5\",\"#ff7f0e\",\"#7f7f7f\",\"#7f7f7f\",\"#f7b6d2\",\"#7f7f7f\",\"#7f7f7f\",\"#9edae5\",\"#ff7f0e\",\"#ff7f0e\",\"#9edae5\",\"#9edae5\",\"#7f7f7f\",\"#f7b6d2\",\"#7f7f7f\",\"#1f77b4\",\"#f7b6d2\",\"#7f7f7f\",\"#2ca02c\",\"#9edae5\",\"#1f77b4\",\"#8c564b\",\"#7f7f7f\",\"#9edae5\",\"#f7b6d2\",\"#bcbd22\",\"#f7b6d2\",\"#7f7f7f\",\"#ff7f0e\",\"#9edae5\",\"#9edae5\",\"#7f7f7f\",\"#7f7f7f\",\"#9edae5\",\"#9467bd\",\"#7f7f7f\",\"#1f77b4\",\"#9edae5\",\"#7f7f7f\",\"#1f77b4\",\"#7f7f7f\",\"#7f7f7f\",\"#9edae5\",\"#7f7f7f\",\"#9edae5\",\"#9edae5\",\"#9edae5\",\"#f7b6d2\",\"#7f7f7f\",\"#7f7f7f\",\"#9edae5\",\"#9edae5\",\"#7f7f7f\",\"#7f7f7f\",\"#7f7f7f\",\"#7f7f7f\",\"#f7b6d2\",\"#1f77b4\",\"#9edae5\",\"#f7b6d2\",\"#7f7f7f\",\"#9edae5\",\"#ff7f0e\",\"#7f7f7f\",\"#1f77b4\",\"#1f77b4\",\"#f7b6d2\",\"#f7b6d2\",\"#1f77b4\",\"#9edae5\",\"#9edae5\",\"#9edae5\",\"#7f7f7f\",\"#ff7f0e\",\"#1f77b4\",\"#9edae5\",\"#7f7f7f\",\"#9edae5\",\"#1f77b4\",\"#9edae5\",\"#1f77b4\",\"#f7b6d2\",\"#9edae5\",\"#9edae5\",\"#bcbd22\",\"#7f7f7f\",\"#1f77b4\",\"#f7b6d2\",\"#9edae5\",\"#ff7f0e\",\"#9edae5\",\"#9edae5\",\"#ff7f0e\",\"#f7b6d2\",\"#9edae5\",\"#f7b6d2\",\"#f7b6d2\",\"#7f7f7f\",\"#9edae5\",\"#1f77b4\",\"#1f77b4\",\"#7f7f7f\",\"#c5b0d5\",\"#1f77b4\",\"#7f7f7f\",\"#1f77b4\",\"#1f77b4\",\"#9edae5\",\"#f7b6d2\",\"#7f7f7f\",\"#7f7f7f\",\"#2ca02c\",\"#7f7f7f\",\"#1f77b4\",\"#7f7f7f\",\"#7f7f7f\",\"#9edae5\",\"#bcbd22\",\"#7f7f7f\",\"#7f7f7f\",\"#7f7f7f\",\"#9edae5\",\"#9edae5\",\"#ff7f0e\",\"#1f77b4\",\"#c7c7c7\",\"#7f7f7f\",\"#f7b6d2\",\"#7f7f7f\",\"#7f7f7f\",\"#f7b6d2\",\"#ff9896\",\"#9edae5\",\"#7f7f7f\",\"#7f7f7f\",\"#9edae5\",\"#9edae5\",\"#7f7f7f\",\"#9edae5\",\"#1f77b4\",\"#7f7f7f\",\"#1f77b4\",\"#f7b6d2\",\"#9edae5\",\"#1f77b4\",\"#1f77b4\",\"#2ca02c\",\"#7f7f7f\",\"#9edae5\",\"#7f7f7f\",\"#7f7f7f\",\"#9edae5\",\"#1f77b4\",\"#8c564b\",\"#f7b6d2\",\"#7f7f7f\",\"#f7b6d2\",\"#7f7f7f\",\"#1f77b4\",\"#9edae5\",\"#1f77b4\",\"#ff7f0e\",\"#7f7f7f\",\"#9edae5\",\"#9edae5\",\"#ff7f0e\",\"#9edae5\",\"#7f7f7f\",\"#9edae5\",\"#9edae5\",\"#7f7f7f\",\"#9edae5\",\"#bcbd22\",\"#ff7f0e\",\"#7f7f7f\",\"#f7b6d2\",\"#7f7f7f\",\"#bcbd22\",\"#7f7f7f\",\"#1f77b4\",\"#7f7f7f\",\"#7f7f7f\",\"#9edae5\",\"#7f7f7f\",\"#ff7f0e\",\"#7f7f7f\",\"#9edae5\",\"#7f7f7f\",\"#f7b6d2\",\"#9edae5\",\"#1f77b4\",\"#8c564b\",\"#f7b6d2\",\"#1f77b4\",\"#9edae5\",\"#7f7f7f\",\"#ff9896\",\"#9edae5\",\"#ff7f0e\",\"#1f77b4\",\"#2ca02c\",\"#2ca02c\",\"#2ca02c\",\"#8c564b\",\"#bcbd22\",\"#f7b6d2\",\"#1f77b4\",\"#9edae5\",\"#ff7f0e\",\"#1f77b4\",\"#7f7f7f\",\"#f7b6d2\",\"#7f7f7f\",\"#8c564b\",\"#f7b6d2\",\"#f7b6d2\",\"#9edae5\",\"#7f7f7f\",\"#7f7f7f\",\"#9edae5\",\"#ff7f0e\",\"#9edae5\",\"#f7b6d2\",\"#f7b6d2\",\"#9edae5\",\"#7f7f7f\",\"#1f77b4\",\"#7f7f7f\",\"#ff7f0e\",\"#7f7f7f\",\"#7f7f7f\",\"#1f77b4\",\"#f7b6d2\",\"#7f7f7f\",\"#7f7f7f\",\"#2ca02c\",\"#7f7f7f\",\"#1f77b4\",\"#f7b6d2\",\"#9edae5\",\"#7f7f7f\",\"#c7c7c7\",\"#f7b6d2\",\"#1f77b4\",\"#2ca02c\",\"#7f7f7f\",\"#f7b6d2\",\"#7f7f7f\",\"#1f77b4\",\"#7f7f7f\",\"#1f77b4\",\"#9edae5\",\"#1f77b4\",\"#7f7f7f\",\"#9467bd\",\"#9edae5\",\"#9edae5\",\"#1f77b4\",\"#9edae5\",\"#9edae5\",\"#1f77b4\",\"#9edae5\",\"#7f7f7f\",\"#1f77b4\",\"#7f7f7f\",\"#ff7f0e\",\"#ff7f0e\",\"#1f77b4\",\"#7f7f7f\",\"#2ca02c\",\"#7f7f7f\",\"#7f7f7f\",\"#7f7f7f\",\"#7f7f7f\",\"#f7b6d2\",\"#bcbd22\",\"#f7b6d2\",\"#2ca02c\",\"#9edae5\",\"#f7b6d2\",\"#7f7f7f\",\"#f7b6d2\",\"#ff7f0e\",\"#f7b6d2\",\"#7f7f7f\",\"#7f7f7f\",\"#9edae5\",\"#9edae5\",\"#9edae5\",\"#ff7f0e\",\"#1f77b4\",\"#9edae5\",\"#f7b6d2\",\"#f7b6d2\",\"#ff7f0e\",\"#7f7f7f\",\"#f7b6d2\",\"#7f7f7f\",\"#9edae5\",\"#1f77b4\",\"#7f7f7f\",\"#7f7f7f\",\"#f7b6d2\",\"#f7b6d2\",\"#9edae5\",\"#7f7f7f\",\"#7f7f7f\",\"#1f77b4\",\"#7f7f7f\",\"#2ca02c\",\"#9edae5\",\"#bcbd22\",\"#8c564b\",\"#7f7f7f\",\"#7f7f7f\",\"#9edae5\",\"#1f77b4\",\"#f7b6d2\",\"#7f7f7f\",\"#f7b6d2\",\"#f7b6d2\",\"#bcbd22\",\"#ff7f0e\",\"#bcbd22\",\"#9edae5\",\"#f7b6d2\",\"#2ca02c\",\"#9edae5\",\"#2ca02c\",\"#7f7f7f\",\"#7f7f7f\",\"#98df8a\",\"#7f7f7f\",\"#9edae5\",\"#7f7f7f\",\"#9edae5\",\"#7f7f7f\",\"#9edae5\",\"#9edae5\",\"#9edae5\",\"#9edae5\",\"#9edae5\",\"#7f7f7f\",\"#ff7f0e\",\"#9edae5\",\"#1f77b4\",\"#7f7f7f\",\"#bcbd22\",\"#7f7f7f\",\"#7f7f7f\",\"#1f77b4\",\"#1f77b4\",\"#1f77b4\",\"#7f7f7f\",\"#7f7f7f\",\"#7f7f7f\",\"#7f7f7f\",\"#ff7f0e\",\"#7f7f7f\",\"#2ca02c\",\"#9edae5\",\"#7f7f7f\",\"#9edae5\",\"#9edae5\",\"#7f7f7f\",\"#7f7f7f\",\"#bcbd22\",\"#9edae5\",\"#7f7f7f\",\"#7f7f7f\",\"#7f7f7f\",\"#7f7f7f\",\"#9edae5\",\"#f7b6d2\",\"#9edae5\",\"#ff7f0e\",\"#f7b6d2\",\"#1f77b4\",\"#f7b6d2\",\"#9edae5\",\"#7f7f7f\",\"#7f7f7f\",\"#9edae5\",\"#7f7f7f\",\"#7f7f7f\",\"#7f7f7f\",\"#ff7f0e\",\"#9edae5\",\"#7f7f7f\",\"#bcbd22\",\"#7f7f7f\",\"#f7b6d2\",\"#7f7f7f\",\"#7f7f7f\",\"#bcbd22\",\"#9edae5\",\"#9edae5\",\"#ff7f0e\",\"#7f7f7f\",\"#7f7f7f\",\"#f7b6d2\",\"#9edae5\",\"#7f7f7f\",\"#2ca02c\",\"#2ca02c\",\"#ff7f0e\",\"#7f7f7f\",\"#ff7f0e\",\"#f7b6d2\",\"#7f7f7f\",\"#9edae5\",\"#7f7f7f\",\"#ff9896\",\"#9edae5\",\"#7f7f7f\",\"#9edae5\",\"#9edae5\",\"#7f7f7f\",\"#f7b6d2\",\"#1f77b4\",\"#9edae5\",\"#9edae5\",\"#1f77b4\",\"#1f77b4\",\"#9edae5\",\"#7f7f7f\",\"#1f77b4\",\"#9edae5\",\"#f7b6d2\",\"#9edae5\",\"#f7b6d2\",\"#1f77b4\",\"#7f7f7f\",\"#f7b6d2\",\"#9467bd\",\"#ff7f0e\",\"#7f7f7f\",\"#7f7f7f\",\"#7f7f7f\",\"#bcbd22\",\"#7f7f7f\",\"#8c564b\",\"#9edae5\",\"#2ca02c\",\"#1f77b4\",\"#7f7f7f\",\"#ff7f0e\",\"#f7b6d2\",\"#7f7f7f\",\"#2ca02c\",\"#bcbd22\",\"#7f7f7f\",\"#7f7f7f\",\"#9edae5\",\"#1f77b4\",\"#f7b6d2\",\"#bcbd22\",\"#ff7f0e\",\"#7f7f7f\",\"#8c564b\",\"#7f7f7f\",\"#7f7f7f\",\"#9edae5\",\"#7f7f7f\",\"#7f7f7f\",\"#f7b6d2\",\"#9edae5\",\"#ff7f0e\",\"#ff7f0e\",\"#7f7f7f\",\"#9edae5\",\"#ff7f0e\",\"#9edae5\",\"#ff7f0e\",\"#f7b6d2\",\"#1f77b4\",\"#9edae5\",\"#7f7f7f\",\"#9edae5\",\"#ff7f0e\",\"#7f7f7f\",\"#7f7f7f\",\"#f7b6d2\",\"#f7b6d2\",\"#f7b6d2\",\"#7f7f7f\",\"#d62728\",\"#9edae5\",\"#f7b6d2\",\"#7f7f7f\",\"#9edae5\",\"#9edae5\",\"#1f77b4\",\"#1f77b4\",\"#f7b6d2\",\"#f7b6d2\",\"#7f7f7f\",\"#7f7f7f\",\"#f7b6d2\",\"#ff7f0e\",\"#7f7f7f\",\"#1f77b4\",\"#9edae5\",\"#9edae5\",\"#7f7f7f\",\"#7f7f7f\",\"#bcbd22\",\"#9edae5\",\"#1f77b4\",\"#f7b6d2\",\"#7f7f7f\",\"#7f7f7f\",\"#f7b6d2\",\"#7f7f7f\",\"#ff9896\",\"#ff7f0e\",\"#aec7e8\",\"#1f77b4\",\"#9edae5\",\"#f7b6d2\",\"#ff7f0e\",\"#ff7f0e\",\"#f7b6d2\",\"#1f77b4\",\"#9edae5\",\"#9edae5\",\"#f7b6d2\",\"#7f7f7f\",\"#9edae5\",\"#7f7f7f\",\"#f7b6d2\",\"#7f7f7f\",\"#7f7f7f\",\"#9edae5\",\"#7f7f7f\",\"#9edae5\",\"#7f7f7f\",\"#9edae5\",\"#7f7f7f\",\"#c7c7c7\",\"#c7c7c7\",\"#1f77b4\",\"#f7b6d2\",\"#1f77b4\",\"#bcbd22\",\"#8c564b\",\"#f7b6d2\",\"#7f7f7f\",\"#2ca02c\",\"#7f7f7f\",\"#7f7f7f\",\"#ff7f0e\",\"#7f7f7f\",\"#9edae5\",\"#f7b6d2\",\"#7f7f7f\",\"#9edae5\",\"#2ca02c\",\"#8c564b\",\"#7f7f7f\",\"#9edae5\",\"#9edae5\",\"#9edae5\",\"#7f7f7f\",\"#9edae5\",\"#1f77b4\",\"#9edae5\",\"#7f7f7f\",\"#7f7f7f\",\"#7f7f7f\",\"#ff7f0e\",\"#7f7f7f\",\"#7f7f7f\",\"#7f7f7f\",\"#1f77b4\",\"#9edae5\",\"#9edae5\",\"#2ca02c\",\"#9edae5\",\"#1f77b4\",\"#9edae5\",\"#7f7f7f\",\"#ff7f0e\",\"#9edae5\",\"#9edae5\",\"#9edae5\",\"#9edae5\",\"#9edae5\",\"#9edae5\",\"#7f7f7f\",\"#7f7f7f\",\"#9edae5\",\"#9edae5\",\"#7f7f7f\",\"#7f7f7f\",\"#ff7f0e\",\"#9edae5\",\"#9edae5\",\"#7f7f7f\",\"#9edae5\",\"#7f7f7f\",\"#f7b6d2\",\"#8c564b\",\"#9edae5\",\"#7f7f7f\",\"#7f7f7f\",\"#7f7f7f\",\"#ff7f0e\",\"#9edae5\",\"#1f77b4\",\"#1f77b4\",\"#9edae5\",\"#7f7f7f\",\"#9edae5\",\"#ff7f0e\",\"#9edae5\",\"#f7b6d2\",\"#7f7f7f\",\"#7f7f7f\",\"#f7b6d2\",\"#7f7f7f\",\"#7f7f7f\",\"#ff9896\",\"#bcbd22\",\"#7f7f7f\",\"#ff7f0e\",\"#ff7f0e\",\"#f7b6d2\",\"#9edae5\",\"#2ca02c\",\"#ff7f0e\",\"#f7b6d2\",\"#2ca02c\",\"#7f7f7f\",\"#2ca02c\",\"#9edae5\",\"#ff7f0e\",\"#9edae5\",\"#7f7f7f\",\"#7f7f7f\",\"#7f7f7f\",\"#9edae5\",\"#ff7f0e\",\"#7f7f7f\",\"#9edae5\",\"#2ca02c\",\"#9edae5\",\"#7f7f7f\",\"#9edae5\",\"#1f77b4\",\"#7f7f7f\",\"#9edae5\",\"#7f7f7f\",\"#ff7f0e\",\"#7f7f7f\",\"#9edae5\",\"#9edae5\",\"#9edae5\",\"#9edae5\",\"#9edae5\",\"#bcbd22\",\"#f7b6d2\",\"#8c564b\",\"#7f7f7f\",\"#7f7f7f\",\"#f7b6d2\",\"#1f77b4\",\"#f7b6d2\",\"#1f77b4\",\"#7f7f7f\",\"#f7b6d2\",\"#bcbd22\",\"#9edae5\",\"#f7b6d2\",\"#9edae5\",\"#1f77b4\",\"#9edae5\",\"#9edae5\",\"#7f7f7f\",\"#f7b6d2\",\"#d62728\",\"#7f7f7f\",\"#9edae5\",\"#7f7f7f\",\"#f7b6d2\",\"#f7b6d2\",\"#7f7f7f\",\"#9edae5\",\"#7f7f7f\",\"#d62728\",\"#9edae5\",\"#9edae5\",\"#7f7f7f\",\"#9edae5\",\"#2ca02c\",\"#7f7f7f\",\"#9edae5\",\"#9edae5\",\"#7f7f7f\",\"#9edae5\",\"#7f7f7f\",\"#9edae5\",\"#9edae5\",\"#1f77b4\",\"#7f7f7f\",\"#7f7f7f\",\"#7f7f7f\",\"#9edae5\",\"#9edae5\",\"#1f77b4\",\"#7f7f7f\",\"#9edae5\",\"#9edae5\",\"#f7b6d2\",\"#9edae5\",\"#f7b6d2\",\"#f7b6d2\",\"#7f7f7f\",\"#ff7f0e\",\"#ff7f0e\",\"#1f77b4\",\"#1f77b4\",\"#7f7f7f\",\"#9edae5\",\"#9edae5\",\"#9edae5\",\"#7f7f7f\",\"#7f7f7f\",\"#7f7f7f\",\"#7f7f7f\",\"#1f77b4\",\"#9edae5\",\"#f7b6d2\",\"#1f77b4\",\"#7f7f7f\",\"#7f7f7f\",\"#9edae5\",\"#7f7f7f\",\"#8c564b\",\"#7f7f7f\",\"#9edae5\",\"#7f7f7f\",\"#7f7f7f\",\"#9edae5\",\"#9edae5\",\"#9edae5\",\"#1f77b4\",\"#1f77b4\",\"#f7b6d2\",\"#ff7f0e\",\"#7f7f7f\",\"#9edae5\",\"#7f7f7f\",\"#1f77b4\",\"#7f7f7f\",\"#7f7f7f\",\"#1f77b4\",\"#7f7f7f\",\"#1f77b4\",\"#9edae5\",\"#7f7f7f\",\"#1f77b4\",\"#f7b6d2\",\"#ff7f0e\",\"#bcbd22\",\"#9edae5\",\"#f7b6d2\",\"#1f77b4\",\"#7f7f7f\",\"#1f77b4\",\"#9edae5\",\"#1f77b4\",\"#1f77b4\",\"#2ca02c\",\"#7f7f7f\",\"#f7b6d2\",\"#f7b6d2\",\"#7f7f7f\",\"#7f7f7f\",\"#f7b6d2\",\"#1f77b4\",\"#f7b6d2\",\"#f7b6d2\",\"#c7c7c7\",\"#2ca02c\",\"#1f77b4\",\"#7f7f7f\",\"#1f77b4\",\"#1f77b4\",\"#7f7f7f\",\"#9edae5\",\"#1f77b4\",\"#1f77b4\",\"#9edae5\",\"#f7b6d2\",\"#1f77b4\",\"#ff7f0e\",\"#7f7f7f\",\"#1f77b4\",\"#7f7f7f\",\"#f7b6d2\",\"#1f77b4\",\"#7f7f7f\",\"#7f7f7f\",\"#7f7f7f\",\"#ff7f0e\",\"#c7c7c7\",\"#7f7f7f\",\"#f7b6d2\",\"#1f77b4\",\"#7f7f7f\",\"#7f7f7f\",\"#7f7f7f\",\"#9edae5\",\"#9edae5\",\"#9edae5\",\"#1f77b4\",\"#1f77b4\",\"#7f7f7f\",\"#7f7f7f\",\"#bcbd22\",\"#7f7f7f\",\"#9edae5\",\"#9edae5\",\"#7f7f7f\",\"#7f7f7f\",\"#1f77b4\",\"#1f77b4\",\"#9edae5\",\"#7f7f7f\",\"#7f7f7f\",\"#7f7f7f\",\"#ff7f0e\",\"#7f7f7f\",\"#9edae5\",\"#1f77b4\",\"#9edae5\",\"#1f77b4\",\"#1f77b4\",\"#1f77b4\",\"#f7b6d2\",\"#9edae5\",\"#7f7f7f\",\"#7f7f7f\",\"#f7b6d2\",\"#ff7f0e\",\"#1f77b4\",\"#1f77b4\",\"#7f7f7f\"],\"line_color\":[\"#1f77b4\",\"#9edae5\",\"#1f77b4\",\"#f7b6d2\",\"#1f77b4\",\"#7f7f7f\",\"#bcbd22\",\"#1f77b4\",\"#bcbd22\",\"#2ca02c\",\"#1f77b4\",\"#9edae5\",\"#8c564b\",\"#d62728\",\"#c49c94\",\"#9edae5\",\"#bcbd22\",\"#2ca02c\",\"#c7c7c7\",\"#c7c7c7\",\"#2ca02c\",\"#9edae5\",\"#1f77b4\",\"#7f7f7f\",\"#bcbd22\",\"#1f77b4\",\"#c5b0d5\",\"#bcbd22\",\"#9467bd\",\"#9edae5\",\"#bcbd22\",\"#bcbd22\",\"#9edae5\",\"#9edae5\",\"#7f7f7f\",\"#ff7f0e\",\"#7f7f7f\",\"#2ca02c\",\"#9467bd\",\"#c7c7c7\",\"#bcbd22\",\"#7f7f7f\",\"#ff7f0e\",\"#9467bd\",\"#bcbd22\",\"#bcbd22\",\"#9edae5\",\"#7f7f7f\",\"#1f77b4\",\"#ff7f0e\",\"#bcbd22\",\"#2ca02c\",\"#c7c7c7\",\"#8c564b\",\"#2ca02c\",\"#bcbd22\",\"#ff9896\",\"#ff7f0e\",\"#2ca02c\",\"#f7b6d2\",\"#bcbd22\",\"#8c564b\",\"#2ca02c\",\"#d62728\",\"#c7c7c7\",\"#8c564b\",\"#ff9896\",\"#8c564b\",\"#bcbd22\",\"#8c564b\",\"#8c564b\",\"#f7b6d2\",\"#9edae5\",\"#9467bd\",\"#e377c2\",\"#2ca02c\",\"#2ca02c\",\"#c49c94\",\"#bcbd22\",\"#d62728\",\"#ff9896\",\"#ff7f0e\",\"#bcbd22\",\"#d62728\",\"#9467bd\",\"#9edae5\",\"#ff7f0e\",\"#bcbd22\",\"#2ca02c\",\"#2ca02c\",\"#7f7f7f\",\"#2ca02c\",\"#ff7f0e\",\"#c49c94\",\"#bcbd22\",\"#c7c7c7\",\"#d62728\",\"#ff9896\",\"#bcbd22\",\"#c7c7c7\",\"#bcbd22\",\"#7f7f7f\",\"#d62728\",\"#bcbd22\",\"#bcbd22\",\"#9edae5\",\"#bcbd22\",\"#2ca02c\",\"#2ca02c\",\"#9edae5\",\"#2ca02c\",\"#7f7f7f\",\"#8c564b\",\"#c7c7c7\",\"#9edae5\",\"#bcbd22\",\"#d62728\",\"#d62728\",\"#c7c7c7\",\"#d62728\",\"#f7b6d2\",\"#2ca02c\",\"#9467bd\",\"#f7b6d2\",\"#9467bd\",\"#aec7e8\",\"#9467bd\",\"#aec7e8\",\"#c49c94\",\"#9467bd\",\"#9467bd\",\"#d62728\",\"#9edae5\",\"#9467bd\",\"#2ca02c\",\"#7f7f7f\",\"#f7b6d2\",\"#8c564b\",\"#9467bd\",\"#8c564b\",\"#2ca02c\",\"#c5b0d5\",\"#c5b0d5\",\"#c7c7c7\",\"#c7c7c7\",\"#7f7f7f\",\"#c5b0d5\",\"#e377c2\",\"#c49c94\",\"#7f7f7f\",\"#c5b0d5\",\"#bcbd22\",\"#ff9896\",\"#2ca02c\",\"#ff9896\",\"#98df8a\",\"#2ca02c\",\"#d62728\",\"#9467bd\",\"#d62728\",\"#8c564b\",\"#17becf\",\"#d62728\",\"#ff7f0e\",\"#c49c94\",\"#c7c7c7\",\"#dbdb8d\",\"#9467bd\",\"#aec7e8\",\"#9467bd\",\"#aec7e8\",\"#f7b6d2\",\"#9edae5\",\"#ffbb78\",\"#98df8a\",\"#9467bd\",\"#c49c94\",\"#aec7e8\",\"#e377c2\",\"#98df8a\",\"#dbdb8d\",\"#aec7e8\",\"#aec7e8\",\"#d62728\",\"#8c564b\",\"#e377c2\",\"#e377c2\",\"#2ca02c\",\"#f7b6d2\",\"#e377c2\",\"#ff7f0e\",\"#e377c2\",\"#e377c2\",\"#e377c2\",\"#c49c94\",\"#ff9896\",\"#e377c2\",\"#98df8a\",\"#9467bd\",\"#c49c94\",\"#f7b6d2\",\"#aec7e8\",\"#8c564b\",\"#dbdb8d\",\"#f7b6d2\",\"#e377c2\",\"#c49c94\",\"#c49c94\",\"#e377c2\",\"#c49c94\",\"#e377c2\",\"#8c564b\",\"#98df8a\",\"#aec7e8\",\"#c5b0d5\",\"#ff7f0e\",\"#9edae5\",\"#c49c94\",\"#8c564b\",\"#aec7e8\",\"#98df8a\",\"#c49c94\",\"#aec7e8\",\"#f7b6d2\",\"#9467bd\",\"#c49c94\",\"#8c564b\",\"#f7b6d2\",\"#ff9896\",\"#c49c94\",\"#98df8a\",\"#98df8a\",\"#e377c2\",\"#e377c2\",\"#c49c94\",\"#ff7f0e\",\"#ff7f0e\",\"#aec7e8\",\"#aec7e8\",\"#dbdb8d\",\"#dbdb8d\",\"#98df8a\",\"#ffbb78\",\"#d62728\",\"#c49c94\",\"#e377c2\",\"#9edae5\",\"#e377c2\",\"#aec7e8\",\"#c49c94\",\"#dbdb8d\",\"#c49c94\",\"#8c564b\",\"#ffbb78\",\"#aec7e8\",\"#e377c2\",\"#c49c94\",\"#e377c2\",\"#d62728\",\"#c49c94\",\"#ff7f0e\",\"#e377c2\",\"#f7b6d2\",\"#c49c94\",\"#e377c2\",\"#ffbb78\",\"#aec7e8\",\"#9edae5\",\"#e377c2\",\"#e377c2\",\"#c5b0d5\",\"#aec7e8\",\"#c49c94\",\"#ff9896\",\"#e377c2\",\"#7f7f7f\",\"#8c564b\",\"#c49c94\",\"#9467bd\",\"#98df8a\",\"#aec7e8\",\"#9467bd\",\"#ffbb78\",\"#e377c2\",\"#aec7e8\",\"#9467bd\",\"#8c564b\",\"#f7b6d2\",\"#aec7e8\",\"#9edae5\",\"#e377c2\",\"#9467bd\",\"#8c564b\",\"#c7c7c7\",\"#f7b6d2\",\"#aec7e8\",\"#e377c2\",\"#f7b6d2\",\"#8c564b\",\"#f7b6d2\",\"#7f7f7f\",\"#e377c2\",\"#8c564b\",\"#ffbb78\",\"#7f7f7f\",\"#8c564b\",\"#8c564b\",\"#ff7f0e\",\"#ff9896\",\"#f7b6d2\",\"#c49c94\",\"#e377c2\",\"#8c564b\",\"#ffbb78\",\"#9467bd\",\"#e377c2\",\"#aec7e8\",\"#aec7e8\",\"#ff7f0e\",\"#ff7f0e\",\"#c49c94\",\"#c49c94\",\"#d62728\",\"#9467bd\",\"#17becf\",\"#aec7e8\",\"#9467bd\",\"#aec7e8\",\"#98df8a\",\"#98df8a\",\"#e377c2\",\"#e377c2\",\"#ff7f0e\",\"#8c564b\",\"#9467bd\",\"#aec7e8\",\"#e377c2\",\"#c49c94\",\"#8c564b\",\"#9467bd\",\"#c7c7c7\",\"#98df8a\",\"#8c564b\",\"#9467bd\",\"#ffbb78\",\"#7f7f7f\",\"#9467bd\",\"#c49c94\",\"#98df8a\",\"#8c564b\",\"#7f7f7f\",\"#f7b6d2\",\"#f7b6d2\",\"#f7b6d2\",\"#9edae5\",\"#ffbb78\",\"#d62728\",\"#ff7f0e\",\"#f7b6d2\",\"#ff7f0e\",\"#f7b6d2\",\"#ff7f0e\",\"#c49c94\",\"#7f7f7f\",\"#f7b6d2\",\"#9edae5\",\"#f7b6d2\",\"#7f7f7f\",\"#9467bd\",\"#9467bd\",\"#8c564b\",\"#9edae5\",\"#c49c94\",\"#9edae5\",\"#ff7f0e\",\"#9467bd\",\"#7f7f7f\",\"#ff7f0e\",\"#d62728\",\"#c5b0d5\",\"#f7b6d2\",\"#98df8a\",\"#f7b6d2\",\"#9467bd\",\"#9edae5\",\"#9edae5\",\"#1f77b4\",\"#f7b6d2\",\"#ff7f0e\",\"#2ca02c\",\"#f7b6d2\",\"#9edae5\",\"#f7b6d2\",\"#1f77b4\",\"#7f7f7f\",\"#7f7f7f\",\"#9edae5\",\"#f7b6d2\",\"#aec7e8\",\"#1f77b4\",\"#e377c2\",\"#f7b6d2\",\"#f7b6d2\",\"#1f77b4\",\"#f7b6d2\",\"#f7b6d2\",\"#2ca02c\",\"#f7b6d2\",\"#9edae5\",\"#ff7f0e\",\"#8c564b\",\"#1f77b4\",\"#9edae5\",\"#ff7f0e\",\"#f7b6d2\",\"#1f77b4\",\"#9edae5\",\"#ff7f0e\",\"#9edae5\",\"#7f7f7f\",\"#f7b6d2\",\"#bcbd22\",\"#f7b6d2\",\"#2ca02c\",\"#9467bd\",\"#f7b6d2\",\"#7f7f7f\",\"#1f77b4\",\"#f7b6d2\",\"#f7b6d2\",\"#7f7f7f\",\"#f7b6d2\",\"#7f7f7f\",\"#9edae5\",\"#f7b6d2\",\"#9edae5\",\"#9edae5\",\"#9edae5\",\"#f7b6d2\",\"#f7b6d2\",\"#ff7f0e\",\"#9edae5\",\"#7f7f7f\",\"#7f7f7f\",\"#e377c2\",\"#1f77b4\",\"#1f77b4\",\"#1f77b4\",\"#2ca02c\",\"#f7b6d2\",\"#1f77b4\",\"#d62728\",\"#2ca02c\",\"#9467bd\",\"#aec7e8\",\"#9edae5\",\"#bcbd22\",\"#9467bd\",\"#ffbb78\",\"#1f77b4\",\"#1f77b4\",\"#1f77b4\",\"#1f77b4\",\"#1f77b4\",\"#1f77b4\",\"#f7b6d2\",\"#9467bd\",\"#ff7f0e\",\"#7f7f7f\",\"#9edae5\",\"#9edae5\",\"#ff7f0e\",\"#ff9896\",\"#bcbd22\",\"#1f77b4\",\"#1f77b4\",\"#c5b0d5\",\"#9edae5\",\"#9467bd\",\"#7f7f7f\",\"#ff7f0e\",\"#2ca02c\",\"#9edae5\",\"#7f7f7f\",\"#ff7f0e\",\"#c7c7c7\",\"#f7b6d2\",\"#7f7f7f\",\"#7f7f7f\",\"#f7b6d2\",\"#9edae5\",\"#d62728\",\"#ff7f0e\",\"#98df8a\",\"#1f77b4\",\"#f7b6d2\",\"#1f77b4\",\"#8c564b\",\"#9edae5\",\"#9edae5\",\"#2ca02c\",\"#1f77b4\",\"#7f7f7f\",\"#7f7f7f\",\"#9edae5\",\"#1f77b4\",\"#1f77b4\",\"#9edae5\",\"#9467bd\",\"#1f77b4\",\"#ff7f0e\",\"#1f77b4\",\"#bcbd22\",\"#9edae5\",\"#7f7f7f\",\"#f7b6d2\",\"#f7b6d2\",\"#f7b6d2\",\"#9edae5\",\"#9edae5\",\"#1f77b4\",\"#9edae5\",\"#1f77b4\",\"#2ca02c\",\"#ff7f0e\",\"#c5b0d5\",\"#9edae5\",\"#7f7f7f\",\"#ff7f0e\",\"#7f7f7f\",\"#f7b6d2\",\"#9edae5\",\"#ff7f0e\",\"#f7b6d2\",\"#f7b6d2\",\"#e377c2\",\"#1f77b4\",\"#9edae5\",\"#1f77b4\",\"#9edae5\",\"#7f7f7f\",\"#ff7f0e\",\"#bcbd22\",\"#1f77b4\",\"#1f77b4\",\"#f7b6d2\",\"#7f7f7f\",\"#7f7f7f\",\"#9467bd\",\"#f7b6d2\",\"#9edae5\",\"#9edae5\",\"#f7b6d2\",\"#f7b6d2\",\"#ff7f0e\",\"#7f7f7f\",\"#9edae5\",\"#bcbd22\",\"#c5b0d5\",\"#f7b6d2\",\"#7f7f7f\",\"#1f77b4\",\"#7f7f7f\",\"#2ca02c\",\"#7f7f7f\",\"#7f7f7f\",\"#7f7f7f\",\"#2ca02c\",\"#bcbd22\",\"#ff7f0e\",\"#7f7f7f\",\"#ff7f0e\",\"#f7b6d2\",\"#9edae5\",\"#1f77b4\",\"#9edae5\",\"#1f77b4\",\"#7f7f7f\",\"#f7b6d2\",\"#d62728\",\"#1f77b4\",\"#f7b6d2\",\"#7f7f7f\",\"#7f7f7f\",\"#7f7f7f\",\"#f7b6d2\",\"#1f77b4\",\"#1f77b4\",\"#7f7f7f\",\"#7f7f7f\",\"#f7b6d2\",\"#9edae5\",\"#8c564b\",\"#ff7f0e\",\"#ff7f0e\",\"#1f77b4\",\"#c7c7c7\",\"#9edae5\",\"#9edae5\",\"#d62728\",\"#9edae5\",\"#7f7f7f\",\"#9edae5\",\"#1f77b4\",\"#1f77b4\",\"#f7b6d2\",\"#f7b6d2\",\"#ff7f0e\",\"#8c564b\",\"#7f7f7f\",\"#7f7f7f\",\"#7f7f7f\",\"#7f7f7f\",\"#1f77b4\",\"#9467bd\",\"#1f77b4\",\"#1f77b4\",\"#f7b6d2\",\"#2ca02c\",\"#1f77b4\",\"#f7b6d2\",\"#1f77b4\",\"#bcbd22\",\"#9edae5\",\"#2ca02c\",\"#1f77b4\",\"#1f77b4\",\"#c7c7c7\",\"#e377c2\",\"#9edae5\",\"#9edae5\",\"#d62728\",\"#7f7f7f\",\"#1f77b4\",\"#9edae5\",\"#c7c7c7\",\"#1f77b4\",\"#7f7f7f\",\"#8c564b\",\"#7f7f7f\",\"#1f77b4\",\"#7f7f7f\",\"#9467bd\",\"#9edae5\",\"#2ca02c\",\"#7f7f7f\",\"#7f7f7f\",\"#7f7f7f\",\"#7f7f7f\",\"#7f7f7f\",\"#2ca02c\",\"#bcbd22\",\"#ff7f0e\",\"#2ca02c\",\"#8c564b\",\"#7f7f7f\",\"#f7b6d2\",\"#9edae5\",\"#7f7f7f\",\"#9edae5\",\"#9edae5\",\"#1f77b4\",\"#7f7f7f\",\"#c5b0d5\",\"#1f77b4\",\"#1f77b4\",\"#f7b6d2\",\"#f7b6d2\",\"#f7b6d2\",\"#7f7f7f\",\"#7f7f7f\",\"#9edae5\",\"#9edae5\",\"#7f7f7f\",\"#1f77b4\",\"#9edae5\",\"#1f77b4\",\"#9edae5\",\"#2ca02c\",\"#f7b6d2\",\"#9467bd\",\"#7f7f7f\",\"#ff7f0e\",\"#1f77b4\",\"#2ca02c\",\"#f7b6d2\",\"#ff7f0e\",\"#7f7f7f\",\"#7f7f7f\",\"#9edae5\",\"#9edae5\",\"#9edae5\",\"#1f77b4\",\"#ff7f0e\",\"#7f7f7f\",\"#1f77b4\",\"#ff7f0e\",\"#9edae5\",\"#f7b6d2\",\"#1f77b4\",\"#1f77b4\",\"#7f7f7f\",\"#1f77b4\",\"#f7b6d2\",\"#1f77b4\",\"#2ca02c\",\"#9edae5\",\"#9edae5\",\"#7f7f7f\",\"#f7b6d2\",\"#f7b6d2\",\"#bcbd22\",\"#9edae5\",\"#f7b6d2\",\"#9edae5\",\"#7f7f7f\",\"#8c564b\",\"#bcbd22\",\"#bcbd22\",\"#9467bd\",\"#1f77b4\",\"#f7b6d2\",\"#1f77b4\",\"#1f77b4\",\"#9edae5\",\"#bcbd22\",\"#f7b6d2\",\"#9edae5\",\"#9edae5\",\"#1f77b4\",\"#7f7f7f\",\"#1f77b4\",\"#8c564b\",\"#c5b0d5\",\"#7f7f7f\",\"#ff9896\",\"#9edae5\",\"#7f7f7f\",\"#1f77b4\",\"#9edae5\",\"#7f7f7f\",\"#9467bd\",\"#1f77b4\",\"#2ca02c\",\"#7f7f7f\",\"#7f7f7f\",\"#8c564b\",\"#ff7f0e\",\"#9edae5\",\"#bcbd22\",\"#1f77b4\",\"#9edae5\",\"#d62728\",\"#1f77b4\",\"#1f77b4\",\"#ff7f0e\",\"#9edae5\",\"#9edae5\",\"#7f7f7f\",\"#2ca02c\",\"#2ca02c\",\"#9edae5\",\"#9edae5\",\"#f7b6d2\",\"#f7b6d2\",\"#8c564b\",\"#f7b6d2\",\"#9edae5\",\"#ff7f0e\",\"#7f7f7f\",\"#7f7f7f\",\"#f7b6d2\",\"#7f7f7f\",\"#7f7f7f\",\"#9edae5\",\"#ff7f0e\",\"#ff7f0e\",\"#9edae5\",\"#9edae5\",\"#7f7f7f\",\"#f7b6d2\",\"#7f7f7f\",\"#1f77b4\",\"#f7b6d2\",\"#7f7f7f\",\"#2ca02c\",\"#9edae5\",\"#1f77b4\",\"#8c564b\",\"#7f7f7f\",\"#9edae5\",\"#f7b6d2\",\"#bcbd22\",\"#f7b6d2\",\"#7f7f7f\",\"#ff7f0e\",\"#9edae5\",\"#9edae5\",\"#7f7f7f\",\"#7f7f7f\",\"#9edae5\",\"#9467bd\",\"#7f7f7f\",\"#1f77b4\",\"#9edae5\",\"#7f7f7f\",\"#1f77b4\",\"#7f7f7f\",\"#7f7f7f\",\"#9edae5\",\"#7f7f7f\",\"#9edae5\",\"#9edae5\",\"#9edae5\",\"#f7b6d2\",\"#7f7f7f\",\"#7f7f7f\",\"#9edae5\",\"#9edae5\",\"#7f7f7f\",\"#7f7f7f\",\"#7f7f7f\",\"#7f7f7f\",\"#f7b6d2\",\"#1f77b4\",\"#9edae5\",\"#f7b6d2\",\"#7f7f7f\",\"#9edae5\",\"#ff7f0e\",\"#7f7f7f\",\"#1f77b4\",\"#1f77b4\",\"#f7b6d2\",\"#f7b6d2\",\"#1f77b4\",\"#9edae5\",\"#9edae5\",\"#9edae5\",\"#7f7f7f\",\"#ff7f0e\",\"#1f77b4\",\"#9edae5\",\"#7f7f7f\",\"#9edae5\",\"#1f77b4\",\"#9edae5\",\"#1f77b4\",\"#f7b6d2\",\"#9edae5\",\"#9edae5\",\"#bcbd22\",\"#7f7f7f\",\"#1f77b4\",\"#f7b6d2\",\"#9edae5\",\"#ff7f0e\",\"#9edae5\",\"#9edae5\",\"#ff7f0e\",\"#f7b6d2\",\"#9edae5\",\"#f7b6d2\",\"#f7b6d2\",\"#7f7f7f\",\"#9edae5\",\"#1f77b4\",\"#1f77b4\",\"#7f7f7f\",\"#c5b0d5\",\"#1f77b4\",\"#7f7f7f\",\"#1f77b4\",\"#1f77b4\",\"#9edae5\",\"#f7b6d2\",\"#7f7f7f\",\"#7f7f7f\",\"#2ca02c\",\"#7f7f7f\",\"#1f77b4\",\"#7f7f7f\",\"#7f7f7f\",\"#9edae5\",\"#bcbd22\",\"#7f7f7f\",\"#7f7f7f\",\"#7f7f7f\",\"#9edae5\",\"#9edae5\",\"#ff7f0e\",\"#1f77b4\",\"#c7c7c7\",\"#7f7f7f\",\"#f7b6d2\",\"#7f7f7f\",\"#7f7f7f\",\"#f7b6d2\",\"#ff9896\",\"#9edae5\",\"#7f7f7f\",\"#7f7f7f\",\"#9edae5\",\"#9edae5\",\"#7f7f7f\",\"#9edae5\",\"#1f77b4\",\"#7f7f7f\",\"#1f77b4\",\"#f7b6d2\",\"#9edae5\",\"#1f77b4\",\"#1f77b4\",\"#2ca02c\",\"#7f7f7f\",\"#9edae5\",\"#7f7f7f\",\"#7f7f7f\",\"#9edae5\",\"#1f77b4\",\"#8c564b\",\"#f7b6d2\",\"#7f7f7f\",\"#f7b6d2\",\"#7f7f7f\",\"#1f77b4\",\"#9edae5\",\"#1f77b4\",\"#ff7f0e\",\"#7f7f7f\",\"#9edae5\",\"#9edae5\",\"#ff7f0e\",\"#9edae5\",\"#7f7f7f\",\"#9edae5\",\"#9edae5\",\"#7f7f7f\",\"#9edae5\",\"#bcbd22\",\"#ff7f0e\",\"#7f7f7f\",\"#f7b6d2\",\"#7f7f7f\",\"#bcbd22\",\"#7f7f7f\",\"#1f77b4\",\"#7f7f7f\",\"#7f7f7f\",\"#9edae5\",\"#7f7f7f\",\"#ff7f0e\",\"#7f7f7f\",\"#9edae5\",\"#7f7f7f\",\"#f7b6d2\",\"#9edae5\",\"#1f77b4\",\"#8c564b\",\"#f7b6d2\",\"#1f77b4\",\"#9edae5\",\"#7f7f7f\",\"#ff9896\",\"#9edae5\",\"#ff7f0e\",\"#1f77b4\",\"#2ca02c\",\"#2ca02c\",\"#2ca02c\",\"#8c564b\",\"#bcbd22\",\"#f7b6d2\",\"#1f77b4\",\"#9edae5\",\"#ff7f0e\",\"#1f77b4\",\"#7f7f7f\",\"#f7b6d2\",\"#7f7f7f\",\"#8c564b\",\"#f7b6d2\",\"#f7b6d2\",\"#9edae5\",\"#7f7f7f\",\"#7f7f7f\",\"#9edae5\",\"#ff7f0e\",\"#9edae5\",\"#f7b6d2\",\"#f7b6d2\",\"#9edae5\",\"#7f7f7f\",\"#1f77b4\",\"#7f7f7f\",\"#ff7f0e\",\"#7f7f7f\",\"#7f7f7f\",\"#1f77b4\",\"#f7b6d2\",\"#7f7f7f\",\"#7f7f7f\",\"#2ca02c\",\"#7f7f7f\",\"#1f77b4\",\"#f7b6d2\",\"#9edae5\",\"#7f7f7f\",\"#c7c7c7\",\"#f7b6d2\",\"#1f77b4\",\"#2ca02c\",\"#7f7f7f\",\"#f7b6d2\",\"#7f7f7f\",\"#1f77b4\",\"#7f7f7f\",\"#1f77b4\",\"#9edae5\",\"#1f77b4\",\"#7f7f7f\",\"#9467bd\",\"#9edae5\",\"#9edae5\",\"#1f77b4\",\"#9edae5\",\"#9edae5\",\"#1f77b4\",\"#9edae5\",\"#7f7f7f\",\"#1f77b4\",\"#7f7f7f\",\"#ff7f0e\",\"#ff7f0e\",\"#1f77b4\",\"#7f7f7f\",\"#2ca02c\",\"#7f7f7f\",\"#7f7f7f\",\"#7f7f7f\",\"#7f7f7f\",\"#f7b6d2\",\"#bcbd22\",\"#f7b6d2\",\"#2ca02c\",\"#9edae5\",\"#f7b6d2\",\"#7f7f7f\",\"#f7b6d2\",\"#ff7f0e\",\"#f7b6d2\",\"#7f7f7f\",\"#7f7f7f\",\"#9edae5\",\"#9edae5\",\"#9edae5\",\"#ff7f0e\",\"#1f77b4\",\"#9edae5\",\"#f7b6d2\",\"#f7b6d2\",\"#ff7f0e\",\"#7f7f7f\",\"#f7b6d2\",\"#7f7f7f\",\"#9edae5\",\"#1f77b4\",\"#7f7f7f\",\"#7f7f7f\",\"#f7b6d2\",\"#f7b6d2\",\"#9edae5\",\"#7f7f7f\",\"#7f7f7f\",\"#1f77b4\",\"#7f7f7f\",\"#2ca02c\",\"#9edae5\",\"#bcbd22\",\"#8c564b\",\"#7f7f7f\",\"#7f7f7f\",\"#9edae5\",\"#1f77b4\",\"#f7b6d2\",\"#7f7f7f\",\"#f7b6d2\",\"#f7b6d2\",\"#bcbd22\",\"#ff7f0e\",\"#bcbd22\",\"#9edae5\",\"#f7b6d2\",\"#2ca02c\",\"#9edae5\",\"#2ca02c\",\"#7f7f7f\",\"#7f7f7f\",\"#98df8a\",\"#7f7f7f\",\"#9edae5\",\"#7f7f7f\",\"#9edae5\",\"#7f7f7f\",\"#9edae5\",\"#9edae5\",\"#9edae5\",\"#9edae5\",\"#9edae5\",\"#7f7f7f\",\"#ff7f0e\",\"#9edae5\",\"#1f77b4\",\"#7f7f7f\",\"#bcbd22\",\"#7f7f7f\",\"#7f7f7f\",\"#1f77b4\",\"#1f77b4\",\"#1f77b4\",\"#7f7f7f\",\"#7f7f7f\",\"#7f7f7f\",\"#7f7f7f\",\"#ff7f0e\",\"#7f7f7f\",\"#2ca02c\",\"#9edae5\",\"#7f7f7f\",\"#9edae5\",\"#9edae5\",\"#7f7f7f\",\"#7f7f7f\",\"#bcbd22\",\"#9edae5\",\"#7f7f7f\",\"#7f7f7f\",\"#7f7f7f\",\"#7f7f7f\",\"#9edae5\",\"#f7b6d2\",\"#9edae5\",\"#ff7f0e\",\"#f7b6d2\",\"#1f77b4\",\"#f7b6d2\",\"#9edae5\",\"#7f7f7f\",\"#7f7f7f\",\"#9edae5\",\"#7f7f7f\",\"#7f7f7f\",\"#7f7f7f\",\"#ff7f0e\",\"#9edae5\",\"#7f7f7f\",\"#bcbd22\",\"#7f7f7f\",\"#f7b6d2\",\"#7f7f7f\",\"#7f7f7f\",\"#bcbd22\",\"#9edae5\",\"#9edae5\",\"#ff7f0e\",\"#7f7f7f\",\"#7f7f7f\",\"#f7b6d2\",\"#9edae5\",\"#7f7f7f\",\"#2ca02c\",\"#2ca02c\",\"#ff7f0e\",\"#7f7f7f\",\"#ff7f0e\",\"#f7b6d2\",\"#7f7f7f\",\"#9edae5\",\"#7f7f7f\",\"#ff9896\",\"#9edae5\",\"#7f7f7f\",\"#9edae5\",\"#9edae5\",\"#7f7f7f\",\"#f7b6d2\",\"#1f77b4\",\"#9edae5\",\"#9edae5\",\"#1f77b4\",\"#1f77b4\",\"#9edae5\",\"#7f7f7f\",\"#1f77b4\",\"#9edae5\",\"#f7b6d2\",\"#9edae5\",\"#f7b6d2\",\"#1f77b4\",\"#7f7f7f\",\"#f7b6d2\",\"#9467bd\",\"#ff7f0e\",\"#7f7f7f\",\"#7f7f7f\",\"#7f7f7f\",\"#bcbd22\",\"#7f7f7f\",\"#8c564b\",\"#9edae5\",\"#2ca02c\",\"#1f77b4\",\"#7f7f7f\",\"#ff7f0e\",\"#f7b6d2\",\"#7f7f7f\",\"#2ca02c\",\"#bcbd22\",\"#7f7f7f\",\"#7f7f7f\",\"#9edae5\",\"#1f77b4\",\"#f7b6d2\",\"#bcbd22\",\"#ff7f0e\",\"#7f7f7f\",\"#8c564b\",\"#7f7f7f\",\"#7f7f7f\",\"#9edae5\",\"#7f7f7f\",\"#7f7f7f\",\"#f7b6d2\",\"#9edae5\",\"#ff7f0e\",\"#ff7f0e\",\"#7f7f7f\",\"#9edae5\",\"#ff7f0e\",\"#9edae5\",\"#ff7f0e\",\"#f7b6d2\",\"#1f77b4\",\"#9edae5\",\"#7f7f7f\",\"#9edae5\",\"#ff7f0e\",\"#7f7f7f\",\"#7f7f7f\",\"#f7b6d2\",\"#f7b6d2\",\"#f7b6d2\",\"#7f7f7f\",\"#d62728\",\"#9edae5\",\"#f7b6d2\",\"#7f7f7f\",\"#9edae5\",\"#9edae5\",\"#1f77b4\",\"#1f77b4\",\"#f7b6d2\",\"#f7b6d2\",\"#7f7f7f\",\"#7f7f7f\",\"#f7b6d2\",\"#ff7f0e\",\"#7f7f7f\",\"#1f77b4\",\"#9edae5\",\"#9edae5\",\"#7f7f7f\",\"#7f7f7f\",\"#bcbd22\",\"#9edae5\",\"#1f77b4\",\"#f7b6d2\",\"#7f7f7f\",\"#7f7f7f\",\"#f7b6d2\",\"#7f7f7f\",\"#ff9896\",\"#ff7f0e\",\"#aec7e8\",\"#1f77b4\",\"#9edae5\",\"#f7b6d2\",\"#ff7f0e\",\"#ff7f0e\",\"#f7b6d2\",\"#1f77b4\",\"#9edae5\",\"#9edae5\",\"#f7b6d2\",\"#7f7f7f\",\"#9edae5\",\"#7f7f7f\",\"#f7b6d2\",\"#7f7f7f\",\"#7f7f7f\",\"#9edae5\",\"#7f7f7f\",\"#9edae5\",\"#7f7f7f\",\"#9edae5\",\"#7f7f7f\",\"#c7c7c7\",\"#c7c7c7\",\"#1f77b4\",\"#f7b6d2\",\"#1f77b4\",\"#bcbd22\",\"#8c564b\",\"#f7b6d2\",\"#7f7f7f\",\"#2ca02c\",\"#7f7f7f\",\"#7f7f7f\",\"#ff7f0e\",\"#7f7f7f\",\"#9edae5\",\"#f7b6d2\",\"#7f7f7f\",\"#9edae5\",\"#2ca02c\",\"#8c564b\",\"#7f7f7f\",\"#9edae5\",\"#9edae5\",\"#9edae5\",\"#7f7f7f\",\"#9edae5\",\"#1f77b4\",\"#9edae5\",\"#7f7f7f\",\"#7f7f7f\",\"#7f7f7f\",\"#ff7f0e\",\"#7f7f7f\",\"#7f7f7f\",\"#7f7f7f\",\"#1f77b4\",\"#9edae5\",\"#9edae5\",\"#2ca02c\",\"#9edae5\",\"#1f77b4\",\"#9edae5\",\"#7f7f7f\",\"#ff7f0e\",\"#9edae5\",\"#9edae5\",\"#9edae5\",\"#9edae5\",\"#9edae5\",\"#9edae5\",\"#7f7f7f\",\"#7f7f7f\",\"#9edae5\",\"#9edae5\",\"#7f7f7f\",\"#7f7f7f\",\"#ff7f0e\",\"#9edae5\",\"#9edae5\",\"#7f7f7f\",\"#9edae5\",\"#7f7f7f\",\"#f7b6d2\",\"#8c564b\",\"#9edae5\",\"#7f7f7f\",\"#7f7f7f\",\"#7f7f7f\",\"#ff7f0e\",\"#9edae5\",\"#1f77b4\",\"#1f77b4\",\"#9edae5\",\"#7f7f7f\",\"#9edae5\",\"#ff7f0e\",\"#9edae5\",\"#f7b6d2\",\"#7f7f7f\",\"#7f7f7f\",\"#f7b6d2\",\"#7f7f7f\",\"#7f7f7f\",\"#ff9896\",\"#bcbd22\",\"#7f7f7f\",\"#ff7f0e\",\"#ff7f0e\",\"#f7b6d2\",\"#9edae5\",\"#2ca02c\",\"#ff7f0e\",\"#f7b6d2\",\"#2ca02c\",\"#7f7f7f\",\"#2ca02c\",\"#9edae5\",\"#ff7f0e\",\"#9edae5\",\"#7f7f7f\",\"#7f7f7f\",\"#7f7f7f\",\"#9edae5\",\"#ff7f0e\",\"#7f7f7f\",\"#9edae5\",\"#2ca02c\",\"#9edae5\",\"#7f7f7f\",\"#9edae5\",\"#1f77b4\",\"#7f7f7f\",\"#9edae5\",\"#7f7f7f\",\"#ff7f0e\",\"#7f7f7f\",\"#9edae5\",\"#9edae5\",\"#9edae5\",\"#9edae5\",\"#9edae5\",\"#bcbd22\",\"#f7b6d2\",\"#8c564b\",\"#7f7f7f\",\"#7f7f7f\",\"#f7b6d2\",\"#1f77b4\",\"#f7b6d2\",\"#1f77b4\",\"#7f7f7f\",\"#f7b6d2\",\"#bcbd22\",\"#9edae5\",\"#f7b6d2\",\"#9edae5\",\"#1f77b4\",\"#9edae5\",\"#9edae5\",\"#7f7f7f\",\"#f7b6d2\",\"#d62728\",\"#7f7f7f\",\"#9edae5\",\"#7f7f7f\",\"#f7b6d2\",\"#f7b6d2\",\"#7f7f7f\",\"#9edae5\",\"#7f7f7f\",\"#d62728\",\"#9edae5\",\"#9edae5\",\"#7f7f7f\",\"#9edae5\",\"#2ca02c\",\"#7f7f7f\",\"#9edae5\",\"#9edae5\",\"#7f7f7f\",\"#9edae5\",\"#7f7f7f\",\"#9edae5\",\"#9edae5\",\"#1f77b4\",\"#7f7f7f\",\"#7f7f7f\",\"#7f7f7f\",\"#9edae5\",\"#9edae5\",\"#1f77b4\",\"#7f7f7f\",\"#9edae5\",\"#9edae5\",\"#f7b6d2\",\"#9edae5\",\"#f7b6d2\",\"#f7b6d2\",\"#7f7f7f\",\"#ff7f0e\",\"#ff7f0e\",\"#1f77b4\",\"#1f77b4\",\"#7f7f7f\",\"#9edae5\",\"#9edae5\",\"#9edae5\",\"#7f7f7f\",\"#7f7f7f\",\"#7f7f7f\",\"#7f7f7f\",\"#1f77b4\",\"#9edae5\",\"#f7b6d2\",\"#1f77b4\",\"#7f7f7f\",\"#7f7f7f\",\"#9edae5\",\"#7f7f7f\",\"#8c564b\",\"#7f7f7f\",\"#9edae5\",\"#7f7f7f\",\"#7f7f7f\",\"#9edae5\",\"#9edae5\",\"#9edae5\",\"#1f77b4\",\"#1f77b4\",\"#f7b6d2\",\"#ff7f0e\",\"#7f7f7f\",\"#9edae5\",\"#7f7f7f\",\"#1f77b4\",\"#7f7f7f\",\"#7f7f7f\",\"#1f77b4\",\"#7f7f7f\",\"#1f77b4\",\"#9edae5\",\"#7f7f7f\",\"#1f77b4\",\"#f7b6d2\",\"#ff7f0e\",\"#bcbd22\",\"#9edae5\",\"#f7b6d2\",\"#1f77b4\",\"#7f7f7f\",\"#1f77b4\",\"#9edae5\",\"#1f77b4\",\"#1f77b4\",\"#2ca02c\",\"#7f7f7f\",\"#f7b6d2\",\"#f7b6d2\",\"#7f7f7f\",\"#7f7f7f\",\"#f7b6d2\",\"#1f77b4\",\"#f7b6d2\",\"#f7b6d2\",\"#c7c7c7\",\"#2ca02c\",\"#1f77b4\",\"#7f7f7f\",\"#1f77b4\",\"#1f77b4\",\"#7f7f7f\",\"#9edae5\",\"#1f77b4\",\"#1f77b4\",\"#9edae5\",\"#f7b6d2\",\"#1f77b4\",\"#ff7f0e\",\"#7f7f7f\",\"#1f77b4\",\"#7f7f7f\",\"#f7b6d2\",\"#1f77b4\",\"#7f7f7f\",\"#7f7f7f\",\"#7f7f7f\",\"#ff7f0e\",\"#c7c7c7\",\"#7f7f7f\",\"#f7b6d2\",\"#1f77b4\",\"#7f7f7f\",\"#7f7f7f\",\"#7f7f7f\",\"#9edae5\",\"#9edae5\",\"#9edae5\",\"#1f77b4\",\"#1f77b4\",\"#7f7f7f\",\"#7f7f7f\",\"#bcbd22\",\"#7f7f7f\",\"#9edae5\",\"#9edae5\",\"#7f7f7f\",\"#7f7f7f\",\"#1f77b4\",\"#1f77b4\",\"#9edae5\",\"#7f7f7f\",\"#7f7f7f\",\"#7f7f7f\",\"#ff7f0e\",\"#7f7f7f\",\"#9edae5\",\"#1f77b4\",\"#9edae5\",\"#1f77b4\",\"#1f77b4\",\"#1f77b4\",\"#f7b6d2\",\"#9edae5\",\"#7f7f7f\",\"#7f7f7f\",\"#f7b6d2\",\"#ff7f0e\",\"#1f77b4\",\"#1f77b4\",\"#7f7f7f\"],\"x\":{\"__ndarray__\":\"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\",\"dtype\":\"float32\",\"order\":\"little\",\"shape\":[1616]},\"y\":{\"__ndarray__\":\"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\",\"dtype\":\"float32\",\"order\":\"little\",\"shape\":[1616]}},\"selected\":{\"id\":\"1269\"},\"selection_policy\":{\"id\":\"1270\"}},\"id\":\"1240\",\"type\":\"ColumnDataSource\"},{\"attributes\":{\"fill_alpha\":{\"value\":0.8},\"fill_color\":{\"field\":\"fill_color\"},\"line_color\":{\"field\":\"line_color\"},\"size\":{\"units\":\"screen\",\"value\":10},\"x\":{\"field\":\"x\"},\"y\":{\"field\":\"y\"}},\"id\":\"1241\",\"type\":\"Circle\"},{\"attributes\":{},\"id\":\"1267\",\"type\":\"BasicTickFormatter\"},{\"attributes\":{\"axis\":{\"id\":\"1218\"},\"ticker\":null},\"id\":\"1221\",\"type\":\"Grid\"},{\"attributes\":{},\"id\":\"1227\",\"type\":\"WheelZoomTool\"},{\"attributes\":{\"bottom_units\":\"screen\",\"fill_alpha\":0.5,\"fill_color\":\"lightgrey\",\"left_units\":\"screen\",\"level\":\"overlay\",\"line_alpha\":1.0,\"line_color\":\"black\",\"line_dash\":[4,4],\"line_width\":2,\"right_units\":\"screen\",\"top_units\":\"screen\"},\"id\":\"1232\",\"type\":\"BoxAnnotation\"},{\"attributes\":{\"axis\":{\"id\":\"1222\"},\"dimension\":1,\"ticker\":null},\"id\":\"1225\",\"type\":\"Grid\"},{\"attributes\":{},\"id\":\"1265\",\"type\":\"BasicTickFormatter\"},{\"attributes\":{\"fill_alpha\":{\"value\":0.1},\"fill_color\":{\"field\":\"fill_color\"},\"line_alpha\":{\"value\":0.1},\"line_color\":{\"field\":\"line_color\"},\"size\":{\"units\":\"screen\",\"value\":10},\"x\":{\"field\":\"x\"},\"y\":{\"field\":\"y\"}},\"id\":\"1242\",\"type\":\"Circle\"},{\"attributes\":{},\"id\":\"1219\",\"type\":\"BasicTicker\"},{\"attributes\":{},\"id\":\"1210\",\"type\":\"DataRange1d\"},{\"attributes\":{\"data_source\":{\"id\":\"1240\"},\"glyph\":{\"id\":\"1241\"},\"hover_glyph\":null,\"muted_glyph\":null,\"nonselection_glyph\":{\"id\":\"1242\"},\"selection_glyph\":null,\"view\":{\"id\":\"1244\"}},\"id\":\"1243\",\"type\":\"GlyphRenderer\"},{\"attributes\":{\"source\":{\"id\":\"1240\"}},\"id\":\"1244\",\"type\":\"CDSView\"},{\"attributes\":{},\"id\":\"1216\",\"type\":\"LinearScale\"},{\"attributes\":{\"text\":\"\"},\"id\":\"1263\",\"type\":\"Title\"},{\"attributes\":{\"formatter\":{\"id\":\"1267\"},\"ticker\":{\"id\":\"1223\"}},\"id\":\"1222\",\"type\":\"LinearAxis\"},{\"attributes\":{},\"id\":\"1212\",\"type\":\"DataRange1d\"},{\"attributes\":{},\"id\":\"1226\",\"type\":\"PanTool\"}],\"root_ids\":[\"1209\"]},\"title\":\"Bokeh Application\",\"version\":\"2.1.1\"}};\n",
       "  var render_items = [{\"docid\":\"bbbc5ec9-6a30-49b9-a4e8-e2c92d3444fe\",\"root_ids\":[\"1209\"],\"roots\":{\"1209\":\"af87c855-fad1-481b-925e-f9049f11ed8e\"}}];\n",
       "  root.Bokeh.embed.embed_items_notebook(docs_json, render_items);\n",
       "\n",
       "  }\n",
       "  if (root.Bokeh !== undefined) {\n",
       "    embed_document(root);\n",
       "  } else {\n",
       "    var attempts = 0;\n",
       "    var timer = setInterval(function(root) {\n",
       "      if (root.Bokeh !== undefined) {\n",
       "        clearInterval(timer);\n",
       "        embed_document(root);\n",
       "      } else {\n",
       "        attempts++;\n",
       "        if (attempts > 100) {\n",
       "          clearInterval(timer);\n",
       "          console.log(\"Bokeh: ERROR: Unable to run BokehJS code because BokehJS library is missing\");\n",
       "        }\n",
       "      }\n",
       "    }, 10, root)\n",
       "  }\n",
       "})(window);"
      ],
      "application/vnd.bokehjs_exec.v0+json": ""
     },
     "metadata": {
      "application/vnd.bokehjs_exec.v0+json": {
       "id": "1209"
      }
     },
     "output_type": "display_data"
    }
   ],
   "source": [
    "def scatter_plot(X, labels):\n",
    "    scatter_plot = figure(plot_width=1000, plot_height=500)\n",
    "    scatter_plot.circle(X[:, 0], X[:, 1], size=10, line_color=[color_palette[l] for l in labels], fill_color=[color_palette[l] for l in labels], fill_alpha=.8)\n",
    "    show(scatter_plot)\n",
    "\n",
    "scatter_plot(X_tsne, kmeans.labels_)"
   ]
  },
  {
   "cell_type": "markdown",
   "metadata": {
    "colab_type": "text",
    "id": "_RgqiveECbpf"
   },
   "source": [
    "Projetando os pontos no espaço de visualização via __UMAP__:"
   ]
  },
  {
   "cell_type": "code",
   "execution_count": 41,
   "metadata": {
    "colab": {},
    "colab_type": "code",
    "executionInfo": {
     "elapsed": 178444,
     "status": "ok",
     "timestamp": 1595629307812,
     "user": {
      "displayName": "Hugo Tallys Martins Oliveira",
      "photoUrl": "",
      "userId": "01749757928754934577"
     },
     "user_tz": 180
    },
    "id": "Uf7_K640Cbps"
   },
   "outputs": [],
   "source": [
    "start_time = time.time()\n",
    "X_umap = umap.UMAP().fit_transform(X_proj)\n",
    "interval_time = time.time() - start_time"
   ]
  },
  {
   "cell_type": "markdown",
   "metadata": {
    "colab_type": "text",
    "id": "F3I6exrZCbqE"
   },
   "source": [
    "Tempo de execução:"
   ]
  },
  {
   "cell_type": "code",
   "execution_count": 42,
   "metadata": {
    "colab": {
     "base_uri": "https://localhost:8080/",
     "height": 34
    },
    "colab_type": "code",
    "executionInfo": {
     "elapsed": 178441,
     "status": "ok",
     "timestamp": 1595629307817,
     "user": {
      "displayName": "Hugo Tallys Martins Oliveira",
      "photoUrl": "",
      "userId": "01749757928754934577"
     },
     "user_tz": 180
    },
    "id": "vsaSo_ACCbqG",
    "outputId": "f5eea777-f326-46e5-b11d-4ee11bb4a226"
   },
   "outputs": [
    {
     "name": "stdout",
     "output_type": "stream",
     "text": [
      "5.107268333435059 segundos\n"
     ]
    }
   ],
   "source": [
    "print('%s segundos' % interval_time)"
   ]
  },
  {
   "cell_type": "code",
   "execution_count": 43,
   "metadata": {
    "colab": {
     "base_uri": "https://localhost:8080/",
     "height": 517
    },
    "colab_type": "code",
    "executionInfo": {
     "elapsed": 178435,
     "status": "ok",
     "timestamp": 1595629307820,
     "user": {
      "displayName": "Hugo Tallys Martins Oliveira",
      "photoUrl": "",
      "userId": "01749757928754934577"
     },
     "user_tz": 180
    },
    "id": "96WtJKbpGTZL",
    "outputId": "5f9268f6-62b0-4664-b6cd-ef0faaa3db6e"
   },
   "outputs": [
    {
     "data": {
      "text/html": [
       "\n",
       "\n",
       "\n",
       "\n",
       "\n",
       "\n",
       "  <div class=\"bk-root\" id=\"30cea531-676a-4143-a2f8-eda71ad0f481\" data-root-id=\"1326\"></div>\n"
      ]
     },
     "metadata": {},
     "output_type": "display_data"
    },
    {
     "data": {
      "application/javascript": [
       "(function(root) {\n",
       "  function embed_document(root) {\n",
       "    \n",
       "  var docs_json = {\"0441b03a-c3bd-47a4-91d0-ba7a58992a30\":{\"roots\":{\"references\":[{\"attributes\":{\"below\":[{\"id\":\"1335\"}],\"center\":[{\"id\":\"1338\"},{\"id\":\"1342\"}],\"left\":[{\"id\":\"1339\"}],\"plot_height\":500,\"plot_width\":1000,\"renderers\":[{\"id\":\"1360\"}],\"title\":{\"id\":\"1389\"},\"toolbar\":{\"id\":\"1350\"},\"x_range\":{\"id\":\"1327\"},\"x_scale\":{\"id\":\"1331\"},\"y_range\":{\"id\":\"1329\"},\"y_scale\":{\"id\":\"1333\"}},\"id\":\"1326\",\"subtype\":\"Figure\",\"type\":\"Plot\"},{\"attributes\":{\"fill_alpha\":{\"value\":0.8},\"fill_color\":{\"field\":\"fill_color\"},\"line_color\":{\"field\":\"line_color\"},\"size\":{\"units\":\"screen\",\"value\":10},\"x\":{\"field\":\"x\"},\"y\":{\"field\":\"y\"}},\"id\":\"1358\",\"type\":\"Circle\"},{\"attributes\":{\"formatter\":{\"id\":\"1393\"},\"ticker\":{\"id\":\"1340\"}},\"id\":\"1339\",\"type\":\"LinearAxis\"},{\"attributes\":{},\"id\":\"1327\",\"type\":\"DataRange1d\"},{\"attributes\":{},\"id\":\"1343\",\"type\":\"PanTool\"},{\"attributes\":{},\"id\":\"1348\",\"type\":\"HelpTool\"},{\"attributes\":{},\"id\":\"1329\",\"type\":\"DataRange1d\"},{\"attributes\":{\"axis\":{\"id\":\"1339\"},\"dimension\":1,\"ticker\":null},\"id\":\"1342\",\"type\":\"Grid\"},{\"attributes\":{},\"id\":\"1347\",\"type\":\"ResetTool\"},{\"attributes\":{},\"id\":\"1396\",\"type\":\"UnionRenderers\"},{\"attributes\":{},\"id\":\"1393\",\"type\":\"BasicTickFormatter\"},{\"attributes\":{\"formatter\":{\"id\":\"1391\"},\"ticker\":{\"id\":\"1336\"}},\"id\":\"1335\",\"type\":\"LinearAxis\"},{\"attributes\":{\"text\":\"\"},\"id\":\"1389\",\"type\":\"Title\"},{\"attributes\":{},\"id\":\"1336\",\"type\":\"BasicTicker\"},{\"attributes\":{},\"id\":\"1395\",\"type\":\"Selection\"},{\"attributes\":{},\"id\":\"1333\",\"type\":\"LinearScale\"},{\"attributes\":{\"source\":{\"id\":\"1357\"}},\"id\":\"1361\",\"type\":\"CDSView\"},{\"attributes\":{\"bottom_units\":\"screen\",\"fill_alpha\":0.5,\"fill_color\":\"lightgrey\",\"left_units\":\"screen\",\"level\":\"overlay\",\"line_alpha\":1.0,\"line_color\":\"black\",\"line_dash\":[4,4],\"line_width\":2,\"right_units\":\"screen\",\"top_units\":\"screen\"},\"id\":\"1349\",\"type\":\"BoxAnnotation\"},{\"attributes\":{\"overlay\":{\"id\":\"1349\"}},\"id\":\"1345\",\"type\":\"BoxZoomTool\"},{\"attributes\":{},\"id\":\"1346\",\"type\":\"SaveTool\"},{\"attributes\":{},\"id\":\"1331\",\"type\":\"LinearScale\"},{\"attributes\":{\"data\":{\"fill_color\":[\"#1f77b4\",\"#9edae5\",\"#1f77b4\",\"#f7b6d2\",\"#1f77b4\",\"#7f7f7f\",\"#bcbd22\",\"#1f77b4\",\"#bcbd22\",\"#2ca02c\",\"#1f77b4\",\"#9edae5\",\"#8c564b\",\"#d62728\",\"#c49c94\",\"#9edae5\",\"#bcbd22\",\"#2ca02c\",\"#c7c7c7\",\"#c7c7c7\",\"#2ca02c\",\"#9edae5\",\"#1f77b4\",\"#7f7f7f\",\"#bcbd22\",\"#1f77b4\",\"#c5b0d5\",\"#bcbd22\",\"#9467bd\",\"#9edae5\",\"#bcbd22\",\"#bcbd22\",\"#9edae5\",\"#9edae5\",\"#7f7f7f\",\"#ff7f0e\",\"#7f7f7f\",\"#2ca02c\",\"#9467bd\",\"#c7c7c7\",\"#bcbd22\",\"#7f7f7f\",\"#ff7f0e\",\"#9467bd\",\"#bcbd22\",\"#bcbd22\",\"#9edae5\",\"#7f7f7f\",\"#1f77b4\",\"#ff7f0e\",\"#bcbd22\",\"#2ca02c\",\"#c7c7c7\",\"#8c564b\",\"#2ca02c\",\"#bcbd22\",\"#ff9896\",\"#ff7f0e\",\"#2ca02c\",\"#f7b6d2\",\"#bcbd22\",\"#8c564b\",\"#2ca02c\",\"#d62728\",\"#c7c7c7\",\"#8c564b\",\"#ff9896\",\"#8c564b\",\"#bcbd22\",\"#8c564b\",\"#8c564b\",\"#f7b6d2\",\"#9edae5\",\"#9467bd\",\"#e377c2\",\"#2ca02c\",\"#2ca02c\",\"#c49c94\",\"#bcbd22\",\"#d62728\",\"#ff9896\",\"#ff7f0e\",\"#bcbd22\",\"#d62728\",\"#9467bd\",\"#9edae5\",\"#ff7f0e\",\"#bcbd22\",\"#2ca02c\",\"#2ca02c\",\"#7f7f7f\",\"#2ca02c\",\"#ff7f0e\",\"#c49c94\",\"#bcbd22\",\"#c7c7c7\",\"#d62728\",\"#ff9896\",\"#bcbd22\",\"#c7c7c7\",\"#bcbd22\",\"#7f7f7f\",\"#d62728\",\"#bcbd22\",\"#bcbd22\",\"#9edae5\",\"#bcbd22\",\"#2ca02c\",\"#2ca02c\",\"#9edae5\",\"#2ca02c\",\"#7f7f7f\",\"#8c564b\",\"#c7c7c7\",\"#9edae5\",\"#bcbd22\",\"#d62728\",\"#d62728\",\"#c7c7c7\",\"#d62728\",\"#f7b6d2\",\"#2ca02c\",\"#9467bd\",\"#f7b6d2\",\"#9467bd\",\"#aec7e8\",\"#9467bd\",\"#aec7e8\",\"#c49c94\",\"#9467bd\",\"#9467bd\",\"#d62728\",\"#9edae5\",\"#9467bd\",\"#2ca02c\",\"#7f7f7f\",\"#f7b6d2\",\"#8c564b\",\"#9467bd\",\"#8c564b\",\"#2ca02c\",\"#c5b0d5\",\"#c5b0d5\",\"#c7c7c7\",\"#c7c7c7\",\"#7f7f7f\",\"#c5b0d5\",\"#e377c2\",\"#c49c94\",\"#7f7f7f\",\"#c5b0d5\",\"#bcbd22\",\"#ff9896\",\"#2ca02c\",\"#ff9896\",\"#98df8a\",\"#2ca02c\",\"#d62728\",\"#9467bd\",\"#d62728\",\"#8c564b\",\"#17becf\",\"#d62728\",\"#ff7f0e\",\"#c49c94\",\"#c7c7c7\",\"#dbdb8d\",\"#9467bd\",\"#aec7e8\",\"#9467bd\",\"#aec7e8\",\"#f7b6d2\",\"#9edae5\",\"#ffbb78\",\"#98df8a\",\"#9467bd\",\"#c49c94\",\"#aec7e8\",\"#e377c2\",\"#98df8a\",\"#dbdb8d\",\"#aec7e8\",\"#aec7e8\",\"#d62728\",\"#8c564b\",\"#e377c2\",\"#e377c2\",\"#2ca02c\",\"#f7b6d2\",\"#e377c2\",\"#ff7f0e\",\"#e377c2\",\"#e377c2\",\"#e377c2\",\"#c49c94\",\"#ff9896\",\"#e377c2\",\"#98df8a\",\"#9467bd\",\"#c49c94\",\"#f7b6d2\",\"#aec7e8\",\"#8c564b\",\"#dbdb8d\",\"#f7b6d2\",\"#e377c2\",\"#c49c94\",\"#c49c94\",\"#e377c2\",\"#c49c94\",\"#e377c2\",\"#8c564b\",\"#98df8a\",\"#aec7e8\",\"#c5b0d5\",\"#ff7f0e\",\"#9edae5\",\"#c49c94\",\"#8c564b\",\"#aec7e8\",\"#98df8a\",\"#c49c94\",\"#aec7e8\",\"#f7b6d2\",\"#9467bd\",\"#c49c94\",\"#8c564b\",\"#f7b6d2\",\"#ff9896\",\"#c49c94\",\"#98df8a\",\"#98df8a\",\"#e377c2\",\"#e377c2\",\"#c49c94\",\"#ff7f0e\",\"#ff7f0e\",\"#aec7e8\",\"#aec7e8\",\"#dbdb8d\",\"#dbdb8d\",\"#98df8a\",\"#ffbb78\",\"#d62728\",\"#c49c94\",\"#e377c2\",\"#9edae5\",\"#e377c2\",\"#aec7e8\",\"#c49c94\",\"#dbdb8d\",\"#c49c94\",\"#8c564b\",\"#ffbb78\",\"#aec7e8\",\"#e377c2\",\"#c49c94\",\"#e377c2\",\"#d62728\",\"#c49c94\",\"#ff7f0e\",\"#e377c2\",\"#f7b6d2\",\"#c49c94\",\"#e377c2\",\"#ffbb78\",\"#aec7e8\",\"#9edae5\",\"#e377c2\",\"#e377c2\",\"#c5b0d5\",\"#aec7e8\",\"#c49c94\",\"#ff9896\",\"#e377c2\",\"#7f7f7f\",\"#8c564b\",\"#c49c94\",\"#9467bd\",\"#98df8a\",\"#aec7e8\",\"#9467bd\",\"#ffbb78\",\"#e377c2\",\"#aec7e8\",\"#9467bd\",\"#8c564b\",\"#f7b6d2\",\"#aec7e8\",\"#9edae5\",\"#e377c2\",\"#9467bd\",\"#8c564b\",\"#c7c7c7\",\"#f7b6d2\",\"#aec7e8\",\"#e377c2\",\"#f7b6d2\",\"#8c564b\",\"#f7b6d2\",\"#7f7f7f\",\"#e377c2\",\"#8c564b\",\"#ffbb78\",\"#7f7f7f\",\"#8c564b\",\"#8c564b\",\"#ff7f0e\",\"#ff9896\",\"#f7b6d2\",\"#c49c94\",\"#e377c2\",\"#8c564b\",\"#ffbb78\",\"#9467bd\",\"#e377c2\",\"#aec7e8\",\"#aec7e8\",\"#ff7f0e\",\"#ff7f0e\",\"#c49c94\",\"#c49c94\",\"#d62728\",\"#9467bd\",\"#17becf\",\"#aec7e8\",\"#9467bd\",\"#aec7e8\",\"#98df8a\",\"#98df8a\",\"#e377c2\",\"#e377c2\",\"#ff7f0e\",\"#8c564b\",\"#9467bd\",\"#aec7e8\",\"#e377c2\",\"#c49c94\",\"#8c564b\",\"#9467bd\",\"#c7c7c7\",\"#98df8a\",\"#8c564b\",\"#9467bd\",\"#ffbb78\",\"#7f7f7f\",\"#9467bd\",\"#c49c94\",\"#98df8a\",\"#8c564b\",\"#7f7f7f\",\"#f7b6d2\",\"#f7b6d2\",\"#f7b6d2\",\"#9edae5\",\"#ffbb78\",\"#d62728\",\"#ff7f0e\",\"#f7b6d2\",\"#ff7f0e\",\"#f7b6d2\",\"#ff7f0e\",\"#c49c94\",\"#7f7f7f\",\"#f7b6d2\",\"#9edae5\",\"#f7b6d2\",\"#7f7f7f\",\"#9467bd\",\"#9467bd\",\"#8c564b\",\"#9edae5\",\"#c49c94\",\"#9edae5\",\"#ff7f0e\",\"#9467bd\",\"#7f7f7f\",\"#ff7f0e\",\"#d62728\",\"#c5b0d5\",\"#f7b6d2\",\"#98df8a\",\"#f7b6d2\",\"#9467bd\",\"#9edae5\",\"#9edae5\",\"#1f77b4\",\"#f7b6d2\",\"#ff7f0e\",\"#2ca02c\",\"#f7b6d2\",\"#9edae5\",\"#f7b6d2\",\"#1f77b4\",\"#7f7f7f\",\"#7f7f7f\",\"#9edae5\",\"#f7b6d2\",\"#aec7e8\",\"#1f77b4\",\"#e377c2\",\"#f7b6d2\",\"#f7b6d2\",\"#1f77b4\",\"#f7b6d2\",\"#f7b6d2\",\"#2ca02c\",\"#f7b6d2\",\"#9edae5\",\"#ff7f0e\",\"#8c564b\",\"#1f77b4\",\"#9edae5\",\"#ff7f0e\",\"#f7b6d2\",\"#1f77b4\",\"#9edae5\",\"#ff7f0e\",\"#9edae5\",\"#7f7f7f\",\"#f7b6d2\",\"#bcbd22\",\"#f7b6d2\",\"#2ca02c\",\"#9467bd\",\"#f7b6d2\",\"#7f7f7f\",\"#1f77b4\",\"#f7b6d2\",\"#f7b6d2\",\"#7f7f7f\",\"#f7b6d2\",\"#7f7f7f\",\"#9edae5\",\"#f7b6d2\",\"#9edae5\",\"#9edae5\",\"#9edae5\",\"#f7b6d2\",\"#f7b6d2\",\"#ff7f0e\",\"#9edae5\",\"#7f7f7f\",\"#7f7f7f\",\"#e377c2\",\"#1f77b4\",\"#1f77b4\",\"#1f77b4\",\"#2ca02c\",\"#f7b6d2\",\"#1f77b4\",\"#d62728\",\"#2ca02c\",\"#9467bd\",\"#aec7e8\",\"#9edae5\",\"#bcbd22\",\"#9467bd\",\"#ffbb78\",\"#1f77b4\",\"#1f77b4\",\"#1f77b4\",\"#1f77b4\",\"#1f77b4\",\"#1f77b4\",\"#f7b6d2\",\"#9467bd\",\"#ff7f0e\",\"#7f7f7f\",\"#9edae5\",\"#9edae5\",\"#ff7f0e\",\"#ff9896\",\"#bcbd22\",\"#1f77b4\",\"#1f77b4\",\"#c5b0d5\",\"#9edae5\",\"#9467bd\",\"#7f7f7f\",\"#ff7f0e\",\"#2ca02c\",\"#9edae5\",\"#7f7f7f\",\"#ff7f0e\",\"#c7c7c7\",\"#f7b6d2\",\"#7f7f7f\",\"#7f7f7f\",\"#f7b6d2\",\"#9edae5\",\"#d62728\",\"#ff7f0e\",\"#98df8a\",\"#1f77b4\",\"#f7b6d2\",\"#1f77b4\",\"#8c564b\",\"#9edae5\",\"#9edae5\",\"#2ca02c\",\"#1f77b4\",\"#7f7f7f\",\"#7f7f7f\",\"#9edae5\",\"#1f77b4\",\"#1f77b4\",\"#9edae5\",\"#9467bd\",\"#1f77b4\",\"#ff7f0e\",\"#1f77b4\",\"#bcbd22\",\"#9edae5\",\"#7f7f7f\",\"#f7b6d2\",\"#f7b6d2\",\"#f7b6d2\",\"#9edae5\",\"#9edae5\",\"#1f77b4\",\"#9edae5\",\"#1f77b4\",\"#2ca02c\",\"#ff7f0e\",\"#c5b0d5\",\"#9edae5\",\"#7f7f7f\",\"#ff7f0e\",\"#7f7f7f\",\"#f7b6d2\",\"#9edae5\",\"#ff7f0e\",\"#f7b6d2\",\"#f7b6d2\",\"#e377c2\",\"#1f77b4\",\"#9edae5\",\"#1f77b4\",\"#9edae5\",\"#7f7f7f\",\"#ff7f0e\",\"#bcbd22\",\"#1f77b4\",\"#1f77b4\",\"#f7b6d2\",\"#7f7f7f\",\"#7f7f7f\",\"#9467bd\",\"#f7b6d2\",\"#9edae5\",\"#9edae5\",\"#f7b6d2\",\"#f7b6d2\",\"#ff7f0e\",\"#7f7f7f\",\"#9edae5\",\"#bcbd22\",\"#c5b0d5\",\"#f7b6d2\",\"#7f7f7f\",\"#1f77b4\",\"#7f7f7f\",\"#2ca02c\",\"#7f7f7f\",\"#7f7f7f\",\"#7f7f7f\",\"#2ca02c\",\"#bcbd22\",\"#ff7f0e\",\"#7f7f7f\",\"#ff7f0e\",\"#f7b6d2\",\"#9edae5\",\"#1f77b4\",\"#9edae5\",\"#1f77b4\",\"#7f7f7f\",\"#f7b6d2\",\"#d62728\",\"#1f77b4\",\"#f7b6d2\",\"#7f7f7f\",\"#7f7f7f\",\"#7f7f7f\",\"#f7b6d2\",\"#1f77b4\",\"#1f77b4\",\"#7f7f7f\",\"#7f7f7f\",\"#f7b6d2\",\"#9edae5\",\"#8c564b\",\"#ff7f0e\",\"#ff7f0e\",\"#1f77b4\",\"#c7c7c7\",\"#9edae5\",\"#9edae5\",\"#d62728\",\"#9edae5\",\"#7f7f7f\",\"#9edae5\",\"#1f77b4\",\"#1f77b4\",\"#f7b6d2\",\"#f7b6d2\",\"#ff7f0e\",\"#8c564b\",\"#7f7f7f\",\"#7f7f7f\",\"#7f7f7f\",\"#7f7f7f\",\"#1f77b4\",\"#9467bd\",\"#1f77b4\",\"#1f77b4\",\"#f7b6d2\",\"#2ca02c\",\"#1f77b4\",\"#f7b6d2\",\"#1f77b4\",\"#bcbd22\",\"#9edae5\",\"#2ca02c\",\"#1f77b4\",\"#1f77b4\",\"#c7c7c7\",\"#e377c2\",\"#9edae5\",\"#9edae5\",\"#d62728\",\"#7f7f7f\",\"#1f77b4\",\"#9edae5\",\"#c7c7c7\",\"#1f77b4\",\"#7f7f7f\",\"#8c564b\",\"#7f7f7f\",\"#1f77b4\",\"#7f7f7f\",\"#9467bd\",\"#9edae5\",\"#2ca02c\",\"#7f7f7f\",\"#7f7f7f\",\"#7f7f7f\",\"#7f7f7f\",\"#7f7f7f\",\"#2ca02c\",\"#bcbd22\",\"#ff7f0e\",\"#2ca02c\",\"#8c564b\",\"#7f7f7f\",\"#f7b6d2\",\"#9edae5\",\"#7f7f7f\",\"#9edae5\",\"#9edae5\",\"#1f77b4\",\"#7f7f7f\",\"#c5b0d5\",\"#1f77b4\",\"#1f77b4\",\"#f7b6d2\",\"#f7b6d2\",\"#f7b6d2\",\"#7f7f7f\",\"#7f7f7f\",\"#9edae5\",\"#9edae5\",\"#7f7f7f\",\"#1f77b4\",\"#9edae5\",\"#1f77b4\",\"#9edae5\",\"#2ca02c\",\"#f7b6d2\",\"#9467bd\",\"#7f7f7f\",\"#ff7f0e\",\"#1f77b4\",\"#2ca02c\",\"#f7b6d2\",\"#ff7f0e\",\"#7f7f7f\",\"#7f7f7f\",\"#9edae5\",\"#9edae5\",\"#9edae5\",\"#1f77b4\",\"#ff7f0e\",\"#7f7f7f\",\"#1f77b4\",\"#ff7f0e\",\"#9edae5\",\"#f7b6d2\",\"#1f77b4\",\"#1f77b4\",\"#7f7f7f\",\"#1f77b4\",\"#f7b6d2\",\"#1f77b4\",\"#2ca02c\",\"#9edae5\",\"#9edae5\",\"#7f7f7f\",\"#f7b6d2\",\"#f7b6d2\",\"#bcbd22\",\"#9edae5\",\"#f7b6d2\",\"#9edae5\",\"#7f7f7f\",\"#8c564b\",\"#bcbd22\",\"#bcbd22\",\"#9467bd\",\"#1f77b4\",\"#f7b6d2\",\"#1f77b4\",\"#1f77b4\",\"#9edae5\",\"#bcbd22\",\"#f7b6d2\",\"#9edae5\",\"#9edae5\",\"#1f77b4\",\"#7f7f7f\",\"#1f77b4\",\"#8c564b\",\"#c5b0d5\",\"#7f7f7f\",\"#ff9896\",\"#9edae5\",\"#7f7f7f\",\"#1f77b4\",\"#9edae5\",\"#7f7f7f\",\"#9467bd\",\"#1f77b4\",\"#2ca02c\",\"#7f7f7f\",\"#7f7f7f\",\"#8c564b\",\"#ff7f0e\",\"#9edae5\",\"#bcbd22\",\"#1f77b4\",\"#9edae5\",\"#d62728\",\"#1f77b4\",\"#1f77b4\",\"#ff7f0e\",\"#9edae5\",\"#9edae5\",\"#7f7f7f\",\"#2ca02c\",\"#2ca02c\",\"#9edae5\",\"#9edae5\",\"#f7b6d2\",\"#f7b6d2\",\"#8c564b\",\"#f7b6d2\",\"#9edae5\",\"#ff7f0e\",\"#7f7f7f\",\"#7f7f7f\",\"#f7b6d2\",\"#7f7f7f\",\"#7f7f7f\",\"#9edae5\",\"#ff7f0e\",\"#ff7f0e\",\"#9edae5\",\"#9edae5\",\"#7f7f7f\",\"#f7b6d2\",\"#7f7f7f\",\"#1f77b4\",\"#f7b6d2\",\"#7f7f7f\",\"#2ca02c\",\"#9edae5\",\"#1f77b4\",\"#8c564b\",\"#7f7f7f\",\"#9edae5\",\"#f7b6d2\",\"#bcbd22\",\"#f7b6d2\",\"#7f7f7f\",\"#ff7f0e\",\"#9edae5\",\"#9edae5\",\"#7f7f7f\",\"#7f7f7f\",\"#9edae5\",\"#9467bd\",\"#7f7f7f\",\"#1f77b4\",\"#9edae5\",\"#7f7f7f\",\"#1f77b4\",\"#7f7f7f\",\"#7f7f7f\",\"#9edae5\",\"#7f7f7f\",\"#9edae5\",\"#9edae5\",\"#9edae5\",\"#f7b6d2\",\"#7f7f7f\",\"#7f7f7f\",\"#9edae5\",\"#9edae5\",\"#7f7f7f\",\"#7f7f7f\",\"#7f7f7f\",\"#7f7f7f\",\"#f7b6d2\",\"#1f77b4\",\"#9edae5\",\"#f7b6d2\",\"#7f7f7f\",\"#9edae5\",\"#ff7f0e\",\"#7f7f7f\",\"#1f77b4\",\"#1f77b4\",\"#f7b6d2\",\"#f7b6d2\",\"#1f77b4\",\"#9edae5\",\"#9edae5\",\"#9edae5\",\"#7f7f7f\",\"#ff7f0e\",\"#1f77b4\",\"#9edae5\",\"#7f7f7f\",\"#9edae5\",\"#1f77b4\",\"#9edae5\",\"#1f77b4\",\"#f7b6d2\",\"#9edae5\",\"#9edae5\",\"#bcbd22\",\"#7f7f7f\",\"#1f77b4\",\"#f7b6d2\",\"#9edae5\",\"#ff7f0e\",\"#9edae5\",\"#9edae5\",\"#ff7f0e\",\"#f7b6d2\",\"#9edae5\",\"#f7b6d2\",\"#f7b6d2\",\"#7f7f7f\",\"#9edae5\",\"#1f77b4\",\"#1f77b4\",\"#7f7f7f\",\"#c5b0d5\",\"#1f77b4\",\"#7f7f7f\",\"#1f77b4\",\"#1f77b4\",\"#9edae5\",\"#f7b6d2\",\"#7f7f7f\",\"#7f7f7f\",\"#2ca02c\",\"#7f7f7f\",\"#1f77b4\",\"#7f7f7f\",\"#7f7f7f\",\"#9edae5\",\"#bcbd22\",\"#7f7f7f\",\"#7f7f7f\",\"#7f7f7f\",\"#9edae5\",\"#9edae5\",\"#ff7f0e\",\"#1f77b4\",\"#c7c7c7\",\"#7f7f7f\",\"#f7b6d2\",\"#7f7f7f\",\"#7f7f7f\",\"#f7b6d2\",\"#ff9896\",\"#9edae5\",\"#7f7f7f\",\"#7f7f7f\",\"#9edae5\",\"#9edae5\",\"#7f7f7f\",\"#9edae5\",\"#1f77b4\",\"#7f7f7f\",\"#1f77b4\",\"#f7b6d2\",\"#9edae5\",\"#1f77b4\",\"#1f77b4\",\"#2ca02c\",\"#7f7f7f\",\"#9edae5\",\"#7f7f7f\",\"#7f7f7f\",\"#9edae5\",\"#1f77b4\",\"#8c564b\",\"#f7b6d2\",\"#7f7f7f\",\"#f7b6d2\",\"#7f7f7f\",\"#1f77b4\",\"#9edae5\",\"#1f77b4\",\"#ff7f0e\",\"#7f7f7f\",\"#9edae5\",\"#9edae5\",\"#ff7f0e\",\"#9edae5\",\"#7f7f7f\",\"#9edae5\",\"#9edae5\",\"#7f7f7f\",\"#9edae5\",\"#bcbd22\",\"#ff7f0e\",\"#7f7f7f\",\"#f7b6d2\",\"#7f7f7f\",\"#bcbd22\",\"#7f7f7f\",\"#1f77b4\",\"#7f7f7f\",\"#7f7f7f\",\"#9edae5\",\"#7f7f7f\",\"#ff7f0e\",\"#7f7f7f\",\"#9edae5\",\"#7f7f7f\",\"#f7b6d2\",\"#9edae5\",\"#1f77b4\",\"#8c564b\",\"#f7b6d2\",\"#1f77b4\",\"#9edae5\",\"#7f7f7f\",\"#ff9896\",\"#9edae5\",\"#ff7f0e\",\"#1f77b4\",\"#2ca02c\",\"#2ca02c\",\"#2ca02c\",\"#8c564b\",\"#bcbd22\",\"#f7b6d2\",\"#1f77b4\",\"#9edae5\",\"#ff7f0e\",\"#1f77b4\",\"#7f7f7f\",\"#f7b6d2\",\"#7f7f7f\",\"#8c564b\",\"#f7b6d2\",\"#f7b6d2\",\"#9edae5\",\"#7f7f7f\",\"#7f7f7f\",\"#9edae5\",\"#ff7f0e\",\"#9edae5\",\"#f7b6d2\",\"#f7b6d2\",\"#9edae5\",\"#7f7f7f\",\"#1f77b4\",\"#7f7f7f\",\"#ff7f0e\",\"#7f7f7f\",\"#7f7f7f\",\"#1f77b4\",\"#f7b6d2\",\"#7f7f7f\",\"#7f7f7f\",\"#2ca02c\",\"#7f7f7f\",\"#1f77b4\",\"#f7b6d2\",\"#9edae5\",\"#7f7f7f\",\"#c7c7c7\",\"#f7b6d2\",\"#1f77b4\",\"#2ca02c\",\"#7f7f7f\",\"#f7b6d2\",\"#7f7f7f\",\"#1f77b4\",\"#7f7f7f\",\"#1f77b4\",\"#9edae5\",\"#1f77b4\",\"#7f7f7f\",\"#9467bd\",\"#9edae5\",\"#9edae5\",\"#1f77b4\",\"#9edae5\",\"#9edae5\",\"#1f77b4\",\"#9edae5\",\"#7f7f7f\",\"#1f77b4\",\"#7f7f7f\",\"#ff7f0e\",\"#ff7f0e\",\"#1f77b4\",\"#7f7f7f\",\"#2ca02c\",\"#7f7f7f\",\"#7f7f7f\",\"#7f7f7f\",\"#7f7f7f\",\"#f7b6d2\",\"#bcbd22\",\"#f7b6d2\",\"#2ca02c\",\"#9edae5\",\"#f7b6d2\",\"#7f7f7f\",\"#f7b6d2\",\"#ff7f0e\",\"#f7b6d2\",\"#7f7f7f\",\"#7f7f7f\",\"#9edae5\",\"#9edae5\",\"#9edae5\",\"#ff7f0e\",\"#1f77b4\",\"#9edae5\",\"#f7b6d2\",\"#f7b6d2\",\"#ff7f0e\",\"#7f7f7f\",\"#f7b6d2\",\"#7f7f7f\",\"#9edae5\",\"#1f77b4\",\"#7f7f7f\",\"#7f7f7f\",\"#f7b6d2\",\"#f7b6d2\",\"#9edae5\",\"#7f7f7f\",\"#7f7f7f\",\"#1f77b4\",\"#7f7f7f\",\"#2ca02c\",\"#9edae5\",\"#bcbd22\",\"#8c564b\",\"#7f7f7f\",\"#7f7f7f\",\"#9edae5\",\"#1f77b4\",\"#f7b6d2\",\"#7f7f7f\",\"#f7b6d2\",\"#f7b6d2\",\"#bcbd22\",\"#ff7f0e\",\"#bcbd22\",\"#9edae5\",\"#f7b6d2\",\"#2ca02c\",\"#9edae5\",\"#2ca02c\",\"#7f7f7f\",\"#7f7f7f\",\"#98df8a\",\"#7f7f7f\",\"#9edae5\",\"#7f7f7f\",\"#9edae5\",\"#7f7f7f\",\"#9edae5\",\"#9edae5\",\"#9edae5\",\"#9edae5\",\"#9edae5\",\"#7f7f7f\",\"#ff7f0e\",\"#9edae5\",\"#1f77b4\",\"#7f7f7f\",\"#bcbd22\",\"#7f7f7f\",\"#7f7f7f\",\"#1f77b4\",\"#1f77b4\",\"#1f77b4\",\"#7f7f7f\",\"#7f7f7f\",\"#7f7f7f\",\"#7f7f7f\",\"#ff7f0e\",\"#7f7f7f\",\"#2ca02c\",\"#9edae5\",\"#7f7f7f\",\"#9edae5\",\"#9edae5\",\"#7f7f7f\",\"#7f7f7f\",\"#bcbd22\",\"#9edae5\",\"#7f7f7f\",\"#7f7f7f\",\"#7f7f7f\",\"#7f7f7f\",\"#9edae5\",\"#f7b6d2\",\"#9edae5\",\"#ff7f0e\",\"#f7b6d2\",\"#1f77b4\",\"#f7b6d2\",\"#9edae5\",\"#7f7f7f\",\"#7f7f7f\",\"#9edae5\",\"#7f7f7f\",\"#7f7f7f\",\"#7f7f7f\",\"#ff7f0e\",\"#9edae5\",\"#7f7f7f\",\"#bcbd22\",\"#7f7f7f\",\"#f7b6d2\",\"#7f7f7f\",\"#7f7f7f\",\"#bcbd22\",\"#9edae5\",\"#9edae5\",\"#ff7f0e\",\"#7f7f7f\",\"#7f7f7f\",\"#f7b6d2\",\"#9edae5\",\"#7f7f7f\",\"#2ca02c\",\"#2ca02c\",\"#ff7f0e\",\"#7f7f7f\",\"#ff7f0e\",\"#f7b6d2\",\"#7f7f7f\",\"#9edae5\",\"#7f7f7f\",\"#ff9896\",\"#9edae5\",\"#7f7f7f\",\"#9edae5\",\"#9edae5\",\"#7f7f7f\",\"#f7b6d2\",\"#1f77b4\",\"#9edae5\",\"#9edae5\",\"#1f77b4\",\"#1f77b4\",\"#9edae5\",\"#7f7f7f\",\"#1f77b4\",\"#9edae5\",\"#f7b6d2\",\"#9edae5\",\"#f7b6d2\",\"#1f77b4\",\"#7f7f7f\",\"#f7b6d2\",\"#9467bd\",\"#ff7f0e\",\"#7f7f7f\",\"#7f7f7f\",\"#7f7f7f\",\"#bcbd22\",\"#7f7f7f\",\"#8c564b\",\"#9edae5\",\"#2ca02c\",\"#1f77b4\",\"#7f7f7f\",\"#ff7f0e\",\"#f7b6d2\",\"#7f7f7f\",\"#2ca02c\",\"#bcbd22\",\"#7f7f7f\",\"#7f7f7f\",\"#9edae5\",\"#1f77b4\",\"#f7b6d2\",\"#bcbd22\",\"#ff7f0e\",\"#7f7f7f\",\"#8c564b\",\"#7f7f7f\",\"#7f7f7f\",\"#9edae5\",\"#7f7f7f\",\"#7f7f7f\",\"#f7b6d2\",\"#9edae5\",\"#ff7f0e\",\"#ff7f0e\",\"#7f7f7f\",\"#9edae5\",\"#ff7f0e\",\"#9edae5\",\"#ff7f0e\",\"#f7b6d2\",\"#1f77b4\",\"#9edae5\",\"#7f7f7f\",\"#9edae5\",\"#ff7f0e\",\"#7f7f7f\",\"#7f7f7f\",\"#f7b6d2\",\"#f7b6d2\",\"#f7b6d2\",\"#7f7f7f\",\"#d62728\",\"#9edae5\",\"#f7b6d2\",\"#7f7f7f\",\"#9edae5\",\"#9edae5\",\"#1f77b4\",\"#1f77b4\",\"#f7b6d2\",\"#f7b6d2\",\"#7f7f7f\",\"#7f7f7f\",\"#f7b6d2\",\"#ff7f0e\",\"#7f7f7f\",\"#1f77b4\",\"#9edae5\",\"#9edae5\",\"#7f7f7f\",\"#7f7f7f\",\"#bcbd22\",\"#9edae5\",\"#1f77b4\",\"#f7b6d2\",\"#7f7f7f\",\"#7f7f7f\",\"#f7b6d2\",\"#7f7f7f\",\"#ff9896\",\"#ff7f0e\",\"#aec7e8\",\"#1f77b4\",\"#9edae5\",\"#f7b6d2\",\"#ff7f0e\",\"#ff7f0e\",\"#f7b6d2\",\"#1f77b4\",\"#9edae5\",\"#9edae5\",\"#f7b6d2\",\"#7f7f7f\",\"#9edae5\",\"#7f7f7f\",\"#f7b6d2\",\"#7f7f7f\",\"#7f7f7f\",\"#9edae5\",\"#7f7f7f\",\"#9edae5\",\"#7f7f7f\",\"#9edae5\",\"#7f7f7f\",\"#c7c7c7\",\"#c7c7c7\",\"#1f77b4\",\"#f7b6d2\",\"#1f77b4\",\"#bcbd22\",\"#8c564b\",\"#f7b6d2\",\"#7f7f7f\",\"#2ca02c\",\"#7f7f7f\",\"#7f7f7f\",\"#ff7f0e\",\"#7f7f7f\",\"#9edae5\",\"#f7b6d2\",\"#7f7f7f\",\"#9edae5\",\"#2ca02c\",\"#8c564b\",\"#7f7f7f\",\"#9edae5\",\"#9edae5\",\"#9edae5\",\"#7f7f7f\",\"#9edae5\",\"#1f77b4\",\"#9edae5\",\"#7f7f7f\",\"#7f7f7f\",\"#7f7f7f\",\"#ff7f0e\",\"#7f7f7f\",\"#7f7f7f\",\"#7f7f7f\",\"#1f77b4\",\"#9edae5\",\"#9edae5\",\"#2ca02c\",\"#9edae5\",\"#1f77b4\",\"#9edae5\",\"#7f7f7f\",\"#ff7f0e\",\"#9edae5\",\"#9edae5\",\"#9edae5\",\"#9edae5\",\"#9edae5\",\"#9edae5\",\"#7f7f7f\",\"#7f7f7f\",\"#9edae5\",\"#9edae5\",\"#7f7f7f\",\"#7f7f7f\",\"#ff7f0e\",\"#9edae5\",\"#9edae5\",\"#7f7f7f\",\"#9edae5\",\"#7f7f7f\",\"#f7b6d2\",\"#8c564b\",\"#9edae5\",\"#7f7f7f\",\"#7f7f7f\",\"#7f7f7f\",\"#ff7f0e\",\"#9edae5\",\"#1f77b4\",\"#1f77b4\",\"#9edae5\",\"#7f7f7f\",\"#9edae5\",\"#ff7f0e\",\"#9edae5\",\"#f7b6d2\",\"#7f7f7f\",\"#7f7f7f\",\"#f7b6d2\",\"#7f7f7f\",\"#7f7f7f\",\"#ff9896\",\"#bcbd22\",\"#7f7f7f\",\"#ff7f0e\",\"#ff7f0e\",\"#f7b6d2\",\"#9edae5\",\"#2ca02c\",\"#ff7f0e\",\"#f7b6d2\",\"#2ca02c\",\"#7f7f7f\",\"#2ca02c\",\"#9edae5\",\"#ff7f0e\",\"#9edae5\",\"#7f7f7f\",\"#7f7f7f\",\"#7f7f7f\",\"#9edae5\",\"#ff7f0e\",\"#7f7f7f\",\"#9edae5\",\"#2ca02c\",\"#9edae5\",\"#7f7f7f\",\"#9edae5\",\"#1f77b4\",\"#7f7f7f\",\"#9edae5\",\"#7f7f7f\",\"#ff7f0e\",\"#7f7f7f\",\"#9edae5\",\"#9edae5\",\"#9edae5\",\"#9edae5\",\"#9edae5\",\"#bcbd22\",\"#f7b6d2\",\"#8c564b\",\"#7f7f7f\",\"#7f7f7f\",\"#f7b6d2\",\"#1f77b4\",\"#f7b6d2\",\"#1f77b4\",\"#7f7f7f\",\"#f7b6d2\",\"#bcbd22\",\"#9edae5\",\"#f7b6d2\",\"#9edae5\",\"#1f77b4\",\"#9edae5\",\"#9edae5\",\"#7f7f7f\",\"#f7b6d2\",\"#d62728\",\"#7f7f7f\",\"#9edae5\",\"#7f7f7f\",\"#f7b6d2\",\"#f7b6d2\",\"#7f7f7f\",\"#9edae5\",\"#7f7f7f\",\"#d62728\",\"#9edae5\",\"#9edae5\",\"#7f7f7f\",\"#9edae5\",\"#2ca02c\",\"#7f7f7f\",\"#9edae5\",\"#9edae5\",\"#7f7f7f\",\"#9edae5\",\"#7f7f7f\",\"#9edae5\",\"#9edae5\",\"#1f77b4\",\"#7f7f7f\",\"#7f7f7f\",\"#7f7f7f\",\"#9edae5\",\"#9edae5\",\"#1f77b4\",\"#7f7f7f\",\"#9edae5\",\"#9edae5\",\"#f7b6d2\",\"#9edae5\",\"#f7b6d2\",\"#f7b6d2\",\"#7f7f7f\",\"#ff7f0e\",\"#ff7f0e\",\"#1f77b4\",\"#1f77b4\",\"#7f7f7f\",\"#9edae5\",\"#9edae5\",\"#9edae5\",\"#7f7f7f\",\"#7f7f7f\",\"#7f7f7f\",\"#7f7f7f\",\"#1f77b4\",\"#9edae5\",\"#f7b6d2\",\"#1f77b4\",\"#7f7f7f\",\"#7f7f7f\",\"#9edae5\",\"#7f7f7f\",\"#8c564b\",\"#7f7f7f\",\"#9edae5\",\"#7f7f7f\",\"#7f7f7f\",\"#9edae5\",\"#9edae5\",\"#9edae5\",\"#1f77b4\",\"#1f77b4\",\"#f7b6d2\",\"#ff7f0e\",\"#7f7f7f\",\"#9edae5\",\"#7f7f7f\",\"#1f77b4\",\"#7f7f7f\",\"#7f7f7f\",\"#1f77b4\",\"#7f7f7f\",\"#1f77b4\",\"#9edae5\",\"#7f7f7f\",\"#1f77b4\",\"#f7b6d2\",\"#ff7f0e\",\"#bcbd22\",\"#9edae5\",\"#f7b6d2\",\"#1f77b4\",\"#7f7f7f\",\"#1f77b4\",\"#9edae5\",\"#1f77b4\",\"#1f77b4\",\"#2ca02c\",\"#7f7f7f\",\"#f7b6d2\",\"#f7b6d2\",\"#7f7f7f\",\"#7f7f7f\",\"#f7b6d2\",\"#1f77b4\",\"#f7b6d2\",\"#f7b6d2\",\"#c7c7c7\",\"#2ca02c\",\"#1f77b4\",\"#7f7f7f\",\"#1f77b4\",\"#1f77b4\",\"#7f7f7f\",\"#9edae5\",\"#1f77b4\",\"#1f77b4\",\"#9edae5\",\"#f7b6d2\",\"#1f77b4\",\"#ff7f0e\",\"#7f7f7f\",\"#1f77b4\",\"#7f7f7f\",\"#f7b6d2\",\"#1f77b4\",\"#7f7f7f\",\"#7f7f7f\",\"#7f7f7f\",\"#ff7f0e\",\"#c7c7c7\",\"#7f7f7f\",\"#f7b6d2\",\"#1f77b4\",\"#7f7f7f\",\"#7f7f7f\",\"#7f7f7f\",\"#9edae5\",\"#9edae5\",\"#9edae5\",\"#1f77b4\",\"#1f77b4\",\"#7f7f7f\",\"#7f7f7f\",\"#bcbd22\",\"#7f7f7f\",\"#9edae5\",\"#9edae5\",\"#7f7f7f\",\"#7f7f7f\",\"#1f77b4\",\"#1f77b4\",\"#9edae5\",\"#7f7f7f\",\"#7f7f7f\",\"#7f7f7f\",\"#ff7f0e\",\"#7f7f7f\",\"#9edae5\",\"#1f77b4\",\"#9edae5\",\"#1f77b4\",\"#1f77b4\",\"#1f77b4\",\"#f7b6d2\",\"#9edae5\",\"#7f7f7f\",\"#7f7f7f\",\"#f7b6d2\",\"#ff7f0e\",\"#1f77b4\",\"#1f77b4\",\"#7f7f7f\"],\"line_color\":[\"#1f77b4\",\"#9edae5\",\"#1f77b4\",\"#f7b6d2\",\"#1f77b4\",\"#7f7f7f\",\"#bcbd22\",\"#1f77b4\",\"#bcbd22\",\"#2ca02c\",\"#1f77b4\",\"#9edae5\",\"#8c564b\",\"#d62728\",\"#c49c94\",\"#9edae5\",\"#bcbd22\",\"#2ca02c\",\"#c7c7c7\",\"#c7c7c7\",\"#2ca02c\",\"#9edae5\",\"#1f77b4\",\"#7f7f7f\",\"#bcbd22\",\"#1f77b4\",\"#c5b0d5\",\"#bcbd22\",\"#9467bd\",\"#9edae5\",\"#bcbd22\",\"#bcbd22\",\"#9edae5\",\"#9edae5\",\"#7f7f7f\",\"#ff7f0e\",\"#7f7f7f\",\"#2ca02c\",\"#9467bd\",\"#c7c7c7\",\"#bcbd22\",\"#7f7f7f\",\"#ff7f0e\",\"#9467bd\",\"#bcbd22\",\"#bcbd22\",\"#9edae5\",\"#7f7f7f\",\"#1f77b4\",\"#ff7f0e\",\"#bcbd22\",\"#2ca02c\",\"#c7c7c7\",\"#8c564b\",\"#2ca02c\",\"#bcbd22\",\"#ff9896\",\"#ff7f0e\",\"#2ca02c\",\"#f7b6d2\",\"#bcbd22\",\"#8c564b\",\"#2ca02c\",\"#d62728\",\"#c7c7c7\",\"#8c564b\",\"#ff9896\",\"#8c564b\",\"#bcbd22\",\"#8c564b\",\"#8c564b\",\"#f7b6d2\",\"#9edae5\",\"#9467bd\",\"#e377c2\",\"#2ca02c\",\"#2ca02c\",\"#c49c94\",\"#bcbd22\",\"#d62728\",\"#ff9896\",\"#ff7f0e\",\"#bcbd22\",\"#d62728\",\"#9467bd\",\"#9edae5\",\"#ff7f0e\",\"#bcbd22\",\"#2ca02c\",\"#2ca02c\",\"#7f7f7f\",\"#2ca02c\",\"#ff7f0e\",\"#c49c94\",\"#bcbd22\",\"#c7c7c7\",\"#d62728\",\"#ff9896\",\"#bcbd22\",\"#c7c7c7\",\"#bcbd22\",\"#7f7f7f\",\"#d62728\",\"#bcbd22\",\"#bcbd22\",\"#9edae5\",\"#bcbd22\",\"#2ca02c\",\"#2ca02c\",\"#9edae5\",\"#2ca02c\",\"#7f7f7f\",\"#8c564b\",\"#c7c7c7\",\"#9edae5\",\"#bcbd22\",\"#d62728\",\"#d62728\",\"#c7c7c7\",\"#d62728\",\"#f7b6d2\",\"#2ca02c\",\"#9467bd\",\"#f7b6d2\",\"#9467bd\",\"#aec7e8\",\"#9467bd\",\"#aec7e8\",\"#c49c94\",\"#9467bd\",\"#9467bd\",\"#d62728\",\"#9edae5\",\"#9467bd\",\"#2ca02c\",\"#7f7f7f\",\"#f7b6d2\",\"#8c564b\",\"#9467bd\",\"#8c564b\",\"#2ca02c\",\"#c5b0d5\",\"#c5b0d5\",\"#c7c7c7\",\"#c7c7c7\",\"#7f7f7f\",\"#c5b0d5\",\"#e377c2\",\"#c49c94\",\"#7f7f7f\",\"#c5b0d5\",\"#bcbd22\",\"#ff9896\",\"#2ca02c\",\"#ff9896\",\"#98df8a\",\"#2ca02c\",\"#d62728\",\"#9467bd\",\"#d62728\",\"#8c564b\",\"#17becf\",\"#d62728\",\"#ff7f0e\",\"#c49c94\",\"#c7c7c7\",\"#dbdb8d\",\"#9467bd\",\"#aec7e8\",\"#9467bd\",\"#aec7e8\",\"#f7b6d2\",\"#9edae5\",\"#ffbb78\",\"#98df8a\",\"#9467bd\",\"#c49c94\",\"#aec7e8\",\"#e377c2\",\"#98df8a\",\"#dbdb8d\",\"#aec7e8\",\"#aec7e8\",\"#d62728\",\"#8c564b\",\"#e377c2\",\"#e377c2\",\"#2ca02c\",\"#f7b6d2\",\"#e377c2\",\"#ff7f0e\",\"#e377c2\",\"#e377c2\",\"#e377c2\",\"#c49c94\",\"#ff9896\",\"#e377c2\",\"#98df8a\",\"#9467bd\",\"#c49c94\",\"#f7b6d2\",\"#aec7e8\",\"#8c564b\",\"#dbdb8d\",\"#f7b6d2\",\"#e377c2\",\"#c49c94\",\"#c49c94\",\"#e377c2\",\"#c49c94\",\"#e377c2\",\"#8c564b\",\"#98df8a\",\"#aec7e8\",\"#c5b0d5\",\"#ff7f0e\",\"#9edae5\",\"#c49c94\",\"#8c564b\",\"#aec7e8\",\"#98df8a\",\"#c49c94\",\"#aec7e8\",\"#f7b6d2\",\"#9467bd\",\"#c49c94\",\"#8c564b\",\"#f7b6d2\",\"#ff9896\",\"#c49c94\",\"#98df8a\",\"#98df8a\",\"#e377c2\",\"#e377c2\",\"#c49c94\",\"#ff7f0e\",\"#ff7f0e\",\"#aec7e8\",\"#aec7e8\",\"#dbdb8d\",\"#dbdb8d\",\"#98df8a\",\"#ffbb78\",\"#d62728\",\"#c49c94\",\"#e377c2\",\"#9edae5\",\"#e377c2\",\"#aec7e8\",\"#c49c94\",\"#dbdb8d\",\"#c49c94\",\"#8c564b\",\"#ffbb78\",\"#aec7e8\",\"#e377c2\",\"#c49c94\",\"#e377c2\",\"#d62728\",\"#c49c94\",\"#ff7f0e\",\"#e377c2\",\"#f7b6d2\",\"#c49c94\",\"#e377c2\",\"#ffbb78\",\"#aec7e8\",\"#9edae5\",\"#e377c2\",\"#e377c2\",\"#c5b0d5\",\"#aec7e8\",\"#c49c94\",\"#ff9896\",\"#e377c2\",\"#7f7f7f\",\"#8c564b\",\"#c49c94\",\"#9467bd\",\"#98df8a\",\"#aec7e8\",\"#9467bd\",\"#ffbb78\",\"#e377c2\",\"#aec7e8\",\"#9467bd\",\"#8c564b\",\"#f7b6d2\",\"#aec7e8\",\"#9edae5\",\"#e377c2\",\"#9467bd\",\"#8c564b\",\"#c7c7c7\",\"#f7b6d2\",\"#aec7e8\",\"#e377c2\",\"#f7b6d2\",\"#8c564b\",\"#f7b6d2\",\"#7f7f7f\",\"#e377c2\",\"#8c564b\",\"#ffbb78\",\"#7f7f7f\",\"#8c564b\",\"#8c564b\",\"#ff7f0e\",\"#ff9896\",\"#f7b6d2\",\"#c49c94\",\"#e377c2\",\"#8c564b\",\"#ffbb78\",\"#9467bd\",\"#e377c2\",\"#aec7e8\",\"#aec7e8\",\"#ff7f0e\",\"#ff7f0e\",\"#c49c94\",\"#c49c94\",\"#d62728\",\"#9467bd\",\"#17becf\",\"#aec7e8\",\"#9467bd\",\"#aec7e8\",\"#98df8a\",\"#98df8a\",\"#e377c2\",\"#e377c2\",\"#ff7f0e\",\"#8c564b\",\"#9467bd\",\"#aec7e8\",\"#e377c2\",\"#c49c94\",\"#8c564b\",\"#9467bd\",\"#c7c7c7\",\"#98df8a\",\"#8c564b\",\"#9467bd\",\"#ffbb78\",\"#7f7f7f\",\"#9467bd\",\"#c49c94\",\"#98df8a\",\"#8c564b\",\"#7f7f7f\",\"#f7b6d2\",\"#f7b6d2\",\"#f7b6d2\",\"#9edae5\",\"#ffbb78\",\"#d62728\",\"#ff7f0e\",\"#f7b6d2\",\"#ff7f0e\",\"#f7b6d2\",\"#ff7f0e\",\"#c49c94\",\"#7f7f7f\",\"#f7b6d2\",\"#9edae5\",\"#f7b6d2\",\"#7f7f7f\",\"#9467bd\",\"#9467bd\",\"#8c564b\",\"#9edae5\",\"#c49c94\",\"#9edae5\",\"#ff7f0e\",\"#9467bd\",\"#7f7f7f\",\"#ff7f0e\",\"#d62728\",\"#c5b0d5\",\"#f7b6d2\",\"#98df8a\",\"#f7b6d2\",\"#9467bd\",\"#9edae5\",\"#9edae5\",\"#1f77b4\",\"#f7b6d2\",\"#ff7f0e\",\"#2ca02c\",\"#f7b6d2\",\"#9edae5\",\"#f7b6d2\",\"#1f77b4\",\"#7f7f7f\",\"#7f7f7f\",\"#9edae5\",\"#f7b6d2\",\"#aec7e8\",\"#1f77b4\",\"#e377c2\",\"#f7b6d2\",\"#f7b6d2\",\"#1f77b4\",\"#f7b6d2\",\"#f7b6d2\",\"#2ca02c\",\"#f7b6d2\",\"#9edae5\",\"#ff7f0e\",\"#8c564b\",\"#1f77b4\",\"#9edae5\",\"#ff7f0e\",\"#f7b6d2\",\"#1f77b4\",\"#9edae5\",\"#ff7f0e\",\"#9edae5\",\"#7f7f7f\",\"#f7b6d2\",\"#bcbd22\",\"#f7b6d2\",\"#2ca02c\",\"#9467bd\",\"#f7b6d2\",\"#7f7f7f\",\"#1f77b4\",\"#f7b6d2\",\"#f7b6d2\",\"#7f7f7f\",\"#f7b6d2\",\"#7f7f7f\",\"#9edae5\",\"#f7b6d2\",\"#9edae5\",\"#9edae5\",\"#9edae5\",\"#f7b6d2\",\"#f7b6d2\",\"#ff7f0e\",\"#9edae5\",\"#7f7f7f\",\"#7f7f7f\",\"#e377c2\",\"#1f77b4\",\"#1f77b4\",\"#1f77b4\",\"#2ca02c\",\"#f7b6d2\",\"#1f77b4\",\"#d62728\",\"#2ca02c\",\"#9467bd\",\"#aec7e8\",\"#9edae5\",\"#bcbd22\",\"#9467bd\",\"#ffbb78\",\"#1f77b4\",\"#1f77b4\",\"#1f77b4\",\"#1f77b4\",\"#1f77b4\",\"#1f77b4\",\"#f7b6d2\",\"#9467bd\",\"#ff7f0e\",\"#7f7f7f\",\"#9edae5\",\"#9edae5\",\"#ff7f0e\",\"#ff9896\",\"#bcbd22\",\"#1f77b4\",\"#1f77b4\",\"#c5b0d5\",\"#9edae5\",\"#9467bd\",\"#7f7f7f\",\"#ff7f0e\",\"#2ca02c\",\"#9edae5\",\"#7f7f7f\",\"#ff7f0e\",\"#c7c7c7\",\"#f7b6d2\",\"#7f7f7f\",\"#7f7f7f\",\"#f7b6d2\",\"#9edae5\",\"#d62728\",\"#ff7f0e\",\"#98df8a\",\"#1f77b4\",\"#f7b6d2\",\"#1f77b4\",\"#8c564b\",\"#9edae5\",\"#9edae5\",\"#2ca02c\",\"#1f77b4\",\"#7f7f7f\",\"#7f7f7f\",\"#9edae5\",\"#1f77b4\",\"#1f77b4\",\"#9edae5\",\"#9467bd\",\"#1f77b4\",\"#ff7f0e\",\"#1f77b4\",\"#bcbd22\",\"#9edae5\",\"#7f7f7f\",\"#f7b6d2\",\"#f7b6d2\",\"#f7b6d2\",\"#9edae5\",\"#9edae5\",\"#1f77b4\",\"#9edae5\",\"#1f77b4\",\"#2ca02c\",\"#ff7f0e\",\"#c5b0d5\",\"#9edae5\",\"#7f7f7f\",\"#ff7f0e\",\"#7f7f7f\",\"#f7b6d2\",\"#9edae5\",\"#ff7f0e\",\"#f7b6d2\",\"#f7b6d2\",\"#e377c2\",\"#1f77b4\",\"#9edae5\",\"#1f77b4\",\"#9edae5\",\"#7f7f7f\",\"#ff7f0e\",\"#bcbd22\",\"#1f77b4\",\"#1f77b4\",\"#f7b6d2\",\"#7f7f7f\",\"#7f7f7f\",\"#9467bd\",\"#f7b6d2\",\"#9edae5\",\"#9edae5\",\"#f7b6d2\",\"#f7b6d2\",\"#ff7f0e\",\"#7f7f7f\",\"#9edae5\",\"#bcbd22\",\"#c5b0d5\",\"#f7b6d2\",\"#7f7f7f\",\"#1f77b4\",\"#7f7f7f\",\"#2ca02c\",\"#7f7f7f\",\"#7f7f7f\",\"#7f7f7f\",\"#2ca02c\",\"#bcbd22\",\"#ff7f0e\",\"#7f7f7f\",\"#ff7f0e\",\"#f7b6d2\",\"#9edae5\",\"#1f77b4\",\"#9edae5\",\"#1f77b4\",\"#7f7f7f\",\"#f7b6d2\",\"#d62728\",\"#1f77b4\",\"#f7b6d2\",\"#7f7f7f\",\"#7f7f7f\",\"#7f7f7f\",\"#f7b6d2\",\"#1f77b4\",\"#1f77b4\",\"#7f7f7f\",\"#7f7f7f\",\"#f7b6d2\",\"#9edae5\",\"#8c564b\",\"#ff7f0e\",\"#ff7f0e\",\"#1f77b4\",\"#c7c7c7\",\"#9edae5\",\"#9edae5\",\"#d62728\",\"#9edae5\",\"#7f7f7f\",\"#9edae5\",\"#1f77b4\",\"#1f77b4\",\"#f7b6d2\",\"#f7b6d2\",\"#ff7f0e\",\"#8c564b\",\"#7f7f7f\",\"#7f7f7f\",\"#7f7f7f\",\"#7f7f7f\",\"#1f77b4\",\"#9467bd\",\"#1f77b4\",\"#1f77b4\",\"#f7b6d2\",\"#2ca02c\",\"#1f77b4\",\"#f7b6d2\",\"#1f77b4\",\"#bcbd22\",\"#9edae5\",\"#2ca02c\",\"#1f77b4\",\"#1f77b4\",\"#c7c7c7\",\"#e377c2\",\"#9edae5\",\"#9edae5\",\"#d62728\",\"#7f7f7f\",\"#1f77b4\",\"#9edae5\",\"#c7c7c7\",\"#1f77b4\",\"#7f7f7f\",\"#8c564b\",\"#7f7f7f\",\"#1f77b4\",\"#7f7f7f\",\"#9467bd\",\"#9edae5\",\"#2ca02c\",\"#7f7f7f\",\"#7f7f7f\",\"#7f7f7f\",\"#7f7f7f\",\"#7f7f7f\",\"#2ca02c\",\"#bcbd22\",\"#ff7f0e\",\"#2ca02c\",\"#8c564b\",\"#7f7f7f\",\"#f7b6d2\",\"#9edae5\",\"#7f7f7f\",\"#9edae5\",\"#9edae5\",\"#1f77b4\",\"#7f7f7f\",\"#c5b0d5\",\"#1f77b4\",\"#1f77b4\",\"#f7b6d2\",\"#f7b6d2\",\"#f7b6d2\",\"#7f7f7f\",\"#7f7f7f\",\"#9edae5\",\"#9edae5\",\"#7f7f7f\",\"#1f77b4\",\"#9edae5\",\"#1f77b4\",\"#9edae5\",\"#2ca02c\",\"#f7b6d2\",\"#9467bd\",\"#7f7f7f\",\"#ff7f0e\",\"#1f77b4\",\"#2ca02c\",\"#f7b6d2\",\"#ff7f0e\",\"#7f7f7f\",\"#7f7f7f\",\"#9edae5\",\"#9edae5\",\"#9edae5\",\"#1f77b4\",\"#ff7f0e\",\"#7f7f7f\",\"#1f77b4\",\"#ff7f0e\",\"#9edae5\",\"#f7b6d2\",\"#1f77b4\",\"#1f77b4\",\"#7f7f7f\",\"#1f77b4\",\"#f7b6d2\",\"#1f77b4\",\"#2ca02c\",\"#9edae5\",\"#9edae5\",\"#7f7f7f\",\"#f7b6d2\",\"#f7b6d2\",\"#bcbd22\",\"#9edae5\",\"#f7b6d2\",\"#9edae5\",\"#7f7f7f\",\"#8c564b\",\"#bcbd22\",\"#bcbd22\",\"#9467bd\",\"#1f77b4\",\"#f7b6d2\",\"#1f77b4\",\"#1f77b4\",\"#9edae5\",\"#bcbd22\",\"#f7b6d2\",\"#9edae5\",\"#9edae5\",\"#1f77b4\",\"#7f7f7f\",\"#1f77b4\",\"#8c564b\",\"#c5b0d5\",\"#7f7f7f\",\"#ff9896\",\"#9edae5\",\"#7f7f7f\",\"#1f77b4\",\"#9edae5\",\"#7f7f7f\",\"#9467bd\",\"#1f77b4\",\"#2ca02c\",\"#7f7f7f\",\"#7f7f7f\",\"#8c564b\",\"#ff7f0e\",\"#9edae5\",\"#bcbd22\",\"#1f77b4\",\"#9edae5\",\"#d62728\",\"#1f77b4\",\"#1f77b4\",\"#ff7f0e\",\"#9edae5\",\"#9edae5\",\"#7f7f7f\",\"#2ca02c\",\"#2ca02c\",\"#9edae5\",\"#9edae5\",\"#f7b6d2\",\"#f7b6d2\",\"#8c564b\",\"#f7b6d2\",\"#9edae5\",\"#ff7f0e\",\"#7f7f7f\",\"#7f7f7f\",\"#f7b6d2\",\"#7f7f7f\",\"#7f7f7f\",\"#9edae5\",\"#ff7f0e\",\"#ff7f0e\",\"#9edae5\",\"#9edae5\",\"#7f7f7f\",\"#f7b6d2\",\"#7f7f7f\",\"#1f77b4\",\"#f7b6d2\",\"#7f7f7f\",\"#2ca02c\",\"#9edae5\",\"#1f77b4\",\"#8c564b\",\"#7f7f7f\",\"#9edae5\",\"#f7b6d2\",\"#bcbd22\",\"#f7b6d2\",\"#7f7f7f\",\"#ff7f0e\",\"#9edae5\",\"#9edae5\",\"#7f7f7f\",\"#7f7f7f\",\"#9edae5\",\"#9467bd\",\"#7f7f7f\",\"#1f77b4\",\"#9edae5\",\"#7f7f7f\",\"#1f77b4\",\"#7f7f7f\",\"#7f7f7f\",\"#9edae5\",\"#7f7f7f\",\"#9edae5\",\"#9edae5\",\"#9edae5\",\"#f7b6d2\",\"#7f7f7f\",\"#7f7f7f\",\"#9edae5\",\"#9edae5\",\"#7f7f7f\",\"#7f7f7f\",\"#7f7f7f\",\"#7f7f7f\",\"#f7b6d2\",\"#1f77b4\",\"#9edae5\",\"#f7b6d2\",\"#7f7f7f\",\"#9edae5\",\"#ff7f0e\",\"#7f7f7f\",\"#1f77b4\",\"#1f77b4\",\"#f7b6d2\",\"#f7b6d2\",\"#1f77b4\",\"#9edae5\",\"#9edae5\",\"#9edae5\",\"#7f7f7f\",\"#ff7f0e\",\"#1f77b4\",\"#9edae5\",\"#7f7f7f\",\"#9edae5\",\"#1f77b4\",\"#9edae5\",\"#1f77b4\",\"#f7b6d2\",\"#9edae5\",\"#9edae5\",\"#bcbd22\",\"#7f7f7f\",\"#1f77b4\",\"#f7b6d2\",\"#9edae5\",\"#ff7f0e\",\"#9edae5\",\"#9edae5\",\"#ff7f0e\",\"#f7b6d2\",\"#9edae5\",\"#f7b6d2\",\"#f7b6d2\",\"#7f7f7f\",\"#9edae5\",\"#1f77b4\",\"#1f77b4\",\"#7f7f7f\",\"#c5b0d5\",\"#1f77b4\",\"#7f7f7f\",\"#1f77b4\",\"#1f77b4\",\"#9edae5\",\"#f7b6d2\",\"#7f7f7f\",\"#7f7f7f\",\"#2ca02c\",\"#7f7f7f\",\"#1f77b4\",\"#7f7f7f\",\"#7f7f7f\",\"#9edae5\",\"#bcbd22\",\"#7f7f7f\",\"#7f7f7f\",\"#7f7f7f\",\"#9edae5\",\"#9edae5\",\"#ff7f0e\",\"#1f77b4\",\"#c7c7c7\",\"#7f7f7f\",\"#f7b6d2\",\"#7f7f7f\",\"#7f7f7f\",\"#f7b6d2\",\"#ff9896\",\"#9edae5\",\"#7f7f7f\",\"#7f7f7f\",\"#9edae5\",\"#9edae5\",\"#7f7f7f\",\"#9edae5\",\"#1f77b4\",\"#7f7f7f\",\"#1f77b4\",\"#f7b6d2\",\"#9edae5\",\"#1f77b4\",\"#1f77b4\",\"#2ca02c\",\"#7f7f7f\",\"#9edae5\",\"#7f7f7f\",\"#7f7f7f\",\"#9edae5\",\"#1f77b4\",\"#8c564b\",\"#f7b6d2\",\"#7f7f7f\",\"#f7b6d2\",\"#7f7f7f\",\"#1f77b4\",\"#9edae5\",\"#1f77b4\",\"#ff7f0e\",\"#7f7f7f\",\"#9edae5\",\"#9edae5\",\"#ff7f0e\",\"#9edae5\",\"#7f7f7f\",\"#9edae5\",\"#9edae5\",\"#7f7f7f\",\"#9edae5\",\"#bcbd22\",\"#ff7f0e\",\"#7f7f7f\",\"#f7b6d2\",\"#7f7f7f\",\"#bcbd22\",\"#7f7f7f\",\"#1f77b4\",\"#7f7f7f\",\"#7f7f7f\",\"#9edae5\",\"#7f7f7f\",\"#ff7f0e\",\"#7f7f7f\",\"#9edae5\",\"#7f7f7f\",\"#f7b6d2\",\"#9edae5\",\"#1f77b4\",\"#8c564b\",\"#f7b6d2\",\"#1f77b4\",\"#9edae5\",\"#7f7f7f\",\"#ff9896\",\"#9edae5\",\"#ff7f0e\",\"#1f77b4\",\"#2ca02c\",\"#2ca02c\",\"#2ca02c\",\"#8c564b\",\"#bcbd22\",\"#f7b6d2\",\"#1f77b4\",\"#9edae5\",\"#ff7f0e\",\"#1f77b4\",\"#7f7f7f\",\"#f7b6d2\",\"#7f7f7f\",\"#8c564b\",\"#f7b6d2\",\"#f7b6d2\",\"#9edae5\",\"#7f7f7f\",\"#7f7f7f\",\"#9edae5\",\"#ff7f0e\",\"#9edae5\",\"#f7b6d2\",\"#f7b6d2\",\"#9edae5\",\"#7f7f7f\",\"#1f77b4\",\"#7f7f7f\",\"#ff7f0e\",\"#7f7f7f\",\"#7f7f7f\",\"#1f77b4\",\"#f7b6d2\",\"#7f7f7f\",\"#7f7f7f\",\"#2ca02c\",\"#7f7f7f\",\"#1f77b4\",\"#f7b6d2\",\"#9edae5\",\"#7f7f7f\",\"#c7c7c7\",\"#f7b6d2\",\"#1f77b4\",\"#2ca02c\",\"#7f7f7f\",\"#f7b6d2\",\"#7f7f7f\",\"#1f77b4\",\"#7f7f7f\",\"#1f77b4\",\"#9edae5\",\"#1f77b4\",\"#7f7f7f\",\"#9467bd\",\"#9edae5\",\"#9edae5\",\"#1f77b4\",\"#9edae5\",\"#9edae5\",\"#1f77b4\",\"#9edae5\",\"#7f7f7f\",\"#1f77b4\",\"#7f7f7f\",\"#ff7f0e\",\"#ff7f0e\",\"#1f77b4\",\"#7f7f7f\",\"#2ca02c\",\"#7f7f7f\",\"#7f7f7f\",\"#7f7f7f\",\"#7f7f7f\",\"#f7b6d2\",\"#bcbd22\",\"#f7b6d2\",\"#2ca02c\",\"#9edae5\",\"#f7b6d2\",\"#7f7f7f\",\"#f7b6d2\",\"#ff7f0e\",\"#f7b6d2\",\"#7f7f7f\",\"#7f7f7f\",\"#9edae5\",\"#9edae5\",\"#9edae5\",\"#ff7f0e\",\"#1f77b4\",\"#9edae5\",\"#f7b6d2\",\"#f7b6d2\",\"#ff7f0e\",\"#7f7f7f\",\"#f7b6d2\",\"#7f7f7f\",\"#9edae5\",\"#1f77b4\",\"#7f7f7f\",\"#7f7f7f\",\"#f7b6d2\",\"#f7b6d2\",\"#9edae5\",\"#7f7f7f\",\"#7f7f7f\",\"#1f77b4\",\"#7f7f7f\",\"#2ca02c\",\"#9edae5\",\"#bcbd22\",\"#8c564b\",\"#7f7f7f\",\"#7f7f7f\",\"#9edae5\",\"#1f77b4\",\"#f7b6d2\",\"#7f7f7f\",\"#f7b6d2\",\"#f7b6d2\",\"#bcbd22\",\"#ff7f0e\",\"#bcbd22\",\"#9edae5\",\"#f7b6d2\",\"#2ca02c\",\"#9edae5\",\"#2ca02c\",\"#7f7f7f\",\"#7f7f7f\",\"#98df8a\",\"#7f7f7f\",\"#9edae5\",\"#7f7f7f\",\"#9edae5\",\"#7f7f7f\",\"#9edae5\",\"#9edae5\",\"#9edae5\",\"#9edae5\",\"#9edae5\",\"#7f7f7f\",\"#ff7f0e\",\"#9edae5\",\"#1f77b4\",\"#7f7f7f\",\"#bcbd22\",\"#7f7f7f\",\"#7f7f7f\",\"#1f77b4\",\"#1f77b4\",\"#1f77b4\",\"#7f7f7f\",\"#7f7f7f\",\"#7f7f7f\",\"#7f7f7f\",\"#ff7f0e\",\"#7f7f7f\",\"#2ca02c\",\"#9edae5\",\"#7f7f7f\",\"#9edae5\",\"#9edae5\",\"#7f7f7f\",\"#7f7f7f\",\"#bcbd22\",\"#9edae5\",\"#7f7f7f\",\"#7f7f7f\",\"#7f7f7f\",\"#7f7f7f\",\"#9edae5\",\"#f7b6d2\",\"#9edae5\",\"#ff7f0e\",\"#f7b6d2\",\"#1f77b4\",\"#f7b6d2\",\"#9edae5\",\"#7f7f7f\",\"#7f7f7f\",\"#9edae5\",\"#7f7f7f\",\"#7f7f7f\",\"#7f7f7f\",\"#ff7f0e\",\"#9edae5\",\"#7f7f7f\",\"#bcbd22\",\"#7f7f7f\",\"#f7b6d2\",\"#7f7f7f\",\"#7f7f7f\",\"#bcbd22\",\"#9edae5\",\"#9edae5\",\"#ff7f0e\",\"#7f7f7f\",\"#7f7f7f\",\"#f7b6d2\",\"#9edae5\",\"#7f7f7f\",\"#2ca02c\",\"#2ca02c\",\"#ff7f0e\",\"#7f7f7f\",\"#ff7f0e\",\"#f7b6d2\",\"#7f7f7f\",\"#9edae5\",\"#7f7f7f\",\"#ff9896\",\"#9edae5\",\"#7f7f7f\",\"#9edae5\",\"#9edae5\",\"#7f7f7f\",\"#f7b6d2\",\"#1f77b4\",\"#9edae5\",\"#9edae5\",\"#1f77b4\",\"#1f77b4\",\"#9edae5\",\"#7f7f7f\",\"#1f77b4\",\"#9edae5\",\"#f7b6d2\",\"#9edae5\",\"#f7b6d2\",\"#1f77b4\",\"#7f7f7f\",\"#f7b6d2\",\"#9467bd\",\"#ff7f0e\",\"#7f7f7f\",\"#7f7f7f\",\"#7f7f7f\",\"#bcbd22\",\"#7f7f7f\",\"#8c564b\",\"#9edae5\",\"#2ca02c\",\"#1f77b4\",\"#7f7f7f\",\"#ff7f0e\",\"#f7b6d2\",\"#7f7f7f\",\"#2ca02c\",\"#bcbd22\",\"#7f7f7f\",\"#7f7f7f\",\"#9edae5\",\"#1f77b4\",\"#f7b6d2\",\"#bcbd22\",\"#ff7f0e\",\"#7f7f7f\",\"#8c564b\",\"#7f7f7f\",\"#7f7f7f\",\"#9edae5\",\"#7f7f7f\",\"#7f7f7f\",\"#f7b6d2\",\"#9edae5\",\"#ff7f0e\",\"#ff7f0e\",\"#7f7f7f\",\"#9edae5\",\"#ff7f0e\",\"#9edae5\",\"#ff7f0e\",\"#f7b6d2\",\"#1f77b4\",\"#9edae5\",\"#7f7f7f\",\"#9edae5\",\"#ff7f0e\",\"#7f7f7f\",\"#7f7f7f\",\"#f7b6d2\",\"#f7b6d2\",\"#f7b6d2\",\"#7f7f7f\",\"#d62728\",\"#9edae5\",\"#f7b6d2\",\"#7f7f7f\",\"#9edae5\",\"#9edae5\",\"#1f77b4\",\"#1f77b4\",\"#f7b6d2\",\"#f7b6d2\",\"#7f7f7f\",\"#7f7f7f\",\"#f7b6d2\",\"#ff7f0e\",\"#7f7f7f\",\"#1f77b4\",\"#9edae5\",\"#9edae5\",\"#7f7f7f\",\"#7f7f7f\",\"#bcbd22\",\"#9edae5\",\"#1f77b4\",\"#f7b6d2\",\"#7f7f7f\",\"#7f7f7f\",\"#f7b6d2\",\"#7f7f7f\",\"#ff9896\",\"#ff7f0e\",\"#aec7e8\",\"#1f77b4\",\"#9edae5\",\"#f7b6d2\",\"#ff7f0e\",\"#ff7f0e\",\"#f7b6d2\",\"#1f77b4\",\"#9edae5\",\"#9edae5\",\"#f7b6d2\",\"#7f7f7f\",\"#9edae5\",\"#7f7f7f\",\"#f7b6d2\",\"#7f7f7f\",\"#7f7f7f\",\"#9edae5\",\"#7f7f7f\",\"#9edae5\",\"#7f7f7f\",\"#9edae5\",\"#7f7f7f\",\"#c7c7c7\",\"#c7c7c7\",\"#1f77b4\",\"#f7b6d2\",\"#1f77b4\",\"#bcbd22\",\"#8c564b\",\"#f7b6d2\",\"#7f7f7f\",\"#2ca02c\",\"#7f7f7f\",\"#7f7f7f\",\"#ff7f0e\",\"#7f7f7f\",\"#9edae5\",\"#f7b6d2\",\"#7f7f7f\",\"#9edae5\",\"#2ca02c\",\"#8c564b\",\"#7f7f7f\",\"#9edae5\",\"#9edae5\",\"#9edae5\",\"#7f7f7f\",\"#9edae5\",\"#1f77b4\",\"#9edae5\",\"#7f7f7f\",\"#7f7f7f\",\"#7f7f7f\",\"#ff7f0e\",\"#7f7f7f\",\"#7f7f7f\",\"#7f7f7f\",\"#1f77b4\",\"#9edae5\",\"#9edae5\",\"#2ca02c\",\"#9edae5\",\"#1f77b4\",\"#9edae5\",\"#7f7f7f\",\"#ff7f0e\",\"#9edae5\",\"#9edae5\",\"#9edae5\",\"#9edae5\",\"#9edae5\",\"#9edae5\",\"#7f7f7f\",\"#7f7f7f\",\"#9edae5\",\"#9edae5\",\"#7f7f7f\",\"#7f7f7f\",\"#ff7f0e\",\"#9edae5\",\"#9edae5\",\"#7f7f7f\",\"#9edae5\",\"#7f7f7f\",\"#f7b6d2\",\"#8c564b\",\"#9edae5\",\"#7f7f7f\",\"#7f7f7f\",\"#7f7f7f\",\"#ff7f0e\",\"#9edae5\",\"#1f77b4\",\"#1f77b4\",\"#9edae5\",\"#7f7f7f\",\"#9edae5\",\"#ff7f0e\",\"#9edae5\",\"#f7b6d2\",\"#7f7f7f\",\"#7f7f7f\",\"#f7b6d2\",\"#7f7f7f\",\"#7f7f7f\",\"#ff9896\",\"#bcbd22\",\"#7f7f7f\",\"#ff7f0e\",\"#ff7f0e\",\"#f7b6d2\",\"#9edae5\",\"#2ca02c\",\"#ff7f0e\",\"#f7b6d2\",\"#2ca02c\",\"#7f7f7f\",\"#2ca02c\",\"#9edae5\",\"#ff7f0e\",\"#9edae5\",\"#7f7f7f\",\"#7f7f7f\",\"#7f7f7f\",\"#9edae5\",\"#ff7f0e\",\"#7f7f7f\",\"#9edae5\",\"#2ca02c\",\"#9edae5\",\"#7f7f7f\",\"#9edae5\",\"#1f77b4\",\"#7f7f7f\",\"#9edae5\",\"#7f7f7f\",\"#ff7f0e\",\"#7f7f7f\",\"#9edae5\",\"#9edae5\",\"#9edae5\",\"#9edae5\",\"#9edae5\",\"#bcbd22\",\"#f7b6d2\",\"#8c564b\",\"#7f7f7f\",\"#7f7f7f\",\"#f7b6d2\",\"#1f77b4\",\"#f7b6d2\",\"#1f77b4\",\"#7f7f7f\",\"#f7b6d2\",\"#bcbd22\",\"#9edae5\",\"#f7b6d2\",\"#9edae5\",\"#1f77b4\",\"#9edae5\",\"#9edae5\",\"#7f7f7f\",\"#f7b6d2\",\"#d62728\",\"#7f7f7f\",\"#9edae5\",\"#7f7f7f\",\"#f7b6d2\",\"#f7b6d2\",\"#7f7f7f\",\"#9edae5\",\"#7f7f7f\",\"#d62728\",\"#9edae5\",\"#9edae5\",\"#7f7f7f\",\"#9edae5\",\"#2ca02c\",\"#7f7f7f\",\"#9edae5\",\"#9edae5\",\"#7f7f7f\",\"#9edae5\",\"#7f7f7f\",\"#9edae5\",\"#9edae5\",\"#1f77b4\",\"#7f7f7f\",\"#7f7f7f\",\"#7f7f7f\",\"#9edae5\",\"#9edae5\",\"#1f77b4\",\"#7f7f7f\",\"#9edae5\",\"#9edae5\",\"#f7b6d2\",\"#9edae5\",\"#f7b6d2\",\"#f7b6d2\",\"#7f7f7f\",\"#ff7f0e\",\"#ff7f0e\",\"#1f77b4\",\"#1f77b4\",\"#7f7f7f\",\"#9edae5\",\"#9edae5\",\"#9edae5\",\"#7f7f7f\",\"#7f7f7f\",\"#7f7f7f\",\"#7f7f7f\",\"#1f77b4\",\"#9edae5\",\"#f7b6d2\",\"#1f77b4\",\"#7f7f7f\",\"#7f7f7f\",\"#9edae5\",\"#7f7f7f\",\"#8c564b\",\"#7f7f7f\",\"#9edae5\",\"#7f7f7f\",\"#7f7f7f\",\"#9edae5\",\"#9edae5\",\"#9edae5\",\"#1f77b4\",\"#1f77b4\",\"#f7b6d2\",\"#ff7f0e\",\"#7f7f7f\",\"#9edae5\",\"#7f7f7f\",\"#1f77b4\",\"#7f7f7f\",\"#7f7f7f\",\"#1f77b4\",\"#7f7f7f\",\"#1f77b4\",\"#9edae5\",\"#7f7f7f\",\"#1f77b4\",\"#f7b6d2\",\"#ff7f0e\",\"#bcbd22\",\"#9edae5\",\"#f7b6d2\",\"#1f77b4\",\"#7f7f7f\",\"#1f77b4\",\"#9edae5\",\"#1f77b4\",\"#1f77b4\",\"#2ca02c\",\"#7f7f7f\",\"#f7b6d2\",\"#f7b6d2\",\"#7f7f7f\",\"#7f7f7f\",\"#f7b6d2\",\"#1f77b4\",\"#f7b6d2\",\"#f7b6d2\",\"#c7c7c7\",\"#2ca02c\",\"#1f77b4\",\"#7f7f7f\",\"#1f77b4\",\"#1f77b4\",\"#7f7f7f\",\"#9edae5\",\"#1f77b4\",\"#1f77b4\",\"#9edae5\",\"#f7b6d2\",\"#1f77b4\",\"#ff7f0e\",\"#7f7f7f\",\"#1f77b4\",\"#7f7f7f\",\"#f7b6d2\",\"#1f77b4\",\"#7f7f7f\",\"#7f7f7f\",\"#7f7f7f\",\"#ff7f0e\",\"#c7c7c7\",\"#7f7f7f\",\"#f7b6d2\",\"#1f77b4\",\"#7f7f7f\",\"#7f7f7f\",\"#7f7f7f\",\"#9edae5\",\"#9edae5\",\"#9edae5\",\"#1f77b4\",\"#1f77b4\",\"#7f7f7f\",\"#7f7f7f\",\"#bcbd22\",\"#7f7f7f\",\"#9edae5\",\"#9edae5\",\"#7f7f7f\",\"#7f7f7f\",\"#1f77b4\",\"#1f77b4\",\"#9edae5\",\"#7f7f7f\",\"#7f7f7f\",\"#7f7f7f\",\"#ff7f0e\",\"#7f7f7f\",\"#9edae5\",\"#1f77b4\",\"#9edae5\",\"#1f77b4\",\"#1f77b4\",\"#1f77b4\",\"#f7b6d2\",\"#9edae5\",\"#7f7f7f\",\"#7f7f7f\",\"#f7b6d2\",\"#ff7f0e\",\"#1f77b4\",\"#1f77b4\",\"#7f7f7f\"],\"x\":{\"__ndarray__\":\"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\",\"dtype\":\"float32\",\"order\":\"little\",\"shape\":[1616]},\"y\":{\"__ndarray__\":\"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\",\"dtype\":\"float32\",\"order\":\"little\",\"shape\":[1616]}},\"selected\":{\"id\":\"1395\"},\"selection_policy\":{\"id\":\"1396\"}},\"id\":\"1357\",\"type\":\"ColumnDataSource\"},{\"attributes\":{},\"id\":\"1340\",\"type\":\"BasicTicker\"},{\"attributes\":{\"data_source\":{\"id\":\"1357\"},\"glyph\":{\"id\":\"1358\"},\"hover_glyph\":null,\"muted_glyph\":null,\"nonselection_glyph\":{\"id\":\"1359\"},\"selection_glyph\":null,\"view\":{\"id\":\"1361\"}},\"id\":\"1360\",\"type\":\"GlyphRenderer\"},{\"attributes\":{\"active_drag\":\"auto\",\"active_inspect\":\"auto\",\"active_multi\":null,\"active_scroll\":\"auto\",\"active_tap\":\"auto\",\"tools\":[{\"id\":\"1343\"},{\"id\":\"1344\"},{\"id\":\"1345\"},{\"id\":\"1346\"},{\"id\":\"1347\"},{\"id\":\"1348\"}]},\"id\":\"1350\",\"type\":\"Toolbar\"},{\"attributes\":{\"fill_alpha\":{\"value\":0.1},\"fill_color\":{\"field\":\"fill_color\"},\"line_alpha\":{\"value\":0.1},\"line_color\":{\"field\":\"line_color\"},\"size\":{\"units\":\"screen\",\"value\":10},\"x\":{\"field\":\"x\"},\"y\":{\"field\":\"y\"}},\"id\":\"1359\",\"type\":\"Circle\"},{\"attributes\":{},\"id\":\"1391\",\"type\":\"BasicTickFormatter\"},{\"attributes\":{},\"id\":\"1344\",\"type\":\"WheelZoomTool\"},{\"attributes\":{\"axis\":{\"id\":\"1335\"},\"ticker\":null},\"id\":\"1338\",\"type\":\"Grid\"}],\"root_ids\":[\"1326\"]},\"title\":\"Bokeh Application\",\"version\":\"2.1.1\"}};\n",
       "  var render_items = [{\"docid\":\"0441b03a-c3bd-47a4-91d0-ba7a58992a30\",\"root_ids\":[\"1326\"],\"roots\":{\"1326\":\"30cea531-676a-4143-a2f8-eda71ad0f481\"}}];\n",
       "  root.Bokeh.embed.embed_items_notebook(docs_json, render_items);\n",
       "\n",
       "  }\n",
       "  if (root.Bokeh !== undefined) {\n",
       "    embed_document(root);\n",
       "  } else {\n",
       "    var attempts = 0;\n",
       "    var timer = setInterval(function(root) {\n",
       "      if (root.Bokeh !== undefined) {\n",
       "        clearInterval(timer);\n",
       "        embed_document(root);\n",
       "      } else {\n",
       "        attempts++;\n",
       "        if (attempts > 100) {\n",
       "          clearInterval(timer);\n",
       "          console.log(\"Bokeh: ERROR: Unable to run BokehJS code because BokehJS library is missing\");\n",
       "        }\n",
       "      }\n",
       "    }, 10, root)\n",
       "  }\n",
       "})(window);"
      ],
      "application/vnd.bokehjs_exec.v0+json": ""
     },
     "metadata": {
      "application/vnd.bokehjs_exec.v0+json": {
       "id": "1326"
      }
     },
     "output_type": "display_data"
    }
   ],
   "source": [
    "scatter_plot(X_umap, kmeans.labels_)"
   ]
  }
 ],
 "metadata": {
  "colab": {
   "collapsed_sections": [],
   "name": "Processamento de linguagem natural - 4ª lista de exercícios.ipynb",
   "provenance": []
  },
  "kernelspec": {
   "display_name": "Python 3",
   "language": "python",
   "name": "python3"
  },
  "language_info": {
   "codemirror_mode": {
    "name": "ipython",
    "version": 3
   },
   "file_extension": ".py",
   "mimetype": "text/x-python",
   "name": "python",
   "nbconvert_exporter": "python",
   "pygments_lexer": "ipython3",
   "version": "3.8.5"
  }
 },
 "nbformat": 4,
 "nbformat_minor": 4
}
