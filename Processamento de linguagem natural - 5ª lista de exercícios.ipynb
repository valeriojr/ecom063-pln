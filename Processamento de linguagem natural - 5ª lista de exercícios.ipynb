{
 "cells": [
  {
   "cell_type": "markdown",
   "metadata": {
    "colab_type": "text",
    "id": "CaewsrVFwclv"
   },
   "source": [
    "Universidade Federal de Alagoas\n",
    "\n",
    "IC - Instituto de Computação\n",
    "\n",
    " \n",
    "\n",
    "# Processamento de linguagem natural - 2020.1\n",
    "**Professor**: Thales Vieira\n",
    "\n",
    "**Alunos**: Hugo Tallys Martins Oliveira e Valério Nogueira Rodrigues Júnior\n",
    "\n",
    "\n",
    "## 5ª lista de exercícios\n",
    "\n",
    "---"
   ]
  },
  {
   "cell_type": "markdown",
   "metadata": {
    "colab_type": "text",
    "id": "BBpYvy6ZzKlJ"
   },
   "source": [
    "# Pré-processamento dos dados"
   ]
  },
  {
   "cell_type": "code",
   "execution_count": 1,
   "metadata": {
    "colab": {},
    "colab_type": "code",
    "id": "syF-QDUEzyJK"
   },
   "outputs": [
    {
     "name": "stderr",
     "output_type": "stream",
     "text": [
      "c:\\users\\hugog\\ecom063-pln\\env\\lib\\site-packages\\sklearn\\utils\\deprecation.py:143: FutureWarning: The sklearn.metrics.classification module is  deprecated in version 0.22 and will be removed in version 0.24. The corresponding classes / functions should instead be imported from sklearn.metrics. Anything that cannot be imported from sklearn.metrics is now part of the private API.\n",
      "  warnings.warn(message, FutureWarning)\n"
     ]
    }
   ],
   "source": [
    "import re\n",
    "import time\n",
    "import umap\n",
    "import nltk\n",
    "import numpy\n",
    "import pandas\n",
    "import random\n",
    "\n",
    "from bokeh.plotting import figure\n",
    "from sklearn.manifold import TSNE\n",
    "from sklearn.cluster import KMeans\n",
    "from bokeh.palettes import Category20\n",
    "from gensim.models import KeyedVectors\n",
    "from sklearn.decomposition import PCA\n",
    "from IPython.display import HTML, display\n",
    "from bokeh.io import output_notebook, show\n",
    "from yellowbrick.cluster import KElbowVisualizer\n",
    "from sklearn.decomposition import LatentDirichletAllocation, TruncatedSVD, NMF\n",
    "from sklearn.feature_extraction.text import TfidfVectorizer, CountVectorizer"
   ]
  },
  {
   "cell_type": "code",
   "execution_count": 2,
   "metadata": {
    "colab": {},
    "colab_type": "code",
    "executionInfo": {
     "elapsed": 6854,
     "status": "ok",
     "timestamp": 1595629136050,
     "user": {
      "displayName": "Hugo Tallys Martins Oliveira",
      "photoUrl": "",
      "userId": "01749757928754934577"
     },
     "user_tz": 180
    },
    "id": "zf6oJXPe_OMa"
   },
   "outputs": [
    {
     "data": {
      "text/html": [
       "\n",
       "    <div class=\"bk-root\">\n",
       "        <a href=\"https://bokeh.org\" target=\"_blank\" class=\"bk-logo bk-logo-small bk-logo-notebook\"></a>\n",
       "        <span id=\"1001\">Loading BokehJS ...</span>\n",
       "    </div>"
      ]
     },
     "metadata": {},
     "output_type": "display_data"
    },
    {
     "data": {
      "application/javascript": [
       "\n",
       "(function(root) {\n",
       "  function now() {\n",
       "    return new Date();\n",
       "  }\n",
       "\n",
       "  var force = true;\n",
       "\n",
       "  if (typeof root._bokeh_onload_callbacks === \"undefined\" || force === true) {\n",
       "    root._bokeh_onload_callbacks = [];\n",
       "    root._bokeh_is_loading = undefined;\n",
       "  }\n",
       "\n",
       "  var JS_MIME_TYPE = 'application/javascript';\n",
       "  var HTML_MIME_TYPE = 'text/html';\n",
       "  var EXEC_MIME_TYPE = 'application/vnd.bokehjs_exec.v0+json';\n",
       "  var CLASS_NAME = 'output_bokeh rendered_html';\n",
       "\n",
       "  /**\n",
       "   * Render data to the DOM node\n",
       "   */\n",
       "  function render(props, node) {\n",
       "    var script = document.createElement(\"script\");\n",
       "    node.appendChild(script);\n",
       "  }\n",
       "\n",
       "  /**\n",
       "   * Handle when an output is cleared or removed\n",
       "   */\n",
       "  function handleClearOutput(event, handle) {\n",
       "    var cell = handle.cell;\n",
       "\n",
       "    var id = cell.output_area._bokeh_element_id;\n",
       "    var server_id = cell.output_area._bokeh_server_id;\n",
       "    // Clean up Bokeh references\n",
       "    if (id != null && id in Bokeh.index) {\n",
       "      Bokeh.index[id].model.document.clear();\n",
       "      delete Bokeh.index[id];\n",
       "    }\n",
       "\n",
       "    if (server_id !== undefined) {\n",
       "      // Clean up Bokeh references\n",
       "      var cmd = \"from bokeh.io.state import curstate; print(curstate().uuid_to_server['\" + server_id + \"'].get_sessions()[0].document.roots[0]._id)\";\n",
       "      cell.notebook.kernel.execute(cmd, {\n",
       "        iopub: {\n",
       "          output: function(msg) {\n",
       "            var id = msg.content.text.trim();\n",
       "            if (id in Bokeh.index) {\n",
       "              Bokeh.index[id].model.document.clear();\n",
       "              delete Bokeh.index[id];\n",
       "            }\n",
       "          }\n",
       "        }\n",
       "      });\n",
       "      // Destroy server and session\n",
       "      var cmd = \"import bokeh.io.notebook as ion; ion.destroy_server('\" + server_id + \"')\";\n",
       "      cell.notebook.kernel.execute(cmd);\n",
       "    }\n",
       "  }\n",
       "\n",
       "  /**\n",
       "   * Handle when a new output is added\n",
       "   */\n",
       "  function handleAddOutput(event, handle) {\n",
       "    var output_area = handle.output_area;\n",
       "    var output = handle.output;\n",
       "\n",
       "    // limit handleAddOutput to display_data with EXEC_MIME_TYPE content only\n",
       "    if ((output.output_type != \"display_data\") || (!output.data.hasOwnProperty(EXEC_MIME_TYPE))) {\n",
       "      return\n",
       "    }\n",
       "\n",
       "    var toinsert = output_area.element.find(\".\" + CLASS_NAME.split(' ')[0]);\n",
       "\n",
       "    if (output.metadata[EXEC_MIME_TYPE][\"id\"] !== undefined) {\n",
       "      toinsert[toinsert.length - 1].firstChild.textContent = output.data[JS_MIME_TYPE];\n",
       "      // store reference to embed id on output_area\n",
       "      output_area._bokeh_element_id = output.metadata[EXEC_MIME_TYPE][\"id\"];\n",
       "    }\n",
       "    if (output.metadata[EXEC_MIME_TYPE][\"server_id\"] !== undefined) {\n",
       "      var bk_div = document.createElement(\"div\");\n",
       "      bk_div.innerHTML = output.data[HTML_MIME_TYPE];\n",
       "      var script_attrs = bk_div.children[0].attributes;\n",
       "      for (var i = 0; i < script_attrs.length; i++) {\n",
       "        toinsert[toinsert.length - 1].firstChild.setAttribute(script_attrs[i].name, script_attrs[i].value);\n",
       "        toinsert[toinsert.length - 1].firstChild.textContent = bk_div.children[0].textContent\n",
       "      }\n",
       "      // store reference to server id on output_area\n",
       "      output_area._bokeh_server_id = output.metadata[EXEC_MIME_TYPE][\"server_id\"];\n",
       "    }\n",
       "  }\n",
       "\n",
       "  function register_renderer(events, OutputArea) {\n",
       "\n",
       "    function append_mime(data, metadata, element) {\n",
       "      // create a DOM node to render to\n",
       "      var toinsert = this.create_output_subarea(\n",
       "        metadata,\n",
       "        CLASS_NAME,\n",
       "        EXEC_MIME_TYPE\n",
       "      );\n",
       "      this.keyboard_manager.register_events(toinsert);\n",
       "      // Render to node\n",
       "      var props = {data: data, metadata: metadata[EXEC_MIME_TYPE]};\n",
       "      render(props, toinsert[toinsert.length - 1]);\n",
       "      element.append(toinsert);\n",
       "      return toinsert\n",
       "    }\n",
       "\n",
       "    /* Handle when an output is cleared or removed */\n",
       "    events.on('clear_output.CodeCell', handleClearOutput);\n",
       "    events.on('delete.Cell', handleClearOutput);\n",
       "\n",
       "    /* Handle when a new output is added */\n",
       "    events.on('output_added.OutputArea', handleAddOutput);\n",
       "\n",
       "    /**\n",
       "     * Register the mime type and append_mime function with output_area\n",
       "     */\n",
       "    OutputArea.prototype.register_mime_type(EXEC_MIME_TYPE, append_mime, {\n",
       "      /* Is output safe? */\n",
       "      safe: true,\n",
       "      /* Index of renderer in `output_area.display_order` */\n",
       "      index: 0\n",
       "    });\n",
       "  }\n",
       "\n",
       "  // register the mime type if in Jupyter Notebook environment and previously unregistered\n",
       "  if (root.Jupyter !== undefined) {\n",
       "    var events = require('base/js/events');\n",
       "    var OutputArea = require('notebook/js/outputarea').OutputArea;\n",
       "\n",
       "    if (OutputArea.prototype.mime_types().indexOf(EXEC_MIME_TYPE) == -1) {\n",
       "      register_renderer(events, OutputArea);\n",
       "    }\n",
       "  }\n",
       "\n",
       "  \n",
       "  if (typeof (root._bokeh_timeout) === \"undefined\" || force === true) {\n",
       "    root._bokeh_timeout = Date.now() + 5000;\n",
       "    root._bokeh_failed_load = false;\n",
       "  }\n",
       "\n",
       "  var NB_LOAD_WARNING = {'data': {'text/html':\n",
       "     \"<div style='background-color: #fdd'>\\n\"+\n",
       "     \"<p>\\n\"+\n",
       "     \"BokehJS does not appear to have successfully loaded. If loading BokehJS from CDN, this \\n\"+\n",
       "     \"may be due to a slow or bad network connection. Possible fixes:\\n\"+\n",
       "     \"</p>\\n\"+\n",
       "     \"<ul>\\n\"+\n",
       "     \"<li>re-rerun `output_notebook()` to attempt to load from CDN again, or</li>\\n\"+\n",
       "     \"<li>use INLINE resources instead, as so:</li>\\n\"+\n",
       "     \"</ul>\\n\"+\n",
       "     \"<code>\\n\"+\n",
       "     \"from bokeh.resources import INLINE\\n\"+\n",
       "     \"output_notebook(resources=INLINE)\\n\"+\n",
       "     \"</code>\\n\"+\n",
       "     \"</div>\"}};\n",
       "\n",
       "  function display_loaded() {\n",
       "    var el = document.getElementById(\"1001\");\n",
       "    if (el != null) {\n",
       "      el.textContent = \"BokehJS is loading...\";\n",
       "    }\n",
       "    if (root.Bokeh !== undefined) {\n",
       "      if (el != null) {\n",
       "        el.textContent = \"BokehJS \" + root.Bokeh.version + \" successfully loaded.\";\n",
       "      }\n",
       "    } else if (Date.now() < root._bokeh_timeout) {\n",
       "      setTimeout(display_loaded, 100)\n",
       "    }\n",
       "  }\n",
       "\n",
       "\n",
       "  function run_callbacks() {\n",
       "    try {\n",
       "      root._bokeh_onload_callbacks.forEach(function(callback) {\n",
       "        if (callback != null)\n",
       "          callback();\n",
       "      });\n",
       "    } finally {\n",
       "      delete root._bokeh_onload_callbacks\n",
       "    }\n",
       "    console.debug(\"Bokeh: all callbacks have finished\");\n",
       "  }\n",
       "\n",
       "  function load_libs(css_urls, js_urls, callback) {\n",
       "    if (css_urls == null) css_urls = [];\n",
       "    if (js_urls == null) js_urls = [];\n",
       "\n",
       "    root._bokeh_onload_callbacks.push(callback);\n",
       "    if (root._bokeh_is_loading > 0) {\n",
       "      console.debug(\"Bokeh: BokehJS is being loaded, scheduling callback at\", now());\n",
       "      return null;\n",
       "    }\n",
       "    if (js_urls == null || js_urls.length === 0) {\n",
       "      run_callbacks();\n",
       "      return null;\n",
       "    }\n",
       "    console.debug(\"Bokeh: BokehJS not loaded, scheduling load and callback at\", now());\n",
       "    root._bokeh_is_loading = css_urls.length + js_urls.length;\n",
       "\n",
       "    function on_load() {\n",
       "      root._bokeh_is_loading--;\n",
       "      if (root._bokeh_is_loading === 0) {\n",
       "        console.debug(\"Bokeh: all BokehJS libraries/stylesheets loaded\");\n",
       "        run_callbacks()\n",
       "      }\n",
       "    }\n",
       "\n",
       "    function on_error() {\n",
       "      console.error(\"failed to load \" + url);\n",
       "    }\n",
       "\n",
       "    for (var i = 0; i < css_urls.length; i++) {\n",
       "      var url = css_urls[i];\n",
       "      const element = document.createElement(\"link\");\n",
       "      element.onload = on_load;\n",
       "      element.onerror = on_error;\n",
       "      element.rel = \"stylesheet\";\n",
       "      element.type = \"text/css\";\n",
       "      element.href = url;\n",
       "      console.debug(\"Bokeh: injecting link tag for BokehJS stylesheet: \", url);\n",
       "      document.body.appendChild(element);\n",
       "    }\n",
       "\n",
       "    const hashes = {\"https://cdn.bokeh.org/bokeh/release/bokeh-2.1.1.min.js\": \"kLr4fYcqcSpbuI95brIH3vnnYCquzzSxHPU6XGQCIkQRGJwhg0StNbj1eegrHs12\", \"https://cdn.bokeh.org/bokeh/release/bokeh-widgets-2.1.1.min.js\": \"xIGPmVtaOm+z0BqfSOMn4lOR6ciex448GIKG4eE61LsAvmGj48XcMQZtKcE/UXZe\", \"https://cdn.bokeh.org/bokeh/release/bokeh-tables-2.1.1.min.js\": \"Dc9u1wF/0zApGIWoBbH77iWEHtdmkuYWG839Uzmv8y8yBLXebjO9ZnERsde5Ln/P\", \"https://cdn.bokeh.org/bokeh/release/bokeh-gl-2.1.1.min.js\": \"cT9JaBz7GiRXdENrJLZNSC6eMNF3nh3fa5fTF51Svp+ukxPdwcU5kGXGPBgDCa2j\"};\n",
       "\n",
       "    for (var i = 0; i < js_urls.length; i++) {\n",
       "      var url = js_urls[i];\n",
       "      var element = document.createElement('script');\n",
       "      element.onload = on_load;\n",
       "      element.onerror = on_error;\n",
       "      element.async = false;\n",
       "      element.src = url;\n",
       "      if (url in hashes) {\n",
       "        element.crossOrigin = \"anonymous\";\n",
       "        element.integrity = \"sha384-\" + hashes[url];\n",
       "      }\n",
       "      console.debug(\"Bokeh: injecting script tag for BokehJS library: \", url);\n",
       "      document.head.appendChild(element);\n",
       "    }\n",
       "  };\n",
       "\n",
       "  function inject_raw_css(css) {\n",
       "    const element = document.createElement(\"style\");\n",
       "    element.appendChild(document.createTextNode(css));\n",
       "    document.body.appendChild(element);\n",
       "  }\n",
       "\n",
       "  \n",
       "  var js_urls = [\"https://cdn.bokeh.org/bokeh/release/bokeh-2.1.1.min.js\", \"https://cdn.bokeh.org/bokeh/release/bokeh-widgets-2.1.1.min.js\", \"https://cdn.bokeh.org/bokeh/release/bokeh-tables-2.1.1.min.js\", \"https://cdn.bokeh.org/bokeh/release/bokeh-gl-2.1.1.min.js\"];\n",
       "  var css_urls = [];\n",
       "  \n",
       "\n",
       "  var inline_js = [\n",
       "    function(Bokeh) {\n",
       "      Bokeh.set_log_level(\"info\");\n",
       "    },\n",
       "    function(Bokeh) {\n",
       "    \n",
       "    \n",
       "    }\n",
       "  ];\n",
       "\n",
       "  function run_inline_js() {\n",
       "    \n",
       "    if (root.Bokeh !== undefined || force === true) {\n",
       "      \n",
       "    for (var i = 0; i < inline_js.length; i++) {\n",
       "      inline_js[i].call(root, root.Bokeh);\n",
       "    }\n",
       "    if (force === true) {\n",
       "        display_loaded();\n",
       "      }} else if (Date.now() < root._bokeh_timeout) {\n",
       "      setTimeout(run_inline_js, 100);\n",
       "    } else if (!root._bokeh_failed_load) {\n",
       "      console.log(\"Bokeh: BokehJS failed to load within specified timeout.\");\n",
       "      root._bokeh_failed_load = true;\n",
       "    } else if (force !== true) {\n",
       "      var cell = $(document.getElementById(\"1001\")).parents('.cell').data().cell;\n",
       "      cell.output_area.append_execute_result(NB_LOAD_WARNING)\n",
       "    }\n",
       "\n",
       "  }\n",
       "\n",
       "  if (root._bokeh_is_loading === 0) {\n",
       "    console.debug(\"Bokeh: BokehJS loaded, going straight to plotting\");\n",
       "    run_inline_js();\n",
       "  } else {\n",
       "    load_libs(css_urls, js_urls, function() {\n",
       "      console.debug(\"Bokeh: BokehJS plotting callback run at\", now());\n",
       "      run_inline_js();\n",
       "    });\n",
       "  }\n",
       "}(window));"
      ],
      "application/vnd.bokehjs_load.v0+json": "\n(function(root) {\n  function now() {\n    return new Date();\n  }\n\n  var force = true;\n\n  if (typeof root._bokeh_onload_callbacks === \"undefined\" || force === true) {\n    root._bokeh_onload_callbacks = [];\n    root._bokeh_is_loading = undefined;\n  }\n\n  \n\n  \n  if (typeof (root._bokeh_timeout) === \"undefined\" || force === true) {\n    root._bokeh_timeout = Date.now() + 5000;\n    root._bokeh_failed_load = false;\n  }\n\n  var NB_LOAD_WARNING = {'data': {'text/html':\n     \"<div style='background-color: #fdd'>\\n\"+\n     \"<p>\\n\"+\n     \"BokehJS does not appear to have successfully loaded. If loading BokehJS from CDN, this \\n\"+\n     \"may be due to a slow or bad network connection. Possible fixes:\\n\"+\n     \"</p>\\n\"+\n     \"<ul>\\n\"+\n     \"<li>re-rerun `output_notebook()` to attempt to load from CDN again, or</li>\\n\"+\n     \"<li>use INLINE resources instead, as so:</li>\\n\"+\n     \"</ul>\\n\"+\n     \"<code>\\n\"+\n     \"from bokeh.resources import INLINE\\n\"+\n     \"output_notebook(resources=INLINE)\\n\"+\n     \"</code>\\n\"+\n     \"</div>\"}};\n\n  function display_loaded() {\n    var el = document.getElementById(\"1001\");\n    if (el != null) {\n      el.textContent = \"BokehJS is loading...\";\n    }\n    if (root.Bokeh !== undefined) {\n      if (el != null) {\n        el.textContent = \"BokehJS \" + root.Bokeh.version + \" successfully loaded.\";\n      }\n    } else if (Date.now() < root._bokeh_timeout) {\n      setTimeout(display_loaded, 100)\n    }\n  }\n\n\n  function run_callbacks() {\n    try {\n      root._bokeh_onload_callbacks.forEach(function(callback) {\n        if (callback != null)\n          callback();\n      });\n    } finally {\n      delete root._bokeh_onload_callbacks\n    }\n    console.debug(\"Bokeh: all callbacks have finished\");\n  }\n\n  function load_libs(css_urls, js_urls, callback) {\n    if (css_urls == null) css_urls = [];\n    if (js_urls == null) js_urls = [];\n\n    root._bokeh_onload_callbacks.push(callback);\n    if (root._bokeh_is_loading > 0) {\n      console.debug(\"Bokeh: BokehJS is being loaded, scheduling callback at\", now());\n      return null;\n    }\n    if (js_urls == null || js_urls.length === 0) {\n      run_callbacks();\n      return null;\n    }\n    console.debug(\"Bokeh: BokehJS not loaded, scheduling load and callback at\", now());\n    root._bokeh_is_loading = css_urls.length + js_urls.length;\n\n    function on_load() {\n      root._bokeh_is_loading--;\n      if (root._bokeh_is_loading === 0) {\n        console.debug(\"Bokeh: all BokehJS libraries/stylesheets loaded\");\n        run_callbacks()\n      }\n    }\n\n    function on_error() {\n      console.error(\"failed to load \" + url);\n    }\n\n    for (var i = 0; i < css_urls.length; i++) {\n      var url = css_urls[i];\n      const element = document.createElement(\"link\");\n      element.onload = on_load;\n      element.onerror = on_error;\n      element.rel = \"stylesheet\";\n      element.type = \"text/css\";\n      element.href = url;\n      console.debug(\"Bokeh: injecting link tag for BokehJS stylesheet: \", url);\n      document.body.appendChild(element);\n    }\n\n    const hashes = {\"https://cdn.bokeh.org/bokeh/release/bokeh-2.1.1.min.js\": \"kLr4fYcqcSpbuI95brIH3vnnYCquzzSxHPU6XGQCIkQRGJwhg0StNbj1eegrHs12\", \"https://cdn.bokeh.org/bokeh/release/bokeh-widgets-2.1.1.min.js\": \"xIGPmVtaOm+z0BqfSOMn4lOR6ciex448GIKG4eE61LsAvmGj48XcMQZtKcE/UXZe\", \"https://cdn.bokeh.org/bokeh/release/bokeh-tables-2.1.1.min.js\": \"Dc9u1wF/0zApGIWoBbH77iWEHtdmkuYWG839Uzmv8y8yBLXebjO9ZnERsde5Ln/P\", \"https://cdn.bokeh.org/bokeh/release/bokeh-gl-2.1.1.min.js\": \"cT9JaBz7GiRXdENrJLZNSC6eMNF3nh3fa5fTF51Svp+ukxPdwcU5kGXGPBgDCa2j\"};\n\n    for (var i = 0; i < js_urls.length; i++) {\n      var url = js_urls[i];\n      var element = document.createElement('script');\n      element.onload = on_load;\n      element.onerror = on_error;\n      element.async = false;\n      element.src = url;\n      if (url in hashes) {\n        element.crossOrigin = \"anonymous\";\n        element.integrity = \"sha384-\" + hashes[url];\n      }\n      console.debug(\"Bokeh: injecting script tag for BokehJS library: \", url);\n      document.head.appendChild(element);\n    }\n  };\n\n  function inject_raw_css(css) {\n    const element = document.createElement(\"style\");\n    element.appendChild(document.createTextNode(css));\n    document.body.appendChild(element);\n  }\n\n  \n  var js_urls = [\"https://cdn.bokeh.org/bokeh/release/bokeh-2.1.1.min.js\", \"https://cdn.bokeh.org/bokeh/release/bokeh-widgets-2.1.1.min.js\", \"https://cdn.bokeh.org/bokeh/release/bokeh-tables-2.1.1.min.js\", \"https://cdn.bokeh.org/bokeh/release/bokeh-gl-2.1.1.min.js\"];\n  var css_urls = [];\n  \n\n  var inline_js = [\n    function(Bokeh) {\n      Bokeh.set_log_level(\"info\");\n    },\n    function(Bokeh) {\n    \n    \n    }\n  ];\n\n  function run_inline_js() {\n    \n    if (root.Bokeh !== undefined || force === true) {\n      \n    for (var i = 0; i < inline_js.length; i++) {\n      inline_js[i].call(root, root.Bokeh);\n    }\n    if (force === true) {\n        display_loaded();\n      }} else if (Date.now() < root._bokeh_timeout) {\n      setTimeout(run_inline_js, 100);\n    } else if (!root._bokeh_failed_load) {\n      console.log(\"Bokeh: BokehJS failed to load within specified timeout.\");\n      root._bokeh_failed_load = true;\n    } else if (force !== true) {\n      var cell = $(document.getElementById(\"1001\")).parents('.cell').data().cell;\n      cell.output_area.append_execute_result(NB_LOAD_WARNING)\n    }\n\n  }\n\n  if (root._bokeh_is_loading === 0) {\n    console.debug(\"Bokeh: BokehJS loaded, going straight to plotting\");\n    run_inline_js();\n  } else {\n    load_libs(css_urls, js_urls, function() {\n      console.debug(\"Bokeh: BokehJS plotting callback run at\", now());\n      run_inline_js();\n    });\n  }\n}(window));"
     },
     "metadata": {},
     "output_type": "display_data"
    }
   ],
   "source": [
    "output_notebook() # Necessário para visualizar os gráficos com bokeh"
   ]
  },
  {
   "cell_type": "code",
   "execution_count": 3,
   "metadata": {
    "colab": {},
    "colab_type": "code",
    "id": "pDji6DkUz5hX"
   },
   "outputs": [
    {
     "name": "stderr",
     "output_type": "stream",
     "text": [
      "[nltk_data] Downloading package stopwords to\n",
      "[nltk_data]     C:\\Users\\hugog\\AppData\\Roaming\\nltk_data...\n",
      "[nltk_data]   Package stopwords is already up-to-date!\n",
      "[nltk_data] Downloading package rslp to\n",
      "[nltk_data]     C:\\Users\\hugog\\AppData\\Roaming\\nltk_data...\n",
      "[nltk_data]   Package rslp is already up-to-date!\n",
      "[nltk_data] Downloading package punkt to\n",
      "[nltk_data]     C:\\Users\\hugog\\AppData\\Roaming\\nltk_data...\n",
      "[nltk_data]   Package punkt is already up-to-date!\n"
     ]
    }
   ],
   "source": [
    "nltk.download('stopwords'); nltk.download('rslp'); nltk.download('punkt');"
   ]
  },
  {
   "cell_type": "code",
   "execution_count": 4,
   "metadata": {
    "colab": {},
    "colab_type": "code",
    "executionInfo": {
     "elapsed": 7132,
     "status": "ok",
     "timestamp": 1595629136344,
     "user": {
      "displayName": "Hugo Tallys Martins Oliveira",
      "photoUrl": "",
      "userId": "01749757928754934577"
     },
     "user_tz": 180
    },
    "id": "A3I9vFC2xtqK"
   },
   "outputs": [],
   "source": [
    "bbc_dataset_url = 'data/bbc.csv'\n",
    "cnn_dataset_url = 'data/cnn.csv'\n",
    "\n",
    "dataset = pandas.concat([pandas.read_csv(dataset_url, sep='|') for dataset_url in [bbc_dataset_url, cnn_dataset_url]], ignore_index=True)\n",
    "dataset = dataset.dropna(axis=0).reset_index(drop=True)"
   ]
  },
  {
   "cell_type": "code",
   "execution_count": 5,
   "metadata": {
    "colab": {},
    "colab_type": "code",
    "executionInfo": {
     "elapsed": 7126,
     "status": "ok",
     "timestamp": 1595629136345,
     "user": {
      "displayName": "Hugo Tallys Martins Oliveira",
      "photoUrl": "",
      "userId": "01749757928754934577"
     },
     "user_tz": 180
    },
    "id": "Z1jB2zPAV5Gi"
   },
   "outputs": [],
   "source": [
    "dataset.text = dataset.text.apply(lambda text: text.replace('\\n', ' ')) # Remoção das quebras de linha\n",
    "dataset.title = dataset.title.apply(lambda text: text.replace('\\n', ' '))"
   ]
  },
  {
   "cell_type": "code",
   "execution_count": 6,
   "metadata": {
    "colab": {},
    "colab_type": "code",
    "executionInfo": {
     "elapsed": 7469,
     "status": "ok",
     "timestamp": 1595629136693,
     "user": {
      "displayName": "Hugo Tallys Martins Oliveira",
      "photoUrl": "",
      "userId": "01749757928754934577"
     },
     "user_tz": 180
    },
    "id": "bccvL0s8W27W"
   },
   "outputs": [],
   "source": [
    "def remove_boilerplate(text):\n",
    "    boilerplate = ['Compartilhe este post com Email Facebook Messenger Messenger Twitter WhatsApp LinkedIn Copiar este link Estes são links externos e abrirão numa nova janela', 'Já assistiu aos nossos novos vídeos no YouTube? Inscreva-se no nosso canal!', 'Final de YouTube post  de BBC News Brasil Final de YouTube post 2 de BBC News Brasil Final de YouTube post 3 de BBC News Brasil']\n",
    "    \n",
    "    for b in boilerplate:\n",
    "        text = text.replace(b, '')\n",
    "    return text\n",
    "\n",
    "dataset.text = dataset.text.apply(remove_boilerplate) # Remoção de fragmentos irrelevantes do texto que se repetem"
   ]
  },
  {
   "cell_type": "code",
   "execution_count": 7,
   "metadata": {
    "colab": {},
    "colab_type": "code",
    "executionInfo": {
     "elapsed": 8494,
     "status": "ok",
     "timestamp": 1595629137725,
     "user": {
      "displayName": "Hugo Tallys Martins Oliveira",
      "photoUrl": "",
      "userId": "01749757928754934577"
     },
     "user_tz": 180
    },
    "id": "Ll9hthszZDjH"
   },
   "outputs": [],
   "source": [
    "def preprocess(text):\n",
    "    text = re.sub(r'\\w*\\d\\w*', '', text) # Remove todas as palavras que contém números\n",
    "    text = re.sub(r'[^a-zA-ZáéíóúÁÉÍÓÚâêîôÂÊÎÔãõÃÕçÇ ]', '', text.lower()) # Remove pontuação e converte para minúscula\n",
    "    return re.sub(r'\\s+', ' ', text) # Remove espaços repetidos\n",
    "\n",
    "dataset['processed_text'] = dataset.text.apply(preprocess)\n",
    "dataset['processed_title'] = dataset.title.apply(preprocess)"
   ]
  },
  {
   "cell_type": "code",
   "execution_count": 8,
   "metadata": {
    "colab": {},
    "colab_type": "code",
    "executionInfo": {
     "elapsed": 13489,
     "status": "ok",
     "timestamp": 1595629142732,
     "user": {
      "displayName": "Hugo Tallys Martins Oliveira",
      "photoUrl": "",
      "userId": "01749757928754934577"
     },
     "user_tz": 180
    },
    "id": "E8pR0joj40y3"
   },
   "outputs": [],
   "source": [
    "stopwords = nltk.corpus.stopwords.words('portuguese')\n",
    "\n",
    "def tokenize_remove_stopwords(text):\n",
    "    tokenized_text = nltk.word_tokenize(text, language='portuguese')\n",
    "    return \" \".join([token for token in tokenized_text if token not in stopwords])\n",
    "\n",
    "dataset.processed_text = dataset.processed_text.apply(tokenize_remove_stopwords) # Tokeniza o texto e remove stopwords\n",
    "dataset.processed_title = dataset.processed_title.apply(tokenize_remove_stopwords) # Tokeniza o titulo e remove stopwords"
   ]
  },
  {
   "cell_type": "code",
   "execution_count": 9,
   "metadata": {
    "colab": {
     "base_uri": "https://localhost:8080/",
     "height": 597
    },
    "colab_type": "code",
    "executionInfo": {
     "elapsed": 13486,
     "status": "ok",
     "timestamp": 1595629142737,
     "user": {
      "displayName": "Hugo Tallys Martins Oliveira",
      "photoUrl": "",
      "userId": "01749757928754934577"
     },
     "user_tz": 180
    },
    "id": "nDRGvwOt2zL1",
    "outputId": "12b1dca6-8dda-4285-fc77-80eecafdd38a"
   },
   "outputs": [
    {
     "data": {
      "text/html": [
       "<div>\n",
       "<style scoped>\n",
       "    .dataframe tbody tr th:only-of-type {\n",
       "        vertical-align: middle;\n",
       "    }\n",
       "\n",
       "    .dataframe tbody tr th {\n",
       "        vertical-align: top;\n",
       "    }\n",
       "\n",
       "    .dataframe thead th {\n",
       "        text-align: right;\n",
       "    }\n",
       "</style>\n",
       "<table border=\"1\" class=\"dataframe\">\n",
       "  <thead>\n",
       "    <tr style=\"text-align: right;\">\n",
       "      <th></th>\n",
       "      <th>url</th>\n",
       "      <th>title</th>\n",
       "      <th>text</th>\n",
       "      <th>processed_text</th>\n",
       "      <th>processed_title</th>\n",
       "    </tr>\n",
       "  </thead>\n",
       "  <tbody>\n",
       "    <tr>\n",
       "      <th>0</th>\n",
       "      <td>https://www.bbc.co.uk/portuguese/brasil-53020785</td>\n",
       "      <td>Coronavírus: pandemia pode jogar até 14 milhõe...</td>\n",
       "      <td>A turbulência econômica causada pela pandemi...</td>\n",
       "      <td>turbulência econômica causada pandemia novo co...</td>\n",
       "      <td>coronavírus pandemia pode jogar milhões brasil...</td>\n",
       "    </tr>\n",
       "    <tr>\n",
       "      <th>1</th>\n",
       "      <td>https://www.bbc.co.uk/portuguese/brasil-53027318</td>\n",
       "      <td>Coronavírus: como funcionam as duas vacinas co...</td>\n",
       "      <td>Cerca de 11 mil voluntários brasileiros vão ...</td>\n",
       "      <td>cerca mil voluntários brasileiros vão receber ...</td>\n",
       "      <td>coronavírus funcionam duas vacinas contra covi...</td>\n",
       "    </tr>\n",
       "    <tr>\n",
       "      <th>2</th>\n",
       "      <td>https://www.bbc.co.uk/portuguese/brasil-51713943</td>\n",
       "      <td>Coronavírus: Brasil passa o Reino Unido e se t...</td>\n",
       "      <td>*atualizada às 18h20 de 12 de junho de 2020 ...</td>\n",
       "      <td>atualizada s junho brasil totalizou nesta sext...</td>\n",
       "      <td>coronavírus brasil passa reino unido torna seg...</td>\n",
       "    </tr>\n",
       "    <tr>\n",
       "      <th>3</th>\n",
       "      <td>https://www.bbc.co.uk/portuguese/internacional...</td>\n",
       "      <td>Coronavírus na Índia: com lockdown 'insustentá...</td>\n",
       "      <td>Quando, em 24 de março, o governo indiano in...</td>\n",
       "      <td>março governo indiano iniciou estrito isolamen...</td>\n",
       "      <td>coronavírus índia lockdown insustentável índia...</td>\n",
       "    </tr>\n",
       "    <tr>\n",
       "      <th>4</th>\n",
       "      <td>https://www.bbc.co.uk/portuguese/internacional...</td>\n",
       "      <td>2ª onda do coronavírus? Irã vê aumento acelera...</td>\n",
       "      <td>O Irã registrou um rápido aumento no número ...</td>\n",
       "      <td>irã registrou rápido aumento número casos covi...</td>\n",
       "      <td>onda coronavírus irã vê aumento acelerado após...</td>\n",
       "    </tr>\n",
       "    <tr>\n",
       "      <th>...</th>\n",
       "      <td>...</td>\n",
       "      <td>...</td>\n",
       "      <td>...</td>\n",
       "      <td>...</td>\n",
       "      <td>...</td>\n",
       "    </tr>\n",
       "    <tr>\n",
       "      <th>1611</th>\n",
       "      <td>https://www.cnnbrasil.com.br/saude/2020/02/27/...</td>\n",
       "      <td>Farmácias têm falta de máscaras após confirmaç...</td>\n",
       "      <td>Com a confirmação do primeiro caso de contamin...</td>\n",
       "      <td>confirmação primeiro caso contaminação novo co...</td>\n",
       "      <td>farmácias têm falta máscaras após confirmação ...</td>\n",
       "    </tr>\n",
       "    <tr>\n",
       "      <th>1612</th>\n",
       "      <td>https://www.cnnbrasil.com.br/business/2020/02/...</td>\n",
       "      <td>Ibovespa tem nova queda com mercado ainda preo...</td>\n",
       "      <td>Preocupações com a propagação do novo coronaví...</td>\n",
       "      <td>preocupações propagação novo coronavírus poten...</td>\n",
       "      <td>ibovespa nova queda mercado ainda preocupado c...</td>\n",
       "    </tr>\n",
       "    <tr>\n",
       "      <th>1613</th>\n",
       "      <td>https://www.cnnbrasil.com.br/internacional/202...</td>\n",
       "      <td>Japonesa testa positivo pela segunda vez para ...</td>\n",
       "      <td>TÓQUIO - Uma guia de ônibus turístico no Japão...</td>\n",
       "      <td>tóquio guia ônibus turístico japão apresentou ...</td>\n",
       "      <td>japonesa testa positivo segunda vez coronavírus</td>\n",
       "    </tr>\n",
       "    <tr>\n",
       "      <th>1614</th>\n",
       "      <td>https://www.cnnbrasil.com.br/saude/2020/02/26/...</td>\n",
       "      <td>Primeiro brasileiro com coronavírus tem sintom...</td>\n",
       "      <td>O primeiro brasileiro com diagnóstico confir...</td>\n",
       "      <td>primeiro brasileiro diagnóstico confirmado cor...</td>\n",
       "      <td>primeiro brasileiro coronavírus sintomas brand...</td>\n",
       "    </tr>\n",
       "    <tr>\n",
       "      <th>1615</th>\n",
       "      <td>https://www.cnnbrasil.com.br/saude/2020/02/26/...</td>\n",
       "      <td>Coronavírus: 'Não é momento para pânico' no Br...</td>\n",
       "      <td>O Brasil está preparado para lidar com o cor...</td>\n",
       "      <td>brasil preparado lidar coronavírus afirmou méd...</td>\n",
       "      <td>coronavírus momento pânico brasil diz médico s...</td>\n",
       "    </tr>\n",
       "  </tbody>\n",
       "</table>\n",
       "<p>1616 rows × 5 columns</p>\n",
       "</div>"
      ],
      "text/plain": [
       "                                                    url  \\\n",
       "0      https://www.bbc.co.uk/portuguese/brasil-53020785   \n",
       "1      https://www.bbc.co.uk/portuguese/brasil-53027318   \n",
       "2      https://www.bbc.co.uk/portuguese/brasil-51713943   \n",
       "3     https://www.bbc.co.uk/portuguese/internacional...   \n",
       "4     https://www.bbc.co.uk/portuguese/internacional...   \n",
       "...                                                 ...   \n",
       "1611  https://www.cnnbrasil.com.br/saude/2020/02/27/...   \n",
       "1612  https://www.cnnbrasil.com.br/business/2020/02/...   \n",
       "1613  https://www.cnnbrasil.com.br/internacional/202...   \n",
       "1614  https://www.cnnbrasil.com.br/saude/2020/02/26/...   \n",
       "1615  https://www.cnnbrasil.com.br/saude/2020/02/26/...   \n",
       "\n",
       "                                                  title  \\\n",
       "0     Coronavírus: pandemia pode jogar até 14 milhõe...   \n",
       "1     Coronavírus: como funcionam as duas vacinas co...   \n",
       "2     Coronavírus: Brasil passa o Reino Unido e se t...   \n",
       "3     Coronavírus na Índia: com lockdown 'insustentá...   \n",
       "4     2ª onda do coronavírus? Irã vê aumento acelera...   \n",
       "...                                                 ...   \n",
       "1611  Farmácias têm falta de máscaras após confirmaç...   \n",
       "1612  Ibovespa tem nova queda com mercado ainda preo...   \n",
       "1613  Japonesa testa positivo pela segunda vez para ...   \n",
       "1614  Primeiro brasileiro com coronavírus tem sintom...   \n",
       "1615  Coronavírus: 'Não é momento para pânico' no Br...   \n",
       "\n",
       "                                                   text  \\\n",
       "0       A turbulência econômica causada pela pandemi...   \n",
       "1       Cerca de 11 mil voluntários brasileiros vão ...   \n",
       "2       *atualizada às 18h20 de 12 de junho de 2020 ...   \n",
       "3       Quando, em 24 de março, o governo indiano in...   \n",
       "4       O Irã registrou um rápido aumento no número ...   \n",
       "...                                                 ...   \n",
       "1611  Com a confirmação do primeiro caso de contamin...   \n",
       "1612  Preocupações com a propagação do novo coronaví...   \n",
       "1613  TÓQUIO - Uma guia de ônibus turístico no Japão...   \n",
       "1614    O primeiro brasileiro com diagnóstico confir...   \n",
       "1615    O Brasil está preparado para lidar com o cor...   \n",
       "\n",
       "                                         processed_text  \\\n",
       "0     turbulência econômica causada pandemia novo co...   \n",
       "1     cerca mil voluntários brasileiros vão receber ...   \n",
       "2     atualizada s junho brasil totalizou nesta sext...   \n",
       "3     março governo indiano iniciou estrito isolamen...   \n",
       "4     irã registrou rápido aumento número casos covi...   \n",
       "...                                                 ...   \n",
       "1611  confirmação primeiro caso contaminação novo co...   \n",
       "1612  preocupações propagação novo coronavírus poten...   \n",
       "1613  tóquio guia ônibus turístico japão apresentou ...   \n",
       "1614  primeiro brasileiro diagnóstico confirmado cor...   \n",
       "1615  brasil preparado lidar coronavírus afirmou méd...   \n",
       "\n",
       "                                        processed_title  \n",
       "0     coronavírus pandemia pode jogar milhões brasil...  \n",
       "1     coronavírus funcionam duas vacinas contra covi...  \n",
       "2     coronavírus brasil passa reino unido torna seg...  \n",
       "3     coronavírus índia lockdown insustentável índia...  \n",
       "4     onda coronavírus irã vê aumento acelerado após...  \n",
       "...                                                 ...  \n",
       "1611  farmácias têm falta máscaras após confirmação ...  \n",
       "1612  ibovespa nova queda mercado ainda preocupado c...  \n",
       "1613    japonesa testa positivo segunda vez coronavírus  \n",
       "1614  primeiro brasileiro coronavírus sintomas brand...  \n",
       "1615  coronavírus momento pânico brasil diz médico s...  \n",
       "\n",
       "[1616 rows x 5 columns]"
      ]
     },
     "execution_count": 9,
     "metadata": {},
     "output_type": "execute_result"
    }
   ],
   "source": [
    "dataset"
   ]
  },
  {
   "cell_type": "markdown",
   "metadata": {},
   "source": [
    "# Buscador de documentos - Word2vec\n",
    "\n",
    "Desenvolver um buscador de documentos:\n",
    "\n",
    "1. Escolha e aplique um modelo do tipo _word2vec_ a seus textos, compatível com o idioma escolhido (inglês ou português).\n",
    "2. Escolha 5 palavras de consulta que não estão em nenhum dos textos. Para cada palavra de consulta, encontre as 3 palavras __de seu conjunto de textos__ mais parecidas com cada uma das palavras de consulta e exiba os documentos onde estas palavras aparecem.\n",
    "3. Usando as mesmas palavras do item acima, recupere os 3 documentos cujo _word vector_ médio é mais próximo de cada palavra de consulta.\n",
    "4. Realize o procedimento acima usando três modelos com dimensão distinta."
   ]
  },
  {
   "cell_type": "markdown",
   "metadata": {},
   "source": [
    "Primeiro vamos determinar o vocabulário do nosso dataset (__corpo do documento__ e __título do documento__):"
   ]
  },
  {
   "cell_type": "code",
   "execution_count": 10,
   "metadata": {},
   "outputs": [],
   "source": [
    "def get_vocab(texts):\n",
    "    vocab = ' '.join([text for text in texts])\n",
    "    return sorted(set(vocab.split(' ')))\n",
    "\n",
    "processed_texts_vocab = get_vocab(dataset.processed_text.values)\n",
    "processed_titles_vocab = get_vocab(dataset.processed_title.values)"
   ]
  },
  {
   "cell_type": "markdown",
   "metadata": {},
   "source": [
    "Sorteando 5 palavras aleatoriamente do vocabulário de títulos:"
   ]
  },
  {
   "cell_type": "code",
   "execution_count": 11,
   "metadata": {},
   "outputs": [
    {
     "data": {
      "text/plain": [
       "['partir', 'trad', 'trump', 'japonês', 'morto']"
      ]
     },
     "execution_count": 11,
     "metadata": {},
     "output_type": "execute_result"
    }
   ],
   "source": [
    "search_words = random.sample(processed_titles_vocab, 5)\n",
    "search_words"
   ]
  },
  {
   "cell_type": "markdown",
   "metadata": {},
   "source": [
    "Para determinar as palavras mais parecidas a cada palavra de busca selecionada vamos utilizar os seguintes modelos pré-treinados em português:\n",
    "\n",
    "* CBOW 100\n",
    "* SKIPGRAM 100\n",
    "* SKIPGRAM 300\n",
    "\n",
    "A descrição completa do modelo pré-treinado _word2vec_ pode ser encontrada no link:\n",
    "\n",
    "> http://nilc.icmc.usp.br/nilc/index.php/repositorio-de-word-embeddings-do-nilc"
   ]
  },
  {
   "cell_type": "code",
   "execution_count": 12,
   "metadata": {},
   "outputs": [],
   "source": [
    "CBOW_100 = 'C:/Users/hugog/Documents/word2vec/cbow_s100.txt'\n",
    "SKIP_GRAM_100 = 'C:/Users/hugog/Documents/word2vec/skip_s100.txt'\n",
    "SKIP_GRAM_300 = 'C:/Users/hugog/Documents/word2vec/skip_s100.txt'\n",
    "\n",
    "MODEL_LIST = [('CBOW_100', CBOW_100), ('SKIP_GRAM_100', SKIP_GRAM_100), ('SKIP_GRAM_300', SKIP_GRAM_300)]"
   ]
  },
  {
   "cell_type": "markdown",
   "metadata": {},
   "source": [
    "Encontrando lista de palavras mais similares para cada modelo:"
   ]
  },
  {
   "cell_type": "code",
   "execution_count": 13,
   "metadata": {},
   "outputs": [
    {
     "name": "stdout",
     "output_type": "stream",
     "text": [
      "\n",
      "Carregando o modelo CBOW_100\n",
      "Calculando palavras mais similares\n",
      "\tpartir -> ['despeito', 'realização', 'bordo']\n",
      "\ttrad -> ['cf', 'r', 'doe']\n",
      "\ttrump -> ['trumpo', 'madero', 'pato']\n",
      "\tjaponês -> ['francês', 'alemão', 'romeno']\n",
      "\tmorto -> ['assassinado', 'preso', 'detido']\n",
      "\n",
      "Carregando o modelo SKIP_GRAM_100\n",
      "Calculando palavras mais similares\n",
      "\tpartir -> ['despeito', 'incorporação', 'reabertura']\n",
      "\ttrad -> ['mandetta', 'beozzo', 'ba']\n",
      "\ttrump -> ['hillary', 'sanders', 'clinton']\n",
      "\tjaponês -> ['chinês', 'coreano', 'tailandês']\n",
      "\tmorto -> ['assassinado', 'estrangulado', 'resgatado']\n",
      "\n",
      "Carregando o modelo SKIP_GRAM_300\n",
      "Calculando palavras mais similares\n",
      "\tpartir -> ['despeito', 'incorporação', 'reabertura']\n",
      "\ttrad -> ['mandetta', 'beozzo', 'ba']\n",
      "\ttrump -> ['hillary', 'sanders', 'clinton']\n",
      "\tjaponês -> ['chinês', 'coreano', 'tailandês']\n",
      "\tmorto -> ['assassinado', 'estrangulado', 'resgatado']\n"
     ]
    }
   ],
   "source": [
    "def get_most_similar_words(search_word, n):\n",
    "    most_similar = []\n",
    "    for word in processed_texts_vocab:\n",
    "        try:\n",
    "            similarity = embedding.similarity(word, search_word)\n",
    "        except:\n",
    "            similarity = -1\n",
    "        most_similar.append(similarity)\n",
    "    most_similar = numpy.argsort(most_similar)[-(n+1):-1]\n",
    "    most_similar = most_similar[::-1]\n",
    "    return [processed_texts_vocab[i] for i in most_similar]\n",
    "\n",
    "most_similar_words = {}\n",
    "for model_name, model_path in MODEL_LIST:\n",
    "    print('\\nCarregando o modelo %s' % model_name)\n",
    "    embedding = KeyedVectors.load_word2vec_format(model_path)\n",
    "    print('Calculando palavras mais similares')\n",
    "    most_similar_words[model_name] = []\n",
    "    for search_word in search_words:\n",
    "        sim_search_word = get_most_similar_words(search_word, 3)\n",
    "        print(f'\\t{search_word} -> {str(sim_search_word)}')\n",
    "        most_similar_words[model_name].append({'search_word': search_word, 'similar_words': sim_search_word})"
   ]
  },
  {
   "cell_type": "markdown",
   "metadata": {},
   "source": [
    "Dado o __modelo__ e a __palavra de busca__ recuperamos alguns documentos que cotenham as palavras mais semelhantes encontradas no item anterior:"
   ]
  },
  {
   "cell_type": "code",
   "execution_count": 16,
   "metadata": {},
   "outputs": [
    {
     "data": {
      "text/html": [
       "<h3>Modelo [CBOW_100]<br><br>Palavra Busca [partir]<br><br>Palavras Similares ['despeito', 'realização', 'bordo']</h3>"
      ],
      "text/plain": [
       "<IPython.core.display.HTML object>"
      ]
     },
     "metadata": {},
     "output_type": "display_data"
    },
    {
     "data": {
      "text/html": [
       "<table border=\"1\" class=\"dataframe\">\n",
       "  <thead>\n",
       "    <tr style=\"text-align: right;\">\n",
       "      <th></th>\n",
       "      <th>url</th>\n",
       "      <th>title</th>\n",
       "    </tr>\n",
       "  </thead>\n",
       "  <tbody>\n",
       "    <tr>\n",
       "      <th>0</th>\n",
       "      <td>https://www.bbc.co.uk/portuguese/internacional-53008262</td>\n",
       "      <td>Coronavírus na Índia: com lockdown 'insustentável', Índia reabre em meio a disparada de casos e temores de 'bomba-relógio' - BBC News Brasil</td>\n",
       "    </tr>\n",
       "    <tr>\n",
       "      <th>1</th>\n",
       "      <td>https://www.bbc.co.uk/portuguese/geral-52806209</td>\n",
       "      <td>Cloroquina contra coronavírus: por que OMS decidiu interromper testes com remédio em pacientes com covid-19 - BBC News Brasil</td>\n",
       "    </tr>\n",
       "    <tr>\n",
       "      <th>2</th>\n",
       "      <td>https://www.bbc.co.uk/portuguese/brasil-52610097</td>\n",
       "      <td>'Presidente dá cambalhota e ele mesmo escorrega', diz FHC sobre atuação de Bolsonaro na pandemia do novo coronavírus - BBC News Brasil</td>\n",
       "    </tr>\n",
       "    <tr>\n",
       "      <th>3</th>\n",
       "      <td>https://www.bbc.co.uk/portuguese/brasil-52357879</td>\n",
       "      <td>Coronavírus: uso de dados de geolocalização contra a pandemia põe em risco sua privacidade? - BBC News Brasil</td>\n",
       "    </tr>\n",
       "    <tr>\n",
       "      <th>4</th>\n",
       "      <td>https://www.cnnbrasil.com.br/politica/2020/03/30/em-dois-dias-stf-recebe-mais-67-acoes-sobre-o-coronavirus</td>\n",
       "      <td>Em dois dias, STF recebe mais 81 ações sobre o coronavírus</td>\n",
       "    </tr>\n",
       "  </tbody>\n",
       "</table>"
      ],
      "text/plain": [
       "<IPython.core.display.HTML object>"
      ]
     },
     "metadata": {},
     "output_type": "display_data"
    },
    {
     "data": {
      "text/html": [
       "<h3>Modelo [CBOW_100]<br><br>Palavra Busca [trad]<br><br>Palavras Similares ['cf', 'r', 'doe']</h3>"
      ],
      "text/plain": [
       "<IPython.core.display.HTML object>"
      ]
     },
     "metadata": {},
     "output_type": "display_data"
    },
    {
     "data": {
      "text/html": [
       "<table border=\"1\" class=\"dataframe\">\n",
       "  <thead>\n",
       "    <tr style=\"text-align: right;\">\n",
       "      <th></th>\n",
       "      <th>url</th>\n",
       "      <th>title</th>\n",
       "    </tr>\n",
       "  </thead>\n",
       "  <tbody>\n",
       "    <tr>\n",
       "      <th>0</th>\n",
       "      <td>https://www.cnnbrasil.com.br/politica/2020/03/19/eduardo-bolsonaro-nega-ter-ofendido-china-ao-culpar-pais-pelo-novo-coronavirus</td>\n",
       "      <td>Eduardo Bolsonaro nega ter ofendido China ao culpar país pelo novo coronavírus</td>\n",
       "    </tr>\n",
       "    <tr>\n",
       "      <th>1</th>\n",
       "      <td>https://www.bbc.co.uk/portuguese/brasil-53020785</td>\n",
       "      <td>Coronavírus: pandemia pode jogar até 14 milhões de brasileiros na pobreza, diz estudo - BBC News Brasil</td>\n",
       "    </tr>\n",
       "    <tr>\n",
       "      <th>2</th>\n",
       "      <td>https://www.bbc.co.uk/portuguese/internacional-53008262</td>\n",
       "      <td>Coronavírus na Índia: com lockdown 'insustentável', Índia reabre em meio a disparada de casos e temores de 'bomba-relógio' - BBC News Brasil</td>\n",
       "    </tr>\n",
       "    <tr>\n",
       "      <th>3</th>\n",
       "      <td>https://www.bbc.co.uk/portuguese/brasil-52856552</td>\n",
       "      <td>Coronavírus: motoristas de aplicativo trocam passageiros por pets, entregas de mercados e refeições - BBC News Brasil</td>\n",
       "    </tr>\n",
       "    <tr>\n",
       "      <th>4</th>\n",
       "      <td>https://www.bbc.co.uk/portuguese/internacional-52921925</td>\n",
       "      <td>Lockdown na Índia: como a quarentena matou mais de 300 pessoas que não tinham o coronavírus - BBC News Brasil</td>\n",
       "    </tr>\n",
       "  </tbody>\n",
       "</table>"
      ],
      "text/plain": [
       "<IPython.core.display.HTML object>"
      ]
     },
     "metadata": {},
     "output_type": "display_data"
    },
    {
     "data": {
      "text/html": [
       "<h3>Modelo [CBOW_100]<br><br>Palavra Busca [trump]<br><br>Palavras Similares ['trumpo', 'madero', 'pato']</h3>"
      ],
      "text/plain": [
       "<IPython.core.display.HTML object>"
      ]
     },
     "metadata": {},
     "output_type": "display_data"
    },
    {
     "data": {
      "text/html": [
       "<table border=\"1\" class=\"dataframe\">\n",
       "  <thead>\n",
       "    <tr style=\"text-align: right;\">\n",
       "      <th></th>\n",
       "      <th>url</th>\n",
       "      <th>title</th>\n",
       "    </tr>\n",
       "  </thead>\n",
       "  <tbody>\n",
       "    <tr>\n",
       "      <th>0</th>\n",
       "      <td>https://www.cnnbrasil.com.br/internacional/2020/04/22/eua-missouri-processa-china-por-perdas-economicas-causadas-pelo-coronavirus</td>\n",
       "      <td>EUA: Missouri processa China por 'perdas econômicas' causadas pelo coronavírus</td>\n",
       "    </tr>\n",
       "    <tr>\n",
       "      <th>1</th>\n",
       "      <td>https://www.cnnbrasil.com.br/nacional/2020/03/24/dono-do-madero-e-presidente-de-sindicado-debatem-sobre-acoes-contra-coronavirus</td>\n",
       "      <td>Dono do Madero e presidente de sindicato debatem sobre ações contra coronavírus</td>\n",
       "    </tr>\n",
       "    <tr>\n",
       "      <th>2</th>\n",
       "      <td>https://www.cnnbrasil.com.br/saude/2020/04/10/o-significado-por-tras-dos-sonhos-estranhos-durante-a-pandemia-do-coronavirus</td>\n",
       "      <td>O significado por trás dos sonhos estranhos durante a pandemia do coronavírus</td>\n",
       "    </tr>\n",
       "  </tbody>\n",
       "</table>"
      ],
      "text/plain": [
       "<IPython.core.display.HTML object>"
      ]
     },
     "metadata": {},
     "output_type": "display_data"
    },
    {
     "data": {
      "text/html": [
       "<h3>Modelo [CBOW_100]<br><br>Palavra Busca [japonês]<br><br>Palavras Similares ['francês', 'alemão', 'romeno']</h3>"
      ],
      "text/plain": [
       "<IPython.core.display.HTML object>"
      ]
     },
     "metadata": {},
     "output_type": "display_data"
    },
    {
     "data": {
      "text/html": [
       "<table border=\"1\" class=\"dataframe\">\n",
       "  <thead>\n",
       "    <tr style=\"text-align: right;\">\n",
       "      <th></th>\n",
       "      <th>url</th>\n",
       "      <th>title</th>\n",
       "    </tr>\n",
       "  </thead>\n",
       "  <tbody>\n",
       "    <tr>\n",
       "      <th>0</th>\n",
       "      <td>https://www.bbc.co.uk/portuguese/geral-52806075</td>\n",
       "      <td>Proteção contra o coronavírus: por que grupos defendem máscaras transparentes como padrão - BBC News Brasil</td>\n",
       "    </tr>\n",
       "    <tr>\n",
       "      <th>1</th>\n",
       "      <td>https://www.bbc.co.uk/portuguese/brasil-52741665</td>\n",
       "      <td>Coronavírus: o que diz o protocolo que libera cloroquina para casos leves no SUS - BBC News Brasil</td>\n",
       "    </tr>\n",
       "    <tr>\n",
       "      <th>2</th>\n",
       "      <td>https://www.bbc.co.uk/portuguese/brasil-52595224</td>\n",
       "      <td>Coronavírus: Arthur Virgílio Neto chora ao citar agressões a coveiros e mortes - BBC News Brasil</td>\n",
       "    </tr>\n",
       "    <tr>\n",
       "      <th>3</th>\n",
       "      <td>https://www.bbc.co.uk/portuguese/brasil-52478247</td>\n",
       "      <td>Coronavírus: remédio para artrite tem resultados promissores contra covid-19 em pesquisa francesa - BBC News Brasil</td>\n",
       "    </tr>\n",
       "    <tr>\n",
       "      <th>4</th>\n",
       "      <td>https://www.bbc.co.uk/portuguese/brasil-52361730</td>\n",
       "      <td>Bolsonaro e Trump radicalizam: as semelhanças entre os líderes na pandemia de coronavírus - BBC News Brasil</td>\n",
       "    </tr>\n",
       "  </tbody>\n",
       "</table>"
      ],
      "text/plain": [
       "<IPython.core.display.HTML object>"
      ]
     },
     "metadata": {},
     "output_type": "display_data"
    },
    {
     "data": {
      "text/html": [
       "<h3>Modelo [CBOW_100]<br><br>Palavra Busca [morto]<br><br>Palavras Similares ['assassinado', 'preso', 'detido']</h3>"
      ],
      "text/plain": [
       "<IPython.core.display.HTML object>"
      ]
     },
     "metadata": {},
     "output_type": "display_data"
    },
    {
     "data": {
      "text/html": [
       "<table border=\"1\" class=\"dataframe\">\n",
       "  <thead>\n",
       "    <tr style=\"text-align: right;\">\n",
       "      <th></th>\n",
       "      <th>url</th>\n",
       "      <th>title</th>\n",
       "    </tr>\n",
       "  </thead>\n",
       "  <tbody>\n",
       "    <tr>\n",
       "      <th>0</th>\n",
       "      <td>https://www.bbc.co.uk/portuguese/internacional-52480775</td>\n",
       "      <td>Coronavírus: 'O assassino do meu filho não merece morrer de covid-19 na cadeia' - BBC News Brasil</td>\n",
       "    </tr>\n",
       "    <tr>\n",
       "      <th>1</th>\n",
       "      <td>https://www.bbc.co.uk/portuguese/brasil-52943574</td>\n",
       "      <td>Coronavírus: Falta de empatia de Bolsonaro com mortes por covid-19 parece psicopatia, diz psicanalista Maria Rita Kehl - BBC News Brasil</td>\n",
       "    </tr>\n",
       "    <tr>\n",
       "      <th>2</th>\n",
       "      <td>https://www.bbc.co.uk/portuguese/internacional-52768908</td>\n",
       "      <td>Coronavírus: o crescente desespero de milhares de funcionários confinados em cruzeiros há meses - BBC News Brasil</td>\n",
       "    </tr>\n",
       "    <tr>\n",
       "      <th>3</th>\n",
       "      <td>https://www.bbc.co.uk/portuguese/internacional-53036253</td>\n",
       "      <td>Manifestantes vão às ruas proteger estátuas visadas por antirracistas e se chocam com policiais em Londres - BBC News Brasil</td>\n",
       "    </tr>\n",
       "    <tr>\n",
       "      <th>4</th>\n",
       "      <td>https://www.bbc.co.uk/portuguese/brasil-52610097</td>\n",
       "      <td>'Presidente dá cambalhota e ele mesmo escorrega', diz FHC sobre atuação de Bolsonaro na pandemia do novo coronavírus - BBC News Brasil</td>\n",
       "    </tr>\n",
       "  </tbody>\n",
       "</table>"
      ],
      "text/plain": [
       "<IPython.core.display.HTML object>"
      ]
     },
     "metadata": {},
     "output_type": "display_data"
    },
    {
     "data": {
      "text/html": [
       "<h3>Modelo [SKIP_GRAM_100]<br><br>Palavra Busca [partir]<br><br>Palavras Similares ['despeito', 'incorporação', 'reabertura']</h3>"
      ],
      "text/plain": [
       "<IPython.core.display.HTML object>"
      ]
     },
     "metadata": {},
     "output_type": "display_data"
    },
    {
     "data": {
      "text/html": [
       "<table border=\"1\" class=\"dataframe\">\n",
       "  <thead>\n",
       "    <tr style=\"text-align: right;\">\n",
       "      <th></th>\n",
       "      <th>url</th>\n",
       "      <th>title</th>\n",
       "    </tr>\n",
       "  </thead>\n",
       "  <tbody>\n",
       "    <tr>\n",
       "      <th>0</th>\n",
       "      <td>https://www.bbc.co.uk/portuguese/internacional-53008262</td>\n",
       "      <td>Coronavírus na Índia: com lockdown 'insustentável', Índia reabre em meio a disparada de casos e temores de 'bomba-relógio' - BBC News Brasil</td>\n",
       "    </tr>\n",
       "    <tr>\n",
       "      <th>1</th>\n",
       "      <td>https://www.bbc.co.uk/portuguese/geral-52806209</td>\n",
       "      <td>Cloroquina contra coronavírus: por que OMS decidiu interromper testes com remédio em pacientes com covid-19 - BBC News Brasil</td>\n",
       "    </tr>\n",
       "    <tr>\n",
       "      <th>2</th>\n",
       "      <td>https://www.bbc.co.uk/portuguese/brasil-52610097</td>\n",
       "      <td>'Presidente dá cambalhota e ele mesmo escorrega', diz FHC sobre atuação de Bolsonaro na pandemia do novo coronavírus - BBC News Brasil</td>\n",
       "    </tr>\n",
       "    <tr>\n",
       "      <th>3</th>\n",
       "      <td>https://www.bbc.co.uk/portuguese/brasil-52357879</td>\n",
       "      <td>Coronavírus: uso de dados de geolocalização contra a pandemia põe em risco sua privacidade? - BBC News Brasil</td>\n",
       "    </tr>\n",
       "    <tr>\n",
       "      <th>4</th>\n",
       "      <td>https://www.cnnbrasil.com.br/politica/2020/03/30/em-dois-dias-stf-recebe-mais-67-acoes-sobre-o-coronavirus</td>\n",
       "      <td>Em dois dias, STF recebe mais 81 ações sobre o coronavírus</td>\n",
       "    </tr>\n",
       "  </tbody>\n",
       "</table>"
      ],
      "text/plain": [
       "<IPython.core.display.HTML object>"
      ]
     },
     "metadata": {},
     "output_type": "display_data"
    },
    {
     "data": {
      "text/html": [
       "<h3>Modelo [SKIP_GRAM_100]<br><br>Palavra Busca [trad]<br><br>Palavras Similares ['mandetta', 'beozzo', 'ba']</h3>"
      ],
      "text/plain": [
       "<IPython.core.display.HTML object>"
      ]
     },
     "metadata": {},
     "output_type": "display_data"
    },
    {
     "data": {
      "text/html": [
       "<table border=\"1\" class=\"dataframe\">\n",
       "  <thead>\n",
       "    <tr style=\"text-align: right;\">\n",
       "      <th></th>\n",
       "      <th>url</th>\n",
       "      <th>title</th>\n",
       "    </tr>\n",
       "  </thead>\n",
       "  <tbody>\n",
       "    <tr>\n",
       "      <th>0</th>\n",
       "      <td>https://www.bbc.co.uk/portuguese/brasil-53002123</td>\n",
       "      <td>Coronavírus: Brasil pode se tornar país com mais mortos em 29/7 se nada mudar, diz projeção usada pela Casa Branca - BBC News Brasil</td>\n",
       "    </tr>\n",
       "    <tr>\n",
       "      <th>1</th>\n",
       "      <td>https://www.bbc.co.uk/portuguese/brasil-52855085</td>\n",
       "      <td>Coronavírus: o site que mostra se você mora em área de risco de covid-19 - BBC News Brasil</td>\n",
       "    </tr>\n",
       "    <tr>\n",
       "      <th>2</th>\n",
       "      <td>https://www.bbc.co.uk/portuguese/internacional-52779245</td>\n",
       "      <td>Como a América do Sul se tornou o novo epicentro da pandemia de coronavírus - BBC News Brasil</td>\n",
       "    </tr>\n",
       "    <tr>\n",
       "      <th>3</th>\n",
       "      <td>https://www.bbc.co.uk/portuguese/brasil-52782897</td>\n",
       "      <td>Nas quase 2h de reunião sobre pandemia, Bolsonaro e ministros falam de coronavírus por 19 minutos - BBC News Brasil</td>\n",
       "    </tr>\n",
       "    <tr>\n",
       "      <th>4</th>\n",
       "      <td>https://www.bbc.co.uk/portuguese/brasil-52732621</td>\n",
       "      <td>Coronavírus: Brasil vai se tornar 'Coreia do Norte em questões sanitárias', diz pesquisador - BBC News Brasil</td>\n",
       "    </tr>\n",
       "  </tbody>\n",
       "</table>"
      ],
      "text/plain": [
       "<IPython.core.display.HTML object>"
      ]
     },
     "metadata": {},
     "output_type": "display_data"
    },
    {
     "data": {
      "text/html": [
       "<h3>Modelo [SKIP_GRAM_100]<br><br>Palavra Busca [trump]<br><br>Palavras Similares ['hillary', 'sanders', 'clinton']</h3>"
      ],
      "text/plain": [
       "<IPython.core.display.HTML object>"
      ]
     },
     "metadata": {},
     "output_type": "display_data"
    },
    {
     "data": {
      "text/html": [
       "<table border=\"1\" class=\"dataframe\">\n",
       "  <thead>\n",
       "    <tr style=\"text-align: right;\">\n",
       "      <th></th>\n",
       "      <th>url</th>\n",
       "      <th>title</th>\n",
       "    </tr>\n",
       "  </thead>\n",
       "  <tbody>\n",
       "    <tr>\n",
       "      <th>0</th>\n",
       "      <td>https://www.cnnbrasil.com.br/internacional/2020/03/17/mesmo-com-pandemia-de-coronavirus-democratas-mantem-primarias-em-3-estados</td>\n",
       "      <td>Mesmo com pandemia de coronavírus, democratas mantêm primárias em 3 estados</td>\n",
       "    </tr>\n",
       "    <tr>\n",
       "      <th>1</th>\n",
       "      <td>https://www.cnnbrasil.com.br/internacional/2020/03/19/por-coronavirus-estado-de-connecticut-adia-primarias-democratas-para-junho</td>\n",
       "      <td>Por coronavírus, estado de Connecticut adia primárias democratas para junho</td>\n",
       "    </tr>\n",
       "    <tr>\n",
       "      <th>2</th>\n",
       "      <td>https://www.cnnbrasil.com.br/internacional/2020/03/16/governador-de-ohio-quer-adiar-primarias-democratas-por-coronavirus</td>\n",
       "      <td>Governador de Ohio quer adiar primárias democratas em razão do coronavírus</td>\n",
       "    </tr>\n",
       "    <tr>\n",
       "      <th>3</th>\n",
       "      <td>https://www.cnnbrasil.com.br/nacional/2020/03/16/impactos-do-coronavirus-caso-grave-no-rj-e-mais-da-tarde-de-16-de-marco</td>\n",
       "      <td>Impactos do coronavírus, caso grave no RJ e mais da tarde de 16 de março</td>\n",
       "    </tr>\n",
       "    <tr>\n",
       "      <th>4</th>\n",
       "      <td>https://www.cnnbrasil.com.br/nacional/2020/03/16/bolsonaro-coronavirus-e-mais-noticias-da-manha-de-16-de-marco</td>\n",
       "      <td>Divergências entre poderes, coronavírus e mais notícias da manhã de 16 de março</td>\n",
       "    </tr>\n",
       "  </tbody>\n",
       "</table>"
      ],
      "text/plain": [
       "<IPython.core.display.HTML object>"
      ]
     },
     "metadata": {},
     "output_type": "display_data"
    },
    {
     "data": {
      "text/html": [
       "<h3>Modelo [SKIP_GRAM_100]<br><br>Palavra Busca [japonês]<br><br>Palavras Similares ['chinês', 'coreano', 'tailandês']</h3>"
      ],
      "text/plain": [
       "<IPython.core.display.HTML object>"
      ]
     },
     "metadata": {},
     "output_type": "display_data"
    },
    {
     "data": {
      "text/html": [
       "<table border=\"1\" class=\"dataframe\">\n",
       "  <thead>\n",
       "    <tr style=\"text-align: right;\">\n",
       "      <th></th>\n",
       "      <th>url</th>\n",
       "      <th>title</th>\n",
       "    </tr>\n",
       "  </thead>\n",
       "  <tbody>\n",
       "    <tr>\n",
       "      <th>0</th>\n",
       "      <td>https://www.bbc.co.uk/portuguese/internacional-52983258</td>\n",
       "      <td>Coronavírus na China: Imagens de satélite indicam que covid-19 pode ter começado a se espalhar mais cedo em Wuhan - BBC News Brasil</td>\n",
       "    </tr>\n",
       "    <tr>\n",
       "      <th>1</th>\n",
       "      <td>https://www.bbc.co.uk/portuguese/geral-52967280</td>\n",
       "      <td>Coronavírus: o que os cientistas já descobriram sobre a covid-19 nos seus 6 primeiros meses - BBC News Brasil</td>\n",
       "    </tr>\n",
       "    <tr>\n",
       "      <th>2</th>\n",
       "      <td>https://www.bbc.co.uk/portuguese/brasil-52975877</td>\n",
       "      <td>Coronavírus: em 3 pontos, o que o Brasil pode perder no cenário internacional ao omitir dados de covid-19 - BBC News Brasil</td>\n",
       "    </tr>\n",
       "    <tr>\n",
       "      <th>3</th>\n",
       "      <td>https://www.bbc.co.uk/portuguese/internacional-52889944</td>\n",
       "      <td>Coronavírus: o mistério de ‘disseminadores silenciosos’ que espalham a covid-19 - BBC News Brasil</td>\n",
       "    </tr>\n",
       "    <tr>\n",
       "      <th>4</th>\n",
       "      <td>https://www.bbc.co.uk/portuguese/internacional-52830618</td>\n",
       "      <td>Quarentenas funcionam para combater o coronavírus? Veja o que dizem os estudos - BBC News Brasil</td>\n",
       "    </tr>\n",
       "  </tbody>\n",
       "</table>"
      ],
      "text/plain": [
       "<IPython.core.display.HTML object>"
      ]
     },
     "metadata": {},
     "output_type": "display_data"
    },
    {
     "data": {
      "text/html": [
       "<h3>Modelo [SKIP_GRAM_100]<br><br>Palavra Busca [morto]<br><br>Palavras Similares ['assassinado', 'estrangulado', 'resgatado']</h3>"
      ],
      "text/plain": [
       "<IPython.core.display.HTML object>"
      ]
     },
     "metadata": {},
     "output_type": "display_data"
    },
    {
     "data": {
      "text/html": [
       "<table border=\"1\" class=\"dataframe\">\n",
       "  <thead>\n",
       "    <tr style=\"text-align: right;\">\n",
       "      <th></th>\n",
       "      <th>url</th>\n",
       "      <th>title</th>\n",
       "    </tr>\n",
       "  </thead>\n",
       "  <tbody>\n",
       "    <tr>\n",
       "      <th>0</th>\n",
       "      <td>https://www.bbc.co.uk/portuguese/internacional-52480775</td>\n",
       "      <td>Coronavírus: 'O assassino do meu filho não merece morrer de covid-19 na cadeia' - BBC News Brasil</td>\n",
       "    </tr>\n",
       "    <tr>\n",
       "      <th>1</th>\n",
       "      <td>https://www.cnnbrasil.com.br/business/2020/05/29/pib-coronavirus-coloca-brasil-em-recessao-e-retomada-deve-ser-lenta</td>\n",
       "      <td>PIB: Coronavírus coloca Brasil em recessão e retomada deve ser lenta</td>\n",
       "    </tr>\n",
       "    <tr>\n",
       "      <th>2</th>\n",
       "      <td>https://www.bbc.co.uk/portuguese/internacional-52366530</td>\n",
       "      <td>Coronavírus: países latino-americanos usam dinheiro apreendido do narcotráfico e da corrupção para combater covid-19 - BBC News Brasil</td>\n",
       "    </tr>\n",
       "    <tr>\n",
       "      <th>3</th>\n",
       "      <td>https://www.cnnbrasil.com.br/saude/2020/03/20/cloroquina-entenda-por-que-voce-nao-deve-usar-o-remedio-contra-coronavirus</td>\n",
       "      <td>Cloroquina: entenda por que você não deve usar o remédio contra coronavírus</td>\n",
       "    </tr>\n",
       "  </tbody>\n",
       "</table>"
      ],
      "text/plain": [
       "<IPython.core.display.HTML object>"
      ]
     },
     "metadata": {},
     "output_type": "display_data"
    },
    {
     "data": {
      "text/html": [
       "<h3>Modelo [SKIP_GRAM_300]<br><br>Palavra Busca [partir]<br><br>Palavras Similares ['despeito', 'incorporação', 'reabertura']</h3>"
      ],
      "text/plain": [
       "<IPython.core.display.HTML object>"
      ]
     },
     "metadata": {},
     "output_type": "display_data"
    },
    {
     "data": {
      "text/html": [
       "<table border=\"1\" class=\"dataframe\">\n",
       "  <thead>\n",
       "    <tr style=\"text-align: right;\">\n",
       "      <th></th>\n",
       "      <th>url</th>\n",
       "      <th>title</th>\n",
       "    </tr>\n",
       "  </thead>\n",
       "  <tbody>\n",
       "    <tr>\n",
       "      <th>0</th>\n",
       "      <td>https://www.bbc.co.uk/portuguese/internacional-53008262</td>\n",
       "      <td>Coronavírus na Índia: com lockdown 'insustentável', Índia reabre em meio a disparada de casos e temores de 'bomba-relógio' - BBC News Brasil</td>\n",
       "    </tr>\n",
       "    <tr>\n",
       "      <th>1</th>\n",
       "      <td>https://www.bbc.co.uk/portuguese/geral-52806209</td>\n",
       "      <td>Cloroquina contra coronavírus: por que OMS decidiu interromper testes com remédio em pacientes com covid-19 - BBC News Brasil</td>\n",
       "    </tr>\n",
       "    <tr>\n",
       "      <th>2</th>\n",
       "      <td>https://www.bbc.co.uk/portuguese/brasil-52610097</td>\n",
       "      <td>'Presidente dá cambalhota e ele mesmo escorrega', diz FHC sobre atuação de Bolsonaro na pandemia do novo coronavírus - BBC News Brasil</td>\n",
       "    </tr>\n",
       "    <tr>\n",
       "      <th>3</th>\n",
       "      <td>https://www.bbc.co.uk/portuguese/brasil-52357879</td>\n",
       "      <td>Coronavírus: uso de dados de geolocalização contra a pandemia põe em risco sua privacidade? - BBC News Brasil</td>\n",
       "    </tr>\n",
       "    <tr>\n",
       "      <th>4</th>\n",
       "      <td>https://www.cnnbrasil.com.br/politica/2020/03/30/em-dois-dias-stf-recebe-mais-67-acoes-sobre-o-coronavirus</td>\n",
       "      <td>Em dois dias, STF recebe mais 81 ações sobre o coronavírus</td>\n",
       "    </tr>\n",
       "  </tbody>\n",
       "</table>"
      ],
      "text/plain": [
       "<IPython.core.display.HTML object>"
      ]
     },
     "metadata": {},
     "output_type": "display_data"
    },
    {
     "data": {
      "text/html": [
       "<h3>Modelo [SKIP_GRAM_300]<br><br>Palavra Busca [trad]<br><br>Palavras Similares ['mandetta', 'beozzo', 'ba']</h3>"
      ],
      "text/plain": [
       "<IPython.core.display.HTML object>"
      ]
     },
     "metadata": {},
     "output_type": "display_data"
    },
    {
     "data": {
      "text/html": [
       "<table border=\"1\" class=\"dataframe\">\n",
       "  <thead>\n",
       "    <tr style=\"text-align: right;\">\n",
       "      <th></th>\n",
       "      <th>url</th>\n",
       "      <th>title</th>\n",
       "    </tr>\n",
       "  </thead>\n",
       "  <tbody>\n",
       "    <tr>\n",
       "      <th>0</th>\n",
       "      <td>https://www.bbc.co.uk/portuguese/brasil-53002123</td>\n",
       "      <td>Coronavírus: Brasil pode se tornar país com mais mortos em 29/7 se nada mudar, diz projeção usada pela Casa Branca - BBC News Brasil</td>\n",
       "    </tr>\n",
       "    <tr>\n",
       "      <th>1</th>\n",
       "      <td>https://www.bbc.co.uk/portuguese/brasil-52855085</td>\n",
       "      <td>Coronavírus: o site que mostra se você mora em área de risco de covid-19 - BBC News Brasil</td>\n",
       "    </tr>\n",
       "    <tr>\n",
       "      <th>2</th>\n",
       "      <td>https://www.bbc.co.uk/portuguese/internacional-52779245</td>\n",
       "      <td>Como a América do Sul se tornou o novo epicentro da pandemia de coronavírus - BBC News Brasil</td>\n",
       "    </tr>\n",
       "    <tr>\n",
       "      <th>3</th>\n",
       "      <td>https://www.bbc.co.uk/portuguese/brasil-52782897</td>\n",
       "      <td>Nas quase 2h de reunião sobre pandemia, Bolsonaro e ministros falam de coronavírus por 19 minutos - BBC News Brasil</td>\n",
       "    </tr>\n",
       "    <tr>\n",
       "      <th>4</th>\n",
       "      <td>https://www.bbc.co.uk/portuguese/brasil-52732621</td>\n",
       "      <td>Coronavírus: Brasil vai se tornar 'Coreia do Norte em questões sanitárias', diz pesquisador - BBC News Brasil</td>\n",
       "    </tr>\n",
       "  </tbody>\n",
       "</table>"
      ],
      "text/plain": [
       "<IPython.core.display.HTML object>"
      ]
     },
     "metadata": {},
     "output_type": "display_data"
    },
    {
     "data": {
      "text/html": [
       "<h3>Modelo [SKIP_GRAM_300]<br><br>Palavra Busca [trump]<br><br>Palavras Similares ['hillary', 'sanders', 'clinton']</h3>"
      ],
      "text/plain": [
       "<IPython.core.display.HTML object>"
      ]
     },
     "metadata": {},
     "output_type": "display_data"
    },
    {
     "data": {
      "text/html": [
       "<table border=\"1\" class=\"dataframe\">\n",
       "  <thead>\n",
       "    <tr style=\"text-align: right;\">\n",
       "      <th></th>\n",
       "      <th>url</th>\n",
       "      <th>title</th>\n",
       "    </tr>\n",
       "  </thead>\n",
       "  <tbody>\n",
       "    <tr>\n",
       "      <th>0</th>\n",
       "      <td>https://www.cnnbrasil.com.br/internacional/2020/03/17/mesmo-com-pandemia-de-coronavirus-democratas-mantem-primarias-em-3-estados</td>\n",
       "      <td>Mesmo com pandemia de coronavírus, democratas mantêm primárias em 3 estados</td>\n",
       "    </tr>\n",
       "    <tr>\n",
       "      <th>1</th>\n",
       "      <td>https://www.cnnbrasil.com.br/internacional/2020/03/19/por-coronavirus-estado-de-connecticut-adia-primarias-democratas-para-junho</td>\n",
       "      <td>Por coronavírus, estado de Connecticut adia primárias democratas para junho</td>\n",
       "    </tr>\n",
       "    <tr>\n",
       "      <th>2</th>\n",
       "      <td>https://www.cnnbrasil.com.br/internacional/2020/03/16/governador-de-ohio-quer-adiar-primarias-democratas-por-coronavirus</td>\n",
       "      <td>Governador de Ohio quer adiar primárias democratas em razão do coronavírus</td>\n",
       "    </tr>\n",
       "    <tr>\n",
       "      <th>3</th>\n",
       "      <td>https://www.cnnbrasil.com.br/nacional/2020/03/16/impactos-do-coronavirus-caso-grave-no-rj-e-mais-da-tarde-de-16-de-marco</td>\n",
       "      <td>Impactos do coronavírus, caso grave no RJ e mais da tarde de 16 de março</td>\n",
       "    </tr>\n",
       "    <tr>\n",
       "      <th>4</th>\n",
       "      <td>https://www.cnnbrasil.com.br/nacional/2020/03/16/bolsonaro-coronavirus-e-mais-noticias-da-manha-de-16-de-marco</td>\n",
       "      <td>Divergências entre poderes, coronavírus e mais notícias da manhã de 16 de março</td>\n",
       "    </tr>\n",
       "  </tbody>\n",
       "</table>"
      ],
      "text/plain": [
       "<IPython.core.display.HTML object>"
      ]
     },
     "metadata": {},
     "output_type": "display_data"
    },
    {
     "data": {
      "text/html": [
       "<h3>Modelo [SKIP_GRAM_300]<br><br>Palavra Busca [japonês]<br><br>Palavras Similares ['chinês', 'coreano', 'tailandês']</h3>"
      ],
      "text/plain": [
       "<IPython.core.display.HTML object>"
      ]
     },
     "metadata": {},
     "output_type": "display_data"
    },
    {
     "data": {
      "text/html": [
       "<table border=\"1\" class=\"dataframe\">\n",
       "  <thead>\n",
       "    <tr style=\"text-align: right;\">\n",
       "      <th></th>\n",
       "      <th>url</th>\n",
       "      <th>title</th>\n",
       "    </tr>\n",
       "  </thead>\n",
       "  <tbody>\n",
       "    <tr>\n",
       "      <th>0</th>\n",
       "      <td>https://www.bbc.co.uk/portuguese/internacional-52983258</td>\n",
       "      <td>Coronavírus na China: Imagens de satélite indicam que covid-19 pode ter começado a se espalhar mais cedo em Wuhan - BBC News Brasil</td>\n",
       "    </tr>\n",
       "    <tr>\n",
       "      <th>1</th>\n",
       "      <td>https://www.bbc.co.uk/portuguese/geral-52967280</td>\n",
       "      <td>Coronavírus: o que os cientistas já descobriram sobre a covid-19 nos seus 6 primeiros meses - BBC News Brasil</td>\n",
       "    </tr>\n",
       "    <tr>\n",
       "      <th>2</th>\n",
       "      <td>https://www.bbc.co.uk/portuguese/brasil-52975877</td>\n",
       "      <td>Coronavírus: em 3 pontos, o que o Brasil pode perder no cenário internacional ao omitir dados de covid-19 - BBC News Brasil</td>\n",
       "    </tr>\n",
       "    <tr>\n",
       "      <th>3</th>\n",
       "      <td>https://www.bbc.co.uk/portuguese/internacional-52889944</td>\n",
       "      <td>Coronavírus: o mistério de ‘disseminadores silenciosos’ que espalham a covid-19 - BBC News Brasil</td>\n",
       "    </tr>\n",
       "    <tr>\n",
       "      <th>4</th>\n",
       "      <td>https://www.bbc.co.uk/portuguese/internacional-52830618</td>\n",
       "      <td>Quarentenas funcionam para combater o coronavírus? Veja o que dizem os estudos - BBC News Brasil</td>\n",
       "    </tr>\n",
       "  </tbody>\n",
       "</table>"
      ],
      "text/plain": [
       "<IPython.core.display.HTML object>"
      ]
     },
     "metadata": {},
     "output_type": "display_data"
    },
    {
     "data": {
      "text/html": [
       "<h3>Modelo [SKIP_GRAM_300]<br><br>Palavra Busca [morto]<br><br>Palavras Similares ['assassinado', 'estrangulado', 'resgatado']</h3>"
      ],
      "text/plain": [
       "<IPython.core.display.HTML object>"
      ]
     },
     "metadata": {},
     "output_type": "display_data"
    },
    {
     "data": {
      "text/html": [
       "<table border=\"1\" class=\"dataframe\">\n",
       "  <thead>\n",
       "    <tr style=\"text-align: right;\">\n",
       "      <th></th>\n",
       "      <th>url</th>\n",
       "      <th>title</th>\n",
       "    </tr>\n",
       "  </thead>\n",
       "  <tbody>\n",
       "    <tr>\n",
       "      <th>0</th>\n",
       "      <td>https://www.bbc.co.uk/portuguese/internacional-52480775</td>\n",
       "      <td>Coronavírus: 'O assassino do meu filho não merece morrer de covid-19 na cadeia' - BBC News Brasil</td>\n",
       "    </tr>\n",
       "    <tr>\n",
       "      <th>1</th>\n",
       "      <td>https://www.cnnbrasil.com.br/business/2020/05/29/pib-coronavirus-coloca-brasil-em-recessao-e-retomada-deve-ser-lenta</td>\n",
       "      <td>PIB: Coronavírus coloca Brasil em recessão e retomada deve ser lenta</td>\n",
       "    </tr>\n",
       "    <tr>\n",
       "      <th>2</th>\n",
       "      <td>https://www.bbc.co.uk/portuguese/internacional-52366530</td>\n",
       "      <td>Coronavírus: países latino-americanos usam dinheiro apreendido do narcotráfico e da corrupção para combater covid-19 - BBC News Brasil</td>\n",
       "    </tr>\n",
       "    <tr>\n",
       "      <th>3</th>\n",
       "      <td>https://www.cnnbrasil.com.br/saude/2020/03/20/cloroquina-entenda-por-que-voce-nao-deve-usar-o-remedio-contra-coronavirus</td>\n",
       "      <td>Cloroquina: entenda por que você não deve usar o remédio contra coronavírus</td>\n",
       "    </tr>\n",
       "  </tbody>\n",
       "</table>"
      ],
      "text/plain": [
       "<IPython.core.display.HTML object>"
      ]
     },
     "metadata": {},
     "output_type": "display_data"
    }
   ],
   "source": [
    "def get_word_list(model_name, search_word):\n",
    "    for word_list in most_similar_words[model_name]:\n",
    "        if search_word == word_list['search_word']:\n",
    "            return word_list['similar_words']\n",
    "\n",
    "def fetch_documents(word_list):\n",
    "    dataframes = []\n",
    "    for word in word_list:\n",
    "        df = dataset[dataset.processed_text.apply(lambda text: word in text.split(' '))]\n",
    "        dataframes.append(df[['url', 'title']])\n",
    "    return pandas.concat(dataframes).drop_duplicates().reset_index(drop=True)        \n",
    "\n",
    "for model_name, model_path in MODEL_LIST:\n",
    "    for search_word in search_words:\n",
    "        word_list = get_word_list(model_name=model_name, search_word=search_word)\n",
    "        search_documents = fetch_documents(word_list)\n",
    "        display(HTML(f'<h3>Modelo [{model_name}]<br><br>Palavra Busca [{search_word}]<br><br>Palavras Similares {word_list}</h3>'))\n",
    "        display(HTML(search_documents.head().to_html()))"
   ]
  },
  {
   "cell_type": "markdown",
   "metadata": {},
   "source": [
    "A rotina abaixo calcula os três documentos onde seu __vetor médio__ é mais semelhante ao vetor de cada palavra de busca fornecida:"
   ]
  },
  {
   "cell_type": "code",
   "execution_count": 19,
   "metadata": {},
   "outputs": [
    {
     "name": "stderr",
     "output_type": "stream",
     "text": [
      "<ipython-input-19-11e0cc294235>:21: DeprecationWarning: Call to deprecated `wv` (Attribute will be removed in 4.0.0, use self instead).\n",
      "  word_vectors = embedding.wv\n"
     ]
    },
    {
     "data": {
      "text/html": [
       "<h2>Modelo - CBOW_100</h2>"
      ],
      "text/plain": [
       "<IPython.core.display.HTML object>"
      ]
     },
     "metadata": {},
     "output_type": "display_data"
    },
    {
     "data": {
      "text/html": [
       "<h3>partir</h3>"
      ],
      "text/plain": [
       "<IPython.core.display.HTML object>"
      ]
     },
     "metadata": {},
     "output_type": "display_data"
    },
    {
     "data": {
      "text/html": [
       "<table border=\"1\" class=\"dataframe\">\n",
       "  <thead>\n",
       "    <tr style=\"text-align: right;\">\n",
       "      <th></th>\n",
       "      <th>url</th>\n",
       "      <th>title</th>\n",
       "    </tr>\n",
       "  </thead>\n",
       "  <tbody>\n",
       "    <tr>\n",
       "      <th>1192</th>\n",
       "      <td>https://www.cnnbrasil.com.br/business/2020/03/19/gol-reduz-de-jornada-e-salario-por-causa-do-coronavirus</td>\n",
       "      <td>Gol reduz de jornada e salário por causa do coronavírus</td>\n",
       "    </tr>\n",
       "    <tr>\n",
       "      <th>1252</th>\n",
       "      <td>https://www.cnnbrasil.com.br/business/2020/03/18/mercedez-e-gm-dao-ferias-coletivas-por-causa-do-coronavirus</td>\n",
       "      <td>Mercedes e GM dão férias coletivas por causa do coronavírus</td>\n",
       "    </tr>\n",
       "    <tr>\n",
       "      <th>1455</th>\n",
       "      <td>https://www.cnnbrasil.com.br/saude/2020/03/14/vacina-contra-coronavirus-esta-pronta-para-testes-diz-empresa</td>\n",
       "      <td>Vacina contra coronavírus está pronta para testes, diz empresa</td>\n",
       "    </tr>\n",
       "  </tbody>\n",
       "</table>"
      ],
      "text/plain": [
       "<IPython.core.display.HTML object>"
      ]
     },
     "metadata": {},
     "output_type": "display_data"
    },
    {
     "data": {
      "text/html": [
       "<h3>trad</h3>"
      ],
      "text/plain": [
       "<IPython.core.display.HTML object>"
      ]
     },
     "metadata": {},
     "output_type": "display_data"
    },
    {
     "data": {
      "text/html": [
       "<table border=\"1\" class=\"dataframe\">\n",
       "  <thead>\n",
       "    <tr style=\"text-align: right;\">\n",
       "      <th></th>\n",
       "      <th>url</th>\n",
       "      <th>title</th>\n",
       "    </tr>\n",
       "  </thead>\n",
       "  <tbody>\n",
       "    <tr>\n",
       "      <th>74</th>\n",
       "      <td>https://www.bbc.co.uk/portuguese/aprenda-ingles-53006721</td>\n",
       "      <td>De volta à escola após quarentena: alunos na Holanda ganham cabines individuais - BBC News Brasil</td>\n",
       "    </tr>\n",
       "    <tr>\n",
       "      <th>492</th>\n",
       "      <td>https://www.cnnbrasil.com.br/internacional/2020/04/29/relatores-da-onu-condenam-politicas-do-brasil-contra-o-coronavirus</td>\n",
       "      <td>Relatores da ONU condenam políticas do Brasil contra o coronavírus</td>\n",
       "    </tr>\n",
       "    <tr>\n",
       "      <th>533</th>\n",
       "      <td>https://www.cnnbrasil.com.br/entretenimento/2020/04/21/tom-hanks-relata-periodos-de-forte-exaustao-e-nausea-ao-contrair-coronavirus</td>\n",
       "      <td>Tom Hanks relata períodos de forte exaustão e náusea após contrair coronavírus</td>\n",
       "    </tr>\n",
       "  </tbody>\n",
       "</table>"
      ],
      "text/plain": [
       "<IPython.core.display.HTML object>"
      ]
     },
     "metadata": {},
     "output_type": "display_data"
    },
    {
     "data": {
      "text/html": [
       "<h3>trump</h3>"
      ],
      "text/plain": [
       "<IPython.core.display.HTML object>"
      ]
     },
     "metadata": {},
     "output_type": "display_data"
    },
    {
     "data": {
      "text/html": [
       "<table border=\"1\" class=\"dataframe\">\n",
       "  <thead>\n",
       "    <tr style=\"text-align: right;\">\n",
       "      <th></th>\n",
       "      <th>url</th>\n",
       "      <th>title</th>\n",
       "    </tr>\n",
       "  </thead>\n",
       "  <tbody>\n",
       "    <tr>\n",
       "      <th>811</th>\n",
       "      <td>https://www.cnnbrasil.com.br/business/2020/04/01/perdas-dos-shopping-centers-com-coronavirus-ja-somam-r-1-bilhao-diz-abrasce</td>\n",
       "      <td>Perdas dos shopping centers com coronavírus já somam R$ 1 bilhão, diz Abrasce</td>\n",
       "    </tr>\n",
       "    <tr>\n",
       "      <th>1194</th>\n",
       "      <td>https://www.cnnbrasil.com.br/internacional/2020/03/19/por-coronavirus-estado-de-connecticut-adia-primarias-democratas-para-junho</td>\n",
       "      <td>Por coronavírus, estado de Connecticut adia primárias democratas para junho</td>\n",
       "    </tr>\n",
       "    <tr>\n",
       "      <th>49</th>\n",
       "      <td>https://www.bbc.co.uk/portuguese/brasil-53031777</td>\n",
       "      <td>'Estou mais preocupado com impacto da pandemia do que com risco democrático', diz Barroso - BBC News Brasil</td>\n",
       "    </tr>\n",
       "  </tbody>\n",
       "</table>"
      ],
      "text/plain": [
       "<IPython.core.display.HTML object>"
      ]
     },
     "metadata": {},
     "output_type": "display_data"
    },
    {
     "data": {
      "text/html": [
       "<h3>japonês</h3>"
      ],
      "text/plain": [
       "<IPython.core.display.HTML object>"
      ]
     },
     "metadata": {},
     "output_type": "display_data"
    },
    {
     "data": {
      "text/html": [
       "<table border=\"1\" class=\"dataframe\">\n",
       "  <thead>\n",
       "    <tr style=\"text-align: right;\">\n",
       "      <th></th>\n",
       "      <th>url</th>\n",
       "      <th>title</th>\n",
       "    </tr>\n",
       "  </thead>\n",
       "  <tbody>\n",
       "    <tr>\n",
       "      <th>485</th>\n",
       "      <td>https://www.cnnbrasil.com.br/entretenimento/2020/04/30/curta-nigeriano-explica-para-criancas-como-combater-o-monstro-do-coronavirus</td>\n",
       "      <td>Curta nigeriano explica para crianças como combater o ‘monstro’ do coronavírus</td>\n",
       "    </tr>\n",
       "    <tr>\n",
       "      <th>74</th>\n",
       "      <td>https://www.bbc.co.uk/portuguese/aprenda-ingles-53006721</td>\n",
       "      <td>De volta à escola após quarentena: alunos na Holanda ganham cabines individuais - BBC News Brasil</td>\n",
       "    </tr>\n",
       "    <tr>\n",
       "      <th>1336</th>\n",
       "      <td>https://www.cnnbrasil.com.br/esporte/2020/03/17/premie-japones-olimpiada-completa-provara-que-mundo-pode-vencer-coronavirus</td>\n",
       "      <td>Premiê japonês: \"Olimpíada completa provará que mundo pode vencer coronavírus\"</td>\n",
       "    </tr>\n",
       "  </tbody>\n",
       "</table>"
      ],
      "text/plain": [
       "<IPython.core.display.HTML object>"
      ]
     },
     "metadata": {},
     "output_type": "display_data"
    },
    {
     "data": {
      "text/html": [
       "<h3>morto</h3>"
      ],
      "text/plain": [
       "<IPython.core.display.HTML object>"
      ]
     },
     "metadata": {},
     "output_type": "display_data"
    },
    {
     "data": {
      "text/html": [
       "<table border=\"1\" class=\"dataframe\">\n",
       "  <thead>\n",
       "    <tr style=\"text-align: right;\">\n",
       "      <th></th>\n",
       "      <th>url</th>\n",
       "      <th>title</th>\n",
       "    </tr>\n",
       "  </thead>\n",
       "  <tbody>\n",
       "    <tr>\n",
       "      <th>917</th>\n",
       "      <td>https://www.cnnbrasil.com.br/nacional/2020/03/27/desenhista-daniel-azulay-morre-apos-contrair-coronavirus-no-rio</td>\n",
       "      <td>Desenhista Daniel Azulay morre após contrair coronavírus no Rio</td>\n",
       "    </tr>\n",
       "    <tr>\n",
       "      <th>1555</th>\n",
       "      <td>https://www.cnnbrasil.com.br/internacional/2020/03/06/vaticano-confirma-primeiro-caso-do-novo-coronavirus</td>\n",
       "      <td>Vaticano confirma primeiro caso do novo coronavírus</td>\n",
       "    </tr>\n",
       "    <tr>\n",
       "      <th>1116</th>\n",
       "      <td>https://www.cnnbrasil.com.br/esporte/2020/03/21/ex-presidente-do-real-madrid-e-mais-uma-vitima-do-coronavirus</td>\n",
       "      <td>Ex-presidente do Real Madrid é mais uma vítima do coronavírus</td>\n",
       "    </tr>\n",
       "  </tbody>\n",
       "</table>"
      ],
      "text/plain": [
       "<IPython.core.display.HTML object>"
      ]
     },
     "metadata": {},
     "output_type": "display_data"
    },
    {
     "name": "stderr",
     "output_type": "stream",
     "text": [
      "<ipython-input-19-11e0cc294235>:21: DeprecationWarning: Call to deprecated `wv` (Attribute will be removed in 4.0.0, use self instead).\n",
      "  word_vectors = embedding.wv\n"
     ]
    },
    {
     "data": {
      "text/html": [
       "<h2>Modelo - SKIP_GRAM_100</h2>"
      ],
      "text/plain": [
       "<IPython.core.display.HTML object>"
      ]
     },
     "metadata": {},
     "output_type": "display_data"
    },
    {
     "data": {
      "text/html": [
       "<h3>partir</h3>"
      ],
      "text/plain": [
       "<IPython.core.display.HTML object>"
      ]
     },
     "metadata": {},
     "output_type": "display_data"
    },
    {
     "data": {
      "text/html": [
       "<table border=\"1\" class=\"dataframe\">\n",
       "  <thead>\n",
       "    <tr style=\"text-align: right;\">\n",
       "      <th></th>\n",
       "      <th>url</th>\n",
       "      <th>title</th>\n",
       "    </tr>\n",
       "  </thead>\n",
       "  <tbody>\n",
       "    <tr>\n",
       "      <th>656</th>\n",
       "      <td>https://www.cnnbrasil.com.br/business/2020/04/09/indices-da-china-fecham-em-alta-por-expectativas-de-pico-do-coronavirus</td>\n",
       "      <td>Índices da China fecham em alta por expectativas de pico do coronavírus</td>\n",
       "    </tr>\n",
       "    <tr>\n",
       "      <th>1113</th>\n",
       "      <td>https://www.cnnbrasil.com.br/internacional/2020/03/21/casos-globais-de-coronavirus-superam-300-mil-mortes-se-aproximam-de-13-mil</td>\n",
       "      <td>Casos globais de coronavírus superam 300 mil; mortes se aproximam de 13 mil</td>\n",
       "    </tr>\n",
       "    <tr>\n",
       "      <th>519</th>\n",
       "      <td>https://www.cnnbrasil.com.br/internacional/2020/04/24/pandemia-do-novo-coronavirus-mata-mais-de-50-mil-nos-eua</td>\n",
       "      <td>Pandemia do novo coronavírus mata mais de 50 mil pessoas nos EUA</td>\n",
       "    </tr>\n",
       "  </tbody>\n",
       "</table>"
      ],
      "text/plain": [
       "<IPython.core.display.HTML object>"
      ]
     },
     "metadata": {},
     "output_type": "display_data"
    },
    {
     "data": {
      "text/html": [
       "<h3>trad</h3>"
      ],
      "text/plain": [
       "<IPython.core.display.HTML object>"
      ]
     },
     "metadata": {},
     "output_type": "display_data"
    },
    {
     "data": {
      "text/html": [
       "<table border=\"1\" class=\"dataframe\">\n",
       "  <thead>\n",
       "    <tr style=\"text-align: right;\">\n",
       "      <th></th>\n",
       "      <th>url</th>\n",
       "      <th>title</th>\n",
       "    </tr>\n",
       "  </thead>\n",
       "  <tbody>\n",
       "    <tr>\n",
       "      <th>1003</th>\n",
       "      <td>https://www.cnnbrasil.com.br/saude/2020/03/25/governo-de-brasilia-registra-primeiro-paciente-de-coronavirus-recuperado</td>\n",
       "      <td>Governo de Brasília registra primeiro paciente de coronavírus recuperado</td>\n",
       "    </tr>\n",
       "    <tr>\n",
       "      <th>1508</th>\n",
       "      <td>https://www.cnnbrasil.com.br/esporte/2020/03/11/golden-state-warriors-jogara-sem-publico-por-causa-do-coronavirus</td>\n",
       "      <td>Golden State Warriors jogará sem público por causa do coronavírus</td>\n",
       "    </tr>\n",
       "    <tr>\n",
       "      <th>930</th>\n",
       "      <td>https://www.cnnbrasil.com.br/nacional/2020/03/27/sp-podera-sacar-r-53-milhoes-de-disputa-com-uber-para-combater-coronavirus</td>\n",
       "      <td>SP poderá sacar R$ 53 milhões de disputa com Uber para combater coronavírus</td>\n",
       "    </tr>\n",
       "  </tbody>\n",
       "</table>"
      ],
      "text/plain": [
       "<IPython.core.display.HTML object>"
      ]
     },
     "metadata": {},
     "output_type": "display_data"
    },
    {
     "data": {
      "text/html": [
       "<h3>trump</h3>"
      ],
      "text/plain": [
       "<IPython.core.display.HTML object>"
      ]
     },
     "metadata": {},
     "output_type": "display_data"
    },
    {
     "data": {
      "text/html": [
       "<table border=\"1\" class=\"dataframe\">\n",
       "  <thead>\n",
       "    <tr style=\"text-align: right;\">\n",
       "      <th></th>\n",
       "      <th>url</th>\n",
       "      <th>title</th>\n",
       "    </tr>\n",
       "  </thead>\n",
       "  <tbody>\n",
       "    <tr>\n",
       "      <th>1349</th>\n",
       "      <td>https://www.cnnbrasil.com.br/politica/2020/03/16/reuniao-toffoli-stf-coronavirus</td>\n",
       "      <td>Em encontro de cúpula sobre coronavírus, Toffoli não convida Bolsonaro</td>\n",
       "    </tr>\n",
       "    <tr>\n",
       "      <th>696</th>\n",
       "      <td>https://www.cnnbrasil.com.br/internacional/2020/04/07/apos-ataques-mutuos-biden-e-trump-tem-conversa-amigavel-sobre-coronavirus</td>\n",
       "      <td>Após ataques mútuos, Biden e Trump têm 'conversa amigável' sobre coronavírus</td>\n",
       "    </tr>\n",
       "    <tr>\n",
       "      <th>1309</th>\n",
       "      <td>https://www.cnnbrasil.com.br/politica/2020/03/17/rosa-weber-anuncia-cancelamento-de-eleicao-suplementar-de-senador-em-mato-grosso</td>\n",
       "      <td>Rosa Weber cancela eleição suplementar de senador em MT por coronavírus</td>\n",
       "    </tr>\n",
       "  </tbody>\n",
       "</table>"
      ],
      "text/plain": [
       "<IPython.core.display.HTML object>"
      ]
     },
     "metadata": {},
     "output_type": "display_data"
    },
    {
     "data": {
      "text/html": [
       "<h3>japonês</h3>"
      ],
      "text/plain": [
       "<IPython.core.display.HTML object>"
      ]
     },
     "metadata": {},
     "output_type": "display_data"
    },
    {
     "data": {
      "text/html": [
       "<table border=\"1\" class=\"dataframe\">\n",
       "  <thead>\n",
       "    <tr style=\"text-align: right;\">\n",
       "      <th></th>\n",
       "      <th>url</th>\n",
       "      <th>title</th>\n",
       "    </tr>\n",
       "  </thead>\n",
       "  <tbody>\n",
       "    <tr>\n",
       "      <th>1064</th>\n",
       "      <td>https://www.cnnbrasil.com.br/business/2020/03/23/empresarios-da-construcao-civil-debatem-impactos-do-coronavirus-no-setor</td>\n",
       "      <td>Empresários da construção civil debatem impactos do coronavírus no setor</td>\n",
       "    </tr>\n",
       "    <tr>\n",
       "      <th>1162</th>\n",
       "      <td>https://www.cnnbrasil.com.br/politica/2020/03/20/coronavirus-adia-julgamento-de-lula-no-trf-4</td>\n",
       "      <td>Coronavírus adia julgamento de Lula no TRF-4</td>\n",
       "    </tr>\n",
       "    <tr>\n",
       "      <th>1145</th>\n",
       "      <td>https://www.cnnbrasil.com.br/nacional/2020/03/20/governo-autoriza-motorista-a-dirigir-com-cnh-vencida-devido-ao-coronavirus</td>\n",
       "      <td>Governo autoriza motorista a dirigir com CNH vencida devido ao coronavírus</td>\n",
       "    </tr>\n",
       "  </tbody>\n",
       "</table>"
      ],
      "text/plain": [
       "<IPython.core.display.HTML object>"
      ]
     },
     "metadata": {},
     "output_type": "display_data"
    },
    {
     "data": {
      "text/html": [
       "<h3>morto</h3>"
      ],
      "text/plain": [
       "<IPython.core.display.HTML object>"
      ]
     },
     "metadata": {},
     "output_type": "display_data"
    },
    {
     "data": {
      "text/html": [
       "<table border=\"1\" class=\"dataframe\">\n",
       "  <thead>\n",
       "    <tr style=\"text-align: right;\">\n",
       "      <th></th>\n",
       "      <th>url</th>\n",
       "      <th>title</th>\n",
       "    </tr>\n",
       "  </thead>\n",
       "  <tbody>\n",
       "    <tr>\n",
       "      <th>1301</th>\n",
       "      <td>https://www.cnnbrasil.com.br/politica/2020/03/17/analise-internacao-compulsoria-e-medida-extrema-para-conter-alta-de-coronavirus</td>\n",
       "      <td>Análise: internação compulsória é medida extrema para conter alta de coronavírus</td>\n",
       "    </tr>\n",
       "    <tr>\n",
       "      <th>1037</th>\n",
       "      <td>https://www.cnnbrasil.com.br/politica/2020/03/24/analise-coronavirus-se-tornou-problema-economico-gravissimo</td>\n",
       "      <td>Análise: Coronavírus se tornou problema econômico gravíssimo</td>\n",
       "    </tr>\n",
       "    <tr>\n",
       "      <th>1379</th>\n",
       "      <td>https://www.cnnbrasil.com.br/nacional/2020/03/16/analise-autoridades-ainda-nao-perceberam-que-tem-o-coronavirus-como-inimigo</td>\n",
       "      <td>Análise: Autoridades ainda não perceberam que têm o coronavírus como inimigo</td>\n",
       "    </tr>\n",
       "  </tbody>\n",
       "</table>"
      ],
      "text/plain": [
       "<IPython.core.display.HTML object>"
      ]
     },
     "metadata": {},
     "output_type": "display_data"
    },
    {
     "name": "stderr",
     "output_type": "stream",
     "text": [
      "<ipython-input-19-11e0cc294235>:21: DeprecationWarning: Call to deprecated `wv` (Attribute will be removed in 4.0.0, use self instead).\n",
      "  word_vectors = embedding.wv\n"
     ]
    },
    {
     "data": {
      "text/html": [
       "<h2>Modelo - SKIP_GRAM_300</h2>"
      ],
      "text/plain": [
       "<IPython.core.display.HTML object>"
      ]
     },
     "metadata": {},
     "output_type": "display_data"
    },
    {
     "data": {
      "text/html": [
       "<h3>partir</h3>"
      ],
      "text/plain": [
       "<IPython.core.display.HTML object>"
      ]
     },
     "metadata": {},
     "output_type": "display_data"
    },
    {
     "data": {
      "text/html": [
       "<table border=\"1\" class=\"dataframe\">\n",
       "  <thead>\n",
       "    <tr style=\"text-align: right;\">\n",
       "      <th></th>\n",
       "      <th>url</th>\n",
       "      <th>title</th>\n",
       "    </tr>\n",
       "  </thead>\n",
       "  <tbody>\n",
       "    <tr>\n",
       "      <th>656</th>\n",
       "      <td>https://www.cnnbrasil.com.br/business/2020/04/09/indices-da-china-fecham-em-alta-por-expectativas-de-pico-do-coronavirus</td>\n",
       "      <td>Índices da China fecham em alta por expectativas de pico do coronavírus</td>\n",
       "    </tr>\n",
       "    <tr>\n",
       "      <th>1113</th>\n",
       "      <td>https://www.cnnbrasil.com.br/internacional/2020/03/21/casos-globais-de-coronavirus-superam-300-mil-mortes-se-aproximam-de-13-mil</td>\n",
       "      <td>Casos globais de coronavírus superam 300 mil; mortes se aproximam de 13 mil</td>\n",
       "    </tr>\n",
       "    <tr>\n",
       "      <th>519</th>\n",
       "      <td>https://www.cnnbrasil.com.br/internacional/2020/04/24/pandemia-do-novo-coronavirus-mata-mais-de-50-mil-nos-eua</td>\n",
       "      <td>Pandemia do novo coronavírus mata mais de 50 mil pessoas nos EUA</td>\n",
       "    </tr>\n",
       "  </tbody>\n",
       "</table>"
      ],
      "text/plain": [
       "<IPython.core.display.HTML object>"
      ]
     },
     "metadata": {},
     "output_type": "display_data"
    },
    {
     "data": {
      "text/html": [
       "<h3>trad</h3>"
      ],
      "text/plain": [
       "<IPython.core.display.HTML object>"
      ]
     },
     "metadata": {},
     "output_type": "display_data"
    },
    {
     "data": {
      "text/html": [
       "<table border=\"1\" class=\"dataframe\">\n",
       "  <thead>\n",
       "    <tr style=\"text-align: right;\">\n",
       "      <th></th>\n",
       "      <th>url</th>\n",
       "      <th>title</th>\n",
       "    </tr>\n",
       "  </thead>\n",
       "  <tbody>\n",
       "    <tr>\n",
       "      <th>1003</th>\n",
       "      <td>https://www.cnnbrasil.com.br/saude/2020/03/25/governo-de-brasilia-registra-primeiro-paciente-de-coronavirus-recuperado</td>\n",
       "      <td>Governo de Brasília registra primeiro paciente de coronavírus recuperado</td>\n",
       "    </tr>\n",
       "    <tr>\n",
       "      <th>1508</th>\n",
       "      <td>https://www.cnnbrasil.com.br/esporte/2020/03/11/golden-state-warriors-jogara-sem-publico-por-causa-do-coronavirus</td>\n",
       "      <td>Golden State Warriors jogará sem público por causa do coronavírus</td>\n",
       "    </tr>\n",
       "    <tr>\n",
       "      <th>930</th>\n",
       "      <td>https://www.cnnbrasil.com.br/nacional/2020/03/27/sp-podera-sacar-r-53-milhoes-de-disputa-com-uber-para-combater-coronavirus</td>\n",
       "      <td>SP poderá sacar R$ 53 milhões de disputa com Uber para combater coronavírus</td>\n",
       "    </tr>\n",
       "  </tbody>\n",
       "</table>"
      ],
      "text/plain": [
       "<IPython.core.display.HTML object>"
      ]
     },
     "metadata": {},
     "output_type": "display_data"
    },
    {
     "data": {
      "text/html": [
       "<h3>trump</h3>"
      ],
      "text/plain": [
       "<IPython.core.display.HTML object>"
      ]
     },
     "metadata": {},
     "output_type": "display_data"
    },
    {
     "data": {
      "text/html": [
       "<table border=\"1\" class=\"dataframe\">\n",
       "  <thead>\n",
       "    <tr style=\"text-align: right;\">\n",
       "      <th></th>\n",
       "      <th>url</th>\n",
       "      <th>title</th>\n",
       "    </tr>\n",
       "  </thead>\n",
       "  <tbody>\n",
       "    <tr>\n",
       "      <th>1349</th>\n",
       "      <td>https://www.cnnbrasil.com.br/politica/2020/03/16/reuniao-toffoli-stf-coronavirus</td>\n",
       "      <td>Em encontro de cúpula sobre coronavírus, Toffoli não convida Bolsonaro</td>\n",
       "    </tr>\n",
       "    <tr>\n",
       "      <th>696</th>\n",
       "      <td>https://www.cnnbrasil.com.br/internacional/2020/04/07/apos-ataques-mutuos-biden-e-trump-tem-conversa-amigavel-sobre-coronavirus</td>\n",
       "      <td>Após ataques mútuos, Biden e Trump têm 'conversa amigável' sobre coronavírus</td>\n",
       "    </tr>\n",
       "    <tr>\n",
       "      <th>1309</th>\n",
       "      <td>https://www.cnnbrasil.com.br/politica/2020/03/17/rosa-weber-anuncia-cancelamento-de-eleicao-suplementar-de-senador-em-mato-grosso</td>\n",
       "      <td>Rosa Weber cancela eleição suplementar de senador em MT por coronavírus</td>\n",
       "    </tr>\n",
       "  </tbody>\n",
       "</table>"
      ],
      "text/plain": [
       "<IPython.core.display.HTML object>"
      ]
     },
     "metadata": {},
     "output_type": "display_data"
    },
    {
     "data": {
      "text/html": [
       "<h3>japonês</h3>"
      ],
      "text/plain": [
       "<IPython.core.display.HTML object>"
      ]
     },
     "metadata": {},
     "output_type": "display_data"
    },
    {
     "data": {
      "text/html": [
       "<table border=\"1\" class=\"dataframe\">\n",
       "  <thead>\n",
       "    <tr style=\"text-align: right;\">\n",
       "      <th></th>\n",
       "      <th>url</th>\n",
       "      <th>title</th>\n",
       "    </tr>\n",
       "  </thead>\n",
       "  <tbody>\n",
       "    <tr>\n",
       "      <th>1064</th>\n",
       "      <td>https://www.cnnbrasil.com.br/business/2020/03/23/empresarios-da-construcao-civil-debatem-impactos-do-coronavirus-no-setor</td>\n",
       "      <td>Empresários da construção civil debatem impactos do coronavírus no setor</td>\n",
       "    </tr>\n",
       "    <tr>\n",
       "      <th>1162</th>\n",
       "      <td>https://www.cnnbrasil.com.br/politica/2020/03/20/coronavirus-adia-julgamento-de-lula-no-trf-4</td>\n",
       "      <td>Coronavírus adia julgamento de Lula no TRF-4</td>\n",
       "    </tr>\n",
       "    <tr>\n",
       "      <th>1145</th>\n",
       "      <td>https://www.cnnbrasil.com.br/nacional/2020/03/20/governo-autoriza-motorista-a-dirigir-com-cnh-vencida-devido-ao-coronavirus</td>\n",
       "      <td>Governo autoriza motorista a dirigir com CNH vencida devido ao coronavírus</td>\n",
       "    </tr>\n",
       "  </tbody>\n",
       "</table>"
      ],
      "text/plain": [
       "<IPython.core.display.HTML object>"
      ]
     },
     "metadata": {},
     "output_type": "display_data"
    },
    {
     "data": {
      "text/html": [
       "<h3>morto</h3>"
      ],
      "text/plain": [
       "<IPython.core.display.HTML object>"
      ]
     },
     "metadata": {},
     "output_type": "display_data"
    },
    {
     "data": {
      "text/html": [
       "<table border=\"1\" class=\"dataframe\">\n",
       "  <thead>\n",
       "    <tr style=\"text-align: right;\">\n",
       "      <th></th>\n",
       "      <th>url</th>\n",
       "      <th>title</th>\n",
       "    </tr>\n",
       "  </thead>\n",
       "  <tbody>\n",
       "    <tr>\n",
       "      <th>1301</th>\n",
       "      <td>https://www.cnnbrasil.com.br/politica/2020/03/17/analise-internacao-compulsoria-e-medida-extrema-para-conter-alta-de-coronavirus</td>\n",
       "      <td>Análise: internação compulsória é medida extrema para conter alta de coronavírus</td>\n",
       "    </tr>\n",
       "    <tr>\n",
       "      <th>1037</th>\n",
       "      <td>https://www.cnnbrasil.com.br/politica/2020/03/24/analise-coronavirus-se-tornou-problema-economico-gravissimo</td>\n",
       "      <td>Análise: Coronavírus se tornou problema econômico gravíssimo</td>\n",
       "    </tr>\n",
       "    <tr>\n",
       "      <th>1379</th>\n",
       "      <td>https://www.cnnbrasil.com.br/nacional/2020/03/16/analise-autoridades-ainda-nao-perceberam-que-tem-o-coronavirus-como-inimigo</td>\n",
       "      <td>Análise: Autoridades ainda não perceberam que têm o coronavírus como inimigo</td>\n",
       "    </tr>\n",
       "  </tbody>\n",
       "</table>"
      ],
      "text/plain": [
       "<IPython.core.display.HTML object>"
      ]
     },
     "metadata": {},
     "output_type": "display_data"
    }
   ],
   "source": [
    "def calculate_mean_word2vec(text):\n",
    "    vectors = []\n",
    "    for word in text.split():\n",
    "        try:\n",
    "            vectors.append(word_vectors[word.strip()])\n",
    "        except:\n",
    "            pass\n",
    "    return numpy.mean(vectors, axis=0)\n",
    "    \n",
    "def most_similar_rows(df, col_name, vector, top_n=3):\n",
    "    df['cosine'] = df[col_name].apply(lambda a: numpy.dot(a, vector) / (numpy.linalg.norm(a) * numpy.linalg.norm(vector)))\n",
    "    df = df.sort_values(by=['cosine'], ascending=False)\n",
    "    return df[['url', 'title']][:top_n]\n",
    "\n",
    "\n",
    "# Calcula o vetor médio de cada texto\n",
    "dataset['mean_word_vector'] = dataset.text.apply(calculate_mean_word2vec)\n",
    "\n",
    "for model_name, model_path in MODEL_LIST:\n",
    "    embedding = KeyedVectors.load_word2vec_format(model_path)\n",
    "    word_vectors = embedding.wv\n",
    "    display(HTML('<h2>Modelo - %s</h2>' % model_name))\n",
    "    for search_word in search_words:\n",
    "        display(HTML(f'<h3>{search_word}</h3>'))\n",
    "        display(HTML(most_similar_rows(dataset, 'mean_word_vector', word_vectors[search_word]).to_html()))"
   ]
  },
  {
   "cell_type": "markdown",
   "metadata": {
    "colab_type": "text",
    "id": "ioMMzskRq_g-"
   },
   "source": [
    "# Agrupamento\n",
    "\n",
    "Realizar um agrupamento dos dados através das seguintes etapas:\n",
    "\n",
    "* Aplicar o algotimo __PCA__ preservando _95%_ da variância nos dados\n",
    "* Aplicar o algoritmo ___k_-means__ nos dados projetados, utilizando o método _elbow_ para encontrar o valor de _k_ ótimo"
   ]
  },
  {
   "cell_type": "markdown",
   "metadata": {
    "colab_type": "text",
    "id": "nyoPktp85HIH"
   },
   "source": [
    "Vamos realizar _stemming_ no texto pré-processado e vetorizar o resultado:"
   ]
  },
  {
   "cell_type": "code",
   "execution_count": 20,
   "metadata": {
    "colab": {},
    "colab_type": "code",
    "executionInfo": {
     "elapsed": 37492,
     "status": "ok",
     "timestamp": 1595629166782,
     "user": {
      "displayName": "Hugo Tallys Martins Oliveira",
      "photoUrl": "",
      "userId": "01749757928754934577"
     },
     "user_tz": 180
    },
    "id": "4BVl7RAxxLtv"
   },
   "outputs": [],
   "source": [
    "X = numpy.array([vector for vector in dataset.mean_word_vector.values])"
   ]
  },
  {
   "cell_type": "code",
   "execution_count": 21,
   "metadata": {
    "colab": {},
    "colab_type": "code",
    "executionInfo": {
     "elapsed": 56794,
     "status": "ok",
     "timestamp": 1595629186090,
     "user": {
      "displayName": "Hugo Tallys Martins Oliveira",
      "photoUrl": "",
      "userId": "01749757928754934577"
     },
     "user_tz": 180
    },
    "id": "rt24OAGJscMv"
   },
   "outputs": [],
   "source": [
    "X_proj = PCA(n_components=.95).fit_transform(X)"
   ]
  },
  {
   "cell_type": "markdown",
   "metadata": {
    "colab_type": "text",
    "id": "ufVOsNSI6BGo"
   },
   "source": [
    "Dimensão dos pontos projetados: "
   ]
  },
  {
   "cell_type": "code",
   "execution_count": 22,
   "metadata": {
    "colab": {
     "base_uri": "https://localhost:8080/",
     "height": 34
    },
    "colab_type": "code",
    "executionInfo": {
     "elapsed": 56790,
     "status": "ok",
     "timestamp": 1595629186096,
     "user": {
      "displayName": "Hugo Tallys Martins Oliveira",
      "photoUrl": "",
      "userId": "01749757928754934577"
     },
     "user_tz": 180
    },
    "id": "eqnRruRvsyB3",
    "outputId": "d5f976ac-d710-42bd-b634-d2fbcfb41530"
   },
   "outputs": [
    {
     "data": {
      "text/plain": [
       "67"
      ]
     },
     "execution_count": 22,
     "metadata": {},
     "output_type": "execute_result"
    }
   ],
   "source": [
    "X_proj.shape[1]"
   ]
  },
  {
   "cell_type": "markdown",
   "metadata": {
    "colab_type": "text",
    "id": "E20H59CG9aiZ"
   },
   "source": [
    "Plotando o gráfico da distorção:"
   ]
  },
  {
   "cell_type": "code",
   "execution_count": 23,
   "metadata": {
    "colab": {
     "base_uri": "https://localhost:8080/",
     "height": 393
    },
    "colab_type": "code",
    "executionInfo": {
     "elapsed": 140194,
     "status": "ok",
     "timestamp": 1595629269511,
     "user": {
      "displayName": "Hugo Tallys Martins Oliveira",
      "photoUrl": "",
      "userId": "01749757928754934577"
     },
     "user_tz": 180
    },
    "id": "xqRH3-onE58e",
    "outputId": "3eeac0e5-80a6-4861-a3dd-ee482b3a3ca3"
   },
   "outputs": [
    {
     "data": {
      "image/png": "[encoded data removed]",
      "text/plain": [
       "<Figure size 576x396 with 2 Axes>"
      ]
     },
     "metadata": {},
     "output_type": "display_data"
    },
    {
     "data": {
      "text/plain": [
       "<matplotlib.axes._subplots.AxesSubplot at 0x1c47bbcd340>"
      ]
     },
     "execution_count": 23,
     "metadata": {},
     "output_type": "execute_result"
    }
   ],
   "source": [
    "visualizer = KElbowVisualizer(KMeans(), k=(15, 30), metric='distortion')\n",
    "visualizer.fit(X_proj)\n",
    "visualizer.show() "
   ]
  },
  {
   "cell_type": "markdown",
   "metadata": {
    "colab_type": "text",
    "id": "ArA7G7cR_mSx"
   },
   "source": [
    "Observando o gráfico acima escolhemos $k=20$"
   ]
  },
  {
   "cell_type": "code",
   "execution_count": 24,
   "metadata": {
    "colab": {},
    "colab_type": "code",
    "executionInfo": {
     "elapsed": 145274,
     "status": "ok",
     "timestamp": 1595629274602,
     "user": {
      "displayName": "Hugo Tallys Martins Oliveira",
      "photoUrl": "",
      "userId": "01749757928754934577"
     },
     "user_tz": 180
    },
    "id": "aoabBDzMvKAl"
   },
   "outputs": [],
   "source": [
    "k = 20\n",
    "kmeans = KMeans(n_clusters=k).fit(X_proj)"
   ]
  },
  {
   "cell_type": "markdown",
   "metadata": {
    "colab_type": "text",
    "id": "aX4399dm_xxr"
   },
   "source": [
    "Projetando os pontos no espaço de visualização via __TSNE__:"
   ]
  },
  {
   "cell_type": "code",
   "execution_count": 25,
   "metadata": {
    "colab": {},
    "colab_type": "code",
    "executionInfo": {
     "elapsed": 166282,
     "status": "ok",
     "timestamp": 1595629295616,
     "user": {
      "displayName": "Hugo Tallys Martins Oliveira",
      "photoUrl": "",
      "userId": "01749757928754934577"
     },
     "user_tz": 180
    },
    "id": "DSZ34FVH0xCI"
   },
   "outputs": [],
   "source": [
    "start_time = time.time()\n",
    "X_tsne = TSNE(n_components=2).fit_transform(X_proj)\n",
    "interval_time = time.time() - start_time"
   ]
  },
  {
   "cell_type": "markdown",
   "metadata": {
    "colab_type": "text",
    "id": "vLORlSi5BXBa"
   },
   "source": [
    "Tempo de execução:"
   ]
  },
  {
   "cell_type": "code",
   "execution_count": 26,
   "metadata": {
    "colab": {
     "base_uri": "https://localhost:8080/",
     "height": 34
    },
    "colab_type": "code",
    "executionInfo": {
     "elapsed": 166278,
     "status": "ok",
     "timestamp": 1595629295619,
     "user": {
      "displayName": "Hugo Tallys Martins Oliveira",
      "photoUrl": "",
      "userId": "01749757928754934577"
     },
     "user_tz": 180
    },
    "id": "sDViswxpBY9S",
    "outputId": "15852877-185e-4394-b144-74487b20fa60"
   },
   "outputs": [
    {
     "name": "stdout",
     "output_type": "stream",
     "text": [
      "12.227086782455444 segundos\n"
     ]
    }
   ],
   "source": [
    "print('%s segundos' % interval_time)"
   ]
  },
  {
   "cell_type": "markdown",
   "metadata": {
    "colab_type": "text",
    "id": "1-d-ycNSBom-"
   },
   "source": [
    "Gráfico de dispersão dos pontos:"
   ]
  },
  {
   "cell_type": "code",
   "execution_count": 27,
   "metadata": {
    "colab": {},
    "colab_type": "code",
    "executionInfo": {
     "elapsed": 166271,
     "status": "ok",
     "timestamp": 1595629295622,
     "user": {
      "displayName": "Hugo Tallys Martins Oliveira",
      "photoUrl": "",
      "userId": "01749757928754934577"
     },
     "user_tz": 180
    },
    "id": "8Jjd_wKHK5ic"
   },
   "outputs": [],
   "source": [
    "color_palette = Category20[k]"
   ]
  },
  {
   "cell_type": "code",
   "execution_count": 28,
   "metadata": {
    "colab": {
     "base_uri": "https://localhost:8080/",
     "height": 517
    },
    "colab_type": "code",
    "executionInfo": {
     "elapsed": 166266,
     "status": "ok",
     "timestamp": 1595629295625,
     "user": {
      "displayName": "Hugo Tallys Martins Oliveira",
      "photoUrl": "",
      "userId": "01749757928754934577"
     },
     "user_tz": 180
    },
    "id": "CCKkKx1GDHSv",
    "outputId": "1bb5a893-b6bc-41f1-e09c-393c0f684ec0"
   },
   "outputs": [
    {
     "data": {
      "text/html": [
       "\n",
       "\n",
       "\n",
       "\n",
       "\n",
       "\n",
       "  <div class=\"bk-root\" id=\"d9965413-3e24-482a-a013-816f4131c9ce\" data-root-id=\"1002\"></div>\n"
      ]
     },
     "metadata": {},
     "output_type": "display_data"
    },
    {
     "data": {
      "application/javascript": [
       "(function(root) {\n",
       "  function embed_document(root) {\n",
       "    \n",
       "  var docs_json = {\"1cb2764c-7b9a-49ef-ab47-f72806292354\":{\"roots\":{\"references\":[{\"attributes\":{\"below\":[{\"id\":\"1011\"}],\"center\":[{\"id\":\"1014\"},{\"id\":\"1018\"}],\"left\":[{\"id\":\"1015\"}],\"plot_height\":500,\"plot_width\":1000,\"renderers\":[{\"id\":\"1036\"}],\"title\":{\"id\":\"1039\"},\"toolbar\":{\"id\":\"1026\"},\"x_range\":{\"id\":\"1003\"},\"x_scale\":{\"id\":\"1007\"},\"y_range\":{\"id\":\"1005\"},\"y_scale\":{\"id\":\"1009\"}},\"id\":\"1002\",\"subtype\":\"Figure\",\"type\":\"Plot\"},{\"attributes\":{},\"id\":\"1016\",\"type\":\"BasicTicker\"},{\"attributes\":{},\"id\":\"1007\",\"type\":\"LinearScale\"},{\"attributes\":{\"formatter\":{\"id\":\"1042\"},\"ticker\":{\"id\":\"1016\"}},\"id\":\"1015\",\"type\":\"LinearAxis\"},{\"attributes\":{},\"id\":\"1012\",\"type\":\"BasicTicker\"},{\"attributes\":{},\"id\":\"1042\",\"type\":\"BasicTickFormatter\"},{\"attributes\":{\"active_drag\":\"auto\",\"active_inspect\":\"auto\",\"active_multi\":null,\"active_scroll\":\"auto\",\"active_tap\":\"auto\",\"tools\":[{\"id\":\"1019\"},{\"id\":\"1020\"},{\"id\":\"1021\"},{\"id\":\"1022\"},{\"id\":\"1023\"},{\"id\":\"1024\"}]},\"id\":\"1026\",\"type\":\"Toolbar\"},{\"attributes\":{},\"id\":\"1020\",\"type\":\"WheelZoomTool\"},{\"attributes\":{},\"id\":\"1045\",\"type\":\"Selection\"},{\"attributes\":{},\"id\":\"1005\",\"type\":\"DataRange1d\"},{\"attributes\":{\"source\":{\"id\":\"1033\"}},\"id\":\"1037\",\"type\":\"CDSView\"},{\"attributes\":{},\"id\":\"1003\",\"type\":\"DataRange1d\"},{\"attributes\":{},\"id\":\"1019\",\"type\":\"PanTool\"},{\"attributes\":{\"axis\":{\"id\":\"1015\"},\"dimension\":1,\"ticker\":null},\"id\":\"1018\",\"type\":\"Grid\"},{\"attributes\":{\"axis\":{\"id\":\"1011\"},\"ticker\":null},\"id\":\"1014\",\"type\":\"Grid\"},{\"attributes\":{},\"id\":\"1040\",\"type\":\"BasicTickFormatter\"},{\"attributes\":{\"data_source\":{\"id\":\"1033\"},\"glyph\":{\"id\":\"1034\"},\"hover_glyph\":null,\"muted_glyph\":null,\"nonselection_glyph\":{\"id\":\"1035\"},\"selection_glyph\":null,\"view\":{\"id\":\"1037\"}},\"id\":\"1036\",\"type\":\"GlyphRenderer\"},{\"attributes\":{},\"id\":\"1024\",\"type\":\"HelpTool\"},{\"attributes\":{},\"id\":\"1023\",\"type\":\"ResetTool\"},{\"attributes\":{\"data\":{\"fill_color\":[\"#d62728\",\"#1f77b4\",\"#9467bd\",\"#7f7f7f\",\"#9467bd\",\"#ff7f0e\",\"#7f7f7f\",\"#9467bd\",\"#ff7f0e\",\"#aec7e8\",\"#9467bd\",\"#aec7e8\",\"#aec7e8\",\"#9467bd\",\"#ff7f0e\",\"#9edae5\",\"#ff7f0e\",\"#7f7f7f\",\"#7f7f7f\",\"#aec7e8\",\"#aec7e8\",\"#7f7f7f\",\"#9467bd\",\"#ff7f0e\",\"#ff7f0e\",\"#7f7f7f\",\"#aec7e8\",\"#ff7f0e\",\"#ff7f0e\",\"#ff7f0e\",\"#7f7f7f\",\"#ff7f0e\",\"#9edae5\",\"#7f7f7f\",\"#9edae5\",\"#7f7f7f\",\"#9467bd\",\"#7f7f7f\",\"#f7b6d2\",\"#7f7f7f\",\"#ff7f0e\",\"#dbdb8d\",\"#c7c7c7\",\"#7f7f7f\",\"#ff7f0e\",\"#ff7f0e\",\"#7f7f7f\",\"#ff7f0e\",\"#7f7f7f\",\"#dbdb8d\",\"#aec7e8\",\"#7f7f7f\",\"#ff7f0e\",\"#7f7f7f\",\"#7f7f7f\",\"#aec7e8\",\"#d62728\",\"#d62728\",\"#aec7e8\",\"#7f7f7f\",\"#ff7f0e\",\"#7f7f7f\",\"#aec7e8\",\"#9467bd\",\"#aec7e8\",\"#1f77b4\",\"#7f7f7f\",\"#7f7f7f\",\"#ff7f0e\",\"#aec7e8\",\"#c7c7c7\",\"#9edae5\",\"#7f7f7f\",\"#bcbd22\",\"#17becf\",\"#aec7e8\",\"#7f7f7f\",\"#7f7f7f\",\"#ff7f0e\",\"#9467bd\",\"#aec7e8\",\"#9edae5\",\"#7f7f7f\",\"#9edae5\",\"#7f7f7f\",\"#9edae5\",\"#c7c7c7\",\"#1f77b4\",\"#c5b0d5\",\"#9edae5\",\"#ff7f0e\",\"#aec7e8\",\"#c5b0d5\",\"#1f77b4\",\"#ff7f0e\",\"#ff7f0e\",\"#9467bd\",\"#9edae5\",\"#ff7f0e\",\"#aec7e8\",\"#ff7f0e\",\"#9edae5\",\"#9467bd\",\"#7f7f7f\",\"#1f77b4\",\"#ff7f0e\",\"#1f77b4\",\"#aec7e8\",\"#7f7f7f\",\"#7f7f7f\",\"#7f7f7f\",\"#ff7f0e\",\"#aec7e8\",\"#aec7e8\",\"#7f7f7f\",\"#ff7f0e\",\"#7f7f7f\",\"#9467bd\",\"#aec7e8\",\"#9edae5\",\"#c7c7c7\",\"#7f7f7f\",\"#7f7f7f\",\"#aec7e8\",\"#ff7f0e\",\"#7f7f7f\",\"#ff7f0e\",\"#7f7f7f\",\"#ff7f0e\",\"#ff7f0e\",\"#7f7f7f\",\"#9467bd\",\"#dbdb8d\",\"#ff7f0e\",\"#7f7f7f\",\"#7f7f7f\",\"#aec7e8\",\"#9edae5\",\"#9edae5\",\"#aec7e8\",\"#7f7f7f\",\"#7f7f7f\",\"#aec7e8\",\"#aec7e8\",\"#aec7e8\",\"#7f7f7f\",\"#c5b0d5\",\"#7f7f7f\",\"#aec7e8\",\"#9edae5\",\"#7f7f7f\",\"#1f77b4\",\"#9edae5\",\"#9edae5\",\"#9edae5\",\"#aec7e8\",\"#7f7f7f\",\"#9edae5\",\"#7f7f7f\",\"#9467bd\",\"#aec7e8\",\"#aec7e8\",\"#9467bd\",\"#9edae5\",\"#1f77b4\",\"#7f7f7f\",\"#aec7e8\",\"#7f7f7f\",\"#7f7f7f\",\"#9467bd\",\"#ff7f0e\",\"#aec7e8\",\"#ff7f0e\",\"#aec7e8\",\"#ff7f0e\",\"#ff7f0e\",\"#ff7f0e\",\"#7f7f7f\",\"#c49c94\",\"#aec7e8\",\"#9edae5\",\"#9edae5\",\"#7f7f7f\",\"#9467bd\",\"#9edae5\",\"#9edae5\",\"#ff7f0e\",\"#aec7e8\",\"#7f7f7f\",\"#7f7f7f\",\"#7f7f7f\",\"#d62728\",\"#d62728\",\"#7f7f7f\",\"#ff7f0e\",\"#c5b0d5\",\"#7f7f7f\",\"#1f77b4\",\"#ff7f0e\",\"#1f77b4\",\"#ff7f0e\",\"#7f7f7f\",\"#9467bd\",\"#aec7e8\",\"#f7b6d2\",\"#1f77b4\",\"#ff7f0e\",\"#ff7f0e\",\"#aec7e8\",\"#ff7f0e\",\"#aec7e8\",\"#7f7f7f\",\"#aec7e8\",\"#ff7f0e\",\"#7f7f7f\",\"#9edae5\",\"#dbdb8d\",\"#7f7f7f\",\"#c49c94\",\"#9467bd\",\"#aec7e8\",\"#1f77b4\",\"#ff7f0e\",\"#9edae5\",\"#7f7f7f\",\"#7f7f7f\",\"#9edae5\",\"#ff7f0e\",\"#9edae5\",\"#ff7f0e\",\"#aec7e8\",\"#ff7f0e\",\"#aec7e8\",\"#7f7f7f\",\"#ff7f0e\",\"#9edae5\",\"#7f7f7f\",\"#9467bd\",\"#ff7f0e\",\"#9edae5\",\"#dbdb8d\",\"#aec7e8\",\"#aec7e8\",\"#9467bd\",\"#ff7f0e\",\"#7f7f7f\",\"#ff7f0e\",\"#7f7f7f\",\"#7f7f7f\",\"#aec7e8\",\"#9edae5\",\"#1f77b4\",\"#7f7f7f\",\"#aec7e8\",\"#7f7f7f\",\"#7f7f7f\",\"#ff7f0e\",\"#aec7e8\",\"#9467bd\",\"#ff7f0e\",\"#7f7f7f\",\"#c5b0d5\",\"#f7b6d2\",\"#aec7e8\",\"#7f7f7f\",\"#aec7e8\",\"#7f7f7f\",\"#ff7f0e\",\"#aec7e8\",\"#7f7f7f\",\"#7f7f7f\",\"#ff7f0e\",\"#aec7e8\",\"#9edae5\",\"#9edae5\",\"#8c564b\",\"#aec7e8\",\"#aec7e8\",\"#7f7f7f\",\"#aec7e8\",\"#ff7f0e\",\"#aec7e8\",\"#7f7f7f\",\"#7f7f7f\",\"#7f7f7f\",\"#9edae5\",\"#7f7f7f\",\"#ff9896\",\"#ff7f0e\",\"#aec7e8\",\"#7f7f7f\",\"#1f77b4\",\"#7f7f7f\",\"#aec7e8\",\"#1f77b4\",\"#7f7f7f\",\"#7f7f7f\",\"#f7b6d2\",\"#aec7e8\",\"#d62728\",\"#8c564b\",\"#7f7f7f\",\"#7f7f7f\",\"#aec7e8\",\"#9467bd\",\"#7f7f7f\",\"#aec7e8\",\"#9edae5\",\"#9edae5\",\"#9edae5\",\"#1f77b4\",\"#7f7f7f\",\"#7f7f7f\",\"#aec7e8\",\"#7f7f7f\",\"#7f7f7f\",\"#7f7f7f\",\"#1f77b4\",\"#dbdb8d\",\"#dbdb8d\",\"#1f77b4\",\"#ff7f0e\",\"#ff7f0e\",\"#7f7f7f\",\"#c5b0d5\",\"#7f7f7f\",\"#ff7f0e\",\"#7f7f7f\",\"#ff7f0e\",\"#aec7e8\",\"#aec7e8\",\"#7f7f7f\",\"#9edae5\",\"#7f7f7f\",\"#7f7f7f\",\"#7f7f7f\",\"#7f7f7f\",\"#ff7f0e\",\"#9edae5\",\"#9467bd\",\"#aec7e8\",\"#aec7e8\",\"#aec7e8\",\"#9467bd\",\"#aec7e8\",\"#ff7f0e\",\"#ff7f0e\",\"#ff7f0e\",\"#ff7f0e\",\"#7f7f7f\",\"#8c564b\",\"#c7c7c7\",\"#7f7f7f\",\"#aec7e8\",\"#c7c7c7\",\"#7f7f7f\",\"#9467bd\",\"#c49c94\",\"#d62728\",\"#9edae5\",\"#c5b0d5\",\"#d62728\",\"#1f77b4\",\"#9467bd\",\"#bcbd22\",\"#8c564b\",\"#7f7f7f\",\"#ff9896\",\"#c49c94\",\"#7f7f7f\",\"#1f77b4\",\"#f7b6d2\",\"#1f77b4\",\"#9edae5\",\"#c49c94\",\"#c7c7c7\",\"#9467bd\",\"#bcbd22\",\"#9467bd\",\"#c5b0d5\",\"#7f7f7f\",\"#ff7f0e\",\"#9edae5\",\"#ff7f0e\",\"#9edae5\",\"#ff9896\",\"#9467bd\",\"#d62728\",\"#9467bd\",\"#aec7e8\",\"#9edae5\",\"#bcbd22\",\"#7f7f7f\",\"#9467bd\",\"#c5b0d5\",\"#9467bd\",\"#c7c7c7\",\"#1f77b4\",\"#ff7f0e\",\"#9467bd\",\"#7f7f7f\",\"#1f77b4\",\"#7f7f7f\",\"#98df8a\",\"#1f77b4\",\"#7f7f7f\",\"#9edae5\",\"#c7c7c7\",\"#d62728\",\"#c5b0d5\",\"#dbdb8d\",\"#9467bd\",\"#bcbd22\",\"#dbdb8d\",\"#1f77b4\",\"#98df8a\",\"#dbdb8d\",\"#9edae5\",\"#ff9896\",\"#8c564b\",\"#d62728\",\"#ff7f0e\",\"#c49c94\",\"#c5b0d5\",\"#9467bd\",\"#9467bd\",\"#9467bd\",\"#1f77b4\",\"#d62728\",\"#d62728\",\"#98df8a\",\"#f7b6d2\",\"#c7c7c7\",\"#9edae5\",\"#c5b0d5\",\"#d62728\",\"#9edae5\",\"#9edae5\",\"#c5b0d5\",\"#aec7e8\",\"#9467bd\",\"#c5b0d5\",\"#ff9896\",\"#2ca02c\",\"#1f77b4\",\"#98df8a\",\"#d62728\",\"#e377c2\",\"#c7c7c7\",\"#9467bd\",\"#9467bd\",\"#9467bd\",\"#aec7e8\",\"#9467bd\",\"#c7c7c7\",\"#c7c7c7\",\"#ff7f0e\",\"#7f7f7f\",\"#aec7e8\",\"#9467bd\",\"#9467bd\",\"#bcbd22\",\"#1f77b4\",\"#9edae5\",\"#bcbd22\",\"#ff7f0e\",\"#1f77b4\",\"#9edae5\",\"#ff7f0e\",\"#d62728\",\"#9edae5\",\"#aec7e8\",\"#9edae5\",\"#7f7f7f\",\"#7f7f7f\",\"#98df8a\",\"#7f7f7f\",\"#7f7f7f\",\"#ff7f0e\",\"#ff7f0e\",\"#d62728\",\"#98df8a\",\"#7f7f7f\",\"#9467bd\",\"#9edae5\",\"#aec7e8\",\"#bcbd22\",\"#d62728\",\"#9467bd\",\"#9edae5\",\"#7f7f7f\",\"#f7b6d2\",\"#c49c94\",\"#aec7e8\",\"#ff7f0e\",\"#c5b0d5\",\"#f7b6d2\",\"#aec7e8\",\"#ff9896\",\"#9edae5\",\"#d62728\",\"#9467bd\",\"#aec7e8\",\"#ff9896\",\"#c5b0d5\",\"#98df8a\",\"#98df8a\",\"#c7c7c7\",\"#7f7f7f\",\"#9467bd\",\"#ff9896\",\"#9467bd\",\"#7f7f7f\",\"#8c564b\",\"#98df8a\",\"#c49c94\",\"#bcbd22\",\"#7f7f7f\",\"#9edae5\",\"#9467bd\",\"#d62728\",\"#dbdb8d\",\"#e377c2\",\"#ff7f0e\",\"#c49c94\",\"#c7c7c7\",\"#c49c94\",\"#bcbd22\",\"#9edae5\",\"#bcbd22\",\"#c5b0d5\",\"#c5b0d5\",\"#dbdb8d\",\"#aec7e8\",\"#c7c7c7\",\"#7f7f7f\",\"#9467bd\",\"#1f77b4\",\"#bcbd22\",\"#c7c7c7\",\"#ff7f0e\",\"#c5b0d5\",\"#1f77b4\",\"#bcbd22\",\"#98df8a\",\"#c7c7c7\",\"#9467bd\",\"#bcbd22\",\"#bcbd22\",\"#c7c7c7\",\"#8c564b\",\"#7f7f7f\",\"#7f7f7f\",\"#9edae5\",\"#ff9896\",\"#d62728\",\"#9edae5\",\"#f7b6d2\",\"#c5b0d5\",\"#c49c94\",\"#ff7f0e\",\"#bcbd22\",\"#9467bd\",\"#7f7f7f\",\"#8c564b\",\"#c49c94\",\"#f7b6d2\",\"#7f7f7f\",\"#ff7f0e\",\"#9edae5\",\"#aec7e8\",\"#ff9896\",\"#bcbd22\",\"#dbdb8d\",\"#9467bd\",\"#dbdb8d\",\"#9467bd\",\"#9edae5\",\"#ff7f0e\",\"#9467bd\",\"#f7b6d2\",\"#7f7f7f\",\"#8c564b\",\"#ff9896\",\"#8c564b\",\"#f7b6d2\",\"#f7b6d2\",\"#9467bd\",\"#d62728\",\"#bcbd22\",\"#9edae5\",\"#ff9896\",\"#ff9896\",\"#dbdb8d\",\"#d62728\",\"#d62728\",\"#aec7e8\",\"#1f77b4\",\"#c5b0d5\",\"#bcbd22\",\"#ff9896\",\"#7f7f7f\",\"#c5b0d5\",\"#bcbd22\",\"#bcbd22\",\"#bcbd22\",\"#c7c7c7\",\"#ff9896\",\"#ff9896\",\"#aec7e8\",\"#7f7f7f\",\"#7f7f7f\",\"#f7b6d2\",\"#9467bd\",\"#c7c7c7\",\"#98df8a\",\"#bcbd22\",\"#9467bd\",\"#7f7f7f\",\"#9467bd\",\"#bcbd22\",\"#98df8a\",\"#ff7f0e\",\"#9edae5\",\"#c5b0d5\",\"#f7b6d2\",\"#9467bd\",\"#aec7e8\",\"#c7c7c7\",\"#c7c7c7\",\"#d62728\",\"#9467bd\",\"#f7b6d2\",\"#9467bd\",\"#dbdb8d\",\"#ff7f0e\",\"#9edae5\",\"#7f7f7f\",\"#c7c7c7\",\"#dbdb8d\",\"#7f7f7f\",\"#ff7f0e\",\"#bcbd22\",\"#7f7f7f\",\"#9edae5\",\"#2ca02c\",\"#2ca02c\",\"#9edae5\",\"#ff9896\",\"#f7b6d2\",\"#ff9896\",\"#ff7f0e\",\"#c49c94\",\"#7f7f7f\",\"#dbdb8d\",\"#9467bd\",\"#e377c2\",\"#1f77b4\",\"#ff7f0e\",\"#c49c94\",\"#9edae5\",\"#bcbd22\",\"#98df8a\",\"#aec7e8\",\"#9467bd\",\"#98df8a\",\"#9467bd\",\"#1f77b4\",\"#1f77b4\",\"#9467bd\",\"#f7b6d2\",\"#7f7f7f\",\"#aec7e8\",\"#bcbd22\",\"#e377c2\",\"#c7c7c7\",\"#98df8a\",\"#c49c94\",\"#c49c94\",\"#7f7f7f\",\"#bcbd22\",\"#98df8a\",\"#d62728\",\"#9467bd\",\"#7f7f7f\",\"#bcbd22\",\"#c5b0d5\",\"#7f7f7f\",\"#98df8a\",\"#ff7f0e\",\"#7f7f7f\",\"#ff9896\",\"#e377c2\",\"#c5b0d5\",\"#9edae5\",\"#9467bd\",\"#dbdb8d\",\"#9edae5\",\"#bcbd22\",\"#bcbd22\",\"#1f77b4\",\"#8c564b\",\"#98df8a\",\"#aec7e8\",\"#f7b6d2\",\"#9edae5\",\"#c49c94\",\"#aec7e8\",\"#c5b0d5\",\"#d62728\",\"#bcbd22\",\"#ff7f0e\",\"#aec7e8\",\"#c5b0d5\",\"#c49c94\",\"#bcbd22\",\"#aec7e8\",\"#1f77b4\",\"#ff7f0e\",\"#ff7f0e\",\"#e377c2\",\"#c49c94\",\"#9467bd\",\"#98df8a\",\"#aec7e8\",\"#f7b6d2\",\"#ff7f0e\",\"#f7b6d2\",\"#8c564b\",\"#9467bd\",\"#2ca02c\",\"#98df8a\",\"#c49c94\",\"#ff9896\",\"#9467bd\",\"#7f7f7f\",\"#c5b0d5\",\"#bcbd22\",\"#9467bd\",\"#c5b0d5\",\"#8c564b\",\"#c7c7c7\",\"#f7b6d2\",\"#c5b0d5\",\"#1f77b4\",\"#98df8a\",\"#9edae5\",\"#7f7f7f\",\"#7f7f7f\",\"#aec7e8\",\"#f7b6d2\",\"#c49c94\",\"#9467bd\",\"#c7c7c7\",\"#ff9896\",\"#c5b0d5\",\"#aec7e8\",\"#bcbd22\",\"#98df8a\",\"#7f7f7f\",\"#7f7f7f\",\"#9edae5\",\"#aec7e8\",\"#7f7f7f\",\"#dbdb8d\",\"#9edae5\",\"#e377c2\",\"#ff9896\",\"#7f7f7f\",\"#c49c94\",\"#8c564b\",\"#7f7f7f\",\"#f7b6d2\",\"#c7c7c7\",\"#9edae5\",\"#c49c94\",\"#aec7e8\",\"#dbdb8d\",\"#c7c7c7\",\"#c7c7c7\",\"#bcbd22\",\"#98df8a\",\"#98df8a\",\"#aec7e8\",\"#1f77b4\",\"#c49c94\",\"#ff9896\",\"#98df8a\",\"#7f7f7f\",\"#ff7f0e\",\"#ff9896\",\"#9467bd\",\"#1f77b4\",\"#7f7f7f\",\"#f7b6d2\",\"#ff9896\",\"#1f77b4\",\"#1f77b4\",\"#1f77b4\",\"#9467bd\",\"#bcbd22\",\"#9467bd\",\"#1f77b4\",\"#98df8a\",\"#9edae5\",\"#9467bd\",\"#9467bd\",\"#ff9896\",\"#d62728\",\"#ff9896\",\"#9467bd\",\"#ff9896\",\"#d62728\",\"#f7b6d2\",\"#c7c7c7\",\"#f7b6d2\",\"#2ca02c\",\"#7f7f7f\",\"#dbdb8d\",\"#9edae5\",\"#c49c94\",\"#9467bd\",\"#ff7f0e\",\"#1f77b4\",\"#9467bd\",\"#c49c94\",\"#9edae5\",\"#dbdb8d\",\"#9467bd\",\"#c5b0d5\",\"#f7b6d2\",\"#f7b6d2\",\"#98df8a\",\"#bcbd22\",\"#9467bd\",\"#9467bd\",\"#c7c7c7\",\"#c7c7c7\",\"#9467bd\",\"#8c564b\",\"#ff9896\",\"#7f7f7f\",\"#aec7e8\",\"#2ca02c\",\"#bcbd22\",\"#9467bd\",\"#f7b6d2\",\"#bcbd22\",\"#7f7f7f\",\"#dbdb8d\",\"#c49c94\",\"#bcbd22\",\"#98df8a\",\"#9467bd\",\"#c49c94\",\"#c49c94\",\"#9edae5\",\"#8c564b\",\"#aec7e8\",\"#ff9896\",\"#c49c94\",\"#c49c94\",\"#c49c94\",\"#bcbd22\",\"#aec7e8\",\"#c5b0d5\",\"#98df8a\",\"#9467bd\",\"#9467bd\",\"#dbdb8d\",\"#c5b0d5\",\"#1f77b4\",\"#9467bd\",\"#f7b6d2\",\"#f7b6d2\",\"#f7b6d2\",\"#1f77b4\",\"#1f77b4\",\"#aec7e8\",\"#f7b6d2\",\"#1f77b4\",\"#9467bd\",\"#9467bd\",\"#7f7f7f\",\"#ff7f0e\",\"#ff7f0e\",\"#98df8a\",\"#9467bd\",\"#c49c94\",\"#9edae5\",\"#c7c7c7\",\"#f7b6d2\",\"#aec7e8\",\"#f7b6d2\",\"#c49c94\",\"#f7b6d2\",\"#c49c94\",\"#c49c94\",\"#9edae5\",\"#9edae5\",\"#ff7f0e\",\"#aec7e8\",\"#9edae5\",\"#aec7e8\",\"#d62728\",\"#ff7f0e\",\"#98df8a\",\"#9467bd\",\"#9467bd\",\"#c49c94\",\"#7f7f7f\",\"#f7b6d2\",\"#f7b6d2\",\"#c5b0d5\",\"#98df8a\",\"#9467bd\",\"#9edae5\",\"#f7b6d2\",\"#9edae5\",\"#1f77b4\",\"#ff9896\",\"#1f77b4\",\"#9467bd\",\"#ff9896\",\"#aec7e8\",\"#98df8a\",\"#9edae5\",\"#bcbd22\",\"#ff9896\",\"#98df8a\",\"#c49c94\",\"#7f7f7f\",\"#c5b0d5\",\"#1f77b4\",\"#9edae5\",\"#9467bd\",\"#9edae5\",\"#8c564b\",\"#1f77b4\",\"#aec7e8\",\"#9edae5\",\"#9edae5\",\"#9467bd\",\"#ff9896\",\"#ff7f0e\",\"#8c564b\",\"#98df8a\",\"#c5b0d5\",\"#d62728\",\"#9edae5\",\"#9467bd\",\"#c49c94\",\"#c49c94\",\"#9edae5\",\"#2ca02c\",\"#c49c94\",\"#8c564b\",\"#f7b6d2\",\"#c49c94\",\"#c49c94\",\"#9467bd\",\"#aec7e8\",\"#9467bd\",\"#c49c94\",\"#c7c7c7\",\"#7f7f7f\",\"#bcbd22\",\"#c5b0d5\",\"#ff9896\",\"#7f7f7f\",\"#7f7f7f\",\"#aec7e8\",\"#c49c94\",\"#f7b6d2\",\"#c49c94\",\"#c49c94\",\"#7f7f7f\",\"#ff9896\",\"#1f77b4\",\"#9467bd\",\"#ff9896\",\"#c7c7c7\",\"#c7c7c7\",\"#f7b6d2\",\"#bcbd22\",\"#c5b0d5\",\"#bcbd22\",\"#dbdb8d\",\"#9edae5\",\"#7f7f7f\",\"#c7c7c7\",\"#dbdb8d\",\"#f7b6d2\",\"#ff7f0e\",\"#ff9896\",\"#dbdb8d\",\"#8c564b\",\"#dbdb8d\",\"#9467bd\",\"#7f7f7f\",\"#98df8a\",\"#2ca02c\",\"#9edae5\",\"#f7b6d2\",\"#9467bd\",\"#c49c94\",\"#dbdb8d\",\"#7f7f7f\",\"#aec7e8\",\"#bcbd22\",\"#f7b6d2\",\"#7f7f7f\",\"#2ca02c\",\"#aec7e8\",\"#9edae5\",\"#9467bd\",\"#f7b6d2\",\"#f7b6d2\",\"#ff9896\",\"#8c564b\",\"#7f7f7f\",\"#bcbd22\",\"#dbdb8d\",\"#9edae5\",\"#d62728\",\"#dbdb8d\",\"#ff9896\",\"#98df8a\",\"#c49c94\",\"#9edae5\",\"#bcbd22\",\"#9edae5\",\"#dbdb8d\",\"#9edae5\",\"#bcbd22\",\"#9467bd\",\"#c49c94\",\"#2ca02c\",\"#c49c94\",\"#7f7f7f\",\"#9467bd\",\"#bcbd22\",\"#aec7e8\",\"#ff9896\",\"#1f77b4\",\"#dbdb8d\",\"#9edae5\",\"#bcbd22\",\"#d62728\",\"#9edae5\",\"#d62728\",\"#7f7f7f\",\"#c5b0d5\",\"#9edae5\",\"#dbdb8d\",\"#9edae5\",\"#c49c94\",\"#bcbd22\",\"#aec7e8\",\"#c49c94\",\"#8c564b\",\"#ff9896\",\"#8c564b\",\"#c7c7c7\",\"#8c564b\",\"#c5b0d5\",\"#c7c7c7\",\"#98df8a\",\"#d62728\",\"#c49c94\",\"#8c564b\",\"#f7b6d2\",\"#bcbd22\",\"#bcbd22\",\"#9467bd\",\"#bcbd22\",\"#ff9896\",\"#c5b0d5\",\"#aec7e8\",\"#c49c94\",\"#8c564b\",\"#2ca02c\",\"#9edae5\",\"#9467bd\",\"#bcbd22\",\"#ff9896\",\"#9edae5\",\"#7f7f7f\",\"#aec7e8\",\"#c5b0d5\",\"#ff7f0e\",\"#dbdb8d\",\"#f7b6d2\",\"#ff9896\",\"#c5b0d5\",\"#7f7f7f\",\"#ff9896\",\"#9467bd\",\"#aec7e8\",\"#9edae5\",\"#aec7e8\",\"#c7c7c7\",\"#c49c94\",\"#7f7f7f\",\"#8c564b\",\"#c49c94\",\"#c49c94\",\"#dbdb8d\",\"#c7c7c7\",\"#ff9896\",\"#9edae5\",\"#c49c94\",\"#9467bd\",\"#98df8a\",\"#ff7f0e\",\"#7f7f7f\",\"#f7b6d2\",\"#bcbd22\",\"#bcbd22\",\"#9467bd\",\"#8c564b\",\"#98df8a\",\"#9467bd\",\"#9edae5\",\"#c49c94\",\"#c5b0d5\",\"#ff9896\",\"#9edae5\",\"#f7b6d2\",\"#7f7f7f\",\"#9edae5\",\"#1f77b4\",\"#7f7f7f\",\"#7f7f7f\",\"#c49c94\",\"#7f7f7f\",\"#c7c7c7\",\"#8c564b\",\"#c7c7c7\",\"#dbdb8d\",\"#7f7f7f\",\"#dbdb8d\",\"#c49c94\",\"#ff9896\",\"#7f7f7f\",\"#c49c94\",\"#7f7f7f\",\"#9edae5\",\"#98df8a\",\"#c49c94\",\"#bcbd22\",\"#2ca02c\",\"#ff7f0e\",\"#dbdb8d\",\"#c49c94\",\"#ff7f0e\",\"#aec7e8\",\"#8c564b\",\"#c5b0d5\",\"#2ca02c\",\"#dbdb8d\",\"#aec7e8\",\"#c49c94\",\"#c5b0d5\",\"#c49c94\",\"#d62728\",\"#98df8a\",\"#c49c94\",\"#c49c94\",\"#c49c94\",\"#ff9896\",\"#c5b0d5\",\"#c5b0d5\",\"#2ca02c\",\"#8c564b\",\"#bcbd22\",\"#1f77b4\",\"#c7c7c7\",\"#c5b0d5\",\"#ff9896\",\"#c5b0d5\",\"#c49c94\",\"#c5b0d5\",\"#7f7f7f\",\"#8c564b\",\"#c49c94\",\"#bcbd22\",\"#9467bd\",\"#c49c94\",\"#f7b6d2\",\"#bcbd22\",\"#c7c7c7\",\"#ff9896\",\"#9467bd\",\"#dbdb8d\",\"#c7c7c7\",\"#c7c7c7\",\"#c7c7c7\",\"#f7b6d2\",\"#9467bd\",\"#c7c7c7\",\"#ff9896\",\"#dbdb8d\",\"#1f77b4\",\"#ff7f0e\",\"#f7b6d2\",\"#ff7f0e\",\"#7f7f7f\",\"#c5b0d5\",\"#8c564b\",\"#ff9896\",\"#f7b6d2\",\"#1f77b4\",\"#d62728\",\"#d62728\",\"#1f77b4\",\"#dbdb8d\",\"#ff7f0e\",\"#8c564b\",\"#8c564b\",\"#c5b0d5\",\"#98df8a\",\"#ff9896\",\"#ff7f0e\",\"#c49c94\",\"#98df8a\",\"#9edae5\",\"#9467bd\",\"#7f7f7f\",\"#dbdb8d\",\"#1f77b4\",\"#dbdb8d\",\"#9467bd\",\"#9edae5\",\"#dbdb8d\",\"#c49c94\",\"#7f7f7f\",\"#c5b0d5\",\"#8c564b\",\"#c49c94\",\"#c49c94\",\"#c49c94\",\"#bcbd22\",\"#dbdb8d\",\"#9467bd\",\"#9edae5\",\"#c49c94\",\"#1f77b4\",\"#f7b6d2\",\"#c5b0d5\",\"#ff9896\",\"#dbdb8d\",\"#c7c7c7\",\"#bcbd22\",\"#ff9896\",\"#c49c94\",\"#d62728\",\"#dbdb8d\",\"#9edae5\",\"#9edae5\",\"#8c564b\",\"#c49c94\",\"#bcbd22\",\"#7f7f7f\",\"#c7c7c7\",\"#7f7f7f\",\"#8c564b\",\"#f7b6d2\",\"#bcbd22\",\"#ff7f0e\",\"#9edae5\",\"#2ca02c\",\"#2ca02c\",\"#aec7e8\",\"#c5b0d5\",\"#ff7f0e\",\"#c49c94\",\"#9edae5\",\"#bcbd22\",\"#c7c7c7\",\"#dbdb8d\",\"#c49c94\",\"#dbdb8d\",\"#c7c7c7\",\"#98df8a\",\"#9edae5\",\"#c49c94\",\"#dbdb8d\",\"#dbdb8d\",\"#7f7f7f\",\"#9467bd\",\"#8c564b\",\"#9edae5\",\"#9467bd\",\"#ffbb78\",\"#dbdb8d\",\"#c49c94\",\"#9edae5\",\"#dbdb8d\",\"#c5b0d5\",\"#aec7e8\",\"#1f77b4\",\"#8c564b\",\"#c5b0d5\",\"#ff9896\",\"#ff9896\",\"#aec7e8\",\"#aec7e8\",\"#c7c7c7\",\"#8c564b\",\"#9467bd\",\"#ff7f0e\",\"#c5b0d5\",\"#c49c94\",\"#7f7f7f\",\"#ff9896\",\"#9467bd\",\"#bcbd22\",\"#c7c7c7\",\"#d62728\",\"#c5b0d5\",\"#c5b0d5\",\"#ff7f0e\",\"#c49c94\",\"#dbdb8d\",\"#c49c94\",\"#c5b0d5\",\"#7f7f7f\",\"#d62728\",\"#c5b0d5\",\"#1f77b4\",\"#8c564b\",\"#9467bd\",\"#9edae5\",\"#9edae5\",\"#98df8a\",\"#c7c7c7\",\"#dbdb8d\",\"#8c564b\",\"#7f7f7f\",\"#8c564b\",\"#c7c7c7\",\"#ff9896\",\"#9467bd\",\"#d62728\",\"#dbdb8d\",\"#9467bd\",\"#ff9896\",\"#9edae5\",\"#8c564b\",\"#dbdb8d\",\"#ff9896\",\"#dbdb8d\",\"#9edae5\",\"#dbdb8d\",\"#c49c94\",\"#c7c7c7\",\"#f7b6d2\",\"#c5b0d5\",\"#8c564b\",\"#ff7f0e\",\"#8c564b\",\"#c5b0d5\",\"#c7c7c7\",\"#dbdb8d\",\"#aec7e8\",\"#dbdb8d\",\"#aec7e8\",\"#c7c7c7\",\"#c7c7c7\",\"#dbdb8d\",\"#1f77b4\",\"#dbdb8d\",\"#1f77b4\",\"#c5b0d5\",\"#c5b0d5\",\"#bcbd22\",\"#d62728\",\"#8c564b\",\"#2ca02c\",\"#c5b0d5\",\"#9edae5\",\"#dbdb8d\",\"#c5b0d5\",\"#bcbd22\",\"#c49c94\",\"#c7c7c7\",\"#bcbd22\",\"#9edae5\",\"#dbdb8d\",\"#7f7f7f\",\"#1f77b4\",\"#dbdb8d\",\"#dbdb8d\",\"#8c564b\",\"#bcbd22\",\"#dbdb8d\",\"#dbdb8d\",\"#bcbd22\",\"#d62728\",\"#d62728\",\"#aec7e8\",\"#c5b0d5\",\"#d62728\",\"#c7c7c7\",\"#c5b0d5\",\"#c5b0d5\",\"#ff9896\",\"#8c564b\",\"#dbdb8d\",\"#aec7e8\",\"#7f7f7f\",\"#dbdb8d\",\"#dbdb8d\",\"#ff9896\",\"#d62728\",\"#e377c2\",\"#c5b0d5\",\"#c5b0d5\",\"#c7c7c7\",\"#c5b0d5\",\"#d62728\",\"#d62728\",\"#c49c94\",\"#dbdb8d\",\"#ff9896\",\"#7f7f7f\",\"#ff7f0e\",\"#8c564b\",\"#c7c7c7\",\"#ff7f0e\",\"#1f77b4\",\"#7f7f7f\",\"#9467bd\",\"#d62728\",\"#9467bd\",\"#1f77b4\",\"#7f7f7f\",\"#aec7e8\",\"#c49c94\",\"#bcbd22\",\"#c5b0d5\",\"#bcbd22\",\"#9edae5\",\"#d62728\",\"#f7b6d2\",\"#d62728\",\"#9467bd\",\"#9467bd\",\"#c7c7c7\",\"#ff7f0e\",\"#1f77b4\",\"#f7b6d2\",\"#f7b6d2\",\"#ff7f0e\",\"#1f77b4\",\"#9467bd\",\"#7f7f7f\",\"#dbdb8d\",\"#bcbd22\",\"#c49c94\",\"#c7c7c7\",\"#bcbd22\",\"#c7c7c7\",\"#8c564b\",\"#8c564b\",\"#c7c7c7\",\"#f7b6d2\",\"#dbdb8d\",\"#8c564b\",\"#ff7f0e\",\"#1f77b4\",\"#dbdb8d\",\"#c7c7c7\",\"#f7b6d2\",\"#dbdb8d\",\"#8c564b\",\"#8c564b\",\"#d62728\",\"#8c564b\",\"#dbdb8d\",\"#dbdb8d\",\"#bcbd22\",\"#c7c7c7\",\"#ff7f0e\",\"#8c564b\",\"#8c564b\",\"#9467bd\",\"#bcbd22\",\"#7f7f7f\",\"#c49c94\",\"#dbdb8d\",\"#9edae5\",\"#98df8a\",\"#7f7f7f\",\"#bcbd22\",\"#bcbd22\",\"#bcbd22\",\"#9edae5\",\"#bcbd22\",\"#9467bd\",\"#9467bd\",\"#9467bd\",\"#d62728\",\"#98df8a\",\"#d62728\",\"#c49c94\",\"#9467bd\",\"#c7c7c7\",\"#ff7f0e\",\"#d62728\",\"#9edae5\",\"#bcbd22\",\"#98df8a\",\"#f7b6d2\",\"#c7c7c7\",\"#dbdb8d\",\"#9467bd\",\"#9467bd\",\"#9467bd\",\"#9467bd\",\"#f7b6d2\",\"#bcbd22\",\"#f7b6d2\",\"#8c564b\",\"#9467bd\",\"#7f7f7f\",\"#ff7f0e\",\"#bcbd22\",\"#bcbd22\",\"#dbdb8d\",\"#ff7f0e\",\"#d62728\",\"#f7b6d2\",\"#ff7f0e\",\"#c7c7c7\",\"#ff7f0e\",\"#9467bd\",\"#7f7f7f\",\"#f7b6d2\",\"#7f7f7f\",\"#bcbd22\",\"#c7c7c7\",\"#c7c7c7\",\"#7f7f7f\",\"#7f7f7f\",\"#f7b6d2\",\"#ff7f0e\",\"#ff7f0e\",\"#ff7f0e\",\"#7f7f7f\",\"#7f7f7f\",\"#9467bd\",\"#f7b6d2\",\"#f7b6d2\",\"#f7b6d2\",\"#f7b6d2\",\"#c7c7c7\",\"#f7b6d2\",\"#bcbd22\",\"#f7b6d2\",\"#dbdb8d\",\"#f7b6d2\",\"#8c564b\",\"#f7b6d2\",\"#f7b6d2\",\"#ff7f0e\",\"#f7b6d2\",\"#f7b6d2\",\"#9467bd\",\"#9467bd\",\"#9467bd\",\"#dbdb8d\",\"#7f7f7f\",\"#ff7f0e\",\"#9467bd\",\"#f7b6d2\",\"#bcbd22\",\"#9467bd\",\"#9467bd\",\"#dbdb8d\",\"#aec7e8\",\"#f7b6d2\",\"#9467bd\",\"#9467bd\",\"#8c564b\",\"#bcbd22\",\"#ff7f0e\",\"#8c564b\",\"#ff9896\",\"#c7c7c7\",\"#c5b0d5\",\"#1f77b4\",\"#1f77b4\",\"#9467bd\",\"#c7c7c7\",\"#9467bd\",\"#9467bd\",\"#7f7f7f\",\"#c5b0d5\",\"#f7b6d2\",\"#c5b0d5\",\"#f7b6d2\",\"#bcbd22\",\"#9edae5\",\"#9467bd\",\"#9467bd\",\"#c7c7c7\",\"#1f77b4\",\"#bcbd22\",\"#9edae5\",\"#7f7f7f\",\"#d62728\",\"#9467bd\",\"#f7b6d2\",\"#9edae5\"],\"line_color\":[\"#d62728\",\"#1f77b4\",\"#9467bd\",\"#7f7f7f\",\"#9467bd\",\"#ff7f0e\",\"#7f7f7f\",\"#9467bd\",\"#ff7f0e\",\"#aec7e8\",\"#9467bd\",\"#aec7e8\",\"#aec7e8\",\"#9467bd\",\"#ff7f0e\",\"#9edae5\",\"#ff7f0e\",\"#7f7f7f\",\"#7f7f7f\",\"#aec7e8\",\"#aec7e8\",\"#7f7f7f\",\"#9467bd\",\"#ff7f0e\",\"#ff7f0e\",\"#7f7f7f\",\"#aec7e8\",\"#ff7f0e\",\"#ff7f0e\",\"#ff7f0e\",\"#7f7f7f\",\"#ff7f0e\",\"#9edae5\",\"#7f7f7f\",\"#9edae5\",\"#7f7f7f\",\"#9467bd\",\"#7f7f7f\",\"#f7b6d2\",\"#7f7f7f\",\"#ff7f0e\",\"#dbdb8d\",\"#c7c7c7\",\"#7f7f7f\",\"#ff7f0e\",\"#ff7f0e\",\"#7f7f7f\",\"#ff7f0e\",\"#7f7f7f\",\"#dbdb8d\",\"#aec7e8\",\"#7f7f7f\",\"#ff7f0e\",\"#7f7f7f\",\"#7f7f7f\",\"#aec7e8\",\"#d62728\",\"#d62728\",\"#aec7e8\",\"#7f7f7f\",\"#ff7f0e\",\"#7f7f7f\",\"#aec7e8\",\"#9467bd\",\"#aec7e8\",\"#1f77b4\",\"#7f7f7f\",\"#7f7f7f\",\"#ff7f0e\",\"#aec7e8\",\"#c7c7c7\",\"#9edae5\",\"#7f7f7f\",\"#bcbd22\",\"#17becf\",\"#aec7e8\",\"#7f7f7f\",\"#7f7f7f\",\"#ff7f0e\",\"#9467bd\",\"#aec7e8\",\"#9edae5\",\"#7f7f7f\",\"#9edae5\",\"#7f7f7f\",\"#9edae5\",\"#c7c7c7\",\"#1f77b4\",\"#c5b0d5\",\"#9edae5\",\"#ff7f0e\",\"#aec7e8\",\"#c5b0d5\",\"#1f77b4\",\"#ff7f0e\",\"#ff7f0e\",\"#9467bd\",\"#9edae5\",\"#ff7f0e\",\"#aec7e8\",\"#ff7f0e\",\"#9edae5\",\"#9467bd\",\"#7f7f7f\",\"#1f77b4\",\"#ff7f0e\",\"#1f77b4\",\"#aec7e8\",\"#7f7f7f\",\"#7f7f7f\",\"#7f7f7f\",\"#ff7f0e\",\"#aec7e8\",\"#aec7e8\",\"#7f7f7f\",\"#ff7f0e\",\"#7f7f7f\",\"#9467bd\",\"#aec7e8\",\"#9edae5\",\"#c7c7c7\",\"#7f7f7f\",\"#7f7f7f\",\"#aec7e8\",\"#ff7f0e\",\"#7f7f7f\",\"#ff7f0e\",\"#7f7f7f\",\"#ff7f0e\",\"#ff7f0e\",\"#7f7f7f\",\"#9467bd\",\"#dbdb8d\",\"#ff7f0e\",\"#7f7f7f\",\"#7f7f7f\",\"#aec7e8\",\"#9edae5\",\"#9edae5\",\"#aec7e8\",\"#7f7f7f\",\"#7f7f7f\",\"#aec7e8\",\"#aec7e8\",\"#aec7e8\",\"#7f7f7f\",\"#c5b0d5\",\"#7f7f7f\",\"#aec7e8\",\"#9edae5\",\"#7f7f7f\",\"#1f77b4\",\"#9edae5\",\"#9edae5\",\"#9edae5\",\"#aec7e8\",\"#7f7f7f\",\"#9edae5\",\"#7f7f7f\",\"#9467bd\",\"#aec7e8\",\"#aec7e8\",\"#9467bd\",\"#9edae5\",\"#1f77b4\",\"#7f7f7f\",\"#aec7e8\",\"#7f7f7f\",\"#7f7f7f\",\"#9467bd\",\"#ff7f0e\",\"#aec7e8\",\"#ff7f0e\",\"#aec7e8\",\"#ff7f0e\",\"#ff7f0e\",\"#ff7f0e\",\"#7f7f7f\",\"#c49c94\",\"#aec7e8\",\"#9edae5\",\"#9edae5\",\"#7f7f7f\",\"#9467bd\",\"#9edae5\",\"#9edae5\",\"#ff7f0e\",\"#aec7e8\",\"#7f7f7f\",\"#7f7f7f\",\"#7f7f7f\",\"#d62728\",\"#d62728\",\"#7f7f7f\",\"#ff7f0e\",\"#c5b0d5\",\"#7f7f7f\",\"#1f77b4\",\"#ff7f0e\",\"#1f77b4\",\"#ff7f0e\",\"#7f7f7f\",\"#9467bd\",\"#aec7e8\",\"#f7b6d2\",\"#1f77b4\",\"#ff7f0e\",\"#ff7f0e\",\"#aec7e8\",\"#ff7f0e\",\"#aec7e8\",\"#7f7f7f\",\"#aec7e8\",\"#ff7f0e\",\"#7f7f7f\",\"#9edae5\",\"#dbdb8d\",\"#7f7f7f\",\"#c49c94\",\"#9467bd\",\"#aec7e8\",\"#1f77b4\",\"#ff7f0e\",\"#9edae5\",\"#7f7f7f\",\"#7f7f7f\",\"#9edae5\",\"#ff7f0e\",\"#9edae5\",\"#ff7f0e\",\"#aec7e8\",\"#ff7f0e\",\"#aec7e8\",\"#7f7f7f\",\"#ff7f0e\",\"#9edae5\",\"#7f7f7f\",\"#9467bd\",\"#ff7f0e\",\"#9edae5\",\"#dbdb8d\",\"#aec7e8\",\"#aec7e8\",\"#9467bd\",\"#ff7f0e\",\"#7f7f7f\",\"#ff7f0e\",\"#7f7f7f\",\"#7f7f7f\",\"#aec7e8\",\"#9edae5\",\"#1f77b4\",\"#7f7f7f\",\"#aec7e8\",\"#7f7f7f\",\"#7f7f7f\",\"#ff7f0e\",\"#aec7e8\",\"#9467bd\",\"#ff7f0e\",\"#7f7f7f\",\"#c5b0d5\",\"#f7b6d2\",\"#aec7e8\",\"#7f7f7f\",\"#aec7e8\",\"#7f7f7f\",\"#ff7f0e\",\"#aec7e8\",\"#7f7f7f\",\"#7f7f7f\",\"#ff7f0e\",\"#aec7e8\",\"#9edae5\",\"#9edae5\",\"#8c564b\",\"#aec7e8\",\"#aec7e8\",\"#7f7f7f\",\"#aec7e8\",\"#ff7f0e\",\"#aec7e8\",\"#7f7f7f\",\"#7f7f7f\",\"#7f7f7f\",\"#9edae5\",\"#7f7f7f\",\"#ff9896\",\"#ff7f0e\",\"#aec7e8\",\"#7f7f7f\",\"#1f77b4\",\"#7f7f7f\",\"#aec7e8\",\"#1f77b4\",\"#7f7f7f\",\"#7f7f7f\",\"#f7b6d2\",\"#aec7e8\",\"#d62728\",\"#8c564b\",\"#7f7f7f\",\"#7f7f7f\",\"#aec7e8\",\"#9467bd\",\"#7f7f7f\",\"#aec7e8\",\"#9edae5\",\"#9edae5\",\"#9edae5\",\"#1f77b4\",\"#7f7f7f\",\"#7f7f7f\",\"#aec7e8\",\"#7f7f7f\",\"#7f7f7f\",\"#7f7f7f\",\"#1f77b4\",\"#dbdb8d\",\"#dbdb8d\",\"#1f77b4\",\"#ff7f0e\",\"#ff7f0e\",\"#7f7f7f\",\"#c5b0d5\",\"#7f7f7f\",\"#ff7f0e\",\"#7f7f7f\",\"#ff7f0e\",\"#aec7e8\",\"#aec7e8\",\"#7f7f7f\",\"#9edae5\",\"#7f7f7f\",\"#7f7f7f\",\"#7f7f7f\",\"#7f7f7f\",\"#ff7f0e\",\"#9edae5\",\"#9467bd\",\"#aec7e8\",\"#aec7e8\",\"#aec7e8\",\"#9467bd\",\"#aec7e8\",\"#ff7f0e\",\"#ff7f0e\",\"#ff7f0e\",\"#ff7f0e\",\"#7f7f7f\",\"#8c564b\",\"#c7c7c7\",\"#7f7f7f\",\"#aec7e8\",\"#c7c7c7\",\"#7f7f7f\",\"#9467bd\",\"#c49c94\",\"#d62728\",\"#9edae5\",\"#c5b0d5\",\"#d62728\",\"#1f77b4\",\"#9467bd\",\"#bcbd22\",\"#8c564b\",\"#7f7f7f\",\"#ff9896\",\"#c49c94\",\"#7f7f7f\",\"#1f77b4\",\"#f7b6d2\",\"#1f77b4\",\"#9edae5\",\"#c49c94\",\"#c7c7c7\",\"#9467bd\",\"#bcbd22\",\"#9467bd\",\"#c5b0d5\",\"#7f7f7f\",\"#ff7f0e\",\"#9edae5\",\"#ff7f0e\",\"#9edae5\",\"#ff9896\",\"#9467bd\",\"#d62728\",\"#9467bd\",\"#aec7e8\",\"#9edae5\",\"#bcbd22\",\"#7f7f7f\",\"#9467bd\",\"#c5b0d5\",\"#9467bd\",\"#c7c7c7\",\"#1f77b4\",\"#ff7f0e\",\"#9467bd\",\"#7f7f7f\",\"#1f77b4\",\"#7f7f7f\",\"#98df8a\",\"#1f77b4\",\"#7f7f7f\",\"#9edae5\",\"#c7c7c7\",\"#d62728\",\"#c5b0d5\",\"#dbdb8d\",\"#9467bd\",\"#bcbd22\",\"#dbdb8d\",\"#1f77b4\",\"#98df8a\",\"#dbdb8d\",\"#9edae5\",\"#ff9896\",\"#8c564b\",\"#d62728\",\"#ff7f0e\",\"#c49c94\",\"#c5b0d5\",\"#9467bd\",\"#9467bd\",\"#9467bd\",\"#1f77b4\",\"#d62728\",\"#d62728\",\"#98df8a\",\"#f7b6d2\",\"#c7c7c7\",\"#9edae5\",\"#c5b0d5\",\"#d62728\",\"#9edae5\",\"#9edae5\",\"#c5b0d5\",\"#aec7e8\",\"#9467bd\",\"#c5b0d5\",\"#ff9896\",\"#2ca02c\",\"#1f77b4\",\"#98df8a\",\"#d62728\",\"#e377c2\",\"#c7c7c7\",\"#9467bd\",\"#9467bd\",\"#9467bd\",\"#aec7e8\",\"#9467bd\",\"#c7c7c7\",\"#c7c7c7\",\"#ff7f0e\",\"#7f7f7f\",\"#aec7e8\",\"#9467bd\",\"#9467bd\",\"#bcbd22\",\"#1f77b4\",\"#9edae5\",\"#bcbd22\",\"#ff7f0e\",\"#1f77b4\",\"#9edae5\",\"#ff7f0e\",\"#d62728\",\"#9edae5\",\"#aec7e8\",\"#9edae5\",\"#7f7f7f\",\"#7f7f7f\",\"#98df8a\",\"#7f7f7f\",\"#7f7f7f\",\"#ff7f0e\",\"#ff7f0e\",\"#d62728\",\"#98df8a\",\"#7f7f7f\",\"#9467bd\",\"#9edae5\",\"#aec7e8\",\"#bcbd22\",\"#d62728\",\"#9467bd\",\"#9edae5\",\"#7f7f7f\",\"#f7b6d2\",\"#c49c94\",\"#aec7e8\",\"#ff7f0e\",\"#c5b0d5\",\"#f7b6d2\",\"#aec7e8\",\"#ff9896\",\"#9edae5\",\"#d62728\",\"#9467bd\",\"#aec7e8\",\"#ff9896\",\"#c5b0d5\",\"#98df8a\",\"#98df8a\",\"#c7c7c7\",\"#7f7f7f\",\"#9467bd\",\"#ff9896\",\"#9467bd\",\"#7f7f7f\",\"#8c564b\",\"#98df8a\",\"#c49c94\",\"#bcbd22\",\"#7f7f7f\",\"#9edae5\",\"#9467bd\",\"#d62728\",\"#dbdb8d\",\"#e377c2\",\"#ff7f0e\",\"#c49c94\",\"#c7c7c7\",\"#c49c94\",\"#bcbd22\",\"#9edae5\",\"#bcbd22\",\"#c5b0d5\",\"#c5b0d5\",\"#dbdb8d\",\"#aec7e8\",\"#c7c7c7\",\"#7f7f7f\",\"#9467bd\",\"#1f77b4\",\"#bcbd22\",\"#c7c7c7\",\"#ff7f0e\",\"#c5b0d5\",\"#1f77b4\",\"#bcbd22\",\"#98df8a\",\"#c7c7c7\",\"#9467bd\",\"#bcbd22\",\"#bcbd22\",\"#c7c7c7\",\"#8c564b\",\"#7f7f7f\",\"#7f7f7f\",\"#9edae5\",\"#ff9896\",\"#d62728\",\"#9edae5\",\"#f7b6d2\",\"#c5b0d5\",\"#c49c94\",\"#ff7f0e\",\"#bcbd22\",\"#9467bd\",\"#7f7f7f\",\"#8c564b\",\"#c49c94\",\"#f7b6d2\",\"#7f7f7f\",\"#ff7f0e\",\"#9edae5\",\"#aec7e8\",\"#ff9896\",\"#bcbd22\",\"#dbdb8d\",\"#9467bd\",\"#dbdb8d\",\"#9467bd\",\"#9edae5\",\"#ff7f0e\",\"#9467bd\",\"#f7b6d2\",\"#7f7f7f\",\"#8c564b\",\"#ff9896\",\"#8c564b\",\"#f7b6d2\",\"#f7b6d2\",\"#9467bd\",\"#d62728\",\"#bcbd22\",\"#9edae5\",\"#ff9896\",\"#ff9896\",\"#dbdb8d\",\"#d62728\",\"#d62728\",\"#aec7e8\",\"#1f77b4\",\"#c5b0d5\",\"#bcbd22\",\"#ff9896\",\"#7f7f7f\",\"#c5b0d5\",\"#bcbd22\",\"#bcbd22\",\"#bcbd22\",\"#c7c7c7\",\"#ff9896\",\"#ff9896\",\"#aec7e8\",\"#7f7f7f\",\"#7f7f7f\",\"#f7b6d2\",\"#9467bd\",\"#c7c7c7\",\"#98df8a\",\"#bcbd22\",\"#9467bd\",\"#7f7f7f\",\"#9467bd\",\"#bcbd22\",\"#98df8a\",\"#ff7f0e\",\"#9edae5\",\"#c5b0d5\",\"#f7b6d2\",\"#9467bd\",\"#aec7e8\",\"#c7c7c7\",\"#c7c7c7\",\"#d62728\",\"#9467bd\",\"#f7b6d2\",\"#9467bd\",\"#dbdb8d\",\"#ff7f0e\",\"#9edae5\",\"#7f7f7f\",\"#c7c7c7\",\"#dbdb8d\",\"#7f7f7f\",\"#ff7f0e\",\"#bcbd22\",\"#7f7f7f\",\"#9edae5\",\"#2ca02c\",\"#2ca02c\",\"#9edae5\",\"#ff9896\",\"#f7b6d2\",\"#ff9896\",\"#ff7f0e\",\"#c49c94\",\"#7f7f7f\",\"#dbdb8d\",\"#9467bd\",\"#e377c2\",\"#1f77b4\",\"#ff7f0e\",\"#c49c94\",\"#9edae5\",\"#bcbd22\",\"#98df8a\",\"#aec7e8\",\"#9467bd\",\"#98df8a\",\"#9467bd\",\"#1f77b4\",\"#1f77b4\",\"#9467bd\",\"#f7b6d2\",\"#7f7f7f\",\"#aec7e8\",\"#bcbd22\",\"#e377c2\",\"#c7c7c7\",\"#98df8a\",\"#c49c94\",\"#c49c94\",\"#7f7f7f\",\"#bcbd22\",\"#98df8a\",\"#d62728\",\"#9467bd\",\"#7f7f7f\",\"#bcbd22\",\"#c5b0d5\",\"#7f7f7f\",\"#98df8a\",\"#ff7f0e\",\"#7f7f7f\",\"#ff9896\",\"#e377c2\",\"#c5b0d5\",\"#9edae5\",\"#9467bd\",\"#dbdb8d\",\"#9edae5\",\"#bcbd22\",\"#bcbd22\",\"#1f77b4\",\"#8c564b\",\"#98df8a\",\"#aec7e8\",\"#f7b6d2\",\"#9edae5\",\"#c49c94\",\"#aec7e8\",\"#c5b0d5\",\"#d62728\",\"#bcbd22\",\"#ff7f0e\",\"#aec7e8\",\"#c5b0d5\",\"#c49c94\",\"#bcbd22\",\"#aec7e8\",\"#1f77b4\",\"#ff7f0e\",\"#ff7f0e\",\"#e377c2\",\"#c49c94\",\"#9467bd\",\"#98df8a\",\"#aec7e8\",\"#f7b6d2\",\"#ff7f0e\",\"#f7b6d2\",\"#8c564b\",\"#9467bd\",\"#2ca02c\",\"#98df8a\",\"#c49c94\",\"#ff9896\",\"#9467bd\",\"#7f7f7f\",\"#c5b0d5\",\"#bcbd22\",\"#9467bd\",\"#c5b0d5\",\"#8c564b\",\"#c7c7c7\",\"#f7b6d2\",\"#c5b0d5\",\"#1f77b4\",\"#98df8a\",\"#9edae5\",\"#7f7f7f\",\"#7f7f7f\",\"#aec7e8\",\"#f7b6d2\",\"#c49c94\",\"#9467bd\",\"#c7c7c7\",\"#ff9896\",\"#c5b0d5\",\"#aec7e8\",\"#bcbd22\",\"#98df8a\",\"#7f7f7f\",\"#7f7f7f\",\"#9edae5\",\"#aec7e8\",\"#7f7f7f\",\"#dbdb8d\",\"#9edae5\",\"#e377c2\",\"#ff9896\",\"#7f7f7f\",\"#c49c94\",\"#8c564b\",\"#7f7f7f\",\"#f7b6d2\",\"#c7c7c7\",\"#9edae5\",\"#c49c94\",\"#aec7e8\",\"#dbdb8d\",\"#c7c7c7\",\"#c7c7c7\",\"#bcbd22\",\"#98df8a\",\"#98df8a\",\"#aec7e8\",\"#1f77b4\",\"#c49c94\",\"#ff9896\",\"#98df8a\",\"#7f7f7f\",\"#ff7f0e\",\"#ff9896\",\"#9467bd\",\"#1f77b4\",\"#7f7f7f\",\"#f7b6d2\",\"#ff9896\",\"#1f77b4\",\"#1f77b4\",\"#1f77b4\",\"#9467bd\",\"#bcbd22\",\"#9467bd\",\"#1f77b4\",\"#98df8a\",\"#9edae5\",\"#9467bd\",\"#9467bd\",\"#ff9896\",\"#d62728\",\"#ff9896\",\"#9467bd\",\"#ff9896\",\"#d62728\",\"#f7b6d2\",\"#c7c7c7\",\"#f7b6d2\",\"#2ca02c\",\"#7f7f7f\",\"#dbdb8d\",\"#9edae5\",\"#c49c94\",\"#9467bd\",\"#ff7f0e\",\"#1f77b4\",\"#9467bd\",\"#c49c94\",\"#9edae5\",\"#dbdb8d\",\"#9467bd\",\"#c5b0d5\",\"#f7b6d2\",\"#f7b6d2\",\"#98df8a\",\"#bcbd22\",\"#9467bd\",\"#9467bd\",\"#c7c7c7\",\"#c7c7c7\",\"#9467bd\",\"#8c564b\",\"#ff9896\",\"#7f7f7f\",\"#aec7e8\",\"#2ca02c\",\"#bcbd22\",\"#9467bd\",\"#f7b6d2\",\"#bcbd22\",\"#7f7f7f\",\"#dbdb8d\",\"#c49c94\",\"#bcbd22\",\"#98df8a\",\"#9467bd\",\"#c49c94\",\"#c49c94\",\"#9edae5\",\"#8c564b\",\"#aec7e8\",\"#ff9896\",\"#c49c94\",\"#c49c94\",\"#c49c94\",\"#bcbd22\",\"#aec7e8\",\"#c5b0d5\",\"#98df8a\",\"#9467bd\",\"#9467bd\",\"#dbdb8d\",\"#c5b0d5\",\"#1f77b4\",\"#9467bd\",\"#f7b6d2\",\"#f7b6d2\",\"#f7b6d2\",\"#1f77b4\",\"#1f77b4\",\"#aec7e8\",\"#f7b6d2\",\"#1f77b4\",\"#9467bd\",\"#9467bd\",\"#7f7f7f\",\"#ff7f0e\",\"#ff7f0e\",\"#98df8a\",\"#9467bd\",\"#c49c94\",\"#9edae5\",\"#c7c7c7\",\"#f7b6d2\",\"#aec7e8\",\"#f7b6d2\",\"#c49c94\",\"#f7b6d2\",\"#c49c94\",\"#c49c94\",\"#9edae5\",\"#9edae5\",\"#ff7f0e\",\"#aec7e8\",\"#9edae5\",\"#aec7e8\",\"#d62728\",\"#ff7f0e\",\"#98df8a\",\"#9467bd\",\"#9467bd\",\"#c49c94\",\"#7f7f7f\",\"#f7b6d2\",\"#f7b6d2\",\"#c5b0d5\",\"#98df8a\",\"#9467bd\",\"#9edae5\",\"#f7b6d2\",\"#9edae5\",\"#1f77b4\",\"#ff9896\",\"#1f77b4\",\"#9467bd\",\"#ff9896\",\"#aec7e8\",\"#98df8a\",\"#9edae5\",\"#bcbd22\",\"#ff9896\",\"#98df8a\",\"#c49c94\",\"#7f7f7f\",\"#c5b0d5\",\"#1f77b4\",\"#9edae5\",\"#9467bd\",\"#9edae5\",\"#8c564b\",\"#1f77b4\",\"#aec7e8\",\"#9edae5\",\"#9edae5\",\"#9467bd\",\"#ff9896\",\"#ff7f0e\",\"#8c564b\",\"#98df8a\",\"#c5b0d5\",\"#d62728\",\"#9edae5\",\"#9467bd\",\"#c49c94\",\"#c49c94\",\"#9edae5\",\"#2ca02c\",\"#c49c94\",\"#8c564b\",\"#f7b6d2\",\"#c49c94\",\"#c49c94\",\"#9467bd\",\"#aec7e8\",\"#9467bd\",\"#c49c94\",\"#c7c7c7\",\"#7f7f7f\",\"#bcbd22\",\"#c5b0d5\",\"#ff9896\",\"#7f7f7f\",\"#7f7f7f\",\"#aec7e8\",\"#c49c94\",\"#f7b6d2\",\"#c49c94\",\"#c49c94\",\"#7f7f7f\",\"#ff9896\",\"#1f77b4\",\"#9467bd\",\"#ff9896\",\"#c7c7c7\",\"#c7c7c7\",\"#f7b6d2\",\"#bcbd22\",\"#c5b0d5\",\"#bcbd22\",\"#dbdb8d\",\"#9edae5\",\"#7f7f7f\",\"#c7c7c7\",\"#dbdb8d\",\"#f7b6d2\",\"#ff7f0e\",\"#ff9896\",\"#dbdb8d\",\"#8c564b\",\"#dbdb8d\",\"#9467bd\",\"#7f7f7f\",\"#98df8a\",\"#2ca02c\",\"#9edae5\",\"#f7b6d2\",\"#9467bd\",\"#c49c94\",\"#dbdb8d\",\"#7f7f7f\",\"#aec7e8\",\"#bcbd22\",\"#f7b6d2\",\"#7f7f7f\",\"#2ca02c\",\"#aec7e8\",\"#9edae5\",\"#9467bd\",\"#f7b6d2\",\"#f7b6d2\",\"#ff9896\",\"#8c564b\",\"#7f7f7f\",\"#bcbd22\",\"#dbdb8d\",\"#9edae5\",\"#d62728\",\"#dbdb8d\",\"#ff9896\",\"#98df8a\",\"#c49c94\",\"#9edae5\",\"#bcbd22\",\"#9edae5\",\"#dbdb8d\",\"#9edae5\",\"#bcbd22\",\"#9467bd\",\"#c49c94\",\"#2ca02c\",\"#c49c94\",\"#7f7f7f\",\"#9467bd\",\"#bcbd22\",\"#aec7e8\",\"#ff9896\",\"#1f77b4\",\"#dbdb8d\",\"#9edae5\",\"#bcbd22\",\"#d62728\",\"#9edae5\",\"#d62728\",\"#7f7f7f\",\"#c5b0d5\",\"#9edae5\",\"#dbdb8d\",\"#9edae5\",\"#c49c94\",\"#bcbd22\",\"#aec7e8\",\"#c49c94\",\"#8c564b\",\"#ff9896\",\"#8c564b\",\"#c7c7c7\",\"#8c564b\",\"#c5b0d5\",\"#c7c7c7\",\"#98df8a\",\"#d62728\",\"#c49c94\",\"#8c564b\",\"#f7b6d2\",\"#bcbd22\",\"#bcbd22\",\"#9467bd\",\"#bcbd22\",\"#ff9896\",\"#c5b0d5\",\"#aec7e8\",\"#c49c94\",\"#8c564b\",\"#2ca02c\",\"#9edae5\",\"#9467bd\",\"#bcbd22\",\"#ff9896\",\"#9edae5\",\"#7f7f7f\",\"#aec7e8\",\"#c5b0d5\",\"#ff7f0e\",\"#dbdb8d\",\"#f7b6d2\",\"#ff9896\",\"#c5b0d5\",\"#7f7f7f\",\"#ff9896\",\"#9467bd\",\"#aec7e8\",\"#9edae5\",\"#aec7e8\",\"#c7c7c7\",\"#c49c94\",\"#7f7f7f\",\"#8c564b\",\"#c49c94\",\"#c49c94\",\"#dbdb8d\",\"#c7c7c7\",\"#ff9896\",\"#9edae5\",\"#c49c94\",\"#9467bd\",\"#98df8a\",\"#ff7f0e\",\"#7f7f7f\",\"#f7b6d2\",\"#bcbd22\",\"#bcbd22\",\"#9467bd\",\"#8c564b\",\"#98df8a\",\"#9467bd\",\"#9edae5\",\"#c49c94\",\"#c5b0d5\",\"#ff9896\",\"#9edae5\",\"#f7b6d2\",\"#7f7f7f\",\"#9edae5\",\"#1f77b4\",\"#7f7f7f\",\"#7f7f7f\",\"#c49c94\",\"#7f7f7f\",\"#c7c7c7\",\"#8c564b\",\"#c7c7c7\",\"#dbdb8d\",\"#7f7f7f\",\"#dbdb8d\",\"#c49c94\",\"#ff9896\",\"#7f7f7f\",\"#c49c94\",\"#7f7f7f\",\"#9edae5\",\"#98df8a\",\"#c49c94\",\"#bcbd22\",\"#2ca02c\",\"#ff7f0e\",\"#dbdb8d\",\"#c49c94\",\"#ff7f0e\",\"#aec7e8\",\"#8c564b\",\"#c5b0d5\",\"#2ca02c\",\"#dbdb8d\",\"#aec7e8\",\"#c49c94\",\"#c5b0d5\",\"#c49c94\",\"#d62728\",\"#98df8a\",\"#c49c94\",\"#c49c94\",\"#c49c94\",\"#ff9896\",\"#c5b0d5\",\"#c5b0d5\",\"#2ca02c\",\"#8c564b\",\"#bcbd22\",\"#1f77b4\",\"#c7c7c7\",\"#c5b0d5\",\"#ff9896\",\"#c5b0d5\",\"#c49c94\",\"#c5b0d5\",\"#7f7f7f\",\"#8c564b\",\"#c49c94\",\"#bcbd22\",\"#9467bd\",\"#c49c94\",\"#f7b6d2\",\"#bcbd22\",\"#c7c7c7\",\"#ff9896\",\"#9467bd\",\"#dbdb8d\",\"#c7c7c7\",\"#c7c7c7\",\"#c7c7c7\",\"#f7b6d2\",\"#9467bd\",\"#c7c7c7\",\"#ff9896\",\"#dbdb8d\",\"#1f77b4\",\"#ff7f0e\",\"#f7b6d2\",\"#ff7f0e\",\"#7f7f7f\",\"#c5b0d5\",\"#8c564b\",\"#ff9896\",\"#f7b6d2\",\"#1f77b4\",\"#d62728\",\"#d62728\",\"#1f77b4\",\"#dbdb8d\",\"#ff7f0e\",\"#8c564b\",\"#8c564b\",\"#c5b0d5\",\"#98df8a\",\"#ff9896\",\"#ff7f0e\",\"#c49c94\",\"#98df8a\",\"#9edae5\",\"#9467bd\",\"#7f7f7f\",\"#dbdb8d\",\"#1f77b4\",\"#dbdb8d\",\"#9467bd\",\"#9edae5\",\"#dbdb8d\",\"#c49c94\",\"#7f7f7f\",\"#c5b0d5\",\"#8c564b\",\"#c49c94\",\"#c49c94\",\"#c49c94\",\"#bcbd22\",\"#dbdb8d\",\"#9467bd\",\"#9edae5\",\"#c49c94\",\"#1f77b4\",\"#f7b6d2\",\"#c5b0d5\",\"#ff9896\",\"#dbdb8d\",\"#c7c7c7\",\"#bcbd22\",\"#ff9896\",\"#c49c94\",\"#d62728\",\"#dbdb8d\",\"#9edae5\",\"#9edae5\",\"#8c564b\",\"#c49c94\",\"#bcbd22\",\"#7f7f7f\",\"#c7c7c7\",\"#7f7f7f\",\"#8c564b\",\"#f7b6d2\",\"#bcbd22\",\"#ff7f0e\",\"#9edae5\",\"#2ca02c\",\"#2ca02c\",\"#aec7e8\",\"#c5b0d5\",\"#ff7f0e\",\"#c49c94\",\"#9edae5\",\"#bcbd22\",\"#c7c7c7\",\"#dbdb8d\",\"#c49c94\",\"#dbdb8d\",\"#c7c7c7\",\"#98df8a\",\"#9edae5\",\"#c49c94\",\"#dbdb8d\",\"#dbdb8d\",\"#7f7f7f\",\"#9467bd\",\"#8c564b\",\"#9edae5\",\"#9467bd\",\"#ffbb78\",\"#dbdb8d\",\"#c49c94\",\"#9edae5\",\"#dbdb8d\",\"#c5b0d5\",\"#aec7e8\",\"#1f77b4\",\"#8c564b\",\"#c5b0d5\",\"#ff9896\",\"#ff9896\",\"#aec7e8\",\"#aec7e8\",\"#c7c7c7\",\"#8c564b\",\"#9467bd\",\"#ff7f0e\",\"#c5b0d5\",\"#c49c94\",\"#7f7f7f\",\"#ff9896\",\"#9467bd\",\"#bcbd22\",\"#c7c7c7\",\"#d62728\",\"#c5b0d5\",\"#c5b0d5\",\"#ff7f0e\",\"#c49c94\",\"#dbdb8d\",\"#c49c94\",\"#c5b0d5\",\"#7f7f7f\",\"#d62728\",\"#c5b0d5\",\"#1f77b4\",\"#8c564b\",\"#9467bd\",\"#9edae5\",\"#9edae5\",\"#98df8a\",\"#c7c7c7\",\"#dbdb8d\",\"#8c564b\",\"#7f7f7f\",\"#8c564b\",\"#c7c7c7\",\"#ff9896\",\"#9467bd\",\"#d62728\",\"#dbdb8d\",\"#9467bd\",\"#ff9896\",\"#9edae5\",\"#8c564b\",\"#dbdb8d\",\"#ff9896\",\"#dbdb8d\",\"#9edae5\",\"#dbdb8d\",\"#c49c94\",\"#c7c7c7\",\"#f7b6d2\",\"#c5b0d5\",\"#8c564b\",\"#ff7f0e\",\"#8c564b\",\"#c5b0d5\",\"#c7c7c7\",\"#dbdb8d\",\"#aec7e8\",\"#dbdb8d\",\"#aec7e8\",\"#c7c7c7\",\"#c7c7c7\",\"#dbdb8d\",\"#1f77b4\",\"#dbdb8d\",\"#1f77b4\",\"#c5b0d5\",\"#c5b0d5\",\"#bcbd22\",\"#d62728\",\"#8c564b\",\"#2ca02c\",\"#c5b0d5\",\"#9edae5\",\"#dbdb8d\",\"#c5b0d5\",\"#bcbd22\",\"#c49c94\",\"#c7c7c7\",\"#bcbd22\",\"#9edae5\",\"#dbdb8d\",\"#7f7f7f\",\"#1f77b4\",\"#dbdb8d\",\"#dbdb8d\",\"#8c564b\",\"#bcbd22\",\"#dbdb8d\",\"#dbdb8d\",\"#bcbd22\",\"#d62728\",\"#d62728\",\"#aec7e8\",\"#c5b0d5\",\"#d62728\",\"#c7c7c7\",\"#c5b0d5\",\"#c5b0d5\",\"#ff9896\",\"#8c564b\",\"#dbdb8d\",\"#aec7e8\",\"#7f7f7f\",\"#dbdb8d\",\"#dbdb8d\",\"#ff9896\",\"#d62728\",\"#e377c2\",\"#c5b0d5\",\"#c5b0d5\",\"#c7c7c7\",\"#c5b0d5\",\"#d62728\",\"#d62728\",\"#c49c94\",\"#dbdb8d\",\"#ff9896\",\"#7f7f7f\",\"#ff7f0e\",\"#8c564b\",\"#c7c7c7\",\"#ff7f0e\",\"#1f77b4\",\"#7f7f7f\",\"#9467bd\",\"#d62728\",\"#9467bd\",\"#1f77b4\",\"#7f7f7f\",\"#aec7e8\",\"#c49c94\",\"#bcbd22\",\"#c5b0d5\",\"#bcbd22\",\"#9edae5\",\"#d62728\",\"#f7b6d2\",\"#d62728\",\"#9467bd\",\"#9467bd\",\"#c7c7c7\",\"#ff7f0e\",\"#1f77b4\",\"#f7b6d2\",\"#f7b6d2\",\"#ff7f0e\",\"#1f77b4\",\"#9467bd\",\"#7f7f7f\",\"#dbdb8d\",\"#bcbd22\",\"#c49c94\",\"#c7c7c7\",\"#bcbd22\",\"#c7c7c7\",\"#8c564b\",\"#8c564b\",\"#c7c7c7\",\"#f7b6d2\",\"#dbdb8d\",\"#8c564b\",\"#ff7f0e\",\"#1f77b4\",\"#dbdb8d\",\"#c7c7c7\",\"#f7b6d2\",\"#dbdb8d\",\"#8c564b\",\"#8c564b\",\"#d62728\",\"#8c564b\",\"#dbdb8d\",\"#dbdb8d\",\"#bcbd22\",\"#c7c7c7\",\"#ff7f0e\",\"#8c564b\",\"#8c564b\",\"#9467bd\",\"#bcbd22\",\"#7f7f7f\",\"#c49c94\",\"#dbdb8d\",\"#9edae5\",\"#98df8a\",\"#7f7f7f\",\"#bcbd22\",\"#bcbd22\",\"#bcbd22\",\"#9edae5\",\"#bcbd22\",\"#9467bd\",\"#9467bd\",\"#9467bd\",\"#d62728\",\"#98df8a\",\"#d62728\",\"#c49c94\",\"#9467bd\",\"#c7c7c7\",\"#ff7f0e\",\"#d62728\",\"#9edae5\",\"#bcbd22\",\"#98df8a\",\"#f7b6d2\",\"#c7c7c7\",\"#dbdb8d\",\"#9467bd\",\"#9467bd\",\"#9467bd\",\"#9467bd\",\"#f7b6d2\",\"#bcbd22\",\"#f7b6d2\",\"#8c564b\",\"#9467bd\",\"#7f7f7f\",\"#ff7f0e\",\"#bcbd22\",\"#bcbd22\",\"#dbdb8d\",\"#ff7f0e\",\"#d62728\",\"#f7b6d2\",\"#ff7f0e\",\"#c7c7c7\",\"#ff7f0e\",\"#9467bd\",\"#7f7f7f\",\"#f7b6d2\",\"#7f7f7f\",\"#bcbd22\",\"#c7c7c7\",\"#c7c7c7\",\"#7f7f7f\",\"#7f7f7f\",\"#f7b6d2\",\"#ff7f0e\",\"#ff7f0e\",\"#ff7f0e\",\"#7f7f7f\",\"#7f7f7f\",\"#9467bd\",\"#f7b6d2\",\"#f7b6d2\",\"#f7b6d2\",\"#f7b6d2\",\"#c7c7c7\",\"#f7b6d2\",\"#bcbd22\",\"#f7b6d2\",\"#dbdb8d\",\"#f7b6d2\",\"#8c564b\",\"#f7b6d2\",\"#f7b6d2\",\"#ff7f0e\",\"#f7b6d2\",\"#f7b6d2\",\"#9467bd\",\"#9467bd\",\"#9467bd\",\"#dbdb8d\",\"#7f7f7f\",\"#ff7f0e\",\"#9467bd\",\"#f7b6d2\",\"#bcbd22\",\"#9467bd\",\"#9467bd\",\"#dbdb8d\",\"#aec7e8\",\"#f7b6d2\",\"#9467bd\",\"#9467bd\",\"#8c564b\",\"#bcbd22\",\"#ff7f0e\",\"#8c564b\",\"#ff9896\",\"#c7c7c7\",\"#c5b0d5\",\"#1f77b4\",\"#1f77b4\",\"#9467bd\",\"#c7c7c7\",\"#9467bd\",\"#9467bd\",\"#7f7f7f\",\"#c5b0d5\",\"#f7b6d2\",\"#c5b0d5\",\"#f7b6d2\",\"#bcbd22\",\"#9edae5\",\"#9467bd\",\"#9467bd\",\"#c7c7c7\",\"#1f77b4\",\"#bcbd22\",\"#9edae5\",\"#7f7f7f\",\"#d62728\",\"#9467bd\",\"#f7b6d2\",\"#9edae5\"],\"x\":{\"__ndarray__\":\"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\",\"dtype\":\"float32\",\"order\":\"little\",\"shape\":[1616]},\"y\":{\"__ndarray__\":\"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\",\"dtype\":\"float32\",\"order\":\"little\",\"shape\":[1616]}},\"selected\":{\"id\":\"1045\"},\"selection_policy\":{\"id\":\"1046\"}},\"id\":\"1033\",\"type\":\"ColumnDataSource\"},{\"attributes\":{\"fill_alpha\":{\"value\":0.8},\"fill_color\":{\"field\":\"fill_color\"},\"line_color\":{\"field\":\"line_color\"},\"size\":{\"units\":\"screen\",\"value\":10},\"x\":{\"field\":\"x\"},\"y\":{\"field\":\"y\"}},\"id\":\"1034\",\"type\":\"Circle\"},{\"attributes\":{\"formatter\":{\"id\":\"1040\"},\"ticker\":{\"id\":\"1012\"}},\"id\":\"1011\",\"type\":\"LinearAxis\"},{\"attributes\":{\"overlay\":{\"id\":\"1025\"}},\"id\":\"1021\",\"type\":\"BoxZoomTool\"},{\"attributes\":{},\"id\":\"1009\",\"type\":\"LinearScale\"},{\"attributes\":{\"text\":\"\"},\"id\":\"1039\",\"type\":\"Title\"},{\"attributes\":{\"bottom_units\":\"screen\",\"fill_alpha\":0.5,\"fill_color\":\"lightgrey\",\"left_units\":\"screen\",\"level\":\"overlay\",\"line_alpha\":1.0,\"line_color\":\"black\",\"line_dash\":[4,4],\"line_width\":2,\"right_units\":\"screen\",\"top_units\":\"screen\"},\"id\":\"1025\",\"type\":\"BoxAnnotation\"},{\"attributes\":{},\"id\":\"1022\",\"type\":\"SaveTool\"},{\"attributes\":{\"fill_alpha\":{\"value\":0.1},\"fill_color\":{\"field\":\"fill_color\"},\"line_alpha\":{\"value\":0.1},\"line_color\":{\"field\":\"line_color\"},\"size\":{\"units\":\"screen\",\"value\":10},\"x\":{\"field\":\"x\"},\"y\":{\"field\":\"y\"}},\"id\":\"1035\",\"type\":\"Circle\"},{\"attributes\":{},\"id\":\"1046\",\"type\":\"UnionRenderers\"}],\"root_ids\":[\"1002\"]},\"title\":\"Bokeh Application\",\"version\":\"2.1.1\"}};\n",
       "  var render_items = [{\"docid\":\"1cb2764c-7b9a-49ef-ab47-f72806292354\",\"root_ids\":[\"1002\"],\"roots\":{\"1002\":\"d9965413-3e24-482a-a013-816f4131c9ce\"}}];\n",
       "  root.Bokeh.embed.embed_items_notebook(docs_json, render_items);\n",
       "\n",
       "  }\n",
       "  if (root.Bokeh !== undefined) {\n",
       "    embed_document(root);\n",
       "  } else {\n",
       "    var attempts = 0;\n",
       "    var timer = setInterval(function(root) {\n",
       "      if (root.Bokeh !== undefined) {\n",
       "        clearInterval(timer);\n",
       "        embed_document(root);\n",
       "      } else {\n",
       "        attempts++;\n",
       "        if (attempts > 100) {\n",
       "          clearInterval(timer);\n",
       "          console.log(\"Bokeh: ERROR: Unable to run BokehJS code because BokehJS library is missing\");\n",
       "        }\n",
       "      }\n",
       "    }, 10, root)\n",
       "  }\n",
       "})(window);"
      ],
      "application/vnd.bokehjs_exec.v0+json": ""
     },
     "metadata": {
      "application/vnd.bokehjs_exec.v0+json": {
       "id": "1002"
      }
     },
     "output_type": "display_data"
    }
   ],
   "source": [
    "def scatter_plot(X, labels):\n",
    "    scatter_plot = figure(plot_width=1000, plot_height=500)\n",
    "    scatter_plot.circle(X[:, 0], X[:, 1], size=10, line_color=[color_palette[l] for l in labels], fill_color=[color_palette[l] for l in labels], fill_alpha=.8)\n",
    "    show(scatter_plot)\n",
    "\n",
    "scatter_plot(X_tsne, kmeans.labels_)"
   ]
  },
  {
   "cell_type": "markdown",
   "metadata": {
    "colab_type": "text",
    "id": "_RgqiveECbpf"
   },
   "source": [
    "Projetando os pontos no espaço de visualização via __UMAP__:"
   ]
  },
  {
   "cell_type": "code",
   "execution_count": 29,
   "metadata": {
    "colab": {},
    "colab_type": "code",
    "executionInfo": {
     "elapsed": 178444,
     "status": "ok",
     "timestamp": 1595629307812,
     "user": {
      "displayName": "Hugo Tallys Martins Oliveira",
      "photoUrl": "",
      "userId": "01749757928754934577"
     },
     "user_tz": 180
    },
    "id": "Uf7_K640Cbps"
   },
   "outputs": [],
   "source": [
    "start_time = time.time()\n",
    "X_umap = umap.UMAP().fit_transform(X_proj)\n",
    "interval_time = time.time() - start_time"
   ]
  },
  {
   "cell_type": "markdown",
   "metadata": {
    "colab_type": "text",
    "id": "F3I6exrZCbqE"
   },
   "source": [
    "Tempo de execução:"
   ]
  },
  {
   "cell_type": "code",
   "execution_count": 30,
   "metadata": {
    "colab": {
     "base_uri": "https://localhost:8080/",
     "height": 34
    },
    "colab_type": "code",
    "executionInfo": {
     "elapsed": 178441,
     "status": "ok",
     "timestamp": 1595629307817,
     "user": {
      "displayName": "Hugo Tallys Martins Oliveira",
      "photoUrl": "",
      "userId": "01749757928754934577"
     },
     "user_tz": 180
    },
    "id": "vsaSo_ACCbqG",
    "outputId": "f5eea777-f326-46e5-b11d-4ee11bb4a226"
   },
   "outputs": [
    {
     "name": "stdout",
     "output_type": "stream",
     "text": [
      "13.931499242782593 segundos\n"
     ]
    }
   ],
   "source": [
    "print('%s segundos' % interval_time)"
   ]
  },
  {
   "cell_type": "code",
   "execution_count": 31,
   "metadata": {
    "colab": {
     "base_uri": "https://localhost:8080/",
     "height": 517
    },
    "colab_type": "code",
    "executionInfo": {
     "elapsed": 178435,
     "status": "ok",
     "timestamp": 1595629307820,
     "user": {
      "displayName": "Hugo Tallys Martins Oliveira",
      "photoUrl": "",
      "userId": "01749757928754934577"
     },
     "user_tz": 180
    },
    "id": "96WtJKbpGTZL",
    "outputId": "5f9268f6-62b0-4664-b6cd-ef0faaa3db6e"
   },
   "outputs": [
    {
     "data": {
      "text/html": [
       "\n",
       "\n",
       "\n",
       "\n",
       "\n",
       "\n",
       "  <div class=\"bk-root\" id=\"0a35b80d-29d2-4020-b3ed-32068a696102\" data-root-id=\"1101\"></div>\n"
      ]
     },
     "metadata": {},
     "output_type": "display_data"
    },
    {
     "data": {
      "application/javascript": [
       "(function(root) {\n",
       "  function embed_document(root) {\n",
       "    \n",
       "  var docs_json = {\"d7f50c30-8290-400a-b3d0-5e6f02814991\":{\"roots\":{\"references\":[{\"attributes\":{\"below\":[{\"id\":\"1110\"}],\"center\":[{\"id\":\"1113\"},{\"id\":\"1117\"}],\"left\":[{\"id\":\"1114\"}],\"plot_height\":500,\"plot_width\":1000,\"renderers\":[{\"id\":\"1135\"}],\"title\":{\"id\":\"1147\"},\"toolbar\":{\"id\":\"1125\"},\"x_range\":{\"id\":\"1102\"},\"x_scale\":{\"id\":\"1106\"},\"y_range\":{\"id\":\"1104\"},\"y_scale\":{\"id\":\"1108\"}},\"id\":\"1101\",\"subtype\":\"Figure\",\"type\":\"Plot\"},{\"attributes\":{\"formatter\":{\"id\":\"1148\"},\"ticker\":{\"id\":\"1111\"}},\"id\":\"1110\",\"type\":\"LinearAxis\"},{\"attributes\":{\"formatter\":{\"id\":\"1150\"},\"ticker\":{\"id\":\"1115\"}},\"id\":\"1114\",\"type\":\"LinearAxis\"},{\"attributes\":{},\"id\":\"1108\",\"type\":\"LinearScale\"},{\"attributes\":{},\"id\":\"1119\",\"type\":\"WheelZoomTool\"},{\"attributes\":{},\"id\":\"1154\",\"type\":\"UnionRenderers\"},{\"attributes\":{\"axis\":{\"id\":\"1114\"},\"dimension\":1,\"ticker\":null},\"id\":\"1117\",\"type\":\"Grid\"},{\"attributes\":{},\"id\":\"1111\",\"type\":\"BasicTicker\"},{\"attributes\":{},\"id\":\"1122\",\"type\":\"ResetTool\"},{\"attributes\":{},\"id\":\"1121\",\"type\":\"SaveTool\"},{\"attributes\":{},\"id\":\"1153\",\"type\":\"Selection\"},{\"attributes\":{\"bottom_units\":\"screen\",\"fill_alpha\":0.5,\"fill_color\":\"lightgrey\",\"left_units\":\"screen\",\"level\":\"overlay\",\"line_alpha\":1.0,\"line_color\":\"black\",\"line_dash\":[4,4],\"line_width\":2,\"right_units\":\"screen\",\"top_units\":\"screen\"},\"id\":\"1124\",\"type\":\"BoxAnnotation\"},{\"attributes\":{\"data\":{\"fill_color\":[\"#d62728\",\"#1f77b4\",\"#9467bd\",\"#7f7f7f\",\"#9467bd\",\"#ff7f0e\",\"#7f7f7f\",\"#9467bd\",\"#ff7f0e\",\"#aec7e8\",\"#9467bd\",\"#aec7e8\",\"#aec7e8\",\"#9467bd\",\"#ff7f0e\",\"#9edae5\",\"#ff7f0e\",\"#7f7f7f\",\"#7f7f7f\",\"#aec7e8\",\"#aec7e8\",\"#7f7f7f\",\"#9467bd\",\"#ff7f0e\",\"#ff7f0e\",\"#7f7f7f\",\"#aec7e8\",\"#ff7f0e\",\"#ff7f0e\",\"#ff7f0e\",\"#7f7f7f\",\"#ff7f0e\",\"#9edae5\",\"#7f7f7f\",\"#9edae5\",\"#7f7f7f\",\"#9467bd\",\"#7f7f7f\",\"#f7b6d2\",\"#7f7f7f\",\"#ff7f0e\",\"#dbdb8d\",\"#c7c7c7\",\"#7f7f7f\",\"#ff7f0e\",\"#ff7f0e\",\"#7f7f7f\",\"#ff7f0e\",\"#7f7f7f\",\"#dbdb8d\",\"#aec7e8\",\"#7f7f7f\",\"#ff7f0e\",\"#7f7f7f\",\"#7f7f7f\",\"#aec7e8\",\"#d62728\",\"#d62728\",\"#aec7e8\",\"#7f7f7f\",\"#ff7f0e\",\"#7f7f7f\",\"#aec7e8\",\"#9467bd\",\"#aec7e8\",\"#1f77b4\",\"#7f7f7f\",\"#7f7f7f\",\"#ff7f0e\",\"#aec7e8\",\"#c7c7c7\",\"#9edae5\",\"#7f7f7f\",\"#bcbd22\",\"#17becf\",\"#aec7e8\",\"#7f7f7f\",\"#7f7f7f\",\"#ff7f0e\",\"#9467bd\",\"#aec7e8\",\"#9edae5\",\"#7f7f7f\",\"#9edae5\",\"#7f7f7f\",\"#9edae5\",\"#c7c7c7\",\"#1f77b4\",\"#c5b0d5\",\"#9edae5\",\"#ff7f0e\",\"#aec7e8\",\"#c5b0d5\",\"#1f77b4\",\"#ff7f0e\",\"#ff7f0e\",\"#9467bd\",\"#9edae5\",\"#ff7f0e\",\"#aec7e8\",\"#ff7f0e\",\"#9edae5\",\"#9467bd\",\"#7f7f7f\",\"#1f77b4\",\"#ff7f0e\",\"#1f77b4\",\"#aec7e8\",\"#7f7f7f\",\"#7f7f7f\",\"#7f7f7f\",\"#ff7f0e\",\"#aec7e8\",\"#aec7e8\",\"#7f7f7f\",\"#ff7f0e\",\"#7f7f7f\",\"#9467bd\",\"#aec7e8\",\"#9edae5\",\"#c7c7c7\",\"#7f7f7f\",\"#7f7f7f\",\"#aec7e8\",\"#ff7f0e\",\"#7f7f7f\",\"#ff7f0e\",\"#7f7f7f\",\"#ff7f0e\",\"#ff7f0e\",\"#7f7f7f\",\"#9467bd\",\"#dbdb8d\",\"#ff7f0e\",\"#7f7f7f\",\"#7f7f7f\",\"#aec7e8\",\"#9edae5\",\"#9edae5\",\"#aec7e8\",\"#7f7f7f\",\"#7f7f7f\",\"#aec7e8\",\"#aec7e8\",\"#aec7e8\",\"#7f7f7f\",\"#c5b0d5\",\"#7f7f7f\",\"#aec7e8\",\"#9edae5\",\"#7f7f7f\",\"#1f77b4\",\"#9edae5\",\"#9edae5\",\"#9edae5\",\"#aec7e8\",\"#7f7f7f\",\"#9edae5\",\"#7f7f7f\",\"#9467bd\",\"#aec7e8\",\"#aec7e8\",\"#9467bd\",\"#9edae5\",\"#1f77b4\",\"#7f7f7f\",\"#aec7e8\",\"#7f7f7f\",\"#7f7f7f\",\"#9467bd\",\"#ff7f0e\",\"#aec7e8\",\"#ff7f0e\",\"#aec7e8\",\"#ff7f0e\",\"#ff7f0e\",\"#ff7f0e\",\"#7f7f7f\",\"#c49c94\",\"#aec7e8\",\"#9edae5\",\"#9edae5\",\"#7f7f7f\",\"#9467bd\",\"#9edae5\",\"#9edae5\",\"#ff7f0e\",\"#aec7e8\",\"#7f7f7f\",\"#7f7f7f\",\"#7f7f7f\",\"#d62728\",\"#d62728\",\"#7f7f7f\",\"#ff7f0e\",\"#c5b0d5\",\"#7f7f7f\",\"#1f77b4\",\"#ff7f0e\",\"#1f77b4\",\"#ff7f0e\",\"#7f7f7f\",\"#9467bd\",\"#aec7e8\",\"#f7b6d2\",\"#1f77b4\",\"#ff7f0e\",\"#ff7f0e\",\"#aec7e8\",\"#ff7f0e\",\"#aec7e8\",\"#7f7f7f\",\"#aec7e8\",\"#ff7f0e\",\"#7f7f7f\",\"#9edae5\",\"#dbdb8d\",\"#7f7f7f\",\"#c49c94\",\"#9467bd\",\"#aec7e8\",\"#1f77b4\",\"#ff7f0e\",\"#9edae5\",\"#7f7f7f\",\"#7f7f7f\",\"#9edae5\",\"#ff7f0e\",\"#9edae5\",\"#ff7f0e\",\"#aec7e8\",\"#ff7f0e\",\"#aec7e8\",\"#7f7f7f\",\"#ff7f0e\",\"#9edae5\",\"#7f7f7f\",\"#9467bd\",\"#ff7f0e\",\"#9edae5\",\"#dbdb8d\",\"#aec7e8\",\"#aec7e8\",\"#9467bd\",\"#ff7f0e\",\"#7f7f7f\",\"#ff7f0e\",\"#7f7f7f\",\"#7f7f7f\",\"#aec7e8\",\"#9edae5\",\"#1f77b4\",\"#7f7f7f\",\"#aec7e8\",\"#7f7f7f\",\"#7f7f7f\",\"#ff7f0e\",\"#aec7e8\",\"#9467bd\",\"#ff7f0e\",\"#7f7f7f\",\"#c5b0d5\",\"#f7b6d2\",\"#aec7e8\",\"#7f7f7f\",\"#aec7e8\",\"#7f7f7f\",\"#ff7f0e\",\"#aec7e8\",\"#7f7f7f\",\"#7f7f7f\",\"#ff7f0e\",\"#aec7e8\",\"#9edae5\",\"#9edae5\",\"#8c564b\",\"#aec7e8\",\"#aec7e8\",\"#7f7f7f\",\"#aec7e8\",\"#ff7f0e\",\"#aec7e8\",\"#7f7f7f\",\"#7f7f7f\",\"#7f7f7f\",\"#9edae5\",\"#7f7f7f\",\"#ff9896\",\"#ff7f0e\",\"#aec7e8\",\"#7f7f7f\",\"#1f77b4\",\"#7f7f7f\",\"#aec7e8\",\"#1f77b4\",\"#7f7f7f\",\"#7f7f7f\",\"#f7b6d2\",\"#aec7e8\",\"#d62728\",\"#8c564b\",\"#7f7f7f\",\"#7f7f7f\",\"#aec7e8\",\"#9467bd\",\"#7f7f7f\",\"#aec7e8\",\"#9edae5\",\"#9edae5\",\"#9edae5\",\"#1f77b4\",\"#7f7f7f\",\"#7f7f7f\",\"#aec7e8\",\"#7f7f7f\",\"#7f7f7f\",\"#7f7f7f\",\"#1f77b4\",\"#dbdb8d\",\"#dbdb8d\",\"#1f77b4\",\"#ff7f0e\",\"#ff7f0e\",\"#7f7f7f\",\"#c5b0d5\",\"#7f7f7f\",\"#ff7f0e\",\"#7f7f7f\",\"#ff7f0e\",\"#aec7e8\",\"#aec7e8\",\"#7f7f7f\",\"#9edae5\",\"#7f7f7f\",\"#7f7f7f\",\"#7f7f7f\",\"#7f7f7f\",\"#ff7f0e\",\"#9edae5\",\"#9467bd\",\"#aec7e8\",\"#aec7e8\",\"#aec7e8\",\"#9467bd\",\"#aec7e8\",\"#ff7f0e\",\"#ff7f0e\",\"#ff7f0e\",\"#ff7f0e\",\"#7f7f7f\",\"#8c564b\",\"#c7c7c7\",\"#7f7f7f\",\"#aec7e8\",\"#c7c7c7\",\"#7f7f7f\",\"#9467bd\",\"#c49c94\",\"#d62728\",\"#9edae5\",\"#c5b0d5\",\"#d62728\",\"#1f77b4\",\"#9467bd\",\"#bcbd22\",\"#8c564b\",\"#7f7f7f\",\"#ff9896\",\"#c49c94\",\"#7f7f7f\",\"#1f77b4\",\"#f7b6d2\",\"#1f77b4\",\"#9edae5\",\"#c49c94\",\"#c7c7c7\",\"#9467bd\",\"#bcbd22\",\"#9467bd\",\"#c5b0d5\",\"#7f7f7f\",\"#ff7f0e\",\"#9edae5\",\"#ff7f0e\",\"#9edae5\",\"#ff9896\",\"#9467bd\",\"#d62728\",\"#9467bd\",\"#aec7e8\",\"#9edae5\",\"#bcbd22\",\"#7f7f7f\",\"#9467bd\",\"#c5b0d5\",\"#9467bd\",\"#c7c7c7\",\"#1f77b4\",\"#ff7f0e\",\"#9467bd\",\"#7f7f7f\",\"#1f77b4\",\"#7f7f7f\",\"#98df8a\",\"#1f77b4\",\"#7f7f7f\",\"#9edae5\",\"#c7c7c7\",\"#d62728\",\"#c5b0d5\",\"#dbdb8d\",\"#9467bd\",\"#bcbd22\",\"#dbdb8d\",\"#1f77b4\",\"#98df8a\",\"#dbdb8d\",\"#9edae5\",\"#ff9896\",\"#8c564b\",\"#d62728\",\"#ff7f0e\",\"#c49c94\",\"#c5b0d5\",\"#9467bd\",\"#9467bd\",\"#9467bd\",\"#1f77b4\",\"#d62728\",\"#d62728\",\"#98df8a\",\"#f7b6d2\",\"#c7c7c7\",\"#9edae5\",\"#c5b0d5\",\"#d62728\",\"#9edae5\",\"#9edae5\",\"#c5b0d5\",\"#aec7e8\",\"#9467bd\",\"#c5b0d5\",\"#ff9896\",\"#2ca02c\",\"#1f77b4\",\"#98df8a\",\"#d62728\",\"#e377c2\",\"#c7c7c7\",\"#9467bd\",\"#9467bd\",\"#9467bd\",\"#aec7e8\",\"#9467bd\",\"#c7c7c7\",\"#c7c7c7\",\"#ff7f0e\",\"#7f7f7f\",\"#aec7e8\",\"#9467bd\",\"#9467bd\",\"#bcbd22\",\"#1f77b4\",\"#9edae5\",\"#bcbd22\",\"#ff7f0e\",\"#1f77b4\",\"#9edae5\",\"#ff7f0e\",\"#d62728\",\"#9edae5\",\"#aec7e8\",\"#9edae5\",\"#7f7f7f\",\"#7f7f7f\",\"#98df8a\",\"#7f7f7f\",\"#7f7f7f\",\"#ff7f0e\",\"#ff7f0e\",\"#d62728\",\"#98df8a\",\"#7f7f7f\",\"#9467bd\",\"#9edae5\",\"#aec7e8\",\"#bcbd22\",\"#d62728\",\"#9467bd\",\"#9edae5\",\"#7f7f7f\",\"#f7b6d2\",\"#c49c94\",\"#aec7e8\",\"#ff7f0e\",\"#c5b0d5\",\"#f7b6d2\",\"#aec7e8\",\"#ff9896\",\"#9edae5\",\"#d62728\",\"#9467bd\",\"#aec7e8\",\"#ff9896\",\"#c5b0d5\",\"#98df8a\",\"#98df8a\",\"#c7c7c7\",\"#7f7f7f\",\"#9467bd\",\"#ff9896\",\"#9467bd\",\"#7f7f7f\",\"#8c564b\",\"#98df8a\",\"#c49c94\",\"#bcbd22\",\"#7f7f7f\",\"#9edae5\",\"#9467bd\",\"#d62728\",\"#dbdb8d\",\"#e377c2\",\"#ff7f0e\",\"#c49c94\",\"#c7c7c7\",\"#c49c94\",\"#bcbd22\",\"#9edae5\",\"#bcbd22\",\"#c5b0d5\",\"#c5b0d5\",\"#dbdb8d\",\"#aec7e8\",\"#c7c7c7\",\"#7f7f7f\",\"#9467bd\",\"#1f77b4\",\"#bcbd22\",\"#c7c7c7\",\"#ff7f0e\",\"#c5b0d5\",\"#1f77b4\",\"#bcbd22\",\"#98df8a\",\"#c7c7c7\",\"#9467bd\",\"#bcbd22\",\"#bcbd22\",\"#c7c7c7\",\"#8c564b\",\"#7f7f7f\",\"#7f7f7f\",\"#9edae5\",\"#ff9896\",\"#d62728\",\"#9edae5\",\"#f7b6d2\",\"#c5b0d5\",\"#c49c94\",\"#ff7f0e\",\"#bcbd22\",\"#9467bd\",\"#7f7f7f\",\"#8c564b\",\"#c49c94\",\"#f7b6d2\",\"#7f7f7f\",\"#ff7f0e\",\"#9edae5\",\"#aec7e8\",\"#ff9896\",\"#bcbd22\",\"#dbdb8d\",\"#9467bd\",\"#dbdb8d\",\"#9467bd\",\"#9edae5\",\"#ff7f0e\",\"#9467bd\",\"#f7b6d2\",\"#7f7f7f\",\"#8c564b\",\"#ff9896\",\"#8c564b\",\"#f7b6d2\",\"#f7b6d2\",\"#9467bd\",\"#d62728\",\"#bcbd22\",\"#9edae5\",\"#ff9896\",\"#ff9896\",\"#dbdb8d\",\"#d62728\",\"#d62728\",\"#aec7e8\",\"#1f77b4\",\"#c5b0d5\",\"#bcbd22\",\"#ff9896\",\"#7f7f7f\",\"#c5b0d5\",\"#bcbd22\",\"#bcbd22\",\"#bcbd22\",\"#c7c7c7\",\"#ff9896\",\"#ff9896\",\"#aec7e8\",\"#7f7f7f\",\"#7f7f7f\",\"#f7b6d2\",\"#9467bd\",\"#c7c7c7\",\"#98df8a\",\"#bcbd22\",\"#9467bd\",\"#7f7f7f\",\"#9467bd\",\"#bcbd22\",\"#98df8a\",\"#ff7f0e\",\"#9edae5\",\"#c5b0d5\",\"#f7b6d2\",\"#9467bd\",\"#aec7e8\",\"#c7c7c7\",\"#c7c7c7\",\"#d62728\",\"#9467bd\",\"#f7b6d2\",\"#9467bd\",\"#dbdb8d\",\"#ff7f0e\",\"#9edae5\",\"#7f7f7f\",\"#c7c7c7\",\"#dbdb8d\",\"#7f7f7f\",\"#ff7f0e\",\"#bcbd22\",\"#7f7f7f\",\"#9edae5\",\"#2ca02c\",\"#2ca02c\",\"#9edae5\",\"#ff9896\",\"#f7b6d2\",\"#ff9896\",\"#ff7f0e\",\"#c49c94\",\"#7f7f7f\",\"#dbdb8d\",\"#9467bd\",\"#e377c2\",\"#1f77b4\",\"#ff7f0e\",\"#c49c94\",\"#9edae5\",\"#bcbd22\",\"#98df8a\",\"#aec7e8\",\"#9467bd\",\"#98df8a\",\"#9467bd\",\"#1f77b4\",\"#1f77b4\",\"#9467bd\",\"#f7b6d2\",\"#7f7f7f\",\"#aec7e8\",\"#bcbd22\",\"#e377c2\",\"#c7c7c7\",\"#98df8a\",\"#c49c94\",\"#c49c94\",\"#7f7f7f\",\"#bcbd22\",\"#98df8a\",\"#d62728\",\"#9467bd\",\"#7f7f7f\",\"#bcbd22\",\"#c5b0d5\",\"#7f7f7f\",\"#98df8a\",\"#ff7f0e\",\"#7f7f7f\",\"#ff9896\",\"#e377c2\",\"#c5b0d5\",\"#9edae5\",\"#9467bd\",\"#dbdb8d\",\"#9edae5\",\"#bcbd22\",\"#bcbd22\",\"#1f77b4\",\"#8c564b\",\"#98df8a\",\"#aec7e8\",\"#f7b6d2\",\"#9edae5\",\"#c49c94\",\"#aec7e8\",\"#c5b0d5\",\"#d62728\",\"#bcbd22\",\"#ff7f0e\",\"#aec7e8\",\"#c5b0d5\",\"#c49c94\",\"#bcbd22\",\"#aec7e8\",\"#1f77b4\",\"#ff7f0e\",\"#ff7f0e\",\"#e377c2\",\"#c49c94\",\"#9467bd\",\"#98df8a\",\"#aec7e8\",\"#f7b6d2\",\"#ff7f0e\",\"#f7b6d2\",\"#8c564b\",\"#9467bd\",\"#2ca02c\",\"#98df8a\",\"#c49c94\",\"#ff9896\",\"#9467bd\",\"#7f7f7f\",\"#c5b0d5\",\"#bcbd22\",\"#9467bd\",\"#c5b0d5\",\"#8c564b\",\"#c7c7c7\",\"#f7b6d2\",\"#c5b0d5\",\"#1f77b4\",\"#98df8a\",\"#9edae5\",\"#7f7f7f\",\"#7f7f7f\",\"#aec7e8\",\"#f7b6d2\",\"#c49c94\",\"#9467bd\",\"#c7c7c7\",\"#ff9896\",\"#c5b0d5\",\"#aec7e8\",\"#bcbd22\",\"#98df8a\",\"#7f7f7f\",\"#7f7f7f\",\"#9edae5\",\"#aec7e8\",\"#7f7f7f\",\"#dbdb8d\",\"#9edae5\",\"#e377c2\",\"#ff9896\",\"#7f7f7f\",\"#c49c94\",\"#8c564b\",\"#7f7f7f\",\"#f7b6d2\",\"#c7c7c7\",\"#9edae5\",\"#c49c94\",\"#aec7e8\",\"#dbdb8d\",\"#c7c7c7\",\"#c7c7c7\",\"#bcbd22\",\"#98df8a\",\"#98df8a\",\"#aec7e8\",\"#1f77b4\",\"#c49c94\",\"#ff9896\",\"#98df8a\",\"#7f7f7f\",\"#ff7f0e\",\"#ff9896\",\"#9467bd\",\"#1f77b4\",\"#7f7f7f\",\"#f7b6d2\",\"#ff9896\",\"#1f77b4\",\"#1f77b4\",\"#1f77b4\",\"#9467bd\",\"#bcbd22\",\"#9467bd\",\"#1f77b4\",\"#98df8a\",\"#9edae5\",\"#9467bd\",\"#9467bd\",\"#ff9896\",\"#d62728\",\"#ff9896\",\"#9467bd\",\"#ff9896\",\"#d62728\",\"#f7b6d2\",\"#c7c7c7\",\"#f7b6d2\",\"#2ca02c\",\"#7f7f7f\",\"#dbdb8d\",\"#9edae5\",\"#c49c94\",\"#9467bd\",\"#ff7f0e\",\"#1f77b4\",\"#9467bd\",\"#c49c94\",\"#9edae5\",\"#dbdb8d\",\"#9467bd\",\"#c5b0d5\",\"#f7b6d2\",\"#f7b6d2\",\"#98df8a\",\"#bcbd22\",\"#9467bd\",\"#9467bd\",\"#c7c7c7\",\"#c7c7c7\",\"#9467bd\",\"#8c564b\",\"#ff9896\",\"#7f7f7f\",\"#aec7e8\",\"#2ca02c\",\"#bcbd22\",\"#9467bd\",\"#f7b6d2\",\"#bcbd22\",\"#7f7f7f\",\"#dbdb8d\",\"#c49c94\",\"#bcbd22\",\"#98df8a\",\"#9467bd\",\"#c49c94\",\"#c49c94\",\"#9edae5\",\"#8c564b\",\"#aec7e8\",\"#ff9896\",\"#c49c94\",\"#c49c94\",\"#c49c94\",\"#bcbd22\",\"#aec7e8\",\"#c5b0d5\",\"#98df8a\",\"#9467bd\",\"#9467bd\",\"#dbdb8d\",\"#c5b0d5\",\"#1f77b4\",\"#9467bd\",\"#f7b6d2\",\"#f7b6d2\",\"#f7b6d2\",\"#1f77b4\",\"#1f77b4\",\"#aec7e8\",\"#f7b6d2\",\"#1f77b4\",\"#9467bd\",\"#9467bd\",\"#7f7f7f\",\"#ff7f0e\",\"#ff7f0e\",\"#98df8a\",\"#9467bd\",\"#c49c94\",\"#9edae5\",\"#c7c7c7\",\"#f7b6d2\",\"#aec7e8\",\"#f7b6d2\",\"#c49c94\",\"#f7b6d2\",\"#c49c94\",\"#c49c94\",\"#9edae5\",\"#9edae5\",\"#ff7f0e\",\"#aec7e8\",\"#9edae5\",\"#aec7e8\",\"#d62728\",\"#ff7f0e\",\"#98df8a\",\"#9467bd\",\"#9467bd\",\"#c49c94\",\"#7f7f7f\",\"#f7b6d2\",\"#f7b6d2\",\"#c5b0d5\",\"#98df8a\",\"#9467bd\",\"#9edae5\",\"#f7b6d2\",\"#9edae5\",\"#1f77b4\",\"#ff9896\",\"#1f77b4\",\"#9467bd\",\"#ff9896\",\"#aec7e8\",\"#98df8a\",\"#9edae5\",\"#bcbd22\",\"#ff9896\",\"#98df8a\",\"#c49c94\",\"#7f7f7f\",\"#c5b0d5\",\"#1f77b4\",\"#9edae5\",\"#9467bd\",\"#9edae5\",\"#8c564b\",\"#1f77b4\",\"#aec7e8\",\"#9edae5\",\"#9edae5\",\"#9467bd\",\"#ff9896\",\"#ff7f0e\",\"#8c564b\",\"#98df8a\",\"#c5b0d5\",\"#d62728\",\"#9edae5\",\"#9467bd\",\"#c49c94\",\"#c49c94\",\"#9edae5\",\"#2ca02c\",\"#c49c94\",\"#8c564b\",\"#f7b6d2\",\"#c49c94\",\"#c49c94\",\"#9467bd\",\"#aec7e8\",\"#9467bd\",\"#c49c94\",\"#c7c7c7\",\"#7f7f7f\",\"#bcbd22\",\"#c5b0d5\",\"#ff9896\",\"#7f7f7f\",\"#7f7f7f\",\"#aec7e8\",\"#c49c94\",\"#f7b6d2\",\"#c49c94\",\"#c49c94\",\"#7f7f7f\",\"#ff9896\",\"#1f77b4\",\"#9467bd\",\"#ff9896\",\"#c7c7c7\",\"#c7c7c7\",\"#f7b6d2\",\"#bcbd22\",\"#c5b0d5\",\"#bcbd22\",\"#dbdb8d\",\"#9edae5\",\"#7f7f7f\",\"#c7c7c7\",\"#dbdb8d\",\"#f7b6d2\",\"#ff7f0e\",\"#ff9896\",\"#dbdb8d\",\"#8c564b\",\"#dbdb8d\",\"#9467bd\",\"#7f7f7f\",\"#98df8a\",\"#2ca02c\",\"#9edae5\",\"#f7b6d2\",\"#9467bd\",\"#c49c94\",\"#dbdb8d\",\"#7f7f7f\",\"#aec7e8\",\"#bcbd22\",\"#f7b6d2\",\"#7f7f7f\",\"#2ca02c\",\"#aec7e8\",\"#9edae5\",\"#9467bd\",\"#f7b6d2\",\"#f7b6d2\",\"#ff9896\",\"#8c564b\",\"#7f7f7f\",\"#bcbd22\",\"#dbdb8d\",\"#9edae5\",\"#d62728\",\"#dbdb8d\",\"#ff9896\",\"#98df8a\",\"#c49c94\",\"#9edae5\",\"#bcbd22\",\"#9edae5\",\"#dbdb8d\",\"#9edae5\",\"#bcbd22\",\"#9467bd\",\"#c49c94\",\"#2ca02c\",\"#c49c94\",\"#7f7f7f\",\"#9467bd\",\"#bcbd22\",\"#aec7e8\",\"#ff9896\",\"#1f77b4\",\"#dbdb8d\",\"#9edae5\",\"#bcbd22\",\"#d62728\",\"#9edae5\",\"#d62728\",\"#7f7f7f\",\"#c5b0d5\",\"#9edae5\",\"#dbdb8d\",\"#9edae5\",\"#c49c94\",\"#bcbd22\",\"#aec7e8\",\"#c49c94\",\"#8c564b\",\"#ff9896\",\"#8c564b\",\"#c7c7c7\",\"#8c564b\",\"#c5b0d5\",\"#c7c7c7\",\"#98df8a\",\"#d62728\",\"#c49c94\",\"#8c564b\",\"#f7b6d2\",\"#bcbd22\",\"#bcbd22\",\"#9467bd\",\"#bcbd22\",\"#ff9896\",\"#c5b0d5\",\"#aec7e8\",\"#c49c94\",\"#8c564b\",\"#2ca02c\",\"#9edae5\",\"#9467bd\",\"#bcbd22\",\"#ff9896\",\"#9edae5\",\"#7f7f7f\",\"#aec7e8\",\"#c5b0d5\",\"#ff7f0e\",\"#dbdb8d\",\"#f7b6d2\",\"#ff9896\",\"#c5b0d5\",\"#7f7f7f\",\"#ff9896\",\"#9467bd\",\"#aec7e8\",\"#9edae5\",\"#aec7e8\",\"#c7c7c7\",\"#c49c94\",\"#7f7f7f\",\"#8c564b\",\"#c49c94\",\"#c49c94\",\"#dbdb8d\",\"#c7c7c7\",\"#ff9896\",\"#9edae5\",\"#c49c94\",\"#9467bd\",\"#98df8a\",\"#ff7f0e\",\"#7f7f7f\",\"#f7b6d2\",\"#bcbd22\",\"#bcbd22\",\"#9467bd\",\"#8c564b\",\"#98df8a\",\"#9467bd\",\"#9edae5\",\"#c49c94\",\"#c5b0d5\",\"#ff9896\",\"#9edae5\",\"#f7b6d2\",\"#7f7f7f\",\"#9edae5\",\"#1f77b4\",\"#7f7f7f\",\"#7f7f7f\",\"#c49c94\",\"#7f7f7f\",\"#c7c7c7\",\"#8c564b\",\"#c7c7c7\",\"#dbdb8d\",\"#7f7f7f\",\"#dbdb8d\",\"#c49c94\",\"#ff9896\",\"#7f7f7f\",\"#c49c94\",\"#7f7f7f\",\"#9edae5\",\"#98df8a\",\"#c49c94\",\"#bcbd22\",\"#2ca02c\",\"#ff7f0e\",\"#dbdb8d\",\"#c49c94\",\"#ff7f0e\",\"#aec7e8\",\"#8c564b\",\"#c5b0d5\",\"#2ca02c\",\"#dbdb8d\",\"#aec7e8\",\"#c49c94\",\"#c5b0d5\",\"#c49c94\",\"#d62728\",\"#98df8a\",\"#c49c94\",\"#c49c94\",\"#c49c94\",\"#ff9896\",\"#c5b0d5\",\"#c5b0d5\",\"#2ca02c\",\"#8c564b\",\"#bcbd22\",\"#1f77b4\",\"#c7c7c7\",\"#c5b0d5\",\"#ff9896\",\"#c5b0d5\",\"#c49c94\",\"#c5b0d5\",\"#7f7f7f\",\"#8c564b\",\"#c49c94\",\"#bcbd22\",\"#9467bd\",\"#c49c94\",\"#f7b6d2\",\"#bcbd22\",\"#c7c7c7\",\"#ff9896\",\"#9467bd\",\"#dbdb8d\",\"#c7c7c7\",\"#c7c7c7\",\"#c7c7c7\",\"#f7b6d2\",\"#9467bd\",\"#c7c7c7\",\"#ff9896\",\"#dbdb8d\",\"#1f77b4\",\"#ff7f0e\",\"#f7b6d2\",\"#ff7f0e\",\"#7f7f7f\",\"#c5b0d5\",\"#8c564b\",\"#ff9896\",\"#f7b6d2\",\"#1f77b4\",\"#d62728\",\"#d62728\",\"#1f77b4\",\"#dbdb8d\",\"#ff7f0e\",\"#8c564b\",\"#8c564b\",\"#c5b0d5\",\"#98df8a\",\"#ff9896\",\"#ff7f0e\",\"#c49c94\",\"#98df8a\",\"#9edae5\",\"#9467bd\",\"#7f7f7f\",\"#dbdb8d\",\"#1f77b4\",\"#dbdb8d\",\"#9467bd\",\"#9edae5\",\"#dbdb8d\",\"#c49c94\",\"#7f7f7f\",\"#c5b0d5\",\"#8c564b\",\"#c49c94\",\"#c49c94\",\"#c49c94\",\"#bcbd22\",\"#dbdb8d\",\"#9467bd\",\"#9edae5\",\"#c49c94\",\"#1f77b4\",\"#f7b6d2\",\"#c5b0d5\",\"#ff9896\",\"#dbdb8d\",\"#c7c7c7\",\"#bcbd22\",\"#ff9896\",\"#c49c94\",\"#d62728\",\"#dbdb8d\",\"#9edae5\",\"#9edae5\",\"#8c564b\",\"#c49c94\",\"#bcbd22\",\"#7f7f7f\",\"#c7c7c7\",\"#7f7f7f\",\"#8c564b\",\"#f7b6d2\",\"#bcbd22\",\"#ff7f0e\",\"#9edae5\",\"#2ca02c\",\"#2ca02c\",\"#aec7e8\",\"#c5b0d5\",\"#ff7f0e\",\"#c49c94\",\"#9edae5\",\"#bcbd22\",\"#c7c7c7\",\"#dbdb8d\",\"#c49c94\",\"#dbdb8d\",\"#c7c7c7\",\"#98df8a\",\"#9edae5\",\"#c49c94\",\"#dbdb8d\",\"#dbdb8d\",\"#7f7f7f\",\"#9467bd\",\"#8c564b\",\"#9edae5\",\"#9467bd\",\"#ffbb78\",\"#dbdb8d\",\"#c49c94\",\"#9edae5\",\"#dbdb8d\",\"#c5b0d5\",\"#aec7e8\",\"#1f77b4\",\"#8c564b\",\"#c5b0d5\",\"#ff9896\",\"#ff9896\",\"#aec7e8\",\"#aec7e8\",\"#c7c7c7\",\"#8c564b\",\"#9467bd\",\"#ff7f0e\",\"#c5b0d5\",\"#c49c94\",\"#7f7f7f\",\"#ff9896\",\"#9467bd\",\"#bcbd22\",\"#c7c7c7\",\"#d62728\",\"#c5b0d5\",\"#c5b0d5\",\"#ff7f0e\",\"#c49c94\",\"#dbdb8d\",\"#c49c94\",\"#c5b0d5\",\"#7f7f7f\",\"#d62728\",\"#c5b0d5\",\"#1f77b4\",\"#8c564b\",\"#9467bd\",\"#9edae5\",\"#9edae5\",\"#98df8a\",\"#c7c7c7\",\"#dbdb8d\",\"#8c564b\",\"#7f7f7f\",\"#8c564b\",\"#c7c7c7\",\"#ff9896\",\"#9467bd\",\"#d62728\",\"#dbdb8d\",\"#9467bd\",\"#ff9896\",\"#9edae5\",\"#8c564b\",\"#dbdb8d\",\"#ff9896\",\"#dbdb8d\",\"#9edae5\",\"#dbdb8d\",\"#c49c94\",\"#c7c7c7\",\"#f7b6d2\",\"#c5b0d5\",\"#8c564b\",\"#ff7f0e\",\"#8c564b\",\"#c5b0d5\",\"#c7c7c7\",\"#dbdb8d\",\"#aec7e8\",\"#dbdb8d\",\"#aec7e8\",\"#c7c7c7\",\"#c7c7c7\",\"#dbdb8d\",\"#1f77b4\",\"#dbdb8d\",\"#1f77b4\",\"#c5b0d5\",\"#c5b0d5\",\"#bcbd22\",\"#d62728\",\"#8c564b\",\"#2ca02c\",\"#c5b0d5\",\"#9edae5\",\"#dbdb8d\",\"#c5b0d5\",\"#bcbd22\",\"#c49c94\",\"#c7c7c7\",\"#bcbd22\",\"#9edae5\",\"#dbdb8d\",\"#7f7f7f\",\"#1f77b4\",\"#dbdb8d\",\"#dbdb8d\",\"#8c564b\",\"#bcbd22\",\"#dbdb8d\",\"#dbdb8d\",\"#bcbd22\",\"#d62728\",\"#d62728\",\"#aec7e8\",\"#c5b0d5\",\"#d62728\",\"#c7c7c7\",\"#c5b0d5\",\"#c5b0d5\",\"#ff9896\",\"#8c564b\",\"#dbdb8d\",\"#aec7e8\",\"#7f7f7f\",\"#dbdb8d\",\"#dbdb8d\",\"#ff9896\",\"#d62728\",\"#e377c2\",\"#c5b0d5\",\"#c5b0d5\",\"#c7c7c7\",\"#c5b0d5\",\"#d62728\",\"#d62728\",\"#c49c94\",\"#dbdb8d\",\"#ff9896\",\"#7f7f7f\",\"#ff7f0e\",\"#8c564b\",\"#c7c7c7\",\"#ff7f0e\",\"#1f77b4\",\"#7f7f7f\",\"#9467bd\",\"#d62728\",\"#9467bd\",\"#1f77b4\",\"#7f7f7f\",\"#aec7e8\",\"#c49c94\",\"#bcbd22\",\"#c5b0d5\",\"#bcbd22\",\"#9edae5\",\"#d62728\",\"#f7b6d2\",\"#d62728\",\"#9467bd\",\"#9467bd\",\"#c7c7c7\",\"#ff7f0e\",\"#1f77b4\",\"#f7b6d2\",\"#f7b6d2\",\"#ff7f0e\",\"#1f77b4\",\"#9467bd\",\"#7f7f7f\",\"#dbdb8d\",\"#bcbd22\",\"#c49c94\",\"#c7c7c7\",\"#bcbd22\",\"#c7c7c7\",\"#8c564b\",\"#8c564b\",\"#c7c7c7\",\"#f7b6d2\",\"#dbdb8d\",\"#8c564b\",\"#ff7f0e\",\"#1f77b4\",\"#dbdb8d\",\"#c7c7c7\",\"#f7b6d2\",\"#dbdb8d\",\"#8c564b\",\"#8c564b\",\"#d62728\",\"#8c564b\",\"#dbdb8d\",\"#dbdb8d\",\"#bcbd22\",\"#c7c7c7\",\"#ff7f0e\",\"#8c564b\",\"#8c564b\",\"#9467bd\",\"#bcbd22\",\"#7f7f7f\",\"#c49c94\",\"#dbdb8d\",\"#9edae5\",\"#98df8a\",\"#7f7f7f\",\"#bcbd22\",\"#bcbd22\",\"#bcbd22\",\"#9edae5\",\"#bcbd22\",\"#9467bd\",\"#9467bd\",\"#9467bd\",\"#d62728\",\"#98df8a\",\"#d62728\",\"#c49c94\",\"#9467bd\",\"#c7c7c7\",\"#ff7f0e\",\"#d62728\",\"#9edae5\",\"#bcbd22\",\"#98df8a\",\"#f7b6d2\",\"#c7c7c7\",\"#dbdb8d\",\"#9467bd\",\"#9467bd\",\"#9467bd\",\"#9467bd\",\"#f7b6d2\",\"#bcbd22\",\"#f7b6d2\",\"#8c564b\",\"#9467bd\",\"#7f7f7f\",\"#ff7f0e\",\"#bcbd22\",\"#bcbd22\",\"#dbdb8d\",\"#ff7f0e\",\"#d62728\",\"#f7b6d2\",\"#ff7f0e\",\"#c7c7c7\",\"#ff7f0e\",\"#9467bd\",\"#7f7f7f\",\"#f7b6d2\",\"#7f7f7f\",\"#bcbd22\",\"#c7c7c7\",\"#c7c7c7\",\"#7f7f7f\",\"#7f7f7f\",\"#f7b6d2\",\"#ff7f0e\",\"#ff7f0e\",\"#ff7f0e\",\"#7f7f7f\",\"#7f7f7f\",\"#9467bd\",\"#f7b6d2\",\"#f7b6d2\",\"#f7b6d2\",\"#f7b6d2\",\"#c7c7c7\",\"#f7b6d2\",\"#bcbd22\",\"#f7b6d2\",\"#dbdb8d\",\"#f7b6d2\",\"#8c564b\",\"#f7b6d2\",\"#f7b6d2\",\"#ff7f0e\",\"#f7b6d2\",\"#f7b6d2\",\"#9467bd\",\"#9467bd\",\"#9467bd\",\"#dbdb8d\",\"#7f7f7f\",\"#ff7f0e\",\"#9467bd\",\"#f7b6d2\",\"#bcbd22\",\"#9467bd\",\"#9467bd\",\"#dbdb8d\",\"#aec7e8\",\"#f7b6d2\",\"#9467bd\",\"#9467bd\",\"#8c564b\",\"#bcbd22\",\"#ff7f0e\",\"#8c564b\",\"#ff9896\",\"#c7c7c7\",\"#c5b0d5\",\"#1f77b4\",\"#1f77b4\",\"#9467bd\",\"#c7c7c7\",\"#9467bd\",\"#9467bd\",\"#7f7f7f\",\"#c5b0d5\",\"#f7b6d2\",\"#c5b0d5\",\"#f7b6d2\",\"#bcbd22\",\"#9edae5\",\"#9467bd\",\"#9467bd\",\"#c7c7c7\",\"#1f77b4\",\"#bcbd22\",\"#9edae5\",\"#7f7f7f\",\"#d62728\",\"#9467bd\",\"#f7b6d2\",\"#9edae5\"],\"line_color\":[\"#d62728\",\"#1f77b4\",\"#9467bd\",\"#7f7f7f\",\"#9467bd\",\"#ff7f0e\",\"#7f7f7f\",\"#9467bd\",\"#ff7f0e\",\"#aec7e8\",\"#9467bd\",\"#aec7e8\",\"#aec7e8\",\"#9467bd\",\"#ff7f0e\",\"#9edae5\",\"#ff7f0e\",\"#7f7f7f\",\"#7f7f7f\",\"#aec7e8\",\"#aec7e8\",\"#7f7f7f\",\"#9467bd\",\"#ff7f0e\",\"#ff7f0e\",\"#7f7f7f\",\"#aec7e8\",\"#ff7f0e\",\"#ff7f0e\",\"#ff7f0e\",\"#7f7f7f\",\"#ff7f0e\",\"#9edae5\",\"#7f7f7f\",\"#9edae5\",\"#7f7f7f\",\"#9467bd\",\"#7f7f7f\",\"#f7b6d2\",\"#7f7f7f\",\"#ff7f0e\",\"#dbdb8d\",\"#c7c7c7\",\"#7f7f7f\",\"#ff7f0e\",\"#ff7f0e\",\"#7f7f7f\",\"#ff7f0e\",\"#7f7f7f\",\"#dbdb8d\",\"#aec7e8\",\"#7f7f7f\",\"#ff7f0e\",\"#7f7f7f\",\"#7f7f7f\",\"#aec7e8\",\"#d62728\",\"#d62728\",\"#aec7e8\",\"#7f7f7f\",\"#ff7f0e\",\"#7f7f7f\",\"#aec7e8\",\"#9467bd\",\"#aec7e8\",\"#1f77b4\",\"#7f7f7f\",\"#7f7f7f\",\"#ff7f0e\",\"#aec7e8\",\"#c7c7c7\",\"#9edae5\",\"#7f7f7f\",\"#bcbd22\",\"#17becf\",\"#aec7e8\",\"#7f7f7f\",\"#7f7f7f\",\"#ff7f0e\",\"#9467bd\",\"#aec7e8\",\"#9edae5\",\"#7f7f7f\",\"#9edae5\",\"#7f7f7f\",\"#9edae5\",\"#c7c7c7\",\"#1f77b4\",\"#c5b0d5\",\"#9edae5\",\"#ff7f0e\",\"#aec7e8\",\"#c5b0d5\",\"#1f77b4\",\"#ff7f0e\",\"#ff7f0e\",\"#9467bd\",\"#9edae5\",\"#ff7f0e\",\"#aec7e8\",\"#ff7f0e\",\"#9edae5\",\"#9467bd\",\"#7f7f7f\",\"#1f77b4\",\"#ff7f0e\",\"#1f77b4\",\"#aec7e8\",\"#7f7f7f\",\"#7f7f7f\",\"#7f7f7f\",\"#ff7f0e\",\"#aec7e8\",\"#aec7e8\",\"#7f7f7f\",\"#ff7f0e\",\"#7f7f7f\",\"#9467bd\",\"#aec7e8\",\"#9edae5\",\"#c7c7c7\",\"#7f7f7f\",\"#7f7f7f\",\"#aec7e8\",\"#ff7f0e\",\"#7f7f7f\",\"#ff7f0e\",\"#7f7f7f\",\"#ff7f0e\",\"#ff7f0e\",\"#7f7f7f\",\"#9467bd\",\"#dbdb8d\",\"#ff7f0e\",\"#7f7f7f\",\"#7f7f7f\",\"#aec7e8\",\"#9edae5\",\"#9edae5\",\"#aec7e8\",\"#7f7f7f\",\"#7f7f7f\",\"#aec7e8\",\"#aec7e8\",\"#aec7e8\",\"#7f7f7f\",\"#c5b0d5\",\"#7f7f7f\",\"#aec7e8\",\"#9edae5\",\"#7f7f7f\",\"#1f77b4\",\"#9edae5\",\"#9edae5\",\"#9edae5\",\"#aec7e8\",\"#7f7f7f\",\"#9edae5\",\"#7f7f7f\",\"#9467bd\",\"#aec7e8\",\"#aec7e8\",\"#9467bd\",\"#9edae5\",\"#1f77b4\",\"#7f7f7f\",\"#aec7e8\",\"#7f7f7f\",\"#7f7f7f\",\"#9467bd\",\"#ff7f0e\",\"#aec7e8\",\"#ff7f0e\",\"#aec7e8\",\"#ff7f0e\",\"#ff7f0e\",\"#ff7f0e\",\"#7f7f7f\",\"#c49c94\",\"#aec7e8\",\"#9edae5\",\"#9edae5\",\"#7f7f7f\",\"#9467bd\",\"#9edae5\",\"#9edae5\",\"#ff7f0e\",\"#aec7e8\",\"#7f7f7f\",\"#7f7f7f\",\"#7f7f7f\",\"#d62728\",\"#d62728\",\"#7f7f7f\",\"#ff7f0e\",\"#c5b0d5\",\"#7f7f7f\",\"#1f77b4\",\"#ff7f0e\",\"#1f77b4\",\"#ff7f0e\",\"#7f7f7f\",\"#9467bd\",\"#aec7e8\",\"#f7b6d2\",\"#1f77b4\",\"#ff7f0e\",\"#ff7f0e\",\"#aec7e8\",\"#ff7f0e\",\"#aec7e8\",\"#7f7f7f\",\"#aec7e8\",\"#ff7f0e\",\"#7f7f7f\",\"#9edae5\",\"#dbdb8d\",\"#7f7f7f\",\"#c49c94\",\"#9467bd\",\"#aec7e8\",\"#1f77b4\",\"#ff7f0e\",\"#9edae5\",\"#7f7f7f\",\"#7f7f7f\",\"#9edae5\",\"#ff7f0e\",\"#9edae5\",\"#ff7f0e\",\"#aec7e8\",\"#ff7f0e\",\"#aec7e8\",\"#7f7f7f\",\"#ff7f0e\",\"#9edae5\",\"#7f7f7f\",\"#9467bd\",\"#ff7f0e\",\"#9edae5\",\"#dbdb8d\",\"#aec7e8\",\"#aec7e8\",\"#9467bd\",\"#ff7f0e\",\"#7f7f7f\",\"#ff7f0e\",\"#7f7f7f\",\"#7f7f7f\",\"#aec7e8\",\"#9edae5\",\"#1f77b4\",\"#7f7f7f\",\"#aec7e8\",\"#7f7f7f\",\"#7f7f7f\",\"#ff7f0e\",\"#aec7e8\",\"#9467bd\",\"#ff7f0e\",\"#7f7f7f\",\"#c5b0d5\",\"#f7b6d2\",\"#aec7e8\",\"#7f7f7f\",\"#aec7e8\",\"#7f7f7f\",\"#ff7f0e\",\"#aec7e8\",\"#7f7f7f\",\"#7f7f7f\",\"#ff7f0e\",\"#aec7e8\",\"#9edae5\",\"#9edae5\",\"#8c564b\",\"#aec7e8\",\"#aec7e8\",\"#7f7f7f\",\"#aec7e8\",\"#ff7f0e\",\"#aec7e8\",\"#7f7f7f\",\"#7f7f7f\",\"#7f7f7f\",\"#9edae5\",\"#7f7f7f\",\"#ff9896\",\"#ff7f0e\",\"#aec7e8\",\"#7f7f7f\",\"#1f77b4\",\"#7f7f7f\",\"#aec7e8\",\"#1f77b4\",\"#7f7f7f\",\"#7f7f7f\",\"#f7b6d2\",\"#aec7e8\",\"#d62728\",\"#8c564b\",\"#7f7f7f\",\"#7f7f7f\",\"#aec7e8\",\"#9467bd\",\"#7f7f7f\",\"#aec7e8\",\"#9edae5\",\"#9edae5\",\"#9edae5\",\"#1f77b4\",\"#7f7f7f\",\"#7f7f7f\",\"#aec7e8\",\"#7f7f7f\",\"#7f7f7f\",\"#7f7f7f\",\"#1f77b4\",\"#dbdb8d\",\"#dbdb8d\",\"#1f77b4\",\"#ff7f0e\",\"#ff7f0e\",\"#7f7f7f\",\"#c5b0d5\",\"#7f7f7f\",\"#ff7f0e\",\"#7f7f7f\",\"#ff7f0e\",\"#aec7e8\",\"#aec7e8\",\"#7f7f7f\",\"#9edae5\",\"#7f7f7f\",\"#7f7f7f\",\"#7f7f7f\",\"#7f7f7f\",\"#ff7f0e\",\"#9edae5\",\"#9467bd\",\"#aec7e8\",\"#aec7e8\",\"#aec7e8\",\"#9467bd\",\"#aec7e8\",\"#ff7f0e\",\"#ff7f0e\",\"#ff7f0e\",\"#ff7f0e\",\"#7f7f7f\",\"#8c564b\",\"#c7c7c7\",\"#7f7f7f\",\"#aec7e8\",\"#c7c7c7\",\"#7f7f7f\",\"#9467bd\",\"#c49c94\",\"#d62728\",\"#9edae5\",\"#c5b0d5\",\"#d62728\",\"#1f77b4\",\"#9467bd\",\"#bcbd22\",\"#8c564b\",\"#7f7f7f\",\"#ff9896\",\"#c49c94\",\"#7f7f7f\",\"#1f77b4\",\"#f7b6d2\",\"#1f77b4\",\"#9edae5\",\"#c49c94\",\"#c7c7c7\",\"#9467bd\",\"#bcbd22\",\"#9467bd\",\"#c5b0d5\",\"#7f7f7f\",\"#ff7f0e\",\"#9edae5\",\"#ff7f0e\",\"#9edae5\",\"#ff9896\",\"#9467bd\",\"#d62728\",\"#9467bd\",\"#aec7e8\",\"#9edae5\",\"#bcbd22\",\"#7f7f7f\",\"#9467bd\",\"#c5b0d5\",\"#9467bd\",\"#c7c7c7\",\"#1f77b4\",\"#ff7f0e\",\"#9467bd\",\"#7f7f7f\",\"#1f77b4\",\"#7f7f7f\",\"#98df8a\",\"#1f77b4\",\"#7f7f7f\",\"#9edae5\",\"#c7c7c7\",\"#d62728\",\"#c5b0d5\",\"#dbdb8d\",\"#9467bd\",\"#bcbd22\",\"#dbdb8d\",\"#1f77b4\",\"#98df8a\",\"#dbdb8d\",\"#9edae5\",\"#ff9896\",\"#8c564b\",\"#d62728\",\"#ff7f0e\",\"#c49c94\",\"#c5b0d5\",\"#9467bd\",\"#9467bd\",\"#9467bd\",\"#1f77b4\",\"#d62728\",\"#d62728\",\"#98df8a\",\"#f7b6d2\",\"#c7c7c7\",\"#9edae5\",\"#c5b0d5\",\"#d62728\",\"#9edae5\",\"#9edae5\",\"#c5b0d5\",\"#aec7e8\",\"#9467bd\",\"#c5b0d5\",\"#ff9896\",\"#2ca02c\",\"#1f77b4\",\"#98df8a\",\"#d62728\",\"#e377c2\",\"#c7c7c7\",\"#9467bd\",\"#9467bd\",\"#9467bd\",\"#aec7e8\",\"#9467bd\",\"#c7c7c7\",\"#c7c7c7\",\"#ff7f0e\",\"#7f7f7f\",\"#aec7e8\",\"#9467bd\",\"#9467bd\",\"#bcbd22\",\"#1f77b4\",\"#9edae5\",\"#bcbd22\",\"#ff7f0e\",\"#1f77b4\",\"#9edae5\",\"#ff7f0e\",\"#d62728\",\"#9edae5\",\"#aec7e8\",\"#9edae5\",\"#7f7f7f\",\"#7f7f7f\",\"#98df8a\",\"#7f7f7f\",\"#7f7f7f\",\"#ff7f0e\",\"#ff7f0e\",\"#d62728\",\"#98df8a\",\"#7f7f7f\",\"#9467bd\",\"#9edae5\",\"#aec7e8\",\"#bcbd22\",\"#d62728\",\"#9467bd\",\"#9edae5\",\"#7f7f7f\",\"#f7b6d2\",\"#c49c94\",\"#aec7e8\",\"#ff7f0e\",\"#c5b0d5\",\"#f7b6d2\",\"#aec7e8\",\"#ff9896\",\"#9edae5\",\"#d62728\",\"#9467bd\",\"#aec7e8\",\"#ff9896\",\"#c5b0d5\",\"#98df8a\",\"#98df8a\",\"#c7c7c7\",\"#7f7f7f\",\"#9467bd\",\"#ff9896\",\"#9467bd\",\"#7f7f7f\",\"#8c564b\",\"#98df8a\",\"#c49c94\",\"#bcbd22\",\"#7f7f7f\",\"#9edae5\",\"#9467bd\",\"#d62728\",\"#dbdb8d\",\"#e377c2\",\"#ff7f0e\",\"#c49c94\",\"#c7c7c7\",\"#c49c94\",\"#bcbd22\",\"#9edae5\",\"#bcbd22\",\"#c5b0d5\",\"#c5b0d5\",\"#dbdb8d\",\"#aec7e8\",\"#c7c7c7\",\"#7f7f7f\",\"#9467bd\",\"#1f77b4\",\"#bcbd22\",\"#c7c7c7\",\"#ff7f0e\",\"#c5b0d5\",\"#1f77b4\",\"#bcbd22\",\"#98df8a\",\"#c7c7c7\",\"#9467bd\",\"#bcbd22\",\"#bcbd22\",\"#c7c7c7\",\"#8c564b\",\"#7f7f7f\",\"#7f7f7f\",\"#9edae5\",\"#ff9896\",\"#d62728\",\"#9edae5\",\"#f7b6d2\",\"#c5b0d5\",\"#c49c94\",\"#ff7f0e\",\"#bcbd22\",\"#9467bd\",\"#7f7f7f\",\"#8c564b\",\"#c49c94\",\"#f7b6d2\",\"#7f7f7f\",\"#ff7f0e\",\"#9edae5\",\"#aec7e8\",\"#ff9896\",\"#bcbd22\",\"#dbdb8d\",\"#9467bd\",\"#dbdb8d\",\"#9467bd\",\"#9edae5\",\"#ff7f0e\",\"#9467bd\",\"#f7b6d2\",\"#7f7f7f\",\"#8c564b\",\"#ff9896\",\"#8c564b\",\"#f7b6d2\",\"#f7b6d2\",\"#9467bd\",\"#d62728\",\"#bcbd22\",\"#9edae5\",\"#ff9896\",\"#ff9896\",\"#dbdb8d\",\"#d62728\",\"#d62728\",\"#aec7e8\",\"#1f77b4\",\"#c5b0d5\",\"#bcbd22\",\"#ff9896\",\"#7f7f7f\",\"#c5b0d5\",\"#bcbd22\",\"#bcbd22\",\"#bcbd22\",\"#c7c7c7\",\"#ff9896\",\"#ff9896\",\"#aec7e8\",\"#7f7f7f\",\"#7f7f7f\",\"#f7b6d2\",\"#9467bd\",\"#c7c7c7\",\"#98df8a\",\"#bcbd22\",\"#9467bd\",\"#7f7f7f\",\"#9467bd\",\"#bcbd22\",\"#98df8a\",\"#ff7f0e\",\"#9edae5\",\"#c5b0d5\",\"#f7b6d2\",\"#9467bd\",\"#aec7e8\",\"#c7c7c7\",\"#c7c7c7\",\"#d62728\",\"#9467bd\",\"#f7b6d2\",\"#9467bd\",\"#dbdb8d\",\"#ff7f0e\",\"#9edae5\",\"#7f7f7f\",\"#c7c7c7\",\"#dbdb8d\",\"#7f7f7f\",\"#ff7f0e\",\"#bcbd22\",\"#7f7f7f\",\"#9edae5\",\"#2ca02c\",\"#2ca02c\",\"#9edae5\",\"#ff9896\",\"#f7b6d2\",\"#ff9896\",\"#ff7f0e\",\"#c49c94\",\"#7f7f7f\",\"#dbdb8d\",\"#9467bd\",\"#e377c2\",\"#1f77b4\",\"#ff7f0e\",\"#c49c94\",\"#9edae5\",\"#bcbd22\",\"#98df8a\",\"#aec7e8\",\"#9467bd\",\"#98df8a\",\"#9467bd\",\"#1f77b4\",\"#1f77b4\",\"#9467bd\",\"#f7b6d2\",\"#7f7f7f\",\"#aec7e8\",\"#bcbd22\",\"#e377c2\",\"#c7c7c7\",\"#98df8a\",\"#c49c94\",\"#c49c94\",\"#7f7f7f\",\"#bcbd22\",\"#98df8a\",\"#d62728\",\"#9467bd\",\"#7f7f7f\",\"#bcbd22\",\"#c5b0d5\",\"#7f7f7f\",\"#98df8a\",\"#ff7f0e\",\"#7f7f7f\",\"#ff9896\",\"#e377c2\",\"#c5b0d5\",\"#9edae5\",\"#9467bd\",\"#dbdb8d\",\"#9edae5\",\"#bcbd22\",\"#bcbd22\",\"#1f77b4\",\"#8c564b\",\"#98df8a\",\"#aec7e8\",\"#f7b6d2\",\"#9edae5\",\"#c49c94\",\"#aec7e8\",\"#c5b0d5\",\"#d62728\",\"#bcbd22\",\"#ff7f0e\",\"#aec7e8\",\"#c5b0d5\",\"#c49c94\",\"#bcbd22\",\"#aec7e8\",\"#1f77b4\",\"#ff7f0e\",\"#ff7f0e\",\"#e377c2\",\"#c49c94\",\"#9467bd\",\"#98df8a\",\"#aec7e8\",\"#f7b6d2\",\"#ff7f0e\",\"#f7b6d2\",\"#8c564b\",\"#9467bd\",\"#2ca02c\",\"#98df8a\",\"#c49c94\",\"#ff9896\",\"#9467bd\",\"#7f7f7f\",\"#c5b0d5\",\"#bcbd22\",\"#9467bd\",\"#c5b0d5\",\"#8c564b\",\"#c7c7c7\",\"#f7b6d2\",\"#c5b0d5\",\"#1f77b4\",\"#98df8a\",\"#9edae5\",\"#7f7f7f\",\"#7f7f7f\",\"#aec7e8\",\"#f7b6d2\",\"#c49c94\",\"#9467bd\",\"#c7c7c7\",\"#ff9896\",\"#c5b0d5\",\"#aec7e8\",\"#bcbd22\",\"#98df8a\",\"#7f7f7f\",\"#7f7f7f\",\"#9edae5\",\"#aec7e8\",\"#7f7f7f\",\"#dbdb8d\",\"#9edae5\",\"#e377c2\",\"#ff9896\",\"#7f7f7f\",\"#c49c94\",\"#8c564b\",\"#7f7f7f\",\"#f7b6d2\",\"#c7c7c7\",\"#9edae5\",\"#c49c94\",\"#aec7e8\",\"#dbdb8d\",\"#c7c7c7\",\"#c7c7c7\",\"#bcbd22\",\"#98df8a\",\"#98df8a\",\"#aec7e8\",\"#1f77b4\",\"#c49c94\",\"#ff9896\",\"#98df8a\",\"#7f7f7f\",\"#ff7f0e\",\"#ff9896\",\"#9467bd\",\"#1f77b4\",\"#7f7f7f\",\"#f7b6d2\",\"#ff9896\",\"#1f77b4\",\"#1f77b4\",\"#1f77b4\",\"#9467bd\",\"#bcbd22\",\"#9467bd\",\"#1f77b4\",\"#98df8a\",\"#9edae5\",\"#9467bd\",\"#9467bd\",\"#ff9896\",\"#d62728\",\"#ff9896\",\"#9467bd\",\"#ff9896\",\"#d62728\",\"#f7b6d2\",\"#c7c7c7\",\"#f7b6d2\",\"#2ca02c\",\"#7f7f7f\",\"#dbdb8d\",\"#9edae5\",\"#c49c94\",\"#9467bd\",\"#ff7f0e\",\"#1f77b4\",\"#9467bd\",\"#c49c94\",\"#9edae5\",\"#dbdb8d\",\"#9467bd\",\"#c5b0d5\",\"#f7b6d2\",\"#f7b6d2\",\"#98df8a\",\"#bcbd22\",\"#9467bd\",\"#9467bd\",\"#c7c7c7\",\"#c7c7c7\",\"#9467bd\",\"#8c564b\",\"#ff9896\",\"#7f7f7f\",\"#aec7e8\",\"#2ca02c\",\"#bcbd22\",\"#9467bd\",\"#f7b6d2\",\"#bcbd22\",\"#7f7f7f\",\"#dbdb8d\",\"#c49c94\",\"#bcbd22\",\"#98df8a\",\"#9467bd\",\"#c49c94\",\"#c49c94\",\"#9edae5\",\"#8c564b\",\"#aec7e8\",\"#ff9896\",\"#c49c94\",\"#c49c94\",\"#c49c94\",\"#bcbd22\",\"#aec7e8\",\"#c5b0d5\",\"#98df8a\",\"#9467bd\",\"#9467bd\",\"#dbdb8d\",\"#c5b0d5\",\"#1f77b4\",\"#9467bd\",\"#f7b6d2\",\"#f7b6d2\",\"#f7b6d2\",\"#1f77b4\",\"#1f77b4\",\"#aec7e8\",\"#f7b6d2\",\"#1f77b4\",\"#9467bd\",\"#9467bd\",\"#7f7f7f\",\"#ff7f0e\",\"#ff7f0e\",\"#98df8a\",\"#9467bd\",\"#c49c94\",\"#9edae5\",\"#c7c7c7\",\"#f7b6d2\",\"#aec7e8\",\"#f7b6d2\",\"#c49c94\",\"#f7b6d2\",\"#c49c94\",\"#c49c94\",\"#9edae5\",\"#9edae5\",\"#ff7f0e\",\"#aec7e8\",\"#9edae5\",\"#aec7e8\",\"#d62728\",\"#ff7f0e\",\"#98df8a\",\"#9467bd\",\"#9467bd\",\"#c49c94\",\"#7f7f7f\",\"#f7b6d2\",\"#f7b6d2\",\"#c5b0d5\",\"#98df8a\",\"#9467bd\",\"#9edae5\",\"#f7b6d2\",\"#9edae5\",\"#1f77b4\",\"#ff9896\",\"#1f77b4\",\"#9467bd\",\"#ff9896\",\"#aec7e8\",\"#98df8a\",\"#9edae5\",\"#bcbd22\",\"#ff9896\",\"#98df8a\",\"#c49c94\",\"#7f7f7f\",\"#c5b0d5\",\"#1f77b4\",\"#9edae5\",\"#9467bd\",\"#9edae5\",\"#8c564b\",\"#1f77b4\",\"#aec7e8\",\"#9edae5\",\"#9edae5\",\"#9467bd\",\"#ff9896\",\"#ff7f0e\",\"#8c564b\",\"#98df8a\",\"#c5b0d5\",\"#d62728\",\"#9edae5\",\"#9467bd\",\"#c49c94\",\"#c49c94\",\"#9edae5\",\"#2ca02c\",\"#c49c94\",\"#8c564b\",\"#f7b6d2\",\"#c49c94\",\"#c49c94\",\"#9467bd\",\"#aec7e8\",\"#9467bd\",\"#c49c94\",\"#c7c7c7\",\"#7f7f7f\",\"#bcbd22\",\"#c5b0d5\",\"#ff9896\",\"#7f7f7f\",\"#7f7f7f\",\"#aec7e8\",\"#c49c94\",\"#f7b6d2\",\"#c49c94\",\"#c49c94\",\"#7f7f7f\",\"#ff9896\",\"#1f77b4\",\"#9467bd\",\"#ff9896\",\"#c7c7c7\",\"#c7c7c7\",\"#f7b6d2\",\"#bcbd22\",\"#c5b0d5\",\"#bcbd22\",\"#dbdb8d\",\"#9edae5\",\"#7f7f7f\",\"#c7c7c7\",\"#dbdb8d\",\"#f7b6d2\",\"#ff7f0e\",\"#ff9896\",\"#dbdb8d\",\"#8c564b\",\"#dbdb8d\",\"#9467bd\",\"#7f7f7f\",\"#98df8a\",\"#2ca02c\",\"#9edae5\",\"#f7b6d2\",\"#9467bd\",\"#c49c94\",\"#dbdb8d\",\"#7f7f7f\",\"#aec7e8\",\"#bcbd22\",\"#f7b6d2\",\"#7f7f7f\",\"#2ca02c\",\"#aec7e8\",\"#9edae5\",\"#9467bd\",\"#f7b6d2\",\"#f7b6d2\",\"#ff9896\",\"#8c564b\",\"#7f7f7f\",\"#bcbd22\",\"#dbdb8d\",\"#9edae5\",\"#d62728\",\"#dbdb8d\",\"#ff9896\",\"#98df8a\",\"#c49c94\",\"#9edae5\",\"#bcbd22\",\"#9edae5\",\"#dbdb8d\",\"#9edae5\",\"#bcbd22\",\"#9467bd\",\"#c49c94\",\"#2ca02c\",\"#c49c94\",\"#7f7f7f\",\"#9467bd\",\"#bcbd22\",\"#aec7e8\",\"#ff9896\",\"#1f77b4\",\"#dbdb8d\",\"#9edae5\",\"#bcbd22\",\"#d62728\",\"#9edae5\",\"#d62728\",\"#7f7f7f\",\"#c5b0d5\",\"#9edae5\",\"#dbdb8d\",\"#9edae5\",\"#c49c94\",\"#bcbd22\",\"#aec7e8\",\"#c49c94\",\"#8c564b\",\"#ff9896\",\"#8c564b\",\"#c7c7c7\",\"#8c564b\",\"#c5b0d5\",\"#c7c7c7\",\"#98df8a\",\"#d62728\",\"#c49c94\",\"#8c564b\",\"#f7b6d2\",\"#bcbd22\",\"#bcbd22\",\"#9467bd\",\"#bcbd22\",\"#ff9896\",\"#c5b0d5\",\"#aec7e8\",\"#c49c94\",\"#8c564b\",\"#2ca02c\",\"#9edae5\",\"#9467bd\",\"#bcbd22\",\"#ff9896\",\"#9edae5\",\"#7f7f7f\",\"#aec7e8\",\"#c5b0d5\",\"#ff7f0e\",\"#dbdb8d\",\"#f7b6d2\",\"#ff9896\",\"#c5b0d5\",\"#7f7f7f\",\"#ff9896\",\"#9467bd\",\"#aec7e8\",\"#9edae5\",\"#aec7e8\",\"#c7c7c7\",\"#c49c94\",\"#7f7f7f\",\"#8c564b\",\"#c49c94\",\"#c49c94\",\"#dbdb8d\",\"#c7c7c7\",\"#ff9896\",\"#9edae5\",\"#c49c94\",\"#9467bd\",\"#98df8a\",\"#ff7f0e\",\"#7f7f7f\",\"#f7b6d2\",\"#bcbd22\",\"#bcbd22\",\"#9467bd\",\"#8c564b\",\"#98df8a\",\"#9467bd\",\"#9edae5\",\"#c49c94\",\"#c5b0d5\",\"#ff9896\",\"#9edae5\",\"#f7b6d2\",\"#7f7f7f\",\"#9edae5\",\"#1f77b4\",\"#7f7f7f\",\"#7f7f7f\",\"#c49c94\",\"#7f7f7f\",\"#c7c7c7\",\"#8c564b\",\"#c7c7c7\",\"#dbdb8d\",\"#7f7f7f\",\"#dbdb8d\",\"#c49c94\",\"#ff9896\",\"#7f7f7f\",\"#c49c94\",\"#7f7f7f\",\"#9edae5\",\"#98df8a\",\"#c49c94\",\"#bcbd22\",\"#2ca02c\",\"#ff7f0e\",\"#dbdb8d\",\"#c49c94\",\"#ff7f0e\",\"#aec7e8\",\"#8c564b\",\"#c5b0d5\",\"#2ca02c\",\"#dbdb8d\",\"#aec7e8\",\"#c49c94\",\"#c5b0d5\",\"#c49c94\",\"#d62728\",\"#98df8a\",\"#c49c94\",\"#c49c94\",\"#c49c94\",\"#ff9896\",\"#c5b0d5\",\"#c5b0d5\",\"#2ca02c\",\"#8c564b\",\"#bcbd22\",\"#1f77b4\",\"#c7c7c7\",\"#c5b0d5\",\"#ff9896\",\"#c5b0d5\",\"#c49c94\",\"#c5b0d5\",\"#7f7f7f\",\"#8c564b\",\"#c49c94\",\"#bcbd22\",\"#9467bd\",\"#c49c94\",\"#f7b6d2\",\"#bcbd22\",\"#c7c7c7\",\"#ff9896\",\"#9467bd\",\"#dbdb8d\",\"#c7c7c7\",\"#c7c7c7\",\"#c7c7c7\",\"#f7b6d2\",\"#9467bd\",\"#c7c7c7\",\"#ff9896\",\"#dbdb8d\",\"#1f77b4\",\"#ff7f0e\",\"#f7b6d2\",\"#ff7f0e\",\"#7f7f7f\",\"#c5b0d5\",\"#8c564b\",\"#ff9896\",\"#f7b6d2\",\"#1f77b4\",\"#d62728\",\"#d62728\",\"#1f77b4\",\"#dbdb8d\",\"#ff7f0e\",\"#8c564b\",\"#8c564b\",\"#c5b0d5\",\"#98df8a\",\"#ff9896\",\"#ff7f0e\",\"#c49c94\",\"#98df8a\",\"#9edae5\",\"#9467bd\",\"#7f7f7f\",\"#dbdb8d\",\"#1f77b4\",\"#dbdb8d\",\"#9467bd\",\"#9edae5\",\"#dbdb8d\",\"#c49c94\",\"#7f7f7f\",\"#c5b0d5\",\"#8c564b\",\"#c49c94\",\"#c49c94\",\"#c49c94\",\"#bcbd22\",\"#dbdb8d\",\"#9467bd\",\"#9edae5\",\"#c49c94\",\"#1f77b4\",\"#f7b6d2\",\"#c5b0d5\",\"#ff9896\",\"#dbdb8d\",\"#c7c7c7\",\"#bcbd22\",\"#ff9896\",\"#c49c94\",\"#d62728\",\"#dbdb8d\",\"#9edae5\",\"#9edae5\",\"#8c564b\",\"#c49c94\",\"#bcbd22\",\"#7f7f7f\",\"#c7c7c7\",\"#7f7f7f\",\"#8c564b\",\"#f7b6d2\",\"#bcbd22\",\"#ff7f0e\",\"#9edae5\",\"#2ca02c\",\"#2ca02c\",\"#aec7e8\",\"#c5b0d5\",\"#ff7f0e\",\"#c49c94\",\"#9edae5\",\"#bcbd22\",\"#c7c7c7\",\"#dbdb8d\",\"#c49c94\",\"#dbdb8d\",\"#c7c7c7\",\"#98df8a\",\"#9edae5\",\"#c49c94\",\"#dbdb8d\",\"#dbdb8d\",\"#7f7f7f\",\"#9467bd\",\"#8c564b\",\"#9edae5\",\"#9467bd\",\"#ffbb78\",\"#dbdb8d\",\"#c49c94\",\"#9edae5\",\"#dbdb8d\",\"#c5b0d5\",\"#aec7e8\",\"#1f77b4\",\"#8c564b\",\"#c5b0d5\",\"#ff9896\",\"#ff9896\",\"#aec7e8\",\"#aec7e8\",\"#c7c7c7\",\"#8c564b\",\"#9467bd\",\"#ff7f0e\",\"#c5b0d5\",\"#c49c94\",\"#7f7f7f\",\"#ff9896\",\"#9467bd\",\"#bcbd22\",\"#c7c7c7\",\"#d62728\",\"#c5b0d5\",\"#c5b0d5\",\"#ff7f0e\",\"#c49c94\",\"#dbdb8d\",\"#c49c94\",\"#c5b0d5\",\"#7f7f7f\",\"#d62728\",\"#c5b0d5\",\"#1f77b4\",\"#8c564b\",\"#9467bd\",\"#9edae5\",\"#9edae5\",\"#98df8a\",\"#c7c7c7\",\"#dbdb8d\",\"#8c564b\",\"#7f7f7f\",\"#8c564b\",\"#c7c7c7\",\"#ff9896\",\"#9467bd\",\"#d62728\",\"#dbdb8d\",\"#9467bd\",\"#ff9896\",\"#9edae5\",\"#8c564b\",\"#dbdb8d\",\"#ff9896\",\"#dbdb8d\",\"#9edae5\",\"#dbdb8d\",\"#c49c94\",\"#c7c7c7\",\"#f7b6d2\",\"#c5b0d5\",\"#8c564b\",\"#ff7f0e\",\"#8c564b\",\"#c5b0d5\",\"#c7c7c7\",\"#dbdb8d\",\"#aec7e8\",\"#dbdb8d\",\"#aec7e8\",\"#c7c7c7\",\"#c7c7c7\",\"#dbdb8d\",\"#1f77b4\",\"#dbdb8d\",\"#1f77b4\",\"#c5b0d5\",\"#c5b0d5\",\"#bcbd22\",\"#d62728\",\"#8c564b\",\"#2ca02c\",\"#c5b0d5\",\"#9edae5\",\"#dbdb8d\",\"#c5b0d5\",\"#bcbd22\",\"#c49c94\",\"#c7c7c7\",\"#bcbd22\",\"#9edae5\",\"#dbdb8d\",\"#7f7f7f\",\"#1f77b4\",\"#dbdb8d\",\"#dbdb8d\",\"#8c564b\",\"#bcbd22\",\"#dbdb8d\",\"#dbdb8d\",\"#bcbd22\",\"#d62728\",\"#d62728\",\"#aec7e8\",\"#c5b0d5\",\"#d62728\",\"#c7c7c7\",\"#c5b0d5\",\"#c5b0d5\",\"#ff9896\",\"#8c564b\",\"#dbdb8d\",\"#aec7e8\",\"#7f7f7f\",\"#dbdb8d\",\"#dbdb8d\",\"#ff9896\",\"#d62728\",\"#e377c2\",\"#c5b0d5\",\"#c5b0d5\",\"#c7c7c7\",\"#c5b0d5\",\"#d62728\",\"#d62728\",\"#c49c94\",\"#dbdb8d\",\"#ff9896\",\"#7f7f7f\",\"#ff7f0e\",\"#8c564b\",\"#c7c7c7\",\"#ff7f0e\",\"#1f77b4\",\"#7f7f7f\",\"#9467bd\",\"#d62728\",\"#9467bd\",\"#1f77b4\",\"#7f7f7f\",\"#aec7e8\",\"#c49c94\",\"#bcbd22\",\"#c5b0d5\",\"#bcbd22\",\"#9edae5\",\"#d62728\",\"#f7b6d2\",\"#d62728\",\"#9467bd\",\"#9467bd\",\"#c7c7c7\",\"#ff7f0e\",\"#1f77b4\",\"#f7b6d2\",\"#f7b6d2\",\"#ff7f0e\",\"#1f77b4\",\"#9467bd\",\"#7f7f7f\",\"#dbdb8d\",\"#bcbd22\",\"#c49c94\",\"#c7c7c7\",\"#bcbd22\",\"#c7c7c7\",\"#8c564b\",\"#8c564b\",\"#c7c7c7\",\"#f7b6d2\",\"#dbdb8d\",\"#8c564b\",\"#ff7f0e\",\"#1f77b4\",\"#dbdb8d\",\"#c7c7c7\",\"#f7b6d2\",\"#dbdb8d\",\"#8c564b\",\"#8c564b\",\"#d62728\",\"#8c564b\",\"#dbdb8d\",\"#dbdb8d\",\"#bcbd22\",\"#c7c7c7\",\"#ff7f0e\",\"#8c564b\",\"#8c564b\",\"#9467bd\",\"#bcbd22\",\"#7f7f7f\",\"#c49c94\",\"#dbdb8d\",\"#9edae5\",\"#98df8a\",\"#7f7f7f\",\"#bcbd22\",\"#bcbd22\",\"#bcbd22\",\"#9edae5\",\"#bcbd22\",\"#9467bd\",\"#9467bd\",\"#9467bd\",\"#d62728\",\"#98df8a\",\"#d62728\",\"#c49c94\",\"#9467bd\",\"#c7c7c7\",\"#ff7f0e\",\"#d62728\",\"#9edae5\",\"#bcbd22\",\"#98df8a\",\"#f7b6d2\",\"#c7c7c7\",\"#dbdb8d\",\"#9467bd\",\"#9467bd\",\"#9467bd\",\"#9467bd\",\"#f7b6d2\",\"#bcbd22\",\"#f7b6d2\",\"#8c564b\",\"#9467bd\",\"#7f7f7f\",\"#ff7f0e\",\"#bcbd22\",\"#bcbd22\",\"#dbdb8d\",\"#ff7f0e\",\"#d62728\",\"#f7b6d2\",\"#ff7f0e\",\"#c7c7c7\",\"#ff7f0e\",\"#9467bd\",\"#7f7f7f\",\"#f7b6d2\",\"#7f7f7f\",\"#bcbd22\",\"#c7c7c7\",\"#c7c7c7\",\"#7f7f7f\",\"#7f7f7f\",\"#f7b6d2\",\"#ff7f0e\",\"#ff7f0e\",\"#ff7f0e\",\"#7f7f7f\",\"#7f7f7f\",\"#9467bd\",\"#f7b6d2\",\"#f7b6d2\",\"#f7b6d2\",\"#f7b6d2\",\"#c7c7c7\",\"#f7b6d2\",\"#bcbd22\",\"#f7b6d2\",\"#dbdb8d\",\"#f7b6d2\",\"#8c564b\",\"#f7b6d2\",\"#f7b6d2\",\"#ff7f0e\",\"#f7b6d2\",\"#f7b6d2\",\"#9467bd\",\"#9467bd\",\"#9467bd\",\"#dbdb8d\",\"#7f7f7f\",\"#ff7f0e\",\"#9467bd\",\"#f7b6d2\",\"#bcbd22\",\"#9467bd\",\"#9467bd\",\"#dbdb8d\",\"#aec7e8\",\"#f7b6d2\",\"#9467bd\",\"#9467bd\",\"#8c564b\",\"#bcbd22\",\"#ff7f0e\",\"#8c564b\",\"#ff9896\",\"#c7c7c7\",\"#c5b0d5\",\"#1f77b4\",\"#1f77b4\",\"#9467bd\",\"#c7c7c7\",\"#9467bd\",\"#9467bd\",\"#7f7f7f\",\"#c5b0d5\",\"#f7b6d2\",\"#c5b0d5\",\"#f7b6d2\",\"#bcbd22\",\"#9edae5\",\"#9467bd\",\"#9467bd\",\"#c7c7c7\",\"#1f77b4\",\"#bcbd22\",\"#9edae5\",\"#7f7f7f\",\"#d62728\",\"#9467bd\",\"#f7b6d2\",\"#9edae5\"],\"x\":{\"__ndarray__\":\"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\",\"dtype\":\"float32\",\"order\":\"little\",\"shape\":[1616]},\"y\":{\"__ndarray__\":\"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\",\"dtype\":\"float32\",\"order\":\"little\",\"shape\":[1616]}},\"selected\":{\"id\":\"1153\"},\"selection_policy\":{\"id\":\"1154\"}},\"id\":\"1132\",\"type\":\"ColumnDataSource\"},{\"attributes\":{\"overlay\":{\"id\":\"1124\"}},\"id\":\"1120\",\"type\":\"BoxZoomTool\"},{\"attributes\":{\"axis\":{\"id\":\"1110\"},\"ticker\":null},\"id\":\"1113\",\"type\":\"Grid\"},{\"attributes\":{\"data_source\":{\"id\":\"1132\"},\"glyph\":{\"id\":\"1133\"},\"hover_glyph\":null,\"muted_glyph\":null,\"nonselection_glyph\":{\"id\":\"1134\"},\"selection_glyph\":null,\"view\":{\"id\":\"1136\"}},\"id\":\"1135\",\"type\":\"GlyphRenderer\"},{\"attributes\":{},\"id\":\"1150\",\"type\":\"BasicTickFormatter\"},{\"attributes\":{\"source\":{\"id\":\"1132\"}},\"id\":\"1136\",\"type\":\"CDSView\"},{\"attributes\":{},\"id\":\"1104\",\"type\":\"DataRange1d\"},{\"attributes\":{},\"id\":\"1118\",\"type\":\"PanTool\"},{\"attributes\":{},\"id\":\"1106\",\"type\":\"LinearScale\"},{\"attributes\":{},\"id\":\"1102\",\"type\":\"DataRange1d\"},{\"attributes\":{},\"id\":\"1123\",\"type\":\"HelpTool\"},{\"attributes\":{\"text\":\"\"},\"id\":\"1147\",\"type\":\"Title\"},{\"attributes\":{\"fill_alpha\":{\"value\":0.1},\"fill_color\":{\"field\":\"fill_color\"},\"line_alpha\":{\"value\":0.1},\"line_color\":{\"field\":\"line_color\"},\"size\":{\"units\":\"screen\",\"value\":10},\"x\":{\"field\":\"x\"},\"y\":{\"field\":\"y\"}},\"id\":\"1134\",\"type\":\"Circle\"},{\"attributes\":{},\"id\":\"1115\",\"type\":\"BasicTicker\"},{\"attributes\":{\"fill_alpha\":{\"value\":0.8},\"fill_color\":{\"field\":\"fill_color\"},\"line_color\":{\"field\":\"line_color\"},\"size\":{\"units\":\"screen\",\"value\":10},\"x\":{\"field\":\"x\"},\"y\":{\"field\":\"y\"}},\"id\":\"1133\",\"type\":\"Circle\"},{\"attributes\":{\"active_drag\":\"auto\",\"active_inspect\":\"auto\",\"active_multi\":null,\"active_scroll\":\"auto\",\"active_tap\":\"auto\",\"tools\":[{\"id\":\"1118\"},{\"id\":\"1119\"},{\"id\":\"1120\"},{\"id\":\"1121\"},{\"id\":\"1122\"},{\"id\":\"1123\"}]},\"id\":\"1125\",\"type\":\"Toolbar\"},{\"attributes\":{},\"id\":\"1148\",\"type\":\"BasicTickFormatter\"}],\"root_ids\":[\"1101\"]},\"title\":\"Bokeh Application\",\"version\":\"2.1.1\"}};\n",
       "  var render_items = [{\"docid\":\"d7f50c30-8290-400a-b3d0-5e6f02814991\",\"root_ids\":[\"1101\"],\"roots\":{\"1101\":\"0a35b80d-29d2-4020-b3ed-32068a696102\"}}];\n",
       "  root.Bokeh.embed.embed_items_notebook(docs_json, render_items);\n",
       "\n",
       "  }\n",
       "  if (root.Bokeh !== undefined) {\n",
       "    embed_document(root);\n",
       "  } else {\n",
       "    var attempts = 0;\n",
       "    var timer = setInterval(function(root) {\n",
       "      if (root.Bokeh !== undefined) {\n",
       "        clearInterval(timer);\n",
       "        embed_document(root);\n",
       "      } else {\n",
       "        attempts++;\n",
       "        if (attempts > 100) {\n",
       "          clearInterval(timer);\n",
       "          console.log(\"Bokeh: ERROR: Unable to run BokehJS code because BokehJS library is missing\");\n",
       "        }\n",
       "      }\n",
       "    }, 10, root)\n",
       "  }\n",
       "})(window);"
      ],
      "application/vnd.bokehjs_exec.v0+json": ""
     },
     "metadata": {
      "application/vnd.bokehjs_exec.v0+json": {
       "id": "1101"
      }
     },
     "output_type": "display_data"
    }
   ],
   "source": [
    "scatter_plot(X_umap, kmeans.labels_)"
   ]
  },
  {
   "cell_type": "markdown",
   "metadata": {
    "colab_type": "text",
    "id": "4wAwoAbpC8QA"
   },
   "source": [
    "Agora vamos descobrir as palavras mais relevantes de cada grupo (considerando um único tópico em cada grupo):"
   ]
  },
  {
   "cell_type": "code",
   "execution_count": 32,
   "metadata": {
    "colab": {},
    "colab_type": "code",
    "executionInfo": {
     "elapsed": 178426,
     "status": "ok",
     "timestamp": 1595629307822,
     "user": {
      "displayName": "Hugo Tallys Martins Oliveira",
      "photoUrl": "",
      "userId": "01749757928754934577"
     },
     "user_tz": 180
    },
    "id": "OUEalbNqG5-D"
   },
   "outputs": [],
   "source": [
    "dataset['label'] = kmeans.labels_"
   ]
  },
  {
   "cell_type": "code",
   "execution_count": 33,
   "metadata": {
    "colab": {},
    "colab_type": "code",
    "executionInfo": {
     "elapsed": 178423,
     "status": "ok",
     "timestamp": 1595629307824,
     "user": {
      "displayName": "Hugo Tallys Martins Oliveira",
      "photoUrl": "",
      "userId": "01749757928754934577"
     },
     "user_tz": 180
    },
    "id": "TpRfHvx6K8-6"
   },
   "outputs": [],
   "source": [
    "def get_top_words(topic, n, words, algorithm):\n",
    "        sorted_idxs = numpy.argsort(algorithm.components_[topic])\n",
    "        top_words = [words[i] for i in sorted_idxs]\n",
    "        return [w for w in reversed(top_words[-n:])]\n",
    "\n",
    "def cluster_topic(dataset, cluster_label, n_words):\n",
    "    vectorizer = TfidfVectorizer()\n",
    "    X = vectorizer.fit_transform(dataset[dataset['label'] == cluster_label].processed_text)\n",
    "    nmf = NMF(n_components=1)\n",
    "    X_topics = nmf.fit_transform(X)\n",
    "    return get_top_words(0, n_words, vectorizer.get_feature_names(), nmf)"
   ]
  },
  {
   "cell_type": "code",
   "execution_count": 34,
   "metadata": {
    "colab": {
     "base_uri": "https://localhost:8080/",
     "height": 798
    },
    "colab_type": "code",
    "executionInfo": {
     "elapsed": 180014,
     "status": "ok",
     "timestamp": 1595629309423,
     "user": {
      "displayName": "Hugo Tallys Martins Oliveira",
      "photoUrl": "",
      "userId": "01749757928754934577"
     },
     "user_tz": 180
    },
    "id": "c9OtiGMJDVin",
    "outputId": "d32ecba9-a7e3-4638-87a7-bb045d54d36c"
   },
   "outputs": [
    {
     "data": {
      "text/html": [
       "<h2>Top 10 palavras de cada grupo</h2>"
      ],
      "text/plain": [
       "<IPython.core.display.HTML object>"
      ]
     },
     "metadata": {},
     "output_type": "display_data"
    },
    {
     "data": {
      "text/html": [
       "<h3><span style=\"color:#1f77b4\"><strong>Grupo 0: vacina, covid, pacientes, testes, contra, coronavírus, vírus, estudo, cloroquina, pessoas</strong></span></h3>"
      ],
      "text/plain": [
       "<IPython.core.display.HTML object>"
      ]
     },
     "metadata": {},
     "output_type": "display_data"
    },
    {
     "data": {
      "text/html": [
       "<h3><span style=\"color:#aec7e8\"><strong>Grupo 1: pessoas, diz, brasil, pode, ser, coronavírus, casa, vai, saúde, porque</strong></span></h3>"
      ],
      "text/plain": [
       "<IPython.core.display.HTML object>"
      ]
     },
     "metadata": {},
     "output_type": "display_data"
    },
    {
     "data": {
      "text/html": [
       "<h3><span style=\"color:#ff7f0e\"><strong>Grupo 2: vírus, coronavírus, pessoas, casos, covid, saúde, doença, sintomas, pacientes, pode</strong></span></h3>"
      ],
      "text/plain": [
       "<IPython.core.display.HTML object>"
      ]
     },
     "metadata": {},
     "output_type": "display_data"
    },
    {
     "data": {
      "text/html": [
       "<h3><span style=\"color:#ffbb78\"><strong>Grupo 3: pitta, iuri, confira, analise</strong></span></h3>"
      ],
      "text/plain": [
       "<IPython.core.display.HTML object>"
      ]
     },
     "metadata": {},
     "output_type": "display_data"
    },
    {
     "data": {
      "text/html": [
       "<h3><span style=\"color:#2ca02c\"><strong>Grupo 4: rodrigues, basília, assista, análise, junqueira, caio, pitta, iuri, fernando, nakagawa</strong></span></h3>"
      ],
      "text/plain": [
       "<IPython.core.display.HTML object>"
      ]
     },
     "metadata": {},
     "output_type": "display_data"
    },
    {
     "data": {
      "text/html": [
       "<h3><span style=\"color:#98df8a\"><strong>Grupo 5: casos, mortes, número, confirmados, anos, saúde, país, maior, doença, coronavírus</strong></span></h3>"
      ],
      "text/plain": [
       "<IPython.core.display.HTML object>"
      ]
     },
     "metadata": {},
     "output_type": "display_data"
    },
    {
     "data": {
      "text/html": [
       "<h3><span style=\"color:#d62728\"><strong>Grupo 6: economia, coronavírus, queda, ano, pandemia, brasil, crise, china, ainda, global</strong></span></h3>"
      ],
      "text/plain": [
       "<IPython.core.display.HTML object>"
      ]
     },
     "metadata": {},
     "output_type": "display_data"
    },
    {
     "data": {
      "text/html": [
       "<h3><span style=\"color:#ff9896\"><strong>Grupo 7: bilhões, saúde, governo, milhões, medidas, coronavírus, disse, estados, us, novo</strong></span></h3>"
      ],
      "text/plain": [
       "<IPython.core.display.HTML object>"
      ]
     },
     "metadata": {},
     "output_type": "display_data"
    },
    {
     "data": {
      "text/html": [
       "<h3><span style=\"color:#9467bd\"><strong>Grupo 8: casos, mil, saúde, coronavírus, país, número, brasil, mortes, covid, novo</strong></span></h3>"
      ],
      "text/plain": [
       "<IPython.core.display.HTML object>"
      ]
     },
     "metadata": {},
     "output_type": "display_data"
    },
    {
     "data": {
      "text/html": [
       "<h3><span style=\"color:#c5b0d5\"><strong>Grupo 9: governo, crise, empresas, economia, bilhões, disse, medidas, pandemia, coronavírus, brasil</strong></span></h3>"
      ],
      "text/plain": [
       "<IPython.core.display.HTML object>"
      ]
     },
     "metadata": {},
     "output_type": "display_data"
    },
    {
     "data": {
      "text/html": [
       "<h3><span style=\"color:#8c564b\"><strong>Grupo 10: presidente, bolsonaro, coronavírus, resultado, brasil, novo, casos, positivo, covid, negativo</strong></span></h3>"
      ],
      "text/plain": [
       "<IPython.core.display.HTML object>"
      ]
     },
     "metadata": {},
     "output_type": "display_data"
    },
    {
     "data": {
      "text/html": [
       "<h3><span style=\"color:#c49c94\"><strong>Grupo 11: coronavírus, federal, governo, estado, calamidade, ministro, saúde, novo, covid, pública</strong></span></h3>"
      ],
      "text/plain": [
       "<IPython.core.display.HTML object>"
      ]
     },
     "metadata": {},
     "output_type": "display_data"
    },
    {
     "name": "stderr",
     "output_type": "stream",
     "text": [
      "c:\\users\\hugog\\ecom063-pln\\env\\lib\\site-packages\\sklearn\\decomposition\\_nmf.py:1076: ConvergenceWarning: Maximum number of iterations 200 reached. Increase it to improve convergence.\n",
      "  warnings.warn(\"Maximum number of iterations %d reached. Increase it to\"\n"
     ]
    },
    {
     "data": {
      "text/html": [
       "<h3><span style=\"color:#e377c2\"><strong>Grupo 12: índice, pontos, xangai, alta, avançou, china, companhias, shenzhen, listadas, maiores</strong></span></h3>"
      ],
      "text/plain": [
       "<IPython.core.display.HTML object>"
      ]
     },
     "metadata": {},
     "output_type": "display_data"
    },
    {
     "data": {
      "text/html": [
       "<h3><span style=\"color:#f7b6d2\"><strong>Grupo 13: saúde, coronavírus, caso, paulo, casos, estado, rio, anos, ministério, novo</strong></span></h3>"
      ],
      "text/plain": [
       "<IPython.core.display.HTML object>"
      ]
     },
     "metadata": {},
     "output_type": "display_data"
    },
    {
     "data": {
      "text/html": [
       "<h3><span style=\"color:#7f7f7f\"><strong>Grupo 14: saúde, pessoas, casos, coronavírus, países, país, diz, disse, brasil, covid</strong></span></h3>"
      ],
      "text/plain": [
       "<IPython.core.display.HTML object>"
      ]
     },
     "metadata": {},
     "output_type": "display_data"
    },
    {
     "data": {
      "text/html": [
       "<h3><span style=\"color:#c7c7c7\"><strong>Grupo 15: coronavírus, brasil, novo, país, dia, jogos, paulo, mundo, futebol, brasileiros</strong></span></h3>"
      ],
      "text/plain": [
       "<IPython.core.display.HTML object>"
      ]
     },
     "metadata": {},
     "output_type": "display_data"
    },
    {
     "data": {
      "text/html": [
       "<h3><span style=\"color:#bcbd22\"><strong>Grupo 16: saúde, casos, coronavírus, ministério, estado, leitos, pacientes, paulo, novo, hospital</strong></span></h3>"
      ],
      "text/plain": [
       "<IPython.core.display.HTML object>"
      ]
     },
     "metadata": {},
     "output_type": "display_data"
    },
    {
     "data": {
      "text/html": [
       "<h3><span style=\"color:#dbdb8d\"><strong>Grupo 17: presidente, bolsonaro, coronavírus, governo, disse, saúde, ministro, novo, brasil, sobre</strong></span></h3>"
      ],
      "text/plain": [
       "<IPython.core.display.HTML object>"
      ]
     },
     "metadata": {},
     "output_type": "display_data"
    },
    {
     "data": {
      "text/html": [
       "<h3><span style=\"color:#17becf\"><strong>Grupo 18: the, to, in, of, new, from, teachers, this, and, rules</strong></span></h3>"
      ],
      "text/plain": [
       "<IPython.core.display.HTML object>"
      ]
     },
     "metadata": {},
     "output_type": "display_data"
    },
    {
     "data": {
      "text/html": [
       "<h3><span style=\"color:#9edae5\"><strong>Grupo 19: brasil, saúde, trump, disse, coronavírus, presidente, país, bolsonaro, oms, estados</strong></span></h3>"
      ],
      "text/plain": [
       "<IPython.core.display.HTML object>"
      ]
     },
     "metadata": {},
     "output_type": "display_data"
    }
   ],
   "source": [
    "n_words = 10\n",
    "display(HTML('<h2>Top {} palavras de cada grupo</h2>'.format(n_words)))\n",
    "for label, color in enumerate(color_palette):\n",
    "    display(HTML('<h3><span style=\"color:{}\"><strong>Grupo {}: {}</strong></span></h3>'.format(color, label, ', '.join(cluster_topic(dataset, label, n_words)))))"
   ]
  }
 ],
 "metadata": {
  "colab": {
   "collapsed_sections": [],
   "name": "Processamento de linguagem natural - 4ª lista de exercícios.ipynb",
   "provenance": []
  },
  "kernelspec": {
   "display_name": "Python 3",
   "language": "python",
   "name": "python3"
  },
  "language_info": {
   "codemirror_mode": {
    "name": "ipython",
    "version": 3
   },
   "file_extension": ".py",
   "mimetype": "text/x-python",
   "name": "python",
   "nbconvert_exporter": "python",
   "pygments_lexer": "ipython3",
   "version": "3.8.5"
  }
 },
 "nbformat": 4,
 "nbformat_minor": 4
}
