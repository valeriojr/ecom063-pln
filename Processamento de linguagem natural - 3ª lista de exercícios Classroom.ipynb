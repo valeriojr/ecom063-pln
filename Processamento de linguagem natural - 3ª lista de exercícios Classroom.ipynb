{
 "cells": [
  {
   "cell_type": "markdown",
   "metadata": {
    "colab_type": "text",
    "id": "4BFcrH8taeiw"
   },
   "source": [
    "Universidade Federal de Alagoas\n",
    "\n",
    "IC - Instituto de Computação\n",
    "\n",
    "# Processamento de linguagem natural - 2020.1\n",
    "\n",
    "**Professor**: Thales Vieira\n",
    "\n",
    "**Alunos**: Hugo Tallys Martins Oliveira e Valério Nogueira Rodrigues Júnior\n",
    "\n",
    "## 3ª lista de exercícios\n",
    "\n",
    "---"
   ]
  },
  {
   "cell_type": "code",
   "execution_count": 1,
   "metadata": {
    "colab": {
     "base_uri": "https://localhost:8080/",
     "height": 17
    },
    "colab_type": "code",
    "executionInfo": {
     "elapsed": 1045,
     "status": "ok",
     "timestamp": 1593830060754,
     "user": {
      "displayName": "Hugo Tallys Martins Oliveira",
      "photoUrl": "",
      "userId": "01749757928754934577"
     },
     "user_tz": 180
    },
    "id": "DtceIGYDaeiz",
    "jupyter": {
     "source_hidden": true
    },
    "outputId": "c3199d72-aa8e-4035-a897-57460cdfc5c0"
   },
   "outputs": [
    {
     "data": {
      "text/html": [
       "<style>\n",
       "    a:link, a:visited {\n",
       "        color: white;\n",
       "        font-weight: bold;\n",
       "        text-decoration: underline;\n",
       "    }\n",
       "    code {\n",
       "        padding: 2px;\n",
       "        color: blue;\n",
       "    }\n",
       "    .w-half {\n",
       "        width: 50%;\n",
       "    }\n",
       "    .left {\n",
       "        float: left;\n",
       "    }\n",
       "    .right {\n",
       "        float: right;\n",
       "    }\n",
       "    .col {\n",
       "        height: 100%;\n",
       "        padding-left: 16px;\n",
       "        padding-right: 16px;\n",
       "        padding-top: 8px;\n",
       "        padding-bottom: 8px;\n",
       "\n",
       "    }\n",
       "    .better {\n",
       "        color: white;\n",
       "        background-color: #5cb85c;\n",
       "    }\n",
       "    .worse {\n",
       "        color: black;\n",
       "        background-color: ;\n",
       "    }\n",
       "</style>\n"
      ],
      "text/plain": [
       "<IPython.core.display.HTML object>"
      ]
     },
     "metadata": {},
     "output_type": "display_data"
    }
   ],
   "source": [
    "%%html\n",
    "<style>\n",
    "    a:link, a:visited {\n",
    "        color: white;\n",
    "        font-weight: bold;\n",
    "        text-decoration: underline;\n",
    "    }\n",
    "    code {\n",
    "        padding: 2px;\n",
    "        color: blue;\n",
    "    }\n",
    "    .w-half {\n",
    "        width: 50%;\n",
    "    }\n",
    "    .left {\n",
    "        float: left;\n",
    "    }\n",
    "    .right {\n",
    "        float: right;\n",
    "    }\n",
    "    .col {\n",
    "        height: 100%;\n",
    "        padding-left: 16px;\n",
    "        padding-right: 16px;\n",
    "        padding-top: 8px;\n",
    "        padding-bottom: 8px;\n",
    "\n",
    "    }\n",
    "    .better {\n",
    "        color: white;\n",
    "        background-color: #5cb85c;\n",
    "    }\n",
    "    .worse {\n",
    "        color: black;\n",
    "        background-color: ;\n",
    "    }\n",
    "</style>"
   ]
  },
  {
   "cell_type": "markdown",
   "metadata": {
    "colab_type": "text",
    "id": "CFF6T1QnaejC"
   },
   "source": [
    "<div style=\"color: #856404; background-color: #ffeeba; padding: 16px; border: 1px solid transparent; border-radius: .25rem\">\n",
    "    ⚠️ O <code>jupyter</code> deve ser iniciado no diretório que contém a pasta <code>data</code>\n",
    "</div>"
   ]
  },
  {
   "cell_type": "code",
   "execution_count": 2,
   "metadata": {
    "colab": {},
    "colab_type": "code",
    "executionInfo": {
     "elapsed": 5455,
     "status": "ok",
     "timestamp": 1593830065187,
     "user": {
      "displayName": "Hugo Tallys Martins Oliveira",
      "photoUrl": "",
      "userId": "01749757928754934577"
     },
     "user_tz": 180
    },
    "id": "XW0iC6tPaejH"
   },
   "outputs": [],
   "source": [
    "import re\n",
    "import nltk\n",
    "import numpy\n",
    "import pandas\n",
    "import random\n",
    "\n",
    "from IPython.core.display import display, HTML\n",
    "from sklearn.metrics.pairwise import cosine_similarity\n",
    "from sklearn.feature_extraction.text import CountVectorizer, TfidfVectorizer"
   ]
  },
  {
   "cell_type": "markdown",
   "metadata": {
    "colab_type": "text",
    "id": "whVg06nIaejR"
   },
   "source": [
    "# Os Dados\n",
    "Notícias dos sites www.bbc.co.uk (350) e www.cnn.com.br (1275) sobre o novo coronavírus. Cada arquivo contém as seguintes colunas:\n",
    "- ```url```: Endereço da notícia\n",
    "- ```title```: Título da notícia\n",
    "- ```text```: Texto da notícia\n",
    "\n",
    "As colunas são separadas por `|`"
   ]
  },
  {
   "cell_type": "code",
   "execution_count": 3,
   "metadata": {
    "colab": {
     "base_uri": "https://localhost:8080/",
     "height": 206
    },
    "colab_type": "code",
    "executionInfo": {
     "elapsed": 7027,
     "status": "ok",
     "timestamp": 1593830066768,
     "user": {
      "displayName": "Hugo Tallys Martins Oliveira",
      "photoUrl": "",
      "userId": "01749757928754934577"
     },
     "user_tz": 180
    },
    "id": "NYeGstRUaejV",
    "outputId": "e44e6c11-4508-40bc-d1a6-3c56227a726f"
   },
   "outputs": [
    {
     "data": {
      "text/html": [
       "<div>\n",
       "<style scoped>\n",
       "    .dataframe tbody tr th:only-of-type {\n",
       "        vertical-align: middle;\n",
       "    }\n",
       "\n",
       "    .dataframe tbody tr th {\n",
       "        vertical-align: top;\n",
       "    }\n",
       "\n",
       "    .dataframe thead th {\n",
       "        text-align: right;\n",
       "    }\n",
       "</style>\n",
       "<table border=\"1\" class=\"dataframe\">\n",
       "  <thead>\n",
       "    <tr style=\"text-align: right;\">\n",
       "      <th></th>\n",
       "      <th>url</th>\n",
       "      <th>title</th>\n",
       "      <th>text</th>\n",
       "      <th>label</th>\n",
       "    </tr>\n",
       "  </thead>\n",
       "  <tbody>\n",
       "    <tr>\n",
       "      <th>0</th>\n",
       "      <td>https://www.bbc.co.uk/portuguese/brasil-53020785</td>\n",
       "      <td>Coronavírus: pandemia pode jogar até 14 milhõe...</td>\n",
       "      <td>turbulência econômica causada pandemia novo co...</td>\n",
       "      <td>BBC</td>\n",
       "    </tr>\n",
       "    <tr>\n",
       "      <th>1</th>\n",
       "      <td>https://www.bbc.co.uk/portuguese/brasil-53027318</td>\n",
       "      <td>Coronavírus: como funcionam as duas vacinas co...</td>\n",
       "      <td>cerca mil voluntários brasileiros vão receber ...</td>\n",
       "      <td>BBC</td>\n",
       "    </tr>\n",
       "    <tr>\n",
       "      <th>2</th>\n",
       "      <td>https://www.bbc.co.uk/portuguese/brasil-51713943</td>\n",
       "      <td>Coronavírus: Brasil passa o Reino Unido e se t...</td>\n",
       "      <td>atualizada s junho brasil totalizou nesta sext...</td>\n",
       "      <td>BBC</td>\n",
       "    </tr>\n",
       "    <tr>\n",
       "      <th>3</th>\n",
       "      <td>https://www.bbc.co.uk/portuguese/internacional...</td>\n",
       "      <td>Coronavírus na Índia: com lockdown 'insustentá...</td>\n",
       "      <td>março governo indiano iniciou estrito isolamen...</td>\n",
       "      <td>BBC</td>\n",
       "    </tr>\n",
       "    <tr>\n",
       "      <th>4</th>\n",
       "      <td>https://www.bbc.co.uk/portuguese/internacional...</td>\n",
       "      <td>2ª onda do coronavírus? Irã vê aumento acelera...</td>\n",
       "      <td>irã registrou rápido aumento número casos covi...</td>\n",
       "      <td>BBC</td>\n",
       "    </tr>\n",
       "  </tbody>\n",
       "</table>\n",
       "</div>"
      ],
      "text/plain": [
       "                                                 url  \\\n",
       "0   https://www.bbc.co.uk/portuguese/brasil-53020785   \n",
       "1   https://www.bbc.co.uk/portuguese/brasil-53027318   \n",
       "2   https://www.bbc.co.uk/portuguese/brasil-51713943   \n",
       "3  https://www.bbc.co.uk/portuguese/internacional...   \n",
       "4  https://www.bbc.co.uk/portuguese/internacional...   \n",
       "\n",
       "                                               title  \\\n",
       "0  Coronavírus: pandemia pode jogar até 14 milhõe...   \n",
       "1  Coronavírus: como funcionam as duas vacinas co...   \n",
       "2  Coronavírus: Brasil passa o Reino Unido e se t...   \n",
       "3  Coronavírus na Índia: com lockdown 'insustentá...   \n",
       "4  2ª onda do coronavírus? Irã vê aumento acelera...   \n",
       "\n",
       "                                                text label  \n",
       "0  turbulência econômica causada pandemia novo co...   BBC  \n",
       "1  cerca mil voluntários brasileiros vão receber ...   BBC  \n",
       "2  atualizada s junho brasil totalizou nesta sext...   BBC  \n",
       "3  março governo indiano iniciou estrito isolamen...   BBC  \n",
       "4  irã registrou rápido aumento número casos covi...   BBC  "
      ]
     },
     "execution_count": 3,
     "metadata": {},
     "output_type": "execute_result"
    }
   ],
   "source": [
    "# Carregando dados\n",
    "bbc = pandas.read_csv('data/bbc.csv', sep='|')\n",
    "bbc['label'] = 'BBC'\n",
    "cnn = pandas.read_csv('data/cnn.csv', sep='|')\n",
    "cnn['label'] = 'CNN'\n",
    "cnn = cnn.dropna(axis=0)\n",
    "dataset = pandas.concat([bbc, cnn], ignore_index=True)\n",
    "\n",
    "# Limpeza\n",
    "def remove_boilerplate(text):\n",
    "    boilerplate = ['Compartilhe este post com Email Facebook Messenger Messenger Twitter WhatsApp LinkedIn Copiar este link Estes são links externos e abrirão numa nova janela', 'Já assistiu aos nossos novos vídeos no YouTube? Inscreva-se no nosso canal!', 'Final de YouTube post  de BBC News Brasil Final de YouTube post 2 de BBC News Brasil Final de YouTube post 3 de BBC News Brasil']\n",
    "    \n",
    "    for b in boilerplate:\n",
    "        text = text.replace(b, '')\n",
    "\n",
    "    return text\n",
    "\n",
    "stopwords = nltk.corpus.stopwords.words('portuguese')\n",
    "\n",
    "def remove_stopwords(text):\n",
    "    tokenized_text = nltk.word_tokenize(text, language='portuguese')\n",
    "    return \" \".join([token for token in tokenized_text if token not in stopwords])\n",
    "\n",
    "def preprocess_rawtext(rawtext):\n",
    "    rawtext = re.sub(r'\\w*\\d\\w*', '', rawtext) # remove todas as palavras que contém números\n",
    "    rawtext = re.sub(r'[^a-zA-ZáéíóúÁÉÍÓÚâêîôÂÊÎÔãõÃÕçÇ ]', '', rawtext.lower()) # remove pontuação e converte para minúscula\n",
    "    return re.sub(r'\\s+', ' ', rawtext) # remove espaços repetidos\n",
    "\n",
    "dataset.replace(numpy.nan, '', inplace=True)\n",
    "dataset.text = dataset.text.apply(lambda text: text.replace('\\n', ' '))\n",
    "dataset.text = dataset.text.apply(remove_boilerplate)\n",
    "dataset.text = dataset.text.apply(preprocess_rawtext)\n",
    "dataset.text = dataset.text.apply(remove_stopwords)\n",
    "dataset.text = dataset.text.apply(lambda text: text.replace('bbc', '').replace('cnn', '')) # deixando a classificação justa\n",
    "\n",
    "dataset.head(5)"
   ]
  },
  {
   "cell_type": "code",
   "execution_count": 4,
   "metadata": {
    "colab": {},
    "colab_type": "code",
    "executionInfo": {
     "elapsed": 9429,
     "status": "ok",
     "timestamp": 1593830069179,
     "user": {
      "displayName": "Hugo Tallys Martins Oliveira",
      "photoUrl": "",
      "userId": "01749757928754934577"
     },
     "user_tz": 180
    },
    "id": "glraKyp6aejb"
   },
   "outputs": [],
   "source": [
    "tfidf_X = TfidfVectorizer().fit_transform(dataset.text)\n",
    "count_X = CountVectorizer().fit_transform(dataset.text)\n",
    "\n",
    "tfidf_similarity_matrix = cosine_similarity(tfidf_X)\n",
    "count_similarity_matrix = cosine_similarity(count_X)\n",
    "\n",
    "numpy.fill_diagonal(tfidf_similarity_matrix, 0.0)\n",
    "numpy.fill_diagonal(count_similarity_matrix, 0.0)\n",
    "\n",
    "result = [\n",
    "    {\n",
    "        'doc': dataset.iloc[i],\n",
    "        'tfidf_similar_doc': dataset.iloc[tfidf_similarity_matrix[i, :].argmax()],\n",
    "        'tfidf_similarity': tfidf_similarity_matrix[i, :].max(),\n",
    "        'count_similar_doc': dataset.iloc[count_similarity_matrix[i, :].argmax()],\n",
    "        'count_similarity': count_similarity_matrix[i, :].max(),\n",
    "    }\n",
    "    for i in [random.randint(0, len(dataset)) for _ in range(10)]\n",
    "]    "
   ]
  },
  {
   "cell_type": "code",
   "execution_count": 5,
   "metadata": {
    "colab": {
     "base_uri": "https://localhost:8080/",
     "height": 1000
    },
    "colab_type": "code",
    "executionInfo": {
     "elapsed": 9422,
     "status": "ok",
     "timestamp": 1593830069180,
     "user": {
      "displayName": "Hugo Tallys Martins Oliveira",
      "photoUrl": "",
      "userId": "01749757928754934577"
     },
     "user_tz": 180
    },
    "id": "-EazK0-saejk",
    "outputId": "fbda8a0a-132e-47ad-ee6b-7a373d241c5b"
   },
   "outputs": [
    {
     "data": {
      "text/html": [
       "\n",
       "    <div style=\"margin: 8px; border: 1px solid lightgray\">\n",
       "        <div style=\"text-align: center;background-color: whitesmoke;padding: 8px\"><a href=\"https://www.bbc.co.uk/portuguese/brasil-52313890\">Como a crise do coronavírus expõe racha entre evangélicos no Brasil - BBC News Brasil</a></div>\n",
       "        <div>\n",
       "            <div class=\"left w-half\">\n",
       "                <div class=\"col worse\">\n",
       "                    <div><strong>TfidfVectorizer: </strong>0.3542</div>\n",
       "                    <div><a href=\"https://www.cnnbrasil.com.br/nacional/2020/03/19/malafaia-diz-que-nao-reduzira-cultos-ou-fechara-igrejas-por-causa-do-coronavirus\">Malafaia diz que não reduzirá cultos ou fechará igrejas por causa do coronavírus</a> <span>pastor líder igreja pentecostal assembleia deus vitória cristo silas malafaia afirmou vídeo publicado nessa terçafeira canal youtube vai diminuir número cultos fechar igrejas causa pandemia novo coronavírus contrariando recomendações autoridades saúde evitem aglomerações malafaia...</span></div>\n",
       "                </div>\n",
       "            </div>\n",
       "            <div class=\"right w-half\">\n",
       "                <div class=\"col better\">\n",
       "                <div><strong>CountVectorizer: </strong>0.3769</div>\n",
       "                <div><a href=\"https://www.bbc.co.uk/portuguese/brasil-52551974\">Coronavírus: os sete erros que põem Brasil na rota do 'lockdown', segundo especialistas - BBC News Brasil</a> <span>regiões brasileiras chegaram cenário tão crítico calamidade sistemas saúde causa coronavírus única saída agora maior restrição circulação pessoas lockdowns acordo especialistas lockdown termo inglês confinamento isolamento compulsório pode ter diferentes graus rigor restrição mai...</span></div>\n",
       "                </div>\n",
       "            </div>\n",
       "        </div>\n",
       "    </div>\n",
       "    "
      ],
      "text/plain": [
       "<IPython.core.display.HTML object>"
      ]
     },
     "metadata": {},
     "output_type": "display_data"
    },
    {
     "data": {
      "text/html": [
       "\n",
       "    <div style=\"margin: 8px; border: 1px solid lightgray\">\n",
       "        <div style=\"text-align: center;background-color: whitesmoke;padding: 8px\"><a href=\"https://www.cnnbrasil.com.br/nacional/2020/04/13/itau-unibanco-doara-r1-bi-para-combater-novo-coronavirus\">Itaú Unibanco doará R$ 1 bi para combater novo coronavírus</a></div>\n",
       "        <div>\n",
       "            <div class=\"left w-half\">\n",
       "                <div class=\"col worse\">\n",
       "                    <div><strong>TfidfVectorizer: </strong>0.9823</div>\n",
       "                    <div><a href=\"https://www.cnnbrasil.com.br/nacional/2020/04/13/itau-unibanco-doara-r1-bilhao-para-combate-ao-novo-coronavirus\">Itaú Unibanco doará R$1 bilhão para combate ao novo coronavírus</a> <span>itaú unibanco doará r bilhão combater novo coronavírus efeitos sobre sociedade brasileira medidas incluem ampliação capacidade hospitais compra insumos além testagem populacional iniciativa todos saúde lançada banco nesta segundafeira dará meio quatro eixos informação proteção cu...</span></div>\n",
       "                </div>\n",
       "            </div>\n",
       "            <div class=\"right w-half\">\n",
       "                <div class=\"col better\">\n",
       "                <div><strong>CountVectorizer: </strong>0.9881</div>\n",
       "                <div><a href=\"https://www.cnnbrasil.com.br/nacional/2020/04/13/itau-unibanco-doara-r1-bilhao-para-combate-ao-novo-coronavirus\">Itaú Unibanco doará R$1 bilhão para combate ao novo coronavírus</a> <span>itaú unibanco doará r bilhão combater novo coronavírus efeitos sobre sociedade brasileira medidas incluem ampliação capacidade hospitais compra insumos além testagem populacional iniciativa todos saúde lançada banco nesta segundafeira dará meio quatro eixos informação proteção cu...</span></div>\n",
       "                </div>\n",
       "            </div>\n",
       "        </div>\n",
       "    </div>\n",
       "    "
      ],
      "text/plain": [
       "<IPython.core.display.HTML object>"
      ]
     },
     "metadata": {},
     "output_type": "display_data"
    },
    {
     "data": {
      "text/html": [
       "\n",
       "    <div style=\"margin: 8px; border: 1px solid lightgray\">\n",
       "        <div style=\"text-align: center;background-color: whitesmoke;padding: 8px\"><a href=\"https://www.cnnbrasil.com.br/business/2020/04/22/com-coronavirus-emprestimos-a-empresas-aumentam-quase-60-no-mes-de-marco\">Com coronavírus, empréstimos a empresas aumentam quase 60% no mês de março</a></div>\n",
       "        <div>\n",
       "            <div class=\"left w-half\">\n",
       "                <div class=\"col worse\">\n",
       "                    <div><strong>TfidfVectorizer: </strong>0.2967</div>\n",
       "                    <div><a href=\"https://www.cnnbrasil.com.br/business/2020/04/02/por-crise-do-coronavirus-cmn-adia-mudancas-na-portabilidade-de-credito\">Por crise do coronavírus, CMN adia mudanças na portabilidade de crédito</a> <span>devido trabalho bancos lidar crise causada pandemia novo coronavírus conselho monetário nacional cmn decidiu nesta quartafeira dia reunião extraordinária adiar implementação mudanças portabilidade crédito sido aprovadas ainda ano passado fim novembro cmn permitiu portabilidade ch...</span></div>\n",
       "                </div>\n",
       "            </div>\n",
       "            <div class=\"right w-half\">\n",
       "                <div class=\"col better\">\n",
       "                <div><strong>CountVectorizer: </strong>0.3878</div>\n",
       "                <div><a href=\"https://www.cnnbrasil.com.br/business/2020/04/27/bancos-brasileiros-postergam-r-22-bilhoes-em-dividas\">Coronavírus: Bancos brasileiros postergam R$ 22 bilhões em dívidas</a> <span>bancos brasileiros adiando dívidas brasileiros especialmente daqueles diretamente impactados efeitos coronavírus total r bilhões parcelas venceriam próximos meses postergadas informação federação brasileira bancos febraban febraban afirmou valor referese milhões contratos valores...</span></div>\n",
       "                </div>\n",
       "            </div>\n",
       "        </div>\n",
       "    </div>\n",
       "    "
      ],
      "text/plain": [
       "<IPython.core.display.HTML object>"
      ]
     },
     "metadata": {},
     "output_type": "display_data"
    },
    {
     "data": {
      "text/html": [
       "\n",
       "    <div style=\"margin: 8px; border: 1px solid lightgray\">\n",
       "        <div style=\"text-align: center;background-color: whitesmoke;padding: 8px\"><a href=\"https://www.cnnbrasil.com.br/saude/2020/03/06/em-apenas-24-horas-china-registra-30-novas-mortes-por-coronavirus\">Em apenas 24 horas, China registra 30 novas mortes por coronavírus</a></div>\n",
       "        <div>\n",
       "            <div class=\"left w-half\">\n",
       "                <div class=\"col worse\">\n",
       "                    <div><strong>TfidfVectorizer: </strong>0.2696</div>\n",
       "                    <div><a href=\"https://www.cnnbrasil.com.br/internacional/2020/03/19/pela-1-vez-china-passa-um-dia-sem-registrar-contagio-local-de-coronavirus\">Pela 1ª vez, China passa um dia sem registrar contágio local de coronavírus</a> <span>país onde pandemia novo coronavírus covid origem china registrou nenhum caso contágio local doença nesta quartafeira desde registros sobre vírus começaram ser divulgados janeiro primeira vez boletins reportam infecções contraídas localmente quartafeira governo chinês contabilizou...</span></div>\n",
       "                </div>\n",
       "            </div>\n",
       "            <div class=\"right w-half\">\n",
       "                <div class=\"col better\">\n",
       "                <div><strong>CountVectorizer: </strong>0.4405</div>\n",
       "                <div><a href=\"https://www.cnnbrasil.com.br/internacional/2020/05/10/wuhan-volta-a-registrar-caso-de-coronavirus-apos-mais-de-um-mes\">Wuhan volta a registrar caso de coronavírus após mais de um mês</a> <span>comissão nacional saúde china registrou neste domingo novos casos confirmados coronavírus número alto país dia desde abril novas ocorrências novo caso wuhan cidade novos casos covid desde abril wuhan primeiro epicentro mundial doença permaneceu lockdown dias ser reaberta abril di...</span></div>\n",
       "                </div>\n",
       "            </div>\n",
       "        </div>\n",
       "    </div>\n",
       "    "
      ],
      "text/plain": [
       "<IPython.core.display.HTML object>"
      ]
     },
     "metadata": {},
     "output_type": "display_data"
    },
    {
     "data": {
      "text/html": [
       "\n",
       "    <div style=\"margin: 8px; border: 1px solid lightgray\">\n",
       "        <div style=\"text-align: center;background-color: whitesmoke;padding: 8px\"><a href=\"https://www.bbc.co.uk/portuguese/internacional-53008262\">Coronavírus na Índia: com lockdown 'insustentável', Índia reabre em meio a disparada de casos e temores de 'bomba-relógio' - BBC News Brasil</a></div>\n",
       "        <div>\n",
       "            <div class=\"left w-half\">\n",
       "                <div class=\"col worse\">\n",
       "                    <div><strong>TfidfVectorizer: </strong>0.3001</div>\n",
       "                    <div><a href=\"https://www.bbc.co.uk/portuguese/internacional-52454928\">Coronavírus: o que explica o 'mistério' da baixa taxa de mortalidade por covid-19 na Índia? - BBC News Brasil</a> <span>notícias sobre pandemia índia causaram mistura alívio confusão muitas abordam mistério trás baixas taxas mortalidade país infecção covid dizem país contrariando tendência coronavírus falase índia ser exceção taxas mortalidade principais cidades indianas baixas comparação epicentr...</span></div>\n",
       "                </div>\n",
       "            </div>\n",
       "            <div class=\"right w-half\">\n",
       "                <div class=\"col better\">\n",
       "                <div><strong>CountVectorizer: </strong>0.4196</div>\n",
       "                <div><a href=\"https://www.bbc.co.uk/portuguese/internacional-52617965\">Coronavírus: aumento de casos na Alemanha e Coreia do Sul põe em dúvida volta à normalidade pós-isolamento - BBC News Brasil</a> <span>novos casos coronavírus começam pôr dúvida retorno normalidade países recentemente flexibilizaram medidas isolamento social alemanha coreia sul levantando temores sobre segunda onda infecções wuhan cidade chinesa onde vírus detectado primeira vez informou registrou primeiro caso ...</span></div>\n",
       "                </div>\n",
       "            </div>\n",
       "        </div>\n",
       "    </div>\n",
       "    "
      ],
      "text/plain": [
       "<IPython.core.display.HTML object>"
      ]
     },
     "metadata": {},
     "output_type": "display_data"
    },
    {
     "data": {
      "text/html": [
       "\n",
       "    <div style=\"margin: 8px; border: 1px solid lightgray\">\n",
       "        <div style=\"text-align: center;background-color: whitesmoke;padding: 8px\"><a href=\"https://www.cnnbrasil.com.br/internacional/2020/03/16/bolivia-impoe-quarentena-nacional-e-suspende-viagens-para-conter-coronavirus\">Países da América Latina fecham fronteiras para conter coronavírus</a></div>\n",
       "        <div>\n",
       "            <div class=\"left w-half\">\n",
       "                <div class=\"col worse\">\n",
       "                    <div><strong>TfidfVectorizer: </strong>0.2473</div>\n",
       "                    <div><a href=\"https://www.cnnbrasil.com.br/internacional/2020/03/06/coronavirus-america-latina-tem-49-casos-confirmados\">Coronavírus: América Latina tem 49 casos confirmados</a> <span>peru colômbia confirmaram nesta sextafeira primeiros casos novo coronavírus momento pacientes infectados américa latina desses brasil equador casos confirmados outros países latinos reportaram infecções argentina méxico chile república dominicana maior parte casos reportados agor...</span></div>\n",
       "                </div>\n",
       "            </div>\n",
       "            <div class=\"right w-half\">\n",
       "                <div class=\"col better\">\n",
       "                <div><strong>CountVectorizer: </strong>0.4439</div>\n",
       "                <div><a href=\"https://www.cnnbrasil.com.br/internacional/2020/03/06/coronavirus-america-latina-tem-49-casos-confirmados\">Coronavírus: América Latina tem 49 casos confirmados</a> <span>peru colômbia confirmaram nesta sextafeira primeiros casos novo coronavírus momento pacientes infectados américa latina desses brasil equador casos confirmados outros países latinos reportaram infecções argentina méxico chile república dominicana maior parte casos reportados agor...</span></div>\n",
       "                </div>\n",
       "            </div>\n",
       "        </div>\n",
       "    </div>\n",
       "    "
      ],
      "text/plain": [
       "<IPython.core.display.HTML object>"
      ]
     },
     "metadata": {},
     "output_type": "display_data"
    },
    {
     "data": {
      "text/html": [
       "\n",
       "    <div style=\"margin: 8px; border: 1px solid lightgray\">\n",
       "        <div style=\"text-align: center;background-color: whitesmoke;padding: 8px\"><a href=\"https://www.cnnbrasil.com.br/business/2020/03/16/fmi-pode-injetar-us-1-trilhao-em-emprestimos-para-combater-o-coronavirus\">FMI pode injetar US$ 1 trilhão em empréstimos para combater o coronavírus</a></div>\n",
       "        <div>\n",
       "            <div class=\"left w-half\">\n",
       "                <div class=\"col better\">\n",
       "                    <div><strong>TfidfVectorizer: </strong>0.4565</div>\n",
       "                    <div><a href=\"https://www.cnnbrasil.com.br/business/2020/03/23/pandemia-de-coronavirus-provocara-recessao-global-em-2020-diz-fmi\">Pandemia de coronavírus provocará recessão global em 2020, diz FMI</a> <span>pandemia novo coronavírus causará recessão global poderá ser pior sofrida durante crise financeira global avaliou fundo monetário internacional fmi nesta segundafeira diretoragerente fmi kristalina georgieva considera recuperação deve ser vista afirmações feitas após teleconferên...</span></div>\n",
       "                </div>\n",
       "            </div>\n",
       "            <div class=\"right w-half\">\n",
       "                <div class=\"col worse\">\n",
       "                <div><strong>CountVectorizer: </strong>0.4289</div>\n",
       "                <div><a href=\"https://www.cnnbrasil.com.br/business/2020/03/23/pandemia-de-coronavirus-provocara-recessao-global-em-2020-diz-fmi\">Pandemia de coronavírus provocará recessão global em 2020, diz FMI</a> <span>pandemia novo coronavírus causará recessão global poderá ser pior sofrida durante crise financeira global avaliou fundo monetário internacional fmi nesta segundafeira diretoragerente fmi kristalina georgieva considera recuperação deve ser vista afirmações feitas após teleconferên...</span></div>\n",
       "                </div>\n",
       "            </div>\n",
       "        </div>\n",
       "    </div>\n",
       "    "
      ],
      "text/plain": [
       "<IPython.core.display.HTML object>"
      ]
     },
     "metadata": {},
     "output_type": "display_data"
    },
    {
     "data": {
      "text/html": [
       "\n",
       "    <div style=\"margin: 8px; border: 1px solid lightgray\">\n",
       "        <div style=\"text-align: center;background-color: whitesmoke;padding: 8px\"><a href=\"https://www.cnnbrasil.com.br/saude/2020/03/15/brasil-tem-200-casos-confirmados-de-coronavirus-segundo-ministerio-da-saude\">Brasil tem 200 casos confirmados de coronavírus, segundo Ministério da Saúde</a></div>\n",
       "        <div>\n",
       "            <div class=\"left w-half\">\n",
       "                <div class=\"col worse\">\n",
       "                    <div><strong>TfidfVectorizer: </strong>0.3311</div>\n",
       "                    <div><a href=\"https://www.cnnbrasil.com.br/saude/2020/03/11/brasil-tem-53-casos-confirmados-do-novo-coronavirus\">Brasil tem 53 casos confirmados do novo coronavírus</a> <span>brasil chegou casos confirmados novo coronavírus covid nesta quartafeira segundo números atualizados durante tarde segundo ministério saúde paulo continua sendo estado maior número casos seguido rio janeiro bahia três casos distrito federal rio grande sul dois cada alagoas minas ...</span></div>\n",
       "                </div>\n",
       "            </div>\n",
       "            <div class=\"right w-half\">\n",
       "                <div class=\"col better\">\n",
       "                <div><strong>CountVectorizer: </strong>0.5577</div>\n",
       "                <div><a href=\"https://www.cnnbrasil.com.br/saude/2020/03/14/coronavirus-numero-de-casos-suspeitos-no-brasil-chega-a-182\">Coronavírus: número de casos suspeitos no Brasil chega a 182</a> <span>brasil casos suspeitos infecção novo coronavírus informou ministério saúde nesta sextafeira cinquenta dia anterior apesar aumento ainda apenas caso confirmado paulo estado segue maior número casos suspeitos véspera rio grande sul segundo nessa estatística casos seguido minas gera...</span></div>\n",
       "                </div>\n",
       "            </div>\n",
       "        </div>\n",
       "    </div>\n",
       "    "
      ],
      "text/plain": [
       "<IPython.core.display.HTML object>"
      ]
     },
     "metadata": {},
     "output_type": "display_data"
    },
    {
     "data": {
      "text/html": [
       "\n",
       "    <div style=\"margin: 8px; border: 1px solid lightgray\">\n",
       "        <div style=\"text-align: center;background-color: whitesmoke;padding: 8px\"><a href=\"https://www.cnnbrasil.com.br/saude/2020/03/25/brasil-pode-ter-11500-casos-de-coronavirus-na-semana-que-vem\">Projeção diz que Brasil pode ter 11.500 casos de coronavírus na semana que vem</a></div>\n",
       "        <div>\n",
       "            <div class=\"left w-half\">\n",
       "                <div class=\"col worse\">\n",
       "                    <div><strong>TfidfVectorizer: </strong>0.3698</div>\n",
       "                    <div><a href=\"https://www.cnnbrasil.com.br/saude/2020/03/18/estudo-projeta-aumento-de-mais-de-1000-no-n-de-casos-de-coronavirus-no-brasil\">Estudo projeta aumento de mais de 1.000% no nº de casos de coronavírus no Brasil</a> <span>estudo inédito divulgado terçafeira núcleo operações inteligência saúde nois formado cientistas pucrj fiocruz instituto dor mostrou projeção quantidade casos coronavírus março brasil acordo documento  brasil acesso país poderá chegar infectados vírus pior cenário projeção corresp...</span></div>\n",
       "                </div>\n",
       "            </div>\n",
       "            <div class=\"right w-half\">\n",
       "                <div class=\"col better\">\n",
       "                <div><strong>CountVectorizer: </strong>0.5530</div>\n",
       "                <div><a href=\"https://www.cnnbrasil.com.br/saude/2020/03/18/estudo-projeta-aumento-de-mais-de-1000-no-n-de-casos-de-coronavirus-no-brasil\">Estudo projeta aumento de mais de 1.000% no nº de casos de coronavírus no Brasil</a> <span>estudo inédito divulgado terçafeira núcleo operações inteligência saúde nois formado cientistas pucrj fiocruz instituto dor mostrou projeção quantidade casos coronavírus março brasil acordo documento  brasil acesso país poderá chegar infectados vírus pior cenário projeção corresp...</span></div>\n",
       "                </div>\n",
       "            </div>\n",
       "        </div>\n",
       "    </div>\n",
       "    "
      ],
      "text/plain": [
       "<IPython.core.display.HTML object>"
      ]
     },
     "metadata": {},
     "output_type": "display_data"
    },
    {
     "data": {
      "text/html": [
       "\n",
       "    <div style=\"margin: 8px; border: 1px solid lightgray\">\n",
       "        <div style=\"text-align: center;background-color: whitesmoke;padding: 8px\"><a href=\"https://www.cnnbrasil.com.br/saude/2020/03/20/cloroquina-entenda-por-que-voce-nao-deve-usar-o-remedio-contra-coronavirus\">Cloroquina: entenda por que você não deve usar o remédio contra coronavírus</a></div>\n",
       "        <div>\n",
       "            <div class=\"left w-half\">\n",
       "                <div class=\"col worse\">\n",
       "                    <div><strong>TfidfVectorizer: </strong>0.3038</div>\n",
       "                    <div><a href=\"https://www.bbc.co.uk/portuguese/brasil-52686122\">Coronavírus: o que dizem os estudos publicados sobre cloroquina, defendida por Bolsonaro e Trump - BBC News Brasil</a> <span>considerado presidente jair bolsonaro arma combate pandemia coronavírus pivô saída nelson teich comando ministério saúde última sextafeira medicamento cloroquina eficácia segurança cientificamente comprovadas contra covid acordo evidências sólidas existem agora cloroquina derivad...</span></div>\n",
       "                </div>\n",
       "            </div>\n",
       "            <div class=\"right w-half\">\n",
       "                <div class=\"col better\">\n",
       "                <div><strong>CountVectorizer: </strong>0.4009</div>\n",
       "                <div><a href=\"https://www.bbc.co.uk/portuguese/brasil-52686122\">Coronavírus: o que dizem os estudos publicados sobre cloroquina, defendida por Bolsonaro e Trump - BBC News Brasil</a> <span>considerado presidente jair bolsonaro arma combate pandemia coronavírus pivô saída nelson teich comando ministério saúde última sextafeira medicamento cloroquina eficácia segurança cientificamente comprovadas contra covid acordo evidências sólidas existem agora cloroquina derivad...</span></div>\n",
       "                </div>\n",
       "            </div>\n",
       "        </div>\n",
       "    </div>\n",
       "    "
      ],
      "text/plain": [
       "<IPython.core.display.HTML object>"
      ]
     },
     "metadata": {},
     "output_type": "display_data"
    }
   ],
   "source": [
    "for r in result:\n",
    "    header = r['doc'].title if r['doc'].title != '' else r['doc'].text[:140] + '...'\n",
    "    news_content = '<a href=\"%(link)s\">%(title)s</a> <span>%(head)s</span>'\n",
    "    result_class = lambda vectorizer, r: 'better' if r[vectorizer + '_similarity'] > r[('tfidf' if vectorizer == 'count' else 'count') + '_similarity'] else 'worse' \n",
    "    head_length = 280\n",
    "    \n",
    "    tfidf_content = news_content % ({\n",
    "        'link': r['tfidf_similar_doc'].url, \n",
    "        'title':  r['tfidf_similar_doc'].url if r['tfidf_similar_doc'].title == '' else r['tfidf_similar_doc'].title,\n",
    "        'head': r['tfidf_similar_doc'].text[:head_length] + '...',\n",
    "    })\n",
    "    count_content = news_content % ({\n",
    "        'link': r['count_similar_doc'].url, \n",
    "        'title':  r['count_similar_doc'].url if r['count_similar_doc'].title == '' else r['count_similar_doc'].title,\n",
    "        'head': r['count_similar_doc'].text[:head_length] + '...',\n",
    "    })\n",
    "    \n",
    "    \n",
    "    display(HTML('''\n",
    "    <div style=\"margin: 8px; border: 1px solid lightgray\">\n",
    "        <div style=\"text-align: center;background-color: whitesmoke;padding: 8px\"><a href=\"''' + r['doc'].url + '''\">''' + header + '''</a></div>\n",
    "        <div>\n",
    "            <div class=\"left w-half\">\n",
    "                <div class=\"col ''' + result_class('tfidf', r) + '''\">\n",
    "                    <div><strong>TfidfVectorizer: </strong>''' + str(r['tfidf_similarity'])[:6] + '''</div>\n",
    "                    <div>''' + tfidf_content + '''</div>\n",
    "                </div>\n",
    "            </div>\n",
    "            <div class=\"right w-half\">\n",
    "                <div class=\"col ''' + result_class('count', r) + '''\">\n",
    "                <div><strong>CountVectorizer: </strong>''' + str(r['count_similarity'])[:6] + '''</div>\n",
    "                <div>''' + count_content + '''</div>\n",
    "                </div>\n",
    "            </div>\n",
    "        </div>\n",
    "    </div>\n",
    "    '''))"
   ]
  },
  {
   "cell_type": "markdown",
   "metadata": {
    "colab_type": "text",
    "id": "b5rX1d9iaejs"
   },
   "source": [
    "# Classificadores"
   ]
  },
  {
   "cell_type": "markdown",
   "metadata": {
    "colab_type": "text",
    "id": "oj8p_wBeaejt"
   },
   "source": [
    "Balanceando o dataset para conter 350 artigos _BBC_ e 350 artigos _CNN_ (700 artigos no total):"
   ]
  },
  {
   "cell_type": "code",
   "execution_count": 6,
   "metadata": {
    "colab": {},
    "colab_type": "code",
    "executionInfo": {
     "elapsed": 9414,
     "status": "ok",
     "timestamp": 1593830069181,
     "user": {
      "displayName": "Hugo Tallys Martins Oliveira",
      "photoUrl": "",
      "userId": "01749757928754934577"
     },
     "user_tz": 180
    },
    "id": "Yx3tXla2aejw"
   },
   "outputs": [],
   "source": [
    "tfidf_X = tfidf_X[:2*bbc.shape[0]]\n",
    "count_X = count_X[:2*bbc.shape[0]]"
   ]
  },
  {
   "cell_type": "code",
   "execution_count": 7,
   "metadata": {
    "colab": {},
    "colab_type": "code",
    "executionInfo": {
     "elapsed": 9410,
     "status": "ok",
     "timestamp": 1593830069183,
     "user": {
      "displayName": "Hugo Tallys Martins Oliveira",
      "photoUrl": "",
      "userId": "01749757928754934577"
     },
     "user_tz": 180
    },
    "id": "SPmilxpLaej3"
   },
   "outputs": [],
   "source": [
    "label2index = {\n",
    "    'BBC': 0, 'CNN': 1\n",
    "}\n",
    "y = [label2index[l] for l in dataset.label.values[:700]]"
   ]
  },
  {
   "cell_type": "markdown",
   "metadata": {
    "colab_type": "text",
    "id": "q42CSahAaej8"
   },
   "source": [
    "Separando o conjunto de treinamento e teste:"
   ]
  },
  {
   "cell_type": "code",
   "execution_count": 8,
   "metadata": {
    "colab": {},
    "colab_type": "code",
    "executionInfo": {
     "elapsed": 9405,
     "status": "ok",
     "timestamp": 1593830069184,
     "user": {
      "displayName": "Hugo Tallys Martins Oliveira",
      "photoUrl": "",
      "userId": "01749757928754934577"
     },
     "user_tz": 180
    },
    "id": "QUe1P4lQaej9"
   },
   "outputs": [],
   "source": [
    "from sklearn.model_selection import train_test_split"
   ]
  },
  {
   "cell_type": "code",
   "execution_count": 9,
   "metadata": {
    "colab": {},
    "colab_type": "code",
    "executionInfo": {
     "elapsed": 9401,
     "status": "ok",
     "timestamp": 1593830069185,
     "user": {
      "displayName": "Hugo Tallys Martins Oliveira",
      "photoUrl": "",
      "userId": "01749757928754934577"
     },
     "user_tz": 180
    },
    "id": "Z_TA-R3MaekF"
   },
   "outputs": [],
   "source": [
    "tfidf_X_train, tfidf_X_test, tfidf_y_train, tfidf_y_test = train_test_split(tfidf_X, y, test_size=.3)\n",
    "count_X_train, count_X_test, count_y_train, count_y_test = train_test_split(count_X, y, test_size=.3)"
   ]
  },
  {
   "cell_type": "markdown",
   "metadata": {
    "colab_type": "text",
    "id": "014-SRBkaekL"
   },
   "source": [
    "Treinando os classificadores:"
   ]
  },
  {
   "cell_type": "markdown",
   "metadata": {
    "colab_type": "text",
    "id": "kCAGO_JigbZx"
   },
   "source": [
    "### Regressão Logística"
   ]
  },
  {
   "cell_type": "code",
   "execution_count": 10,
   "metadata": {
    "colab": {},
    "colab_type": "code",
    "executionInfo": {
     "elapsed": 9396,
     "status": "ok",
     "timestamp": 1593830069186,
     "user": {
      "displayName": "Hugo Tallys Martins Oliveira",
      "photoUrl": "",
      "userId": "01749757928754934577"
     },
     "user_tz": 180
    },
    "id": "YXYmyS_WaekN"
   },
   "outputs": [],
   "source": [
    "from sklearn.linear_model import LogisticRegression"
   ]
  },
  {
   "cell_type": "markdown",
   "metadata": {
    "colab_type": "text",
    "id": "yx2HN4OmieT2"
   },
   "source": [
    "Treinamento (TF-IFD):"
   ]
  },
  {
   "cell_type": "code",
   "execution_count": 11,
   "metadata": {
    "colab": {},
    "colab_type": "code",
    "executionInfo": {
     "elapsed": 10336,
     "status": "ok",
     "timestamp": 1593830070133,
     "user": {
      "displayName": "Hugo Tallys Martins Oliveira",
      "photoUrl": "",
      "userId": "01749757928754934577"
     },
     "user_tz": 180
    },
    "id": "nWWymYA1aekV"
   },
   "outputs": [],
   "source": [
    "classifier = LogisticRegression().fit(tfidf_X_train.toarray(), tfidf_y_train)"
   ]
  },
  {
   "cell_type": "markdown",
   "metadata": {
    "colab_type": "text",
    "id": "1F0kcrq8aekc"
   },
   "source": [
    "Resultado da predição (TF-IDF):"
   ]
  },
  {
   "cell_type": "code",
   "execution_count": 12,
   "metadata": {
    "colab": {},
    "colab_type": "code",
    "executionInfo": {
     "elapsed": 10330,
     "status": "ok",
     "timestamp": 1593830070134,
     "user": {
      "displayName": "Hugo Tallys Martins Oliveira",
      "photoUrl": "",
      "userId": "01749757928754934577"
     },
     "user_tz": 180
    },
    "id": "3h0xZno_aekd"
   },
   "outputs": [],
   "source": [
    "tfidf_y_pred = classifier.predict(tfidf_X_test.toarray())"
   ]
  },
  {
   "cell_type": "markdown",
   "metadata": {
    "colab_type": "text",
    "id": "ixzxxX7faekk"
   },
   "source": [
    "Matriz de confusão (TF-IDF):"
   ]
  },
  {
   "cell_type": "code",
   "execution_count": 13,
   "metadata": {
    "colab": {},
    "colab_type": "code",
    "executionInfo": {
     "elapsed": 10328,
     "status": "ok",
     "timestamp": 1593830070136,
     "user": {
      "displayName": "Hugo Tallys Martins Oliveira",
      "photoUrl": "",
      "userId": "01749757928754934577"
     },
     "user_tz": 180
    },
    "id": "B3_n892zaekl"
   },
   "outputs": [],
   "source": [
    "from matplotlib import pyplot\n",
    "from sklearn.metrics import plot_confusion_matrix"
   ]
  },
  {
   "cell_type": "code",
   "execution_count": 14,
   "metadata": {
    "colab": {
     "base_uri": "https://localhost:8080/",
     "height": 279
    },
    "colab_type": "code",
    "executionInfo": {
     "elapsed": 10321,
     "status": "ok",
     "timestamp": 1593830070137,
     "user": {
      "displayName": "Hugo Tallys Martins Oliveira",
      "photoUrl": "",
      "userId": "01749757928754934577"
     },
     "user_tz": 180
    },
    "id": "vST8Sl08aek2",
    "outputId": "e5b9e93d-d5f9-486b-db3c-3188be99cdcf"
   },
   "outputs": [
    {
     "data": {
      "image/png": "[encoded data removed]",
      "text/plain": [
       "<Figure size 432x288 with 2 Axes>"
      ]
     },
     "metadata": {
      "needs_background": "light"
     },
     "output_type": "display_data"
    }
   ],
   "source": [
    "plot_confusion_matrix(classifier, tfidf_X_test.toarray(), tfidf_y_test)\n",
    "pyplot.show()"
   ]
  },
  {
   "cell_type": "markdown",
   "metadata": {
    "colab_type": "text",
    "id": "BGj1da6waek9"
   },
   "source": [
    "Métricas de validação (TF-IDF):"
   ]
  },
  {
   "cell_type": "code",
   "execution_count": 15,
   "metadata": {
    "colab": {},
    "colab_type": "code",
    "executionInfo": {
     "elapsed": 10315,
     "status": "ok",
     "timestamp": 1593830070138,
     "user": {
      "displayName": "Hugo Tallys Martins Oliveira",
      "photoUrl": "",
      "userId": "01749757928754934577"
     },
     "user_tz": 180
    },
    "id": "M4nAt1OHaek9"
   },
   "outputs": [],
   "source": [
    "from sklearn.metrics import accuracy_score, precision_score, recall_score, f1_score"
   ]
  },
  {
   "cell_type": "code",
   "execution_count": 16,
   "metadata": {
    "colab": {
     "base_uri": "https://localhost:8080/",
     "height": 104
    },
    "colab_type": "code",
    "executionInfo": {
     "elapsed": 10309,
     "status": "ok",
     "timestamp": 1593830070140,
     "user": {
      "displayName": "Hugo Tallys Martins Oliveira",
      "photoUrl": "",
      "userId": "01749757928754934577"
     },
     "user_tz": 180
    },
    "id": "GC6ITb28aelC",
    "outputId": "6ff3a5fb-fe22-495e-ae06-bfaffdca00fd"
   },
   "outputs": [
    {
     "data": {
      "text/plain": [
       "{'Modelo': 'Regressão Logísitca + TF-IDF',\n",
       " 'Acurácia': 0.8714285714285714,\n",
       " 'Precisão': 0.8275862068965517,\n",
       " 'Recall': 0.9320388349514563,\n",
       " 'F1 Score': 0.8767123287671234}"
      ]
     },
     "execution_count": 16,
     "metadata": {},
     "output_type": "execute_result"
    }
   ],
   "source": [
    "log_tfidf_metrics = {\n",
    "    'Modelo': 'Regressão Logísitca + TF-IDF',\n",
    "    'Acurácia': accuracy_score(tfidf_y_test, tfidf_y_pred),\n",
    "    'Precisão': precision_score(tfidf_y_test, tfidf_y_pred),\n",
    "    'Recall': recall_score(tfidf_y_test, tfidf_y_pred),\n",
    "    'F1 Score': f1_score(tfidf_y_test, tfidf_y_pred)\n",
    "}\n",
    "log_tfidf_metrics"
   ]
  },
  {
   "cell_type": "markdown",
   "metadata": {
    "colab_type": "text",
    "id": "6vZ6mVLMkEKq"
   },
   "source": [
    "Treinamento (Count Vectorizer):"
   ]
  },
  {
   "cell_type": "code",
   "execution_count": 17,
   "metadata": {
    "colab": {
     "base_uri": "https://localhost:8080/",
     "height": 156
    },
    "colab_type": "code",
    "executionInfo": {
     "elapsed": 11900,
     "status": "ok",
     "timestamp": 1593830071740,
     "user": {
      "displayName": "Hugo Tallys Martins Oliveira",
      "photoUrl": "",
      "userId": "01749757928754934577"
     },
     "user_tz": 180
    },
    "id": "cRkCKdCukEKy",
    "outputId": "5235f811-2d30-4ea2-b51c-cf05ae02c0cd"
   },
   "outputs": [],
   "source": [
    "classifier = LogisticRegression().fit(count_X_train.toarray(), count_y_train)"
   ]
  },
  {
   "cell_type": "markdown",
   "metadata": {
    "colab_type": "text",
    "id": "NoIlbGxZkELG"
   },
   "source": [
    "Resultado da predição (Count Vectorizer):"
   ]
  },
  {
   "cell_type": "code",
   "execution_count": 18,
   "metadata": {
    "colab": {},
    "colab_type": "code",
    "executionInfo": {
     "elapsed": 11893,
     "status": "ok",
     "timestamp": 1593830071742,
     "user": {
      "displayName": "Hugo Tallys Martins Oliveira",
      "photoUrl": "",
      "userId": "01749757928754934577"
     },
     "user_tz": 180
    },
    "id": "wGJoc9R8kELI"
   },
   "outputs": [],
   "source": [
    "count_y_pred = classifier.predict(count_X_test.toarray())"
   ]
  },
  {
   "cell_type": "markdown",
   "metadata": {
    "colab_type": "text",
    "id": "cW2PDTb0kELP"
   },
   "source": [
    "Matriz de confusão (Count Vectorizer):"
   ]
  },
  {
   "cell_type": "code",
   "execution_count": 19,
   "metadata": {
    "colab": {
     "base_uri": "https://localhost:8080/",
     "height": 279
    },
    "colab_type": "code",
    "executionInfo": {
     "elapsed": 11888,
     "status": "ok",
     "timestamp": 1593830071744,
     "user": {
      "displayName": "Hugo Tallys Martins Oliveira",
      "photoUrl": "",
      "userId": "01749757928754934577"
     },
     "user_tz": 180
    },
    "id": "oR5sGuqckELW",
    "outputId": "f97dd1b0-ad55-4ca1-f63f-c4355cf808a4"
   },
   "outputs": [
    {
     "data": {
      "image/png": "[encoded data removed]",
      "text/plain": [
       "<Figure size 432x288 with 2 Axes>"
      ]
     },
     "metadata": {
      "needs_background": "light"
     },
     "output_type": "display_data"
    }
   ],
   "source": [
    "plot_confusion_matrix(classifier, count_X_test.toarray(), count_y_test)\n",
    "pyplot.show()"
   ]
  },
  {
   "cell_type": "markdown",
   "metadata": {
    "colab_type": "text",
    "id": "7P9FYTiqkELd"
   },
   "source": [
    "Métricas de validação (Count Vectorizer):"
   ]
  },
  {
   "cell_type": "code",
   "execution_count": 20,
   "metadata": {
    "colab": {
     "base_uri": "https://localhost:8080/",
     "height": 104
    },
    "colab_type": "code",
    "executionInfo": {
     "elapsed": 11880,
     "status": "ok",
     "timestamp": 1593830071745,
     "user": {
      "displayName": "Hugo Tallys Martins Oliveira",
      "photoUrl": "",
      "userId": "01749757928754934577"
     },
     "user_tz": 180
    },
    "id": "vbgiJzv6kELl",
    "outputId": "1da43f07-0bc7-4559-9c86-05df4a296c38"
   },
   "outputs": [
    {
     "data": {
      "text/plain": [
       "{'Modelo': 'Regressão Logísitca + Count Vectorizer',\n",
       " 'Acurácia': 0.8571428571428571,\n",
       " 'Precisão': 0.8135593220338984,\n",
       " 'Recall': 0.9230769230769231,\n",
       " 'F1 Score': 0.8648648648648649}"
      ]
     },
     "execution_count": 20,
     "metadata": {},
     "output_type": "execute_result"
    }
   ],
   "source": [
    "log_count_metrics = {\n",
    "    'Modelo': 'Regressão Logísitca + Count Vectorizer',\n",
    "    'Acurácia': accuracy_score(count_y_test, count_y_pred),\n",
    "    'Precisão': precision_score(count_y_test, count_y_pred),\n",
    "    'Recall': recall_score(count_y_test, count_y_pred),\n",
    "    'F1 Score': f1_score(count_y_test, count_y_pred)\n",
    "}\n",
    "log_count_metrics"
   ]
  },
  {
   "cell_type": "markdown",
   "metadata": {
    "colab_type": "text",
    "id": "9VbZsUJYkvpA"
   },
   "source": [
    "### Naive Bayes"
   ]
  },
  {
   "cell_type": "code",
   "execution_count": 21,
   "metadata": {
    "colab": {},
    "colab_type": "code",
    "executionInfo": {
     "elapsed": 11873,
     "status": "ok",
     "timestamp": 1593830071747,
     "user": {
      "displayName": "Hugo Tallys Martins Oliveira",
      "photoUrl": "",
      "userId": "01749757928754934577"
     },
     "user_tz": 180
    },
    "id": "cX0aL1aYkELq"
   },
   "outputs": [],
   "source": [
    "from sklearn.naive_bayes import MultinomialNB"
   ]
  },
  {
   "cell_type": "markdown",
   "metadata": {
    "colab_type": "text",
    "id": "T8ROq-90lJD3"
   },
   "source": [
    "Treinamento (TF-IFD):"
   ]
  },
  {
   "cell_type": "code",
   "execution_count": 22,
   "metadata": {
    "colab": {},
    "colab_type": "code",
    "executionInfo": {
     "elapsed": 16329,
     "status": "ok",
     "timestamp": 1593830076207,
     "user": {
      "displayName": "Hugo Tallys Martins Oliveira",
      "photoUrl": "",
      "userId": "01749757928754934577"
     },
     "user_tz": 180
    },
    "id": "OQg9GeiolJD8"
   },
   "outputs": [],
   "source": [
    "classifier = MultinomialNB().fit(tfidf_X_train.toarray(), tfidf_y_train)"
   ]
  },
  {
   "cell_type": "markdown",
   "metadata": {
    "colab_type": "text",
    "id": "hl6Qb2RZlJEK"
   },
   "source": [
    "Resultado da predição (TF-IDF):"
   ]
  },
  {
   "cell_type": "code",
   "execution_count": 23,
   "metadata": {
    "colab": {},
    "colab_type": "code",
    "executionInfo": {
     "elapsed": 16665,
     "status": "ok",
     "timestamp": 1593830076548,
     "user": {
      "displayName": "Hugo Tallys Martins Oliveira",
      "photoUrl": "",
      "userId": "01749757928754934577"
     },
     "user_tz": 180
    },
    "id": "m4bwTNkRlJEM"
   },
   "outputs": [],
   "source": [
    "tfidf_y_pred = classifier.predict(tfidf_X_test.toarray())"
   ]
  },
  {
   "cell_type": "markdown",
   "metadata": {
    "colab_type": "text",
    "id": "9G-3RjnjlJEX"
   },
   "source": [
    "Matriz de confusão (TF-IDF):"
   ]
  },
  {
   "cell_type": "code",
   "execution_count": 24,
   "metadata": {
    "colab": {
     "base_uri": "https://localhost:8080/",
     "height": 279
    },
    "colab_type": "code",
    "executionInfo": {
     "elapsed": 17043,
     "status": "ok",
     "timestamp": 1593830076933,
     "user": {
      "displayName": "Hugo Tallys Martins Oliveira",
      "photoUrl": "",
      "userId": "01749757928754934577"
     },
     "user_tz": 180
    },
    "id": "jje2OU7ZlJEe",
    "outputId": "c8a1558d-e02a-4502-cdb2-91fd1dfb76b9"
   },
   "outputs": [
    {
     "data": {
      "image/png": "[encoded data removed]",
      "text/plain": [
       "<Figure size 432x288 with 2 Axes>"
      ]
     },
     "metadata": {
      "needs_background": "light"
     },
     "output_type": "display_data"
    }
   ],
   "source": [
    "plot_confusion_matrix(classifier, tfidf_X_test.toarray(), tfidf_y_test)\n",
    "pyplot.show()"
   ]
  },
  {
   "cell_type": "markdown",
   "metadata": {
    "colab_type": "text",
    "id": "Qaxg7d2dlJEl"
   },
   "source": [
    "Métricas de validação (TF-IDF):"
   ]
  },
  {
   "cell_type": "code",
   "execution_count": 25,
   "metadata": {
    "colab": {
     "base_uri": "https://localhost:8080/",
     "height": 159
    },
    "colab_type": "code",
    "executionInfo": {
     "elapsed": 17036,
     "status": "ok",
     "timestamp": 1593830076936,
     "user": {
      "displayName": "Hugo Tallys Martins Oliveira",
      "photoUrl": "",
      "userId": "01749757928754934577"
     },
     "user_tz": 180
    },
    "id": "6VJMGSmylJEs",
    "outputId": "29238084-6adb-4f7e-d9fc-42cd43a44ac0"
   },
   "outputs": [
    {
     "data": {
      "text/plain": [
       "{'Modelo': 'Naive Bayes + TF-IDF',\n",
       " 'Acurácia': 0.6476190476190476,\n",
       " 'Precisão': 0.967741935483871,\n",
       " 'Recall': 0.2912621359223301,\n",
       " 'F1 Score': 0.44776119402985076}"
      ]
     },
     "execution_count": 25,
     "metadata": {},
     "output_type": "execute_result"
    }
   ],
   "source": [
    "nai_tfidf_metrics = {\n",
    "    'Modelo': 'Naive Bayes + TF-IDF',\n",
    "    'Acurácia': accuracy_score(tfidf_y_test, tfidf_y_pred),\n",
    "    'Precisão': precision_score(tfidf_y_test, tfidf_y_pred),\n",
    "    'Recall': recall_score(tfidf_y_test, tfidf_y_pred),\n",
    "    'F1 Score': f1_score(tfidf_y_test, tfidf_y_pred)\n",
    "}\n",
    "nai_tfidf_metrics"
   ]
  },
  {
   "cell_type": "markdown",
   "metadata": {
    "colab_type": "text",
    "id": "N185AwRblJEy"
   },
   "source": [
    "Treinamento (Count Vectorizer):"
   ]
  },
  {
   "cell_type": "code",
   "execution_count": 26,
   "metadata": {
    "colab": {},
    "colab_type": "code",
    "executionInfo": {
     "elapsed": 17032,
     "status": "ok",
     "timestamp": 1593830076939,
     "user": {
      "displayName": "Hugo Tallys Martins Oliveira",
      "photoUrl": "",
      "userId": "01749757928754934577"
     },
     "user_tz": 180
    },
    "id": "YbzhKPaUlJEz"
   },
   "outputs": [],
   "source": [
    "classifier = MultinomialNB().fit(count_X_train.toarray(), count_y_train)"
   ]
  },
  {
   "cell_type": "markdown",
   "metadata": {
    "colab_type": "text",
    "id": "iC2s8w0QlJE4"
   },
   "source": [
    "Resultado da predição (Count Vectorizer):"
   ]
  },
  {
   "cell_type": "code",
   "execution_count": 27,
   "metadata": {
    "colab": {},
    "colab_type": "code",
    "executionInfo": {
     "elapsed": 17397,
     "status": "ok",
     "timestamp": 1593830077311,
     "user": {
      "displayName": "Hugo Tallys Martins Oliveira",
      "photoUrl": "",
      "userId": "01749757928754934577"
     },
     "user_tz": 180
    },
    "id": "CtWG5cxhlJE5"
   },
   "outputs": [],
   "source": [
    "count_y_pred = classifier.predict(count_X_test.toarray())"
   ]
  },
  {
   "cell_type": "markdown",
   "metadata": {
    "colab_type": "text",
    "id": "ivw5ad_MlJE_"
   },
   "source": [
    "Matriz de confusão (Count Vectorizer):"
   ]
  },
  {
   "cell_type": "code",
   "execution_count": 28,
   "metadata": {
    "colab": {
     "base_uri": "https://localhost:8080/",
     "height": 36
    },
    "colab_type": "code",
    "executionInfo": {
     "elapsed": 17389,
     "status": "ok",
     "timestamp": 1593830077313,
     "user": {
      "displayName": "Hugo Tallys Martins Oliveira",
      "photoUrl": "",
      "userId": "01749757928754934577"
     },
     "user_tz": 180
    },
    "id": "OE7HuSwBlJFB",
    "outputId": "69794465-98a0-4f5f-fdde-21168f696d75"
   },
   "outputs": [
    {
     "data": {
      "image/png": "[encoded data removed]",
      "text/plain": [
       "<Figure size 432x288 with 2 Axes>"
      ]
     },
     "metadata": {
      "needs_background": "light"
     },
     "output_type": "display_data"
    }
   ],
   "source": [
    "plot_confusion_matrix(classifier, count_X_test.toarray(), count_y_test)\n",
    "pyplot.show()"
   ]
  },
  {
   "cell_type": "markdown",
   "metadata": {
    "colab_type": "text",
    "id": "2MDqULWIlJFG"
   },
   "source": [
    "Métricas de validação (Count Vectorizer):"
   ]
  },
  {
   "cell_type": "code",
   "execution_count": 29,
   "metadata": {
    "colab": {
     "base_uri": "https://localhost:8080/",
     "height": 71
    },
    "colab_type": "code",
    "executionInfo": {
     "elapsed": 17385,
     "status": "ok",
     "timestamp": 1593830077316,
     "user": {
      "displayName": "Hugo Tallys Martins Oliveira",
      "photoUrl": "",
      "userId": "01749757928754934577"
     },
     "user_tz": 180
    },
    "id": "O4KCD3kulJFH",
    "outputId": "73c8720c-7eae-4eda-b188-27d8bd82ab9a"
   },
   "outputs": [
    {
     "data": {
      "text/plain": [
       "{'Modelo': 'Naive Bayes + Count Vectorizer',\n",
       " 'Acurácia': 0.7333333333333333,\n",
       " 'Precisão': 0.9615384615384616,\n",
       " 'Recall': 0.4807692307692308,\n",
       " 'F1 Score': 0.6410256410256411}"
      ]
     },
     "execution_count": 29,
     "metadata": {},
     "output_type": "execute_result"
    }
   ],
   "source": [
    "nai_count_metrics = {\n",
    "    'Modelo': 'Naive Bayes + Count Vectorizer',\n",
    "    'Acurácia': accuracy_score(count_y_test, count_y_pred),\n",
    "    'Precisão': precision_score(count_y_test, count_y_pred),\n",
    "    'Recall': recall_score(count_y_test, count_y_pred),\n",
    "    'F1 Score': f1_score(count_y_test, count_y_pred)\n",
    "}\n",
    "nai_count_metrics"
   ]
  },
  {
   "cell_type": "markdown",
   "metadata": {
    "colab_type": "text",
    "id": "xA7BC0anqIFa"
   },
   "source": [
    "### Support Vector Machines (SVM)"
   ]
  },
  {
   "cell_type": "markdown",
   "metadata": {
    "colab_type": "text",
    "id": "YxuIU7W5qQAJ"
   },
   "source": [
    "Treinamento (TF-IFD):"
   ]
  },
  {
   "cell_type": "code",
   "execution_count": 30,
   "metadata": {},
   "outputs": [],
   "source": [
    "from sklearn.svm import SVC"
   ]
  },
  {
   "cell_type": "code",
   "execution_count": 31,
   "metadata": {
    "colab": {},
    "colab_type": "code",
    "executionInfo": {
     "elapsed": 2221,
     "status": "ok",
     "timestamp": 1593830216900,
     "user": {
      "displayName": "Hugo Tallys Martins Oliveira",
      "photoUrl": "",
      "userId": "01749757928754934577"
     },
     "user_tz": 180
    },
    "id": "NzUajmDyqQAX"
   },
   "outputs": [],
   "source": [
    "classifier = SVC().fit(tfidf_X_train.toarray(), tfidf_y_train)"
   ]
  },
  {
   "cell_type": "markdown",
   "metadata": {
    "colab_type": "text",
    "id": "yDsmsKv1qQAq"
   },
   "source": [
    "Resultado da predição (TF-IDF):"
   ]
  },
  {
   "cell_type": "code",
   "execution_count": 32,
   "metadata": {
    "colab": {},
    "colab_type": "code",
    "executionInfo": {
     "elapsed": 8769,
     "status": "ok",
     "timestamp": 1593830226136,
     "user": {
      "displayName": "Hugo Tallys Martins Oliveira",
      "photoUrl": "",
      "userId": "01749757928754934577"
     },
     "user_tz": 180
    },
    "id": "FhsM1sjuqQAt"
   },
   "outputs": [],
   "source": [
    "tfidf_y_pred = classifier.predict(tfidf_X_test.toarray())"
   ]
  },
  {
   "cell_type": "markdown",
   "metadata": {
    "colab_type": "text",
    "id": "Gdp0sXTbqQA5"
   },
   "source": [
    "Matriz de confusão (TF-IDF):"
   ]
  },
  {
   "cell_type": "code",
   "execution_count": 33,
   "metadata": {
    "colab": {
     "base_uri": "https://localhost:8080/",
     "height": 279
    },
    "colab_type": "code",
    "executionInfo": {
     "elapsed": 8912,
     "status": "ok",
     "timestamp": 1593830235071,
     "user": {
      "displayName": "Hugo Tallys Martins Oliveira",
      "photoUrl": "",
      "userId": "01749757928754934577"
     },
     "user_tz": 180
    },
    "id": "lGLunsTHqQBB",
    "outputId": "2254e500-7364-4e77-af48-15c60c8ff057"
   },
   "outputs": [
    {
     "data": {
      "image/png": "[encoded data removed]",
      "text/plain": [
       "<Figure size 432x288 with 2 Axes>"
      ]
     },
     "metadata": {
      "needs_background": "light"
     },
     "output_type": "display_data"
    }
   ],
   "source": [
    "plot_confusion_matrix(classifier, tfidf_X_test.toarray(), tfidf_y_test)\n",
    "pyplot.show()"
   ]
  },
  {
   "cell_type": "markdown",
   "metadata": {
    "colab_type": "text",
    "id": "HAWsE3qiqQBI"
   },
   "source": [
    "Métricas de validação (TF-IDF):"
   ]
  },
  {
   "cell_type": "code",
   "execution_count": 35,
   "metadata": {
    "colab": {
     "base_uri": "https://localhost:8080/",
     "height": 104
    },
    "colab_type": "code",
    "executionInfo": {
     "elapsed": 846,
     "status": "ok",
     "timestamp": 1593830244839,
     "user": {
      "displayName": "Hugo Tallys Martins Oliveira",
      "photoUrl": "",
      "userId": "01749757928754934577"
     },
     "user_tz": 180
    },
    "id": "8cteaBrEqQBQ",
    "outputId": "04f80ffb-dca2-4c6f-f80c-94a37c39311e"
   },
   "outputs": [
    {
     "data": {
      "text/plain": [
       "{'Modelo': 'SVM + TF-IDF',\n",
       " 'Acurácia': 0.8666666666666667,\n",
       " 'Precisão': 0.8260869565217391,\n",
       " 'Recall': 0.9223300970873787,\n",
       " 'F1 Score': 0.8715596330275228}"
      ]
     },
     "execution_count": 35,
     "metadata": {},
     "output_type": "execute_result"
    }
   ],
   "source": [
    "svm_tfidf_metrics = {\n",
    "    'Modelo': 'SVM + TF-IDF',\n",
    "    'Acurácia': accuracy_score(tfidf_y_test, tfidf_y_pred),\n",
    "    'Precisão': precision_score(tfidf_y_test, tfidf_y_pred),\n",
    "    'Recall': recall_score(tfidf_y_test, tfidf_y_pred),\n",
    "    'F1 Score': f1_score(tfidf_y_test, tfidf_y_pred)\n",
    "}\n",
    "svm_tfidf_metrics"
   ]
  },
  {
   "cell_type": "markdown",
   "metadata": {
    "colab_type": "text",
    "id": "0g5hTAywqQBX"
   },
   "source": [
    "Treinamento (Count Vectorizer):"
   ]
  },
  {
   "cell_type": "code",
   "execution_count": 36,
   "metadata": {
    "colab": {},
    "colab_type": "code",
    "executionInfo": {
     "elapsed": 2437,
     "status": "ok",
     "timestamp": 1593830267620,
     "user": {
      "displayName": "Hugo Tallys Martins Oliveira",
      "photoUrl": "",
      "userId": "01749757928754934577"
     },
     "user_tz": 180
    },
    "id": "edfSaFocqQBY"
   },
   "outputs": [],
   "source": [
    "classifier = SVC().fit(count_X_train.toarray(), count_y_train)"
   ]
  },
  {
   "cell_type": "markdown",
   "metadata": {
    "colab_type": "text",
    "id": "8wBeaUmvqQBe"
   },
   "source": [
    "Resultado da predição (Count Vectorizer):"
   ]
  },
  {
   "cell_type": "code",
   "execution_count": 37,
   "metadata": {
    "colab": {},
    "colab_type": "code",
    "executionInfo": {
     "elapsed": 5859,
     "status": "ok",
     "timestamp": 1593830281203,
     "user": {
      "displayName": "Hugo Tallys Martins Oliveira",
      "photoUrl": "",
      "userId": "01749757928754934577"
     },
     "user_tz": 180
    },
    "id": "XV-c6kBeqQBf"
   },
   "outputs": [],
   "source": [
    "count_y_pred = classifier.predict(count_X_test.toarray())"
   ]
  },
  {
   "cell_type": "markdown",
   "metadata": {
    "colab_type": "text",
    "id": "y5ujrFXKqQBl"
   },
   "source": [
    "Matriz de confusão (Count Vectorizer):"
   ]
  },
  {
   "cell_type": "code",
   "execution_count": 38,
   "metadata": {
    "colab": {
     "base_uri": "https://localhost:8080/",
     "height": 279
    },
    "colab_type": "code",
    "executionInfo": {
     "elapsed": 6063,
     "status": "ok",
     "timestamp": 1593830272741,
     "user": {
      "displayName": "Hugo Tallys Martins Oliveira",
      "photoUrl": "",
      "userId": "01749757928754934577"
     },
     "user_tz": 180
    },
    "id": "uouWlL6kqQBm",
    "outputId": "64caa3d2-289d-47a3-9c89-90f96803f439"
   },
   "outputs": [
    {
     "data": {
      "image/png": "[encoded data removed]",
      "text/plain": [
       "<Figure size 432x288 with 2 Axes>"
      ]
     },
     "metadata": {
      "needs_background": "light"
     },
     "output_type": "display_data"
    }
   ],
   "source": [
    "plot_confusion_matrix(classifier, count_X_test.toarray(), count_y_test)\n",
    "pyplot.show()"
   ]
  },
  {
   "cell_type": "markdown",
   "metadata": {
    "colab_type": "text",
    "id": "O1qp1O2yqQBq"
   },
   "source": [
    "Métricas de validação (Count Vectorizer):"
   ]
  },
  {
   "cell_type": "code",
   "execution_count": 39,
   "metadata": {
    "colab": {
     "base_uri": "https://localhost:8080/",
     "height": 104
    },
    "colab_type": "code",
    "executionInfo": {
     "elapsed": 1042,
     "status": "ok",
     "timestamp": 1593830282270,
     "user": {
      "displayName": "Hugo Tallys Martins Oliveira",
      "photoUrl": "",
      "userId": "01749757928754934577"
     },
     "user_tz": 180
    },
    "id": "ZC97lff2qQBs",
    "outputId": "e8409b66-6a2f-485b-c929-06333602258d"
   },
   "outputs": [
    {
     "data": {
      "text/plain": [
       "{'Modelo': 'SVM + Count Vectorizer',\n",
       " 'Acurácia': 0.7619047619047619,\n",
       " 'Precisão': 0.7109375,\n",
       " 'Recall': 0.875,\n",
       " 'F1 Score': 0.7844827586206896}"
      ]
     },
     "execution_count": 39,
     "metadata": {},
     "output_type": "execute_result"
    }
   ],
   "source": [
    "svm_count_metrics = {\n",
    "    'Modelo': 'SVM + Count Vectorizer',\n",
    "    'Acurácia': accuracy_score(count_y_test, count_y_pred),\n",
    "    'Precisão': precision_score(count_y_test, count_y_pred),\n",
    "    'Recall': recall_score(count_y_test, count_y_pred),\n",
    "    'F1 Score': f1_score(count_y_test, count_y_pred)\n",
    "}\n",
    "svm_count_metrics"
   ]
  },
  {
   "cell_type": "markdown",
   "metadata": {
    "colab_type": "text",
    "id": "3Kq2uG9zgHQF"
   },
   "source": [
    "Comparando os classificadores:"
   ]
  },
  {
   "cell_type": "code",
   "execution_count": 41,
   "metadata": {
    "colab": {
     "base_uri": "https://localhost:8080/",
     "height": 206
    },
    "colab_type": "code",
    "executionInfo": {
     "elapsed": 1026,
     "status": "ok",
     "timestamp": 1593830288275,
     "user": {
      "displayName": "Hugo Tallys Martins Oliveira",
      "photoUrl": "",
      "userId": "01749757928754934577"
     },
     "user_tz": 180
    },
    "id": "BHVRLgWmmvdS",
    "outputId": "33ca3a6c-59b0-47db-d7ee-9453b3cead2a"
   },
   "outputs": [
    {
     "data": {
      "text/html": [
       "<div>\n",
       "<style scoped>\n",
       "    .dataframe tbody tr th:only-of-type {\n",
       "        vertical-align: middle;\n",
       "    }\n",
       "\n",
       "    .dataframe tbody tr th {\n",
       "        vertical-align: top;\n",
       "    }\n",
       "\n",
       "    .dataframe thead th {\n",
       "        text-align: right;\n",
       "    }\n",
       "</style>\n",
       "<table border=\"1\" class=\"dataframe\">\n",
       "  <thead>\n",
       "    <tr style=\"text-align: right;\">\n",
       "      <th></th>\n",
       "      <th>Modelo</th>\n",
       "      <th>Acurácia</th>\n",
       "      <th>Precisão</th>\n",
       "      <th>Recall</th>\n",
       "      <th>F1 Score</th>\n",
       "    </tr>\n",
       "  </thead>\n",
       "  <tbody>\n",
       "    <tr>\n",
       "      <th>0</th>\n",
       "      <td>Regressão Logísitca + TF-IDF</td>\n",
       "      <td>0.871429</td>\n",
       "      <td>0.827586</td>\n",
       "      <td>0.932039</td>\n",
       "      <td>0.876712</td>\n",
       "    </tr>\n",
       "    <tr>\n",
       "      <th>1</th>\n",
       "      <td>Regressão Logísitca + Count Vectorizer</td>\n",
       "      <td>0.857143</td>\n",
       "      <td>0.813559</td>\n",
       "      <td>0.923077</td>\n",
       "      <td>0.864865</td>\n",
       "    </tr>\n",
       "    <tr>\n",
       "      <th>2</th>\n",
       "      <td>Naive Bayes + TF-IDF</td>\n",
       "      <td>0.647619</td>\n",
       "      <td>0.967742</td>\n",
       "      <td>0.291262</td>\n",
       "      <td>0.447761</td>\n",
       "    </tr>\n",
       "    <tr>\n",
       "      <th>3</th>\n",
       "      <td>Naive Bayes + Count Vectorizer</td>\n",
       "      <td>0.733333</td>\n",
       "      <td>0.961538</td>\n",
       "      <td>0.480769</td>\n",
       "      <td>0.641026</td>\n",
       "    </tr>\n",
       "    <tr>\n",
       "      <th>4</th>\n",
       "      <td>SVM + TF-IDF</td>\n",
       "      <td>0.866667</td>\n",
       "      <td>0.826087</td>\n",
       "      <td>0.922330</td>\n",
       "      <td>0.871560</td>\n",
       "    </tr>\n",
       "    <tr>\n",
       "      <th>5</th>\n",
       "      <td>SVM + Count Vectorizer</td>\n",
       "      <td>0.761905</td>\n",
       "      <td>0.710938</td>\n",
       "      <td>0.875000</td>\n",
       "      <td>0.784483</td>\n",
       "    </tr>\n",
       "  </tbody>\n",
       "</table>\n",
       "</div>"
      ],
      "text/plain": [
       "                                   Modelo  Acurácia  Precisão    Recall  \\\n",
       "0            Regressão Logísitca + TF-IDF  0.871429  0.827586  0.932039   \n",
       "1  Regressão Logísitca + Count Vectorizer  0.857143  0.813559  0.923077   \n",
       "2                    Naive Bayes + TF-IDF  0.647619  0.967742  0.291262   \n",
       "3          Naive Bayes + Count Vectorizer  0.733333  0.961538  0.480769   \n",
       "4                            SVM + TF-IDF  0.866667  0.826087  0.922330   \n",
       "5                  SVM + Count Vectorizer  0.761905  0.710938  0.875000   \n",
       "\n",
       "   F1 Score  \n",
       "0  0.876712  \n",
       "1  0.864865  \n",
       "2  0.447761  \n",
       "3  0.641026  \n",
       "4  0.871560  \n",
       "5  0.784483  "
      ]
     },
     "execution_count": 41,
     "metadata": {},
     "output_type": "execute_result"
    }
   ],
   "source": [
    "pandas.DataFrame([log_tfidf_metrics, log_count_metrics, nai_tfidf_metrics, nai_count_metrics, svm_tfidf_metrics, svm_count_metrics])"
   ]
  }
 ],
 "metadata": {
  "colab": {
   "name": "Processamento de linguagem natural - 3ª lista de exercícios.ipynb",
   "provenance": []
  },
  "kernelspec": {
   "display_name": "Python 3",
   "language": "python",
   "name": "python3"
  },
  "language_info": {
   "codemirror_mode": {
    "name": "ipython",
    "version": 3
   },
   "file_extension": ".py",
   "mimetype": "text/x-python",
   "name": "python",
   "nbconvert_exporter": "python",
   "pygments_lexer": "ipython3",
   "version": "3.7.6"
  }
 },
 "nbformat": 4,
 "nbformat_minor": 4
}
